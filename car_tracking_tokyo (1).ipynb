{
 "cells": [
  {
   "cell_type": "code",
   "execution_count": 29,
   "metadata": {},
   "outputs": [
    {
     "name": "stdout",
     "output_type": "stream",
     "text": [
      "(920, 488)\n"
     ]
    },
    {
     "name": "stderr",
     "output_type": "stream",
     "text": [
      "\n",
      "0: 352x640 1 person, 8 cars, 2 buss, 67.1ms\n",
      "Speed: 2.5ms preprocess, 67.1ms inference, 1.0ms postprocess per image at shape (1, 3, 352, 640)\n"
     ]
    },
    {
     "name": "stdout",
     "output_type": "stream",
     "text": [
      "[]\n",
      "{673: 1, 668: 1}\n"
     ]
    },
    {
     "name": "stderr",
     "output_type": "stream",
     "text": [
      "\n",
      "0: 352x640 9 cars, 2 buss, 64.4ms\n",
      "Speed: 2.5ms preprocess, 64.4ms inference, 1.0ms postprocess per image at shape (1, 3, 352, 640)\n"
     ]
    },
    {
     "name": "stdout",
     "output_type": "stream",
     "text": [
      "[]\n",
      "{673: 2, 668: 2}\n"
     ]
    },
    {
     "name": "stderr",
     "output_type": "stream",
     "text": [
      "\n",
      "0: 352x640 9 cars, 2 buss, 63.8ms\n",
      "Speed: 2.0ms preprocess, 63.8ms inference, 1.0ms postprocess per image at shape (1, 3, 352, 640)\n",
      "\n",
      "0: 352x640 10 cars, 2 buss, 62.7ms\n",
      "Speed: 2.4ms preprocess, 62.7ms inference, 1.0ms postprocess per image at shape (1, 3, 352, 640)\n",
      "\n",
      "0: 352x640 8 cars, 2 buss, 61.0ms\n",
      "Speed: 1.0ms preprocess, 61.0ms inference, 2.0ms postprocess per image at shape (1, 3, 352, 640)\n",
      "\n"
     ]
    },
    {
     "name": "stdout",
     "output_type": "stream",
     "text": [
      "[]\n",
      "{673: 3, 668: 3}\n",
      "[]\n",
      "{673: 4, 668: 4}\n",
      "[]\n",
      "{673: 5, 668: 5}\n"
     ]
    },
    {
     "name": "stderr",
     "output_type": "stream",
     "text": [
      "0: 352x640 9 cars, 1 bus, 65.2ms\n",
      "Speed: 2.0ms preprocess, 65.2ms inference, 1.0ms postprocess per image at shape (1, 3, 352, 640)\n",
      "\n",
      "0: 352x640 8 cars, 1 bus, 65.3ms\n",
      "Speed: 2.0ms preprocess, 65.3ms inference, 1.0ms postprocess per image at shape (1, 3, 352, 640)\n",
      "\n",
      "0: 352x640 9 cars, 1 bus, 57.6ms\n",
      "Speed: 1.0ms preprocess, 57.6ms inference, 1.0ms postprocess per image at shape (1, 3, 352, 640)\n",
      "\n"
     ]
    },
    {
     "name": "stdout",
     "output_type": "stream",
     "text": [
      "[]\n",
      "{673: 6, 668: 6}\n",
      "[]\n",
      "{673: 7, 668: 7}\n",
      "[]\n",
      "{673: 8, 668: 8}\n"
     ]
    },
    {
     "name": "stderr",
     "output_type": "stream",
     "text": [
      "0: 352x640 11 cars, 1 bus, 61.4ms\n",
      "Speed: 2.0ms preprocess, 61.4ms inference, 1.0ms postprocess per image at shape (1, 3, 352, 640)\n",
      "\n",
      "0: 352x640 11 cars, 1 bus, 53.7ms\n",
      "Speed: 2.0ms preprocess, 53.7ms inference, 1.5ms postprocess per image at shape (1, 3, 352, 640)\n",
      "\n",
      "0: 352x640 11 cars, 1 bus, 59.9ms\n",
      "Speed: 2.0ms preprocess, 59.9ms inference, 2.0ms postprocess per image at shape (1, 3, 352, 640)\n",
      "\n"
     ]
    },
    {
     "name": "stdout",
     "output_type": "stream",
     "text": [
      "[]\n",
      "{673: 9, 668: 9}\n",
      "[]\n",
      "{673: 10, 668: 10}\n",
      "[]\n",
      "{673: 11, 668: 11}\n"
     ]
    },
    {
     "name": "stderr",
     "output_type": "stream",
     "text": [
      "0: 352x640 10 cars, 1 bus, 62.0ms\n",
      "Speed: 1.0ms preprocess, 62.0ms inference, 1.0ms postprocess per image at shape (1, 3, 352, 640)\n",
      "\n",
      "0: 352x640 9 cars, 1 bus, 55.3ms\n",
      "Speed: 1.0ms preprocess, 55.3ms inference, 1.0ms postprocess per image at shape (1, 3, 352, 640)\n",
      "\n",
      "0: 352x640 10 cars, 1 bus, 57.5ms\n",
      "Speed: 1.2ms preprocess, 57.5ms inference, 1.0ms postprocess per image at shape (1, 3, 352, 640)\n",
      "\n"
     ]
    },
    {
     "name": "stdout",
     "output_type": "stream",
     "text": [
      "[]\n",
      "{673: 12, 668: 12}\n",
      "[]\n",
      "{673: 13, 668: 13}\n",
      "[]\n",
      "{673: 14, 668: 14}\n"
     ]
    },
    {
     "name": "stderr",
     "output_type": "stream",
     "text": [
      "0: 352x640 10 cars, 1 bus, 63.4ms\n",
      "Speed: 2.0ms preprocess, 63.4ms inference, 2.0ms postprocess per image at shape (1, 3, 352, 640)\n",
      "\n",
      "0: 352x640 9 cars, 1 bus, 58.1ms\n",
      "Speed: 2.0ms preprocess, 58.1ms inference, 2.0ms postprocess per image at shape (1, 3, 352, 640)\n",
      "\n",
      "0: 352x640 10 cars, 1 bus, 55.4ms\n",
      "Speed: 2.0ms preprocess, 55.4ms inference, 1.0ms postprocess per image at shape (1, 3, 352, 640)\n",
      "\n"
     ]
    },
    {
     "name": "stdout",
     "output_type": "stream",
     "text": [
      "[]\n",
      "{673: 15, 668: 15}\n",
      "[]\n",
      "{673: 16, 668: 16}\n",
      "[]\n",
      "{673: 17, 668: 17, 678: 1}\n"
     ]
    },
    {
     "name": "stderr",
     "output_type": "stream",
     "text": [
      "0: 352x640 9 cars, 1 bus, 64.1ms\n",
      "Speed: 2.2ms preprocess, 64.1ms inference, 1.0ms postprocess per image at shape (1, 3, 352, 640)\n",
      "\n",
      "0: 352x640 9 cars, 1 bus, 62.9ms\n",
      "Speed: 1.0ms preprocess, 62.9ms inference, 1.0ms postprocess per image at shape (1, 3, 352, 640)\n",
      "\n",
      "0: 352x640 9 cars, 1 bus, 63.7ms\n",
      "Speed: 1.2ms preprocess, 63.7ms inference, 1.0ms postprocess per image at shape (1, 3, 352, 640)\n",
      "\n"
     ]
    },
    {
     "name": "stdout",
     "output_type": "stream",
     "text": [
      "[]\n",
      "{673: 18, 668: 18, 678: 2, 679: 1}\n",
      "[]\n",
      "{673: 19, 668: 18, 678: 3, 679: 2}\n",
      "[]\n",
      "{673: 20, 668: 18, 678: 4, 679: 3}\n"
     ]
    },
    {
     "name": "stderr",
     "output_type": "stream",
     "text": [
      "0: 352x640 8 cars, 1 bus, 58.0ms\n",
      "Speed: 2.0ms preprocess, 58.0ms inference, 1.0ms postprocess per image at shape (1, 3, 352, 640)\n",
      "\n",
      "0: 352x640 7 cars, 1 bus, 51.6ms\n",
      "Speed: 2.0ms preprocess, 51.6ms inference, 1.0ms postprocess per image at shape (1, 3, 352, 640)\n",
      "\n",
      "0: 352x640 7 cars, 1 bus, 53.4ms\n",
      "Speed: 2.1ms preprocess, 53.4ms inference, 1.0ms postprocess per image at shape (1, 3, 352, 640)\n",
      "\n"
     ]
    },
    {
     "name": "stdout",
     "output_type": "stream",
     "text": [
      "[]\n",
      "{673: 21, 668: 18, 678: 5, 679: 3}\n",
      "[]\n",
      "{673: 21, 668: 18, 678: 6, 679: 3}\n",
      "[]\n",
      "{673: 21, 668: 18, 678: 7, 679: 3}\n"
     ]
    },
    {
     "name": "stderr",
     "output_type": "stream",
     "text": [
      "0: 352x640 7 cars, 1 bus, 61.0ms\n",
      "Speed: 2.0ms preprocess, 61.0ms inference, 1.0ms postprocess per image at shape (1, 3, 352, 640)\n",
      "\n",
      "0: 352x640 6 cars, 3 buss, 1 truck, 58.5ms\n",
      "Speed: 2.3ms preprocess, 58.5ms inference, 1.0ms postprocess per image at shape (1, 3, 352, 640)\n",
      "\n",
      "0: 352x640 6 cars, 3 buss, 1 truck, 65.0ms\n",
      "Speed: 1.0ms preprocess, 65.0ms inference, 1.0ms postprocess per image at shape (1, 3, 352, 640)\n",
      "\n"
     ]
    },
    {
     "name": "stdout",
     "output_type": "stream",
     "text": [
      "[]\n",
      "{673: 21, 668: 18, 678: 8, 679: 3}\n",
      "[]\n",
      "{673: 21, 668: 18, 678: 9, 679: 3}\n",
      "[]\n",
      "{673: 21, 668: 18, 678: 10, 679: 3}\n"
     ]
    },
    {
     "name": "stderr",
     "output_type": "stream",
     "text": [
      "0: 352x640 6 cars, 2 buss, 65.8ms\n",
      "Speed: 1.0ms preprocess, 65.8ms inference, 1.0ms postprocess per image at shape (1, 3, 352, 640)\n",
      "\n",
      "0: 352x640 6 cars, 2 buss, 63.7ms\n",
      "Speed: 1.3ms preprocess, 63.7ms inference, 1.0ms postprocess per image at shape (1, 3, 352, 640)\n",
      "\n",
      "0: 352x640 7 cars, 3 buss, 1 truck, 63.1ms\n",
      "Speed: 2.0ms preprocess, 63.1ms inference, 1.0ms postprocess per image at shape (1, 3, 352, 640)\n",
      "\n"
     ]
    },
    {
     "name": "stdout",
     "output_type": "stream",
     "text": [
      "[]\n",
      "{673: 21, 668: 18, 678: 11, 679: 3, 682: 1}\n",
      "[]\n",
      "{673: 21, 668: 18, 678: 12, 679: 3, 682: 2}\n",
      "[]\n",
      "{673: 21, 668: 18, 678: 13, 679: 3, 682: 3}\n"
     ]
    },
    {
     "name": "stderr",
     "output_type": "stream",
     "text": [
      "0: 352x640 6 cars, 3 buss, 1 truck, 64.0ms\n",
      "Speed: 1.5ms preprocess, 64.0ms inference, 1.0ms postprocess per image at shape (1, 3, 352, 640)\n",
      "\n",
      "0: 352x640 7 cars, 3 buss, 1 truck, 55.5ms\n",
      "Speed: 1.4ms preprocess, 55.5ms inference, 1.0ms postprocess per image at shape (1, 3, 352, 640)\n",
      "\n",
      "0: 352x640 8 cars, 3 buss, 1 truck, 62.4ms\n",
      "Speed: 2.0ms preprocess, 62.4ms inference, 1.0ms postprocess per image at shape (1, 3, 352, 640)\n",
      "\n"
     ]
    },
    {
     "name": "stdout",
     "output_type": "stream",
     "text": [
      "[]\n",
      "{673: 21, 668: 18, 678: 14, 679: 3, 682: 4}\n",
      "[]\n",
      "{673: 21, 668: 18, 678: 15, 679: 3, 682: 5}\n",
      "[]\n",
      "{673: 21, 668: 18, 678: 16, 679: 3, 682: 6, 687: 1}\n"
     ]
    },
    {
     "name": "stderr",
     "output_type": "stream",
     "text": [
      "0: 352x640 9 cars, 2 buss, 1 truck, 52.5ms\n",
      "Speed: 1.0ms preprocess, 52.5ms inference, 1.0ms postprocess per image at shape (1, 3, 352, 640)\n",
      "\n",
      "0: 352x640 7 cars, 3 buss, 64.5ms\n",
      "Speed: 1.6ms preprocess, 64.5ms inference, 1.1ms postprocess per image at shape (1, 3, 352, 640)\n",
      "\n",
      "0: 352x640 8 cars, 2 buss, 58.5ms\n",
      "Speed: 3.0ms preprocess, 58.5ms inference, 1.0ms postprocess per image at shape (1, 3, 352, 640)\n",
      "\n"
     ]
    },
    {
     "name": "stdout",
     "output_type": "stream",
     "text": [
      "[]\n",
      "{673: 21, 668: 18, 678: 17, 679: 3, 682: 6, 687: 2, 689: 1}\n",
      "[]\n",
      "{673: 21, 668: 18, 678: 18, 679: 3, 682: 6, 687: 3, 689: 2}\n",
      "[]\n",
      "{673: 21, 668: 18, 678: 19, 679: 3, 682: 7, 687: 4, 689: 2}\n"
     ]
    },
    {
     "name": "stderr",
     "output_type": "stream",
     "text": [
      "0: 352x640 13 cars, 2 buss, 1 truck, 65.6ms\n",
      "Speed: 1.2ms preprocess, 65.6ms inference, 1.0ms postprocess per image at shape (1, 3, 352, 640)\n",
      "\n",
      "0: 352x640 12 cars, 2 buss, 1 truck, 63.2ms\n",
      "Speed: 1.0ms preprocess, 63.2ms inference, 1.0ms postprocess per image at shape (1, 3, 352, 640)\n",
      "\n",
      "0: 352x640 12 cars, 2 buss, 1 truck, 54.2ms\n",
      "Speed: 1.0ms preprocess, 54.2ms inference, 1.0ms postprocess per image at shape (1, 3, 352, 640)\n",
      "\n"
     ]
    },
    {
     "name": "stdout",
     "output_type": "stream",
     "text": [
      "[]\n",
      "{673: 21, 668: 18, 678: 20, 679: 3, 682: 8, 687: 5, 689: 2, 690: 1}\n",
      "[]\n",
      "{673: 21, 668: 18, 678: 21, 679: 3, 682: 9, 687: 6, 689: 2, 690: 2, 674: 1}\n",
      "[]\n",
      "{673: 21, 668: 18, 678: 22, 679: 3, 682: 10, 687: 6, 689: 2, 690: 3, 674: 2, 692: 1}\n"
     ]
    },
    {
     "name": "stderr",
     "output_type": "stream",
     "text": [
      "0: 352x640 12 cars, 1 bus, 1 truck, 60.3ms\n",
      "Speed: 2.0ms preprocess, 60.3ms inference, 1.0ms postprocess per image at shape (1, 3, 352, 640)\n",
      "\n",
      "0: 352x640 9 cars, 1 bus, 2 trucks, 60.6ms\n",
      "Speed: 1.0ms preprocess, 60.6ms inference, 1.0ms postprocess per image at shape (1, 3, 352, 640)\n",
      "\n",
      "0: 352x640 10 cars, 1 bus, 2 trucks, 64.5ms\n",
      "Speed: 1.5ms preprocess, 64.5ms inference, 1.0ms postprocess per image at shape (1, 3, 352, 640)\n",
      "\n"
     ]
    },
    {
     "name": "stdout",
     "output_type": "stream",
     "text": [
      "[]\n",
      "{673: 21, 668: 18, 678: 23, 679: 3, 682: 11, 687: 6, 689: 2, 690: 3, 674: 2, 692: 2}\n",
      "[]\n",
      "{673: 21, 668: 18, 678: 24, 679: 3, 682: 12, 687: 6, 689: 2, 690: 3, 674: 2, 692: 2, 694: 1}\n",
      "[]\n",
      "{673: 21, 668: 18, 678: 25, 679: 3, 682: 12, 687: 6, 689: 2, 690: 3, 674: 2, 692: 2, 694: 2}\n"
     ]
    },
    {
     "name": "stderr",
     "output_type": "stream",
     "text": [
      "0: 352x640 9 cars, 2 buss, 2 trucks, 54.8ms\n",
      "Speed: 1.0ms preprocess, 54.8ms inference, 1.0ms postprocess per image at shape (1, 3, 352, 640)\n",
      "\n",
      "0: 352x640 9 cars, 2 buss, 2 trucks, 62.6ms\n",
      "Speed: 2.0ms preprocess, 62.6ms inference, 1.0ms postprocess per image at shape (1, 3, 352, 640)\n",
      "\n",
      "0: 352x640 1 person, 9 cars, 3 buss, 2 trucks, 55.1ms\n",
      "Speed: 1.0ms preprocess, 55.1ms inference, 1.0ms postprocess per image at shape (1, 3, 352, 640)\n",
      "\n"
     ]
    },
    {
     "name": "stdout",
     "output_type": "stream",
     "text": [
      "[]\n",
      "{673: 21, 668: 18, 678: 26, 679: 3, 682: 12, 687: 6, 689: 2, 690: 3, 674: 2, 692: 2, 694: 2}\n",
      "[]\n",
      "{673: 21, 668: 18, 678: 27, 679: 3, 682: 12, 687: 6, 689: 2, 690: 3, 674: 2, 692: 2, 694: 2, 667: 1}\n",
      "[]\n",
      "{673: 21, 668: 18, 678: 28, 679: 3, 682: 12, 687: 6, 689: 2, 690: 3, 674: 2, 692: 2, 694: 2, 667: 2}\n"
     ]
    },
    {
     "name": "stderr",
     "output_type": "stream",
     "text": [
      "0: 352x640 1 person, 11 cars, 1 bus, 2 trucks, 55.3ms\n",
      "Speed: 1.2ms preprocess, 55.3ms inference, 1.0ms postprocess per image at shape (1, 3, 352, 640)\n",
      "\n",
      "0: 352x640 1 person, 10 cars, 1 bus, 2 trucks, 60.3ms\n",
      "Speed: 1.3ms preprocess, 60.3ms inference, 1.0ms postprocess per image at shape (1, 3, 352, 640)\n",
      "\n",
      "0: 352x640 1 person, 13 cars, 2 buss, 2 trucks, 61.5ms\n",
      "Speed: 2.0ms preprocess, 61.5ms inference, 1.4ms postprocess per image at shape (1, 3, 352, 640)\n",
      "\n"
     ]
    },
    {
     "name": "stdout",
     "output_type": "stream",
     "text": [
      "[]\n",
      "{673: 21, 668: 18, 678: 29, 679: 3, 682: 12, 687: 7, 689: 2, 690: 3, 674: 2, 692: 2, 694: 2, 667: 3, 676: 1}\n",
      "[]\n",
      "{673: 21, 668: 18, 678: 30, 679: 3, 682: 12, 687: 7, 689: 2, 690: 3, 674: 2, 692: 2, 694: 2, 667: 4, 676: 1}\n",
      "[678]\n",
      "{673: 21, 668: 18, 678: 31, 679: 3, 682: 12, 687: 7, 689: 2, 690: 3, 674: 2, 692: 2, 694: 2, 667: 5, 676: 1}\n"
     ]
    },
    {
     "name": "stderr",
     "output_type": "stream",
     "text": [
      "0: 352x640 1 person, 13 cars, 2 buss, 2 trucks, 60.3ms\n",
      "Speed: 2.0ms preprocess, 60.3ms inference, 2.0ms postprocess per image at shape (1, 3, 352, 640)\n",
      "\n",
      "0: 352x640 11 cars, 2 buss, 1 truck, 60.7ms\n",
      "Speed: 2.0ms preprocess, 60.7ms inference, 1.0ms postprocess per image at shape (1, 3, 352, 640)\n",
      "\n",
      "0: 352x640 10 cars, 2 buss, 2 trucks, 62.2ms\n",
      "Speed: 2.0ms preprocess, 62.2ms inference, 1.0ms postprocess per image at shape (1, 3, 352, 640)\n",
      "\n"
     ]
    },
    {
     "name": "stdout",
     "output_type": "stream",
     "text": [
      "[678, 678]\n",
      "{673: 21, 668: 18, 678: 32, 679: 3, 682: 12, 687: 8, 689: 2, 690: 3, 674: 2, 692: 3, 694: 2, 667: 6, 676: 1}\n",
      "[678, 678, 678]\n",
      "{673: 21, 668: 18, 678: 33, 679: 3, 682: 12, 687: 9, 689: 2, 690: 3, 674: 2, 692: 4, 694: 2, 667: 7, 676: 1}\n",
      "[678, 678, 678, 678]\n",
      "{673: 21, 668: 18, 678: 34, 679: 3, 682: 12, 687: 10, 689: 2, 690: 3, 674: 2, 692: 5, 694: 2, 667: 7, 676: 1}\n"
     ]
    },
    {
     "name": "stderr",
     "output_type": "stream",
     "text": [
      "0: 352x640 11 cars, 1 bus, 4 trucks, 56.8ms\n",
      "Speed: 2.0ms preprocess, 56.8ms inference, 1.0ms postprocess per image at shape (1, 3, 352, 640)\n",
      "\n",
      "0: 352x640 11 cars, 2 buss, 2 trucks, 61.5ms\n",
      "Speed: 1.4ms preprocess, 61.5ms inference, 1.0ms postprocess per image at shape (1, 3, 352, 640)\n",
      "\n",
      "0: 352x640 1 person, 14 cars, 1 bus, 2 trucks, 61.5ms\n",
      "Speed: 1.4ms preprocess, 61.5ms inference, 2.0ms postprocess per image at shape (1, 3, 352, 640)\n",
      "\n"
     ]
    },
    {
     "name": "stdout",
     "output_type": "stream",
     "text": [
      "[678, 678, 678, 678, 678]\n",
      "{673: 21, 668: 18, 678: 35, 679: 3, 682: 12, 687: 11, 689: 2, 690: 3, 674: 2, 692: 6, 694: 2, 667: 7, 676: 1}\n",
      "[678, 678, 678, 678, 678, 678]\n",
      "{673: 21, 668: 18, 678: 36, 679: 3, 682: 12, 687: 11, 689: 2, 690: 3, 674: 2, 692: 7, 694: 2, 667: 7, 676: 2}\n",
      "[678, 678, 678, 678, 678, 678, 678]\n",
      "{673: 21, 668: 18, 678: 37, 679: 3, 682: 12, 687: 11, 689: 2, 690: 3, 674: 2, 692: 8, 694: 2, 667: 7, 676: 3}\n"
     ]
    },
    {
     "name": "stderr",
     "output_type": "stream",
     "text": [
      "0: 352x640 10 cars, 1 bus, 1 truck, 60.6ms\n",
      "Speed: 1.0ms preprocess, 60.6ms inference, 1.0ms postprocess per image at shape (1, 3, 352, 640)\n"
     ]
    },
    {
     "name": "stdout",
     "output_type": "stream",
     "text": [
      "[678, 678, 678, 678, 678, 678, 678, 678]\n",
      "{673: 21, 668: 18, 678: 38, 679: 3, 682: 12, 687: 11, 689: 2, 690: 3, 674: 2, 692: 9, 694: 2, 667: 7, 676: 3, 703: 1}\n"
     ]
    },
    {
     "name": "stderr",
     "output_type": "stream",
     "text": [
      "\n",
      "0: 352x640 11 cars, 1 bus, 1 truck, 59.9ms\n",
      "Speed: 1.9ms preprocess, 59.9ms inference, 1.0ms postprocess per image at shape (1, 3, 352, 640)\n"
     ]
    },
    {
     "name": "stdout",
     "output_type": "stream",
     "text": [
      "[678, 678, 678, 678, 678, 678, 678, 678, 678]\n",
      "{673: 21, 668: 18, 678: 39, 679: 3, 682: 12, 687: 11, 689: 2, 690: 3, 674: 2, 692: 10, 694: 2, 667: 7, 676: 3, 703: 1}\n"
     ]
    },
    {
     "name": "stderr",
     "output_type": "stream",
     "text": [
      "\n",
      "0: 352x640 10 cars, 1 bus, 1 truck, 61.7ms\n",
      "Speed: 2.3ms preprocess, 61.7ms inference, 1.0ms postprocess per image at shape (1, 3, 352, 640)\n",
      "\n",
      "0: 352x640 11 cars, 1 bus, 1 truck, 54.2ms\n",
      "Speed: 2.0ms preprocess, 54.2ms inference, 2.0ms postprocess per image at shape (1, 3, 352, 640)\n",
      "\n",
      "0: 352x640 10 cars, 1 bus, 1 truck, 54.2ms\n",
      "Speed: 2.0ms preprocess, 54.2ms inference, 1.0ms postprocess per image at shape (1, 3, 352, 640)\n",
      "\n"
     ]
    },
    {
     "name": "stdout",
     "output_type": "stream",
     "text": [
      "[678, 678, 678, 678, 678, 678, 678, 678, 678, 678]\n",
      "{673: 21, 668: 18, 678: 40, 679: 3, 682: 12, 687: 11, 689: 2, 690: 3, 674: 2, 692: 11, 694: 2, 667: 7, 676: 3, 703: 1}\n",
      "[678, 678, 678, 678, 678, 678, 678, 678, 678, 678, 678]\n",
      "{673: 21, 668: 18, 678: 41, 679: 3, 682: 12, 687: 11, 689: 2, 690: 3, 674: 2, 692: 12, 694: 2, 667: 7, 676: 3, 703: 2}\n",
      "[678, 678, 678, 678, 678, 678, 678, 678, 678, 678, 678, 678]\n",
      "{673: 21, 668: 18, 678: 42, 679: 3, 682: 12, 687: 11, 689: 2, 690: 3, 674: 2, 692: 13, 694: 2, 667: 7, 676: 3, 703: 2}\n"
     ]
    },
    {
     "name": "stderr",
     "output_type": "stream",
     "text": [
      "0: 352x640 10 cars, 1 bus, 1 truck, 50.7ms\n",
      "Speed: 2.0ms preprocess, 50.7ms inference, 1.0ms postprocess per image at shape (1, 3, 352, 640)\n",
      "\n",
      "0: 352x640 9 cars, 1 bus, 1 truck, 50.6ms\n",
      "Speed: 2.1ms preprocess, 50.6ms inference, 1.0ms postprocess per image at shape (1, 3, 352, 640)\n",
      "\n",
      "0: 352x640 8 cars, 1 bus, 1 truck, 60.0ms\n",
      "Speed: 1.0ms preprocess, 60.0ms inference, 1.0ms postprocess per image at shape (1, 3, 352, 640)\n",
      "\n"
     ]
    },
    {
     "name": "stdout",
     "output_type": "stream",
     "text": [
      "[678, 678, 678, 678, 678, 678, 678, 678, 678, 678, 678, 678, 678]\n",
      "{673: 21, 668: 18, 678: 43, 679: 3, 682: 12, 687: 11, 689: 2, 690: 3, 674: 2, 692: 14, 694: 2, 667: 7, 676: 4, 703: 2}\n",
      "[678, 678, 678, 678, 678, 678, 678, 678, 678, 678, 678, 678, 678, 678]\n",
      "{673: 21, 668: 18, 678: 44, 679: 3, 682: 12, 687: 11, 689: 2, 690: 3, 674: 2, 692: 15, 694: 2, 667: 7, 676: 4, 703: 2}\n",
      "[678, 678, 678, 678, 678, 678, 678, 678, 678, 678, 678, 678, 678, 678, 678]\n",
      "{673: 21, 668: 18, 678: 45, 679: 3, 682: 12, 687: 11, 689: 2, 690: 3, 674: 2, 692: 16, 694: 2, 667: 7, 676: 4, 703: 2}\n"
     ]
    },
    {
     "name": "stderr",
     "output_type": "stream",
     "text": [
      "0: 352x640 10 cars, 2 buss, 1 truck, 59.8ms\n",
      "Speed: 1.5ms preprocess, 59.8ms inference, 1.0ms postprocess per image at shape (1, 3, 352, 640)\n",
      "\n",
      "0: 352x640 9 cars, 2 buss, 2 trucks, 62.3ms\n",
      "Speed: 1.0ms preprocess, 62.3ms inference, 1.5ms postprocess per image at shape (1, 3, 352, 640)\n",
      "\n",
      "0: 352x640 11 cars, 1 bus, 1 truck, 61.0ms\n",
      "Speed: 1.0ms preprocess, 61.0ms inference, 1.0ms postprocess per image at shape (1, 3, 352, 640)\n",
      "\n"
     ]
    },
    {
     "name": "stdout",
     "output_type": "stream",
     "text": [
      "[678, 678, 678, 678, 678, 678, 678, 678, 678, 678, 678, 678, 678, 678, 678, 678]\n",
      "{673: 21, 668: 18, 678: 46, 679: 3, 682: 12, 687: 11, 689: 2, 690: 3, 674: 2, 692: 17, 694: 2, 667: 7, 676: 4, 703: 2}\n",
      "[678, 678, 678, 678, 678, 678, 678, 678, 678, 678, 678, 678, 678, 678, 678, 678, 678]\n",
      "{673: 21, 668: 18, 678: 47, 679: 3, 682: 12, 687: 11, 689: 2, 690: 3, 674: 2, 692: 18, 694: 2, 667: 7, 676: 4, 703: 2}\n",
      "[678, 678, 678, 678, 678, 678, 678, 678, 678, 678, 678, 678, 678, 678, 678, 678, 678, 678]\n",
      "{673: 21, 668: 18, 678: 48, 679: 3, 682: 12, 687: 11, 689: 2, 690: 3, 674: 2, 692: 19, 694: 2, 667: 7, 676: 4, 703: 2}\n"
     ]
    },
    {
     "name": "stderr",
     "output_type": "stream",
     "text": [
      "0: 352x640 11 cars, 2 buss, 2 trucks, 60.7ms\n",
      "Speed: 1.0ms preprocess, 60.7ms inference, 1.0ms postprocess per image at shape (1, 3, 352, 640)\n",
      "\n",
      "0: 352x640 10 cars, 2 buss, 1 truck, 62.9ms\n",
      "Speed: 1.0ms preprocess, 62.9ms inference, 1.0ms postprocess per image at shape (1, 3, 352, 640)\n",
      "\n",
      "0: 352x640 12 cars, 1 bus, 1 truck, 60.5ms\n",
      "Speed: 2.0ms preprocess, 60.5ms inference, 1.0ms postprocess per image at shape (1, 3, 352, 640)\n",
      "\n"
     ]
    },
    {
     "name": "stdout",
     "output_type": "stream",
     "text": [
      "[678, 678, 678, 678, 678, 678, 678, 678, 678, 678, 678, 678, 678, 678, 678, 678, 678, 678, 678]\n",
      "{673: 21, 668: 18, 678: 49, 679: 3, 682: 12, 687: 11, 689: 2, 690: 3, 674: 2, 692: 20, 694: 2, 667: 7, 676: 4, 703: 2}\n",
      "[678, 678, 678, 678, 678, 678, 678, 678, 678, 678, 678, 678, 678, 678, 678, 678, 678, 678, 678, 678]\n",
      "{673: 21, 668: 18, 678: 50, 679: 3, 682: 12, 687: 11, 689: 2, 690: 3, 674: 2, 692: 21, 694: 2, 667: 7, 676: 4, 703: 2}\n",
      "[678, 678, 678, 678, 678, 678, 678, 678, 678, 678, 678, 678, 678, 678, 678, 678, 678, 678, 678, 678, 678]\n",
      "{673: 21, 668: 18, 678: 51, 679: 3, 682: 12, 687: 11, 689: 2, 690: 3, 674: 2, 692: 22, 694: 2, 667: 7, 676: 4, 703: 2}\n"
     ]
    },
    {
     "name": "stderr",
     "output_type": "stream",
     "text": [
      "0: 352x640 9 cars, 1 bus, 1 truck, 66.0ms\n",
      "Speed: 2.0ms preprocess, 66.0ms inference, 1.0ms postprocess per image at shape (1, 3, 352, 640)\n",
      "\n",
      "0: 352x640 9 cars, 1 bus, 1 truck, 63.6ms\n",
      "Speed: 2.0ms preprocess, 63.6ms inference, 2.0ms postprocess per image at shape (1, 3, 352, 640)\n",
      "\n",
      "0: 352x640 11 cars, 1 bus, 64.3ms\n",
      "Speed: 2.4ms preprocess, 64.3ms inference, 1.0ms postprocess per image at shape (1, 3, 352, 640)\n",
      "\n"
     ]
    },
    {
     "name": "stdout",
     "output_type": "stream",
     "text": [
      "[678, 678, 678, 678, 678, 678, 678, 678, 678, 678, 678, 678, 678, 678, 678, 678, 678, 678, 678, 678, 678, 678]\n",
      "{673: 21, 668: 18, 678: 52, 679: 3, 682: 12, 687: 11, 689: 2, 690: 3, 674: 2, 692: 23, 694: 2, 667: 7, 676: 4, 703: 2}\n",
      "[678, 678, 678, 678, 678, 678, 678, 678, 678, 678, 678, 678, 678, 678, 678, 678, 678, 678, 678, 678, 678, 678, 678]\n",
      "{673: 21, 668: 18, 678: 53, 679: 3, 682: 12, 687: 11, 689: 2, 690: 3, 674: 2, 692: 24, 694: 2, 667: 7, 676: 4, 703: 2}\n",
      "[678, 678, 678, 678, 678, 678, 678, 678, 678, 678, 678, 678, 678, 678, 678, 678, 678, 678, 678, 678, 678, 678, 678, 678]\n",
      "{673: 21, 668: 18, 678: 54, 679: 3, 682: 12, 687: 11, 689: 2, 690: 3, 674: 2, 692: 25, 694: 2, 667: 7, 676: 4, 703: 2}\n"
     ]
    },
    {
     "name": "stderr",
     "output_type": "stream",
     "text": [
      "0: 352x640 11 cars, 1 bus, 62.7ms\n",
      "Speed: 2.0ms preprocess, 62.7ms inference, 1.4ms postprocess per image at shape (1, 3, 352, 640)\n",
      "\n",
      "0: 352x640 10 cars, 1 bus, 1 truck, 65.8ms\n",
      "Speed: 2.0ms preprocess, 65.8ms inference, 1.0ms postprocess per image at shape (1, 3, 352, 640)\n",
      "\n",
      "0: 352x640 12 cars, 1 bus, 1 truck, 60.2ms\n",
      "Speed: 2.0ms preprocess, 60.2ms inference, 1.0ms postprocess per image at shape (1, 3, 352, 640)\n",
      "\n"
     ]
    },
    {
     "name": "stdout",
     "output_type": "stream",
     "text": [
      "[678, 678, 678, 678, 678, 678, 678, 678, 678, 678, 678, 678, 678, 678, 678, 678, 678, 678, 678, 678, 678, 678, 678, 678, 678]\n",
      "{673: 21, 668: 18, 678: 55, 679: 3, 682: 12, 687: 11, 689: 2, 690: 3, 674: 2, 692: 26, 694: 2, 667: 7, 676: 4, 703: 2}\n",
      "[678, 678, 678, 678, 678, 678, 678, 678, 678, 678, 678, 678, 678, 678, 678, 678, 678, 678, 678, 678, 678, 678, 678, 678, 678, 678]\n",
      "{673: 21, 668: 18, 678: 56, 679: 3, 682: 12, 687: 11, 689: 2, 690: 3, 674: 2, 692: 27, 694: 2, 667: 7, 676: 4, 703: 2}\n",
      "[678, 678, 678, 678, 678, 678, 678, 678, 678, 678, 678, 678, 678, 678, 678, 678, 678, 678, 678, 678, 678, 678, 678, 678, 678, 678, 678]\n",
      "{673: 21, 668: 18, 678: 57, 679: 3, 682: 12, 687: 11, 689: 2, 690: 3, 674: 2, 692: 28, 694: 2, 667: 7, 676: 4, 703: 2, 714: 1, 713: 1}\n"
     ]
    },
    {
     "name": "stderr",
     "output_type": "stream",
     "text": [
      "0: 352x640 11 cars, 1 bus, 1 truck, 60.0ms\n",
      "Speed: 2.2ms preprocess, 60.0ms inference, 1.0ms postprocess per image at shape (1, 3, 352, 640)\n",
      "\n",
      "0: 352x640 11 cars, 1 bus, 1 truck, 63.1ms\n",
      "Speed: 1.0ms preprocess, 63.1ms inference, 2.0ms postprocess per image at shape (1, 3, 352, 640)\n",
      "\n",
      "0: 352x640 12 cars, 1 bus, 60.5ms\n",
      "Speed: 1.0ms preprocess, 60.5ms inference, 1.0ms postprocess per image at shape (1, 3, 352, 640)\n",
      "\n"
     ]
    },
    {
     "name": "stdout",
     "output_type": "stream",
     "text": [
      "[678, 678, 678, 678, 678, 678, 678, 678, 678, 678, 678, 678, 678, 678, 678, 678, 678, 678, 678, 678, 678, 678, 678, 678, 678, 678, 678, 678]\n",
      "{673: 21, 668: 18, 678: 58, 679: 3, 682: 12, 687: 11, 689: 2, 690: 3, 674: 2, 692: 29, 694: 2, 667: 7, 676: 4, 703: 2, 714: 2, 713: 2}\n",
      "[678, 678, 678, 678, 678, 678, 678, 678, 678, 678, 678, 678, 678, 678, 678, 678, 678, 678, 678, 678, 678, 678, 678, 678, 678, 678, 678, 678, 678]\n",
      "{673: 21, 668: 18, 678: 59, 679: 3, 682: 12, 687: 11, 689: 2, 690: 3, 674: 2, 692: 30, 694: 2, 667: 7, 676: 4, 703: 2, 714: 3, 713: 3}\n",
      "[678, 678, 678, 678, 678, 678, 678, 678, 678, 678, 678, 678, 678, 678, 678, 678, 678, 678, 678, 678, 678, 678, 678, 678, 678, 678, 678, 678, 678, 692, 678]\n",
      "{673: 21, 668: 18, 678: 60, 679: 3, 682: 12, 687: 11, 689: 2, 690: 3, 674: 2, 692: 31, 694: 2, 667: 7, 676: 4, 703: 2, 714: 4, 713: 3}\n"
     ]
    },
    {
     "name": "stderr",
     "output_type": "stream",
     "text": [
      "0: 352x640 11 cars, 1 bus, 61.3ms\n",
      "Speed: 2.1ms preprocess, 61.3ms inference, 2.0ms postprocess per image at shape (1, 3, 352, 640)\n",
      "\n",
      "0: 352x640 10 cars, 1 bus, 1 truck, 63.7ms\n",
      "Speed: 1.4ms preprocess, 63.7ms inference, 1.0ms postprocess per image at shape (1, 3, 352, 640)\n",
      "\n",
      "0: 352x640 12 cars, 1 bus, 63.0ms\n",
      "Speed: 1.1ms preprocess, 63.0ms inference, 1.0ms postprocess per image at shape (1, 3, 352, 640)\n",
      "\n"
     ]
    },
    {
     "name": "stdout",
     "output_type": "stream",
     "text": [
      "[678, 678, 678, 678, 678, 678, 678, 678, 678, 678, 678, 678, 678, 678, 678, 678, 678, 678, 678, 678, 678, 678, 678, 678, 678, 678, 678, 678, 678, 692, 678, 692, 678]\n",
      "{673: 21, 668: 18, 678: 61, 679: 3, 682: 12, 687: 11, 689: 2, 690: 3, 674: 2, 692: 32, 694: 2, 667: 7, 676: 4, 703: 2, 714: 5, 713: 3}\n",
      "[678, 678, 678, 678, 678, 678, 678, 678, 678, 678, 678, 678, 678, 678, 678, 678, 678, 678, 678, 678, 678, 678, 678, 678, 678, 678, 678, 678, 678, 692, 678, 692, 678, 692, 678]\n",
      "{673: 21, 668: 18, 678: 62, 679: 3, 682: 12, 687: 11, 689: 2, 690: 3, 674: 2, 692: 33, 694: 2, 667: 7, 676: 4, 703: 2, 714: 6, 713: 3, 717: 1}\n",
      "[678, 678, 678, 678, 678, 678, 678, 678, 678, 678, 678, 678, 678, 678, 678, 678, 678, 678, 678, 678, 678, 678, 678, 678, 678, 678, 678, 678, 678, 692, 678, 692, 678, 692, 678, 692, 678]\n",
      "{673: 21, 668: 18, 678: 63, 679: 3, 682: 12, 687: 11, 689: 2, 690: 3, 674: 2, 692: 34, 694: 2, 667: 7, 676: 4, 703: 2, 714: 7, 713: 3, 717: 2}\n"
     ]
    },
    {
     "name": "stderr",
     "output_type": "stream",
     "text": [
      "0: 352x640 12 cars, 1 bus, 55.4ms\n",
      "Speed: 0.0ms preprocess, 55.4ms inference, 1.0ms postprocess per image at shape (1, 3, 352, 640)\n",
      "\n",
      "0: 352x640 12 cars, 1 bus, 56.1ms\n",
      "Speed: 2.0ms preprocess, 56.1ms inference, 2.0ms postprocess per image at shape (1, 3, 352, 640)\n",
      "\n",
      "0: 352x640 13 cars, 1 bus, 58.6ms\n",
      "Speed: 1.1ms preprocess, 58.6ms inference, 1.0ms postprocess per image at shape (1, 3, 352, 640)\n",
      "\n"
     ]
    },
    {
     "name": "stdout",
     "output_type": "stream",
     "text": [
      "[678, 678, 678, 678, 678, 678, 678, 678, 678, 678, 678, 678, 678, 678, 678, 678, 678, 678, 678, 678, 678, 678, 678, 678, 678, 678, 678, 678, 678, 692, 678, 692, 678, 692, 678, 692, 678, 692, 678]\n",
      "{673: 21, 668: 18, 678: 64, 679: 3, 682: 12, 687: 11, 689: 2, 690: 3, 674: 2, 692: 35, 694: 2, 667: 7, 676: 4, 703: 2, 714: 8, 713: 3, 717: 3}\n",
      "[678, 678, 678, 678, 678, 678, 678, 678, 678, 678, 678, 678, 678, 678, 678, 678, 678, 678, 678, 678, 678, 678, 678, 678, 678, 678, 678, 678, 678, 692, 678, 692, 678, 692, 678, 692, 678, 692, 678, 692, 678]\n",
      "{673: 21, 668: 18, 678: 65, 679: 3, 682: 12, 687: 11, 689: 2, 690: 3, 674: 2, 692: 36, 694: 2, 667: 7, 676: 4, 703: 2, 714: 9, 713: 3, 717: 4}\n",
      "[678, 678, 678, 678, 678, 678, 678, 678, 678, 678, 678, 678, 678, 678, 678, 678, 678, 678, 678, 678, 678, 678, 678, 678, 678, 678, 678, 678, 678, 692, 678, 692, 678, 692, 678, 692, 678, 692, 678, 692, 678, 692, 678]\n",
      "{673: 21, 668: 18, 678: 66, 679: 3, 682: 12, 687: 11, 689: 2, 690: 3, 674: 2, 692: 37, 694: 2, 667: 7, 676: 4, 703: 2, 714: 10, 713: 3, 717: 4}\n"
     ]
    },
    {
     "name": "stderr",
     "output_type": "stream",
     "text": [
      "0: 352x640 13 cars, 1 bus, 62.6ms\n",
      "Speed: 2.0ms preprocess, 62.6ms inference, 1.0ms postprocess per image at shape (1, 3, 352, 640)\n",
      "\n",
      "0: 352x640 12 cars, 1 bus, 51.6ms\n",
      "Speed: 2.3ms preprocess, 51.6ms inference, 1.0ms postprocess per image at shape (1, 3, 352, 640)\n",
      "\n",
      "0: 352x640 15 cars, 1 bus, 61.9ms\n",
      "Speed: 2.0ms preprocess, 61.9ms inference, 1.0ms postprocess per image at shape (1, 3, 352, 640)\n",
      "\n"
     ]
    },
    {
     "name": "stdout",
     "output_type": "stream",
     "text": [
      "[678, 678, 678, 678, 678, 678, 678, 678, 678, 678, 678, 678, 678, 678, 678, 678, 678, 678, 678, 678, 678, 678, 678, 678, 678, 678, 678, 678, 678, 692, 678, 692, 678, 692, 678, 692, 678, 692, 678, 692, 678, 692, 678, 692, 678]\n",
      "{673: 21, 668: 18, 678: 67, 679: 3, 682: 12, 687: 11, 689: 2, 690: 3, 674: 2, 692: 38, 694: 2, 667: 7, 676: 4, 703: 2, 714: 11, 713: 3, 717: 4}\n",
      "[678, 678, 678, 678, 678, 678, 678, 678, 678, 678, 678, 678, 678, 678, 678, 678, 678, 678, 678, 678, 678, 678, 678, 678, 678, 678, 678, 678, 678, 692, 678, 692, 678, 692, 678, 692, 678, 692, 678, 692, 678, 692, 678, 692, 678, 692, 678]\n",
      "{673: 21, 668: 18, 678: 68, 679: 3, 682: 12, 687: 11, 689: 2, 690: 3, 674: 2, 692: 39, 694: 2, 667: 7, 676: 4, 703: 2, 714: 12, 713: 3, 717: 4}\n",
      "[678, 678, 678, 678, 678, 678, 678, 678, 678, 678, 678, 678, 678, 678, 678, 678, 678, 678, 678, 678, 678, 678, 678, 678, 678, 678, 678, 678, 678, 692, 678, 692, 678, 692, 678, 692, 678, 692, 678, 692, 678, 692, 678, 692, 678, 692, 678, 692, 678]\n",
      "{673: 21, 668: 18, 678: 69, 679: 3, 682: 12, 687: 11, 689: 2, 690: 3, 674: 2, 692: 40, 694: 2, 667: 7, 676: 4, 703: 2, 714: 13, 713: 3, 717: 4}\n"
     ]
    },
    {
     "name": "stderr",
     "output_type": "stream",
     "text": [
      "0: 352x640 14 cars, 1 bus, 62.0ms\n",
      "Speed: 1.3ms preprocess, 62.0ms inference, 1.0ms postprocess per image at shape (1, 3, 352, 640)\n",
      "\n",
      "0: 352x640 15 cars, 1 bus, 1 truck, 56.1ms\n",
      "Speed: 2.4ms preprocess, 56.1ms inference, 1.0ms postprocess per image at shape (1, 3, 352, 640)\n",
      "\n",
      "0: 352x640 16 cars, 1 bus, 50.3ms\n",
      "Speed: 2.4ms preprocess, 50.3ms inference, 1.0ms postprocess per image at shape (1, 3, 352, 640)\n",
      "\n"
     ]
    },
    {
     "name": "stdout",
     "output_type": "stream",
     "text": [
      "[678, 678, 678, 678, 678, 678, 678, 678, 678, 678, 678, 678, 678, 678, 678, 678, 678, 678, 678, 678, 678, 678, 678, 678, 678, 678, 678, 678, 678, 692, 678, 692, 678, 692, 678, 692, 678, 692, 678, 692, 678, 692, 678, 692, 678, 692, 678, 692, 678, 692, 678]\n",
      "{673: 21, 668: 18, 678: 70, 679: 3, 682: 12, 687: 11, 689: 2, 690: 3, 674: 2, 692: 41, 694: 2, 667: 7, 676: 4, 703: 2, 714: 14, 713: 3, 717: 5}\n",
      "[678, 678, 678, 678, 678, 678, 678, 678, 678, 678, 678, 678, 678, 678, 678, 678, 678, 678, 678, 678, 678, 678, 678, 678, 678, 678, 678, 678, 678, 692, 678, 692, 678, 692, 678, 692, 678, 692, 678, 692, 678, 692, 678, 692, 678, 692, 678, 692, 678, 692, 678, 692, 678]\n",
      "{673: 21, 668: 18, 678: 71, 679: 3, 682: 12, 687: 11, 689: 2, 690: 3, 674: 2, 692: 42, 694: 2, 667: 8, 676: 4, 703: 2, 714: 15, 713: 3, 717: 5, 719: 1}\n",
      "[678, 678, 678, 678, 678, 678, 678, 678, 678, 678, 678, 678, 678, 678, 678, 678, 678, 678, 678, 678, 678, 678, 678, 678, 678, 678, 678, 678, 678, 692, 678, 692, 678, 692, 678, 692, 678, 692, 678, 692, 678, 692, 678, 692, 678, 692, 678, 692, 678, 692, 678, 692, 678, 692, 678]\n",
      "{673: 21, 668: 18, 678: 72, 679: 3, 682: 12, 687: 11, 689: 2, 690: 3, 674: 2, 692: 43, 694: 2, 667: 9, 676: 4, 703: 2, 714: 16, 713: 3, 717: 5, 719: 2}\n"
     ]
    },
    {
     "name": "stderr",
     "output_type": "stream",
     "text": [
      "0: 352x640 15 cars, 1 bus, 65.9ms\n",
      "Speed: 1.5ms preprocess, 65.9ms inference, 1.0ms postprocess per image at shape (1, 3, 352, 640)\n",
      "\n",
      "0: 352x640 17 cars, 1 bus, 56.1ms\n",
      "Speed: 2.0ms preprocess, 56.1ms inference, 2.0ms postprocess per image at shape (1, 3, 352, 640)\n",
      "\n",
      "0: 352x640 16 cars, 1 bus, 63.5ms\n",
      "Speed: 1.0ms preprocess, 63.5ms inference, 2.1ms postprocess per image at shape (1, 3, 352, 640)\n",
      "\n"
     ]
    },
    {
     "name": "stdout",
     "output_type": "stream",
     "text": [
      "[678, 678, 678, 678, 678, 678, 678, 678, 678, 678, 678, 678, 678, 678, 678, 678, 678, 678, 678, 678, 678, 678, 678, 678, 678, 678, 678, 678, 678, 692, 678, 692, 678, 692, 678, 692, 678, 692, 678, 692, 678, 692, 678, 692, 678, 692, 678, 692, 678, 692, 678, 692, 678, 692, 678, 692, 678]\n",
      "{673: 21, 668: 18, 678: 73, 679: 3, 682: 12, 687: 11, 689: 2, 690: 3, 674: 2, 692: 44, 694: 2, 667: 10, 676: 4, 703: 2, 714: 17, 713: 3, 717: 5, 719: 3}\n",
      "[678, 678, 678, 678, 678, 678, 678, 678, 678, 678, 678, 678, 678, 678, 678, 678, 678, 678, 678, 678, 678, 678, 678, 678, 678, 678, 678, 678, 678, 692, 678, 692, 678, 692, 678, 692, 678, 692, 678, 692, 678, 692, 678, 692, 678, 692, 678, 692, 678, 692, 678, 692, 678, 692, 678, 692, 678, 692, 678]\n",
      "{673: 21, 668: 18, 678: 74, 679: 3, 682: 12, 687: 11, 689: 2, 690: 3, 674: 2, 692: 45, 694: 2, 667: 11, 676: 4, 703: 2, 714: 18, 713: 3, 717: 5, 719: 4}\n",
      "[678, 678, 678, 678, 678, 678, 678, 678, 678, 678, 678, 678, 678, 678, 678, 678, 678, 678, 678, 678, 678, 678, 678, 678, 678, 678, 678, 678, 678, 692, 678, 692, 678, 692, 678, 692, 678, 692, 678, 692, 678, 692, 678, 692, 678, 692, 678, 692, 678, 692, 678, 692, 678, 692, 678, 692, 678, 692, 678, 692, 678]\n",
      "{673: 21, 668: 18, 678: 75, 679: 3, 682: 12, 687: 11, 689: 2, 690: 3, 674: 2, 692: 46, 694: 2, 667: 12, 676: 4, 703: 2, 714: 19, 713: 3, 717: 5, 719: 5}\n"
     ]
    },
    {
     "name": "stderr",
     "output_type": "stream",
     "text": [
      "0: 352x640 16 cars, 1 bus, 60.6ms\n",
      "Speed: 2.0ms preprocess, 60.6ms inference, 1.0ms postprocess per image at shape (1, 3, 352, 640)\n",
      "\n",
      "0: 352x640 15 cars, 1 bus, 62.7ms\n",
      "Speed: 1.3ms preprocess, 62.7ms inference, 1.0ms postprocess per image at shape (1, 3, 352, 640)\n",
      "\n",
      "0: 352x640 15 cars, 1 bus, 62.2ms\n",
      "Speed: 1.1ms preprocess, 62.2ms inference, 1.0ms postprocess per image at shape (1, 3, 352, 640)\n",
      "\n"
     ]
    },
    {
     "name": "stdout",
     "output_type": "stream",
     "text": [
      "[678, 678, 678, 678, 678, 678, 678, 678, 678, 678, 678, 678, 678, 678, 678, 678, 678, 678, 678, 678, 678, 678, 678, 678, 678, 678, 678, 678, 678, 692, 678, 692, 678, 692, 678, 692, 678, 692, 678, 692, 678, 692, 678, 692, 678, 692, 678, 692, 678, 692, 678, 692, 678, 692, 678, 692, 678, 692, 678, 692, 678, 692, 678]\n",
      "{673: 21, 668: 18, 678: 76, 679: 3, 682: 12, 687: 11, 689: 2, 690: 3, 674: 2, 692: 47, 694: 2, 667: 13, 676: 4, 703: 2, 714: 20, 713: 3, 717: 5, 719: 6, 723: 1}\n",
      "[678, 678, 678, 678, 678, 678, 678, 678, 678, 678, 678, 678, 678, 678, 678, 678, 678, 678, 678, 678, 678, 678, 678, 678, 678, 678, 678, 678, 678, 692, 678, 692, 678, 692, 678, 692, 678, 692, 678, 692, 678, 692, 678, 692, 678, 692, 678, 692, 678, 692, 678, 692, 678, 692, 678, 692, 678, 692, 678, 692, 678, 692, 678, 692, 678]\n",
      "{673: 21, 668: 18, 678: 77, 679: 3, 682: 12, 687: 11, 689: 2, 690: 3, 674: 2, 692: 48, 694: 2, 667: 14, 676: 4, 703: 2, 714: 21, 713: 3, 717: 5, 719: 6, 723: 2}\n",
      "[678, 678, 678, 678, 678, 678, 678, 678, 678, 678, 678, 678, 678, 678, 678, 678, 678, 678, 678, 678, 678, 678, 678, 678, 678, 678, 678, 678, 678, 692, 678, 692, 678, 692, 678, 692, 678, 692, 678, 692, 678, 692, 678, 692, 678, 692, 678, 692, 678, 692, 678, 692, 678, 692, 678, 692, 678, 692, 678, 692, 678, 692, 678, 692, 678, 692, 678]\n",
      "{673: 21, 668: 18, 678: 78, 679: 3, 682: 12, 687: 11, 689: 2, 690: 3, 674: 2, 692: 49, 694: 2, 667: 15, 676: 4, 703: 2, 714: 22, 713: 3, 717: 5, 719: 6, 723: 3}\n"
     ]
    },
    {
     "name": "stderr",
     "output_type": "stream",
     "text": [
      "0: 352x640 14 cars, 1 bus, 55.7ms\n",
      "Speed: 2.0ms preprocess, 55.7ms inference, 1.0ms postprocess per image at shape (1, 3, 352, 640)\n",
      "\n",
      "0: 352x640 15 cars, 1 bus, 63.6ms\n",
      "Speed: 1.5ms preprocess, 63.6ms inference, 1.0ms postprocess per image at shape (1, 3, 352, 640)\n",
      "\n",
      "0: 352x640 14 cars, 1 bus, 55.6ms\n",
      "Speed: 1.2ms preprocess, 55.6ms inference, 1.0ms postprocess per image at shape (1, 3, 352, 640)\n",
      "\n"
     ]
    },
    {
     "name": "stdout",
     "output_type": "stream",
     "text": [
      "[678, 678, 678, 678, 678, 678, 678, 678, 678, 678, 678, 678, 678, 678, 678, 678, 678, 678, 678, 678, 678, 678, 678, 678, 678, 678, 678, 678, 678, 692, 678, 692, 678, 692, 678, 692, 678, 692, 678, 692, 678, 692, 678, 692, 678, 692, 678, 692, 678, 692, 678, 692, 678, 692, 678, 692, 678, 692, 678, 692, 678, 692, 678, 692, 678, 692, 678, 692, 678]\n",
      "{673: 21, 668: 18, 678: 79, 679: 3, 682: 12, 687: 11, 689: 2, 690: 3, 674: 2, 692: 50, 694: 2, 667: 16, 676: 4, 703: 2, 714: 23, 713: 3, 717: 5, 719: 6, 723: 3}\n",
      "[678, 678, 678, 678, 678, 678, 678, 678, 678, 678, 678, 678, 678, 678, 678, 678, 678, 678, 678, 678, 678, 678, 678, 678, 678, 678, 678, 678, 678, 692, 678, 692, 678, 692, 678, 692, 678, 692, 678, 692, 678, 692, 678, 692, 678, 692, 678, 692, 678, 692, 678, 692, 678, 692, 678, 692, 678, 692, 678, 692, 678, 692, 678, 692, 678, 692, 678, 692, 678, 692, 678]\n",
      "{673: 21, 668: 18, 678: 80, 679: 3, 682: 12, 687: 11, 689: 2, 690: 3, 674: 2, 692: 51, 694: 2, 667: 17, 676: 4, 703: 2, 714: 24, 713: 3, 717: 5, 719: 7, 723: 3}\n",
      "[678, 678, 678, 678, 678, 678, 678, 678, 678, 678, 678, 678, 678, 678, 678, 678, 678, 678, 678, 678, 678, 678, 678, 678, 678, 678, 678, 678, 678, 692, 678, 692, 678, 692, 678, 692, 678, 692, 678, 692, 678, 692, 678, 692, 678, 692, 678, 692, 678, 692, 678, 692, 678, 692, 678, 692, 678, 692, 678, 692, 678, 692, 678, 692, 678, 692, 678, 692, 678, 692, 678, 692, 678]\n",
      "{673: 21, 668: 18, 678: 81, 679: 3, 682: 12, 687: 11, 689: 2, 690: 3, 674: 2, 692: 52, 694: 2, 667: 18, 676: 4, 703: 2, 714: 25, 713: 3, 717: 5, 719: 8, 723: 3}\n"
     ]
    },
    {
     "name": "stderr",
     "output_type": "stream",
     "text": [
      "0: 352x640 13 cars, 1 bus, 63.4ms\n",
      "Speed: 2.4ms preprocess, 63.4ms inference, 1.0ms postprocess per image at shape (1, 3, 352, 640)\n",
      "\n",
      "0: 352x640 13 cars, 1 bus, 57.0ms\n",
      "Speed: 1.1ms preprocess, 57.0ms inference, 1.0ms postprocess per image at shape (1, 3, 352, 640)\n",
      "\n",
      "0: 352x640 13 cars, 1 bus, 1 truck, 62.4ms\n",
      "Speed: 2.0ms preprocess, 62.4ms inference, 2.0ms postprocess per image at shape (1, 3, 352, 640)\n",
      "\n"
     ]
    },
    {
     "name": "stdout",
     "output_type": "stream",
     "text": [
      "[678, 678, 678, 678, 678, 678, 678, 678, 678, 678, 678, 678, 678, 678, 678, 678, 678, 678, 678, 678, 678, 678, 678, 678, 678, 678, 678, 678, 678, 692, 678, 692, 678, 692, 678, 692, 678, 692, 678, 692, 678, 692, 678, 692, 678, 692, 678, 692, 678, 692, 678, 692, 678, 692, 678, 692, 678, 692, 678, 692, 678, 692, 678, 692, 678, 692, 678, 692, 678, 692, 678, 692, 678, 692, 678]\n",
      "{673: 21, 668: 18, 678: 82, 679: 3, 682: 12, 687: 11, 689: 2, 690: 3, 674: 2, 692: 53, 694: 2, 667: 19, 676: 4, 703: 2, 714: 26, 713: 3, 717: 5, 719: 9, 723: 3}\n",
      "[678, 678, 678, 678, 678, 678, 678, 678, 678, 678, 678, 678, 678, 678, 678, 678, 678, 678, 678, 678, 678, 678, 678, 678, 678, 678, 678, 678, 678, 692, 678, 692, 678, 692, 678, 692, 678, 692, 678, 692, 678, 692, 678, 692, 678, 692, 678, 692, 678, 692, 678, 692, 678, 692, 678, 692, 678, 692, 678, 692, 678, 692, 678, 692, 678, 692, 678, 692, 678, 692, 678, 692, 678, 692, 678, 692, 678]\n",
      "{673: 21, 668: 18, 678: 83, 679: 3, 682: 12, 687: 11, 689: 2, 690: 3, 674: 2, 692: 54, 694: 2, 667: 20, 676: 4, 703: 2, 714: 27, 713: 3, 717: 5, 719: 10, 723: 3}\n",
      "[678, 678, 678, 678, 678, 678, 678, 678, 678, 678, 678, 678, 678, 678, 678, 678, 678, 678, 678, 678, 678, 678, 678, 678, 678, 678, 678, 678, 678, 692, 678, 692, 678, 692, 678, 692, 678, 692, 678, 692, 678, 692, 678, 692, 678, 692, 678, 692, 678, 692, 678, 692, 678, 692, 678, 692, 678, 692, 678, 692, 678, 692, 678, 692, 678, 692, 678, 692, 678, 692, 678, 692, 678, 692, 678, 692, 678, 692, 678]\n",
      "{673: 21, 668: 18, 678: 84, 679: 3, 682: 12, 687: 11, 689: 2, 690: 3, 674: 2, 692: 55, 694: 2, 667: 20, 676: 4, 703: 2, 714: 28, 713: 3, 717: 5, 719: 11, 723: 3}\n"
     ]
    },
    {
     "name": "stderr",
     "output_type": "stream",
     "text": [
      "0: 352x640 13 cars, 1 bus, 48.3ms\n",
      "Speed: 2.0ms preprocess, 48.3ms inference, 1.0ms postprocess per image at shape (1, 3, 352, 640)\n",
      "\n",
      "0: 352x640 11 cars, 1 bus, 1 truck, 59.0ms\n",
      "Speed: 2.0ms preprocess, 59.0ms inference, 2.0ms postprocess per image at shape (1, 3, 352, 640)\n",
      "\n",
      "0: 352x640 10 cars, 1 bus, 1 truck, 63.5ms\n",
      "Speed: 2.0ms preprocess, 63.5ms inference, 1.0ms postprocess per image at shape (1, 3, 352, 640)\n",
      "\n"
     ]
    },
    {
     "name": "stdout",
     "output_type": "stream",
     "text": [
      "[678, 678, 678, 678, 678, 678, 678, 678, 678, 678, 678, 678, 678, 678, 678, 678, 678, 678, 678, 678, 678, 678, 678, 678, 678, 678, 678, 678, 678, 692, 678, 692, 678, 692, 678, 692, 678, 692, 678, 692, 678, 692, 678, 692, 678, 692, 678, 692, 678, 692, 678, 692, 678, 692, 678, 692, 678, 692, 678, 692, 678, 692, 678, 692, 678, 692, 678, 692, 678, 692, 678, 692, 678, 692, 678, 692, 678, 692, 678, 692, 678]\n",
      "{673: 21, 668: 18, 678: 85, 679: 3, 682: 12, 687: 11, 689: 2, 690: 3, 674: 2, 692: 56, 694: 2, 667: 20, 676: 4, 703: 2, 714: 29, 713: 3, 717: 5, 719: 12, 723: 3}\n",
      "[678, 678, 678, 678, 678, 678, 678, 678, 678, 678, 678, 678, 678, 678, 678, 678, 678, 678, 678, 678, 678, 678, 678, 678, 678, 678, 678, 678, 678, 692, 678, 692, 678, 692, 678, 692, 678, 692, 678, 692, 678, 692, 678, 692, 678, 692, 678, 692, 678, 692, 678, 692, 678, 692, 678, 692, 678, 692, 678, 692, 678, 692, 678, 692, 678, 692, 678, 692, 678, 692, 678, 692, 678, 692, 678, 692, 678, 692, 678, 692, 678, 692, 678]\n",
      "{673: 21, 668: 18, 678: 86, 679: 3, 682: 12, 687: 11, 689: 2, 690: 3, 674: 2, 692: 57, 694: 2, 667: 20, 676: 4, 703: 2, 714: 30, 713: 3, 717: 5, 719: 12, 723: 3}\n",
      "[678, 678, 678, 678, 678, 678, 678, 678, 678, 678, 678, 678, 678, 678, 678, 678, 678, 678, 678, 678, 678, 678, 678, 678, 678, 678, 678, 678, 678, 692, 678, 692, 678, 692, 678, 692, 678, 692, 678, 692, 678, 692, 678, 692, 678, 692, 678, 692, 678, 692, 678, 692, 678, 692, 678, 692, 678, 692, 678, 692, 678, 692, 678, 692, 678, 692, 678, 692, 678, 692, 678, 692, 678, 692, 678, 692, 678, 692, 678, 692, 678, 692, 678, 714, 692, 678]\n",
      "{673: 21, 668: 18, 678: 87, 679: 3, 682: 12, 687: 11, 689: 2, 690: 3, 674: 2, 692: 58, 694: 2, 667: 20, 676: 4, 703: 2, 714: 31, 713: 3, 717: 5, 719: 12, 723: 3}\n"
     ]
    },
    {
     "name": "stderr",
     "output_type": "stream",
     "text": [
      "0: 352x640 10 cars, 1 bus, 1 truck, 59.3ms\n",
      "Speed: 2.0ms preprocess, 59.3ms inference, 2.2ms postprocess per image at shape (1, 3, 352, 640)\n",
      "\n",
      "0: 352x640 11 cars, 1 bus, 61.8ms\n",
      "Speed: 2.0ms preprocess, 61.8ms inference, 2.0ms postprocess per image at shape (1, 3, 352, 640)\n",
      "\n",
      "0: 352x640 11 cars, 1 bus, 66.1ms\n",
      "Speed: 2.0ms preprocess, 66.1ms inference, 1.3ms postprocess per image at shape (1, 3, 352, 640)\n",
      "\n"
     ]
    },
    {
     "name": "stdout",
     "output_type": "stream",
     "text": [
      "[678, 678, 678, 678, 678, 678, 678, 678, 678, 678, 678, 678, 678, 678, 678, 678, 678, 678, 678, 678, 678, 678, 678, 678, 678, 678, 678, 678, 678, 692, 678, 692, 678, 692, 678, 692, 678, 692, 678, 692, 678, 692, 678, 692, 678, 692, 678, 692, 678, 692, 678, 692, 678, 692, 678, 692, 678, 692, 678, 692, 678, 692, 678, 692, 678, 692, 678, 692, 678, 692, 678, 692, 678, 692, 678, 692, 678, 692, 678, 692, 678, 692, 678, 714, 692, 678, 714, 692, 678]\n",
      "{673: 21, 668: 18, 678: 88, 679: 3, 682: 12, 687: 11, 689: 2, 690: 3, 674: 2, 692: 59, 694: 2, 667: 20, 676: 4, 703: 2, 714: 32, 713: 3, 717: 5, 719: 12, 723: 3}\n",
      "[678, 678, 678, 678, 678, 678, 678, 678, 678, 678, 678, 678, 678, 678, 678, 678, 678, 678, 678, 678, 678, 678, 678, 678, 678, 678, 678, 678, 678, 692, 678, 692, 678, 692, 678, 692, 678, 692, 678, 692, 678, 692, 678, 692, 678, 692, 678, 692, 678, 692, 678, 692, 678, 692, 678, 692, 678, 692, 678, 692, 678, 692, 678, 692, 678, 692, 678, 692, 678, 692, 678, 692, 678, 692, 678, 692, 678, 692, 678, 692, 678, 692, 678, 714, 692, 678, 714, 692, 678, 714, 692, 678]\n",
      "{673: 21, 668: 18, 678: 89, 679: 3, 682: 12, 687: 11, 689: 2, 690: 3, 674: 2, 692: 60, 694: 2, 667: 20, 676: 4, 703: 2, 714: 33, 713: 3, 717: 5, 719: 12, 723: 3}\n",
      "[678, 678, 678, 678, 678, 678, 678, 678, 678, 678, 678, 678, 678, 678, 678, 678, 678, 678, 678, 678, 678, 678, 678, 678, 678, 678, 678, 678, 678, 692, 678, 692, 678, 692, 678, 692, 678, 692, 678, 692, 678, 692, 678, 692, 678, 692, 678, 692, 678, 692, 678, 692, 678, 692, 678, 692, 678, 692, 678, 692, 678, 692, 678, 692, 678, 692, 678, 692, 678, 692, 678, 692, 678, 692, 678, 692, 678, 692, 678, 692, 678, 692, 678, 714, 692, 678, 714, 692, 678, 714, 692, 678, 692, 678]\n",
      "{673: 21, 668: 18, 678: 90, 679: 3, 682: 12, 687: 11, 689: 2, 690: 3, 674: 2, 692: 61, 694: 2, 667: 21, 676: 4, 703: 2, 714: 33, 713: 3, 717: 5, 719: 12, 723: 3}\n"
     ]
    },
    {
     "name": "stderr",
     "output_type": "stream",
     "text": [
      "0: 352x640 11 cars, 1 bus, 62.5ms\n",
      "Speed: 2.0ms preprocess, 62.5ms inference, 1.0ms postprocess per image at shape (1, 3, 352, 640)\n",
      "\n",
      "0: 352x640 10 cars, 1 bus, 62.8ms\n",
      "Speed: 1.0ms preprocess, 62.8ms inference, 2.2ms postprocess per image at shape (1, 3, 352, 640)\n",
      "\n",
      "0: 352x640 10 cars, 1 bus, 54.6ms\n",
      "Speed: 1.5ms preprocess, 54.6ms inference, 1.0ms postprocess per image at shape (1, 3, 352, 640)\n",
      "\n"
     ]
    },
    {
     "name": "stdout",
     "output_type": "stream",
     "text": [
      "[678, 678, 678, 678, 678, 678, 678, 678, 678, 678, 678, 678, 678, 678, 678, 678, 678, 678, 678, 678, 678, 678, 678, 678, 678, 678, 678, 678, 678, 692, 678, 692, 678, 692, 678, 692, 678, 692, 678, 692, 678, 692, 678, 692, 678, 692, 678, 692, 678, 692, 678, 692, 678, 692, 678, 692, 678, 692, 678, 692, 678, 692, 678, 692, 678, 692, 678, 692, 678, 692, 678, 692, 678, 692, 678, 692, 678, 692, 678, 692, 678, 692, 678, 714, 692, 678, 714, 692, 678, 714, 692, 678, 692, 678, 692, 678]\n",
      "{673: 21, 668: 18, 678: 91, 679: 3, 682: 12, 687: 11, 689: 2, 690: 3, 674: 2, 692: 62, 694: 2, 667: 22, 676: 4, 703: 2, 714: 33, 713: 3, 717: 5, 719: 12, 723: 3}\n",
      "[678, 678, 678, 678, 678, 678, 678, 678, 678, 678, 678, 678, 678, 678, 678, 678, 678, 678, 678, 678, 678, 678, 678, 678, 678, 678, 678, 678, 678, 692, 678, 692, 678, 692, 678, 692, 678, 692, 678, 692, 678, 692, 678, 692, 678, 692, 678, 692, 678, 692, 678, 692, 678, 692, 678, 692, 678, 692, 678, 692, 678, 692, 678, 692, 678, 692, 678, 692, 678, 692, 678, 692, 678, 692, 678, 692, 678, 692, 678, 692, 678, 692, 678, 714, 692, 678, 714, 692, 678, 714, 692, 678, 692, 678, 692, 678, 692, 678]\n",
      "{673: 21, 668: 18, 678: 92, 679: 3, 682: 12, 687: 11, 689: 2, 690: 3, 674: 2, 692: 63, 694: 2, 667: 23, 676: 4, 703: 2, 714: 33, 713: 3, 717: 5, 719: 12, 723: 3, 729: 1}\n",
      "[678, 678, 678, 678, 678, 678, 678, 678, 678, 678, 678, 678, 678, 678, 678, 678, 678, 678, 678, 678, 678, 678, 678, 678, 678, 678, 678, 678, 678, 692, 678, 692, 678, 692, 678, 692, 678, 692, 678, 692, 678, 692, 678, 692, 678, 692, 678, 692, 678, 692, 678, 692, 678, 692, 678, 692, 678, 692, 678, 692, 678, 692, 678, 692, 678, 692, 678, 692, 678, 692, 678, 692, 678, 692, 678, 692, 678, 692, 678, 692, 678, 692, 678, 714, 692, 678, 714, 692, 678, 714, 692, 678, 692, 678, 692, 678, 692, 678, 692, 678]\n",
      "{673: 21, 668: 18, 678: 93, 679: 3, 682: 12, 687: 11, 689: 2, 690: 3, 674: 2, 692: 64, 694: 2, 667: 24, 676: 4, 703: 2, 714: 33, 713: 3, 717: 5, 719: 12, 723: 3, 729: 2}\n"
     ]
    },
    {
     "name": "stderr",
     "output_type": "stream",
     "text": [
      "0: 352x640 1 person, 8 cars, 1 bus, 3 trucks, 62.7ms\n",
      "Speed: 1.2ms preprocess, 62.7ms inference, 1.0ms postprocess per image at shape (1, 3, 352, 640)\n",
      "\n",
      "0: 352x640 1 person, 9 cars, 2 buss, 1 truck, 58.8ms\n",
      "Speed: 2.0ms preprocess, 58.8ms inference, 2.0ms postprocess per image at shape (1, 3, 352, 640)\n",
      "\n",
      "0: 352x640 1 person, 7 cars, 2 buss, 1 truck, 63.9ms\n",
      "Speed: 1.0ms preprocess, 63.9ms inference, 1.3ms postprocess per image at shape (1, 3, 352, 640)\n",
      "\n"
     ]
    },
    {
     "name": "stdout",
     "output_type": "stream",
     "text": [
      "[678, 678, 678, 678, 678, 678, 678, 678, 678, 678, 678, 678, 678, 678, 678, 678, 678, 678, 678, 678, 678, 678, 678, 678, 678, 678, 678, 678, 678, 692, 678, 692, 678, 692, 678, 692, 678, 692, 678, 692, 678, 692, 678, 692, 678, 692, 678, 692, 678, 692, 678, 692, 678, 692, 678, 692, 678, 692, 678, 692, 678, 692, 678, 692, 678, 692, 678, 692, 678, 692, 678, 692, 678, 692, 678, 692, 678, 692, 678, 692, 678, 692, 678, 714, 692, 678, 714, 692, 678, 714, 692, 678, 692, 678, 692, 678, 692, 678, 692, 678, 692, 678]\n",
      "{673: 21, 668: 18, 678: 94, 679: 3, 682: 12, 687: 11, 689: 2, 690: 3, 674: 2, 692: 65, 694: 2, 667: 25, 676: 4, 703: 2, 714: 33, 713: 3, 717: 5, 719: 12, 723: 3, 729: 2}\n",
      "[678, 678, 678, 678, 678, 678, 678, 678, 678, 678, 678, 678, 678, 678, 678, 678, 678, 678, 678, 678, 678, 678, 678, 678, 678, 678, 678, 678, 678, 692, 678, 692, 678, 692, 678, 692, 678, 692, 678, 692, 678, 692, 678, 692, 678, 692, 678, 692, 678, 692, 678, 692, 678, 692, 678, 692, 678, 692, 678, 692, 678, 692, 678, 692, 678, 692, 678, 692, 678, 692, 678, 692, 678, 692, 678, 692, 678, 692, 678, 692, 678, 692, 678, 714, 692, 678, 714, 692, 678, 714, 692, 678, 692, 678, 692, 678, 692, 678, 692, 678, 692, 678, 692, 678]\n",
      "{673: 21, 668: 18, 678: 95, 679: 3, 682: 12, 687: 11, 689: 2, 690: 3, 674: 2, 692: 66, 694: 2, 667: 26, 676: 4, 703: 2, 714: 33, 713: 3, 717: 5, 719: 12, 723: 3, 729: 2}\n",
      "[678, 678, 678, 678, 678, 678, 678, 678, 678, 678, 678, 678, 678, 678, 678, 678, 678, 678, 678, 678, 678, 678, 678, 678, 678, 678, 678, 678, 678, 692, 678, 692, 678, 692, 678, 692, 678, 692, 678, 692, 678, 692, 678, 692, 678, 692, 678, 692, 678, 692, 678, 692, 678, 692, 678, 692, 678, 692, 678, 692, 678, 692, 678, 692, 678, 692, 678, 692, 678, 692, 678, 692, 678, 692, 678, 692, 678, 692, 678, 692, 678, 692, 678, 714, 692, 678, 714, 692, 678, 714, 692, 678, 692, 678, 692, 678, 692, 678, 692, 678, 692, 678, 692, 678, 692, 678]\n",
      "{673: 21, 668: 18, 678: 96, 679: 3, 682: 12, 687: 11, 689: 2, 690: 3, 674: 2, 692: 67, 694: 2, 667: 27, 676: 4, 703: 2, 714: 33, 713: 3, 717: 5, 719: 12, 723: 3, 729: 2}\n"
     ]
    },
    {
     "name": "stderr",
     "output_type": "stream",
     "text": [
      "0: 352x640 1 person, 6 cars, 1 bus, 1 truck, 60.8ms\n",
      "Speed: 2.1ms preprocess, 60.8ms inference, 1.0ms postprocess per image at shape (1, 3, 352, 640)\n",
      "\n",
      "0: 352x640 1 person, 9 cars, 1 bus, 1 truck, 62.3ms\n",
      "Speed: 1.1ms preprocess, 62.3ms inference, 1.0ms postprocess per image at shape (1, 3, 352, 640)\n",
      "\n",
      "0: 352x640 9 cars, 1 bus, 1 truck, 65.0ms\n",
      "Speed: 1.0ms preprocess, 65.0ms inference, 2.0ms postprocess per image at shape (1, 3, 352, 640)\n",
      "\n"
     ]
    },
    {
     "name": "stdout",
     "output_type": "stream",
     "text": [
      "[678, 678, 678, 678, 678, 678, 678, 678, 678, 678, 678, 678, 678, 678, 678, 678, 678, 678, 678, 678, 678, 678, 678, 678, 678, 678, 678, 678, 678, 692, 678, 692, 678, 692, 678, 692, 678, 692, 678, 692, 678, 692, 678, 692, 678, 692, 678, 692, 678, 692, 678, 692, 678, 692, 678, 692, 678, 692, 678, 692, 678, 692, 678, 692, 678, 692, 678, 692, 678, 692, 678, 692, 678, 692, 678, 692, 678, 692, 678, 692, 678, 692, 678, 714, 692, 678, 714, 692, 678, 714, 692, 678, 692, 678, 692, 678, 692, 678, 692, 678, 692, 678, 692, 678, 692, 678, 692, 678]\n",
      "{673: 21, 668: 18, 678: 97, 679: 3, 682: 12, 687: 11, 689: 2, 690: 3, 674: 2, 692: 68, 694: 2, 667: 28, 676: 4, 703: 2, 714: 33, 713: 3, 717: 5, 719: 12, 723: 3, 729: 2}\n",
      "[678, 678, 678, 678, 678, 678, 678, 678, 678, 678, 678, 678, 678, 678, 678, 678, 678, 678, 678, 678, 678, 678, 678, 678, 678, 678, 678, 678, 678, 692, 678, 692, 678, 692, 678, 692, 678, 692, 678, 692, 678, 692, 678, 692, 678, 692, 678, 692, 678, 692, 678, 692, 678, 692, 678, 692, 678, 692, 678, 692, 678, 692, 678, 692, 678, 692, 678, 692, 678, 692, 678, 692, 678, 692, 678, 692, 678, 692, 678, 692, 678, 692, 678, 714, 692, 678, 714, 692, 678, 714, 692, 678, 692, 678, 692, 678, 692, 678, 692, 678, 692, 678, 692, 678, 692, 678, 692, 678, 692, 678]\n",
      "{673: 21, 668: 18, 678: 98, 679: 3, 682: 12, 687: 11, 689: 2, 690: 3, 674: 2, 692: 69, 694: 2, 667: 28, 676: 4, 703: 2, 714: 33, 713: 3, 717: 5, 719: 12, 723: 3, 729: 2}\n",
      "[678, 678, 678, 678, 678, 678, 678, 678, 678, 678, 678, 678, 678, 678, 678, 678, 678, 678, 678, 678, 678, 678, 678, 678, 678, 678, 678, 678, 678, 692, 678, 692, 678, 692, 678, 692, 678, 692, 678, 692, 678, 692, 678, 692, 678, 692, 678, 692, 678, 692, 678, 692, 678, 692, 678, 692, 678, 692, 678, 692, 678, 692, 678, 692, 678, 692, 678, 692, 678, 692, 678, 692, 678, 692, 678, 692, 678, 692, 678, 692, 678, 692, 678, 714, 692, 678, 714, 692, 678, 714, 692, 678, 692, 678, 692, 678, 692, 678, 692, 678, 692, 678, 692, 678, 692, 678, 692, 678, 692, 678, 714, 692, 678]\n",
      "{673: 21, 668: 18, 678: 99, 679: 3, 682: 12, 687: 11, 689: 2, 690: 3, 674: 2, 692: 70, 694: 2, 667: 28, 676: 4, 703: 2, 714: 34, 713: 3, 717: 5, 719: 13, 723: 3, 729: 2}\n"
     ]
    },
    {
     "name": "stderr",
     "output_type": "stream",
     "text": [
      "0: 352x640 8 cars, 1 bus, 1 truck, 66.1ms\n",
      "Speed: 1.0ms preprocess, 66.1ms inference, 1.0ms postprocess per image at shape (1, 3, 352, 640)\n",
      "\n",
      "0: 352x640 9 cars, 1 bus, 1 truck, 57.7ms\n",
      "Speed: 2.1ms preprocess, 57.7ms inference, 1.0ms postprocess per image at shape (1, 3, 352, 640)\n",
      "\n",
      "0: 352x640 9 cars, 2 buss, 1 truck, 60.1ms\n",
      "Speed: 1.0ms preprocess, 60.1ms inference, 1.0ms postprocess per image at shape (1, 3, 352, 640)\n",
      "\n"
     ]
    },
    {
     "name": "stdout",
     "output_type": "stream",
     "text": [
      "[678, 678, 678, 678, 678, 678, 678, 678, 678, 678, 678, 678, 678, 678, 678, 678, 678, 678, 678, 678, 678, 678, 678, 678, 678, 678, 678, 678, 678, 692, 678, 692, 678, 692, 678, 692, 678, 692, 678, 692, 678, 692, 678, 692, 678, 692, 678, 692, 678, 692, 678, 692, 678, 692, 678, 692, 678, 692, 678, 692, 678, 692, 678, 692, 678, 692, 678, 692, 678, 692, 678, 692, 678, 692, 678, 692, 678, 692, 678, 692, 678, 692, 678, 714, 692, 678, 714, 692, 678, 714, 692, 678, 692, 678, 692, 678, 692, 678, 692, 678, 692, 678, 692, 678, 692, 678, 692, 678, 692, 678, 714, 692, 678, 692, 678]\n",
      "{673: 21, 668: 18, 678: 100, 679: 3, 682: 12, 687: 11, 689: 2, 690: 3, 674: 2, 692: 71, 694: 2, 667: 28, 676: 4, 703: 2, 714: 34, 713: 3, 717: 5, 719: 14, 723: 3, 729: 2}\n",
      "[678, 678, 678, 678, 678, 678, 678, 678, 678, 678, 678, 678, 678, 678, 678, 678, 678, 678, 678, 678, 678, 678, 678, 678, 678, 678, 678, 678, 678, 692, 678, 692, 678, 692, 678, 692, 678, 692, 678, 692, 678, 692, 678, 692, 678, 692, 678, 692, 678, 692, 678, 692, 678, 692, 678, 692, 678, 692, 678, 692, 678, 692, 678, 692, 678, 692, 678, 692, 678, 692, 678, 692, 678, 692, 678, 692, 678, 692, 678, 692, 678, 692, 678, 714, 692, 678, 714, 692, 678, 714, 692, 678, 692, 678, 692, 678, 692, 678, 692, 678, 692, 678, 692, 678, 692, 678, 692, 678, 692, 678, 714, 692, 678, 692, 678, 692, 678]\n",
      "{673: 21, 668: 18, 678: 101, 679: 3, 682: 12, 687: 11, 689: 2, 690: 3, 674: 2, 692: 72, 694: 2, 667: 28, 676: 4, 703: 2, 714: 34, 713: 3, 717: 5, 719: 15, 723: 3, 729: 2}\n",
      "[678, 678, 678, 678, 678, 678, 678, 678, 678, 678, 678, 678, 678, 678, 678, 678, 678, 678, 678, 678, 678, 678, 678, 678, 678, 678, 678, 678, 678, 692, 678, 692, 678, 692, 678, 692, 678, 692, 678, 692, 678, 692, 678, 692, 678, 692, 678, 692, 678, 692, 678, 692, 678, 692, 678, 692, 678, 692, 678, 692, 678, 692, 678, 692, 678, 692, 678, 692, 678, 692, 678, 692, 678, 692, 678, 692, 678, 692, 678, 692, 678, 692, 678, 714, 692, 678, 714, 692, 678, 714, 692, 678, 692, 678, 692, 678, 692, 678, 692, 678, 692, 678, 692, 678, 692, 678, 692, 678, 692, 678, 714, 692, 678, 692, 678, 692, 678, 692, 678]\n",
      "{673: 21, 668: 18, 678: 102, 679: 3, 682: 12, 687: 11, 689: 2, 690: 3, 674: 2, 692: 73, 694: 2, 667: 28, 676: 4, 703: 2, 714: 34, 713: 3, 717: 5, 719: 16, 723: 3, 729: 2}\n"
     ]
    },
    {
     "name": "stderr",
     "output_type": "stream",
     "text": [
      "0: 352x640 9 cars, 2 buss, 1 truck, 45.0ms\n",
      "Speed: 1.5ms preprocess, 45.0ms inference, 1.0ms postprocess per image at shape (1, 3, 352, 640)\n",
      "\n",
      "0: 352x640 12 cars, 2 buss, 1 truck, 56.7ms\n",
      "Speed: 2.3ms preprocess, 56.7ms inference, 1.0ms postprocess per image at shape (1, 3, 352, 640)\n",
      "\n",
      "0: 352x640 12 cars, 2 buss, 1 truck, 61.3ms\n",
      "Speed: 1.2ms preprocess, 61.3ms inference, 1.0ms postprocess per image at shape (1, 3, 352, 640)\n",
      "\n"
     ]
    },
    {
     "name": "stdout",
     "output_type": "stream",
     "text": [
      "[678, 678, 678, 678, 678, 678, 678, 678, 678, 678, 678, 678, 678, 678, 678, 678, 678, 678, 678, 678, 678, 678, 678, 678, 678, 678, 678, 678, 678, 692, 678, 692, 678, 692, 678, 692, 678, 692, 678, 692, 678, 692, 678, 692, 678, 692, 678, 692, 678, 692, 678, 692, 678, 692, 678, 692, 678, 692, 678, 692, 678, 692, 678, 692, 678, 692, 678, 692, 678, 692, 678, 692, 678, 692, 678, 692, 678, 692, 678, 692, 678, 692, 678, 714, 692, 678, 714, 692, 678, 714, 692, 678, 692, 678, 692, 678, 692, 678, 692, 678, 692, 678, 692, 678, 692, 678, 692, 678, 692, 678, 714, 692, 678, 692, 678, 692, 678, 692, 678, 692, 678]\n",
      "{673: 21, 668: 18, 678: 103, 679: 3, 682: 12, 687: 11, 689: 2, 690: 3, 674: 2, 692: 74, 694: 2, 667: 28, 676: 4, 703: 2, 714: 34, 713: 3, 717: 5, 719: 17, 723: 3, 729: 2}\n",
      "[678, 678, 678, 678, 678, 678, 678, 678, 678, 678, 678, 678, 678, 678, 678, 678, 678, 678, 678, 678, 678, 678, 678, 678, 678, 678, 678, 678, 678, 692, 678, 692, 678, 692, 678, 692, 678, 692, 678, 692, 678, 692, 678, 692, 678, 692, 678, 692, 678, 692, 678, 692, 678, 692, 678, 692, 678, 692, 678, 692, 678, 692, 678, 692, 678, 692, 678, 692, 678, 692, 678, 692, 678, 692, 678, 692, 678, 692, 678, 692, 678, 692, 678, 714, 692, 678, 714, 692, 678, 714, 692, 678, 692, 678, 692, 678, 692, 678, 692, 678, 692, 678, 692, 678, 692, 678, 692, 678, 692, 678, 714, 692, 678, 692, 678, 692, 678, 692, 678, 692, 678, 692, 678]\n",
      "{673: 21, 668: 18, 678: 104, 679: 3, 682: 12, 687: 11, 689: 2, 690: 3, 674: 2, 692: 75, 694: 2, 667: 28, 676: 4, 703: 2, 714: 34, 713: 3, 717: 5, 719: 18, 723: 3, 729: 2}\n",
      "[678, 678, 678, 678, 678, 678, 678, 678, 678, 678, 678, 678, 678, 678, 678, 678, 678, 678, 678, 678, 678, 678, 678, 678, 678, 678, 678, 678, 678, 692, 678, 692, 678, 692, 678, 692, 678, 692, 678, 692, 678, 692, 678, 692, 678, 692, 678, 692, 678, 692, 678, 692, 678, 692, 678, 692, 678, 692, 678, 692, 678, 692, 678, 692, 678, 692, 678, 692, 678, 692, 678, 692, 678, 692, 678, 692, 678, 692, 678, 692, 678, 692, 678, 714, 692, 678, 714, 692, 678, 714, 692, 678, 692, 678, 692, 678, 692, 678, 692, 678, 692, 678, 692, 678, 692, 678, 692, 678, 692, 678, 714, 692, 678, 692, 678, 692, 678, 692, 678, 692, 678, 692, 678, 714, 692, 678]\n",
      "{673: 21, 668: 18, 678: 105, 679: 3, 682: 12, 687: 11, 689: 2, 690: 3, 674: 2, 692: 76, 694: 2, 667: 28, 676: 4, 703: 2, 714: 35, 713: 3, 717: 5, 719: 19, 723: 3, 729: 2, 733: 1, 731: 1}\n"
     ]
    },
    {
     "name": "stderr",
     "output_type": "stream",
     "text": [
      "0: 352x640 10 cars, 1 bus, 1 truck, 62.9ms\n",
      "Speed: 2.0ms preprocess, 62.9ms inference, 2.0ms postprocess per image at shape (1, 3, 352, 640)\n",
      "\n",
      "0: 352x640 10 cars, 1 bus, 1 truck, 67.4ms\n",
      "Speed: 1.0ms preprocess, 67.4ms inference, 1.0ms postprocess per image at shape (1, 3, 352, 640)\n",
      "\n",
      "0: 352x640 12 cars, 1 bus, 1 truck, 60.8ms\n",
      "Speed: 2.0ms preprocess, 60.8ms inference, 1.4ms postprocess per image at shape (1, 3, 352, 640)\n",
      "\n"
     ]
    },
    {
     "name": "stdout",
     "output_type": "stream",
     "text": [
      "[678, 678, 678, 678, 678, 678, 678, 678, 678, 678, 678, 678, 678, 678, 678, 678, 678, 678, 678, 678, 678, 678, 678, 678, 678, 678, 678, 678, 678, 692, 678, 692, 678, 692, 678, 692, 678, 692, 678, 692, 678, 692, 678, 692, 678, 692, 678, 692, 678, 692, 678, 692, 678, 692, 678, 692, 678, 692, 678, 692, 678, 692, 678, 692, 678, 692, 678, 692, 678, 692, 678, 692, 678, 692, 678, 692, 678, 692, 678, 692, 678, 692, 678, 714, 692, 678, 714, 692, 678, 714, 692, 678, 692, 678, 692, 678, 692, 678, 692, 678, 692, 678, 692, 678, 692, 678, 692, 678, 692, 678, 714, 692, 678, 692, 678, 692, 678, 692, 678, 692, 678, 692, 678, 714, 692, 678, 692, 678]\n",
      "{673: 21, 668: 18, 678: 106, 679: 3, 682: 12, 687: 11, 689: 2, 690: 3, 674: 2, 692: 77, 694: 2, 667: 28, 676: 4, 703: 2, 714: 35, 713: 3, 717: 5, 719: 20, 723: 3, 729: 2, 733: 1, 731: 1}\n",
      "[678, 678, 678, 678, 678, 678, 678, 678, 678, 678, 678, 678, 678, 678, 678, 678, 678, 678, 678, 678, 678, 678, 678, 678, 678, 678, 678, 678, 678, 692, 678, 692, 678, 692, 678, 692, 678, 692, 678, 692, 678, 692, 678, 692, 678, 692, 678, 692, 678, 692, 678, 692, 678, 692, 678, 692, 678, 692, 678, 692, 678, 692, 678, 692, 678, 692, 678, 692, 678, 692, 678, 692, 678, 692, 678, 692, 678, 692, 678, 692, 678, 692, 678, 714, 692, 678, 714, 692, 678, 714, 692, 678, 692, 678, 692, 678, 692, 678, 692, 678, 692, 678, 692, 678, 692, 678, 692, 678, 692, 678, 714, 692, 678, 692, 678, 692, 678, 692, 678, 692, 678, 692, 678, 714, 692, 678, 692, 678, 692]\n",
      "{673: 21, 668: 18, 678: 106, 679: 3, 682: 12, 687: 11, 689: 2, 690: 3, 674: 2, 692: 78, 694: 2, 667: 28, 676: 4, 703: 2, 714: 35, 713: 3, 717: 5, 719: 21, 723: 3, 729: 2, 733: 1, 731: 1}\n",
      "[678, 678, 678, 678, 678, 678, 678, 678, 678, 678, 678, 678, 678, 678, 678, 678, 678, 678, 678, 678, 678, 678, 678, 678, 678, 678, 678, 678, 678, 692, 678, 692, 678, 692, 678, 692, 678, 692, 678, 692, 678, 692, 678, 692, 678, 692, 678, 692, 678, 692, 678, 692, 678, 692, 678, 692, 678, 692, 678, 692, 678, 692, 678, 692, 678, 692, 678, 692, 678, 692, 678, 692, 678, 692, 678, 692, 678, 692, 678, 692, 678, 692, 678, 714, 692, 678, 714, 692, 678, 714, 692, 678, 692, 678, 692, 678, 692, 678, 692, 678, 692, 678, 692, 678, 692, 678, 692, 678, 692, 678, 714, 692, 678, 692, 678, 692, 678, 692, 678, 692, 678, 692, 678, 714, 692, 678, 692, 678, 692, 692]\n",
      "{673: 21, 668: 18, 678: 106, 679: 3, 682: 12, 687: 11, 689: 2, 690: 3, 674: 2, 692: 79, 694: 2, 667: 28, 676: 4, 703: 2, 714: 35, 713: 3, 717: 5, 719: 22, 723: 3, 729: 2, 733: 2, 731: 1}\n"
     ]
    },
    {
     "name": "stderr",
     "output_type": "stream",
     "text": [
      "0: 352x640 13 cars, 1 bus, 2 trucks, 64.1ms\n",
      "Speed: 1.0ms preprocess, 64.1ms inference, 1.0ms postprocess per image at shape (1, 3, 352, 640)\n",
      "\n",
      "0: 352x640 13 cars, 1 bus, 2 trucks, 60.5ms\n",
      "Speed: 1.0ms preprocess, 60.5ms inference, 1.0ms postprocess per image at shape (1, 3, 352, 640)\n",
      "\n",
      "0: 352x640 14 cars, 1 bus, 2 trucks, 66.2ms\n",
      "Speed: 2.2ms preprocess, 66.2ms inference, 1.0ms postprocess per image at shape (1, 3, 352, 640)\n",
      "\n"
     ]
    },
    {
     "name": "stdout",
     "output_type": "stream",
     "text": [
      "[678, 678, 678, 678, 678, 678, 678, 678, 678, 678, 678, 678, 678, 678, 678, 678, 678, 678, 678, 678, 678, 678, 678, 678, 678, 678, 678, 678, 678, 692, 678, 692, 678, 692, 678, 692, 678, 692, 678, 692, 678, 692, 678, 692, 678, 692, 678, 692, 678, 692, 678, 692, 678, 692, 678, 692, 678, 692, 678, 692, 678, 692, 678, 692, 678, 692, 678, 692, 678, 692, 678, 692, 678, 692, 678, 692, 678, 692, 678, 692, 678, 692, 678, 714, 692, 678, 714, 692, 678, 714, 692, 678, 692, 678, 692, 678, 692, 678, 692, 678, 692, 678, 692, 678, 692, 678, 692, 678, 692, 678, 714, 692, 678, 692, 678, 692, 678, 692, 678, 692, 678, 692, 678, 714, 692, 678, 692, 678, 692, 692, 714, 692, 678]\n",
      "{673: 21, 668: 18, 678: 107, 679: 3, 682: 12, 687: 11, 689: 2, 690: 3, 674: 2, 692: 80, 694: 2, 667: 28, 676: 4, 703: 2, 714: 36, 713: 3, 717: 5, 719: 23, 723: 3, 729: 2, 733: 3, 731: 2}\n",
      "[678, 678, 678, 678, 678, 678, 678, 678, 678, 678, 678, 678, 678, 678, 678, 678, 678, 678, 678, 678, 678, 678, 678, 678, 678, 678, 678, 678, 678, 692, 678, 692, 678, 692, 678, 692, 678, 692, 678, 692, 678, 692, 678, 692, 678, 692, 678, 692, 678, 692, 678, 692, 678, 692, 678, 692, 678, 692, 678, 692, 678, 692, 678, 692, 678, 692, 678, 692, 678, 692, 678, 692, 678, 692, 678, 692, 678, 692, 678, 692, 678, 692, 678, 714, 692, 678, 714, 692, 678, 714, 692, 678, 692, 678, 692, 678, 692, 678, 692, 678, 692, 678, 692, 678, 692, 678, 692, 678, 692, 678, 714, 692, 678, 692, 678, 692, 678, 692, 678, 692, 678, 692, 678, 714, 692, 678, 692, 678, 692, 692, 714, 692, 678, 692, 678]\n",
      "{673: 21, 668: 18, 678: 108, 679: 3, 682: 12, 687: 11, 689: 2, 690: 3, 674: 2, 692: 81, 694: 2, 667: 28, 676: 4, 703: 2, 714: 36, 713: 3, 717: 5, 719: 24, 723: 3, 729: 2, 733: 4, 731: 3}\n",
      "[678, 678, 678, 678, 678, 678, 678, 678, 678, 678, 678, 678, 678, 678, 678, 678, 678, 678, 678, 678, 678, 678, 678, 678, 678, 678, 678, 678, 678, 692, 678, 692, 678, 692, 678, 692, 678, 692, 678, 692, 678, 692, 678, 692, 678, 692, 678, 692, 678, 692, 678, 692, 678, 692, 678, 692, 678, 692, 678, 692, 678, 692, 678, 692, 678, 692, 678, 692, 678, 692, 678, 692, 678, 692, 678, 692, 678, 692, 678, 692, 678, 692, 678, 714, 692, 678, 714, 692, 678, 714, 692, 678, 692, 678, 692, 678, 692, 678, 692, 678, 692, 678, 692, 678, 692, 678, 692, 678, 692, 678, 714, 692, 678, 692, 678, 692, 678, 692, 678, 692, 678, 692, 678, 714, 692, 678, 692, 678, 692, 692, 714, 692, 678, 692, 678, 692, 678]\n",
      "{673: 21, 668: 18, 678: 109, 679: 3, 682: 12, 687: 11, 689: 2, 690: 3, 674: 2, 692: 82, 694: 2, 667: 28, 676: 4, 703: 2, 714: 36, 713: 3, 717: 5, 719: 25, 723: 3, 729: 2, 733: 5, 731: 4}\n"
     ]
    },
    {
     "name": "stderr",
     "output_type": "stream",
     "text": [
      "0: 352x640 13 cars, 1 bus, 2 trucks, 61.6ms\n",
      "Speed: 1.3ms preprocess, 61.6ms inference, 1.0ms postprocess per image at shape (1, 3, 352, 640)\n",
      "\n",
      "0: 352x640 11 cars, 1 bus, 2 trucks, 63.9ms\n",
      "Speed: 2.2ms preprocess, 63.9ms inference, 1.0ms postprocess per image at shape (1, 3, 352, 640)\n",
      "\n",
      "0: 352x640 11 cars, 1 bus, 2 trucks, 67.5ms\n",
      "Speed: 2.1ms preprocess, 67.5ms inference, 1.0ms postprocess per image at shape (1, 3, 352, 640)\n"
     ]
    },
    {
     "name": "stdout",
     "output_type": "stream",
     "text": [
      "[678, 678, 678, 678, 678, 678, 678, 678, 678, 678, 678, 678, 678, 678, 678, 678, 678, 678, 678, 678, 678, 678, 678, 678, 678, 678, 678, 678, 678, 692, 678, 692, 678, 692, 678, 692, 678, 692, 678, 692, 678, 692, 678, 692, 678, 692, 678, 692, 678, 692, 678, 692, 678, 692, 678, 692, 678, 692, 678, 692, 678, 692, 678, 692, 678, 692, 678, 692, 678, 692, 678, 692, 678, 692, 678, 692, 678, 692, 678, 692, 678, 692, 678, 714, 692, 678, 714, 692, 678, 714, 692, 678, 692, 678, 692, 678, 692, 678, 692, 678, 692, 678, 692, 678, 692, 678, 692, 678, 692, 678, 714, 692, 678, 692, 678, 692, 678, 692, 678, 692, 678, 692, 678, 714, 692, 678, 692, 678, 692, 692, 714, 692, 678, 692, 678, 692, 678, 714, 692, 678]\n",
      "{673: 21, 668: 18, 678: 110, 679: 3, 682: 12, 687: 11, 689: 2, 690: 3, 674: 2, 692: 83, 694: 2, 667: 28, 676: 4, 703: 2, 714: 37, 713: 3, 717: 5, 719: 26, 723: 3, 729: 2, 733: 6, 731: 5, 739: 1}\n",
      "[678, 678, 678, 678, 678, 678, 678, 678, 678, 678, 678, 678, 678, 678, 678, 678, 678, 678, 678, 678, 678, 678, 678, 678, 678, 678, 678, 678, 678, 692, 678, 692, 678, 692, 678, 692, 678, 692, 678, 692, 678, 692, 678, 692, 678, 692, 678, 692, 678, 692, 678, 692, 678, 692, 678, 692, 678, 692, 678, 692, 678, 692, 678, 692, 678, 692, 678, 692, 678, 692, 678, 692, 678, 692, 678, 692, 678, 692, 678, 692, 678, 692, 678, 714, 692, 678, 714, 692, 678, 714, 692, 678, 692, 678, 692, 678, 692, 678, 692, 678, 692, 678, 692, 678, 692, 678, 692, 678, 692, 678, 714, 692, 678, 692, 678, 692, 678, 692, 678, 692, 678, 692, 678, 714, 692, 678, 692, 678, 692, 692, 714, 692, 678, 692, 678, 692, 678, 714, 692, 678, 692, 678]\n",
      "{673: 21, 668: 18, 678: 111, 679: 3, 682: 12, 687: 11, 689: 2, 690: 3, 674: 2, 692: 84, 694: 2, 667: 28, 676: 4, 703: 2, 714: 37, 713: 3, 717: 5, 719: 26, 723: 3, 729: 2, 733: 7, 731: 5, 739: 2}\n",
      "[678, 678, 678, 678, 678, 678, 678, 678, 678, 678, 678, 678, 678, 678, 678, 678, 678, 678, 678, 678, 678, 678, 678, 678, 678, 678, 678, 678, 678, 692, 678, 692, 678, 692, 678, 692, 678, 692, 678, 692, 678, 692, 678, 692, 678, 692, 678, 692, 678, 692, 678, 692, 678, 692, 678, 692, 678, 692, 678, 692, 678, 692, 678, 692, 678, 692, 678, 692, 678, 692, 678, 692, 678, 692, 678, 692, 678, 692, 678, 692, 678, 692, 678, 714, 692, 678, 714, 692, 678, 714, 692, 678, 692, 678, 692, 678, 692, 678, 692, 678, 692, 678, 692, 678, 692, 678, 692, 678, 692, 678, 714, 692, 678, 692, 678, 692, 678, 692, 678, 692, 678, 692, 678, 714, 692, 678, 692, 678, 692, 692, 714, 692, 678, 692, 678, 692, 678, 714, 692, 678, 692, 678, 692, 678]\n",
      "{673: 21, 668: 18, 678: 112, 679: 3, 682: 12, 687: 11, 689: 2, 690: 3, 674: 2, 692: 85, 694: 2, 667: 28, 676: 4, 703: 2, 714: 37, 713: 3, 717: 5, 719: 26, 723: 3, 729: 2, 733: 8, 731: 5, 739: 3}\n"
     ]
    }
   ],
   "source": [
    "#from ultralytics import YOLO\n",
    "#from IPython.display import display, Image\n",
    "#import cv2\n",
    "#import numpy as np\n",
    "#from object_detection import ObjectDetection\n",
    "#import math\n",
    "#from sort import *\n",
    "\n",
    "classNames = [\"person\", \"bicycle\", \"car\", \"motorbike\", \"aeroplane\", \"bus\", \"train\", \"truck\", \"boat\",\n",
    "              \"traffic light\", \"fire hydrant\", \"stop sign\"]\n",
    "\n",
    "def dist(P, A, B):\n",
    "    area = abs ( (A[0] - P[0]) * (B[1] - P[1]) - (A[1] - P[1]) * (B[0] - P[0]) )\n",
    "    AB = ( (A[0] - B[0]) ** 2 + (A[1] - B[1]) ** 2 ) ** 0.5\n",
    "    return ( area / AB )\n",
    "#A가 아래 B가 위\n",
    "L1_A=(260,450)\n",
    "L1_B=(420,180) #distance 40\n",
    "\n",
    "L2_A=(350,450) #id 194\n",
    "L2_B=(463,200) #id 91 distance 30\n",
    "\n",
    "L3_A=(385,450) #id 60\n",
    "L3_B=(505,200) #id 30  distance 30\n",
    "\n",
    "L4_A=(450,450) #id 105\n",
    "L4_B=(550,200)  #id 85  distacne 30\n",
    "\n",
    "\n",
    "R1_A=(550,450)\n",
    "R1_B=(670,200) #distance 40\n",
    "\n",
    "R2_A=(630,450) #id 194\n",
    "R2_B=(724,200) #id 91 distance 30\n",
    "\n",
    "R3_A=(700,450) #id 60  ####기준점\n",
    "R3_B=(725,200) #id 30  distance 30 \n",
    "\n",
    "R4_A=(770,450) #id 105\n",
    "R4_B=(825,180)  #id 85  distacne 30\n",
    "\n",
    "# Initialize Object Detection\n",
    "# od = ObjectDetection()\n",
    "model = YOLO('yolov8n.pt')\n",
    "cap = cv2.VideoCapture(\"Tokyo1.mp4\")\n",
    "\n",
    "frameWidth = int(cap.get(cv2.CAP_PROP_FRAME_WIDTH))\t# 영상의 넓이(가로) 프레임\n",
    "frameHeight = int(cap.get(cv2.CAP_PROP_FRAME_HEIGHT))\t# 영상의 높이(세로) 프레임\n",
    "frame_size = (frameWidth, frameHeight)\n",
    "\n",
    "print(frame_size)\n",
    "# Initialize count\n",
    "count = 0\n",
    "center_points_prev_frame = []\n",
    "\n",
    "danger_car_pt={}\n",
    "danger_car_id=[]\n",
    "tracking_objects = {}\n",
    "track_id = 0\n",
    "tracker = Sort(max_age=12, min_hits=2, iou_threshold=0.4)\n",
    "\n",
    "mask = cv2.imread(\"mmask.png\")\n",
    "mask=cv2.resize(mask,(frameWidth,frameHeight))\n",
    "\n",
    "while True:\n",
    "    tracking_objects = {}\n",
    "    retval, frame = cap.read()\n",
    "    imgRegion = cv2.bitwise_and(frame,mask)\n",
    "    count += 1\n",
    "    if not(retval):\n",
    "        break\n",
    "#그리드 그리기\n",
    "\n",
    "    rows,cols, _ = frame.shape\n",
    "    cell_size =50\n",
    "    \n",
    "    for i in range(0,rows,cell_size):\n",
    "        cv2.line(frame,(0,i),(cols,i),(255,0,0),1)\n",
    "    for j in range(0,cols,cell_size):\n",
    "        cv2.line(frame,(j,0),(j,rows),(255,0,0),1)\n",
    "#여기까지    \n",
    "    # Point current frame\n",
    "    center_points_cur_frame = []\n",
    "\n",
    "    # Detect objects on frame\n",
    "    results = model(imgRegion,stream=True)\n",
    "    detections = np.empty((0,5))\n",
    "    \n",
    "    for r in results:\n",
    "        boxes = r.boxes\n",
    "        for box in boxes:\n",
    "            x1, y1, x2, y2 = box.xyxy[0]\n",
    "            x1, y1, x2, y2 = int(x1), int(y1), int(x2), int(y2)\n",
    "            cx = int((x1+x2) / 2)\n",
    "            cy = int((y1+y2) / 2)\n",
    "            center_points_cur_frame.append((cx, cy, 'Danger!'))\n",
    "            conf = math.ceil((box.conf[0]*100)) / 100\n",
    "            cls = int(box.cls[0])\n",
    "            currentClass = classNames[cls]\n",
    "\n",
    "            if currentClass == \"car\" or currentClass == \"truck\" or currentClass == \"bus\" \\\n",
    "                    or currentClass == \"motorbike\" and conf > 0.3:\n",
    "                cv2.rectangle(frame, (x1, y1), (x2,y2), (0, 255, 0), 2) \n",
    "                currentArray = np.array([x1,y1,x2,y2,conf])\n",
    "                detections = np.vstack((detections,currentArray))\n",
    "\n",
    "    # Only at the beginning we compare previous and current frame\n",
    "    \n",
    "    resultsTracker=tracker.update(detections)\n",
    "    \n",
    "    for result in resultsTracker:\n",
    "        x1,y1,x2,y2,Id = result\n",
    "        cx = int((x1+x2) / 2)\n",
    "        cy = int((y1+y2) / 2)\n",
    "        Id = int(Id)\n",
    "                \n",
    "    # for object_id, pt in tracking_objects.items():\n",
    "        if dist((cx,cy), L1_A, L1_B) < 20:\n",
    "            tracking_objects[Id]=(cx,cy,'L1')\n",
    "        \n",
    "        elif dist((cx,cy), L2_A, L2_B) < 20:\n",
    "            tracking_objects[Id]=(cx,cy,'L2')\n",
    "            \n",
    "        elif dist((cx,cy), L3_A, L3_B) < 20:\n",
    "            tracking_objects[Id]=(cx,cy,'L3')\n",
    "        \n",
    "        elif dist((cx,cy), L4_A, L4_B) < 20:\n",
    "            tracking_objects[Id]=(cx,cy,'L4')\n",
    "            \n",
    "            \n",
    "        elif dist((cx,cy), R1_A, R1_B) < 20:\n",
    "            tracking_objects[Id]=(cx,cy,'R1')\n",
    "        \n",
    "        elif dist((cx,cy), R2_A, R2_B) < 20:\n",
    "            tracking_objects[Id]=(cx,cy,'R2')\n",
    "            \n",
    "        elif dist((cx,cy), R3_A, R3_B) < 20:\n",
    "            tracking_objects[Id]=(cx,cy,'R3')\n",
    "        \n",
    "        elif dist((cx,cy), R4_A, R4_B) < 20:\n",
    "            tracking_objects[Id]=(cx,cy,'R4')\n",
    "        \n",
    "        else:\n",
    "            tracking_objects[Id]=(cx,cy,'Danger')\n",
    "            if Id in danger_car_pt:\n",
    "                danger_car_pt[Id] +=1\n",
    "                if danger_car_pt[Id] > 30 and id not in danger_car_id:\n",
    "                    danger_car_id.append(Id)\n",
    "                    \n",
    "            else:\n",
    "                danger_car_pt[Id] = 1\n",
    "\n",
    "    for object_id, pt in tracking_objects.items():\n",
    "        tmp= pt[2]+'['+str(object_id)+']'\n",
    "        cv2.circle(frame, (pt[0],pt[1]), 5, (0, 0, 255), -1)\n",
    "        cv2.putText(frame, tmp, (pt[0], pt[1] - 7), 0, 0.8, (0, 0, 255), 2)\n",
    "    \n",
    "    cv2.imshow(\"Frame\", frame)\n",
    "\n",
    "    center_points_prev_frame = [center_points_cur_frame.copy()]\n",
    "    print(danger_car_id)\n",
    "    print(danger_car_pt)\n",
    "    key = cv2.waitKey(0)\n",
    "    if key == 27:\n",
    "        break\n",
    "\n",
    "\n",
    "\n",
    "cap.release()\n",
    "cv2.destroyAllWindows()"
   ]
  },
  {
   "cell_type": "code",
   "execution_count": 5,
   "metadata": {},
   "outputs": [],
   "source": [
    "from ultralytics import YOLO\n",
    "from IPython.display import display, Image\n",
    "import cv2\n",
    "import numpy as np\n",
    "# from object_detection import ObjectDetection\n",
    "import math\n",
    "# from sort import *"
   ]
  },
  {
   "cell_type": "code",
   "execution_count": 3,
   "metadata": {},
   "outputs": [],
   "source": [
    "from sort import *\n",
    " "
   ]
  },
  {
   "cell_type": "code",
   "execution_count": 11,
   "metadata": {},
   "outputs": [],
   "source": [
    "import matplotlib.pyplot as plt\n",
    "import matplotlib.patches as patches\n",
    "from PIL import Image\n",
    "\n",
    "# 이미지 파일 경로\n",
    "image_path = 'mask.png'\n",
    "\n",
    "# 이미지 열기\n",
    "img = Image.open(image_path)\n",
    "\n",
    "# 이미지 플로팅\n",
    "plt.imshow(img)\n",
    "\n",
    "# 점 좌표 (예시)\n",
    "point_x = 734\n",
    "point_y = 337\n",
    "\n",
    "pooint_x = 130\n",
    "pooint_y = 150\n",
    "\n",
    "# 점 그리기\n",
    "plt.scatter(point_x, point_y, c='red', marker='o', s=50)  # 점 색상, 모양, 크기 등 설정\n",
    "plt.scatter(pooint_x, pooint_y, c='blue', marker='o', s=50)  # 점 색상, 모양, 크기 등 설정\n",
    "\n",
    "# 플로팅 업데이트\n",
    "plt.show()\n"
   ]
  },
  {
   "cell_type": "code",
   "execution_count": 37,
   "metadata": {},
   "outputs": [
    {
     "name": "stdout",
     "output_type": "stream",
     "text": [
      "(0, 0)\n"
     ]
    }
   ],
   "source": [
    "from ultralytics import YOLO\n",
    "from IPython.display import display, Image\n",
    "import cv2\n",
    "import numpy as np\n",
    "from object_detection import ObjectDetection\n",
    "import math\n",
    "from sort import *\n",
    "\n",
    "classNames = [\"person\", \"bicycle\", \"car\", \"motorbike\", \"aeroplane\", \"bus\", \"train\", \"truck\", \"boat\",\n",
    "              \"traffic light\", \"fire hydrant\", \"stop sign\", \"parking meter\", \"bench\", \"bird\", \"cat\",\n",
    "              \"dog\", \"horse\", \"sheep\", \"cow\", \"elephant\", \"bear\", \"zebra\", \"giraffe\", \"backpack\", \"umbrella\",\n",
    "              \"handbag\", \"tie\", \"suitcase\", \"frisbee\", \"skis\", \"snowboard\", \"sports ball\", \"kite\", \"baseball bat\",\n",
    "              \"baseball glove\", \"skateboard\", \"surfboard\", \"tennis racket\", \"bottle\", \"wine glass\", \"cup\",\n",
    "              \"fork\", \"knife\", \"spoon\", \"bowl\", \"banana\", \"apple\", \"sandwich\", \"orange\", \"broccoli\",\n",
    "              \"carrot\", \"hot dog\", \"pizza\", \"donut\", \"cake\", \"chair\", \"sofa\", \"pottedplant\", \"bed\",\n",
    "              \"diningtable\", \"toilet\", \"tvmonitor\", \"laptop\", \"mouse\", \"remote\", \"keyboard\", \"cell phone\",\n",
    "              \"microwave\", \"oven\", \"toaster\", \"sink\", \"refrigerator\", \"book\", \"clock\", \"vase\", \"scissors\",\n",
    "              \"teddy bear\", \"hair drier\", \"toothbrush\"\n",
    "              ]\n",
    "\n",
    "def dist(P, A, B):\n",
    "    area = abs ( (A[0] - P[0]) * (B[1] - P[1]) - (A[1] - P[1]) * (B[0] - P[0]) )\n",
    "    AB = ( (A[0] - B[0]) ** 2 + (A[1] - B[1]) ** 2 ) ** 0.5\n",
    "    return ( area / AB )\n",
    "\n",
    "f1_A=(388,821)\n",
    "f1_B=(661,404) #distance 40\n",
    "\n",
    "f2_A=(582, 876) #id 194\n",
    "f2_B=(703, 415) #id 91 distance 30\n",
    "\n",
    "f3_A=(782, 865) #id 60\n",
    "f3_B=(743, 417) #id 30  distance 30\n",
    "\n",
    "f4_A=(999, 866) #id 105\n",
    "f4_B=(789, 417)  #id 85  distacne 30\n",
    "\n",
    "f5_A=(1183, 850) #id 4\n",
    "f5_B=(846, 429) #id 29 distance 30\n",
    "\n",
    "# Initialize Object Detection\n",
    "# od = ObjectDetection()\n",
    "model = YOLO('yolov8n.pt')\n",
    "cap = cv2.VideoCapture(\"2.mp4\")\n",
    "\n",
    "frameWidth = int(cap.get(cv2.CAP_PROP_FRAME_WIDTH))\t# 영상의 넓이(가로) 프레임\n",
    "frameHeight = int(cap.get(cv2.CAP_PROP_FRAME_HEIGHT))\t# 영상의 높이(세로) 프레임\n",
    "frame_size = (frameWidth, frameHeight)\n",
    "\n",
    "print(frame_size)\n",
    "# Initialize count\n",
    "count = 0\n",
    "center_points_prev_frame = []\n",
    "\n",
    "danger_car_id=[]\n",
    "\n",
    "tracking_objects = {}\n",
    "track_id = 0\n",
    "\n",
    "tracker = Sort(max_age=10, min_hits=3, iou_threshold=0.3)\n",
    "mask = cv2.imread(\"mask.png\")\n",
    "\n",
    "while True:\n",
    "    retval, frame = cap.read()\n",
    "    # imgRegion = cv2.bitwise_and(frame,mask)\n",
    "    count += 1\n",
    "    if not(retval):\n",
    "        break\n",
    "\n",
    "    # Point current frame\n",
    "    center_points_cur_frame = []\n",
    "\n",
    "    # Detect objects on frame\n",
    "    results = model(frame,stream=True)\n",
    "    detections = np.empty((0,5))\n",
    "    \n",
    "    for r in results:\n",
    "        boxes = r.boxes\n",
    "        for box in boxes:\n",
    "            x1, y1, x2, y2 = box.xyxy[0]\n",
    "            x1, y1, x2, y2 = int(x1), int(y1), int(x2), int(y2)\n",
    "            cx = int((x1+x2) / 2)\n",
    "            cy = int((y1+y2) / 2)\n",
    "            center_points_cur_frame.append((cx, cy, 'Danger!'))\n",
    "            conf = math.ceil((box.conf[0]*100)) / 100\n",
    "            cls = int(box.cls[0])\n",
    "            currentClass = classNames[cls]\n",
    "            #print(\"FRAME N°\", count, \" \", x, y, w, h)\n",
    "            # cv2.circle(frame, (cx, cy), 5, (0, 0, 255), -1)\n",
    "            if currentClass == \"car\" or currentClass == \"truck\" or currentClass == \"bus\" \\\n",
    "                    or currentClass == \"motorbike\" or currentClass == \"person\" and conf > 0.3:\n",
    "                cv2.rectangle(frame, (x1, y1), (x2,y2), (0, 255, 0), 2) \n",
    "                currentArray = np.array([x1,y1,x2,y2,conf])\n",
    "                detections = np.vstack((detections,currentArray))\n",
    "\n",
    "    # Only at the beginning we compare previous and current frame\n",
    "    \n",
    "\n",
    "    resultsTracker=tracker.update(detections)\n",
    "    \n",
    "    for result in resultsTracker:\n",
    "        x1,y1,x2,y2,Id = result\n",
    "        cx = int((x1+x2) / 2)\n",
    "        cy = int((y1+y2) / 2)\n",
    "        Id = int(Id)\n",
    "        # print(cx,cy,Id)\n",
    "                \n",
    "    # for object_id, pt in tracking_objects.items():\n",
    "        # if dist((cx,cy), f1_A, f1_B) < 30:\n",
    "        #     tracking_objects[Id]=(cx,cy,'f1')\n",
    "        \n",
    "        # elif dist((cx,cy), f2_A, f2_B) < 30:\n",
    "        #     tracking_objects[Id]=(cx,cy,'f2')\n",
    "            \n",
    "        # elif dist((cx,cy), f3_A, f3_B) < 30:\n",
    "        #     tracking_objects[Id]=(cx,cy,'f3')\n",
    "        \n",
    "        # elif dist((cx,cy), f4_A, f4_B) < 30:\n",
    "        #     tracking_objects[Id]=(cx,cy,'f4')\n",
    "        \n",
    "        # elif dist((cx,cy), f5_A, f5_B) < 30:\n",
    "        #     tracking_objects[Id]=(cx,cy,'f5')\n",
    "        \n",
    "        # else:\n",
    "        #     tracking_objects[Id]=(cx,cy,'Danger!')\n",
    "        \n",
    "            \n",
    "            \n",
    "    # for object_id, pt in tracking_objects.items():\n",
    "    #     tmp= pt[2]+'['+str(object_id)+']'\n",
    "    #     cv2.circle(frame, (pt[0],pt[1]), 5, (0, 0, 255), -1)\n",
    "    #     cv2.putText(frame, tmp, (pt[0], pt[1] - 7), 0, 0.8, (0, 0, 255), 2)\n",
    "        \n",
    "    #     if (pt[2]=='Danger!'):\n",
    "    #         danger_car_id.append(object_id)\n",
    "            \n",
    "                \n",
    "    \n",
    "    \n",
    "\n",
    "    # print(\"Tracking objects\")\n",
    "    # # print(tracking_objects)\n",
    "\n",
    "\n",
    "    # print(\"CUR FRAME LEFT PTS\")\n",
    "    # print(center_points_cur_frame)\n",
    "    \n",
    "#     cv2.circle(frame, (1,1), 5, (0, 0, 255), -1)\n",
    "    cv2.imshow(\"Frame\", frame)\n",
    "    # cv2.imshow(\"ImageFrame\",imgRegion)\n",
    "    # Make a copy of the points\n",
    "    center_points_prev_frame = center_points_cur_frame.copy()\n",
    "\n",
    "    key = cv2.waitKey(0)\n",
    "    if key == 27:\n",
    "        break\n",
    "\n",
    "\n",
    "\n",
    "cap.release()\n",
    "cv2.destroyAllWindows()\n"
   ]
  }
 ],
 "metadata": {
  "kernelspec": {
   "display_name": "Python 3 (ipykernel)",
   "language": "python",
   "name": "python3"
  },
  "language_info": {
   "codemirror_mode": {
    "name": "ipython",
    "version": 3
   },
   "file_extension": ".py",
   "mimetype": "text/x-python",
   "name": "python",
   "nbconvert_exporter": "python",
   "pygments_lexer": "ipython3",
   "version": "3.9.12"
  }
 },
 "nbformat": 4,
 "nbformat_minor": 2
}
