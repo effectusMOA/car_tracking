{
 "cells": [
  {
   "cell_type": "code",
   "execution_count": 5,
   "metadata": {},
   "outputs": [
    {
     "name": "stderr",
     "output_type": "stream",
     "text": [
      "Ultralytics YOLOv8.0.26  Python-3.10.9 torch-1.11.0+cpu CPU\n",
      "YOLOv8n summary (fused): 168 layers, 3151904 parameters, 0 gradients, 8.7 GFLOPs\n",
      "\n"
     ]
    },
    {
     "name": "stdout",
     "output_type": "stream",
     "text": [
      "(1920, 1080)\n"
     ]
    },
    {
     "name": "stderr",
     "output_type": "stream",
     "text": [
      "0: 384x640 4 cars, 90.3ms\n",
      "Speed: 1.0ms pre-process, 90.3ms inference, 1.0ms postprocess per image at shape (1, 3, 640, 640)\n"
     ]
    },
    {
     "name": "stdout",
     "output_type": "stream",
     "text": [
      "593 339 f2 8\n",
      "750 552 f2 7\n",
      "732 793 f1 6\n",
      "916 786 f2 5\n"
     ]
    },
    {
     "name": "stderr",
     "output_type": "stream",
     "text": [
      "\n",
      "0: 384x640 4 cars, 107.1ms\n",
      "Speed: 1.0ms pre-process, 107.1ms inference, 1.0ms postprocess per image at shape (1, 3, 640, 640)\n"
     ]
    },
    {
     "name": "stdout",
     "output_type": "stream",
     "text": [
      "592 337 f2 8\n",
      "748 549 f2 7\n",
      "723 785 f1 6\n",
      "912 781 f2 5\n"
     ]
    },
    {
     "name": "stderr",
     "output_type": "stream",
     "text": [
      "\n",
      "0: 384x640 4 cars, 96.4ms\n",
      "Speed: 1.0ms pre-process, 96.4ms inference, 1.0ms postprocess per image at shape (1, 3, 640, 640)\n",
      "\n",
      "0: 384x640 4 cars, 86.7ms\n",
      "Speed: 1.0ms pre-process, 86.7ms inference, 1.0ms postprocess per image at shape (1, 3, 640, 640)\n",
      "\n"
     ]
    },
    {
     "name": "stdout",
     "output_type": "stream",
     "text": [
      "747 548 f2 7\n",
      "722 784 f1 6\n",
      "911 780 f2 5\n",
      "592 337 f2 8\n"
     ]
    },
    {
     "name": "stderr",
     "output_type": "stream",
     "text": [
      "0: 384x640 4 cars, 87.4ms\n",
      "Speed: 0.9ms pre-process, 87.4ms inference, 1.0ms postprocess per image at shape (1, 3, 640, 640)\n",
      "\n",
      "0: 384x640 5 cars, 93.9ms\n",
      "Speed: 1.0ms pre-process, 93.9ms inference, 1.0ms postprocess per image at shape (1, 3, 640, 640)\n",
      "\n"
     ]
    },
    {
     "name": "stdout",
     "output_type": "stream",
     "text": [
      "591 334 f2 8\n",
      "745 547 f2 7\n",
      "720 780 f1 6\n",
      "909 777 f2 5\n",
      "589 331 f2 8\n",
      "743 544 f2 7\n",
      "717 775 f1 6\n",
      "903 773 f2 5\n"
     ]
    },
    {
     "name": "stderr",
     "output_type": "stream",
     "text": [
      "0: 384x640 5 cars, 90.5ms\n",
      "Speed: 1.0ms pre-process, 90.5ms inference, 1.0ms postprocess per image at shape (1, 3, 640, 640)\n",
      "\n",
      "0: 384x640 4 cars, 101.4ms\n",
      "Speed: 1.0ms pre-process, 101.4ms inference, 1.0ms postprocess per image at shape (1, 3, 640, 640)\n",
      "\n"
     ]
    },
    {
     "name": "stdout",
     "output_type": "stream",
     "text": [
      "588 331 f2 8\n",
      "742 543 f2 7\n",
      "716 773 f1 6\n",
      "901 772 f2 5\n",
      "588 330 f2 8\n",
      "900 772 f2 5\n"
     ]
    },
    {
     "name": "stderr",
     "output_type": "stream",
     "text": [
      "0: 384x640 5 cars, 88.8ms\n",
      "Speed: 1.0ms pre-process, 88.8ms inference, 2.0ms postprocess per image at shape (1, 3, 640, 640)\n",
      "\n",
      "0: 384x640 5 cars, 90.2ms\n",
      "Speed: 1.0ms pre-process, 90.2ms inference, 1.0ms postprocess per image at shape (1, 3, 640, 640)\n",
      "\n"
     ]
    },
    {
     "name": "stdout",
     "output_type": "stream",
     "text": [
      "587 330 f2 8\n",
      "739 541 f2 7\n",
      "712 767 f1 6\n",
      "899 767 f2 5\n",
      "584 330 f2 8\n",
      "738 541 f2 7\n",
      "713 762 f1 6\n",
      "896 762 f2 5\n"
     ]
    },
    {
     "name": "stderr",
     "output_type": "stream",
     "text": [
      "0: 384x640 5 cars, 88.1ms\n",
      "Speed: 1.0ms pre-process, 88.1ms inference, 1.0ms postprocess per image at shape (1, 3, 640, 640)\n",
      "\n",
      "0: 384x640 5 cars, 89.3ms\n",
      "Speed: 0.0ms pre-process, 89.3ms inference, 1.0ms postprocess per image at shape (1, 3, 640, 640)\n",
      "\n",
      "0: 384x640 4 cars, 88.0ms\n"
     ]
    },
    {
     "name": "stdout",
     "output_type": "stream",
     "text": [
      "1073 897 Danger! 9\n",
      "583 330 f2 8\n",
      "713 759 f1 6\n",
      "895 761 f2 5\n",
      "582 329 f2 8\n",
      "736 539 f2 7\n",
      "706 754 f1 6\n",
      "894 757 f2 5\n"
     ]
    },
    {
     "name": "stderr",
     "output_type": "stream",
     "text": [
      "Speed: 1.0ms pre-process, 88.0ms inference, 1.0ms postprocess per image at shape (1, 3, 640, 640)\n",
      "\n",
      "0: 384x640 4 cars, 89.5ms\n",
      "Speed: 1.0ms pre-process, 89.5ms inference, 1.0ms postprocess per image at shape (1, 3, 640, 640)\n",
      "\n"
     ]
    },
    {
     "name": "stdout",
     "output_type": "stream",
     "text": [
      "703 752 f1 6\n",
      "894 756 f2 5\n",
      "581 328 f2 8\n",
      "733 536 f2 7\n",
      "701 748 f1 6\n",
      "890 752 f2 5\n"
     ]
    },
    {
     "name": "stderr",
     "output_type": "stream",
     "text": [
      "0: 384x640 4 cars, 88.5ms\n",
      "Speed: 1.0ms pre-process, 88.5ms inference, 1.0ms postprocess per image at shape (1, 3, 640, 640)\n",
      "\n",
      "0: 384x640 4 cars, 1 truck, 89.5ms\n",
      "Speed: 0.9ms pre-process, 89.5ms inference, 1.0ms postprocess per image at shape (1, 3, 640, 640)\n",
      "\n"
     ]
    },
    {
     "name": "stdout",
     "output_type": "stream",
     "text": [
      "580 328 f2 8\n",
      "732 535 f2 7\n",
      "700 747 f1 6\n",
      "888 750 f2 5\n",
      "579 328 f2 8\n",
      "731 534 f2 7\n",
      "697 741 f1 6\n",
      "885 748 f2 5\n"
     ]
    },
    {
     "name": "stderr",
     "output_type": "stream",
     "text": [
      "0: 384x640 4 cars, 1 truck, 103.1ms\n",
      "Speed: 1.0ms pre-process, 103.1ms inference, 2.0ms postprocess per image at shape (1, 3, 640, 640)\n",
      "\n",
      "0: 384x640 4 cars, 1 truck, 87.2ms\n",
      "Speed: 1.0ms pre-process, 87.2ms inference, 1.0ms postprocess per image at shape (1, 3, 640, 640)\n",
      "\n"
     ]
    },
    {
     "name": "stdout",
     "output_type": "stream",
     "text": [
      "730 533 f2 7\n",
      "695 739 f1 6\n",
      "883 747 f2 5\n",
      "578 328 f2 8\n",
      "728 531 f2 7\n",
      "692 734 f1 6\n",
      "880 744 f2 5\n"
     ]
    },
    {
     "name": "stderr",
     "output_type": "stream",
     "text": [
      "0: 384x640 4 cars, 1 truck, 83.1ms\n",
      "Speed: 1.0ms pre-process, 83.1ms inference, 2.0ms postprocess per image at shape (1, 3, 640, 640)\n",
      "\n",
      "0: 384x640 4 cars, 1 truck, 85.0ms\n",
      "Speed: 0.9ms pre-process, 85.0ms inference, 0.0ms postprocess per image at shape (1, 3, 640, 640)\n",
      "\n"
     ]
    },
    {
     "name": "stdout",
     "output_type": "stream",
     "text": [
      "727 530 f2 7\n",
      "691 732 f1 6\n",
      "879 742 f2 5\n",
      "578 328 f2 8\n",
      "690 732 f1 6\n"
     ]
    },
    {
     "name": "stderr",
     "output_type": "stream",
     "text": [
      "0: 384x640 2 cars, 89.4ms\n",
      "Speed: 0.0ms pre-process, 89.4ms inference, 1.0ms postprocess per image at shape (1, 3, 640, 640)\n",
      "\n",
      "0: 384x640 2 cars, 86.2ms\n",
      "Speed: 1.0ms pre-process, 86.2ms inference, 1.0ms postprocess per image at shape (1, 3, 640, 640)\n",
      "\n"
     ]
    },
    {
     "name": "stdout",
     "output_type": "stream",
     "text": [
      "692 729 f1 6\n",
      "877 739 f2 5\n",
      "690 723 f1 6\n",
      "873 735 f2 5\n"
     ]
    },
    {
     "name": "stderr",
     "output_type": "stream",
     "text": [
      "0: 384x640 2 cars, 85.9ms\n",
      "Speed: 1.0ms pre-process, 85.9ms inference, 1.0ms postprocess per image at shape (1, 3, 640, 640)\n",
      "\n",
      "0: 384x640 3 cars, 88.3ms\n",
      "Speed: 1.0ms pre-process, 88.3ms inference, 1.0ms postprocess per image at shape (1, 3, 640, 640)\n",
      "\n",
      "0: 384x640 3 cars, 85.0ms\n"
     ]
    },
    {
     "name": "stdout",
     "output_type": "stream",
     "text": [
      "689 721 f1 6\n",
      "871 733 f2 5\n",
      "689 715 f1 6\n",
      "868 730 f2 5\n"
     ]
    },
    {
     "name": "stderr",
     "output_type": "stream",
     "text": [
      "Speed: 1.0ms pre-process, 85.0ms inference, 1.0ms postprocess per image at shape (1, 3, 640, 640)\n",
      "\n",
      "0: 384x640 3 cars, 102.1ms\n",
      "Speed: 0.0ms pre-process, 102.1ms inference, 1.0ms postprocess per image at shape (1, 3, 640, 640)\n",
      "\n"
     ]
    },
    {
     "name": "stdout",
     "output_type": "stream",
     "text": [
      "689 713 f1 6\n",
      "867 729 f2 5\n",
      "717 511 f2 7\n",
      "689 712 f1 6\n",
      "867 728 f2 5\n"
     ]
    },
    {
     "name": "stderr",
     "output_type": "stream",
     "text": [
      "0: 384x640 3 cars, 87.0ms\n",
      "Speed: 1.5ms pre-process, 87.0ms inference, 1.0ms postprocess per image at shape (1, 3, 640, 640)\n",
      "\n",
      "0: 384x640 3 cars, 85.6ms\n",
      "Speed: 0.0ms pre-process, 85.6ms inference, 1.0ms postprocess per image at shape (1, 3, 640, 640)\n",
      "\n",
      "0: 384x640 3 cars, 81.0ms\n",
      "Speed: 0.0ms pre-process, 81.0ms inference, 1.0ms postprocess per image at shape (1, 3, 640, 640)\n",
      "\n",
      "0: 384x640 3 cars, 1 truck, 84.3ms\n"
     ]
    },
    {
     "name": "stdout",
     "output_type": "stream",
     "text": [
      "717 511 f2 7\n",
      "689 713 f1 6\n",
      "867 728 f2 5\n",
      "715 507 f2 7\n",
      "684 705 f1 6\n",
      "865 724 f2 5\n"
     ]
    },
    {
     "name": "stderr",
     "output_type": "stream",
     "text": [
      "Speed: 1.0ms pre-process, 84.3ms inference, 1.0ms postprocess per image at shape (1, 3, 640, 640)\n",
      "\n",
      "0: 384x640 3 cars, 85.0ms\n",
      "Speed: 1.0ms pre-process, 85.0ms inference, 1.0ms postprocess per image at shape (1, 3, 640, 640)\n",
      "\n",
      "0: 384x640 4 cars, 1 truck, 84.2ms\n"
     ]
    },
    {
     "name": "stdout",
     "output_type": "stream",
     "text": [
      "714 505 f2 7\n",
      "680 698 f1 6\n",
      "860 719 f2 5\n",
      "713 504 f2 7\n",
      "678 695 f1 6\n",
      "859 718 f2 5\n"
     ]
    },
    {
     "name": "stderr",
     "output_type": "stream",
     "text": [
      "Speed: 1.0ms pre-process, 84.2ms inference, 1.0ms postprocess per image at shape (1, 3, 640, 640)\n",
      "\n",
      "0: 384x640 4 cars, 1 truck, 86.4ms\n",
      "Speed: 1.0ms pre-process, 86.4ms inference, 1.0ms postprocess per image at shape (1, 3, 640, 640)\n",
      "\n",
      "0: 384x640 4 cars, 1 truck, 86.0ms\n"
     ]
    },
    {
     "name": "stdout",
     "output_type": "stream",
     "text": [
      "710 502 f2 7\n",
      "677 691 f1 6\n",
      "857 716 f2 5\n",
      "709 501 f2 7\n",
      "676 690 f1 6\n",
      "857 714 f2 5\n"
     ]
    },
    {
     "name": "stderr",
     "output_type": "stream",
     "text": [
      "Speed: 0.0ms pre-process, 86.0ms inference, 1.0ms postprocess per image at shape (1, 3, 640, 640)\n",
      "\n",
      "0: 384x640 3 cars, 1 truck, 88.9ms\n",
      "Speed: 0.0ms pre-process, 88.9ms inference, 1.2ms postprocess per image at shape (1, 3, 640, 640)\n",
      "\n",
      "0: 384x640 3 cars, 1 truck, 102.1ms\n",
      "Speed: 0.0ms pre-process, 102.1ms inference, 1.0ms postprocess per image at shape (1, 3, 640, 640)\n",
      "\n"
     ]
    },
    {
     "name": "stdout",
     "output_type": "stream",
     "text": [
      "707 498 f2 7\n",
      "674 686 f1 6\n",
      "856 711 f2 5\n",
      "707 497 f2 7\n",
      "673 684 f1 6\n",
      "856 710 f2 5\n"
     ]
    },
    {
     "name": "stderr",
     "output_type": "stream",
     "text": [
      "0: 384x640 3 cars, 83.0ms\n",
      "Speed: 1.0ms pre-process, 83.0ms inference, 2.0ms postprocess per image at shape (1, 3, 640, 640)\n",
      "\n",
      "0: 384x640 4 cars, 85.2ms\n",
      "Speed: 1.0ms pre-process, 85.2ms inference, 1.0ms postprocess per image at shape (1, 3, 640, 640)\n",
      "\n"
     ]
    },
    {
     "name": "stdout",
     "output_type": "stream",
     "text": [
      "706 496 f2 7\n",
      "670 681 f1 6\n",
      "853 706 f2 5\n",
      "703 493 f2 7\n",
      "669 674 f1 6\n",
      "850 702 f2 5\n"
     ]
    },
    {
     "name": "stderr",
     "output_type": "stream",
     "text": [
      "0: 384x640 4 cars, 86.1ms\n",
      "Speed: 1.0ms pre-process, 86.1ms inference, 2.0ms postprocess per image at shape (1, 3, 640, 640)\n",
      "\n",
      "0: 384x640 3 cars, 86.3ms\n",
      "Speed: 1.0ms pre-process, 86.3ms inference, 1.0ms postprocess per image at shape (1, 3, 640, 640)\n",
      "\n",
      "0: 384x640 3 cars, 81.7ms\n"
     ]
    },
    {
     "name": "stdout",
     "output_type": "stream",
     "text": [
      "702 492 f2 7\n",
      "669 672 f1 6\n",
      "849 700 f2 5\n",
      "701 491 f2 7\n",
      "665 668 f1 6\n",
      "847 697 f2 5\n"
     ]
    },
    {
     "name": "stderr",
     "output_type": "stream",
     "text": [
      "Speed: 1.0ms pre-process, 81.7ms inference, 1.0ms postprocess per image at shape (1, 3, 640, 640)\n",
      "\n",
      "0: 384x640 3 cars, 84.0ms\n",
      "Speed: 0.9ms pre-process, 84.0ms inference, 1.0ms postprocess per image at shape (1, 3, 640, 640)\n",
      "\n",
      "0: 384x640 3 cars, 84.7ms\n"
     ]
    },
    {
     "name": "stdout",
     "output_type": "stream",
     "text": [
      "700 491 f2 7\n",
      "664 667 f1 6\n",
      "846 696 f2 5\n",
      "697 488 f2 7\n",
      "663 663 f1 6\n",
      "845 694 f2 5\n"
     ]
    },
    {
     "name": "stderr",
     "output_type": "stream",
     "text": [
      "Speed: 1.0ms pre-process, 84.7ms inference, 1.4ms postprocess per image at shape (1, 3, 640, 640)\n",
      "\n",
      "0: 384x640 3 cars, 88.9ms\n",
      "Speed: 1.0ms pre-process, 88.9ms inference, 1.0ms postprocess per image at shape (1, 3, 640, 640)\n",
      "\n"
     ]
    },
    {
     "name": "stdout",
     "output_type": "stream",
     "text": [
      "694 486 f2 7\n",
      "663 662 f1 6\n",
      "844 692 f2 5\n",
      "695 485 f2 7\n",
      "662 660 f1 6\n",
      "841 691 f2 5\n"
     ]
    },
    {
     "name": "stderr",
     "output_type": "stream",
     "text": [
      "0: 384x640 3 cars, 100.1ms\n",
      "Speed: 0.0ms pre-process, 100.1ms inference, 1.0ms postprocess per image at shape (1, 3, 640, 640)\n",
      "\n",
      "0: 384x640 3 cars, 84.6ms\n",
      "Speed: 1.0ms pre-process, 84.6ms inference, 1.0ms postprocess per image at shape (1, 3, 640, 640)\n",
      "\n",
      "0: 384x640 3 cars, 81.5ms\n"
     ]
    },
    {
     "name": "stdout",
     "output_type": "stream",
     "text": [
      "695 484 f2 7\n",
      "661 659 f1 6\n",
      "840 690 f2 5\n"
     ]
    },
    {
     "name": "stderr",
     "output_type": "stream",
     "text": [
      "Speed: 1.0ms pre-process, 81.5ms inference, 1.0ms postprocess per image at shape (1, 3, 640, 640)\n",
      "\n",
      "0: 384x640 3 cars, 82.9ms\n",
      "Speed: 1.0ms pre-process, 82.9ms inference, 1.0ms postprocess per image at shape (1, 3, 640, 640)\n",
      "\n",
      "0: 384x640 2 cars, 81.9ms\n"
     ]
    },
    {
     "name": "stdout",
     "output_type": "stream",
     "text": [
      "696 482 f2 7\n",
      "661 654 f1 6\n",
      "837 686 f2 5\n",
      "697 482 f2 7\n",
      "661 653 f1 6\n",
      "837 684 f2 5\n"
     ]
    },
    {
     "name": "stderr",
     "output_type": "stream",
     "text": [
      "Speed: 0.0ms pre-process, 81.9ms inference, 1.0ms postprocess per image at shape (1, 3, 640, 640)\n",
      "\n",
      "0: 384x640 2 cars, 85.5ms\n",
      "Speed: 1.0ms pre-process, 85.5ms inference, 1.0ms postprocess per image at shape (1, 3, 640, 640)\n",
      "\n"
     ]
    },
    {
     "name": "stdout",
     "output_type": "stream",
     "text": [
      "661 652 f1 6\n",
      "834 681 f2 5\n",
      "833 680 f2 5\n"
     ]
    },
    {
     "name": "stderr",
     "output_type": "stream",
     "text": [
      "0: 384x640 2 cars, 82.6ms\n",
      "Speed: 1.0ms pre-process, 82.6ms inference, 2.0ms postprocess per image at shape (1, 3, 640, 640)\n",
      "\n",
      "0: 384x640 2 cars, 83.6ms\n",
      "Speed: 1.0ms pre-process, 83.6ms inference, 2.0ms postprocess per image at shape (1, 3, 640, 640)\n",
      "\n"
     ]
    },
    {
     "name": "stdout",
     "output_type": "stream",
     "text": [
      "661 651 f1 6\n",
      "830 677 f2 5\n",
      "661 650 f1 6\n",
      "829 676 f2 5\n"
     ]
    },
    {
     "name": "stderr",
     "output_type": "stream",
     "text": [
      "0: 384x640 2 cars, 82.9ms\n",
      "Speed: 1.0ms pre-process, 82.9ms inference, 2.0ms postprocess per image at shape (1, 3, 640, 640)\n",
      "\n",
      "0: 384x640 5 cars, 97.2ms\n",
      "Speed: 1.0ms pre-process, 97.2ms inference, 1.0ms postprocess per image at shape (1, 3, 640, 640)\n",
      "\n",
      "0: 384x640 4 cars, 81.7ms\n"
     ]
    },
    {
     "name": "stdout",
     "output_type": "stream",
     "text": [
      "659 651 f1 6\n",
      "826 673 f2 5\n",
      "657 650 f1 6\n",
      "823 671 f2 5\n"
     ]
    },
    {
     "name": "stderr",
     "output_type": "stream",
     "text": [
      "Speed: 0.0ms pre-process, 81.7ms inference, 1.0ms postprocess per image at shape (1, 3, 640, 640)\n",
      "\n",
      "0: 384x640 4 cars, 85.5ms\n",
      "Speed: 1.0ms pre-process, 85.5ms inference, 1.0ms postprocess per image at shape (1, 3, 640, 640)\n",
      "\n",
      "0: 384x640 4 cars, 81.6ms\n"
     ]
    },
    {
     "name": "stdout",
     "output_type": "stream",
     "text": [
      "656 650 f1 6\n",
      "822 671 f2 5\n",
      "654 644 f1 6\n",
      "819 667 f2 5\n"
     ]
    },
    {
     "name": "stderr",
     "output_type": "stream",
     "text": [
      "Speed: 1.0ms pre-process, 81.6ms inference, 0.0ms postprocess per image at shape (1, 3, 640, 640)\n",
      "\n",
      "0: 384x640 4 cars, 86.3ms\n",
      "Speed: 0.0ms pre-process, 86.3ms inference, 2.0ms postprocess per image at shape (1, 3, 640, 640)\n",
      "\n",
      "0: 384x640 4 cars, 83.7ms\n"
     ]
    },
    {
     "name": "stdout",
     "output_type": "stream",
     "text": [
      "650 629 f1 13\n",
      "542 279 f2 11\n",
      "653 642 f1 6\n",
      "818 666 f2 5\n",
      "646 625 f1 13\n",
      "546 277 f2 11\n",
      "652 636 f1 6\n",
      "815 662 f2 5\n"
     ]
    },
    {
     "name": "stderr",
     "output_type": "stream",
     "text": [
      "Speed: 1.0ms pre-process, 83.7ms inference, 2.0ms postprocess per image at shape (1, 3, 640, 640)\n",
      "\n",
      "0: 384x640 4 cars, 86.5ms\n",
      "Speed: 0.0ms pre-process, 86.5ms inference, 1.0ms postprocess per image at shape (1, 3, 640, 640)\n",
      "\n",
      "0: 384x640 4 cars, 85.0ms\n"
     ]
    },
    {
     "name": "stdout",
     "output_type": "stream",
     "text": [
      "645 625 f1 13\n",
      "547 277 f2 11\n",
      "652 635 f1 6\n",
      "814 660 f2 5\n",
      "645 628 f1 13\n",
      "547 276 f2 11\n",
      "653 633 f1 6\n",
      "814 658 f2 5\n"
     ]
    },
    {
     "name": "stderr",
     "output_type": "stream",
     "text": [
      "Speed: 1.0ms pre-process, 85.0ms inference, 1.0ms postprocess per image at shape (1, 3, 640, 640)\n",
      "\n",
      "0: 384x640 3 cars, 87.0ms\n",
      "Speed: 1.1ms pre-process, 87.0ms inference, 1.0ms postprocess per image at shape (1, 3, 640, 640)\n",
      "\n",
      "0: 384x640 3 cars, 84.0ms\n"
     ]
    },
    {
     "name": "stdout",
     "output_type": "stream",
     "text": [
      "645 629 f1 13\n",
      "814 657 f2 5\n",
      "647 627 f1 13\n",
      "546 275 f2 11\n",
      "810 653 f2 5\n"
     ]
    },
    {
     "name": "stderr",
     "output_type": "stream",
     "text": [
      "Speed: 1.0ms pre-process, 84.0ms inference, 2.0ms postprocess per image at shape (1, 3, 640, 640)\n",
      "\n",
      "0: 384x640 3 cars, 97.4ms\n",
      "Speed: 0.0ms pre-process, 97.4ms inference, 1.0ms postprocess per image at shape (1, 3, 640, 640)\n",
      "\n"
     ]
    },
    {
     "name": "stdout",
     "output_type": "stream",
     "text": [
      "648 627 f1 13\n",
      "546 276 f2 11\n",
      "809 651 f2 5\n",
      "649 627 f1 13\n",
      "545 276 f2 11\n",
      "809 650 f2 5\n"
     ]
    },
    {
     "name": "stderr",
     "output_type": "stream",
     "text": [
      "0: 384x640 5 cars, 1 truck, 83.6ms\n",
      "Speed: 1.0ms pre-process, 83.6ms inference, 1.0ms postprocess per image at shape (1, 3, 640, 640)\n",
      "\n",
      "0: 384x640 4 cars, 1 truck, 86.1ms\n",
      "Speed: 1.0ms pre-process, 86.1ms inference, 1.0ms postprocess per image at shape (1, 3, 640, 640)\n",
      "\n",
      "0: 384x640 4 cars, 1 truck, 86.0ms\n"
     ]
    },
    {
     "name": "stdout",
     "output_type": "stream",
     "text": [
      "541 276 f2 11\n",
      "808 647 f2 5\n",
      "540 274 f2 11\n",
      "806 644 f2 5\n"
     ]
    },
    {
     "name": "stderr",
     "output_type": "stream",
     "text": [
      "Speed: 0.0ms pre-process, 86.0ms inference, 1.0ms postprocess per image at shape (1, 3, 640, 640)\n",
      "\n",
      "0: 384x640 4 cars, 85.3ms\n",
      "Speed: 1.0ms pre-process, 85.3ms inference, 1.0ms postprocess per image at shape (1, 3, 640, 640)\n",
      "\n"
     ]
    },
    {
     "name": "stdout",
     "output_type": "stream",
     "text": [
      "539 273 f2 11\n",
      "649 616 f1 6\n",
      "805 643 f2 5\n",
      "670 454 f2 14\n",
      "537 270 f2 11\n",
      "803 640 f2 5\n"
     ]
    },
    {
     "name": "stderr",
     "output_type": "stream",
     "text": [
      "0: 384x640 4 cars, 85.4ms\n",
      "Speed: 1.0ms pre-process, 85.4ms inference, 1.0ms postprocess per image at shape (1, 3, 640, 640)\n",
      "\n",
      "0: 384x640 3 cars, 1 truck, 87.4ms\n",
      "Speed: 1.0ms pre-process, 87.4ms inference, 1.0ms postprocess per image at shape (1, 3, 640, 640)\n",
      "\n"
     ]
    },
    {
     "name": "stdout",
     "output_type": "stream",
     "text": [
      "537 268 f2 11\n",
      "802 639 f2 5\n",
      "634 605 f1 12\n",
      "537 264 f2 11\n",
      "801 638 f2 5\n"
     ]
    },
    {
     "name": "stderr",
     "output_type": "stream",
     "text": [
      "0: 384x640 3 cars, 1 truck, 86.6ms\n",
      "Speed: 1.0ms pre-process, 86.6ms inference, 1.0ms postprocess per image at shape (1, 3, 640, 640)\n",
      "\n",
      "0: 384x640 2 cars, 1 truck, 90.9ms\n",
      "Speed: 0.0ms pre-process, 90.9ms inference, 1.0ms postprocess per image at shape (1, 3, 640, 640)\n",
      "\n"
     ]
    },
    {
     "name": "stdout",
     "output_type": "stream",
     "text": [
      "632 604 f1 12\n",
      "538 263 f2 11\n",
      "800 637 f2 5\n",
      "537 262 f2 11\n",
      "798 635 f2 5\n"
     ]
    },
    {
     "name": "stderr",
     "output_type": "stream",
     "text": [
      "0: 384x640 2 cars, 1 truck, 96.8ms\n",
      "Speed: 1.0ms pre-process, 96.8ms inference, 1.0ms postprocess per image at shape (1, 3, 640, 640)\n",
      "\n",
      "0: 384x640 2 cars, 1 truck, 87.0ms\n",
      "Speed: 1.1ms pre-process, 87.0ms inference, 1.0ms postprocess per image at shape (1, 3, 640, 640)\n",
      "\n",
      "0: 384x640 2 cars, 1 truck, 88.5ms\n"
     ]
    },
    {
     "name": "stdout",
     "output_type": "stream",
     "text": [
      "536 263 f2 11\n",
      "797 634 f2 5\n",
      "536 260 f2 11\n",
      "795 631 f2 5\n"
     ]
    },
    {
     "name": "stderr",
     "output_type": "stream",
     "text": [
      "Speed: 0.9ms pre-process, 88.5ms inference, 1.0ms postprocess per image at shape (1, 3, 640, 640)\n",
      "\n",
      "0: 384x640 2 cars, 1 truck, 86.0ms\n",
      "Speed: 1.0ms pre-process, 86.0ms inference, 1.0ms postprocess per image at shape (1, 3, 640, 640)\n",
      "\n",
      "0: 384x640 1 car, 1 truck, 82.5ms\n"
     ]
    },
    {
     "name": "stdout",
     "output_type": "stream",
     "text": [
      "536 259 f2 11\n",
      "794 630 f2 5\n",
      "536 258 f2 11\n"
     ]
    },
    {
     "name": "stderr",
     "output_type": "stream",
     "text": [
      "Speed: 1.0ms pre-process, 82.5ms inference, 1.0ms postprocess per image at shape (1, 3, 640, 640)\n",
      "\n",
      "0: 384x640 1 car, 1 truck, 87.7ms\n",
      "Speed: 1.0ms pre-process, 87.7ms inference, 1.0ms postprocess per image at shape (1, 3, 640, 640)\n",
      "\n",
      "0: 384x640 2 cars, 84.7ms\n"
     ]
    },
    {
     "name": "stdout",
     "output_type": "stream",
     "text": [
      "794 628 f2 5\n",
      "794 627 f2 5\n"
     ]
    },
    {
     "name": "stderr",
     "output_type": "stream",
     "text": [
      "Speed: 1.0ms pre-process, 84.7ms inference, 1.0ms postprocess per image at shape (1, 3, 640, 640)\n",
      "\n",
      "0: 384x640 2 cars, 85.8ms\n",
      "Speed: 1.0ms pre-process, 85.8ms inference, 1.0ms postprocess per image at shape (1, 3, 640, 640)\n",
      "\n"
     ]
    },
    {
     "name": "stdout",
     "output_type": "stream",
     "text": [
      "792 625 f2 5\n",
      "791 624 f2 5\n"
     ]
    },
    {
     "name": "stderr",
     "output_type": "stream",
     "text": [
      "0: 384x640 3 cars, 86.6ms\n",
      "Speed: 0.9ms pre-process, 86.6ms inference, 0.0ms postprocess per image at shape (1, 3, 640, 640)\n",
      "\n",
      "0: 384x640 3 cars, 1 train, 98.1ms\n",
      "Speed: 1.0ms pre-process, 98.1ms inference, 1.0ms postprocess per image at shape (1, 3, 640, 640)\n",
      "\n"
     ]
    },
    {
     "name": "stdout",
     "output_type": "stream",
     "text": [
      "533 257 f2 11\n",
      "788 621 f2 5\n",
      "784 618 f2 5\n"
     ]
    },
    {
     "name": "stderr",
     "output_type": "stream",
     "text": [
      "0: 384x640 3 cars, 1 train, 81.4ms\n",
      "Speed: 1.0ms pre-process, 81.4ms inference, 1.0ms postprocess per image at shape (1, 3, 640, 640)\n",
      "\n",
      "0: 384x640 2 cars, 1 train, 84.0ms\n",
      "Speed: 0.0ms pre-process, 84.0ms inference, 1.0ms postprocess per image at shape (1, 3, 640, 640)\n",
      "\n"
     ]
    },
    {
     "name": "stdout",
     "output_type": "stream",
     "text": [
      "533 256 f2 11\n",
      "783 617 f2 5\n",
      "531 255 f2 11\n",
      "780 614 f2 5\n"
     ]
    },
    {
     "name": "stderr",
     "output_type": "stream",
     "text": [
      "0: 384x640 2 cars, 1 train, 86.0ms\n",
      "Speed: 1.0ms pre-process, 86.0ms inference, 1.0ms postprocess per image at shape (1, 3, 640, 640)\n",
      "\n",
      "0: 384x640 2 cars, 1 train, 84.0ms\n",
      "Speed: 0.0ms pre-process, 84.0ms inference, 1.0ms postprocess per image at shape (1, 3, 640, 640)\n",
      "\n"
     ]
    },
    {
     "name": "stdout",
     "output_type": "stream",
     "text": [
      "530 254 f2 11\n",
      "779 613 f2 5\n",
      "529 254 f2 11\n",
      "779 612 f2 5\n"
     ]
    },
    {
     "name": "stderr",
     "output_type": "stream",
     "text": [
      "0: 384x640 2 cars, 1 train, 81.3ms\n",
      "Speed: 1.0ms pre-process, 81.3ms inference, 1.0ms postprocess per image at shape (1, 3, 640, 640)\n",
      "\n",
      "0: 384x640 3 cars, 1 bus, 1 train, 83.0ms\n",
      "Speed: 1.0ms pre-process, 83.0ms inference, 1.0ms postprocess per image at shape (1, 3, 640, 640)\n",
      "\n",
      "0: 384x640 3 cars, 1 bus, 1 train, 83.0ms\n",
      "Speed: 1.0ms pre-process, 83.0ms inference, 1.0ms postprocess per image at shape (1, 3, 640, 640)\n",
      "\n",
      "0: 384x640 2 cars, 1 bus, 81.3ms\n"
     ]
    },
    {
     "name": "stdout",
     "output_type": "stream",
     "text": [
      "527 258 f2 11\n",
      "776 606 f2 5\n",
      "526 260 f2 11\n",
      "775 602 f2 5\n"
     ]
    },
    {
     "name": "stderr",
     "output_type": "stream",
     "text": [
      "Speed: 1.0ms pre-process, 81.3ms inference, 0.0ms postprocess per image at shape (1, 3, 640, 640)\n",
      "\n",
      "0: 384x640 2 cars, 1 bus, 98.5ms\n",
      "Speed: 0.0ms pre-process, 98.5ms inference, 1.0ms postprocess per image at shape (1, 3, 640, 640)\n",
      "\n"
     ]
    },
    {
     "name": "stdout",
     "output_type": "stream",
     "text": [
      "641 405 f2 15\n",
      "772 600 f2 5\n",
      "641 404 f2 15\n",
      "771 599 f2 5\n"
     ]
    },
    {
     "name": "stderr",
     "output_type": "stream",
     "text": [
      "0: 384x640 2 cars, 1 bus, 1 truck, 84.2ms\n",
      "Speed: 1.0ms pre-process, 84.2ms inference, 1.0ms postprocess per image at shape (1, 3, 640, 640)\n",
      "\n",
      "0: 384x640 2 cars, 1 bus, 84.1ms\n",
      "Speed: 1.0ms pre-process, 84.1ms inference, 1.0ms postprocess per image at shape (1, 3, 640, 640)\n",
      "\n"
     ]
    },
    {
     "name": "stdout",
     "output_type": "stream",
     "text": [
      "640 404 f2 15\n",
      "770 597 f2 5\n",
      "769 596 f2 5\n"
     ]
    },
    {
     "name": "stderr",
     "output_type": "stream",
     "text": [
      "0: 384x640 2 cars, 1 bus, 82.9ms\n",
      "Speed: 1.0ms pre-process, 82.9ms inference, 2.0ms postprocess per image at shape (1, 3, 640, 640)\n",
      "\n",
      "0: 384x640 2 cars, 1 bus, 86.8ms\n",
      "Speed: 1.0ms pre-process, 86.8ms inference, 1.0ms postprocess per image at shape (1, 3, 640, 640)\n",
      "\n",
      "0: 384x640 2 cars, 80.1ms\n"
     ]
    },
    {
     "name": "stdout",
     "output_type": "stream",
     "text": [
      "640 404 f2 15\n",
      "639 402 f2 15\n",
      "768 594 f2 5\n"
     ]
    },
    {
     "name": "stderr",
     "output_type": "stream",
     "text": [
      "Speed: 0.0ms pre-process, 80.1ms inference, 1.0ms postprocess per image at shape (1, 3, 640, 640)\n",
      "\n",
      "0: 384x640 2 cars, 91.1ms\n",
      "Speed: 1.0ms pre-process, 91.1ms inference, 1.0ms postprocess per image at shape (1, 3, 640, 640)\n",
      "\n",
      "0: 384x640 3 cars, 1 bus, 1 truck, 83.1ms\n"
     ]
    },
    {
     "name": "stdout",
     "output_type": "stream",
     "text": [
      "638 401 f2 15\n",
      "766 591 f2 5\n",
      "766 590 f2 5\n"
     ]
    },
    {
     "name": "stderr",
     "output_type": "stream",
     "text": [
      "Speed: 1.0ms pre-process, 83.1ms inference, 1.0ms postprocess per image at shape (1, 3, 640, 640)\n",
      "\n",
      "0: 384x640 3 cars, 1 bus, 1 truck, 83.3ms\n",
      "Speed: 0.0ms pre-process, 83.3ms inference, 1.0ms postprocess per image at shape (1, 3, 640, 640)\n",
      "\n"
     ]
    },
    {
     "name": "stdout",
     "output_type": "stream",
     "text": [
      "636 398 f2 15\n",
      "762 588 f2 5\n",
      "636 397 f2 15\n",
      "760 587 f2 5\n"
     ]
    },
    {
     "name": "stderr",
     "output_type": "stream",
     "text": [
      "0: 384x640 2 cars, 1 bus, 1 truck, 96.1ms\n",
      "Speed: 1.0ms pre-process, 96.1ms inference, 1.2ms postprocess per image at shape (1, 3, 640, 640)\n",
      "\n",
      "0: 384x640 2 cars, 1 bus, 1 truck, 85.5ms\n",
      "Speed: 1.0ms pre-process, 85.5ms inference, 1.0ms postprocess per image at shape (1, 3, 640, 640)\n",
      "\n",
      "0: 384x640 2 cars, 1 bus, 82.5ms\n"
     ]
    },
    {
     "name": "stdout",
     "output_type": "stream",
     "text": [
      "759 585 f2 5\n",
      "637 402 f2 16\n",
      "758 585 f2 5\n"
     ]
    },
    {
     "name": "stderr",
     "output_type": "stream",
     "text": [
      "Speed: 1.0ms pre-process, 82.5ms inference, 1.0ms postprocess per image at shape (1, 3, 640, 640)\n",
      "\n",
      "0: 384x640 2 cars, 1 bus, 85.3ms\n",
      "Speed: 1.0ms pre-process, 85.3ms inference, 1.0ms postprocess per image at shape (1, 3, 640, 640)\n",
      "\n"
     ]
    },
    {
     "name": "stdout",
     "output_type": "stream",
     "text": [
      "636 401 f2 16\n",
      "758 583 f2 5\n",
      "635 399 f2 16\n"
     ]
    },
    {
     "name": "stderr",
     "output_type": "stream",
     "text": [
      "0: 384x640 2 cars, 1 bus, 1 truck, 82.6ms\n",
      "Speed: 0.0ms pre-process, 82.6ms inference, 1.0ms postprocess per image at shape (1, 3, 640, 640)\n",
      "\n",
      "0: 384x640 2 cars, 1 bus, 1 truck, 85.8ms\n",
      "Speed: 0.0ms pre-process, 85.8ms inference, 1.0ms postprocess per image at shape (1, 3, 640, 640)\n",
      "\n",
      "0: 384x640 2 cars, 1 bus, 1 truck, 83.2ms\n"
     ]
    },
    {
     "name": "stdout",
     "output_type": "stream",
     "text": [
      "633 397 f2 16\n",
      "761 582 f2 5\n",
      "632 396 f2 16\n",
      "763 582 f2 5\n"
     ]
    },
    {
     "name": "stderr",
     "output_type": "stream",
     "text": [
      "Speed: 1.0ms pre-process, 83.2ms inference, 1.0ms postprocess per image at shape (1, 3, 640, 640)\n",
      "\n",
      "0: 384x640 2 cars, 1 bus, 1 truck, 85.1ms\n",
      "Speed: 0.0ms pre-process, 85.1ms inference, 2.0ms postprocess per image at shape (1, 3, 640, 640)\n",
      "\n",
      "0: 384x640 2 cars, 1 bus, 1 truck, 82.9ms\n",
      "Speed: 0.9ms pre-process, 82.9ms inference, 1.0ms postprocess per image at shape (1, 3, 640, 640)\n",
      "\n"
     ]
    },
    {
     "name": "stdout",
     "output_type": "stream",
     "text": [
      "631 394 f2 16\n",
      "761 580 f2 5\n",
      "760 579 f2 5\n"
     ]
    },
    {
     "name": "stderr",
     "output_type": "stream",
     "text": [
      "0: 384x640 2 cars, 1 bus, 1 truck, 85.5ms\n",
      "Speed: 1.0ms pre-process, 85.5ms inference, 2.0ms postprocess per image at shape (1, 3, 640, 640)\n",
      "\n",
      "0: 384x640 2 cars, 1 bus, 1 truck, 95.0ms\n",
      "Speed: 0.0ms pre-process, 95.0ms inference, 1.0ms postprocess per image at shape (1, 3, 640, 640)\n",
      "\n"
     ]
    },
    {
     "name": "stdout",
     "output_type": "stream",
     "text": [
      "630 394 f2 16\n",
      "753 576 f2 5\n",
      "751 575 f2 5\n"
     ]
    },
    {
     "name": "stderr",
     "output_type": "stream",
     "text": [
      "0: 384x640 2 cars, 1 bus, 2 trucks, 84.5ms\n",
      "Speed: 0.0ms pre-process, 84.5ms inference, 2.0ms postprocess per image at shape (1, 3, 640, 640)\n",
      "\n",
      "0: 384x640 2 cars, 1 bus, 1 truck, 84.1ms\n",
      "Speed: 1.0ms pre-process, 84.1ms inference, 1.0ms postprocess per image at shape (1, 3, 640, 640)\n",
      "\n",
      "0: 384x640 2 cars, 1 bus, 1 truck, 83.0ms\n"
     ]
    },
    {
     "name": "stdout",
     "output_type": "stream",
     "text": [
      "629 393 f2 16\n",
      "752 572 f2 5\n",
      "627 391 f2 16\n",
      "748 569 f2 5\n"
     ]
    },
    {
     "name": "stderr",
     "output_type": "stream",
     "text": [
      "Speed: 1.0ms pre-process, 83.0ms inference, 0.0ms postprocess per image at shape (1, 3, 640, 640)\n",
      "\n",
      "0: 384x640 2 cars, 1 bus, 1 truck, 84.0ms\n",
      "Speed: 1.0ms pre-process, 84.0ms inference, 1.0ms postprocess per image at shape (1, 3, 640, 640)\n",
      "\n",
      "0: 384x640 2 cars, 1 bus, 1 truck, 84.1ms\n"
     ]
    },
    {
     "name": "stdout",
     "output_type": "stream",
     "text": [
      "626 390 f2 16\n",
      "747 568 f2 5\n",
      "624 386 f2 16\n",
      "743 563 f2 5\n"
     ]
    },
    {
     "name": "stderr",
     "output_type": "stream",
     "text": [
      "Speed: 0.0ms pre-process, 84.1ms inference, 1.0ms postprocess per image at shape (1, 3, 640, 640)\n",
      "\n",
      "0: 384x640 2 cars, 1 bus, 1 truck, 89.1ms\n",
      "Speed: 1.0ms pre-process, 89.1ms inference, 1.0ms postprocess per image at shape (1, 3, 640, 640)\n",
      "\n",
      "0: 384x640 2 cars, 1 bus, 1 truck, 84.9ms\n"
     ]
    },
    {
     "name": "stdout",
     "output_type": "stream",
     "text": [
      "622 385 f2 16\n",
      "741 561 f2 5\n",
      "619 385 f2 16\n",
      "738 559 f2 5\n"
     ]
    },
    {
     "name": "stderr",
     "output_type": "stream",
     "text": [
      "Speed: 1.0ms pre-process, 84.9ms inference, 0.0ms postprocess per image at shape (1, 3, 640, 640)\n",
      "\n",
      "0: 384x640 2 cars, 1 bus, 1 truck, 84.2ms\n",
      "Speed: 0.0ms pre-process, 84.2ms inference, 0.0ms postprocess per image at shape (1, 3, 640, 640)\n",
      "\n"
     ]
    },
    {
     "name": "stdout",
     "output_type": "stream",
     "text": [
      "618 384 f2 16\n",
      "736 558 f2 5\n",
      "615 381 f2 16\n",
      "735 555 f2 5\n"
     ]
    },
    {
     "name": "stderr",
     "output_type": "stream",
     "text": [
      "0: 384x640 2 cars, 1 bus, 1 truck, 92.2ms\n",
      "Speed: 0.0ms pre-process, 92.2ms inference, 1.0ms postprocess per image at shape (1, 3, 640, 640)\n",
      "\n",
      "0: 384x640 2 cars, 1 bus, 87.5ms\n",
      "Speed: 0.0ms pre-process, 87.5ms inference, 1.0ms postprocess per image at shape (1, 3, 640, 640)\n",
      "\n"
     ]
    },
    {
     "name": "stdout",
     "output_type": "stream",
     "text": [
      "614 380 f2 16\n",
      "735 554 f2 5\n",
      "733 552 f2 5\n"
     ]
    },
    {
     "name": "stderr",
     "output_type": "stream",
     "text": [
      "0: 384x640 2 cars, 1 bus, 82.7ms\n",
      "Speed: 0.0ms pre-process, 82.7ms inference, 1.0ms postprocess per image at shape (1, 3, 640, 640)\n",
      "\n",
      "0: 384x640 2 cars, 1 bus, 1 truck, 84.1ms\n",
      "Speed: 0.0ms pre-process, 84.1ms inference, 2.0ms postprocess per image at shape (1, 3, 640, 640)\n",
      "\n",
      "0: 384x640 2 cars, 1 bus, 1 truck, 82.3ms\n"
     ]
    },
    {
     "name": "stdout",
     "output_type": "stream",
     "text": [
      "613 379 f2 16\n",
      "613 375 f2 16\n",
      "731 550 f2 5\n"
     ]
    },
    {
     "name": "stderr",
     "output_type": "stream",
     "text": [
      "Speed: 0.0ms pre-process, 82.3ms inference, 1.0ms postprocess per image at shape (1, 3, 640, 640)\n",
      "\n",
      "0: 384x640 2 cars, 1 bus, 1 truck, 88.1ms\n",
      "Speed: 1.0ms pre-process, 88.1ms inference, 1.0ms postprocess per image at shape (1, 3, 640, 640)\n",
      "\n",
      "0: 384x640 2 cars, 1 bus, 1 truck, 83.2ms\n"
     ]
    },
    {
     "name": "stdout",
     "output_type": "stream",
     "text": [
      "613 374 f2 16\n",
      "730 549 f2 5\n"
     ]
    },
    {
     "name": "stderr",
     "output_type": "stream",
     "text": [
      "Speed: 1.0ms pre-process, 83.2ms inference, 1.0ms postprocess per image at shape (1, 3, 640, 640)\n",
      "\n",
      "0: 384x640 3 cars, 1 bus, 1 truck, 85.9ms\n",
      "Speed: 1.0ms pre-process, 85.9ms inference, 1.0ms postprocess per image at shape (1, 3, 640, 640)\n",
      "\n",
      "0: 384x640 3 cars, 1 bus, 1 truck, 83.0ms\n"
     ]
    },
    {
     "name": "stdout",
     "output_type": "stream",
     "text": [
      "612 371 f2 16\n",
      "728 547 f2 5\n",
      "611 367 f2 16\n",
      "726 543 f2 5\n"
     ]
    },
    {
     "name": "stderr",
     "output_type": "stream",
     "text": [
      "Speed: 0.0ms pre-process, 83.0ms inference, 1.0ms postprocess per image at shape (1, 3, 640, 640)\n",
      "\n",
      "0: 384x640 3 cars, 1 bus, 1 truck, 96.1ms\n",
      "Speed: 0.9ms pre-process, 96.1ms inference, 1.0ms postprocess per image at shape (1, 3, 640, 640)\n",
      "\n"
     ]
    },
    {
     "name": "stdout",
     "output_type": "stream",
     "text": [
      "610 365 f2 16\n",
      "726 542 f2 5\n",
      "608 366 f2 16\n",
      "725 539 f2 5\n"
     ]
    },
    {
     "name": "stderr",
     "output_type": "stream",
     "text": [
      "0: 384x640 3 cars, 1 bus, 1 truck, 83.3ms\n",
      "Speed: 1.0ms pre-process, 83.3ms inference, 1.0ms postprocess per image at shape (1, 3, 640, 640)\n",
      "\n",
      "0: 384x640 3 cars, 1 bus, 1 truck, 82.5ms\n",
      "Speed: 1.0ms pre-process, 82.5ms inference, 1.0ms postprocess per image at shape (1, 3, 640, 640)\n",
      "\n",
      "0: 384x640 3 cars, 1 bus, 1 truck, 81.5ms\n"
     ]
    },
    {
     "name": "stdout",
     "output_type": "stream",
     "text": [
      "497 217 f2 17\n",
      "607 367 f2 16\n",
      "724 538 f2 5\n",
      "496 213 f2 17\n",
      "606 365 f2 16\n",
      "723 536 f2 5\n"
     ]
    },
    {
     "name": "stderr",
     "output_type": "stream",
     "text": [
      "Speed: 0.0ms pre-process, 81.5ms inference, 1.0ms postprocess per image at shape (1, 3, 640, 640)\n",
      "\n",
      "0: 384x640 3 cars, 1 bus, 1 truck, 83.2ms\n",
      "Speed: 1.0ms pre-process, 83.2ms inference, 0.0ms postprocess per image at shape (1, 3, 640, 640)\n",
      "\n",
      "0: 384x640 3 cars, 1 bus, 1 truck, 80.4ms\n"
     ]
    },
    {
     "name": "stdout",
     "output_type": "stream",
     "text": [
      "495 212 f2 17\n",
      "605 365 f2 16\n",
      "722 535 f2 5\n",
      "494 209 f2 17\n",
      "605 362 f2 16\n",
      "720 534 f2 5\n"
     ]
    },
    {
     "name": "stderr",
     "output_type": "stream",
     "text": [
      "Speed: 0.0ms pre-process, 80.4ms inference, 1.0ms postprocess per image at shape (1, 3, 640, 640)\n",
      "\n",
      "0: 384x640 3 cars, 1 bus, 1 truck, 84.5ms\n",
      "Speed: 1.0ms pre-process, 84.5ms inference, 1.0ms postprocess per image at shape (1, 3, 640, 640)\n",
      "\n",
      "0: 384x640 4 cars, 1 bus, 1 truck, 80.2ms\n"
     ]
    },
    {
     "name": "stdout",
     "output_type": "stream",
     "text": [
      "494 208 f2 17\n",
      "719 535 f2 5\n",
      "605 361 f2 16\n",
      "719 534 f2 5\n"
     ]
    },
    {
     "name": "stderr",
     "output_type": "stream",
     "text": [
      "Speed: 1.0ms pre-process, 80.2ms inference, 1.0ms postprocess per image at shape (1, 3, 640, 640)\n",
      "\n",
      "0: 384x640 3 cars, 1 bus, 1 truck, 83.0ms\n",
      "Speed: 1.0ms pre-process, 83.0ms inference, 1.0ms postprocess per image at shape (1, 3, 640, 640)\n",
      "\n",
      "0: 384x640 3 cars, 1 bus, 1 truck, 81.5ms\n"
     ]
    },
    {
     "name": "stdout",
     "output_type": "stream",
     "text": [
      "494 208 f2 17\n",
      "605 360 f2 16\n",
      "717 533 f2 5\n",
      "492 206 f2 17\n",
      "604 358 f2 16\n",
      "714 530 f2 5\n"
     ]
    },
    {
     "name": "stderr",
     "output_type": "stream",
     "text": [
      "Speed: 0.0ms pre-process, 81.5ms inference, 1.0ms postprocess per image at shape (1, 3, 640, 640)\n",
      "\n",
      "0: 384x640 3 cars, 1 bus, 1 truck, 90.1ms\n",
      "Speed: 0.0ms pre-process, 90.1ms inference, 2.0ms postprocess per image at shape (1, 3, 640, 640)\n",
      "\n"
     ]
    },
    {
     "name": "stdout",
     "output_type": "stream",
     "text": [
      "604 357 f2 16\n",
      "713 528 f2 5\n",
      "492 206 f2 17\n"
     ]
    },
    {
     "name": "stderr",
     "output_type": "stream",
     "text": [
      "0: 384x640 3 cars, 1 bus, 1 truck, 85.1ms\n",
      "Speed: 1.0ms pre-process, 85.1ms inference, 1.0ms postprocess per image at shape (1, 3, 640, 640)\n",
      "\n",
      "0: 384x640 3 cars, 1 bus, 1 truck, 86.8ms\n",
      "Speed: 1.0ms pre-process, 86.8ms inference, 1.0ms postprocess per image at shape (1, 3, 640, 640)\n",
      "\n",
      "0: 384x640 4 cars, 1 bus, 1 truck, 87.5ms\n"
     ]
    },
    {
     "name": "stdout",
     "output_type": "stream",
     "text": [
      "491 204 f2 17\n",
      "600 352 f2 16\n",
      "712 524 f2 5\n",
      "491 203 f2 17\n",
      "599 350 f2 16\n",
      "712 522 f2 5\n"
     ]
    },
    {
     "name": "stderr",
     "output_type": "stream",
     "text": [
      "Speed: 1.0ms pre-process, 87.5ms inference, 1.0ms postprocess per image at shape (1, 3, 640, 640)\n",
      "\n",
      "0: 384x640 3 cars, 1 truck, 85.4ms\n",
      "Speed: 1.0ms pre-process, 85.4ms inference, 1.0ms postprocess per image at shape (1, 3, 640, 640)\n",
      "\n"
     ]
    },
    {
     "name": "stdout",
     "output_type": "stream",
     "text": [
      "489 203 f2 17\n",
      "597 349 f2 16\n",
      "712 518 f2 5\n",
      "488 203 f2 17\n",
      "596 346 f2 16\n",
      "708 516 f2 5\n"
     ]
    },
    {
     "name": "stderr",
     "output_type": "stream",
     "text": [
      "0: 384x640 3 cars, 1 truck, 84.0ms\n",
      "Speed: 1.0ms pre-process, 84.0ms inference, 1.0ms postprocess per image at shape (1, 3, 640, 640)\n",
      "\n",
      "0: 384x640 1 car, 1 bus, 1 truck, 83.5ms\n",
      "Speed: 1.0ms pre-process, 83.5ms inference, 1.0ms postprocess per image at shape (1, 3, 640, 640)\n",
      "\n"
     ]
    },
    {
     "name": "stdout",
     "output_type": "stream",
     "text": [
      "487 203 f2 17\n",
      "595 345 f2 16\n",
      "707 515 f2 5\n",
      "706 512 f2 5\n"
     ]
    },
    {
     "name": "stderr",
     "output_type": "stream",
     "text": [
      "0: 384x640 1 car, 1 bus, 1 truck, 84.4ms\n",
      "Speed: 1.0ms pre-process, 84.4ms inference, 1.0ms postprocess per image at shape (1, 3, 640, 640)\n",
      "\n",
      "0: 384x640 1 car, 1 bus, 1 truck, 85.6ms\n",
      "Speed: 1.0ms pre-process, 85.6ms inference, 1.0ms postprocess per image at shape (1, 3, 640, 640)\n",
      "\n"
     ]
    },
    {
     "name": "stdout",
     "output_type": "stream",
     "text": [
      "706 511 f2 5\n"
     ]
    },
    {
     "name": "stderr",
     "output_type": "stream",
     "text": [
      "0: 384x640 1 car, 1 bus, 1 truck, 93.2ms\n",
      "Speed: 1.0ms pre-process, 93.2ms inference, 1.0ms postprocess per image at shape (1, 3, 640, 640)\n",
      "\n",
      "0: 384x640 3 cars, 1 bus, 1 truck, 85.2ms\n",
      "Speed: 0.0ms pre-process, 85.2ms inference, 1.0ms postprocess per image at shape (1, 3, 640, 640)\n",
      "\n"
     ]
    },
    {
     "name": "stdout",
     "output_type": "stream",
     "text": [
      "706 511 f2 5\n",
      "704 509 f2 5\n"
     ]
    },
    {
     "name": "stderr",
     "output_type": "stream",
     "text": [
      "0: 384x640 3 cars, 1 bus, 1 truck, 82.1ms\n",
      "Speed: 0.0ms pre-process, 82.1ms inference, 1.0ms postprocess per image at shape (1, 3, 640, 640)\n",
      "\n",
      "0: 384x640 3 cars, 1 bus, 1 truck, 85.3ms\n",
      "Speed: 0.0ms pre-process, 85.3ms inference, 1.0ms postprocess per image at shape (1, 3, 640, 640)\n",
      "\n"
     ]
    },
    {
     "name": "stdout",
     "output_type": "stream",
     "text": [
      "703 508 f2 5\n",
      "482 198 f2 17\n",
      "591 343 f2 16\n",
      "701 506 f2 5\n"
     ]
    },
    {
     "name": "stderr",
     "output_type": "stream",
     "text": [
      "0: 384x640 3 cars, 1 bus, 1 truck, 83.9ms\n",
      "Speed: 0.9ms pre-process, 83.9ms inference, 1.0ms postprocess per image at shape (1, 3, 640, 640)\n",
      "\n",
      "0: 384x640 3 cars, 1 truck, 85.8ms\n",
      "Speed: 0.0ms pre-process, 85.8ms inference, 1.0ms postprocess per image at shape (1, 3, 640, 640)\n",
      "\n",
      "0: 384x640 3 cars, 1 bus, 1 truck, 81.7ms\n"
     ]
    },
    {
     "name": "stdout",
     "output_type": "stream",
     "text": [
      "482 197 f2 17\n",
      "590 343 f2 16\n",
      "701 505 f2 5\n",
      "588 339 f2 16\n",
      "699 502 f2 5\n"
     ]
    },
    {
     "name": "stderr",
     "output_type": "stream",
     "text": [
      "Speed: 1.0ms pre-process, 81.7ms inference, 1.0ms postprocess per image at shape (1, 3, 640, 640)\n",
      "\n",
      "0: 384x640 3 cars, 1 bus, 1 truck, 87.1ms\n",
      "Speed: 1.0ms pre-process, 87.1ms inference, 2.3ms postprocess per image at shape (1, 3, 640, 640)\n",
      "\n"
     ]
    },
    {
     "name": "stdout",
     "output_type": "stream",
     "text": [
      "587 338 f2 16\n",
      "698 500 f2 5\n",
      "705 512 f2 18\n"
     ]
    },
    {
     "name": "stderr",
     "output_type": "stream",
     "text": [
      "0: 384x640 2 cars, 1 bus, 1 truck, 83.8ms\n",
      "Speed: 1.0ms pre-process, 83.8ms inference, 0.0ms postprocess per image at shape (1, 3, 640, 640)\n",
      "\n",
      "0: 384x640 2 cars, 1 bus, 1 truck, 96.2ms\n",
      "Speed: 1.0ms pre-process, 96.2ms inference, 1.0ms postprocess per image at shape (1, 3, 640, 640)\n",
      "\n"
     ]
    },
    {
     "name": "stdout",
     "output_type": "stream",
     "text": [
      "704 509 f2 18\n",
      "697 498 f2 5\n",
      "704 507 f2 18\n",
      "696 497 f2 5\n"
     ]
    },
    {
     "name": "stderr",
     "output_type": "stream",
     "text": [
      "0: 384x640 1 car, 1 bus, 1 truck, 80.7ms\n",
      "Speed: 1.0ms pre-process, 80.7ms inference, 2.0ms postprocess per image at shape (1, 3, 640, 640)\n",
      "\n",
      "0: 384x640 1 car, 1 bus, 1 truck, 85.0ms\n",
      "Speed: 1.0ms pre-process, 85.0ms inference, 1.0ms postprocess per image at shape (1, 3, 640, 640)\n",
      "\n",
      "0: 384x640 1 car, 1 bus, 1 truck, 83.6ms\n"
     ]
    },
    {
     "name": "stdout",
     "output_type": "stream",
     "text": [
      "697 496 f2 5\n",
      "695 492 f2 5\n"
     ]
    },
    {
     "name": "stderr",
     "output_type": "stream",
     "text": [
      "Speed: 1.0ms pre-process, 83.6ms inference, 1.0ms postprocess per image at shape (1, 3, 640, 640)\n",
      "\n",
      "0: 384x640 2 cars, 1 bus, 1 truck, 84.5ms\n",
      "Speed: 1.0ms pre-process, 84.5ms inference, 1.0ms postprocess per image at shape (1, 3, 640, 640)\n",
      "\n",
      "0: 384x640 2 cars, 1 bus, 1 truck, 80.1ms\n"
     ]
    },
    {
     "name": "stdout",
     "output_type": "stream",
     "text": [
      "693 490 f2 5\n",
      "688 488 f2 5\n"
     ]
    },
    {
     "name": "stderr",
     "output_type": "stream",
     "text": [
      "Speed: 1.0ms pre-process, 80.1ms inference, 2.0ms postprocess per image at shape (1, 3, 640, 640)\n",
      "\n",
      "0: 384x640 1 car, 1 bus, 1 truck, 87.2ms\n",
      "Speed: 1.0ms pre-process, 87.2ms inference, 1.0ms postprocess per image at shape (1, 3, 640, 640)\n",
      "\n"
     ]
    },
    {
     "name": "stdout",
     "output_type": "stream",
     "text": [
      "687 487 f2 5\n",
      "685 486 f2 5\n"
     ]
    },
    {
     "name": "stderr",
     "output_type": "stream",
     "text": [
      "0: 384x640 1 car, 1 bus, 1 truck, 83.9ms\n",
      "Speed: 0.0ms pre-process, 83.9ms inference, 1.0ms postprocess per image at shape (1, 3, 640, 640)\n",
      "\n",
      "0: 384x640 1 car, 1 bus, 1 truck, 85.1ms\n",
      "Speed: 0.0ms pre-process, 85.1ms inference, 1.0ms postprocess per image at shape (1, 3, 640, 640)\n",
      "\n"
     ]
    },
    {
     "name": "stdout",
     "output_type": "stream",
     "text": [
      "685 485 f2 5\n",
      "683 483 f2 5\n"
     ]
    },
    {
     "name": "stderr",
     "output_type": "stream",
     "text": [
      "0: 384x640 1 car, 1 bus, 1 truck, 85.0ms\n",
      "Speed: 1.0ms pre-process, 85.0ms inference, 1.0ms postprocess per image at shape (1, 3, 640, 640)\n",
      "\n",
      "0: 384x640 1 car, 1 bus, 1 truck, 94.4ms\n",
      "Speed: 1.0ms pre-process, 94.4ms inference, 1.0ms postprocess per image at shape (1, 3, 640, 640)\n",
      "\n",
      "0: 384x640 1 car, 1 bus, 1 truck, 81.5ms\n"
     ]
    },
    {
     "name": "stdout",
     "output_type": "stream",
     "text": [
      "683 482 f2 5\n",
      "681 482 f2 5\n"
     ]
    },
    {
     "name": "stderr",
     "output_type": "stream",
     "text": [
      "Speed: 1.0ms pre-process, 81.5ms inference, 1.0ms postprocess per image at shape (1, 3, 640, 640)\n",
      "\n",
      "0: 384x640 1 car, 1 bus, 1 truck, 83.2ms\n",
      "Speed: 0.0ms pre-process, 83.2ms inference, 1.0ms postprocess per image at shape (1, 3, 640, 640)\n",
      "\n",
      "0: 384x640 1 car, 1 bus, 1 truck, 84.2ms\n",
      "Speed: 0.0ms pre-process, 84.2ms inference, 1.0ms postprocess per image at shape (1, 3, 640, 640)\n",
      "\n",
      "0: 384x640 1 car, 1 bus, 1 truck, 84.8ms\n"
     ]
    },
    {
     "name": "stdout",
     "output_type": "stream",
     "text": [
      "681 482 f2 5\n",
      "680 481 f2 5\n"
     ]
    },
    {
     "name": "stderr",
     "output_type": "stream",
     "text": [
      "Speed: 0.0ms pre-process, 84.8ms inference, 1.0ms postprocess per image at shape (1, 3, 640, 640)\n",
      "\n",
      "0: 384x640 1 car, 1 bus, 1 truck, 88.1ms\n",
      "Speed: 0.9ms pre-process, 88.1ms inference, 1.0ms postprocess per image at shape (1, 3, 640, 640)\n",
      "\n",
      "0: 384x640 1 car, 1 truck, 81.5ms\n"
     ]
    },
    {
     "name": "stdout",
     "output_type": "stream",
     "text": [
      "679 481 f2 5\n",
      "677 479 f2 5\n"
     ]
    },
    {
     "name": "stderr",
     "output_type": "stream",
     "text": [
      "Speed: 0.0ms pre-process, 81.5ms inference, 1.0ms postprocess per image at shape (1, 3, 640, 640)\n",
      "\n",
      "0: 384x640 1 car, 1 truck, 88.2ms\n",
      "Speed: 1.0ms pre-process, 88.2ms inference, 0.0ms postprocess per image at shape (1, 3, 640, 640)\n",
      "\n",
      "0: 384x640 1 car, 1 truck, 84.3ms\n"
     ]
    },
    {
     "name": "stdout",
     "output_type": "stream",
     "text": [
      "674 474 f2 5\n",
      "673 473 f2 5\n"
     ]
    },
    {
     "name": "stderr",
     "output_type": "stream",
     "text": [
      "Speed: 1.0ms pre-process, 84.3ms inference, 1.0ms postprocess per image at shape (1, 3, 640, 640)\n",
      "\n",
      "0: 384x640 1 car, 1 truck, 83.3ms\n",
      "Speed: 0.0ms pre-process, 83.3ms inference, 2.0ms postprocess per image at shape (1, 3, 640, 640)\n",
      "\n",
      "0: 384x640 1 car, 1 truck, 90.1ms\n"
     ]
    },
    {
     "name": "stdout",
     "output_type": "stream",
     "text": [
      "673 470 f2 5\n",
      "673 469 f2 5\n"
     ]
    },
    {
     "name": "stderr",
     "output_type": "stream",
     "text": [
      "Speed: 1.0ms pre-process, 90.1ms inference, 1.0ms postprocess per image at shape (1, 3, 640, 640)\n",
      "\n",
      "0: 384x640 1 car, 1 truck, 84.1ms\n",
      "Speed: 0.0ms pre-process, 84.1ms inference, 1.0ms postprocess per image at shape (1, 3, 640, 640)\n",
      "\n",
      "0: 384x640 1 car, 1 truck, 83.4ms\n"
     ]
    },
    {
     "name": "stdout",
     "output_type": "stream",
     "text": [
      "671 467 f2 5\n",
      "671 466 f2 5\n"
     ]
    },
    {
     "name": "stderr",
     "output_type": "stream",
     "text": [
      "Speed: 0.0ms pre-process, 83.4ms inference, 1.0ms postprocess per image at shape (1, 3, 640, 640)\n",
      "\n",
      "0: 384x640 1 car, 1 truck, 83.3ms\n",
      "Speed: 1.0ms pre-process, 83.3ms inference, 1.5ms postprocess per image at shape (1, 3, 640, 640)\n",
      "\n",
      "0: 384x640 1 car, 1 truck, 85.5ms\n"
     ]
    },
    {
     "name": "stdout",
     "output_type": "stream",
     "text": [
      "670 464 f2 5\n"
     ]
    },
    {
     "name": "stderr",
     "output_type": "stream",
     "text": [
      "Speed: 1.0ms pre-process, 85.5ms inference, 2.0ms postprocess per image at shape (1, 3, 640, 640)\n",
      "\n",
      "0: 384x640 1 car, 1 truck, 85.0ms\n",
      "Speed: 1.0ms pre-process, 85.0ms inference, 1.0ms postprocess per image at shape (1, 3, 640, 640)\n",
      "\n",
      "0: 384x640 1 car, 1 truck, 81.7ms\n"
     ]
    },
    {
     "name": "stdout",
     "output_type": "stream",
     "text": [
      "669 461 f2 5\n"
     ]
    },
    {
     "name": "stderr",
     "output_type": "stream",
     "text": [
      "Speed: 1.0ms pre-process, 81.7ms inference, 1.5ms postprocess per image at shape (1, 3, 640, 640)\n",
      "\n",
      "0: 384x640 1 car, 1 truck, 87.6ms\n",
      "Speed: 0.0ms pre-process, 87.6ms inference, 1.0ms postprocess per image at shape (1, 3, 640, 640)\n",
      "\n",
      "0: 384x640 1 car, 1 truck, 84.0ms\n"
     ]
    },
    {
     "name": "stdout",
     "output_type": "stream",
     "text": [
      "667 460 f2 5\n"
     ]
    },
    {
     "name": "stderr",
     "output_type": "stream",
     "text": [
      "Speed: 0.9ms pre-process, 84.0ms inference, 1.0ms postprocess per image at shape (1, 3, 640, 640)\n",
      "\n",
      "0: 384x640 1 car, 1 truck, 96.1ms\n",
      "Speed: 1.0ms pre-process, 96.1ms inference, 1.0ms postprocess per image at shape (1, 3, 640, 640)\n",
      "\n",
      "0: 384x640 1 car, 1 truck, 84.5ms\n"
     ]
    },
    {
     "name": "stdout",
     "output_type": "stream",
     "text": [
      "667 459 f2 5\n",
      "663 457 f2 5\n"
     ]
    },
    {
     "name": "stderr",
     "output_type": "stream",
     "text": [
      "Speed: 1.0ms pre-process, 84.5ms inference, 1.0ms postprocess per image at shape (1, 3, 640, 640)\n",
      "\n",
      "0: 384x640 1 car, 1 truck, 83.7ms\n",
      "Speed: 1.0ms pre-process, 83.7ms inference, 1.0ms postprocess per image at shape (1, 3, 640, 640)\n",
      "\n",
      "0: 384x640 1 car, 1 truck, 80.7ms\n"
     ]
    },
    {
     "name": "stdout",
     "output_type": "stream",
     "text": [
      "662 457 f2 5\n",
      "660 455 f2 5\n"
     ]
    },
    {
     "name": "stderr",
     "output_type": "stream",
     "text": [
      "Speed: 0.0ms pre-process, 80.7ms inference, 1.0ms postprocess per image at shape (1, 3, 640, 640)\n",
      "\n",
      "0: 384x640 1 car, 1 truck, 86.4ms\n",
      "Speed: 0.0ms pre-process, 86.4ms inference, 1.0ms postprocess per image at shape (1, 3, 640, 640)\n",
      "\n",
      "0: 384x640 1 car, 1 truck, 82.1ms\n"
     ]
    },
    {
     "name": "stdout",
     "output_type": "stream",
     "text": [
      "658 455 f2 5\n"
     ]
    },
    {
     "name": "stderr",
     "output_type": "stream",
     "text": [
      "Speed: 1.0ms pre-process, 82.1ms inference, 1.0ms postprocess per image at shape (1, 3, 640, 640)\n",
      "\n",
      "0: 384x640 1 car, 1 truck, 85.1ms\n",
      "Speed: 1.0ms pre-process, 85.1ms inference, 2.0ms postprocess per image at shape (1, 3, 640, 640)\n",
      "\n",
      "0: 384x640 1 car, 1 truck, 85.5ms\n"
     ]
    },
    {
     "name": "stdout",
     "output_type": "stream",
     "text": [
      "657 453 f2 5\n",
      "657 452 f2 5\n"
     ]
    },
    {
     "name": "stderr",
     "output_type": "stream",
     "text": [
      "Speed: 1.0ms pre-process, 85.5ms inference, 1.0ms postprocess per image at shape (1, 3, 640, 640)\n",
      "\n",
      "0: 384x640 1 car, 1 truck, 85.7ms\n",
      "Speed: 1.0ms pre-process, 85.7ms inference, 2.0ms postprocess per image at shape (1, 3, 640, 640)\n",
      "\n",
      "0: 384x640 1 car, 1 bus, 1 truck, 82.0ms\n"
     ]
    },
    {
     "name": "stdout",
     "output_type": "stream",
     "text": [
      "657 453 f2 5\n"
     ]
    },
    {
     "name": "stderr",
     "output_type": "stream",
     "text": [
      "Speed: 0.9ms pre-process, 82.0ms inference, 1.0ms postprocess per image at shape (1, 3, 640, 640)\n",
      "\n",
      "0: 384x640 1 car, 1 bus, 1 truck, 95.3ms\n",
      "Speed: 0.0ms pre-process, 95.3ms inference, 1.0ms postprocess per image at shape (1, 3, 640, 640)\n",
      "\n",
      "0: 384x640 1 car, 1 bus, 1 truck, 83.5ms\n"
     ]
    },
    {
     "name": "stdout",
     "output_type": "stream",
     "text": [
      "658 454 f2 5\n"
     ]
    },
    {
     "name": "stderr",
     "output_type": "stream",
     "text": [
      "Speed: 0.0ms pre-process, 83.5ms inference, 0.0ms postprocess per image at shape (1, 3, 640, 640)\n",
      "\n",
      "0: 384x640 1 car, 1 truck, 83.5ms\n",
      "Speed: 1.0ms pre-process, 83.5ms inference, 0.0ms postprocess per image at shape (1, 3, 640, 640)\n",
      "\n",
      "0: 384x640 1 car, 1 truck, 82.5ms\n"
     ]
    },
    {
     "name": "stdout",
     "output_type": "stream",
     "text": [
      "659 454 f2 5\n",
      "656 454 f2 5\n"
     ]
    },
    {
     "name": "stderr",
     "output_type": "stream",
     "text": [
      "Speed: 0.9ms pre-process, 82.5ms inference, 1.0ms postprocess per image at shape (1, 3, 640, 640)\n",
      "\n",
      "0: 384x640 1 car, 1 truck, 84.6ms\n",
      "Speed: 1.1ms pre-process, 84.6ms inference, 1.0ms postprocess per image at shape (1, 3, 640, 640)\n",
      "\n",
      "0: 384x640 1 car, 1 truck, 81.0ms\n"
     ]
    },
    {
     "name": "stdout",
     "output_type": "stream",
     "text": [
      "656 453 f2 5\n",
      "654 448 f2 5\n"
     ]
    },
    {
     "name": "stderr",
     "output_type": "stream",
     "text": [
      "Speed: 0.0ms pre-process, 81.0ms inference, 1.0ms postprocess per image at shape (1, 3, 640, 640)\n",
      "\n",
      "0: 384x640 1 car, 1 truck, 89.0ms\n",
      "Speed: 0.0ms pre-process, 89.0ms inference, 1.0ms postprocess per image at shape (1, 3, 640, 640)\n",
      "\n"
     ]
    },
    {
     "name": "stdout",
     "output_type": "stream",
     "text": [
      "653 446 f2 5\n",
      "651 441 f2 5\n"
     ]
    },
    {
     "name": "stderr",
     "output_type": "stream",
     "text": [
      "0: 384x640 1 car, 1 truck, 86.1ms\n",
      "Speed: 1.0ms pre-process, 86.1ms inference, 1.0ms postprocess per image at shape (1, 3, 640, 640)\n",
      "\n",
      "0: 384x640 1 car, 1 truck, 84.1ms\n",
      "Speed: 1.0ms pre-process, 84.1ms inference, 1.0ms postprocess per image at shape (1, 3, 640, 640)\n",
      "\n"
     ]
    },
    {
     "name": "stdout",
     "output_type": "stream",
     "text": [
      "648 429 f2 5\n",
      "647 425 f2 5\n"
     ]
    },
    {
     "name": "stderr",
     "output_type": "stream",
     "text": [
      "0: 384x640 1 car, 1 truck, 95.0ms\n",
      "Speed: 0.0ms pre-process, 95.0ms inference, 1.0ms postprocess per image at shape (1, 3, 640, 640)\n",
      "\n",
      "0: 384x640 1 car, 1 bus, 1 truck, 85.0ms\n",
      "Speed: 1.0ms pre-process, 85.0ms inference, 1.0ms postprocess per image at shape (1, 3, 640, 640)\n",
      "\n",
      "0: 384x640 1 car, 1 bus, 1 truck, 83.0ms\n"
     ]
    },
    {
     "name": "stdout",
     "output_type": "stream",
     "text": [
      "645 421 f2 5\n",
      "644 419 f2 5\n"
     ]
    },
    {
     "name": "stderr",
     "output_type": "stream",
     "text": [
      "Speed: 0.0ms pre-process, 83.0ms inference, 1.0ms postprocess per image at shape (1, 3, 640, 640)\n",
      "\n",
      "0: 384x640 1 car, 1 bus, 1 truck, 81.0ms\n",
      "Speed: 1.0ms pre-process, 81.0ms inference, 1.0ms postprocess per image at shape (1, 3, 640, 640)\n",
      "\n"
     ]
    },
    {
     "name": "stdout",
     "output_type": "stream",
     "text": [
      "644 418 f2 5\n"
     ]
    },
    {
     "name": "stderr",
     "output_type": "stream",
     "text": [
      "0: 384x640 1 car, 1 bus, 1 truck, 93.7ms\n",
      "Speed: 1.0ms pre-process, 93.7ms inference, 2.0ms postprocess per image at shape (1, 3, 640, 640)\n",
      "\n",
      "0: 384x640 1 car, 1 bus, 1 truck, 82.0ms\n",
      "Speed: 0.0ms pre-process, 82.0ms inference, 0.5ms postprocess per image at shape (1, 3, 640, 640)\n",
      "\n",
      "0: 384x640 1 car, 1 truck, 82.0ms\n"
     ]
    },
    {
     "name": "stdout",
     "output_type": "stream",
     "text": [
      "642 415 f2 5\n",
      "642 414 f2 5\n"
     ]
    },
    {
     "name": "stderr",
     "output_type": "stream",
     "text": [
      "Speed: 1.0ms pre-process, 82.0ms inference, 1.5ms postprocess per image at shape (1, 3, 640, 640)\n",
      "\n",
      "0: 384x640 1 car, 1 truck, 82.1ms\n",
      "Speed: 1.0ms pre-process, 82.1ms inference, 1.0ms postprocess per image at shape (1, 3, 640, 640)\n",
      "\n",
      "0: 384x640 2 cars, 1 truck, 82.0ms\n"
     ]
    },
    {
     "name": "stdout",
     "output_type": "stream",
     "text": [
      "640 411 f2 5\n",
      "640 410 f2 5\n"
     ]
    },
    {
     "name": "stderr",
     "output_type": "stream",
     "text": [
      "Speed: 1.0ms pre-process, 82.0ms inference, 1.0ms postprocess per image at shape (1, 3, 640, 640)\n",
      "\n",
      "0: 384x640 2 cars, 1 bus, 1 truck, 93.1ms\n",
      "Speed: 1.0ms pre-process, 93.1ms inference, 1.0ms postprocess per image at shape (1, 3, 640, 640)\n",
      "\n",
      "0: 384x640 3 cars, 1 truck, 82.3ms\n"
     ]
    },
    {
     "name": "stdout",
     "output_type": "stream",
     "text": [
      "639 409 f2 5\n",
      "639 408 f2 5\n"
     ]
    },
    {
     "name": "stderr",
     "output_type": "stream",
     "text": [
      "Speed: 1.0ms pre-process, 82.3ms inference, 1.0ms postprocess per image at shape (1, 3, 640, 640)\n",
      "\n",
      "0: 384x640 3 cars, 1 truck, 93.5ms\n",
      "Speed: 1.0ms pre-process, 93.5ms inference, 1.0ms postprocess per image at shape (1, 3, 640, 640)\n",
      "\n"
     ]
    },
    {
     "name": "stdout",
     "output_type": "stream",
     "text": [
      "638 407 f2 5\n",
      "991 788 Danger! 19\n"
     ]
    },
    {
     "name": "stderr",
     "output_type": "stream",
     "text": [
      "0: 384x640 1 car, 1 truck, 80.6ms\n",
      "Speed: 1.0ms pre-process, 80.6ms inference, 1.0ms postprocess per image at shape (1, 3, 640, 640)\n",
      "\n",
      "0: 384x640 2 cars, 1 truck, 82.5ms\n",
      "Speed: 1.0ms pre-process, 82.5ms inference, 1.0ms postprocess per image at shape (1, 3, 640, 640)\n",
      "\n",
      "0: 384x640 2 cars, 1 truck, 82.2ms\n"
     ]
    },
    {
     "name": "stdout",
     "output_type": "stream",
     "text": [
      "637 408 f2 5\n",
      "637 409 f2 5\n"
     ]
    },
    {
     "name": "stderr",
     "output_type": "stream",
     "text": [
      "Speed: 1.0ms pre-process, 82.2ms inference, 1.0ms postprocess per image at shape (1, 3, 640, 640)\n",
      "\n",
      "0: 384x640 2 cars, 1 truck, 83.0ms\n",
      "Speed: 1.0ms pre-process, 83.0ms inference, 1.0ms postprocess per image at shape (1, 3, 640, 640)\n",
      "\n",
      "0: 384x640 2 cars, 1 truck, 84.0ms\n"
     ]
    },
    {
     "name": "stdout",
     "output_type": "stream",
     "text": [
      "634 408 f2 5\n",
      "991 788 Danger! 19\n",
      "633 408 f2 5\n"
     ]
    },
    {
     "name": "stderr",
     "output_type": "stream",
     "text": [
      "Speed: 1.0ms pre-process, 84.0ms inference, 1.0ms postprocess per image at shape (1, 3, 640, 640)\n",
      "\n",
      "0: 384x640 2 cars, 1 truck, 83.2ms\n",
      "Speed: 1.0ms pre-process, 83.2ms inference, 1.0ms postprocess per image at shape (1, 3, 640, 640)\n",
      "\n"
     ]
    },
    {
     "name": "stdout",
     "output_type": "stream",
     "text": [
      "990 788 Danger! 19\n",
      "632 409 f2 5\n",
      "631 410 f2 5\n"
     ]
    },
    {
     "name": "stderr",
     "output_type": "stream",
     "text": [
      "0: 384x640 2 cars, 1 truck, 98.6ms\n",
      "Speed: 0.9ms pre-process, 98.6ms inference, 0.0ms postprocess per image at shape (1, 3, 640, 640)\n",
      "\n",
      "0: 384x640 2 cars, 1 truck, 82.5ms\n",
      "Speed: 1.0ms pre-process, 82.5ms inference, 1.0ms postprocess per image at shape (1, 3, 640, 640)\n",
      "\n"
     ]
    },
    {
     "name": "stdout",
     "output_type": "stream",
     "text": [
      "990 788 Danger! 19\n",
      "990 787 Danger! 19\n",
      "630 411 f2 5\n"
     ]
    },
    {
     "name": "stderr",
     "output_type": "stream",
     "text": [
      "0: 384x640 2 cars, 1 truck, 82.1ms\n",
      "Speed: 1.0ms pre-process, 82.1ms inference, 1.0ms postprocess per image at shape (1, 3, 640, 640)\n",
      "\n",
      "0: 384x640 2 cars, 1 truck, 83.4ms\n",
      "Speed: 0.0ms pre-process, 83.4ms inference, 2.0ms postprocess per image at shape (1, 3, 640, 640)\n",
      "\n",
      "0: 384x640 2 cars, 1 truck, 79.5ms\n"
     ]
    },
    {
     "name": "stdout",
     "output_type": "stream",
     "text": [
      "990 786 Danger! 19\n",
      "630 409 f2 5\n",
      "989 786 Danger! 19\n",
      "630 408 f2 5\n"
     ]
    },
    {
     "name": "stderr",
     "output_type": "stream",
     "text": [
      "Speed: 1.0ms pre-process, 79.5ms inference, 1.0ms postprocess per image at shape (1, 3, 640, 640)\n",
      "\n",
      "0: 384x640 1 car, 1 truck, 82.2ms\n",
      "Speed: 1.0ms pre-process, 82.2ms inference, 1.0ms postprocess per image at shape (1, 3, 640, 640)\n",
      "\n",
      "0: 384x640 1 car, 1 truck, 82.2ms\n"
     ]
    },
    {
     "name": "stdout",
     "output_type": "stream",
     "text": [
      "990 785 Danger! 19\n",
      "628 404 f2 5\n"
     ]
    },
    {
     "name": "stderr",
     "output_type": "stream",
     "text": [
      "Speed: 1.0ms pre-process, 82.2ms inference, 1.0ms postprocess per image at shape (1, 3, 640, 640)\n",
      "\n",
      "0: 384x640 1 car, 1 truck, 86.2ms\n",
      "Speed: 0.0ms pre-process, 86.2ms inference, 1.0ms postprocess per image at shape (1, 3, 640, 640)\n",
      "\n",
      "0: 384x640 1 car, 1 truck, 83.4ms\n"
     ]
    },
    {
     "name": "stdout",
     "output_type": "stream",
     "text": [
      "627 403 f2 5\n",
      "626 402 f2 5\n"
     ]
    },
    {
     "name": "stderr",
     "output_type": "stream",
     "text": [
      "Speed: 0.0ms pre-process, 83.4ms inference, 1.0ms postprocess per image at shape (1, 3, 640, 640)\n",
      "\n",
      "0: 384x640 1 car, 1 truck, 96.5ms\n",
      "Speed: 1.0ms pre-process, 96.5ms inference, 1.0ms postprocess per image at shape (1, 3, 640, 640)\n",
      "\n",
      "0: 384x640 1 car, 1 truck, 82.1ms\n",
      "Speed: 0.0ms pre-process, 82.1ms inference, 1.0ms postprocess per image at shape (1, 3, 640, 640)\n",
      "\n",
      "0: 384x640 1 car, 1 truck, 79.4ms\n"
     ]
    },
    {
     "name": "stdout",
     "output_type": "stream",
     "text": [
      "626 399 f2 5\n",
      "625 398 f2 5\n"
     ]
    },
    {
     "name": "stderr",
     "output_type": "stream",
     "text": [
      "Speed: 0.0ms pre-process, 79.4ms inference, 1.0ms postprocess per image at shape (1, 3, 640, 640)\n",
      "\n",
      "0: 384x640 1 car, 1 truck, 86.5ms\n",
      "Speed: 0.0ms pre-process, 86.5ms inference, 1.0ms postprocess per image at shape (1, 3, 640, 640)\n",
      "\n",
      "0: 384x640 1 car, 1 truck, 80.0ms\n"
     ]
    },
    {
     "name": "stdout",
     "output_type": "stream",
     "text": [
      "625 399 f2 5\n",
      "623 396 f2 5\n"
     ]
    },
    {
     "name": "stderr",
     "output_type": "stream",
     "text": [
      "Speed: 1.0ms pre-process, 80.0ms inference, 1.0ms postprocess per image at shape (1, 3, 640, 640)\n",
      "\n",
      "0: 384x640 1 car, 1 truck, 86.3ms\n",
      "Speed: 1.0ms pre-process, 86.3ms inference, 1.0ms postprocess per image at shape (1, 3, 640, 640)\n",
      "\n"
     ]
    },
    {
     "name": "stdout",
     "output_type": "stream",
     "text": [
      "622 395 f2 5\n",
      "619 390 f2 5\n"
     ]
    },
    {
     "name": "stderr",
     "output_type": "stream",
     "text": [
      "0: 384x640 1 car, 1 truck, 84.1ms\n",
      "Speed: 0.0ms pre-process, 84.1ms inference, 0.0ms postprocess per image at shape (1, 3, 640, 640)\n",
      "\n",
      "0: 384x640 1 car, 1 truck, 84.1ms\n",
      "Speed: 1.0ms pre-process, 84.1ms inference, 1.0ms postprocess per image at shape (1, 3, 640, 640)\n",
      "\n",
      "0: 384x640 1 car, 1 truck, 81.0ms\n"
     ]
    },
    {
     "name": "stdout",
     "output_type": "stream",
     "text": [
      "618 389 f2 5\n",
      "616 385 f2 5\n"
     ]
    },
    {
     "name": "stderr",
     "output_type": "stream",
     "text": [
      "Speed: 1.0ms pre-process, 81.0ms inference, 1.0ms postprocess per image at shape (1, 3, 640, 640)\n",
      "\n",
      "0: 384x640 1 car, 1 truck, 86.3ms\n",
      "Speed: 0.0ms pre-process, 86.3ms inference, 1.0ms postprocess per image at shape (1, 3, 640, 640)\n",
      "\n"
     ]
    },
    {
     "name": "stdout",
     "output_type": "stream",
     "text": [
      "616 384 f2 5\n",
      "615 385 f2 5\n"
     ]
    },
    {
     "name": "stderr",
     "output_type": "stream",
     "text": [
      "0: 384x640 1 car, 1 truck, 88.5ms\n",
      "Speed: 1.0ms pre-process, 88.5ms inference, 1.0ms postprocess per image at shape (1, 3, 640, 640)\n",
      "\n",
      "0: 384x640 1 car, 1 truck, 83.0ms\n",
      "Speed: 1.0ms pre-process, 83.0ms inference, 1.0ms postprocess per image at shape (1, 3, 640, 640)\n",
      "\n",
      "0: 384x640 1 car, 1 truck, 82.0ms\n",
      "Speed: 1.0ms pre-process, 82.0ms inference, 1.0ms postprocess per image at shape (1, 3, 640, 640)\n",
      "\n",
      "0: 384x640 1 car, 1 truck, 92.5ms\n"
     ]
    },
    {
     "name": "stdout",
     "output_type": "stream",
     "text": [
      "613 384 f2 5\n"
     ]
    },
    {
     "name": "stderr",
     "output_type": "stream",
     "text": [
      "Speed: 1.0ms pre-process, 92.5ms inference, 1.0ms postprocess per image at shape (1, 3, 640, 640)\n",
      "\n",
      "0: 384x640 1 car, 1 truck, 82.5ms\n",
      "Speed: 1.0ms pre-process, 82.5ms inference, 1.0ms postprocess per image at shape (1, 3, 640, 640)\n",
      "\n",
      "0: 384x640 1 car, 1 truck, 82.1ms\n"
     ]
    },
    {
     "name": "stdout",
     "output_type": "stream",
     "text": [
      "613 384 f2 5\n",
      "611 383 f2 5\n"
     ]
    },
    {
     "name": "stderr",
     "output_type": "stream",
     "text": [
      "Speed: 1.0ms pre-process, 82.1ms inference, 1.0ms postprocess per image at shape (1, 3, 640, 640)\n",
      "\n",
      "0: 384x640 1 car, 1 truck, 84.2ms\n",
      "Speed: 1.0ms pre-process, 84.2ms inference, 1.0ms postprocess per image at shape (1, 3, 640, 640)\n",
      "\n"
     ]
    },
    {
     "name": "stdout",
     "output_type": "stream",
     "text": [
      "607 380 f2 5\n",
      "605 379 f2 5\n"
     ]
    },
    {
     "name": "stderr",
     "output_type": "stream",
     "text": [
      "0: 384x640 3 cars, 1 truck, 83.6ms\n",
      "Speed: 1.0ms pre-process, 83.6ms inference, 1.1ms postprocess per image at shape (1, 3, 640, 640)\n",
      "\n",
      "0: 384x640 3 cars, 1 truck, 87.5ms\n",
      "Speed: 1.0ms pre-process, 87.5ms inference, 1.0ms postprocess per image at shape (1, 3, 640, 640)\n",
      "\n"
     ]
    },
    {
     "name": "stdout",
     "output_type": "stream",
     "text": [
      "606 378 f2 5\n",
      "606 377 f2 5\n"
     ]
    },
    {
     "name": "stderr",
     "output_type": "stream",
     "text": [
      "0: 384x640 3 cars, 1 truck, 96.5ms\n",
      "Speed: 0.0ms pre-process, 96.5ms inference, 1.0ms postprocess per image at shape (1, 3, 640, 640)\n",
      "\n",
      "0: 384x640 3 cars, 1 truck, 85.6ms\n",
      "Speed: 1.0ms pre-process, 85.6ms inference, 1.0ms postprocess per image at shape (1, 3, 640, 640)\n",
      "\n"
     ]
    },
    {
     "name": "stdout",
     "output_type": "stream",
     "text": [
      "604 374 f2 5\n",
      "990 787 Danger! 22\n",
      "944 1050 Danger! 21\n",
      "603 372 f2 5\n"
     ]
    },
    {
     "name": "stderr",
     "output_type": "stream",
     "text": [
      "0: 384x640 3 cars, 1 truck, 82.1ms\n",
      "Speed: 1.0ms pre-process, 82.1ms inference, 1.0ms postprocess per image at shape (1, 3, 640, 640)\n",
      "\n",
      "0: 384x640 3 cars, 1 truck, 85.3ms\n",
      "Speed: 1.0ms pre-process, 85.3ms inference, 1.0ms postprocess per image at shape (1, 3, 640, 640)\n",
      "\n",
      "0: 384x640 3 cars, 1 truck, 83.6ms\n"
     ]
    },
    {
     "name": "stdout",
     "output_type": "stream",
     "text": [
      "990 786 Danger! 22\n",
      "602 371 f2 5\n",
      "942 1047 Danger! 21\n",
      "603 371 f2 5\n"
     ]
    },
    {
     "name": "stderr",
     "output_type": "stream",
     "text": [
      "Speed: 0.0ms pre-process, 83.6ms inference, 1.0ms postprocess per image at shape (1, 3, 640, 640)\n",
      "\n",
      "0: 384x640 3 cars, 1 truck, 82.5ms\n",
      "Speed: 1.0ms pre-process, 82.5ms inference, 1.0ms postprocess per image at shape (1, 3, 640, 640)\n",
      "\n",
      "0: 384x640 3 cars, 1 bus, 1 truck, 83.3ms\n"
     ]
    },
    {
     "name": "stdout",
     "output_type": "stream",
     "text": [
      "990 787 Danger! 22\n",
      "940 1045 Danger! 21\n",
      "603 370 f2 5\n",
      "939 1044 Danger! 21\n"
     ]
    },
    {
     "name": "stderr",
     "output_type": "stream",
     "text": [
      "Speed: 1.0ms pre-process, 83.3ms inference, 2.0ms postprocess per image at shape (1, 3, 640, 640)\n",
      "\n",
      "0: 384x640 3 cars, 1 bus, 1 truck, 84.6ms\n",
      "Speed: 0.0ms pre-process, 84.6ms inference, 1.0ms postprocess per image at shape (1, 3, 640, 640)\n",
      "\n",
      "0: 384x640 3 cars, 1 bus, 1 truck, 85.5ms\n"
     ]
    },
    {
     "name": "stdout",
     "output_type": "stream",
     "text": [
      "989 788 Danger! 22\n",
      "937 1040 Danger! 21\n",
      "600 364 f2 5\n",
      "936 1039 Danger! 21\n",
      "599 361 f2 5\n"
     ]
    },
    {
     "name": "stderr",
     "output_type": "stream",
     "text": [
      "Speed: 1.0ms pre-process, 85.5ms inference, 1.0ms postprocess per image at shape (1, 3, 640, 640)\n",
      "\n",
      "0: 384x640 3 cars, 1 truck, 94.5ms\n",
      "Speed: 0.0ms pre-process, 94.5ms inference, 1.0ms postprocess per image at shape (1, 3, 640, 640)\n",
      "\n"
     ]
    },
    {
     "name": "stdout",
     "output_type": "stream",
     "text": [
      "989 788 Danger! 22\n",
      "598 361 f2 5\n",
      "933 1037 Danger! 21\n",
      "597 358 f2 5\n"
     ]
    },
    {
     "name": "stderr",
     "output_type": "stream",
     "text": [
      "0: 384x640 3 cars, 1 truck, 80.5ms\n",
      "Speed: 1.0ms pre-process, 80.5ms inference, 2.0ms postprocess per image at shape (1, 3, 640, 640)\n",
      "\n",
      "0: 384x640 3 cars, 1 truck, 87.5ms\n",
      "Speed: 0.0ms pre-process, 87.5ms inference, 1.0ms postprocess per image at shape (1, 3, 640, 640)\n",
      "\n"
     ]
    },
    {
     "name": "stdout",
     "output_type": "stream",
     "text": [
      "989 788 Danger! 22\n",
      "931 1036 Danger! 21\n",
      "596 357 f2 5\n",
      "927 1032 Danger! 21\n",
      "597 355 f2 5\n"
     ]
    },
    {
     "name": "stderr",
     "output_type": "stream",
     "text": [
      "0: 384x640 3 cars, 1 truck, 81.0ms\n",
      "Speed: 1.0ms pre-process, 81.0ms inference, 1.0ms postprocess per image at shape (1, 3, 640, 640)\n",
      "\n",
      "0: 384x640 3 cars, 1 truck, 82.0ms\n",
      "Speed: 1.0ms pre-process, 82.0ms inference, 1.0ms postprocess per image at shape (1, 3, 640, 640)\n",
      "\n",
      "0: 384x640 3 cars, 2 trucks, 83.0ms\n"
     ]
    },
    {
     "name": "stdout",
     "output_type": "stream",
     "text": [
      "989 788 Danger! 22\n",
      "923 1026 Danger! 21\n",
      "596 356 f2 5\n",
      "921 1024 Danger! 21\n",
      "596 357 f2 5\n"
     ]
    },
    {
     "name": "stderr",
     "output_type": "stream",
     "text": [
      "Speed: 0.0ms pre-process, 83.0ms inference, 1.0ms postprocess per image at shape (1, 3, 640, 640)\n",
      "\n",
      "0: 384x640 3 cars, 2 trucks, 83.0ms\n",
      "Speed: 0.0ms pre-process, 83.0ms inference, 1.0ms postprocess per image at shape (1, 3, 640, 640)\n",
      "\n"
     ]
    },
    {
     "name": "stdout",
     "output_type": "stream",
     "text": [
      "989 788 Danger! 22\n",
      "919 1023 f1 21\n",
      "593 355 f2 5\n",
      "918 1022 f1 21\n",
      "592 355 f2 5\n"
     ]
    },
    {
     "name": "stderr",
     "output_type": "stream",
     "text": [
      "0: 384x640 3 cars, 2 trucks, 81.0ms\n",
      "Speed: 1.0ms pre-process, 81.0ms inference, 2.0ms postprocess per image at shape (1, 3, 640, 640)\n",
      "\n",
      "0: 384x640 3 cars, 2 trucks, 83.0ms\n",
      "Speed: 1.0ms pre-process, 83.0ms inference, 1.0ms postprocess per image at shape (1, 3, 640, 640)\n",
      "\n"
     ]
    },
    {
     "name": "stdout",
     "output_type": "stream",
     "text": [
      "989 788 Danger! 22\n",
      "988 788 Danger! 22\n",
      "918 1022 f1 21\n",
      "592 355 f2 5\n"
     ]
    },
    {
     "name": "stderr",
     "output_type": "stream",
     "text": [
      "0: 384x640 2 cars, 1 bus, 2 trucks, 83.3ms\n",
      "Speed: 1.0ms pre-process, 83.3ms inference, 2.0ms postprocess per image at shape (1, 3, 640, 640)\n",
      "\n",
      "0: 384x640 2 cars, 1 bus, 2 trucks, 88.5ms\n",
      "Speed: 1.0ms pre-process, 88.5ms inference, 1.0ms postprocess per image at shape (1, 3, 640, 640)\n",
      "\n"
     ]
    },
    {
     "name": "stdout",
     "output_type": "stream",
     "text": [
      "921 1017 Danger! 21\n",
      "591 355 f2 5\n",
      "923 1015 Danger! 21\n",
      "590 355 f2 5\n"
     ]
    },
    {
     "name": "stderr",
     "output_type": "stream",
     "text": [
      "0: 384x640 2 cars, 1 bus, 2 trucks, 81.7ms\n",
      "Speed: 1.0ms pre-process, 81.7ms inference, 1.5ms postprocess per image at shape (1, 3, 640, 640)\n",
      "\n",
      "0: 384x640 2 cars, 1 bus, 2 trucks, 81.7ms\n",
      "Speed: 0.0ms pre-process, 81.7ms inference, 1.0ms postprocess per image at shape (1, 3, 640, 640)\n",
      "\n",
      "0: 384x640 2 cars, 2 trucks, 84.0ms\n"
     ]
    },
    {
     "name": "stdout",
     "output_type": "stream",
     "text": [
      "916 1011 Danger! 21\n",
      "589 354 f2 5\n",
      "913 1010 Danger! 21\n",
      "589 353 f2 5\n"
     ]
    },
    {
     "name": "stderr",
     "output_type": "stream",
     "text": [
      "Speed: 1.0ms pre-process, 84.0ms inference, 0.0ms postprocess per image at shape (1, 3, 640, 640)\n",
      "\n",
      "0: 384x640 2 cars, 2 trucks, 83.9ms\n",
      "Speed: 1.0ms pre-process, 83.9ms inference, 1.0ms postprocess per image at shape (1, 3, 640, 640)\n",
      "\n"
     ]
    },
    {
     "name": "stdout",
     "output_type": "stream",
     "text": [
      "914 1005 Danger! 21\n",
      "588 352 f2 5\n",
      "914 1003 Danger! 21\n"
     ]
    },
    {
     "name": "stderr",
     "output_type": "stream",
     "text": [
      "0: 384x640 2 cars, 1 truck, 80.0ms\n",
      "Speed: 1.0ms pre-process, 80.0ms inference, 1.0ms postprocess per image at shape (1, 3, 640, 640)\n",
      "\n",
      "0: 384x640 2 cars, 1 truck, 85.0ms\n",
      "Speed: 1.0ms pre-process, 85.0ms inference, 1.0ms postprocess per image at shape (1, 3, 640, 640)\n",
      "\n",
      "0: 384x640 2 cars, 1 truck, 81.0ms\n"
     ]
    },
    {
     "name": "stdout",
     "output_type": "stream",
     "text": [
      "900 993 f1 21\n",
      "588 349 f2 5\n",
      "897 989 f1 21\n",
      "587 347 f2 5\n"
     ]
    },
    {
     "name": "stderr",
     "output_type": "stream",
     "text": [
      "Speed: 0.0ms pre-process, 81.0ms inference, 1.0ms postprocess per image at shape (1, 3, 640, 640)\n",
      "\n",
      "0: 384x640 2 cars, 1 truck, 98.3ms\n",
      "Speed: 0.0ms pre-process, 98.3ms inference, 1.0ms postprocess per image at shape (1, 3, 640, 640)\n",
      "\n"
     ]
    },
    {
     "name": "stdout",
     "output_type": "stream",
     "text": [
      "891 984 f1 21\n",
      "888 982 f1 21\n",
      "587 347 f2 5\n"
     ]
    },
    {
     "name": "stderr",
     "output_type": "stream",
     "text": [
      "0: 384x640 2 cars, 1 truck, 81.6ms\n",
      "Speed: 1.0ms pre-process, 81.6ms inference, 1.0ms postprocess per image at shape (1, 3, 640, 640)\n",
      "\n",
      "0: 384x640 2 cars, 1 truck, 82.1ms\n",
      "Speed: 1.0ms pre-process, 82.1ms inference, 1.0ms postprocess per image at shape (1, 3, 640, 640)\n",
      "\n"
     ]
    },
    {
     "name": "stdout",
     "output_type": "stream",
     "text": [
      "882 977 f1 21\n",
      "586 344 f2 5\n",
      "880 975 f1 21\n",
      "585 343 f2 5\n"
     ]
    },
    {
     "name": "stderr",
     "output_type": "stream",
     "text": [
      "0: 384x640 2 cars, 1 truck, 86.4ms\n",
      "Speed: 0.0ms pre-process, 86.4ms inference, 2.0ms postprocess per image at shape (1, 3, 640, 640)\n",
      "\n",
      "0: 384x640 2 cars, 1 truck, 85.5ms\n",
      "Speed: 0.0ms pre-process, 85.5ms inference, 2.0ms postprocess per image at shape (1, 3, 640, 640)\n",
      "\n",
      "0: 384x640 2 cars, 1 truck, 83.3ms\n"
     ]
    },
    {
     "name": "stdout",
     "output_type": "stream",
     "text": [
      "886 969 f1 21\n",
      "583 337 f2 5\n",
      "889 967 Danger! 21\n",
      "581 335 f2 5\n"
     ]
    },
    {
     "name": "stderr",
     "output_type": "stream",
     "text": [
      "Speed: 1.0ms pre-process, 83.3ms inference, 1.0ms postprocess per image at shape (1, 3, 640, 640)\n",
      "\n",
      "0: 384x640 3 cars, 1 truck, 85.9ms\n",
      "Speed: 0.0ms pre-process, 85.9ms inference, 1.0ms postprocess per image at shape (1, 3, 640, 640)\n",
      "\n"
     ]
    },
    {
     "name": "stdout",
     "output_type": "stream",
     "text": [
      "890 966 Danger! 21\n",
      "581 334 f2 5\n",
      "890 961 Danger! 21\n",
      "580 333 f2 5\n"
     ]
    },
    {
     "name": "stderr",
     "output_type": "stream",
     "text": [
      "0: 384x640 2 cars, 1 truck, 79.5ms\n",
      "Speed: 1.0ms pre-process, 79.5ms inference, 1.0ms postprocess per image at shape (1, 3, 640, 640)\n",
      "\n",
      "0: 384x640 2 cars, 1 truck, 82.3ms\n",
      "Speed: 1.0ms pre-process, 82.3ms inference, 1.2ms postprocess per image at shape (1, 3, 640, 640)\n",
      "\n",
      "0: 384x640 2 cars, 1 truck, 95.3ms\n"
     ]
    },
    {
     "name": "stdout",
     "output_type": "stream",
     "text": [
      "886 953 Danger! 21\n",
      "580 332 f2 5\n",
      "886 951 Danger! 21\n",
      "580 331 f2 5\n"
     ]
    },
    {
     "name": "stderr",
     "output_type": "stream",
     "text": [
      "Speed: 0.0ms pre-process, 95.3ms inference, 1.0ms postprocess per image at shape (1, 3, 640, 640)\n",
      "\n",
      "0: 384x640 2 cars, 1 truck, 81.1ms\n",
      "Speed: 1.0ms pre-process, 81.1ms inference, 1.0ms postprocess per image at shape (1, 3, 640, 640)\n",
      "\n",
      "0: 384x640 2 cars, 1 truck, 81.2ms\n"
     ]
    },
    {
     "name": "stdout",
     "output_type": "stream",
     "text": [
      "870 946 f1 21\n",
      "577 330 f2 5\n",
      "864 944 f1 21\n",
      "576 330 f2 5\n"
     ]
    },
    {
     "name": "stderr",
     "output_type": "stream",
     "text": [
      "Speed: 0.0ms pre-process, 81.2ms inference, 2.0ms postprocess per image at shape (1, 3, 640, 640)\n",
      "\n",
      "0: 384x640 2 cars, 1 truck, 84.5ms\n",
      "Speed: 1.0ms pre-process, 84.5ms inference, 1.0ms postprocess per image at shape (1, 3, 640, 640)\n",
      "\n"
     ]
    },
    {
     "name": "stdout",
     "output_type": "stream",
     "text": [
      "862 943 f1 21\n",
      "861 943 f1 21\n",
      "576 330 f2 5\n"
     ]
    },
    {
     "name": "stderr",
     "output_type": "stream",
     "text": [
      "0: 384x640 1 car, 1 truck, 85.2ms\n",
      "Speed: 1.0ms pre-process, 85.2ms inference, 0.0ms postprocess per image at shape (1, 3, 640, 640)\n",
      "\n",
      "0: 384x640 1 car, 1 truck, 85.1ms\n",
      "Speed: 1.0ms pre-process, 85.1ms inference, 2.0ms postprocess per image at shape (1, 3, 640, 640)\n",
      "\n"
     ]
    },
    {
     "name": "stdout",
     "output_type": "stream",
     "text": [
      "857 936 f1 21\n",
      "854 929 f1 21\n"
     ]
    },
    {
     "name": "stderr",
     "output_type": "stream",
     "text": [
      "0: 384x640 2 cars, 1 truck, 85.4ms\n",
      "Speed: 1.0ms pre-process, 85.4ms inference, 1.0ms postprocess per image at shape (1, 3, 640, 640)\n",
      "\n",
      "0: 384x640 2 cars, 1 truck, 90.1ms\n",
      "Speed: 1.0ms pre-process, 90.1ms inference, 1.0ms postprocess per image at shape (1, 3, 640, 640)\n",
      "\n"
     ]
    },
    {
     "name": "stdout",
     "output_type": "stream",
     "text": [
      "860 923 f1 21\n",
      "862 921 f1 21\n"
     ]
    },
    {
     "name": "stderr",
     "output_type": "stream",
     "text": [
      "0: 384x640 1 car, 2 trucks, 83.0ms\n",
      "Speed: 1.0ms pre-process, 83.0ms inference, 2.0ms postprocess per image at shape (1, 3, 640, 640)\n",
      "\n",
      "0: 384x640 1 car, 2 trucks, 96.7ms\n",
      "Speed: 1.0ms pre-process, 96.7ms inference, 1.0ms postprocess per image at shape (1, 3, 640, 640)\n",
      "\n"
     ]
    },
    {
     "name": "stdout",
     "output_type": "stream",
     "text": [
      "860 913 Danger! 21\n",
      "859 911 Danger! 21\n"
     ]
    },
    {
     "name": "stderr",
     "output_type": "stream",
     "text": [
      "0: 384x640 1 car, 1 truck, 79.5ms\n",
      "Speed: 1.0ms pre-process, 79.5ms inference, 1.0ms postprocess per image at shape (1, 3, 640, 640)\n",
      "\n",
      "0: 384x640 1 car, 1 truck, 83.7ms\n",
      "Speed: 0.0ms pre-process, 83.7ms inference, 1.0ms postprocess per image at shape (1, 3, 640, 640)\n",
      "\n"
     ]
    },
    {
     "name": "stdout",
     "output_type": "stream",
     "text": [
      "844 905 f1 21\n",
      "838 903 f1 21\n"
     ]
    },
    {
     "name": "stderr",
     "output_type": "stream",
     "text": [
      "0: 384x640 1 car, 1 truck, 83.8ms\n",
      "Speed: 1.0ms pre-process, 83.8ms inference, 1.3ms postprocess per image at shape (1, 3, 640, 640)\n",
      "\n",
      "0: 384x640 1 car, 1 truck, 84.4ms\n",
      "Speed: 1.0ms pre-process, 84.4ms inference, 1.0ms postprocess per image at shape (1, 3, 640, 640)\n",
      "\n",
      "0: 384x640 1 car, 1 truck, 81.7ms\n"
     ]
    },
    {
     "name": "stdout",
     "output_type": "stream",
     "text": [
      "836 903 f1 21\n",
      "835 899 f1 21\n"
     ]
    },
    {
     "name": "stderr",
     "output_type": "stream",
     "text": [
      "Speed: 1.0ms pre-process, 81.7ms inference, 1.0ms postprocess per image at shape (1, 3, 640, 640)\n",
      "\n",
      "0: 384x640 1 car, 1 truck, 84.2ms\n",
      "Speed: 1.0ms pre-process, 84.2ms inference, 1.0ms postprocess per image at shape (1, 3, 640, 640)\n",
      "\n",
      "0: 384x640 1 car, 1 truck, 83.3ms\n"
     ]
    },
    {
     "name": "stdout",
     "output_type": "stream",
     "text": [
      "840 894 f1 21\n",
      "843 892 f1 21\n"
     ]
    },
    {
     "name": "stderr",
     "output_type": "stream",
     "text": [
      "Speed: 1.0ms pre-process, 83.3ms inference, 1.0ms postprocess per image at shape (1, 3, 640, 640)\n",
      "\n",
      "0: 384x640 1 car, 1 truck, 82.7ms\n",
      "Speed: 0.0ms pre-process, 82.7ms inference, 1.0ms postprocess per image at shape (1, 3, 640, 640)\n",
      "\n",
      "0: 384x640 1 car, 1 truck, 83.5ms\n"
     ]
    },
    {
     "name": "stdout",
     "output_type": "stream",
     "text": [
      "834 887 f1 21\n",
      "831 885 f1 21\n"
     ]
    },
    {
     "name": "stderr",
     "output_type": "stream",
     "text": [
      "Speed: 1.0ms pre-process, 83.5ms inference, 1.0ms postprocess per image at shape (1, 3, 640, 640)\n",
      "\n",
      "0: 384x640 2 cars, 1 truck, 88.0ms\n",
      "Speed: 1.0ms pre-process, 88.0ms inference, 1.0ms postprocess per image at shape (1, 3, 640, 640)\n",
      "\n"
     ]
    },
    {
     "name": "stdout",
     "output_type": "stream",
     "text": [
      "829 884 f1 21\n",
      "831 877 f1 21\n"
     ]
    },
    {
     "name": "stderr",
     "output_type": "stream",
     "text": [
      "0: 384x640 2 cars, 1 truck, 85.1ms\n",
      "Speed: 1.0ms pre-process, 85.1ms inference, 1.0ms postprocess per image at shape (1, 3, 640, 640)\n",
      "\n",
      "0: 384x640 2 cars, 1 truck, 85.2ms\n",
      "Speed: 1.0ms pre-process, 85.2ms inference, 1.0ms postprocess per image at shape (1, 3, 640, 640)\n",
      "\n",
      "0: 384x640 3 cars, 2 trucks, 85.5ms\n"
     ]
    },
    {
     "name": "stdout",
     "output_type": "stream",
     "text": [
      "823 870 f1 21\n",
      "820 868 f1 21\n"
     ]
    },
    {
     "name": "stderr",
     "output_type": "stream",
     "text": [
      "Speed: 0.0ms pre-process, 85.5ms inference, 2.0ms postprocess per image at shape (1, 3, 640, 640)\n",
      "\n",
      "0: 384x640 3 cars, 2 trucks, 83.2ms\n",
      "Speed: 1.0ms pre-process, 83.2ms inference, 1.0ms postprocess per image at shape (1, 3, 640, 640)\n",
      "\n",
      "0: 384x640 3 cars, 2 trucks, 83.3ms\n"
     ]
    },
    {
     "name": "stdout",
     "output_type": "stream",
     "text": [
      "990 787 Danger! 25\n",
      "814 864 f1 21\n",
      "811 863 f1 21\n"
     ]
    },
    {
     "name": "stderr",
     "output_type": "stream",
     "text": [
      "Speed: 1.0ms pre-process, 83.3ms inference, 1.0ms postprocess per image at shape (1, 3, 640, 640)\n",
      "\n",
      "0: 384x640 3 cars, 1 truck, 83.1ms\n",
      "Speed: 0.0ms pre-process, 83.1ms inference, 1.0ms postprocess per image at shape (1, 3, 640, 640)\n",
      "\n",
      "0: 384x640 2 cars, 1 truck, 83.0ms\n"
     ]
    },
    {
     "name": "stdout",
     "output_type": "stream",
     "text": [
      "990 787 Danger! 25\n",
      "810 863 f1 21\n",
      "924 1057 f1 26\n",
      "989 788 Danger! 25\n",
      "810 859 f1 21\n"
     ]
    },
    {
     "name": "stderr",
     "output_type": "stream",
     "text": [
      "Speed: 1.0ms pre-process, 83.0ms inference, 1.0ms postprocess per image at shape (1, 3, 640, 640)\n",
      "\n",
      "0: 384x640 3 cars, 1 truck, 94.2ms\n",
      "Speed: 1.0ms pre-process, 94.2ms inference, 1.0ms postprocess per image at shape (1, 3, 640, 640)\n",
      "\n"
     ]
    },
    {
     "name": "stdout",
     "output_type": "stream",
     "text": [
      "921 1052 f1 26\n",
      "806 852 f1 21\n",
      "920 1051 f1 26\n",
      "805 849 f1 21\n"
     ]
    },
    {
     "name": "stderr",
     "output_type": "stream",
     "text": [
      "0: 384x640 3 cars, 1 truck, 83.2ms\n",
      "Speed: 1.0ms pre-process, 83.2ms inference, 1.0ms postprocess per image at shape (1, 3, 640, 640)\n",
      "\n",
      "0: 384x640 3 cars, 1 truck, 85.1ms\n",
      "Speed: 1.0ms pre-process, 85.1ms inference, 1.0ms postprocess per image at shape (1, 3, 640, 640)\n",
      "\n"
     ]
    },
    {
     "name": "stdout",
     "output_type": "stream",
     "text": [
      "919 1051 f1 26\n",
      "804 848 f1 21\n",
      "918 1048 f1 26\n",
      "989 788 Danger! 25\n",
      "803 844 f1 21\n"
     ]
    },
    {
     "name": "stderr",
     "output_type": "stream",
     "text": [
      "0: 384x640 3 cars, 1 truck, 83.4ms\n",
      "Speed: 2.0ms pre-process, 83.4ms inference, 1.0ms postprocess per image at shape (1, 3, 640, 640)\n",
      "\n",
      "0: 384x640 3 cars, 1 truck, 91.5ms\n",
      "Speed: 1.0ms pre-process, 91.5ms inference, 1.0ms postprocess per image at shape (1, 3, 640, 640)\n",
      "\n",
      "0: 384x640 3 cars, 1 truck, 83.0ms\n"
     ]
    },
    {
     "name": "stdout",
     "output_type": "stream",
     "text": [
      "915 1043 f1 26\n",
      "799 838 f1 21\n",
      "914 1042 f1 26\n",
      "989 788 Danger! 25\n",
      "798 835 f1 21\n"
     ]
    },
    {
     "name": "stderr",
     "output_type": "stream",
     "text": [
      "Speed: 0.0ms pre-process, 83.0ms inference, 1.0ms postprocess per image at shape (1, 3, 640, 640)\n",
      "\n",
      "0: 384x640 3 cars, 1 truck, 83.9ms\n",
      "Speed: 1.0ms pre-process, 83.9ms inference, 1.0ms postprocess per image at shape (1, 3, 640, 640)\n",
      "\n"
     ]
    },
    {
     "name": "stdout",
     "output_type": "stream",
     "text": [
      "914 1041 f1 26\n",
      "797 834 f1 21\n",
      "911 1039 f1 26\n",
      "989 788 Danger! 25\n",
      "792 830 f1 21\n"
     ]
    },
    {
     "name": "stderr",
     "output_type": "stream",
     "text": [
      "0: 384x640 3 cars, 1 truck, 83.0ms\n",
      "Speed: 1.0ms pre-process, 83.0ms inference, 2.0ms postprocess per image at shape (1, 3, 640, 640)\n",
      "\n",
      "0: 384x640 3 cars, 1 truck, 96.5ms\n",
      "Speed: 1.0ms pre-process, 96.5ms inference, 2.0ms postprocess per image at shape (1, 3, 640, 640)\n",
      "\n"
     ]
    },
    {
     "name": "stdout",
     "output_type": "stream",
     "text": [
      "911 1038 f1 26\n",
      "791 828 f1 21\n",
      "907 1034 f1 26\n",
      "989 788 Danger! 25\n",
      "791 823 f1 21\n"
     ]
    },
    {
     "name": "stderr",
     "output_type": "stream",
     "text": [
      "0: 384x640 3 cars, 1 truck, 82.0ms\n",
      "Speed: 1.0ms pre-process, 82.0ms inference, 1.0ms postprocess per image at shape (1, 3, 640, 640)\n",
      "\n",
      "0: 384x640 2 cars, 1 truck, 86.1ms\n",
      "Speed: 0.0ms pre-process, 86.1ms inference, 2.0ms postprocess per image at shape (1, 3, 640, 640)\n",
      "\n",
      "0: 384x640 2 cars, 1 truck, 81.5ms\n"
     ]
    },
    {
     "name": "stdout",
     "output_type": "stream",
     "text": [
      "906 1033 f1 26\n",
      "791 822 f1 21\n",
      "898 1029 f1 26\n",
      "795 818 f1 21\n"
     ]
    },
    {
     "name": "stderr",
     "output_type": "stream",
     "text": [
      "Speed: 1.0ms pre-process, 81.5ms inference, 2.0ms postprocess per image at shape (1, 3, 640, 640)\n",
      "\n",
      "0: 384x640 2 cars, 1 truck, 81.7ms\n",
      "Speed: 1.0ms pre-process, 81.7ms inference, 1.0ms postprocess per image at shape (1, 3, 640, 640)\n",
      "\n",
      "0: 384x640 2 cars, 1 truck, 83.5ms\n"
     ]
    },
    {
     "name": "stdout",
     "output_type": "stream",
     "text": [
      "897 1025 f1 26\n",
      "796 815 f1 21\n",
      "897 1023 f1 26\n",
      "797 813 f1 21\n"
     ]
    },
    {
     "name": "stderr",
     "output_type": "stream",
     "text": [
      "Speed: 1.0ms pre-process, 83.5ms inference, 1.0ms postprocess per image at shape (1, 3, 640, 640)\n",
      "\n",
      "0: 384x640 2 cars, 1 truck, 84.5ms\n",
      "Speed: 1.0ms pre-process, 84.5ms inference, 1.0ms postprocess per image at shape (1, 3, 640, 640)\n",
      "\n",
      "0: 384x640 3 cars, 1 truck, 84.1ms\n",
      "Speed: 0.0ms pre-process, 84.1ms inference, 1.0ms postprocess per image at shape (1, 3, 640, 640)\n",
      "\n",
      "0: 384x640 4 cars, 1 truck, 80.8ms\n"
     ]
    },
    {
     "name": "stdout",
     "output_type": "stream",
     "text": [
      "897 1022 f1 26\n",
      "797 813 f1 21\n",
      "885 1017 f1 26\n",
      "787 803 f1 21\n"
     ]
    },
    {
     "name": "stderr",
     "output_type": "stream",
     "text": [
      "Speed: 1.0ms pre-process, 80.8ms inference, 1.0ms postprocess per image at shape (1, 3, 640, 640)\n",
      "\n",
      "0: 384x640 5 cars, 1 truck, 97.1ms\n",
      "Speed: 0.0ms pre-process, 97.1ms inference, 1.0ms postprocess per image at shape (1, 3, 640, 640)\n",
      "\n"
     ]
    },
    {
     "name": "stdout",
     "output_type": "stream",
     "text": [
      "880 1015 f1 26\n",
      "783 799 f1 21\n",
      "875 1011 f1 26\n",
      "783 795 f1 21\n"
     ]
    },
    {
     "name": "stderr",
     "output_type": "stream",
     "text": [
      "0: 384x640 5 cars, 1 truck, 82.0ms\n",
      "Speed: 0.0ms pre-process, 82.0ms inference, 1.0ms postprocess per image at shape (1, 3, 640, 640)\n",
      "\n",
      "0: 384x640 3 cars, 1 truck, 88.1ms\n",
      "Speed: 1.0ms pre-process, 88.1ms inference, 1.0ms postprocess per image at shape (1, 3, 640, 640)\n",
      "\n",
      "0: 384x640 3 cars, 1 truck, 83.0ms\n"
     ]
    },
    {
     "name": "stdout",
     "output_type": "stream",
     "text": [
      "542 282 f2 27\n",
      "873 1010 f1 26\n",
      "991 789 Danger! 25\n",
      "783 793 f1 21\n",
      "543 281 f2 27\n",
      "868 1006 f1 26\n",
      "774 789 f1 21\n"
     ]
    },
    {
     "name": "stderr",
     "output_type": "stream",
     "text": [
      "Speed: 1.0ms pre-process, 83.0ms inference, 1.0ms postprocess per image at shape (1, 3, 640, 640)\n",
      "\n",
      "0: 384x640 3 cars, 1 truck, 84.2ms\n",
      "Speed: 0.0ms pre-process, 84.2ms inference, 1.0ms postprocess per image at shape (1, 3, 640, 640)\n",
      "\n",
      "0: 384x640 4 cars, 1 truck, 85.1ms\n"
     ]
    },
    {
     "name": "stdout",
     "output_type": "stream",
     "text": [
      "543 280 f2 27\n",
      "866 1005 f1 26\n",
      "772 788 f1 21\n",
      "866 1004 f1 26\n",
      "770 787 f1 21\n"
     ]
    },
    {
     "name": "stderr",
     "output_type": "stream",
     "text": [
      "Speed: 1.0ms pre-process, 85.1ms inference, 0.0ms postprocess per image at shape (1, 3, 640, 640)\n",
      "\n",
      "0: 384x640 4 cars, 1 truck, 86.1ms\n",
      "Speed: 1.0ms pre-process, 86.1ms inference, 1.0ms postprocess per image at shape (1, 3, 640, 640)\n",
      "\n",
      "0: 384x640 3 cars, 1 truck, 82.2ms\n"
     ]
    },
    {
     "name": "stdout",
     "output_type": "stream",
     "text": [
      "543 281 f2 27\n",
      "861 1002 f1 26\n",
      "765 784 f1 21\n",
      "859 1001 f1 26\n",
      "763 783 f1 21\n"
     ]
    },
    {
     "name": "stderr",
     "output_type": "stream",
     "text": [
      "Speed: 1.0ms pre-process, 82.2ms inference, 1.0ms postprocess per image at shape (1, 3, 640, 640)\n",
      "\n",
      "0: 384x640 3 cars, 1 truck, 94.5ms\n",
      "Speed: 1.0ms pre-process, 94.5ms inference, 1.0ms postprocess per image at shape (1, 3, 640, 640)\n",
      "\n"
     ]
    },
    {
     "name": "stdout",
     "output_type": "stream",
     "text": [
      "541 278 f2 27\n",
      "857 997 f1 26\n",
      "760 777 f1 21\n",
      "539 272 f2 27\n",
      "852 988 f1 26\n",
      "756 773 f1 21\n"
     ]
    },
    {
     "name": "stderr",
     "output_type": "stream",
     "text": [
      "0: 384x640 3 cars, 1 truck, 83.5ms\n",
      "Speed: 0.0ms pre-process, 83.5ms inference, 1.0ms postprocess per image at shape (1, 3, 640, 640)\n",
      "\n",
      "0: 384x640 5 cars, 1 truck, 85.1ms\n",
      "Speed: 1.0ms pre-process, 85.1ms inference, 1.0ms postprocess per image at shape (1, 3, 640, 640)\n",
      "\n",
      "0: 384x640 5 cars, 1 truck, 80.3ms\n"
     ]
    },
    {
     "name": "stdout",
     "output_type": "stream",
     "text": [
      "539 270 f2 27\n",
      "851 985 f1 26\n",
      "754 772 f1 21\n",
      "537 270 f2 27\n",
      "845 978 f1 26\n",
      "750 766 f1 21\n"
     ]
    },
    {
     "name": "stderr",
     "output_type": "stream",
     "text": [
      "Speed: 0.0ms pre-process, 80.3ms inference, 1.0ms postprocess per image at shape (1, 3, 640, 640)\n",
      "\n",
      "0: 384x640 5 cars, 1 truck, 84.5ms\n",
      "Speed: 0.0ms pre-process, 84.5ms inference, 1.0ms postprocess per image at shape (1, 3, 640, 640)\n",
      "\n",
      "0: 384x640 4 cars, 1 truck, 82.5ms\n"
     ]
    },
    {
     "name": "stdout",
     "output_type": "stream",
     "text": [
      "536 270 f2 27\n",
      "844 976 f1 26\n",
      "749 764 f1 21\n",
      "722 272 Danger! 28\n",
      "843 975 f1 26\n",
      "992 790 Danger! 25\n",
      "748 763 f1 21\n"
     ]
    },
    {
     "name": "stderr",
     "output_type": "stream",
     "text": [
      "Speed: 1.0ms pre-process, 82.5ms inference, 1.0ms postprocess per image at shape (1, 3, 640, 640)\n",
      "\n",
      "0: 384x640 4 cars, 1 truck, 85.1ms\n",
      "Speed: 1.0ms pre-process, 85.1ms inference, 1.0ms postprocess per image at shape (1, 3, 640, 640)\n",
      "\n"
     ]
    },
    {
     "name": "stdout",
     "output_type": "stream",
     "text": [
      "719 269 Danger! 28\n",
      "532 268 f2 27\n",
      "837 972 f1 26\n",
      "747 758 f1 21\n",
      "719 268 Danger! 28\n",
      "527 267 f2 27\n",
      "832 966 f1 26\n",
      "745 753 f1 21\n"
     ]
    },
    {
     "name": "stderr",
     "output_type": "stream",
     "text": [
      "0: 384x640 4 cars, 1 truck, 83.1ms\n",
      "Speed: 1.0ms pre-process, 83.1ms inference, 1.0ms postprocess per image at shape (1, 3, 640, 640)\n",
      "\n",
      "0: 384x640 4 cars, 1 truck, 85.0ms\n",
      "Speed: 1.0ms pre-process, 85.0ms inference, 2.0ms postprocess per image at shape (1, 3, 640, 640)\n",
      "\n"
     ]
    },
    {
     "name": "stdout",
     "output_type": "stream",
     "text": [
      "526 267 f2 27\n",
      "831 964 f1 26\n",
      "744 751 f1 21\n",
      "525 266 f2 27\n",
      "828 961 f1 26\n",
      "741 748 f1 21\n"
     ]
    },
    {
     "name": "stderr",
     "output_type": "stream",
     "text": [
      "0: 384x640 4 cars, 1 truck, 85.4ms\n",
      "Speed: 1.0ms pre-process, 85.4ms inference, 1.0ms postprocess per image at shape (1, 3, 640, 640)\n",
      "\n",
      "0: 384x640 4 cars, 1 truck, 88.2ms\n",
      "Speed: 0.0ms pre-process, 88.2ms inference, 2.0ms postprocess per image at shape (1, 3, 640, 640)\n",
      "\n"
     ]
    },
    {
     "name": "stdout",
     "output_type": "stream",
     "text": [
      "827 959 f1 26\n",
      "740 747 f1 21\n",
      "525 266 f2 27\n",
      "739 746 f1 21\n"
     ]
    },
    {
     "name": "stderr",
     "output_type": "stream",
     "text": [
      "0: 384x640 4 cars, 86.3ms\n",
      "Speed: 0.0ms pre-process, 86.3ms inference, 1.0ms postprocess per image at shape (1, 3, 640, 640)\n",
      "\n",
      "0: 384x640 4 cars, 84.0ms\n",
      "Speed: 1.0ms pre-process, 84.0ms inference, 1.0ms postprocess per image at shape (1, 3, 640, 640)\n",
      "\n",
      "0: 384x640 6 cars, 84.0ms\n"
     ]
    },
    {
     "name": "stdout",
     "output_type": "stream",
     "text": [
      "753 353 Danger! 29\n",
      "525 264 f2 27\n",
      "825 948 f1 26\n",
      "737 742 f1 21\n",
      "751 353 Danger! 29\n",
      "525 263 f2 27\n",
      "825 944 f1 26\n",
      "736 741 f1 21\n"
     ]
    },
    {
     "name": "stderr",
     "output_type": "stream",
     "text": [
      "Speed: 0.9ms pre-process, 84.0ms inference, 1.0ms postprocess per image at shape (1, 3, 640, 640)\n",
      "\n",
      "0: 384x640 4 cars, 84.0ms\n",
      "Speed: 1.0ms pre-process, 84.0ms inference, 2.0ms postprocess per image at shape (1, 3, 640, 640)\n",
      "\n",
      "0: 384x640 4 cars, 83.0ms\n"
     ]
    },
    {
     "name": "stdout",
     "output_type": "stream",
     "text": [
      "751 358 Danger! 29\n",
      "525 262 f2 27\n",
      "820 937 f1 26\n",
      "734 737 f1 21\n",
      "750 360 Danger! 29\n",
      "820 931 f1 26\n",
      "731 733 f1 21\n"
     ]
    },
    {
     "name": "stderr",
     "output_type": "stream",
     "text": [
      "Speed: 1.0ms pre-process, 83.0ms inference, 1.0ms postprocess per image at shape (1, 3, 640, 640)\n",
      "\n",
      "0: 384x640 3 cars, 83.0ms\n",
      "Speed: 1.0ms pre-process, 83.0ms inference, 1.0ms postprocess per image at shape (1, 3, 640, 640)\n",
      "\n",
      "0: 384x640 3 cars, 85.2ms\n"
     ]
    },
    {
     "name": "stdout",
     "output_type": "stream",
     "text": [
      "750 361 Danger! 29\n",
      "819 929 f1 26\n",
      "730 732 f1 21\n",
      "748 353 Danger! 29\n",
      "813 920 f1 26\n",
      "727 730 f1 21\n"
     ]
    },
    {
     "name": "stderr",
     "output_type": "stream",
     "text": [
      "Speed: 0.0ms pre-process, 85.2ms inference, 1.0ms postprocess per image at shape (1, 3, 640, 640)\n",
      "\n",
      "0: 384x640 3 cars, 99.5ms\n",
      "Speed: 1.0ms pre-process, 99.5ms inference, 1.0ms postprocess per image at shape (1, 3, 640, 640)\n",
      "\n"
     ]
    },
    {
     "name": "stdout",
     "output_type": "stream",
     "text": [
      "747 351 Danger! 29\n",
      "811 917 f1 26\n",
      "726 729 f1 21\n",
      "744 351 Danger! 29\n",
      "806 912 f1 26\n",
      "724 723 f1 21\n"
     ]
    },
    {
     "name": "stderr",
     "output_type": "stream",
     "text": [
      "0: 384x640 3 cars, 82.7ms\n",
      "Speed: 0.0ms pre-process, 82.7ms inference, 1.0ms postprocess per image at shape (1, 3, 640, 640)\n",
      "\n",
      "0: 384x640 4 cars, 88.4ms\n",
      "Speed: 0.0ms pre-process, 88.4ms inference, 1.0ms postprocess per image at shape (1, 3, 640, 640)\n",
      "\n"
     ]
    },
    {
     "name": "stdout",
     "output_type": "stream",
     "text": [
      "743 352 Danger! 29\n",
      "804 910 f1 26\n",
      "723 721 f1 21\n",
      "811 905 f1 26\n",
      "721 716 f1 21\n"
     ]
    },
    {
     "name": "stderr",
     "output_type": "stream",
     "text": [
      "0: 384x640 4 cars, 84.5ms\n",
      "Speed: 0.0ms pre-process, 84.5ms inference, 1.0ms postprocess per image at shape (1, 3, 640, 640)\n",
      "\n",
      "0: 384x640 3 cars, 85.5ms\n",
      "Speed: 0.0ms pre-process, 85.5ms inference, 1.0ms postprocess per image at shape (1, 3, 640, 640)\n",
      "\n"
     ]
    },
    {
     "name": "stdout",
     "output_type": "stream",
     "text": [
      "814 903 f1 26\n",
      "720 714 f1 21\n",
      "518 258 f2 27\n",
      "806 898 f1 26\n",
      "718 710 f1 21\n"
     ]
    },
    {
     "name": "stderr",
     "output_type": "stream",
     "text": [
      "0: 384x640 3 cars, 82.5ms\n",
      "Speed: 1.0ms pre-process, 82.5ms inference, 2.0ms postprocess per image at shape (1, 3, 640, 640)\n",
      "\n",
      "0: 384x640 3 cars, 83.2ms\n",
      "Speed: 1.0ms pre-process, 83.2ms inference, 1.0ms postprocess per image at shape (1, 3, 640, 640)\n",
      "\n"
     ]
    },
    {
     "name": "stdout",
     "output_type": "stream",
     "text": [
      "517 258 f2 27\n",
      "802 897 f1 26\n",
      "717 708 f1 21\n",
      "515 255 f2 27\n",
      "795 892 f1 26\n",
      "715 705 f1 21\n"
     ]
    },
    {
     "name": "stderr",
     "output_type": "stream",
     "text": [
      "0: 384x640 3 cars, 80.5ms\n",
      "Speed: 0.9ms pre-process, 80.5ms inference, 1.0ms postprocess per image at shape (1, 3, 640, 640)\n",
      "\n",
      "0: 384x640 3 cars, 96.5ms\n",
      "Speed: 1.0ms pre-process, 96.5ms inference, 1.0ms postprocess per image at shape (1, 3, 640, 640)\n",
      "\n"
     ]
    },
    {
     "name": "stdout",
     "output_type": "stream",
     "text": [
      "514 254 f2 27\n",
      "793 890 f1 26\n",
      "714 704 f1 21\n",
      "514 253 f2 27\n",
      "792 889 f1 26\n"
     ]
    },
    {
     "name": "stderr",
     "output_type": "stream",
     "text": [
      "0: 384x640 4 cars, 1 truck, 81.4ms\n",
      "Speed: 1.0ms pre-process, 81.4ms inference, 1.0ms postprocess per image at shape (1, 3, 640, 640)\n",
      "\n",
      "0: 384x640 4 cars, 1 truck, 83.4ms\n",
      "Speed: 1.0ms pre-process, 83.4ms inference, 1.0ms postprocess per image at shape (1, 3, 640, 640)\n",
      "\n",
      "0: 384x640 4 cars, 1 truck, 80.1ms\n"
     ]
    },
    {
     "name": "stdout",
     "output_type": "stream",
     "text": [
      "513 251 f2 27\n",
      "793 884 f1 26\n",
      "712 699 f1 21\n",
      "513 250 f2 27\n",
      "793 882 f1 26\n",
      "711 698 f1 21\n"
     ]
    },
    {
     "name": "stderr",
     "output_type": "stream",
     "text": [
      "Speed: 1.0ms pre-process, 80.1ms inference, 1.0ms postprocess per image at shape (1, 3, 640, 640)\n",
      "\n",
      "0: 384x640 4 cars, 1 truck, 90.0ms\n",
      "Speed: 1.0ms pre-process, 90.0ms inference, 1.0ms postprocess per image at shape (1, 3, 640, 640)\n",
      "\n"
     ]
    },
    {
     "name": "stdout",
     "output_type": "stream",
     "text": [
      "735 368 Danger! 29\n",
      "787 877 f1 26\n",
      "708 694 f1 21\n",
      "732 366 Danger! 29\n",
      "782 871 f1 26\n",
      "704 690 f1 21\n"
     ]
    },
    {
     "name": "stderr",
     "output_type": "stream",
     "text": [
      "0: 384x640 4 cars, 1 truck, 81.1ms\n",
      "Speed: 1.0ms pre-process, 81.1ms inference, 1.0ms postprocess per image at shape (1, 3, 640, 640)\n",
      "\n",
      "0: 384x640 3 cars, 86.3ms\n",
      "Speed: 1.0ms pre-process, 86.3ms inference, 1.0ms postprocess per image at shape (1, 3, 640, 640)\n",
      "\n",
      "0: 384x640 3 cars, 1 truck, 82.0ms\n"
     ]
    },
    {
     "name": "stdout",
     "output_type": "stream",
     "text": [
      "730 366 Danger! 29\n",
      "781 869 f1 26\n",
      "703 688 f1 21\n",
      "778 863 f1 26\n",
      "702 686 f1 21\n"
     ]
    },
    {
     "name": "stderr",
     "output_type": "stream",
     "text": [
      "Speed: 0.0ms pre-process, 82.0ms inference, 1.0ms postprocess per image at shape (1, 3, 640, 640)\n",
      "\n",
      "0: 384x640 4 cars, 85.3ms\n",
      "Speed: 0.0ms pre-process, 85.3ms inference, 1.0ms postprocess per image at shape (1, 3, 640, 640)\n",
      "\n",
      "0: 384x640 4 cars, 88.5ms\n"
     ]
    },
    {
     "name": "stdout",
     "output_type": "stream",
     "text": [
      "777 860 f1 26\n",
      "701 685 f1 21\n",
      "775 855 f1 26\n",
      "701 681 f1 21\n"
     ]
    },
    {
     "name": "stderr",
     "output_type": "stream",
     "text": [
      "Speed: 1.0ms pre-process, 88.5ms inference, 1.0ms postprocess per image at shape (1, 3, 640, 640)\n",
      "\n",
      "0: 384x640 3 cars, 84.1ms\n",
      "Speed: 0.0ms pre-process, 84.1ms inference, 2.0ms postprocess per image at shape (1, 3, 640, 640)\n",
      "\n"
     ]
    },
    {
     "name": "stdout",
     "output_type": "stream",
     "text": [
      "910 689 Danger! 33\n",
      "774 853 f1 26\n",
      "700 680 f1 21\n",
      "991 790 Danger! 32\n",
      "769 851 f1 26\n",
      "698 675 f1 21\n"
     ]
    },
    {
     "name": "stderr",
     "output_type": "stream",
     "text": [
      "0: 384x640 4 cars, 81.3ms\n",
      "Speed: 0.0ms pre-process, 81.3ms inference, 2.0ms postprocess per image at shape (1, 3, 640, 640)\n",
      "\n",
      "0: 384x640 5 cars, 82.2ms\n",
      "Speed: 1.0ms pre-process, 82.2ms inference, 1.0ms postprocess per image at shape (1, 3, 640, 640)\n",
      "\n",
      "0: 384x640 4 cars, 82.1ms\n"
     ]
    },
    {
     "name": "stdout",
     "output_type": "stream",
     "text": [
      "768 850 f1 26\n",
      "697 674 f1 21\n",
      "991 790 Danger! 32\n",
      "768 842 f1 26\n",
      "695 670 f1 21\n"
     ]
    },
    {
     "name": "stderr",
     "output_type": "stream",
     "text": [
      "Speed: 1.0ms pre-process, 82.1ms inference, 1.0ms postprocess per image at shape (1, 3, 640, 640)\n",
      "\n",
      "0: 384x640 5 cars, 83.1ms\n",
      "Speed: 1.0ms pre-process, 83.1ms inference, 1.0ms postprocess per image at shape (1, 3, 640, 640)\n",
      "\n",
      "0: 384x640 4 cars, 86.0ms\n"
     ]
    },
    {
     "name": "stdout",
     "output_type": "stream",
     "text": [
      "719 353 Danger! 29\n",
      "768 840 f1 26\n",
      "695 669 f1 21\n",
      "718 352 Danger! 29\n",
      "510 241 f2 27\n",
      "768 839 f1 26\n",
      "694 669 f1 21\n"
     ]
    },
    {
     "name": "stderr",
     "output_type": "stream",
     "text": [
      "Speed: 0.0ms pre-process, 86.0ms inference, 1.0ms postprocess per image at shape (1, 3, 640, 640)\n",
      "\n",
      "0: 384x640 3 cars, 89.2ms\n",
      "Speed: 1.0ms pre-process, 89.2ms inference, 1.0ms postprocess per image at shape (1, 3, 640, 640)\n",
      "\n",
      "0: 384x640 4 cars, 95.0ms\n"
     ]
    },
    {
     "name": "stdout",
     "output_type": "stream",
     "text": [
      "509 239 f2 27\n",
      "767 835 f1 26\n",
      "693 664 f1 21\n",
      "508 238 f2 27\n",
      "767 833 f1 26\n",
      "693 662 f1 21\n"
     ]
    },
    {
     "name": "stderr",
     "output_type": "stream",
     "text": [
      "Speed: 1.0ms pre-process, 95.0ms inference, 2.0ms postprocess per image at shape (1, 3, 640, 640)\n",
      "\n",
      "0: 384x640 3 cars, 1 truck, 85.7ms\n",
      "Speed: 1.0ms pre-process, 85.7ms inference, 1.0ms postprocess per image at shape (1, 3, 640, 640)\n",
      "\n",
      "0: 384x640 3 cars, 1 truck, 82.5ms\n"
     ]
    },
    {
     "name": "stdout",
     "output_type": "stream",
     "text": [
      "507 237 f2 27\n",
      "763 830 f1 26\n",
      "693 659 f1 21\n",
      "762 825 f1 26\n",
      "689 655 f1 21\n"
     ]
    },
    {
     "name": "stderr",
     "output_type": "stream",
     "text": [
      "Speed: 1.0ms pre-process, 82.5ms inference, 1.0ms postprocess per image at shape (1, 3, 640, 640)\n",
      "\n",
      "0: 384x640 4 cars, 83.5ms\n",
      "Speed: 1.0ms pre-process, 83.5ms inference, 1.0ms postprocess per image at shape (1, 3, 640, 640)\n",
      "\n",
      "0: 384x640 4 cars, 81.0ms\n"
     ]
    },
    {
     "name": "stdout",
     "output_type": "stream",
     "text": [
      "991 789 Danger! 32\n",
      "761 824 f1 26\n",
      "687 654 f1 21\n",
      "761 818 f1 26\n",
      "687 648 f1 21\n"
     ]
    },
    {
     "name": "stderr",
     "output_type": "stream",
     "text": [
      "Speed: 0.0ms pre-process, 81.0ms inference, 1.0ms postprocess per image at shape (1, 3, 640, 640)\n",
      "\n",
      "0: 384x640 4 cars, 85.1ms\n",
      "Speed: 1.0ms pre-process, 85.1ms inference, 1.0ms postprocess per image at shape (1, 3, 640, 640)\n",
      "\n",
      "0: 384x640 4 cars, 81.1ms\n"
     ]
    },
    {
     "name": "stdout",
     "output_type": "stream",
     "text": [
      "991 789 Danger! 32\n",
      "761 816 f1 26\n",
      "687 646 f1 21\n",
      "716 345 Danger! 29\n",
      "687 645 f1 21\n"
     ]
    },
    {
     "name": "stderr",
     "output_type": "stream",
     "text": [
      "Speed: 0.0ms pre-process, 81.1ms inference, 1.0ms postprocess per image at shape (1, 3, 640, 640)\n",
      "\n",
      "0: 384x640 3 cars, 1 truck, 86.2ms\n",
      "Speed: 1.0ms pre-process, 86.2ms inference, 1.0ms postprocess per image at shape (1, 3, 640, 640)\n",
      "\n",
      "0: 384x640 3 cars, 1 truck, 83.7ms\n"
     ]
    },
    {
     "name": "stdout",
     "output_type": "stream",
     "text": [
      "991 789 Danger! 32\n",
      "761 815 f1 26\n",
      "990 789 Danger! 32\n",
      "748 808 f1 26\n",
      "686 640 f1 21\n"
     ]
    },
    {
     "name": "stderr",
     "output_type": "stream",
     "text": [
      "Speed: 0.0ms pre-process, 83.7ms inference, 1.0ms postprocess per image at shape (1, 3, 640, 640)\n",
      "\n",
      "0: 384x640 3 cars, 1 truck, 96.5ms\n",
      "Speed: 1.0ms pre-process, 96.5ms inference, 1.0ms postprocess per image at shape (1, 3, 640, 640)\n",
      "\n"
     ]
    },
    {
     "name": "stdout",
     "output_type": "stream",
     "text": [
      "743 805 f1 26\n",
      "686 638 f1 21\n",
      "990 789 Danger! 32\n",
      "741 801 f1 26\n",
      "683 635 f1 21\n"
     ]
    },
    {
     "name": "stderr",
     "output_type": "stream",
     "text": [
      "0: 384x640 3 cars, 1 truck, 83.0ms\n",
      "Speed: 0.0ms pre-process, 83.0ms inference, 1.0ms postprocess per image at shape (1, 3, 640, 640)\n",
      "\n",
      "0: 384x640 3 cars, 1 truck, 86.5ms\n",
      "Speed: 0.0ms pre-process, 86.5ms inference, 1.0ms postprocess per image at shape (1, 3, 640, 640)\n",
      "\n",
      "0: 384x640 3 cars, 1 truck, 84.5ms\n"
     ]
    },
    {
     "name": "stdout",
     "output_type": "stream",
     "text": [
      "741 800 f1 26\n",
      "682 634 f1 21\n",
      "990 789 Danger! 32\n",
      "740 794 f1 26\n",
      "681 633 f1 21\n"
     ]
    },
    {
     "name": "stderr",
     "output_type": "stream",
     "text": [
      "Speed: 0.0ms pre-process, 84.5ms inference, 1.0ms postprocess per image at shape (1, 3, 640, 640)\n",
      "\n",
      "0: 384x640 3 cars, 1 truck, 86.2ms\n",
      "Speed: 1.0ms pre-process, 86.2ms inference, 1.0ms postprocess per image at shape (1, 3, 640, 640)\n",
      "\n"
     ]
    },
    {
     "name": "stdout",
     "output_type": "stream",
     "text": [
      "740 792 f1 26\n",
      "990 789 Danger! 32\n",
      "740 791 f1 26\n",
      "681 633 f1 21\n"
     ]
    },
    {
     "name": "stderr",
     "output_type": "stream",
     "text": [
      "0: 384x640 4 cars, 1 truck, 82.1ms\n",
      "Speed: 0.0ms pre-process, 82.1ms inference, 1.0ms postprocess per image at shape (1, 3, 640, 640)\n",
      "\n",
      "0: 384x640 4 cars, 1 truck, 90.0ms\n",
      "Speed: 1.0ms pre-process, 90.0ms inference, 1.0ms postprocess per image at shape (1, 3, 640, 640)\n",
      "\n"
     ]
    },
    {
     "name": "stdout",
     "output_type": "stream",
     "text": [
      "738 786 f1 26\n",
      "679 629 f1 21\n",
      "990 789 Danger! 32\n",
      "736 785 f1 26\n",
      "679 628 f1 21\n"
     ]
    },
    {
     "name": "stderr",
     "output_type": "stream",
     "text": [
      "0: 384x640 2 cars, 1 truck, 84.0ms\n",
      "Speed: 1.0ms pre-process, 84.0ms inference, 0.0ms postprocess per image at shape (1, 3, 640, 640)\n",
      "\n",
      "0: 384x640 2 cars, 2 trucks, 86.0ms\n",
      "Speed: 1.0ms pre-process, 86.0ms inference, 1.0ms postprocess per image at shape (1, 3, 640, 640)\n",
      "\n"
     ]
    },
    {
     "name": "stdout",
     "output_type": "stream",
     "text": [
      "733 781 f1 26\n",
      "676 626 f1 21\n",
      "730 775 f1 26\n",
      "674 621 f1 21\n"
     ]
    },
    {
     "name": "stderr",
     "output_type": "stream",
     "text": [
      "0: 384x640 2 cars, 2 trucks, 89.3ms\n",
      "Speed: 1.0ms pre-process, 89.3ms inference, 1.0ms postprocess per image at shape (1, 3, 640, 640)\n",
      "\n",
      "0: 384x640 2 cars, 2 trucks, 84.2ms\n",
      "Speed: 1.0ms pre-process, 84.2ms inference, 1.0ms postprocess per image at shape (1, 3, 640, 640)\n",
      "\n",
      "0: 384x640 2 cars, 2 trucks, 82.5ms\n"
     ]
    },
    {
     "name": "stdout",
     "output_type": "stream",
     "text": [
      "729 772 f1 26\n",
      "673 618 f1 21\n",
      "726 770 f1 26\n",
      "670 616 f1 21\n"
     ]
    },
    {
     "name": "stderr",
     "output_type": "stream",
     "text": [
      "Speed: 1.0ms pre-process, 82.5ms inference, 1.0ms postprocess per image at shape (1, 3, 640, 640)\n",
      "\n",
      "0: 384x640 1 car, 2 trucks, 83.5ms\n",
      "Speed: 0.9ms pre-process, 83.5ms inference, 1.0ms postprocess per image at shape (1, 3, 640, 640)\n",
      "\n"
     ]
    },
    {
     "name": "stdout",
     "output_type": "stream",
     "text": [
      "725 769 f1 26\n",
      "668 614 f1 21\n"
     ]
    },
    {
     "name": "stderr",
     "output_type": "stream",
     "text": [
      "0: 384x640 1 car, 2 trucks, 82.1ms\n",
      "Speed: 1.0ms pre-process, 82.1ms inference, 1.0ms postprocess per image at shape (1, 3, 640, 640)\n",
      "\n",
      "0: 384x640 1 car, 2 trucks, 87.0ms\n",
      "Speed: 1.0ms pre-process, 87.0ms inference, 1.0ms postprocess per image at shape (1, 3, 640, 640)\n",
      "\n",
      "0: 384x640 1 car, 2 trucks, 80.5ms\n",
      "Speed: 0.0ms pre-process, 80.5ms inference, 1.0ms postprocess per image at shape (1, 3, 640, 640)\n",
      "\n",
      "0: 384x640 3 cars, 1 truck, 81.5ms\n",
      "Speed: 0.0ms pre-process, 81.5ms inference, 1.0ms postprocess per image at shape (1, 3, 640, 640)\n",
      "\n",
      "0: 384x640 3 cars, 1 truck, 83.2ms\n",
      "Speed: 0.0ms pre-process, 83.2ms inference, 1.0ms postprocess per image at shape (1, 3, 640, 640)\n",
      "\n",
      "0: 384x640 3 cars, 1 truck, 93.8ms\n"
     ]
    },
    {
     "name": "stdout",
     "output_type": "stream",
     "text": [
      "710 751 f1 26\n",
      "709 749 f1 26\n"
     ]
    },
    {
     "name": "stderr",
     "output_type": "stream",
     "text": [
      "Speed: 1.0ms pre-process, 93.8ms inference, 0.0ms postprocess per image at shape (1, 3, 640, 640)\n",
      "\n",
      "0: 384x640 2 cars, 1 truck, 87.1ms\n",
      "Speed: 0.0ms pre-process, 87.1ms inference, 1.0ms postprocess per image at shape (1, 3, 640, 640)\n",
      "\n",
      "0: 384x640 2 cars, 1 truck, 86.1ms\n"
     ]
    },
    {
     "name": "stdout",
     "output_type": "stream",
     "text": [
      "485 212 f2 34\n",
      "709 748 f1 26\n",
      "664 600 f1 21\n",
      "707 746 f1 26\n"
     ]
    },
    {
     "name": "stderr",
     "output_type": "stream",
     "text": [
      "Speed: 1.0ms pre-process, 86.1ms inference, 1.0ms postprocess per image at shape (1, 3, 640, 640)\n",
      "\n",
      "0: 384x640 3 cars, 1 truck, 85.1ms\n",
      "Speed: 1.0ms pre-process, 85.1ms inference, 1.0ms postprocess per image at shape (1, 3, 640, 640)\n",
      "\n",
      "0: 384x640 3 cars, 1 truck, 84.1ms\n"
     ]
    },
    {
     "name": "stdout",
     "output_type": "stream",
     "text": [
      "485 213 f2 34\n",
      "707 745 f1 26\n",
      "705 738 f1 26\n"
     ]
    },
    {
     "name": "stderr",
     "output_type": "stream",
     "text": [
      "Speed: 0.0ms pre-process, 84.1ms inference, 1.0ms postprocess per image at shape (1, 3, 640, 640)\n",
      "\n",
      "0: 384x640 3 cars, 1 truck, 85.2ms\n",
      "Speed: 1.0ms pre-process, 85.2ms inference, 0.0ms postprocess per image at shape (1, 3, 640, 640)\n",
      "\n",
      "0: 384x640 2 trucks, 84.9ms\n"
     ]
    },
    {
     "name": "stdout",
     "output_type": "stream",
     "text": [
      "485 213 f2 34\n",
      "705 736 f1 26\n",
      "484 206 f2 34\n",
      "704 735 f1 26\n"
     ]
    },
    {
     "name": "stderr",
     "output_type": "stream",
     "text": [
      "Speed: 0.0ms pre-process, 84.9ms inference, 1.0ms postprocess per image at shape (1, 3, 640, 640)\n",
      "\n",
      "0: 384x640 2 trucks, 86.2ms\n",
      "Speed: 0.0ms pre-process, 86.2ms inference, 1.5ms postprocess per image at shape (1, 3, 640, 640)\n",
      "\n",
      "0: 384x640 2 trucks, 86.9ms\n",
      "Speed: 0.0ms pre-process, 86.9ms inference, 0.0ms postprocess per image at shape (1, 3, 640, 640)\n",
      "\n",
      "0: 384x640 2 trucks, 96.8ms\n",
      "Speed: 1.0ms pre-process, 96.8ms inference, 1.0ms postprocess per image at shape (1, 3, 640, 640)\n",
      "\n",
      "0: 384x640 1 truck, 82.5ms\n",
      "Speed: 1.0ms pre-process, 82.5ms inference, 1.0ms postprocess per image at shape (1, 3, 640, 640)\n",
      "\n",
      "0: 384x640 1 truck, 83.2ms\n",
      "Speed: 1.0ms pre-process, 83.2ms inference, 0.0ms postprocess per image at shape (1, 3, 640, 640)\n",
      "\n",
      "0: 384x640 1 truck, 81.0ms\n",
      "Speed: 1.0ms pre-process, 81.0ms inference, 1.0ms postprocess per image at shape (1, 3, 640, 640)\n",
      "\n",
      "0: 384x640 1 truck, 83.0ms\n",
      "Speed: 1.0ms pre-process, 83.0ms inference, 1.0ms postprocess per image at shape (1, 3, 640, 640)\n",
      "\n",
      "0: 384x640 1 car, 1 truck, 80.6ms\n",
      "Speed: 1.0ms pre-process, 80.6ms inference, 2.0ms postprocess per image at shape (1, 3, 640, 640)\n",
      "\n",
      "0: 384x640 1 car, 1 truck, 85.2ms\n",
      "Speed: 0.0ms pre-process, 85.2ms inference, 1.2ms postprocess per image at shape (1, 3, 640, 640)\n",
      "\n",
      "0: 384x640 1 car, 1 truck, 84.0ms\n",
      "Speed: 1.0ms pre-process, 84.0ms inference, 1.0ms postprocess per image at shape (1, 3, 640, 640)\n",
      "\n",
      "0: 384x640 1 car, 1 truck, 79.6ms\n",
      "Speed: 1.0ms pre-process, 79.6ms inference, 1.0ms postprocess per image at shape (1, 3, 640, 640)\n",
      "\n",
      "0: 384x640 1 car, 1 truck, 80.2ms\n"
     ]
    },
    {
     "name": "stdout",
     "output_type": "stream",
     "text": [
      "690 705 f1 26\n",
      "689 699 f1 26\n"
     ]
    },
    {
     "name": "stderr",
     "output_type": "stream",
     "text": [
      "Speed: 0.0ms pre-process, 80.2ms inference, 1.0ms postprocess per image at shape (1, 3, 640, 640)\n",
      "\n",
      "0: 384x640 1 car, 1 truck, 84.2ms\n",
      "Speed: 1.0ms pre-process, 84.2ms inference, 1.0ms postprocess per image at shape (1, 3, 640, 640)\n",
      "\n",
      "0: 384x640 1 truck, 85.3ms\n"
     ]
    },
    {
     "name": "stdout",
     "output_type": "stream",
     "text": [
      "686 696 f1 26\n",
      "686 695 f1 26\n"
     ]
    },
    {
     "name": "stderr",
     "output_type": "stream",
     "text": [
      "Speed: 0.0ms pre-process, 85.3ms inference, 1.0ms postprocess per image at shape (1, 3, 640, 640)\n",
      "\n",
      "0: 384x640 1 truck, 97.5ms\n",
      "Speed: 0.0ms pre-process, 97.5ms inference, 1.0ms postprocess per image at shape (1, 3, 640, 640)\n",
      "\n",
      "0: 384x640 1 car, 82.9ms\n",
      "Speed: 1.0ms pre-process, 82.9ms inference, 1.0ms postprocess per image at shape (1, 3, 640, 640)\n",
      "\n",
      "0: 384x640 1 car, 82.0ms\n",
      "Speed: 1.0ms pre-process, 82.0ms inference, 0.0ms postprocess per image at shape (1, 3, 640, 640)\n",
      "\n",
      "0: 384x640 1 truck, 84.1ms\n",
      "Speed: 1.0ms pre-process, 84.1ms inference, 1.0ms postprocess per image at shape (1, 3, 640, 640)\n",
      "\n",
      "0: 384x640 1 truck, 81.1ms\n",
      "Speed: 1.0ms pre-process, 81.1ms inference, 1.0ms postprocess per image at shape (1, 3, 640, 640)\n",
      "\n",
      "0: 384x640 1 truck, 83.2ms\n",
      "Speed: 1.0ms pre-process, 83.2ms inference, 1.0ms postprocess per image at shape (1, 3, 640, 640)\n",
      "\n",
      "0: 384x640 1 car, 1 truck, 83.3ms\n",
      "Speed: 1.0ms pre-process, 83.3ms inference, 1.0ms postprocess per image at shape (1, 3, 640, 640)\n",
      "\n",
      "0: 384x640 1 car, 1 truck, 83.7ms\n",
      "Speed: 1.0ms pre-process, 83.7ms inference, 1.0ms postprocess per image at shape (1, 3, 640, 640)\n",
      "\n",
      "0: 384x640 1 car, 1 truck, 80.5ms\n",
      "Speed: 0.0ms pre-process, 80.5ms inference, 1.0ms postprocess per image at shape (1, 3, 640, 640)\n",
      "\n",
      "0: 384x640 1 car, 1 truck, 83.4ms\n",
      "Speed: 1.0ms pre-process, 83.4ms inference, 1.0ms postprocess per image at shape (1, 3, 640, 640)\n",
      "\n",
      "0: 384x640 1 car, 2 trucks, 86.7ms\n",
      "Speed: 1.0ms pre-process, 86.7ms inference, 1.0ms postprocess per image at shape (1, 3, 640, 640)\n",
      "\n"
     ]
    },
    {
     "name": "stdout",
     "output_type": "stream",
     "text": [
      "1143 971 Danger! 36\n"
     ]
    },
    {
     "name": "stderr",
     "output_type": "stream",
     "text": [
      "0: 384x640 1 car, 2 trucks, 80.0ms\n",
      "Speed: 0.0ms pre-process, 80.0ms inference, 1.0ms postprocess per image at shape (1, 3, 640, 640)\n",
      "\n",
      "0: 384x640 1 car, 1 truck, 85.5ms\n",
      "Speed: 1.0ms pre-process, 85.5ms inference, 1.0ms postprocess per image at shape (1, 3, 640, 640)\n",
      "\n",
      "0: 384x640 2 cars, 2 trucks, 92.1ms\n",
      "Speed: 1.0ms pre-process, 92.1ms inference, 1.0ms postprocess per image at shape (1, 3, 640, 640)\n",
      "\n",
      "0: 384x640 2 cars, 2 trucks, 82.1ms\n"
     ]
    },
    {
     "name": "stdout",
     "output_type": "stream",
     "text": [
      "672 669 f1 26\n",
      "670 658 f1 26\n"
     ]
    },
    {
     "name": "stderr",
     "output_type": "stream",
     "text": [
      "Speed: 0.0ms pre-process, 82.1ms inference, 1.0ms postprocess per image at shape (1, 3, 640, 640)\n",
      "\n",
      "0: 384x640 1 car, 2 trucks, 82.2ms\n",
      "Speed: 1.0ms pre-process, 82.2ms inference, 1.0ms postprocess per image at shape (1, 3, 640, 640)\n",
      "\n",
      "0: 384x640 1 car, 2 trucks, 82.2ms\n"
     ]
    },
    {
     "name": "stdout",
     "output_type": "stream",
     "text": [
      "669 654 f1 26\n",
      "1120 946 Danger! 36\n"
     ]
    },
    {
     "name": "stderr",
     "output_type": "stream",
     "text": [
      "Speed: 0.0ms pre-process, 82.2ms inference, 1.0ms postprocess per image at shape (1, 3, 640, 640)\n",
      "\n",
      "0: 384x640 1 car, 2 trucks, 86.5ms\n",
      "Speed: 1.0ms pre-process, 86.5ms inference, 1.0ms postprocess per image at shape (1, 3, 640, 640)\n",
      "\n",
      "0: 384x640 1 car, 2 trucks, 87.5ms\n"
     ]
    },
    {
     "name": "stdout",
     "output_type": "stream",
     "text": [
      "1119 944 Danger! 36\n"
     ]
    },
    {
     "name": "stderr",
     "output_type": "stream",
     "text": [
      "Speed: 1.0ms pre-process, 87.5ms inference, 1.0ms postprocess per image at shape (1, 3, 640, 640)\n",
      "\n",
      "0: 384x640 1 truck, 85.2ms\n",
      "Speed: 1.0ms pre-process, 85.2ms inference, 1.0ms postprocess per image at shape (1, 3, 640, 640)\n",
      "\n",
      "0: 384x640 1 truck, 81.4ms\n"
     ]
    },
    {
     "name": "stdout",
     "output_type": "stream",
     "text": [
      "1119 944 Danger! 36\n"
     ]
    },
    {
     "name": "stderr",
     "output_type": "stream",
     "text": [
      "Speed: 1.0ms pre-process, 81.4ms inference, 1.0ms postprocess per image at shape (1, 3, 640, 640)\n",
      "\n",
      "0: 384x640 1 truck, 86.5ms\n",
      "Speed: 0.0ms pre-process, 86.5ms inference, 0.0ms postprocess per image at shape (1, 3, 640, 640)\n",
      "\n",
      "0: 384x640 1 truck, 99.0ms\n",
      "Speed: 1.1ms pre-process, 99.0ms inference, 1.3ms postprocess per image at shape (1, 3, 640, 640)\n",
      "\n",
      "0: 384x640 1 car, 1 truck, 86.5ms\n",
      "Speed: 1.0ms pre-process, 86.5ms inference, 1.0ms postprocess per image at shape (1, 3, 640, 640)\n",
      "\n",
      "0: 384x640 1 car, 1 truck, 88.1ms\n",
      "Speed: 1.0ms pre-process, 88.1ms inference, 0.0ms postprocess per image at shape (1, 3, 640, 640)\n",
      "\n",
      "0: 384x640 1 car, 1 truck, 85.1ms\n",
      "Speed: 1.0ms pre-process, 85.1ms inference, 1.0ms postprocess per image at shape (1, 3, 640, 640)\n",
      "\n",
      "0: 384x640 1 car, 1 truck, 85.4ms\n",
      "Speed: 1.0ms pre-process, 85.4ms inference, 1.0ms postprocess per image at shape (1, 3, 640, 640)\n",
      "\n",
      "0: 384x640 1 car, 1 truck, 84.5ms\n"
     ]
    },
    {
     "name": "stdout",
     "output_type": "stream",
     "text": [
      "1107 924 Danger! 36\n",
      "1104 917 Danger! 36\n"
     ]
    },
    {
     "name": "stderr",
     "output_type": "stream",
     "text": [
      "Speed: 1.0ms pre-process, 84.5ms inference, 1.0ms postprocess per image at shape (1, 3, 640, 640)\n",
      "\n",
      "0: 384x640 1 car, 1 truck, 89.5ms\n",
      "Speed: 1.0ms pre-process, 89.5ms inference, 1.0ms postprocess per image at shape (1, 3, 640, 640)\n",
      "\n"
     ]
    },
    {
     "name": "stdout",
     "output_type": "stream",
     "text": [
      "1101 912 Danger! 36\n",
      "1100 910 Danger! 36\n"
     ]
    },
    {
     "name": "stderr",
     "output_type": "stream",
     "text": [
      "0: 384x640 1 car, 86.5ms\n",
      "Speed: 1.0ms pre-process, 86.5ms inference, 1.0ms postprocess per image at shape (1, 3, 640, 640)\n",
      "\n",
      "0: 384x640 1 car, 90.1ms\n",
      "Speed: 1.0ms pre-process, 90.1ms inference, 1.0ms postprocess per image at shape (1, 3, 640, 640)\n",
      "\n"
     ]
    },
    {
     "name": "stdout",
     "output_type": "stream",
     "text": [
      "1098 905 Danger! 36\n",
      "1097 904 Danger! 36\n"
     ]
    },
    {
     "name": "stderr",
     "output_type": "stream",
     "text": [
      "0: 384x640 1 car, 86.2ms\n",
      "Speed: 1.0ms pre-process, 86.2ms inference, 1.0ms postprocess per image at shape (1, 3, 640, 640)\n",
      "\n",
      "0: 384x640 1 car, 102.8ms\n",
      "Speed: 1.0ms pre-process, 102.8ms inference, 1.0ms postprocess per image at shape (1, 3, 640, 640)\n",
      "\n"
     ]
    },
    {
     "name": "stdout",
     "output_type": "stream",
     "text": [
      "1095 899 Danger! 36\n",
      "1094 899 Danger! 36\n"
     ]
    },
    {
     "name": "stderr",
     "output_type": "stream",
     "text": [
      "0: 384x640 2 cars, 90.5ms\n",
      "Speed: 1.0ms pre-process, 90.5ms inference, 1.0ms postprocess per image at shape (1, 3, 640, 640)\n",
      "\n",
      "0: 384x640 2 cars, 92.4ms\n",
      "Speed: 1.0ms pre-process, 92.4ms inference, 0.0ms postprocess per image at shape (1, 3, 640, 640)\n",
      "\n"
     ]
    },
    {
     "name": "stdout",
     "output_type": "stream",
     "text": [
      "1091 895 Danger! 36\n",
      "1090 894 Danger! 36\n"
     ]
    },
    {
     "name": "stderr",
     "output_type": "stream",
     "text": [
      "0: 384x640 2 cars, 87.5ms\n",
      "Speed: 1.0ms pre-process, 87.5ms inference, 1.0ms postprocess per image at shape (1, 3, 640, 640)\n",
      "\n",
      "0: 384x640 2 cars, 90.0ms\n",
      "Speed: 1.0ms pre-process, 90.0ms inference, 1.0ms postprocess per image at shape (1, 3, 640, 640)\n",
      "\n",
      "0: 384x640 1 car, 86.8ms\n"
     ]
    },
    {
     "name": "stdout",
     "output_type": "stream",
     "text": [
      "1087 890 Danger! 36\n",
      "589 491 f1 37\n",
      "1086 889 Danger! 36\n"
     ]
    },
    {
     "name": "stderr",
     "output_type": "stream",
     "text": [
      "Speed: 1.0ms pre-process, 86.8ms inference, 1.5ms postprocess per image at shape (1, 3, 640, 640)\n",
      "\n",
      "0: 384x640 1 car, 89.2ms\n",
      "Speed: 1.0ms pre-process, 89.2ms inference, 2.0ms postprocess per image at shape (1, 3, 640, 640)\n",
      "\n"
     ]
    },
    {
     "name": "stdout",
     "output_type": "stream",
     "text": [
      "1084 886 Danger! 36\n",
      "1083 885 Danger! 36\n"
     ]
    },
    {
     "name": "stderr",
     "output_type": "stream",
     "text": [
      "0: 384x640 1 car, 91.5ms\n",
      "Speed: 1.0ms pre-process, 91.5ms inference, 1.0ms postprocess per image at shape (1, 3, 640, 640)\n",
      "\n",
      "0: 384x640 1 car, 1 truck, 99.5ms\n",
      "Speed: 1.0ms pre-process, 99.5ms inference, 2.0ms postprocess per image at shape (1, 3, 640, 640)\n",
      "\n"
     ]
    },
    {
     "name": "stdout",
     "output_type": "stream",
     "text": [
      "1083 884 Danger! 36\n",
      "1080 881 Danger! 36\n"
     ]
    },
    {
     "name": "stderr",
     "output_type": "stream",
     "text": [
      "0: 384x640 1 car, 1 truck, 94.5ms\n",
      "Speed: 1.0ms pre-process, 94.5ms inference, 1.0ms postprocess per image at shape (1, 3, 640, 640)\n",
      "\n",
      "0: 384x640 1 car, 1 truck, 90.5ms\n",
      "Speed: 1.0ms pre-process, 90.5ms inference, 1.0ms postprocess per image at shape (1, 3, 640, 640)\n",
      "\n"
     ]
    },
    {
     "name": "stdout",
     "output_type": "stream",
     "text": [
      "1079 879 Danger! 36\n",
      "1077 875 Danger! 36\n"
     ]
    },
    {
     "name": "stderr",
     "output_type": "stream",
     "text": [
      "0: 384x640 1 car, 90.5ms\n",
      "Speed: 0.0ms pre-process, 90.5ms inference, 1.0ms postprocess per image at shape (1, 3, 640, 640)\n",
      "\n",
      "0: 384x640 1 car, 92.5ms\n",
      "Speed: 1.0ms pre-process, 92.5ms inference, 1.0ms postprocess per image at shape (1, 3, 640, 640)\n",
      "\n"
     ]
    },
    {
     "name": "stdout",
     "output_type": "stream",
     "text": [
      "1075 870 Danger! 36\n",
      "1073 868 Danger! 36\n"
     ]
    },
    {
     "name": "stderr",
     "output_type": "stream",
     "text": [
      "0: 384x640 1 car, 90.0ms\n",
      "Speed: 0.0ms pre-process, 90.0ms inference, 1.0ms postprocess per image at shape (1, 3, 640, 640)\n",
      "\n",
      "0: 384x640 1 car, 89.0ms\n",
      "Speed: 0.0ms pre-process, 89.0ms inference, 1.0ms postprocess per image at shape (1, 3, 640, 640)\n",
      "\n"
     ]
    },
    {
     "name": "stdout",
     "output_type": "stream",
     "text": [
      "1072 863 Danger! 36\n",
      "1071 862 Danger! 36\n"
     ]
    },
    {
     "name": "stderr",
     "output_type": "stream",
     "text": [
      "0: 384x640 1 car, 88.4ms\n",
      "Speed: 1.0ms pre-process, 88.4ms inference, 1.0ms postprocess per image at shape (1, 3, 640, 640)\n",
      "\n",
      "0: 384x640 1 car, 111.6ms\n",
      "Speed: 1.0ms pre-process, 111.6ms inference, 1.0ms postprocess per image at shape (1, 3, 640, 640)\n",
      "\n"
     ]
    },
    {
     "name": "stdout",
     "output_type": "stream",
     "text": [
      "1069 857 Danger! 36\n",
      "1066 853 Danger! 36\n"
     ]
    },
    {
     "name": "stderr",
     "output_type": "stream",
     "text": [
      "0: 384x640 1 car, 94.5ms\n",
      "Speed: 0.0ms pre-process, 94.5ms inference, 2.0ms postprocess per image at shape (1, 3, 640, 640)\n",
      "\n",
      "0: 384x640 1 car, 102.1ms\n",
      "Speed: 0.0ms pre-process, 102.1ms inference, 2.0ms postprocess per image at shape (1, 3, 640, 640)\n",
      "\n"
     ]
    },
    {
     "name": "stdout",
     "output_type": "stream",
     "text": [
      "1065 852 Danger! 36\n",
      "1065 851 Danger! 36\n"
     ]
    },
    {
     "name": "stderr",
     "output_type": "stream",
     "text": [
      "0: 384x640 1 car, 88.5ms\n",
      "Speed: 0.0ms pre-process, 88.5ms inference, 1.0ms postprocess per image at shape (1, 3, 640, 640)\n",
      "\n",
      "0: 384x640 1 car, 92.4ms\n",
      "Speed: 0.0ms pre-process, 92.4ms inference, 1.0ms postprocess per image at shape (1, 3, 640, 640)\n",
      "\n",
      "0: 384x640 1 car, 1 truck, 89.0ms\n",
      "Speed: 0.0ms pre-process, 89.0ms inference, 1.5ms postprocess per image at shape (1, 3, 640, 640)\n",
      "\n",
      "0: 384x640 1 car, 1 truck, 86.5ms\n"
     ]
    },
    {
     "name": "stdout",
     "output_type": "stream",
     "text": [
      "1062 847 Danger! 36\n",
      "1057 843 Danger! 36\n"
     ]
    },
    {
     "name": "stderr",
     "output_type": "stream",
     "text": [
      "Speed: 1.0ms pre-process, 86.5ms inference, 1.0ms postprocess per image at shape (1, 3, 640, 640)\n",
      "\n",
      "0: 384x640 1 car, 1 truck, 90.1ms\n",
      "Speed: 0.0ms pre-process, 90.1ms inference, 1.0ms postprocess per image at shape (1, 3, 640, 640)\n",
      "\n"
     ]
    },
    {
     "name": "stdout",
     "output_type": "stream",
     "text": [
      "1055 841 Danger! 36\n",
      "1055 840 Danger! 36\n"
     ]
    },
    {
     "name": "stderr",
     "output_type": "stream",
     "text": [
      "0: 384x640 1 car, 86.5ms\n",
      "Speed: 1.0ms pre-process, 86.5ms inference, 1.0ms postprocess per image at shape (1, 3, 640, 640)\n",
      "\n",
      "0: 384x640 1 car, 120.1ms\n",
      "Speed: 0.0ms pre-process, 120.1ms inference, 1.0ms postprocess per image at shape (1, 3, 640, 640)\n",
      "\n"
     ]
    },
    {
     "name": "stdout",
     "output_type": "stream",
     "text": [
      "1051 838 Danger! 36\n",
      "1050 837 Danger! 36\n"
     ]
    },
    {
     "name": "stderr",
     "output_type": "stream",
     "text": [
      "0: 384x640 1 car, 100.5ms\n",
      "Speed: 1.0ms pre-process, 100.5ms inference, 2.0ms postprocess per image at shape (1, 3, 640, 640)\n",
      "\n",
      "0: 384x640 1 car, 101.0ms\n",
      "Speed: 1.0ms pre-process, 101.0ms inference, 1.0ms postprocess per image at shape (1, 3, 640, 640)\n",
      "\n"
     ]
    },
    {
     "name": "stdout",
     "output_type": "stream",
     "text": [
      "1049 832 Danger! 36\n",
      "1047 827 Danger! 36\n"
     ]
    },
    {
     "name": "stderr",
     "output_type": "stream",
     "text": [
      "0: 384x640 1 car, 91.5ms\n",
      "Speed: 0.0ms pre-process, 91.5ms inference, 1.0ms postprocess per image at shape (1, 3, 640, 640)\n",
      "\n",
      "0: 384x640 1 car, 92.5ms\n",
      "Speed: 1.0ms pre-process, 92.5ms inference, 1.0ms postprocess per image at shape (1, 3, 640, 640)\n",
      "\n"
     ]
    },
    {
     "name": "stdout",
     "output_type": "stream",
     "text": [
      "1047 825 Danger! 36\n",
      "1044 821 Danger! 36\n"
     ]
    },
    {
     "name": "stderr",
     "output_type": "stream",
     "text": [
      "0: 384x640 1 car, 91.5ms\n",
      "Speed: 1.0ms pre-process, 91.5ms inference, 2.0ms postprocess per image at shape (1, 3, 640, 640)\n",
      "\n",
      "0: 384x640 1 car, 95.5ms\n",
      "Speed: 1.0ms pre-process, 95.5ms inference, 1.0ms postprocess per image at shape (1, 3, 640, 640)\n",
      "\n"
     ]
    },
    {
     "name": "stdout",
     "output_type": "stream",
     "text": [
      "1043 820 Danger! 36\n",
      "1042 817 Danger! 36\n"
     ]
    },
    {
     "name": "stderr",
     "output_type": "stream",
     "text": [
      "0: 384x640 1 car, 93.4ms\n",
      "Speed: 0.0ms pre-process, 93.4ms inference, 1.0ms postprocess per image at shape (1, 3, 640, 640)\n",
      "\n",
      "0: 384x640 1 car, 110.6ms\n",
      "Speed: 0.0ms pre-process, 110.6ms inference, 1.0ms postprocess per image at shape (1, 3, 640, 640)\n",
      "\n"
     ]
    },
    {
     "name": "stdout",
     "output_type": "stream",
     "text": [
      "1042 816 Danger! 36\n",
      "1040 814 Danger! 36\n"
     ]
    },
    {
     "name": "stderr",
     "output_type": "stream",
     "text": [
      "0: 384x640 1 car, 92.5ms\n",
      "Speed: 1.0ms pre-process, 92.5ms inference, 1.0ms postprocess per image at shape (1, 3, 640, 640)\n",
      "\n",
      "0: 384x640 1 car, 99.5ms\n",
      "Speed: 0.0ms pre-process, 99.5ms inference, 1.0ms postprocess per image at shape (1, 3, 640, 640)\n",
      "\n"
     ]
    },
    {
     "name": "stdout",
     "output_type": "stream",
     "text": [
      "1040 813 Danger! 36\n",
      "1038 809 Danger! 36\n"
     ]
    },
    {
     "name": "stderr",
     "output_type": "stream",
     "text": [
      "0: 384x640 1 car, 93.7ms\n",
      "Speed: 1.0ms pre-process, 93.7ms inference, 2.0ms postprocess per image at shape (1, 3, 640, 640)\n",
      "\n",
      "0: 384x640 1 car, 99.2ms\n",
      "Speed: 1.1ms pre-process, 99.2ms inference, 1.0ms postprocess per image at shape (1, 3, 640, 640)\n",
      "\n"
     ]
    },
    {
     "name": "stdout",
     "output_type": "stream",
     "text": [
      "1037 807 Danger! 36\n",
      "1036 807 Danger! 36\n"
     ]
    },
    {
     "name": "stderr",
     "output_type": "stream",
     "text": [
      "0: 384x640 1 car, 92.3ms\n",
      "Speed: 1.0ms pre-process, 92.3ms inference, 1.4ms postprocess per image at shape (1, 3, 640, 640)\n",
      "\n",
      "0: 384x640 1 car, 98.3ms\n",
      "Speed: 1.0ms pre-process, 98.3ms inference, 1.0ms postprocess per image at shape (1, 3, 640, 640)\n",
      "\n"
     ]
    },
    {
     "name": "stdout",
     "output_type": "stream",
     "text": [
      "1034 805 Danger! 36\n",
      "1034 804 Danger! 36\n"
     ]
    },
    {
     "name": "stderr",
     "output_type": "stream",
     "text": [
      "0: 384x640 1 car, 92.9ms\n",
      "Speed: 0.0ms pre-process, 92.9ms inference, 2.0ms postprocess per image at shape (1, 3, 640, 640)\n",
      "\n",
      "0: 384x640 1 car, 105.0ms\n",
      "Speed: 1.0ms pre-process, 105.0ms inference, 2.4ms postprocess per image at shape (1, 3, 640, 640)\n",
      "\n"
     ]
    },
    {
     "name": "stdout",
     "output_type": "stream",
     "text": [
      "1031 800 Danger! 36\n",
      "1029 796 Danger! 36\n"
     ]
    },
    {
     "name": "stderr",
     "output_type": "stream",
     "text": [
      "0: 384x640 1 car, 92.4ms\n",
      "Speed: 1.0ms pre-process, 92.4ms inference, 2.0ms postprocess per image at shape (1, 3, 640, 640)\n",
      "\n",
      "0: 384x640 1 car, 96.8ms\n",
      "Speed: 1.0ms pre-process, 96.8ms inference, 2.0ms postprocess per image at shape (1, 3, 640, 640)\n",
      "\n"
     ]
    },
    {
     "name": "stdout",
     "output_type": "stream",
     "text": [
      "1029 794 Danger! 36\n",
      "1027 790 Danger! 36\n"
     ]
    },
    {
     "name": "stderr",
     "output_type": "stream",
     "text": [
      "0: 384x640 1 car, 92.5ms\n",
      "Speed: 1.0ms pre-process, 92.5ms inference, 1.0ms postprocess per image at shape (1, 3, 640, 640)\n",
      "\n",
      "0: 384x640 1 car, 98.5ms\n",
      "Speed: 1.0ms pre-process, 98.5ms inference, 1.0ms postprocess per image at shape (1, 3, 640, 640)\n",
      "\n"
     ]
    },
    {
     "name": "stdout",
     "output_type": "stream",
     "text": [
      "1027 788 Danger! 36\n",
      "1026 788 Danger! 36\n"
     ]
    },
    {
     "name": "stderr",
     "output_type": "stream",
     "text": [
      "0: 384x640 1 car, 93.8ms\n",
      "Speed: 0.0ms pre-process, 93.8ms inference, 1.0ms postprocess per image at shape (1, 3, 640, 640)\n",
      "\n",
      "0: 384x640 1 car, 99.0ms\n",
      "Speed: 0.0ms pre-process, 99.0ms inference, 1.0ms postprocess per image at shape (1, 3, 640, 640)\n",
      "\n",
      "0: 384x640 1 car, 109.0ms\n",
      "Speed: 1.0ms pre-process, 109.0ms inference, 2.0ms postprocess per image at shape (1, 3, 640, 640)\n",
      "\n"
     ]
    },
    {
     "name": "stdout",
     "output_type": "stream",
     "text": [
      "1023 782 Danger! 36\n",
      "1022 779 Danger! 36\n"
     ]
    },
    {
     "name": "stderr",
     "output_type": "stream",
     "text": [
      "0: 384x640 1 car, 96.5ms\n",
      "Speed: 1.0ms pre-process, 96.5ms inference, 1.0ms postprocess per image at shape (1, 3, 640, 640)\n",
      "\n",
      "0: 384x640 1 car, 99.0ms\n",
      "Speed: 0.0ms pre-process, 99.0ms inference, 2.0ms postprocess per image at shape (1, 3, 640, 640)\n",
      "\n"
     ]
    },
    {
     "name": "stdout",
     "output_type": "stream",
     "text": [
      "1019 776 Danger! 36\n",
      "1018 774 Danger! 36\n"
     ]
    },
    {
     "name": "stderr",
     "output_type": "stream",
     "text": [
      "0: 384x640 1 car, 96.3ms\n",
      "Speed: 0.0ms pre-process, 96.3ms inference, 1.0ms postprocess per image at shape (1, 3, 640, 640)\n",
      "\n",
      "0: 384x640 1 car, 96.2ms\n",
      "Speed: 1.0ms pre-process, 96.2ms inference, 1.0ms postprocess per image at shape (1, 3, 640, 640)\n",
      "\n"
     ]
    },
    {
     "name": "stdout",
     "output_type": "stream",
     "text": [
      "1015 769 Danger! 36\n",
      "1014 767 Danger! 36\n"
     ]
    },
    {
     "name": "stderr",
     "output_type": "stream",
     "text": [
      "0: 384x640 1 car, 92.1ms\n",
      "Speed: 1.0ms pre-process, 92.1ms inference, 1.0ms postprocess per image at shape (1, 3, 640, 640)\n",
      "\n",
      "0: 384x640 1 car, 95.8ms\n",
      "Speed: 1.0ms pre-process, 95.8ms inference, 1.0ms postprocess per image at shape (1, 3, 640, 640)\n",
      "\n"
     ]
    },
    {
     "name": "stdout",
     "output_type": "stream",
     "text": [
      "1013 767 Danger! 36\n",
      "1012 764 Danger! 36\n"
     ]
    },
    {
     "name": "stderr",
     "output_type": "stream",
     "text": [
      "0: 384x640 1 car, 93.0ms\n",
      "Speed: 1.0ms pre-process, 93.0ms inference, 1.0ms postprocess per image at shape (1, 3, 640, 640)\n",
      "\n",
      "0: 384x640 1 car, 106.5ms\n",
      "Speed: 1.0ms pre-process, 106.5ms inference, 1.0ms postprocess per image at shape (1, 3, 640, 640)\n",
      "\n"
     ]
    },
    {
     "name": "stdout",
     "output_type": "stream",
     "text": [
      "1009 761 Danger! 36\n",
      "1008 760 Danger! 36\n"
     ]
    },
    {
     "name": "stderr",
     "output_type": "stream",
     "text": [
      "0: 384x640 1 car, 94.1ms\n",
      "Speed: 0.0ms pre-process, 94.1ms inference, 1.0ms postprocess per image at shape (1, 3, 640, 640)\n",
      "\n",
      "0: 384x640 1 car, 98.1ms\n",
      "Speed: 1.0ms pre-process, 98.1ms inference, 1.0ms postprocess per image at shape (1, 3, 640, 640)\n",
      "\n",
      "0: 384x640 1 car, 91.9ms\n",
      "Speed: 1.0ms pre-process, 91.9ms inference, 1.0ms postprocess per image at shape (1, 3, 640, 640)\n",
      "\n"
     ]
    },
    {
     "name": "stdout",
     "output_type": "stream",
     "text": [
      "1006 757 Danger! 36\n",
      "1003 752 Danger! 36\n"
     ]
    },
    {
     "name": "stderr",
     "output_type": "stream",
     "text": [
      "0: 384x640 1 car, 96.1ms\n",
      "Speed: 1.0ms pre-process, 96.1ms inference, 1.0ms postprocess per image at shape (1, 3, 640, 640)\n",
      "\n",
      "0: 384x640 1 car, 93.5ms\n",
      "Speed: 1.0ms pre-process, 93.5ms inference, 1.0ms postprocess per image at shape (1, 3, 640, 640)\n",
      "\n"
     ]
    },
    {
     "name": "stdout",
     "output_type": "stream",
     "text": [
      "1002 750 Danger! 36\n",
      "1001 748 Danger! 36\n"
     ]
    },
    {
     "name": "stderr",
     "output_type": "stream",
     "text": [
      "0: 384x640 1 car, 88.0ms\n",
      "Speed: 1.0ms pre-process, 88.0ms inference, 1.0ms postprocess per image at shape (1, 3, 640, 640)\n",
      "\n",
      "0: 384x640 1 car, 109.5ms\n",
      "Speed: 1.0ms pre-process, 109.5ms inference, 2.0ms postprocess per image at shape (1, 3, 640, 640)\n",
      "\n"
     ]
    },
    {
     "name": "stdout",
     "output_type": "stream",
     "text": [
      "1001 746 Danger! 36\n",
      "998 741 Danger! 36\n"
     ]
    },
    {
     "name": "stderr",
     "output_type": "stream",
     "text": [
      "0: 384x640 1 car, 90.5ms\n",
      "Speed: 1.0ms pre-process, 90.5ms inference, 1.0ms postprocess per image at shape (1, 3, 640, 640)\n",
      "\n",
      "0: 384x640 1 car, 92.0ms\n",
      "Speed: 0.0ms pre-process, 92.0ms inference, 1.0ms postprocess per image at shape (1, 3, 640, 640)\n",
      "\n"
     ]
    },
    {
     "name": "stdout",
     "output_type": "stream",
     "text": [
      "997 740 Danger! 36\n",
      "994 737 Danger! 36\n"
     ]
    },
    {
     "name": "stderr",
     "output_type": "stream",
     "text": [
      "0: 384x640 1 car, 86.1ms\n",
      "Speed: 1.0ms pre-process, 86.1ms inference, 1.0ms postprocess per image at shape (1, 3, 640, 640)\n",
      "\n",
      "0: 384x640 1 car, 94.5ms\n",
      "Speed: 0.0ms pre-process, 94.5ms inference, 1.0ms postprocess per image at shape (1, 3, 640, 640)\n",
      "\n"
     ]
    },
    {
     "name": "stdout",
     "output_type": "stream",
     "text": [
      "994 735 Danger! 36\n"
     ]
    },
    {
     "name": "stderr",
     "output_type": "stream",
     "text": [
      "0: 384x640 1 car, 88.5ms\n",
      "Speed: 1.0ms pre-process, 88.5ms inference, 1.0ms postprocess per image at shape (1, 3, 640, 640)\n",
      "\n",
      "0: 384x640 1 car, 89.1ms\n",
      "Speed: 1.0ms pre-process, 89.1ms inference, 1.0ms postprocess per image at shape (1, 3, 640, 640)\n",
      "\n"
     ]
    },
    {
     "name": "stdout",
     "output_type": "stream",
     "text": [
      "991 734 Danger! 36\n",
      "990 734 Danger! 36\n"
     ]
    },
    {
     "name": "stderr",
     "output_type": "stream",
     "text": [
      "0: 384x640 1 car, 101.5ms\n",
      "Speed: 1.0ms pre-process, 101.5ms inference, 1.0ms postprocess per image at shape (1, 3, 640, 640)\n",
      "\n",
      "0: 384x640 2 cars, 104.6ms\n",
      "Speed: 1.0ms pre-process, 104.6ms inference, 2.0ms postprocess per image at shape (1, 3, 640, 640)\n",
      "\n"
     ]
    },
    {
     "name": "stdout",
     "output_type": "stream",
     "text": [
      "988 733 Danger! 36\n",
      "986 730 Danger! 36\n"
     ]
    },
    {
     "name": "stderr",
     "output_type": "stream",
     "text": [
      "0: 384x640 2 cars, 100.3ms\n",
      "Speed: 0.0ms pre-process, 100.3ms inference, 1.0ms postprocess per image at shape (1, 3, 640, 640)\n",
      "\n",
      "0: 384x640 1 car, 93.3ms\n",
      "Speed: 1.0ms pre-process, 93.3ms inference, 2.0ms postprocess per image at shape (1, 3, 640, 640)\n",
      "\n"
     ]
    },
    {
     "name": "stdout",
     "output_type": "stream",
     "text": [
      "985 729 Danger! 36\n",
      "983 726 Danger! 36\n"
     ]
    },
    {
     "name": "stderr",
     "output_type": "stream",
     "text": [
      "0: 384x640 1 car, 83.5ms\n",
      "Speed: 0.0ms pre-process, 83.5ms inference, 1.0ms postprocess per image at shape (1, 3, 640, 640)\n",
      "\n",
      "0: 384x640 1 car, 85.0ms\n",
      "Speed: 0.0ms pre-process, 85.0ms inference, 2.0ms postprocess per image at shape (1, 3, 640, 640)\n",
      "\n"
     ]
    },
    {
     "name": "stdout",
     "output_type": "stream",
     "text": [
      "982 725 Danger! 36\n",
      "980 721 Danger! 36\n"
     ]
    },
    {
     "name": "stderr",
     "output_type": "stream",
     "text": [
      "0: 384x640 1 car, 84.1ms\n",
      "Speed: 0.0ms pre-process, 84.1ms inference, 1.0ms postprocess per image at shape (1, 3, 640, 640)\n",
      "\n",
      "0: 384x640 1 car, 86.1ms\n",
      "Speed: 0.0ms pre-process, 86.1ms inference, 1.0ms postprocess per image at shape (1, 3, 640, 640)\n",
      "\n"
     ]
    },
    {
     "name": "stdout",
     "output_type": "stream",
     "text": [
      "980 720 Danger! 36\n",
      "977 714 Danger! 36\n"
     ]
    },
    {
     "name": "stderr",
     "output_type": "stream",
     "text": [
      "0: 384x640 1 car, 91.0ms\n",
      "Speed: 1.0ms pre-process, 91.0ms inference, 2.0ms postprocess per image at shape (1, 3, 640, 640)\n",
      "\n",
      "0: 384x640 1 car, 83.0ms\n",
      "Speed: 1.0ms pre-process, 83.0ms inference, 1.0ms postprocess per image at shape (1, 3, 640, 640)\n",
      "\n",
      "0: 384x640 1 car, 81.0ms\n"
     ]
    },
    {
     "name": "stdout",
     "output_type": "stream",
     "text": [
      "976 712 Danger! 36\n",
      "974 708 Danger! 36\n"
     ]
    },
    {
     "name": "stderr",
     "output_type": "stream",
     "text": [
      "Speed: 0.0ms pre-process, 81.0ms inference, 1.0ms postprocess per image at shape (1, 3, 640, 640)\n",
      "\n",
      "0: 384x640 1 car, 79.0ms\n",
      "Speed: 1.0ms pre-process, 79.0ms inference, 1.0ms postprocess per image at shape (1, 3, 640, 640)\n",
      "\n",
      "0: 384x640 1 car, 77.4ms\n"
     ]
    },
    {
     "name": "stdout",
     "output_type": "stream",
     "text": [
      "974 707 Danger! 36\n",
      "972 704 Danger! 36\n"
     ]
    },
    {
     "name": "stderr",
     "output_type": "stream",
     "text": [
      "Speed: 1.0ms pre-process, 77.4ms inference, 1.0ms postprocess per image at shape (1, 3, 640, 640)\n",
      "\n",
      "0: 384x640 1 car, 80.9ms\n",
      "Speed: 1.5ms pre-process, 80.9ms inference, 1.0ms postprocess per image at shape (1, 3, 640, 640)\n",
      "\n",
      "0: 384x640 1 car, 79.4ms\n"
     ]
    },
    {
     "name": "stdout",
     "output_type": "stream",
     "text": [
      "971 703 Danger! 36\n",
      "970 702 Danger! 36\n"
     ]
    },
    {
     "name": "stderr",
     "output_type": "stream",
     "text": [
      "Speed: 0.0ms pre-process, 79.4ms inference, 1.1ms postprocess per image at shape (1, 3, 640, 640)\n",
      "\n",
      "0: 384x640 1 car, 85.2ms\n",
      "Speed: 1.0ms pre-process, 85.2ms inference, 2.0ms postprocess per image at shape (1, 3, 640, 640)\n",
      "\n"
     ]
    },
    {
     "name": "stdout",
     "output_type": "stream",
     "text": [
      "968 699 Danger! 36\n",
      "964 693 Danger! 36\n"
     ]
    },
    {
     "name": "stderr",
     "output_type": "stream",
     "text": [
      "0: 384x640 1 car, 85.4ms\n",
      "Speed: 1.0ms pre-process, 85.4ms inference, 1.0ms postprocess per image at shape (1, 3, 640, 640)\n",
      "\n",
      "0: 384x640 1 car, 96.0ms\n",
      "Speed: 1.5ms pre-process, 96.0ms inference, 1.0ms postprocess per image at shape (1, 3, 640, 640)\n",
      "\n",
      "0: 384x640 1 car, 83.0ms\n"
     ]
    },
    {
     "name": "stdout",
     "output_type": "stream",
     "text": [
      "963 691 Danger! 36\n",
      "961 688 Danger! 36\n"
     ]
    },
    {
     "name": "stderr",
     "output_type": "stream",
     "text": [
      "Speed: 0.0ms pre-process, 83.0ms inference, 1.0ms postprocess per image at shape (1, 3, 640, 640)\n",
      "\n",
      "0: 384x640 1 car, 79.0ms\n",
      "Speed: 1.0ms pre-process, 79.0ms inference, 1.0ms postprocess per image at shape (1, 3, 640, 640)\n",
      "\n",
      "0: 384x640 1 car, 80.4ms\n"
     ]
    },
    {
     "name": "stdout",
     "output_type": "stream",
     "text": [
      "960 687 Danger! 36\n",
      "959 685 Danger! 36\n"
     ]
    },
    {
     "name": "stderr",
     "output_type": "stream",
     "text": [
      "Speed: 1.0ms pre-process, 80.4ms inference, 1.0ms postprocess per image at shape (1, 3, 640, 640)\n",
      "\n",
      "0: 384x640 2 cars, 79.4ms\n",
      "Speed: 1.0ms pre-process, 79.4ms inference, 1.0ms postprocess per image at shape (1, 3, 640, 640)\n",
      "\n",
      "0: 384x640 2 cars, 78.9ms\n"
     ]
    },
    {
     "name": "stdout",
     "output_type": "stream",
     "text": [
      "958 685 Danger! 36\n",
      "957 682 Danger! 36\n"
     ]
    },
    {
     "name": "stderr",
     "output_type": "stream",
     "text": [
      "Speed: 1.0ms pre-process, 78.9ms inference, 1.0ms postprocess per image at shape (1, 3, 640, 640)\n",
      "\n",
      "0: 384x640 2 cars, 78.5ms\n",
      "Speed: 1.0ms pre-process, 78.5ms inference, 1.0ms postprocess per image at shape (1, 3, 640, 640)\n",
      "\n",
      "0: 384x640 2 cars, 80.7ms\n"
     ]
    },
    {
     "name": "stdout",
     "output_type": "stream",
     "text": [
      "956 680 Danger! 36\n"
     ]
    },
    {
     "name": "stderr",
     "output_type": "stream",
     "text": [
      "Speed: 1.0ms pre-process, 80.7ms inference, 1.0ms postprocess per image at shape (1, 3, 640, 640)\n",
      "\n",
      "0: 384x640 2 cars, 83.2ms\n",
      "Speed: 1.0ms pre-process, 83.2ms inference, 1.0ms postprocess per image at shape (1, 3, 640, 640)\n",
      "\n",
      "0: 384x640 2 cars, 80.6ms\n"
     ]
    },
    {
     "name": "stdout",
     "output_type": "stream",
     "text": [
      "1089 1007 f2 39\n",
      "955 679 Danger! 36\n",
      "1083 1004 f2 39\n",
      "953 676 Danger! 36\n"
     ]
    },
    {
     "name": "stderr",
     "output_type": "stream",
     "text": [
      "Speed: 1.0ms pre-process, 80.6ms inference, 2.0ms postprocess per image at shape (1, 3, 640, 640)\n",
      "\n",
      "0: 384x640 2 cars, 96.8ms\n",
      "Speed: 1.0ms pre-process, 96.8ms inference, 1.0ms postprocess per image at shape (1, 3, 640, 640)\n",
      "\n"
     ]
    },
    {
     "name": "stdout",
     "output_type": "stream",
     "text": [
      "1082 1003 f2 39\n",
      "952 675 Danger! 36\n",
      "1081 1003 f2 39\n"
     ]
    },
    {
     "name": "stderr",
     "output_type": "stream",
     "text": [
      "0: 384x640 1 car, 82.0ms\n",
      "Speed: 1.0ms pre-process, 82.0ms inference, 1.0ms postprocess per image at shape (1, 3, 640, 640)\n",
      "\n",
      "0: 384x640 1 car, 83.0ms\n",
      "Speed: 0.0ms pre-process, 83.0ms inference, 1.0ms postprocess per image at shape (1, 3, 640, 640)\n",
      "\n",
      "0: 384x640 2 cars, 81.0ms\n"
     ]
    },
    {
     "name": "stdout",
     "output_type": "stream",
     "text": [
      "950 670 Danger! 36\n",
      "949 669 Danger! 36\n"
     ]
    },
    {
     "name": "stderr",
     "output_type": "stream",
     "text": [
      "Speed: 0.0ms pre-process, 81.0ms inference, 1.0ms postprocess per image at shape (1, 3, 640, 640)\n",
      "\n",
      "0: 384x640 2 cars, 82.0ms\n",
      "Speed: 1.0ms pre-process, 82.0ms inference, 1.0ms postprocess per image at shape (1, 3, 640, 640)\n",
      "\n",
      "0: 384x640 2 cars, 81.0ms\n"
     ]
    },
    {
     "name": "stdout",
     "output_type": "stream",
     "text": [
      "947 667 Danger! 36\n",
      "945 663 Danger! 36\n"
     ]
    },
    {
     "name": "stderr",
     "output_type": "stream",
     "text": [
      "Speed: 1.3ms pre-process, 81.0ms inference, 1.0ms postprocess per image at shape (1, 3, 640, 640)\n",
      "\n",
      "0: 384x640 2 cars, 1 truck, 83.0ms\n",
      "Speed: 1.0ms pre-process, 83.0ms inference, 0.0ms postprocess per image at shape (1, 3, 640, 640)\n",
      "\n",
      "0: 384x640 2 cars, 1 truck, 79.0ms\n"
     ]
    },
    {
     "name": "stdout",
     "output_type": "stream",
     "text": [
      "1064 978 f2 39\n",
      "944 662 Danger! 36\n",
      "1060 973 f2 39\n",
      "941 659 Danger! 36\n"
     ]
    },
    {
     "name": "stderr",
     "output_type": "stream",
     "text": [
      "Speed: 1.0ms pre-process, 79.0ms inference, 2.0ms postprocess per image at shape (1, 3, 640, 640)\n",
      "\n",
      "0: 384x640 2 cars, 1 truck, 85.0ms\n",
      "Speed: 1.0ms pre-process, 85.0ms inference, 1.0ms postprocess per image at shape (1, 3, 640, 640)\n",
      "\n"
     ]
    },
    {
     "name": "stdout",
     "output_type": "stream",
     "text": [
      "1059 971 f2 39\n",
      "940 658 Danger! 36\n",
      "1058 971 f2 39\n"
     ]
    },
    {
     "name": "stderr",
     "output_type": "stream",
     "text": [
      "0: 384x640 2 cars, 1 truck, 81.9ms\n",
      "Speed: 1.0ms pre-process, 81.9ms inference, 1.0ms postprocess per image at shape (1, 3, 640, 640)\n",
      "\n",
      "0: 384x640 2 cars, 80.8ms\n",
      "Speed: 0.0ms pre-process, 80.8ms inference, 1.0ms postprocess per image at shape (1, 3, 640, 640)\n",
      "\n"
     ]
    },
    {
     "name": "stdout",
     "output_type": "stream",
     "text": [
      "1058 970 f2 39\n",
      "940 658 Danger! 36\n",
      "1049 954 f2 39\n",
      "937 650 Danger! 36\n"
     ]
    },
    {
     "name": "stderr",
     "output_type": "stream",
     "text": [
      "0: 384x640 2 cars, 89.5ms\n",
      "Speed: 1.0ms pre-process, 89.5ms inference, 2.0ms postprocess per image at shape (1, 3, 640, 640)\n",
      "\n",
      "0: 384x640 2 cars, 84.0ms\n",
      "Speed: 1.0ms pre-process, 84.0ms inference, 1.0ms postprocess per image at shape (1, 3, 640, 640)\n",
      "\n",
      "0: 384x640 2 cars, 80.0ms\n"
     ]
    },
    {
     "name": "stdout",
     "output_type": "stream",
     "text": [
      "1046 948 f2 39\n",
      "935 648 Danger! 36\n",
      "1043 944 f2 39\n",
      "933 645 Danger! 36\n"
     ]
    },
    {
     "name": "stderr",
     "output_type": "stream",
     "text": [
      "Speed: 0.0ms pre-process, 80.0ms inference, 1.0ms postprocess per image at shape (1, 3, 640, 640)\n",
      "\n",
      "0: 384x640 2 cars, 1 truck, 81.0ms\n",
      "Speed: 1.5ms pre-process, 81.0ms inference, 1.0ms postprocess per image at shape (1, 3, 640, 640)\n"
     ]
    },
    {
     "name": "stdout",
     "output_type": "stream",
     "text": [
      "1041 942 f2 39\n",
      "933 643 Danger! 36\n",
      "1039 940 f2 39\n",
      "930 637 Danger! 36\n"
     ]
    }
   ],
   "source": [
    "# from ultralytics import YOLO\n",
    "# from IPython.display import display, Image\n",
    "# import cv2\n",
    "# import numpy as np\n",
    "# # from object_detection import ObjectDetection\n",
    "# import math\n",
    "# from sort import *\n",
    "\n",
    "classNames = [\"person\", \"bicycle\", \"car\", \"motorbike\", \"aeroplane\", \"bus\", \"train\", \"truck\", \"boat\",\n",
    "              \"traffic light\", \"fire hydrant\", \"stop sign\"\n",
    "              \n",
    "              ]\n",
    "\n",
    "def dist(P, A, B):\n",
    "    area = abs ( (A[0] - P[0]) * (B[1] - P[1]) - (A[1] - P[1]) * (B[0] - P[0]) )\n",
    "    AB = ( (A[0] - B[0]) ** 2 + (A[1] - B[1]) ** 2 ) ** 0.5\n",
    "    return ( area / AB )\n",
    "\n",
    "f1_A=(583, 530)\n",
    "f1_B=(753, 830) #distance 40\n",
    "\n",
    "f2_A=(723, 523) #id 194\n",
    "f2_B=(925, 800) #id 91 distance 30\n",
    "\n",
    "f3_A=(1,2) #id 60\n",
    "f3_B=(10, 10) #id 30  distance 30\n",
    "\n",
    "f4_A=(1,2) #id 105\n",
    "f4_B=(13, 121)  #id 85  distacne 30\n",
    "\n",
    "f5_A=(13, 15) #id 4\n",
    "f5_B=(112, 113) #id 29 distance 30\n",
    "\n",
    "# Initialize Object Detection\n",
    "# od = ObjectDetection()\n",
    "model = YOLO('yolov8n.pt')\n",
    "cap = cv2.VideoCapture(\"bus.mp4\")\n",
    "\n",
    "frameWidth = int(cap.get(cv2.CAP_PROP_FRAME_WIDTH))\t# 영상의 넓이(가로) 프레임\n",
    "frameHeight = int(cap.get(cv2.CAP_PROP_FRAME_HEIGHT))\t# 영상의 높이(세로) 프레임\n",
    "frame_size = (frameWidth, frameHeight)\n",
    "\n",
    "print(frame_size)\n",
    "# Initialize count\n",
    "count = 0\n",
    "center_points_prev_frame = []\n",
    "\n",
    "danger_car_pt={}\n",
    "danger_car_id=[]\n",
    "tracking_objects = {}\n",
    "track_id = 0\n",
    "tracker = Sort(max_age=10, min_hits=3, iou_threshold=0.3)\n",
    "# mask = cv2.imread(\"bus3_mask.png\")\n",
    "mask = cv2.imread(\"bus_mask.png\")\n",
    "\n",
    "while True:\n",
    "    tracking_objects = {}\n",
    "    retval, frame = cap.read()\n",
    "    imgRegion = cv2.bitwise_and(frame,mask)\n",
    "    count += 1\n",
    "    if not(retval):\n",
    "        break\n",
    "    #그리드 그리기\n",
    "    rows,cols, _ = frame.shape\n",
    "    cell_size =50\n",
    "    \n",
    "    for i in range(0,rows,cell_size):\n",
    "        cv2.line(frame,(0,i),(cols,i),(255,0,0),1)\n",
    "    for j in range(0,cols,cell_size):\n",
    "        cv2.line(frame,(j,0),(j,rows),(255,0,0),1)\n",
    "    # Point current frame\n",
    "    # cv2.circle(frame, (583, 530), 5, (0, 0, 255), -1)\n",
    "    center_points_cur_frame = []\n",
    "\n",
    "    # Detect objects on frame\n",
    "    results = model(imgRegion,stream=True)\n",
    "    detections = np.empty((0,5))\n",
    "    \n",
    "    for r in results:\n",
    "        boxes = r.boxes\n",
    "        for box in boxes:\n",
    "            x1, y1, x2, y2 = box.xyxy[0]\n",
    "            x1, y1, x2, y2 = int(x1), int(y1), int(x2), int(y2)\n",
    "            cx = int((x1+x2) / 2)\n",
    "            cy = int((y1+y2) / 2)\n",
    "            conf = math.ceil((box.conf[0]*100)) / 100\n",
    "            cls = int(box.cls[0])\n",
    "            currentClass = classNames[cls]\n",
    "            #print(\"FRAME N°\", count, \" \", x, y, w, h)\n",
    "            # cv2.circle(frame, (cx, cy), 5, (0, 0, 255), -1)\n",
    "            # if currentClass == \"car\" or currentClass == \"truck\" or currentClass == \"bus\" or currentClass == \"motorbike\" and conf > 0.3  :\n",
    "            if  currentClass == \"bus\"  and conf > 0.3  :\n",
    "                cv2.rectangle(frame, (x1, y1), (x2,y2), (0, 255, 0), 2)\n",
    "                cv2.circle(frame, (cx,cy), 5, (0, 0, 255), -1)\n",
    "                put_text='f3[5] Bus'\n",
    "                cv2.putText(frame,put_text, (cx, cy - 7), 0, 0.8, (0, 0, 255), 2) \n",
    "                # currentArray = np.array([x1,y1,x2,y2,conf])\n",
    "                # detections = np.vstack((detections,currentArray))\n",
    "            if currentClass == \"car\"  or currentClass == \"motorbike\" and conf > 0.5  :\n",
    "                cv2.rectangle(frame, (x1, y1), (x2,y2), (0, 255, 0), 2)\n",
    "                currentArray = np.array([x1,y1,x2,y2,conf])\n",
    "                detections = np.vstack((detections,currentArray))\n",
    "    # Only at the beginning we compare previous and current frame\n",
    "    \n",
    "    \n",
    "    resultsTracker=tracker.update(detections)\n",
    "    \n",
    "    for result in resultsTracker:\n",
    "        x1,y1,x2,y2,Id = result\n",
    "        cx = int((x1+x2) / 2)\n",
    "        cy = int((y1+y2) / 2)\n",
    "        Id = int(Id)\n",
    "        center_points_cur_frame.append((cx,cy,Id))\n",
    "        center_points_cur_frame_copy = center_points_cur_frame.copy()\n",
    "        for pt in center_points_cur_frame_copy:\n",
    "            for pt2 in center_points_prev_frame:\n",
    "                if pt == pt2:\n",
    "                    center_points_cur_frame.remove(pt)\n",
    "\n",
    "        \n",
    "        # print(cx,cy,Id)\n",
    "                \n",
    "    for pt in center_points_cur_frame:\n",
    "        cx=pt[0]; cy=pt[1]; Id=pt[2]; \n",
    "        # print(cx,cy,Id)\n",
    "        if dist((cx,cy), f1_A, f1_B) < 50:\n",
    "            tracking_objects[Id]=(cx,cy,'f1')\n",
    "        \n",
    "        elif dist((cx,cy), f2_A, f2_B) < 30:\n",
    "            tracking_objects[Id]=(cx,cy,'f2')\n",
    "            \n",
    "        # elif dist((cx,cy), f3_A, f3_B) < 30:\n",
    "        #     tracking_objects[Id]=(cx,cy,'f3')\n",
    "        \n",
    "        # elif dist((cx,cy), f4_A, f4_B) < 30:\n",
    "        #     tracking_objects[Id]=(cx,cy,'f4')\n",
    "        \n",
    "        # elif dist((cx,cy), f5_A, f5_B) < 30:\n",
    "        #     tracking_objects[Id]=(cx,cy,'f5')\n",
    "        \n",
    "        else:\n",
    "            tracking_objects[Id]=(cx,cy,'Danger!')\n",
    "            if Id in danger_car_pt:\n",
    "                danger_car_pt[Id] +=1\n",
    "                if danger_car_pt[Id] > 30 and id not in danger_car_id:\n",
    "                    danger_car_id.append(Id)\n",
    "                    \n",
    "            else:\n",
    "                danger_car_pt[Id] = 1\n",
    "                \n",
    "            \n",
    "        \n",
    "            \n",
    "            \n",
    "    for object_id, pt in tracking_objects.items():\n",
    "        print(pt[0],pt[1],pt[2],object_id)\n",
    "        tmp= pt[2]+'['+str(object_id)+']'\n",
    "        cv2.circle(frame, (pt[0],pt[1]), 5, (0, 0, 255), -1)\n",
    "        cv2.putText(frame, tmp, (pt[0], pt[1] - 7), 0, 0.8, (0, 0, 255), 2)\n",
    "        \n",
    "        \n",
    "\n",
    "    \n",
    "                \n",
    "    \n",
    "    \n",
    "\n",
    "    # print(\"Tracking objects\")\n",
    "    # # print(tracking_objects)\n",
    "\n",
    "\n",
    "    # print(\"CUR FRAME LEFT PTS\")\n",
    "    # print(center_points_cur_frame)\n",
    "    \n",
    "#     cv2.circle(frame, (1,1), 5, (0, 0, 255), -1)\n",
    "    cv2.imshow(\"Frame\", frame)\n",
    "    # cv2.imshow(\"ImageFrame\",imgRegion)\n",
    "    # Make a copy of the points\n",
    "    center_points_prev_frame = center_points_cur_frame.copy()\n",
    "    # print(danger_car_id)\n",
    "    # print(danger_car_pt)\n",
    "    key = cv2.waitKey(0)\n",
    "    if key == 27:\n",
    "        break   \n",
    "\n",
    "\n",
    "\n",
    "cap.release()\n",
    "cv2.destroyAllWindows()\n"
   ]
  },
  {
   "cell_type": "code",
   "execution_count": 3,
   "metadata": {},
   "outputs": [],
   "source": [
    "from ultralytics import YOLO\n",
    "from IPython.display import display, Image\n",
    "import cv2\n",
    "import numpy as np\n",
    "# from object_detection import ObjectDetection\n",
    "import math\n",
    "# from sort import *"
   ]
  },
  {
   "cell_type": "code",
   "execution_count": 2,
   "metadata": {},
   "outputs": [],
   "source": [
    "from sort import *\n",
    " "
   ]
  },
  {
   "cell_type": "code",
   "execution_count": 19,
   "metadata": {},
   "outputs": [
    {
     "name": "stderr",
     "output_type": "stream",
     "text": [
      "Ultralytics YOLOv8.0.26  Python-3.10.9 torch-1.11.0+cpu CPU\n"
     ]
    },
    {
     "name": "stdout",
     "output_type": "stream",
     "text": [
      "(920, 488)\n"
     ]
    },
    {
     "name": "stderr",
     "output_type": "stream",
     "text": [
      "YOLOv8n summary (fused): 168 layers, 3151904 parameters, 0 gradients, 8.7 GFLOPs\n",
      "\n",
      "0: 352x640 2 persons, 9 cars, 4 buss, 169.4ms\n",
      "Speed: 1.6ms pre-process, 169.4ms inference, 2.7ms postprocess per image at shape (1, 3, 640, 640)\n",
      "\n",
      "0: 352x640 10 cars, 4 buss, 180.7ms\n",
      "Speed: 0.0ms pre-process, 180.7ms inference, 3.0ms postprocess per image at shape (1, 3, 640, 640)\n",
      "\n",
      "0: 352x640 9 cars, 5 buss, 172.7ms\n",
      "Speed: 1.0ms pre-process, 172.7ms inference, 2.6ms postprocess per image at shape (1, 3, 640, 640)\n",
      "\n",
      "0: 352x640 9 cars, 7 buss, 163.7ms\n",
      "Speed: 1.0ms pre-process, 163.7ms inference, 2.0ms postprocess per image at shape (1, 3, 640, 640)\n",
      "\n",
      "0: 352x640 9 cars, 7 buss, 159.7ms\n",
      "Speed: 1.0ms pre-process, 159.7ms inference, 1.9ms postprocess per image at shape (1, 3, 640, 640)\n",
      "\n",
      "0: 352x640 1 person, 10 cars, 7 buss, 1 truck, 161.7ms\n",
      "Speed: 1.0ms pre-process, 161.7ms inference, 0.9ms postprocess per image at shape (1, 3, 640, 640)\n",
      "\n",
      "0: 352x640 1 person, 10 cars, 6 buss, 156.5ms\n",
      "Speed: 0.9ms pre-process, 156.5ms inference, 2.1ms postprocess per image at shape (1, 3, 640, 640)\n",
      "\n",
      "0: 352x640 1 person, 10 cars, 6 buss, 141.7ms\n",
      "Speed: 0.9ms pre-process, 141.7ms inference, 2.0ms postprocess per image at shape (1, 3, 640, 640)\n",
      "\n",
      "0: 352x640 1 person, 10 cars, 6 buss, 156.5ms\n",
      "Speed: 1.0ms pre-process, 156.5ms inference, 2.0ms postprocess per image at shape (1, 3, 640, 640)\n",
      "\n",
      "0: 352x640 1 person, 8 cars, 5 buss, 140.8ms\n",
      "Speed: 1.0ms pre-process, 140.8ms inference, 2.1ms postprocess per image at shape (1, 3, 640, 640)\n",
      "\n",
      "0: 352x640 9 cars, 6 buss, 159.1ms\n",
      "Speed: 1.0ms pre-process, 159.1ms inference, 2.0ms postprocess per image at shape (1, 3, 640, 640)\n",
      "\n",
      "0: 352x640 8 cars, 5 buss, 148.7ms\n",
      "Speed: 0.9ms pre-process, 148.7ms inference, 2.1ms postprocess per image at shape (1, 3, 640, 640)\n",
      "\n",
      "0: 352x640 5 cars, 6 buss, 150.9ms\n",
      "Speed: 0.0ms pre-process, 150.9ms inference, 2.0ms postprocess per image at shape (1, 3, 640, 640)\n",
      "\n",
      "0: 352x640 6 cars, 5 buss, 145.7ms\n",
      "Speed: 0.9ms pre-process, 145.7ms inference, 1.0ms postprocess per image at shape (1, 3, 640, 640)\n",
      "\n",
      "0: 352x640 6 cars, 4 buss, 165.4ms\n",
      "Speed: 0.9ms pre-process, 165.4ms inference, 2.1ms postprocess per image at shape (1, 3, 640, 640)\n",
      "\n",
      "0: 352x640 6 cars, 4 buss, 156.8ms\n",
      "Speed: 1.1ms pre-process, 156.8ms inference, 3.1ms postprocess per image at shape (1, 3, 640, 640)\n",
      "\n",
      "0: 352x640 6 cars, 4 buss, 139.7ms\n",
      "Speed: 0.9ms pre-process, 139.7ms inference, 3.0ms postprocess per image at shape (1, 3, 640, 640)\n",
      "\n",
      "0: 352x640 6 cars, 4 buss, 146.1ms\n",
      "Speed: 0.9ms pre-process, 146.1ms inference, 1.0ms postprocess per image at shape (1, 3, 640, 640)\n",
      "\n",
      "0: 352x640 8 cars, 5 buss, 175.9ms\n",
      "Speed: 1.0ms pre-process, 175.9ms inference, 2.0ms postprocess per image at shape (1, 3, 640, 640)\n",
      "\n",
      "0: 352x640 7 cars, 6 buss, 166.2ms\n",
      "Speed: 2.0ms pre-process, 166.2ms inference, 2.0ms postprocess per image at shape (1, 3, 640, 640)\n",
      "\n",
      "0: 352x640 1 person, 8 cars, 5 buss, 169.9ms\n",
      "Speed: 0.9ms pre-process, 169.9ms inference, 3.0ms postprocess per image at shape (1, 3, 640, 640)\n",
      "\n",
      "0: 352x640 8 cars, 5 buss, 170.6ms\n",
      "Speed: 0.0ms pre-process, 170.6ms inference, 2.0ms postprocess per image at shape (1, 3, 640, 640)\n",
      "\n",
      "0: 352x640 1 person, 10 cars, 7 buss, 150.9ms\n",
      "Speed: 1.0ms pre-process, 150.9ms inference, 2.2ms postprocess per image at shape (1, 3, 640, 640)\n",
      "\n",
      "0: 352x640 1 person, 11 cars, 7 buss, 151.0ms\n",
      "Speed: 1.0ms pre-process, 151.0ms inference, 2.1ms postprocess per image at shape (1, 3, 640, 640)\n",
      "\n",
      "0: 352x640 1 person, 9 cars, 6 buss, 153.7ms\n",
      "Speed: 1.0ms pre-process, 153.7ms inference, 2.0ms postprocess per image at shape (1, 3, 640, 640)\n",
      "\n",
      "0: 352x640 1 person, 9 cars, 6 buss, 1 truck, 1 traffic light, 169.5ms\n",
      "Speed: 1.0ms pre-process, 169.5ms inference, 2.0ms postprocess per image at shape (1, 3, 640, 640)\n",
      "\n",
      "0: 352x640 9 cars, 6 buss, 1 truck, 1 traffic light, 208.5ms\n",
      "Speed: 1.0ms pre-process, 208.5ms inference, 2.0ms postprocess per image at shape (1, 3, 640, 640)\n",
      "\n",
      "0: 352x640 11 cars, 6 buss, 1 truck, 1 traffic light, 167.8ms\n",
      "Speed: 1.0ms pre-process, 167.8ms inference, 2.9ms postprocess per image at shape (1, 3, 640, 640)\n",
      "\n",
      "0: 352x640 14 cars, 2 buss, 1 truck, 1 traffic light, 168.1ms\n",
      "Speed: 1.1ms pre-process, 168.1ms inference, 2.5ms postprocess per image at shape (1, 3, 640, 640)\n",
      "\n",
      "0: 352x640 13 cars, 4 buss, 1 truck, 1 traffic light, 206.1ms\n",
      "Speed: 1.0ms pre-process, 206.1ms inference, 3.0ms postprocess per image at shape (1, 3, 640, 640)\n",
      "\n",
      "0: 352x640 15 cars, 4 buss, 1 traffic light, 181.3ms\n",
      "Speed: 1.1ms pre-process, 181.3ms inference, 4.0ms postprocess per image at shape (1, 3, 640, 640)\n",
      "\n",
      "0: 352x640 13 cars, 4 buss, 1 truck, 1 traffic light, 198.2ms\n",
      "Speed: 1.0ms pre-process, 198.2ms inference, 2.0ms postprocess per image at shape (1, 3, 640, 640)\n",
      "\n",
      "0: 352x640 13 cars, 2 buss, 1 truck, 1 traffic light, 195.2ms\n",
      "Speed: 2.0ms pre-process, 195.2ms inference, 3.0ms postprocess per image at shape (1, 3, 640, 640)\n",
      "\n",
      "0: 352x640 14 cars, 2 buss, 1 truck, 1 traffic light, 160.2ms\n",
      "Speed: 1.0ms pre-process, 160.2ms inference, 2.0ms postprocess per image at shape (1, 3, 640, 640)\n",
      "\n",
      "0: 352x640 13 cars, 3 buss, 1 truck, 1 traffic light, 151.3ms\n",
      "Speed: 1.0ms pre-process, 151.3ms inference, 2.0ms postprocess per image at shape (1, 3, 640, 640)\n",
      "\n",
      "0: 352x640 10 cars, 4 buss, 1 truck, 1 traffic light, 173.1ms\n",
      "Speed: 1.9ms pre-process, 173.1ms inference, 3.1ms postprocess per image at shape (1, 3, 640, 640)\n",
      "\n",
      "0: 352x640 11 cars, 5 buss, 1 truck, 183.0ms\n",
      "Speed: 1.0ms pre-process, 183.0ms inference, 0.9ms postprocess per image at shape (1, 3, 640, 640)\n",
      "\n",
      "0: 352x640 13 cars, 4 buss, 1 truck, 205.3ms\n",
      "Speed: 1.0ms pre-process, 205.3ms inference, 3.0ms postprocess per image at shape (1, 3, 640, 640)\n",
      "\n",
      "0: 352x640 14 cars, 4 buss, 1 truck, 198.5ms\n",
      "Speed: 1.0ms pre-process, 198.5ms inference, 2.0ms postprocess per image at shape (1, 3, 640, 640)\n",
      "\n",
      "0: 352x640 14 cars, 3 buss, 204.9ms\n",
      "Speed: 1.9ms pre-process, 204.9ms inference, 3.0ms postprocess per image at shape (1, 3, 640, 640)\n",
      "\n",
      "0: 352x640 1 person, 10 cars, 5 buss, 202.3ms\n",
      "Speed: 2.0ms pre-process, 202.3ms inference, 2.9ms postprocess per image at shape (1, 3, 640, 640)\n",
      "\n",
      "0: 352x640 12 cars, 6 buss, 2 trucks, 209.0ms\n",
      "Speed: 1.0ms pre-process, 209.0ms inference, 2.0ms postprocess per image at shape (1, 3, 640, 640)\n",
      "\n",
      "0: 352x640 13 cars, 5 buss, 1 truck, 195.7ms\n",
      "Speed: 1.0ms pre-process, 195.7ms inference, 2.9ms postprocess per image at shape (1, 3, 640, 640)\n",
      "\n",
      "0: 352x640 2 persons, 9 cars, 4 buss, 2 trucks, 190.9ms\n",
      "Speed: 1.9ms pre-process, 190.9ms inference, 2.2ms postprocess per image at shape (1, 3, 640, 640)\n",
      "\n",
      "0: 352x640 11 cars, 3 buss, 1 truck, 199.1ms\n",
      "Speed: 1.0ms pre-process, 199.1ms inference, 3.0ms postprocess per image at shape (1, 3, 640, 640)\n",
      "\n",
      "0: 352x640 12 cars, 3 buss, 2 trucks, 184.9ms\n",
      "Speed: 1.0ms pre-process, 184.9ms inference, 2.0ms postprocess per image at shape (1, 3, 640, 640)\n",
      "\n",
      "0: 352x640 1 person, 11 cars, 5 buss, 1 truck, 191.2ms\n",
      "Speed: 1.0ms pre-process, 191.2ms inference, 3.1ms postprocess per image at shape (1, 3, 640, 640)\n",
      "\n",
      "0: 352x640 8 cars, 5 buss, 2 trucks, 159.7ms\n",
      "Speed: 2.0ms pre-process, 159.7ms inference, 1.0ms postprocess per image at shape (1, 3, 640, 640)\n",
      "\n",
      "0: 352x640 11 cars, 6 buss, 1 truck, 161.6ms\n",
      "Speed: 1.0ms pre-process, 161.6ms inference, 2.4ms postprocess per image at shape (1, 3, 640, 640)\n",
      "\n",
      "0: 352x640 12 cars, 6 buss, 1 truck, 157.6ms\n",
      "Speed: 1.0ms pre-process, 157.6ms inference, 3.1ms postprocess per image at shape (1, 3, 640, 640)\n",
      "\n",
      "0: 352x640 12 cars, 5 buss, 1 truck, 201.4ms\n",
      "Speed: 1.0ms pre-process, 201.4ms inference, 3.3ms postprocess per image at shape (1, 3, 640, 640)\n",
      "\n",
      "0: 352x640 14 cars, 5 buss, 1 truck, 193.3ms\n",
      "Speed: 1.0ms pre-process, 193.3ms inference, 3.0ms postprocess per image at shape (1, 3, 640, 640)\n",
      "\n",
      "0: 352x640 1 person, 12 cars, 4 buss, 1 truck, 154.0ms\n",
      "Speed: 1.0ms pre-process, 154.0ms inference, 2.2ms postprocess per image at shape (1, 3, 640, 640)\n",
      "\n",
      "0: 352x640 1 person, 14 cars, 3 buss, 1 truck, 157.3ms\n",
      "Speed: 1.0ms pre-process, 157.3ms inference, 3.6ms postprocess per image at shape (1, 3, 640, 640)\n",
      "\n",
      "0: 352x640 1 person, 16 cars, 3 buss, 2 trucks, 172.4ms\n",
      "Speed: 2.1ms pre-process, 172.4ms inference, 2.1ms postprocess per image at shape (1, 3, 640, 640)\n",
      "\n",
      "0: 352x640 13 cars, 4 buss, 2 trucks, 206.1ms\n",
      "Speed: 2.0ms pre-process, 206.1ms inference, 4.0ms postprocess per image at shape (1, 3, 640, 640)\n",
      "\n",
      "0: 352x640 1 person, 14 cars, 3 buss, 1 truck, 198.3ms\n",
      "Speed: 2.0ms pre-process, 198.3ms inference, 2.4ms postprocess per image at shape (1, 3, 640, 640)\n",
      "\n",
      "0: 352x640 1 person, 11 cars, 3 buss, 1 truck, 173.5ms\n",
      "Speed: 1.0ms pre-process, 173.5ms inference, 1.7ms postprocess per image at shape (1, 3, 640, 640)\n",
      "\n",
      "0: 352x640 1 person, 11 cars, 5 buss, 1 truck, 157.7ms\n",
      "Speed: 1.0ms pre-process, 157.7ms inference, 1.1ms postprocess per image at shape (1, 3, 640, 640)\n",
      "\n",
      "0: 352x640 2 persons, 14 cars, 4 buss, 1 truck, 200.2ms\n",
      "Speed: 0.0ms pre-process, 200.2ms inference, 2.0ms postprocess per image at shape (1, 3, 640, 640)\n",
      "\n",
      "0: 352x640 2 persons, 12 cars, 5 buss, 161.8ms\n",
      "Speed: 1.0ms pre-process, 161.8ms inference, 2.1ms postprocess per image at shape (1, 3, 640, 640)\n",
      "\n",
      "0: 352x640 2 persons, 12 cars, 4 buss, 180.0ms\n",
      "Speed: 0.9ms pre-process, 180.0ms inference, 2.0ms postprocess per image at shape (1, 3, 640, 640)\n",
      "\n",
      "0: 352x640 2 persons, 15 cars, 4 buss, 145.1ms\n",
      "Speed: 1.0ms pre-process, 145.1ms inference, 2.0ms postprocess per image at shape (1, 3, 640, 640)\n",
      "\n",
      "0: 352x640 2 persons, 13 cars, 4 buss, 131.9ms\n",
      "Speed: 1.0ms pre-process, 131.9ms inference, 1.0ms postprocess per image at shape (1, 3, 640, 640)\n",
      "\n",
      "0: 352x640 2 persons, 12 cars, 3 buss, 1 truck, 151.0ms\n",
      "Speed: 1.0ms pre-process, 151.0ms inference, 1.0ms postprocess per image at shape (1, 3, 640, 640)\n",
      "\n",
      "0: 352x640 2 persons, 11 cars, 3 buss, 1 truck, 153.4ms\n",
      "Speed: 1.0ms pre-process, 153.4ms inference, 1.0ms postprocess per image at shape (1, 3, 640, 640)\n",
      "\n",
      "0: 352x640 2 persons, 12 cars, 3 buss, 1 truck, 138.4ms\n",
      "Speed: 1.1ms pre-process, 138.4ms inference, 3.0ms postprocess per image at shape (1, 3, 640, 640)\n",
      "\n",
      "0: 352x640 2 persons, 13 cars, 3 buss, 144.8ms\n",
      "Speed: 0.9ms pre-process, 144.8ms inference, 2.2ms postprocess per image at shape (1, 3, 640, 640)\n",
      "\n",
      "0: 352x640 1 person, 13 cars, 3 buss, 1 truck, 151.3ms\n",
      "Speed: 0.0ms pre-process, 151.3ms inference, 0.0ms postprocess per image at shape (1, 3, 640, 640)\n",
      "\n",
      "0: 352x640 2 persons, 12 cars, 2 buss, 1 truck, 159.6ms\n",
      "Speed: 1.0ms pre-process, 159.6ms inference, 2.0ms postprocess per image at shape (1, 3, 640, 640)\n",
      "\n",
      "0: 352x640 2 persons, 12 cars, 2 buss, 1 truck, 133.3ms\n",
      "Speed: 1.0ms pre-process, 133.3ms inference, 2.1ms postprocess per image at shape (1, 3, 640, 640)\n"
     ]
    }
   ],
   "source": [
    "# from ultralytics import YOLO\n",
    "# from IPython.display import display, Image\n",
    "# import cv2\n",
    "# import numpy as np\n",
    "# # from object_detection import ObjectDetection\n",
    "# import math\n",
    "# from sort import *\n",
    "\n",
    "classNames = [\"person\", \"bicycle\", \"car\", \"motorbike\", \"aeroplane\", \"bus\", \"train\", \"truck\", \"boat\",\n",
    "              \"traffic light\", \"fire hydrant\", \"stop sign\", \"parking meter\", \"bench\", \"bird\", \"cat\",\n",
    "              \"dog\", \"horse\", \"sheep\", \"cow\", \"elephant\", \"bear\", \"zebra\", \"giraffe\", \"backpack\", \"umbrella\",\n",
    "              \"handbag\", \"tie\", \"suitcase\", \"frisbee\", \"skis\", \"snowboard\", \"sports ball\", \"kite\", \"baseball bat\",\n",
    "              \"baseball glove\", \"skateboard\", \"surfboard\", \"tennis racket\", \"bottle\", \"wine glass\", \"cup\",\n",
    "              \"fork\", \"knife\", \"spoon\", \"bowl\", \"banana\", \"apple\", \"sandwich\", \"orange\", \"broccoli\",\n",
    "              \"carrot\", \"hot dog\", \"pizza\", \"donut\", \"cake\", \"chair\", \"sofa\", \"pottedplant\", \"bed\",\n",
    "              \"diningtable\", \"toilet\", \"tvmonitor\", \"laptop\", \"mouse\", \"remote\", \"keyboard\", \"cell phone\",\n",
    "              \"microwave\", \"oven\", \"toaster\", \"sink\", \"refrigerator\", \"book\", \"clock\", \"vase\", \"scissors\",\n",
    "              \"teddy bear\", \"hair drier\", \"toothbrush\"\n",
    "              ]\n",
    "\n",
    "def dist(P, A, B):\n",
    "    area = abs ( (A[0] - P[0]) * (B[1] - P[1]) - (A[1] - P[1]) * (B[0] - P[0]) )\n",
    "    AB = ( (A[0] - B[0]) ** 2 + (A[1] - B[1]) ** 2 ) ** 0.5\n",
    "    return ( area / AB )\n",
    "\n",
    "f1_A=(388,821)\n",
    "f1_B=(661,404) #distance 40\n",
    "\n",
    "f2_A=(582, 876) #id 194\n",
    "f2_B=(703, 415) #id 91 distance 30\n",
    "\n",
    "f3_A=(782, 865) #id 60\n",
    "f3_B=(743, 417) #id 30  distance 30\n",
    "\n",
    "f4_A=(999, 866) #id 105\n",
    "f4_B=(789, 417)  #id 85  distacne 30\n",
    "\n",
    "f5_A=(1183, 850) #id 4\n",
    "f5_B=(846, 429) #id 29 distance 30\n",
    "\n",
    "# Initialize Object Detection\n",
    "# od = ObjectDetection()\n",
    "model = YOLO('yolov8n.pt')\n",
    "cap = cv2.VideoCapture(\"2.mp4\")\n",
    "\n",
    "frameWidth = int(cap.get(cv2.CAP_PROP_FRAME_WIDTH))\t# 영상의 넓이(가로) 프레임\n",
    "frameHeight = int(cap.get(cv2.CAP_PROP_FRAME_HEIGHT))\t# 영상의 높이(세로) 프레임\n",
    "frame_size = (frameWidth, frameHeight)\n",
    "\n",
    "print(frame_size)\n",
    "# Initialize count\n",
    "count = 0\n",
    "center_points_prev_frame = []\n",
    "\n",
    "danger_car_id=[]\n",
    "\n",
    "tracking_objects = {}\n",
    "track_id = 0\n",
    "\n",
    "tracker = Sort(max_age=10, min_hits=3, iou_threshold=0.3)\n",
    "mask = cv2.imread(\"mask.png\")\n",
    "\n",
    "while True:\n",
    "    retval, frame = cap.read()\n",
    "    # imgRegion = cv2.bitwise_and(frame,mask)\n",
    "    count += 1\n",
    "    if not(retval):\n",
    "        break\n",
    "\n",
    "    # Point current frame\n",
    "    center_points_cur_frame = []\n",
    "\n",
    "    # Detect objects on frame\n",
    "    results = model(frame,stream=True)\n",
    "    detections = np.empty((0,5))\n",
    "    \n",
    "    for r in results:\n",
    "        boxes = r.boxes\n",
    "        for box in boxes:\n",
    "            x1, y1, x2, y2 = box.xyxy[0]\n",
    "            x1, y1, x2, y2 = int(x1), int(y1), int(x2), int(y2)\n",
    "            cx = int((x1+x2) / 2)\n",
    "            cy = int((y1+y2) / 2)\n",
    "            center_points_cur_frame.append((cx, cy, 'Danger!'))\n",
    "            conf = math.ceil((box.conf[0]*100)) / 100\n",
    "            cls = int(box.cls[0])\n",
    "            currentClass = classNames[cls]\n",
    "            #print(\"FRAME N°\", count, \" \", x, y, w, h)\n",
    "            # cv2.circle(frame, (cx, cy), 5, (0, 0, 255), -1)\n",
    "            if currentClass == \"car\" or currentClass == \"truck\" or currentClass == \"bus\" \\\n",
    "                    or currentClass == \"motorbike\" or currentClass == \"person\" and conf > 0.3:\n",
    "                cv2.rectangle(frame, (x1, y1), (x2,y2), (0, 255, 0), 2) \n",
    "                currentArray = np.array([x1,y1,x2,y2,conf])\n",
    "                detections = np.vstack((detections,currentArray))\n",
    "\n",
    "    # Only at the beginning we compare previous and current frame\n",
    "    \n",
    "\n",
    "    resultsTracker=tracker.update(detections)\n",
    "    \n",
    "    for result in resultsTracker:\n",
    "        x1,y1,x2,y2,Id = result\n",
    "        cx = int((x1+x2) / 2)\n",
    "        cy = int((y1+y2) / 2)\n",
    "        Id = int(Id)\n",
    "        # print(cx,cy,Id)\n",
    "                \n",
    "    # for object_id, pt in tracking_objects.items():\n",
    "        # if dist((cx,cy), f1_A, f1_B) < 30:\n",
    "        #     tracking_objects[Id]=(cx,cy,'f1')\n",
    "        \n",
    "        # elif dist((cx,cy), f2_A, f2_B) < 30:\n",
    "        #     tracking_objects[Id]=(cx,cy,'f2')\n",
    "            \n",
    "        # elif dist((cx,cy), f3_A, f3_B) < 30:\n",
    "        #     tracking_objects[Id]=(cx,cy,'f3')\n",
    "        \n",
    "        # elif dist((cx,cy), f4_A, f4_B) < 30:\n",
    "        #     tracking_objects[Id]=(cx,cy,'f4')\n",
    "        \n",
    "        # elif dist((cx,cy), f5_A, f5_B) < 30:\n",
    "        #     tracking_objects[Id]=(cx,cy,'f5')\n",
    "        \n",
    "        # else:\n",
    "        #     tracking_objects[Id]=(cx,cy,'Danger!')\n",
    "        \n",
    "            \n",
    "            \n",
    "    # for object_id, pt in tracking_objects.items():\n",
    "    #     tmp= pt[2]+'['+str(object_id)+']'\n",
    "    #     cv2.circle(frame, (pt[0],pt[1]), 5, (0, 0, 255), -1)\n",
    "    #     cv2.putText(frame, tmp, (pt[0], pt[1] - 7), 0, 0.8, (0, 0, 255), 2)\n",
    "        \n",
    "    #     if (pt[2]=='Danger!'):\n",
    "    #         danger_car_id.append(object_id)\n",
    "            \n",
    "                \n",
    "    \n",
    "    \n",
    "\n",
    "    # print(\"Tracking objects\")\n",
    "    # # print(tracking_objects)\n",
    "\n",
    "\n",
    "    # print(\"CUR FRAME LEFT PTS\")\n",
    "    # print(center_points_cur_frame)\n",
    "    \n",
    "#     cv2.circle(frame, (1,1), 5, (0, 0, 255), -1)\n",
    "    cv2.imshow(\"Frame\", frame)\n",
    "    # cv2.imshow(\"ImageFrame\",imgRegion)\n",
    "    # Make a copy of the points\n",
    "    center_points_prev_frame = center_points_cur_frame.copy()\n",
    "\n",
    "    key = cv2.waitKey(0)\n",
    "    if key == 27:\n",
    "        break\n",
    "\n",
    "\n",
    "\n",
    "cap.release()\n",
    "cv2.destroyAllWindows()\n"
   ]
  }
 ],
 "metadata": {
  "kernelspec": {
   "display_name": "base",
   "language": "python",
   "name": "python3"
  },
  "language_info": {
   "codemirror_mode": {
    "name": "ipython",
    "version": 3
   },
   "file_extension": ".py",
   "mimetype": "text/x-python",
   "name": "python",
   "nbconvert_exporter": "python",
   "pygments_lexer": "ipython3",
   "version": "3.10.9"
  }
 },
 "nbformat": 4,
 "nbformat_minor": 2
}
