{
 "cells": [
  {
   "cell_type": "code",
   "execution_count": 9,
   "id": "89977bdc",
   "metadata": {},
   "outputs": [
    {
     "name": "stderr",
     "output_type": "stream",
     "text": [
      "Ultralytics YOLOv8.0.26  Python-3.10.9 torch-1.11.0+cpu CPU\n",
      "YOLOv8n summary (fused): 168 layers, 3151904 parameters, 0 gradients, 8.7 GFLOPs\n",
      "\n"
     ]
    },
    {
     "name": "stdout",
     "output_type": "stream",
     "text": [
      "(1920, 1080)\n"
     ]
    },
    {
     "name": "stderr",
     "output_type": "stream",
     "text": [
      "0: 384x640 16 cars, 115.8ms\n",
      "Speed: 0.8ms pre-process, 115.8ms inference, 0.0ms postprocess per image at shape (1, 3, 640, 640)\n"
     ]
    },
    {
     "name": "stdout",
     "output_type": "stream",
     "text": [
      "Tracking objects\n",
      "{}\n",
      "CUR FRAME LEFT PTS\n",
      "[(931, 536, 'Danger!'), (1021, 651, 'Danger!'), (763, 650, 'Danger!'), (1336, 979, 'Danger!'), (613, 477, 'Danger!'), (688, 454, 'Danger!'), (1271, 435, 'Danger!'), (440, 741, 'Danger!'), (569, 892, 'Danger!'), (882, 476, 'Danger!'), (943, 461, 'Danger!'), (859, 566, 'Danger!'), (754, 462, 'Danger!'), (1761, 636, 'Danger!'), (1116, 432, 'Danger!'), (844, 423, 'Danger!')]\n"
     ]
    },
    {
     "name": "stderr",
     "output_type": "stream",
     "text": [
      "\n",
      "0: 384x640 17 cars, 97.5ms\n",
      "Speed: 0.0ms pre-process, 97.5ms inference, 9.6ms postprocess per image at shape (1, 3, 640, 640)\n"
     ]
    },
    {
     "name": "stdout",
     "output_type": "stream",
     "text": [
      "Tracking objects\n",
      "{0: (932, 537, 'f5'), 1: (763, 654, 'f3'), 2: (1021, 654, 'f5'), 3: (612, 478, 'f1'), 4: (1345, 983, 'Danger!'), 5: (687, 455, 'f2'), 6: (944, 460, 'Danger!'), 7: (884, 475, 'f5'), 8: (435, 749, 'f1'), 9: (860, 568, 'f4'), 10: (567, 906, 'f2'), 11: (1265, 434, 'Danger!'), 12: (755, 463, 'f3'), 13: (1770, 631, 'Danger!'), 14: (1113, 432, 'Danger!'), 15: (845, 424, 'f5')}\n",
      "CUR FRAME LEFT PTS\n",
      "[(932, 537, 'Danger!'), (763, 654, 'Danger!'), (1021, 654, 'Danger!'), (612, 478, 'Danger!'), (1345, 983, 'Danger!'), (687, 455, 'Danger!'), (944, 460, 'Danger!'), (884, 475, 'Danger!'), (435, 749, 'Danger!'), (860, 568, 'Danger!'), (567, 906, 'Danger!'), (1265, 434, 'Danger!'), (755, 463, 'Danger!'), (1770, 631, 'Danger!'), (1730, 625, 'Danger!'), (1113, 432, 'Danger!'), (845, 424, 'Danger!')]\n"
     ]
    },
    {
     "name": "stderr",
     "output_type": "stream",
     "text": [
      "\n",
      "0: 384x640 16 cars, 123.5ms\n",
      "Speed: 0.0ms pre-process, 123.5ms inference, 0.0ms postprocess per image at shape (1, 3, 640, 640)\n"
     ]
    },
    {
     "name": "stdout",
     "output_type": "stream",
     "text": [
      "Tracking objects\n",
      "{0: (932, 538, 'f5'), 1: (764, 660, 'f3'), 2: (1027, 656, 'f5'), 3: (612, 479, 'f1'), 4: (1354, 988, 'Danger!'), 5: (687, 457, 'f2'), 6: (946, 463, 'Danger!'), 7: (885, 476, 'f5'), 8: (431, 756, 'f1'), 9: (862, 572, 'f4'), 10: (563, 920, 'f2'), 11: (1261, 433, 'Danger!'), 12: (755, 467, 'f3'), 14: (1110, 431, 'Danger!'), 16: (1741, 623, 'Danger!'), 17: (1413, 463, 'Danger!')}\n",
      "CUR FRAME LEFT PTS\n",
      "[(1741, 623, 'Danger!'), (1413, 463, 'Danger!')]\n"
     ]
    },
    {
     "name": "stderr",
     "output_type": "stream",
     "text": [
      "\n",
      "0: 384x640 18 cars, 1 truck, 96.2ms\n",
      "Speed: 15.0ms pre-process, 96.2ms inference, 0.0ms postprocess per image at shape (1, 3, 640, 640)\n"
     ]
    },
    {
     "name": "stdout",
     "output_type": "stream",
     "text": [
      "Tracking objects\n",
      "{0: (933, 539, 'f5'), 1: (763, 665, 'f3'), 2: (1027, 657, 'f5'), 3: (610, 479, 'f1'), 4: (1364, 993, 'Danger!'), 5: (687, 457, 'f2'), 6: (948, 463, 'Danger!'), 7: (886, 477, 'f5'), 8: (426, 764, 'f1'), 9: (862, 575, 'f4'), 10: (558, 936, 'f2'), 11: (1256, 433, 'Danger!'), 12: (755, 468, 'f3'), 14: (1107, 428, 'Danger!'), 17: (1405, 459, 'Danger!'), 18: (1847, 577, 'Danger!'), 19: (1680, 609, 'Danger!'), 20: (1693, 613, 'Danger!'), 21: (1846, 576, 'Danger!')}\n",
      "CUR FRAME LEFT PTS\n",
      "[(1847, 577, 'Danger!'), (1680, 609, 'Danger!'), (1693, 613, 'Danger!'), (1846, 576, 'Danger!')]\n"
     ]
    },
    {
     "name": "stderr",
     "output_type": "stream",
     "text": [
      "\n",
      "0: 384x640 16 cars, 91.1ms\n",
      "Speed: 0.0ms pre-process, 91.1ms inference, 0.0ms postprocess per image at shape (1, 3, 640, 640)\n"
     ]
    },
    {
     "name": "stdout",
     "output_type": "stream",
     "text": [
      "Tracking objects\n",
      "{0: (935, 542, 'f5'), 1: (765, 676, 'f3'), 2: (1034, 663, 'f5'), 3: (610, 482, 'f1'), 4: (1377, 1002, 'Danger!'), 5: (688, 460, 'f2'), 6: (953, 466, 'Danger!'), 7: (886, 477, 'f5'), 8: (414, 779, 'f1'), 9: (867, 581, 'f4'), 11: (1250, 432, 'Danger!'), 12: (755, 470, 'f3'), 17: (1389, 457, 'Danger!'), 19: (1669, 602, 'Danger!'), 22: (549, 964, 'f2'), 23: (1893, 616, 'Danger!')}\n",
      "CUR FRAME LEFT PTS\n",
      "[(549, 964, 'Danger!'), (1893, 616, 'Danger!')]\n"
     ]
    },
    {
     "name": "stderr",
     "output_type": "stream",
     "text": [
      "\n",
      "0: 384x640 19 cars, 1 bus, 106.5ms\n",
      "Speed: 14.5ms pre-process, 106.5ms inference, 8.1ms postprocess per image at shape (1, 3, 640, 640)\n"
     ]
    },
    {
     "name": "stdout",
     "output_type": "stream",
     "text": [
      "Tracking objects\n",
      "{0: (935, 542, 'f5'), 1: (766, 683, 'f3'), 2: (1037, 668, 'f5'), 3: (608, 483, 'f1'), 4: (1386, 1007, 'Danger!'), 5: (686, 460, 'f2'), 6: (955, 467, 'Danger!'), 7: (889, 479, 'f5'), 8: (411, 789, 'f1'), 9: (868, 585, 'f4'), 11: (1247, 430, 'Danger!'), 12: (755, 471, 'f3'), 17: (1398, 457, 'Danger!'), 22: (547, 972, 'f2'), 23: (1879, 611, 'Danger!'), 24: (1648, 591, 'Danger!'), 25: (1091, 423, 'Danger!')}\n",
      "CUR FRAME LEFT PTS\n",
      "[(1648, 591, 'Danger!'), (1091, 423, 'Danger!')]\n"
     ]
    },
    {
     "name": "stderr",
     "output_type": "stream",
     "text": [
      "\n",
      "0: 384x640 17 cars, 1 truck, 108.7ms\n",
      "Speed: 1.0ms pre-process, 108.7ms inference, 0.0ms postprocess per image at shape (1, 3, 640, 640)\n"
     ]
    },
    {
     "name": "stdout",
     "output_type": "stream",
     "text": [
      "Tracking objects\n",
      "{0: (936, 544, 'f5'), 1: (765, 688, 'f3'), 2: (1038, 671, 'f5'), 3: (607, 485, 'f1'), 4: (1399, 1013, 'Danger!'), 5: (687, 462, 'f2'), 6: (959, 472, 'Danger!'), 7: (890, 481, 'f5'), 8: (404, 796, 'f1'), 9: (868, 587, 'f4'), 11: (1240, 428, 'Danger!'), 12: (756, 472, 'f3'), 17: (1379, 455, 'Danger!'), 22: (543, 979, 'f2'), 26: (1620, 582, 'Danger!'), 27: (848, 427, 'f5'), 28: (1593, 577, 'Danger!'), 29: (1772, 556, 'Danger!')}\n",
      "CUR FRAME LEFT PTS\n",
      "[(1620, 582, 'Danger!'), (848, 427, 'Danger!'), (1593, 577, 'Danger!'), (1772, 556, 'Danger!')]\n"
     ]
    },
    {
     "name": "stderr",
     "output_type": "stream",
     "text": [
      "\n",
      "0: 384x640 17 cars, 1 truck, 98.3ms\n",
      "Speed: 0.0ms pre-process, 98.3ms inference, 0.0ms postprocess per image at shape (1, 3, 640, 640)\n"
     ]
    },
    {
     "name": "stdout",
     "output_type": "stream",
     "text": [
      "Tracking objects\n",
      "{0: (937, 547, 'f5'), 1: (768, 693, 'f3'), 2: (1040, 673, 'f5'), 3: (608, 485, 'f1'), 4: (1406, 1019, 'Danger!'), 5: (688, 463, 'f2'), 6: (964, 475, 'Danger!'), 7: (889, 480, 'f5'), 8: (402, 804, 'f1'), 9: (871, 592, 'f4'), 11: (1236, 427, 'Danger!'), 12: (757, 474, 'f3'), 17: (1376, 452, 'Danger!'), 22: (543, 970, 'f2'), 26: (1606, 581, 'Danger!'), 27: (850, 429, 'f5'), 28: (1606, 581, 'Danger!'), 29: (1755, 549, 'Danger!'), 30: (1561, 569, 'Danger!')}\n",
      "CUR FRAME LEFT PTS\n",
      "[(1561, 569, 'Danger!')]\n"
     ]
    },
    {
     "name": "stderr",
     "output_type": "stream",
     "text": [
      "\n",
      "0: 384x640 19 cars, 1 truck, 101.2ms\n",
      "Speed: 7.0ms pre-process, 101.2ms inference, 0.0ms postprocess per image at shape (1, 3, 640, 640)\n"
     ]
    },
    {
     "name": "stdout",
     "output_type": "stream",
     "text": [
      "Tracking objects\n",
      "{0: (942, 550, 'f5'), 1: (769, 710, 'f3'), 2: (1043, 679, 'f5'), 3: (607, 488, 'f1'), 4: (1419, 1029, 'Danger!'), 5: (688, 464, 'f2'), 6: (966, 478, 'Danger!'), 7: (891, 482, 'f5'), 9: (873, 597, 'f4'), 11: (1229, 425, 'Danger!'), 12: (756, 476, 'f3'), 17: (1362, 446, 'Danger!'), 27: (850, 431, 'f5'), 30: (1571, 568, 'Danger!'), 31: (538, 996, 'f2'), 32: (387, 822, 'f1'), 33: (1889, 603, 'Danger!'), 34: (387, 823, 'f1'), 35: (1700, 540, 'Danger!'), 36: (1811, 590, 'Danger!')}\n",
      "CUR FRAME LEFT PTS\n",
      "[(538, 996, 'Danger!'), (387, 822, 'Danger!'), (1889, 603, 'Danger!'), (387, 823, 'Danger!'), (1700, 540, 'Danger!'), (1811, 590, 'Danger!')]\n"
     ]
    },
    {
     "name": "stderr",
     "output_type": "stream",
     "text": [
      "\n",
      "0: 384x640 17 cars, 1 truck, 91.3ms\n",
      "Speed: 0.0ms pre-process, 91.3ms inference, 0.0ms postprocess per image at shape (1, 3, 640, 640)\n"
     ]
    },
    {
     "name": "stdout",
     "output_type": "stream",
     "text": [
      "Tracking objects\n",
      "{0: (942, 553, 'f5'), 1: (770, 714, 'f3'), 2: (1049, 681, 'f5'), 3: (606, 489, 'f1'), 4: (1424, 1037, 'Danger!'), 5: (688, 465, 'f2'), 6: (970, 479, 'Danger!'), 7: (891, 483, 'f5'), 9: (876, 602, 'f4'), 11: (1225, 423, 'Danger!'), 12: (757, 477, 'f3'), 17: (1356, 446, 'Danger!'), 27: (849, 431, 'f5'), 31: (534, 1007, 'f2'), 32: (383, 832, 'f1'), 34: (383, 832, 'f1'), 37: (1546, 559, 'Danger!'), 38: (1850, 599, 'Danger!'), 39: (1524, 556, 'Danger!')}\n",
      "CUR FRAME LEFT PTS\n",
      "[(1546, 559, 'Danger!'), (1850, 599, 'Danger!'), (1524, 556, 'Danger!')]\n"
     ]
    },
    {
     "name": "stderr",
     "output_type": "stream",
     "text": [
      "\n",
      "0: 384x640 15 cars, 1 truck, 133.7ms\n",
      "Speed: 2.0ms pre-process, 133.7ms inference, 0.0ms postprocess per image at shape (1, 3, 640, 640)\n",
      "\n"
     ]
    },
    {
     "name": "stdout",
     "output_type": "stream",
     "text": [
      "Tracking objects\n",
      "{0: (943, 552, 'f5'), 1: (771, 725, 'f3'), 2: (1049, 688, 'f5'), 3: (605, 491, 'f1'), 4: (1430, 1043, 'Danger!'), 5: (687, 465, 'f2'), 6: (973, 484, 'Danger!'), 7: (890, 483, 'f5'), 9: (878, 606, 'f4'), 11: (1221, 422, 'Danger!'), 12: (757, 478, 'f3'), 27: (851, 431, 'f5'), 31: (533, 1014, 'f2'), 32: (378, 841, 'f1'), 34: (378, 841, 'f1'), 37: (1535, 556, 'Danger!'), 39: (1535, 556, 'Danger!'), 40: (1830, 592, 'Danger!')}\n",
      "CUR FRAME LEFT PTS\n",
      "[(1830, 592, 'Danger!')]\n"
     ]
    },
    {
     "name": "stderr",
     "output_type": "stream",
     "text": [
      "0: 384x640 18 cars, 1 truck, 140.8ms\n",
      "Speed: 3.7ms pre-process, 140.8ms inference, 3.6ms postprocess per image at shape (1, 3, 640, 640)\n"
     ]
    },
    {
     "name": "stdout",
     "output_type": "stream",
     "text": [
      "Tracking objects\n",
      "{0: (945, 554, 'f5'), 1: (771, 731, 'f3'), 2: (1051, 690, 'f5'), 3: (604, 492, 'f1'), 5: (686, 469, 'f2'), 6: (975, 485, 'Danger!'), 7: (891, 484, 'f5'), 9: (879, 607, 'f4'), 11: (1214, 421, 'Danger!'), 12: (758, 479, 'f3'), 27: (851, 432, 'f5'), 31: (532, 1021, 'f2'), 32: (369, 852, 'f1'), 34: (369, 852, 'f1'), 37: (1522, 548, 'Danger!'), 39: (1522, 548, 'Danger!'), 41: (1804, 583, 'Danger!'), 42: (1488, 545, 'Danger!'), 43: (801, 448, 'f4'), 44: (1792, 583, 'Danger!')}\n",
      "CUR FRAME LEFT PTS\n",
      "[(1804, 583, 'Danger!'), (1488, 545, 'Danger!'), (801, 448, 'Danger!'), (1792, 583, 'Danger!')]\n"
     ]
    },
    {
     "name": "stderr",
     "output_type": "stream",
     "text": [
      "\n",
      "0: 384x640 18 cars, 1 truck, 101.4ms\n",
      "Speed: 0.0ms pre-process, 101.4ms inference, 0.0ms postprocess per image at shape (1, 3, 640, 640)\n"
     ]
    },
    {
     "name": "stdout",
     "output_type": "stream",
     "text": [
      "Tracking objects\n",
      "{0: (946, 555, 'f5'), 1: (773, 748, 'f3'), 2: (1062, 698, 'f5'), 3: (603, 495, 'f1'), 5: (687, 466, 'f2'), 6: (986, 491, 'Danger!'), 7: (892, 484, 'f5'), 9: (882, 616, 'f4'), 11: (1208, 420, 'Danger!'), 12: (757, 481, 'f3'), 27: (852, 434, 'f5'), 31: (527, 1040, 'f2'), 42: (1490, 540, 'Danger!'), 45: (355, 873, 'f1'), 46: (1065, 412, 'Danger!'), 47: (353, 874, 'f1'), 48: (1636, 518, 'Danger!'), 49: (636, 448, 'f1')}\n",
      "CUR FRAME LEFT PTS\n",
      "[(355, 873, 'Danger!'), (1065, 412, 'Danger!'), (353, 874, 'Danger!'), (1636, 518, 'Danger!'), (636, 448, 'Danger!')]\n"
     ]
    },
    {
     "name": "stderr",
     "output_type": "stream",
     "text": [
      "\n",
      "0: 384x640 19 cars, 98.7ms\n",
      "Speed: 1.5ms pre-process, 98.7ms inference, 2.0ms postprocess per image at shape (1, 3, 640, 640)\n",
      "\n"
     ]
    },
    {
     "name": "stdout",
     "output_type": "stream",
     "text": [
      "Tracking objects\n",
      "{0: (947, 554, 'f5'), 1: (773, 752, 'f3'), 2: (1067, 700, 'f5'), 3: (601, 496, 'f1'), 5: (684, 469, 'f2'), 6: (984, 488, 'Danger!'), 7: (892, 485, 'f5'), 9: (884, 618, 'f4'), 11: (1206, 418, 'Danger!'), 12: (756, 483, 'f3'), 27: (853, 436, 'f5'), 31: (526, 1047, 'f2'), 45: (348, 884, 'f1'), 46: (1062, 412, 'Danger!'), 47: (348, 884, 'f1'), 50: (1449, 530, 'Danger!'), 51: (1471, 533, 'Danger!'), 52: (801, 449, 'f4'), 53: (1737, 566, 'Danger!')}\n",
      "CUR FRAME LEFT PTS\n",
      "[(1449, 530, 'Danger!'), (1471, 533, 'Danger!'), (801, 449, 'Danger!'), (1737, 566, 'Danger!')]\n"
     ]
    },
    {
     "name": "stderr",
     "output_type": "stream",
     "text": [
      "0: 384x640 17 cars, 1 truck, 109.3ms\n",
      "Speed: 0.0ms pre-process, 109.3ms inference, 4.7ms postprocess per image at shape (1, 3, 640, 640)\n",
      "\n"
     ]
    },
    {
     "name": "stdout",
     "output_type": "stream",
     "text": [
      "Tracking objects\n",
      "{0: (950, 556, 'f5'), 1: (773, 761, 'f3'), 2: (1065, 703, 'f5'), 3: (602, 497, 'f1'), 5: (683, 471, 'f2'), 6: (990, 494, 'Danger!'), 7: (893, 486, 'f5'), 9: (885, 620, 'f4'), 11: (1203, 418, 'Danger!'), 12: (757, 485, 'f3'), 27: (853, 434, 'f5'), 31: (524, 1059, 'f2'), 45: (341, 896, 'f1'), 47: (341, 896, 'f1'), 50: (1440, 529, 'Danger!'), 51: (1461, 529, 'Danger!'), 52: (802, 451, 'f4'), 54: (632, 449, 'f1')}\n",
      "CUR FRAME LEFT PTS\n",
      "[(632, 449, 'Danger!')]\n"
     ]
    },
    {
     "name": "stderr",
     "output_type": "stream",
     "text": [
      "0: 384x640 17 cars, 93.2ms\n",
      "Speed: 0.0ms pre-process, 93.2ms inference, 0.0ms postprocess per image at shape (1, 3, 640, 640)\n",
      "\n"
     ]
    },
    {
     "name": "stdout",
     "output_type": "stream",
     "text": [
      "Tracking objects\n",
      "{0: (949, 559, 'f5'), 1: (776, 772, 'f3'), 2: (1069, 706, 'f5'), 3: (599, 499, 'f1'), 5: (684, 472, 'f2'), 6: (992, 497, 'Danger!'), 7: (893, 487, 'f5'), 9: (887, 628, 'f4'), 11: (1199, 416, 'Danger!'), 12: (757, 484, 'f3'), 27: (854, 436, 'f5'), 45: (333, 907, 'f1'), 47: (333, 907, 'f1'), 50: (1448, 527, 'Danger!'), 51: (1448, 527, 'Danger!'), 52: (803, 451, 'f4'), 54: (633, 450, 'f1'), 55: (1690, 555, 'Danger!'), 56: (1699, 555, 'Danger!')}\n",
      "CUR FRAME LEFT PTS\n",
      "[(1690, 555, 'Danger!'), (1699, 555, 'Danger!')]\n"
     ]
    },
    {
     "name": "stderr",
     "output_type": "stream",
     "text": [
      "0: 384x640 14 cars, 103.2ms\n",
      "Speed: 13.5ms pre-process, 103.2ms inference, 0.0ms postprocess per image at shape (1, 3, 640, 640)\n",
      "\n"
     ]
    },
    {
     "name": "stdout",
     "output_type": "stream",
     "text": [
      "Tracking objects\n",
      "{0: (952, 561, 'f5'), 1: (776, 787, 'f3'), 2: (1073, 713, 'f5'), 3: (599, 503, 'f1'), 5: (683, 476, 'f2'), 6: (998, 502, 'Danger!'), 7: (894, 488, 'f5'), 9: (893, 635, 'f4'), 12: (758, 487, 'f3'), 27: (856, 437, 'f5'), 52: (804, 455, 'f4'), 57: (314, 935, 'f1'), 58: (1404, 516, 'Danger!'), 59: (1424, 518, 'Danger!')}\n",
      "CUR FRAME LEFT PTS\n",
      "[(314, 935, 'Danger!'), (1404, 516, 'Danger!'), (1424, 518, 'Danger!')]\n"
     ]
    },
    {
     "name": "stderr",
     "output_type": "stream",
     "text": [
      "0: 384x640 15 cars, 117.7ms\n",
      "Speed: 0.0ms pre-process, 117.7ms inference, 12.9ms postprocess per image at shape (1, 3, 640, 640)\n",
      "\n",
      "0: 384x640 16 cars, 1 truck, 93.6ms\n"
     ]
    },
    {
     "name": "stdout",
     "output_type": "stream",
     "text": [
      "Tracking objects\n",
      "{0: (953, 563, 'f5'), 1: (778, 799, 'f3'), 2: (1076, 719, 'f5'), 3: (597, 504, 'f1'), 5: (684, 478, 'f2'), 6: (1002, 503, 'Danger!'), 7: (895, 490, 'f5'), 9: (894, 637, 'f4'), 12: (758, 487, 'f3'), 52: (804, 455, 'f4'), 57: (306, 946, 'f1'), 58: (1397, 512, 'Danger!'), 60: (1187, 414, 'Danger!'), 61: (632, 454, 'f1'), 62: (1044, 399, 'Danger!')}\n",
      "CUR FRAME LEFT PTS\n",
      "[(1187, 414, 'Danger!'), (632, 454, 'Danger!'), (1044, 399, 'Danger!')]\n"
     ]
    },
    {
     "name": "stderr",
     "output_type": "stream",
     "text": [
      "Speed: 0.0ms pre-process, 93.6ms inference, 0.0ms postprocess per image at shape (1, 3, 640, 640)\n",
      "\n"
     ]
    },
    {
     "name": "stdout",
     "output_type": "stream",
     "text": [
      "Tracking objects\n",
      "{0: (954, 564, 'f5'), 1: (777, 809, 'f3'), 2: (1078, 721, 'f5'), 3: (595, 504, 'f1'), 5: (683, 479, 'f2'), 6: (1005, 507, 'Danger!'), 7: (895, 490, 'f5'), 9: (896, 640, 'f4'), 12: (759, 488, 'f3'), 57: (300, 960, 'f1'), 58: (1380, 506, 'Danger!'), 60: (1184, 414, 'Danger!'), 61: (632, 454, 'f1'), 62: (1043, 400, 'Danger!'), 63: (857, 439, 'f5')}\n",
      "CUR FRAME LEFT PTS\n",
      "[(857, 439, 'Danger!')]\n"
     ]
    },
    {
     "name": "stderr",
     "output_type": "stream",
     "text": [
      "0: 384x640 16 cars, 132.0ms\n",
      "Speed: 0.0ms pre-process, 132.0ms inference, 14.0ms postprocess per image at shape (1, 3, 640, 640)\n",
      "\n",
      "0: 384x640 14 cars, 1 truck, 125.0ms\n",
      "Speed: 0.0ms pre-process, 125.0ms inference, 0.0ms postprocess per image at shape (1, 3, 640, 640)\n"
     ]
    },
    {
     "name": "stdout",
     "output_type": "stream",
     "text": [
      "Tracking objects\n",
      "{0: (955, 565, 'f5'), 1: (779, 819, 'f3'), 2: (1082, 725, 'f5'), 3: (594, 507, 'f1'), 5: (683, 480, 'f2'), 6: (1008, 509, 'Danger!'), 7: (897, 491, 'f5'), 9: (897, 644, 'f4'), 12: (759, 489, 'f3'), 57: (285, 970, 'f1'), 58: (1375, 504, 'Danger!'), 60: (1184, 413, 'Danger!'), 61: (630, 457, 'f1'), 62: (1040, 400, 'Danger!'), 63: (858, 438, 'f5'), 64: (805, 458, 'f4')}\n",
      "CUR FRAME LEFT PTS\n",
      "[(805, 458, 'Danger!')]\n",
      "Tracking objects\n",
      "{0: (956, 568, 'f5'), 2: (1091, 733, 'f5'), 3: (593, 510, 'f1'), 5: (682, 482, 'f2'), 6: (1014, 515, 'Danger!'), 7: (898, 495, 'f5'), 9: (900, 658, 'f4'), 12: (759, 494, 'f3'), 58: (1365, 499, 'Danger!'), 60: (1178, 412, 'Danger!'), 61: (630, 459, 'f1'), 65: (269, 983, 'f1'), 66: (782, 842, 'f3'), 67: (781, 841, 'f3'), 68: (1542, 504, 'Danger!')}\n",
      "CUR FRAME LEFT PTS\n",
      "[(269, 983, 'Danger!'), (782, 842, 'Danger!'), (781, 841, 'Danger!'), (1542, 504, 'Danger!')]\n"
     ]
    },
    {
     "name": "stderr",
     "output_type": "stream",
     "text": [
      "\n",
      "0: 384x640 16 cars, 1 truck, 114.9ms\n",
      "Speed: 0.0ms pre-process, 114.9ms inference, 13.5ms postprocess per image at shape (1, 3, 640, 640)\n",
      "\n",
      "0: 384x640 16 cars, 97.5ms\n",
      "Speed: 0.0ms pre-process, 97.5ms inference, 0.0ms postprocess per image at shape (1, 3, 640, 640)\n"
     ]
    },
    {
     "name": "stdout",
     "output_type": "stream",
     "text": [
      "Tracking objects\n",
      "{0: (957, 570, 'f5'), 2: (1091, 738, 'f5'), 3: (592, 512, 'f1'), 5: (681, 486, 'f2'), 6: (1019, 518, 'Danger!'), 7: (899, 495, 'f5'), 9: (903, 662, 'f4'), 12: (759, 494, 'f3'), 58: (1356, 494, 'Danger!'), 60: (1173, 411, 'Danger!'), 61: (629, 461, 'f1'), 65: (261, 987, 'f1'), 66: (782, 854, 'f3'), 67: (782, 854, 'f3'), 68: (1528, 501, 'Danger!'), 69: (783, 862, 'f3'), 70: (808, 459, 'f4'), 71: (859, 441, 'f5')}\n",
      "CUR FRAME LEFT PTS\n",
      "[(783, 862, 'Danger!'), (808, 459, 'Danger!'), (859, 441, 'Danger!')]\n",
      "Tracking objects\n",
      "{0: (960, 570, 'f5'), 2: (1095, 741, 'f5'), 3: (591, 514, 'f1'), 5: (681, 486, 'f2'), 6: (1024, 519, 'Danger!'), 7: (900, 496, 'f5'), 9: (907, 667, 'f4'), 12: (760, 496, 'f3'), 58: (1339, 492, 'Danger!'), 61: (629, 461, 'f1'), 65: (256, 994, 'f1'), 68: (1521, 491, 'Danger!'), 69: (783, 875, 'f3'), 71: (860, 441, 'f5')}\n",
      "CUR FRAME LEFT PTS\n",
      "[]\n"
     ]
    },
    {
     "name": "stderr",
     "output_type": "stream",
     "text": [
      "\n",
      "0: 384x640 16 cars, 1 truck, 123.7ms\n",
      "Speed: 1.0ms pre-process, 123.7ms inference, 5.3ms postprocess per image at shape (1, 3, 640, 640)\n",
      "\n",
      "0: 384x640 15 cars, 1 truck, 115.5ms\n"
     ]
    },
    {
     "name": "stdout",
     "output_type": "stream",
     "text": [
      "Tracking objects\n",
      "{0: (963, 572, 'f5'), 2: (1099, 747, 'f5'), 3: (590, 515, 'f1'), 5: (681, 489, 'f2'), 6: (1027, 522, 'Danger!'), 7: (900, 496, 'f5'), 9: (908, 672, 'f4'), 12: (759, 497, 'f3'), 58: (1330, 488, 'Danger!'), 61: (629, 462, 'f1'), 65: (248, 1002, 'f1'), 68: (1506, 493, 'Danger!'), 69: (783, 883, 'f3'), 71: (861, 441, 'f5'), 72: (809, 462, 'f4'), 73: (1167, 409, 'Danger!')}\n",
      "CUR FRAME LEFT PTS\n",
      "[(809, 462, 'Danger!'), (1167, 409, 'Danger!')]\n"
     ]
    },
    {
     "name": "stderr",
     "output_type": "stream",
     "text": [
      "Speed: 2.1ms pre-process, 115.5ms inference, 2.4ms postprocess per image at shape (1, 3, 640, 640)\n",
      "\n",
      "0: 384x640 15 cars, 1 truck, 100.0ms\n"
     ]
    },
    {
     "name": "stdout",
     "output_type": "stream",
     "text": [
      "Tracking objects\n",
      "{0: (965, 575, 'f5'), 2: (1106, 756, 'f5'), 3: (585, 525, 'f1'), 5: (680, 490, 'f2'), 6: (1036, 530, 'Danger!'), 7: (900, 497, 'f5'), 9: (912, 681, 'f4'), 12: (759, 501, 'f3'), 61: (628, 464, 'f1'), 68: (1489, 488, 'Danger!'), 71: (861, 441, 'f5'), 73: (1165, 405, 'Danger!'), 74: (236, 1018, 'f1'), 75: (787, 909, 'f3'), 76: (787, 909, 'f3'), 77: (1309, 481, 'Danger!')}\n",
      "CUR FRAME LEFT PTS\n",
      "[(236, 1018, 'Danger!'), (787, 909, 'Danger!'), (787, 909, 'Danger!'), (1309, 481, 'Danger!')]\n"
     ]
    },
    {
     "name": "stderr",
     "output_type": "stream",
     "text": [
      "Speed: 14.0ms pre-process, 100.0ms inference, 0.0ms postprocess per image at shape (1, 3, 640, 640)\n",
      "\n"
     ]
    },
    {
     "name": "stdout",
     "output_type": "stream",
     "text": [
      "Tracking objects\n",
      "{0: (966, 577, 'f5'), 2: (1112, 761, 'f5'), 3: (586, 523, 'f1'), 5: (679, 491, 'f2'), 6: (1041, 535, 'Danger!'), 7: (902, 498, 'f5'), 9: (917, 689, 'f4'), 12: (760, 503, 'f3'), 61: (629, 465, 'f1'), 68: (1474, 486, 'Danger!'), 71: (863, 442, 'f5'), 73: (1161, 405, 'Danger!'), 74: (228, 1025, 'f1'), 75: (788, 925, 'f3'), 76: (788, 925, 'f3'), 77: (1305, 479, 'Danger!')}\n",
      "CUR FRAME LEFT PTS\n",
      "[]\n"
     ]
    },
    {
     "name": "stderr",
     "output_type": "stream",
     "text": [
      "0: 384x640 18 cars, 1 truck, 150.7ms\n",
      "Speed: 0.0ms pre-process, 150.7ms inference, 0.0ms postprocess per image at shape (1, 3, 640, 640)\n",
      "\n",
      "0: 384x640 16 cars, 2 trucks, 111.7ms\n",
      "Speed: 0.0ms pre-process, 111.7ms inference, 0.0ms postprocess per image at shape (1, 3, 640, 640)\n"
     ]
    },
    {
     "name": "stdout",
     "output_type": "stream",
     "text": [
      "Tracking objects\n",
      "{0: (967, 577, 'f5'), 2: (1116, 767, 'f5'), 3: (584, 527, 'f1'), 5: (680, 493, 'f2'), 6: (1047, 539, 'Danger!'), 7: (903, 499, 'f5'), 9: (919, 692, 'f4'), 12: (760, 503, 'f3'), 61: (627, 465, 'f1'), 68: (1463, 484, 'Danger!'), 71: (864, 445, 'f5'), 73: (1160, 404, 'Danger!'), 74: (219, 1034, 'f1'), 75: (790, 942, 'f3'), 76: (790, 942, 'f3'), 77: (1290, 476, 'Danger!'), 78: (923, 711, 'f4'), 79: (703, 408, 'f2')}\n",
      "CUR FRAME LEFT PTS\n",
      "[(923, 711, 'Danger!'), (703, 408, 'Danger!')]\n",
      "Tracking objects\n",
      "{0: (971, 579, 'f5'), 2: (1120, 770, 'f5'), 3: (583, 527, 'f1'), 5: (680, 495, 'f2'), 6: (1050, 542, 'Danger!'), 7: (904, 499, 'f5'), 9: (925, 702, 'f4'), 12: (760, 504, 'f3'), 61: (627, 466, 'f1'), 68: (1451, 482, 'Danger!'), 71: (865, 446, 'f5'), 73: (1161, 404, 'Danger!'), 75: (792, 955, 'f3'), 76: (792, 955, 'f3'), 77: (1283, 475, 'Danger!'), 78: (925, 702, 'f4'), 79: (703, 410, 'f2'), 80: (1836, 629, 'Danger!')}\n",
      "CUR FRAME LEFT PTS\n",
      "[(1836, 629, 'Danger!')]\n"
     ]
    },
    {
     "name": "stderr",
     "output_type": "stream",
     "text": [
      "\n",
      "0: 384x640 14 cars, 1 truck, 127.7ms\n",
      "Speed: 0.0ms pre-process, 127.7ms inference, 0.0ms postprocess per image at shape (1, 3, 640, 640)\n",
      "\n"
     ]
    },
    {
     "name": "stdout",
     "output_type": "stream",
     "text": [
      "Tracking objects\n",
      "{0: (972, 581, 'f5'), 2: (1128, 780, 'f5'), 3: (580, 531, 'f1'), 5: (679, 500, 'f2'), 6: (1059, 547, 'Danger!'), 7: (906, 502, 'f5'), 9: (929, 711, 'f4'), 12: (762, 508, 'f3'), 61: (627, 468, 'f1'), 68: (1438, 478, 'Danger!'), 73: (1152, 403, 'Danger!'), 77: (1277, 470, 'Danger!'), 78: (929, 711, 'f4'), 79: (705, 411, 'f2'), 81: (793, 982, 'f3'), 82: (1792, 616, 'Danger!')}\n",
      "CUR FRAME LEFT PTS\n",
      "[(793, 982, 'Danger!'), (1792, 616, 'Danger!')]\n"
     ]
    },
    {
     "name": "stderr",
     "output_type": "stream",
     "text": [
      "0: 384x640 15 cars, 1 truck, 155.0ms\n",
      "Speed: 0.0ms pre-process, 155.0ms inference, 0.0ms postprocess per image at shape (1, 3, 640, 640)\n",
      "\n",
      "0: 384x640 15 cars, 2 trucks, 123.2ms\n",
      "Speed: 0.0ms pre-process, 123.2ms inference, 0.6ms postprocess per image at shape (1, 3, 640, 640)\n"
     ]
    },
    {
     "name": "stdout",
     "output_type": "stream",
     "text": [
      "Tracking objects\n",
      "{0: (973, 583, 'f5'), 2: (1133, 784, 'f5'), 3: (578, 532, 'f1'), 5: (679, 502, 'f2'), 6: (1065, 551, 'Danger!'), 7: (907, 503, 'f5'), 9: (931, 717, 'f4'), 12: (762, 508, 'f3'), 61: (627, 468, 'f1'), 68: (1427, 476, 'Danger!'), 78: (931, 717, 'f4'), 79: (702, 410, 'f2'), 81: (793, 965, 'f3'), 83: (866, 444, 'f5'), 84: (812, 469, 'f4'), 85: (1769, 605, 'Danger!')}\n",
      "CUR FRAME LEFT PTS\n",
      "[(866, 444, 'Danger!'), (812, 469, 'Danger!'), (1769, 605, 'Danger!')]\n",
      "Tracking objects\n",
      "{0: (973, 585, 'f5'), 2: (1138, 789, 'f5'), 3: (578, 533, 'f1'), 5: (679, 504, 'f2'), 6: (1068, 556, 'Danger!'), 7: (907, 504, 'f5'), 9: (934, 726, 'f4'), 12: (763, 512, 'f3'), 61: (627, 469, 'f1'), 68: (1415, 472, 'Danger!'), 78: (934, 726, 'f4'), 79: (704, 412, 'f2'), 81: (793, 982, 'f3'), 83: (868, 447, 'f5'), 84: (814, 471, 'f4'), 86: (1732, 599, 'Danger!'), 87: (1255, 465, 'Danger!')}\n",
      "CUR FRAME LEFT PTS\n",
      "[(1732, 599, 'Danger!'), (1255, 465, 'Danger!')]\n"
     ]
    },
    {
     "name": "stderr",
     "output_type": "stream",
     "text": [
      "\n",
      "0: 384x640 16 cars, 2 trucks, 120.2ms\n",
      "Speed: 6.3ms pre-process, 120.2ms inference, 8.4ms postprocess per image at shape (1, 3, 640, 640)\n"
     ]
    },
    {
     "name": "stdout",
     "output_type": "stream",
     "text": [
      "Tracking objects\n",
      "{0: (977, 587, 'f5'), 2: (1139, 795, 'f5'), 3: (578, 535, 'f1'), 5: (679, 505, 'f2'), 6: (1076, 561, 'Danger!'), 7: (908, 504, 'f5'), 9: (937, 732, 'f4'), 12: (764, 512, 'f3'), 61: (626, 471, 'f1'), 68: (1397, 471, 'Danger!'), 78: (937, 732, 'f4'), 79: (705, 413, 'f2'), 81: (795, 1001, 'f3'), 83: (867, 448, 'f5'), 84: (814, 471, 'f4'), 86: (1717, 592, 'Danger!'), 87: (1249, 463, 'Danger!')}\n",
      "CUR FRAME LEFT PTS\n",
      "[]\n"
     ]
    },
    {
     "name": "stderr",
     "output_type": "stream",
     "text": [
      "\n",
      "0: 384x640 13 cars, 1 truck, 96.1ms\n",
      "Speed: 0.9ms pre-process, 96.1ms inference, 0.0ms postprocess per image at shape (1, 3, 640, 640)\n",
      "\n",
      "0: 384x640 14 cars, 1 truck, 84.8ms\n"
     ]
    },
    {
     "name": "stdout",
     "output_type": "stream",
     "text": [
      "Tracking objects\n",
      "{0: (976, 589, 'f5'), 2: (1150, 806, 'f5'), 3: (574, 545, 'f1'), 5: (678, 509, 'f2'), 6: (1080, 567, 'Danger!'), 7: (913, 507, 'f5'), 9: (943, 749, 'f4'), 12: (763, 516, 'f3'), 61: (624, 474, 'f1'), 68: (1394, 466, 'Danger!'), 78: (943, 749, 'f4'), 83: (871, 449, 'f5'), 84: (817, 474, 'f4'), 88: (1674, 576, 'Danger!')}\n",
      "CUR FRAME LEFT PTS\n",
      "[(1674, 576, 'Danger!')]\n"
     ]
    },
    {
     "name": "stderr",
     "output_type": "stream",
     "text": [
      "Speed: 15.6ms pre-process, 84.8ms inference, 0.0ms postprocess per image at shape (1, 3, 640, 640)\n",
      "\n",
      "0: 384x640 15 cars, 1 truck, 123.5ms\n"
     ]
    },
    {
     "name": "stdout",
     "output_type": "stream",
     "text": [
      "Tracking objects\n",
      "{0: (978, 591, 'f5'), 2: (1153, 812, 'f5'), 3: (573, 543, 'f1'), 5: (677, 509, 'f2'), 6: (1091, 572, 'Danger!'), 7: (913, 507, 'f5'), 9: (948, 753, 'f4'), 12: (762, 516, 'f3'), 61: (624, 474, 'f1'), 68: (1383, 464, 'Danger!'), 78: (948, 753, 'f4'), 83: (870, 450, 'f5'), 84: (815, 475, 'f4'), 89: (1642, 569, 'Danger!'), 90: (1234, 455, 'Danger!')}\n",
      "CUR FRAME LEFT PTS\n",
      "[(1642, 569, 'Danger!'), (1234, 455, 'Danger!')]\n"
     ]
    },
    {
     "name": "stderr",
     "output_type": "stream",
     "text": [
      "Speed: 0.0ms pre-process, 123.5ms inference, 9.0ms postprocess per image at shape (1, 3, 640, 640)\n",
      "\n",
      "0: 384x640 13 cars, 1 truck, 81.1ms\n"
     ]
    },
    {
     "name": "stdout",
     "output_type": "stream",
     "text": [
      "Tracking objects\n",
      "{0: (979, 593, 'f5'), 2: (1157, 818, 'f5'), 3: (571, 548, 'f1'), 5: (677, 510, 'f2'), 6: (1094, 577, 'Danger!'), 7: (913, 507, 'f5'), 9: (951, 760, 'f4'), 12: (763, 518, 'f3'), 61: (624, 477, 'f1'), 68: (1378, 463, 'Danger!'), 78: (951, 760, 'f4'), 83: (870, 450, 'f5'), 84: (817, 476, 'f4'), 89: (1629, 563, 'Danger!'), 90: (1222, 452, 'Danger!')}\n",
      "CUR FRAME LEFT PTS\n",
      "[]\n"
     ]
    },
    {
     "name": "stderr",
     "output_type": "stream",
     "text": [
      "Speed: 1.0ms pre-process, 81.1ms inference, 0.0ms postprocess per image at shape (1, 3, 640, 640)\n",
      "\n"
     ]
    },
    {
     "name": "stdout",
     "output_type": "stream",
     "text": [
      "Tracking objects\n",
      "{0: (984, 595, 'f5'), 2: (1162, 823, 'f5'), 3: (571, 548, 'f1'), 5: (676, 514, 'f2'), 6: (1100, 582, 'Danger!'), 7: (914, 509, 'f5'), 9: (953, 767, 'f4'), 12: (764, 519, 'f3'), 61: (623, 480, 'f1'), 68: (1362, 462, 'Danger!'), 78: (953, 767, 'f4'), 83: (871, 451, 'f5'), 84: (818, 478, 'f4'), 91: (708, 415, 'f2')}\n",
      "CUR FRAME LEFT PTS\n",
      "[(708, 415, 'Danger!')]\n"
     ]
    },
    {
     "name": "stderr",
     "output_type": "stream",
     "text": [
      "0: 384x640 12 cars, 1 truck, 86.6ms\n",
      "Speed: 0.0ms pre-process, 86.6ms inference, 0.0ms postprocess per image at shape (1, 3, 640, 640)\n",
      "\n"
     ]
    },
    {
     "name": "stdout",
     "output_type": "stream",
     "text": [
      "Tracking objects\n",
      "{0: (985, 597, 'f5'), 2: (1172, 837, 'f5'), 3: (567, 551, 'f1'), 5: (675, 516, 'f2'), 6: (1115, 594, 'Danger!'), 7: (915, 510, 'f5'), 12: (764, 523, 'f3'), 61: (622, 482, 'f1'), 83: (872, 453, 'f5'), 84: (819, 480, 'f4'), 92: (1581, 546, 'Danger!'), 93: (961, 786, 'f4'), 94: (960, 788, 'f4')}\n",
      "CUR FRAME LEFT PTS\n",
      "[(1581, 546, 'Danger!'), (961, 786, 'Danger!'), (960, 788, 'Danger!')]\n"
     ]
    },
    {
     "name": "stderr",
     "output_type": "stream",
     "text": [
      "0: 384x640 13 cars, 1 truck, 103.3ms\n",
      "Speed: 0.0ms pre-process, 103.3ms inference, 0.0ms postprocess per image at shape (1, 3, 640, 640)\n"
     ]
    },
    {
     "name": "stdout",
     "output_type": "stream",
     "text": [
      "Tracking objects\n",
      "{0: (986, 599, 'f5'), 2: (1178, 842, 'f5'), 3: (567, 556, 'f1'), 5: (676, 518, 'f2'), 6: (1121, 597, 'Danger!'), 7: (915, 511, 'f5'), 12: (765, 525, 'f3'), 61: (619, 482, 'f1'), 83: (871, 455, 'f5'), 84: (820, 482, 'f4'), 92: (1565, 542, 'Danger!'), 93: (966, 796, 'f4'), 94: (966, 796, 'f4'), 95: (1371, 456, 'Danger!')}\n",
      "CUR FRAME LEFT PTS\n",
      "[(1371, 456, 'Danger!')]\n"
     ]
    },
    {
     "name": "stderr",
     "output_type": "stream",
     "text": [
      "\n",
      "0: 384x640 13 cars, 1 truck, 115.8ms\n",
      "Speed: 1.0ms pre-process, 115.8ms inference, 0.0ms postprocess per image at shape (1, 3, 640, 640)\n",
      "\n"
     ]
    },
    {
     "name": "stdout",
     "output_type": "stream",
     "text": [
      "Tracking objects\n",
      "{0: (988, 601, 'f5'), 2: (1183, 846, 'f5'), 3: (567, 558, 'f1'), 5: (674, 521, 'f2'), 6: (1125, 601, 'Danger!'), 7: (916, 513, 'f5'), 12: (765, 528, 'f3'), 61: (619, 485, 'f1'), 83: (872, 455, 'f5'), 84: (819, 481, 'f4'), 93: (969, 804, 'f4'), 94: (969, 804, 'f4'), 95: (1371, 453, 'Danger!'), 96: (1542, 538, 'Danger!')}\n",
      "CUR FRAME LEFT PTS\n",
      "[(1542, 538, 'Danger!')]\n"
     ]
    },
    {
     "name": "stderr",
     "output_type": "stream",
     "text": [
      "0: 384x640 14 cars, 118.3ms\n",
      "Speed: 0.0ms pre-process, 118.3ms inference, 0.0ms postprocess per image at shape (1, 3, 640, 640)\n",
      "\n"
     ]
    },
    {
     "name": "stdout",
     "output_type": "stream",
     "text": [
      "Tracking objects\n",
      "{0: (990, 603, 'f5'), 2: (1190, 854, 'f5'), 3: (565, 560, 'f1'), 5: (674, 521, 'f2'), 6: (1137, 613, 'Danger!'), 7: (917, 514, 'f5'), 12: (764, 530, 'f3'), 61: (619, 485, 'f1'), 83: (874, 456, 'f5'), 84: (821, 482, 'f4'), 93: (974, 814, 'f4'), 94: (974, 814, 'f4'), 95: (1357, 452, 'Danger!'), 96: (1530, 533, 'Danger!')}\n",
      "CUR FRAME LEFT PTS\n",
      "[]\n"
     ]
    },
    {
     "name": "stderr",
     "output_type": "stream",
     "text": [
      "0: 384x640 12 cars, 1 truck, 125.7ms\n",
      "Speed: 0.0ms pre-process, 125.7ms inference, 0.0ms postprocess per image at shape (1, 3, 640, 640)\n",
      "\n",
      "0: 384x640 13 cars, 1 truck, 129.3ms\n",
      "Speed: 1.2ms pre-process, 129.3ms inference, 0.0ms postprocess per image at shape (1, 3, 640, 640)\n"
     ]
    },
    {
     "name": "stdout",
     "output_type": "stream",
     "text": [
      "Tracking objects\n",
      "{0: (993, 606, 'f5'), 2: (1202, 869, 'f5'), 3: (562, 567, 'f1'), 5: (674, 527, 'f2'), 6: (1150, 624, 'Danger!'), 7: (917, 515, 'f5'), 12: (765, 532, 'f3'), 61: (621, 488, 'f1'), 83: (876, 456, 'f5'), 84: (822, 484, 'f4'), 97: (986, 832, 'f4'), 98: (1503, 522, 'Danger!'), 99: (986, 834, 'f4')}\n",
      "CUR FRAME LEFT PTS\n",
      "[(986, 832, 'Danger!'), (1503, 522, 'Danger!'), (986, 834, 'Danger!')]\n",
      "Tracking objects\n",
      "{0: (994, 609, 'f5'), 2: (1207, 873, 'f5'), 3: (559, 570, 'f1'), 5: (673, 529, 'f2'), 6: (1161, 630, 'Danger!'), 7: (918, 516, 'f5'), 12: (765, 535, 'f3'), 61: (619, 487, 'f1'), 83: (876, 457, 'f5'), 84: (823, 485, 'f4'), 97: (989, 844, 'f4'), 98: (1513, 520, 'Danger!'), 99: (989, 844, 'f4'), 100: (702, 423, 'f2')}\n",
      "CUR FRAME LEFT PTS\n",
      "[(702, 423, 'Danger!')]\n"
     ]
    },
    {
     "name": "stderr",
     "output_type": "stream",
     "text": [
      "\n",
      "0: 384x640 13 cars, 1 truck, 140.7ms\n",
      "Speed: 1.0ms pre-process, 140.7ms inference, 1.7ms postprocess per image at shape (1, 3, 640, 640)\n",
      "\n"
     ]
    },
    {
     "name": "stdout",
     "output_type": "stream",
     "text": [
      "Tracking objects\n",
      "{0: (996, 608, 'f5'), 2: (1214, 882, 'f5'), 3: (560, 571, 'f1'), 5: (673, 530, 'f2'), 6: (1170, 639, 'Danger!'), 7: (918, 517, 'f5'), 12: (765, 537, 'f3'), 61: (617, 489, 'f1'), 83: (878, 459, 'f5'), 84: (822, 485, 'f4'), 97: (995, 856, 'f4'), 99: (995, 856, 'f4'), 100: (702, 423, 'f2'), 101: (1476, 515, 'Danger!'), 102: (1325, 444, 'Danger!')}\n",
      "CUR FRAME LEFT PTS\n",
      "[(1476, 515, 'Danger!'), (1325, 444, 'Danger!')]\n"
     ]
    },
    {
     "name": "stderr",
     "output_type": "stream",
     "text": [
      "0: 384x640 12 cars, 1 truck, 132.3ms\n",
      "Speed: 0.0ms pre-process, 132.3ms inference, 2.0ms postprocess per image at shape (1, 3, 640, 640)\n",
      "\n"
     ]
    },
    {
     "name": "stdout",
     "output_type": "stream",
     "text": [
      "Tracking objects\n",
      "{0: (997, 611, 'f5'), 2: (1217, 888, 'f5'), 3: (556, 575, 'f1'), 5: (673, 534, 'f2'), 6: (1182, 650, 'Danger!'), 7: (919, 517, 'f5'), 12: (765, 537, 'f3'), 61: (617, 494, 'f1'), 83: (879, 459, 'f5'), 84: (824, 487, 'f4'), 97: (1000, 867, 'f4'), 99: (1000, 867, 'f4'), 103: (1167, 434, 'Danger!')}\n",
      "CUR FRAME LEFT PTS\n",
      "[(1167, 434, 'Danger!')]\n"
     ]
    },
    {
     "name": "stderr",
     "output_type": "stream",
     "text": [
      "0: 384x640 15 cars, 1 truck, 117.3ms\n",
      "Speed: 1.3ms pre-process, 117.3ms inference, 1.0ms postprocess per image at shape (1, 3, 640, 640)\n",
      "\n",
      "0: 384x640 16 cars, 1 truck, 99.8ms\n"
     ]
    },
    {
     "name": "stdout",
     "output_type": "stream",
     "text": [
      "Tracking objects\n",
      "{0: (1002, 615, 'f5'), 3: (552, 580, 'f1'), 5: (671, 537, 'f2'), 6: (1197, 662, 'Danger!'), 7: (921, 520, 'f5'), 12: (765, 544, 'f3'), 61: (615, 496, 'f1'), 83: (880, 460, 'f5'), 84: (825, 489, 'f4'), 103: (1156, 434, 'Danger!'), 104: (1232, 904, 'f5'), 105: (1441, 503, 'Danger!'), 106: (701, 425, 'f2'), 107: (1011, 893, 'f4'), 108: (1011, 892, 'f4'), 109: (752, 447, 'f3')}\n",
      "CUR FRAME LEFT PTS\n",
      "[(1232, 904, 'Danger!'), (1441, 503, 'Danger!'), (701, 425, 'Danger!'), (1011, 893, 'Danger!'), (1011, 892, 'Danger!'), (752, 447, 'Danger!')]\n"
     ]
    },
    {
     "name": "stderr",
     "output_type": "stream",
     "text": [
      "Speed: 1.0ms pre-process, 99.8ms inference, 1.5ms postprocess per image at shape (1, 3, 640, 640)\n",
      "\n",
      "0: 384x640 16 cars, 1 truck, 101.6ms\n"
     ]
    },
    {
     "name": "stdout",
     "output_type": "stream",
     "text": [
      "Tracking objects\n",
      "{0: (1002, 619, 'f5'), 3: (550, 581, 'f1'), 5: (671, 538, 'f2'), 6: (1208, 669, 'Danger!'), 7: (922, 521, 'f5'), 12: (766, 544, 'f3'), 61: (613, 496, 'f1'), 83: (880, 460, 'f5'), 84: (825, 490, 'f4'), 104: (1236, 912, 'f5'), 105: (1429, 500, 'Danger!'), 106: (702, 426, 'f2'), 107: (1019, 905, 'f4'), 108: (1019, 905, 'f4'), 109: (750, 449, 'f3'), 110: (656, 424, 'f1')}\n",
      "CUR FRAME LEFT PTS\n",
      "[(656, 424, 'Danger!')]\n"
     ]
    },
    {
     "name": "stderr",
     "output_type": "stream",
     "text": [
      "Speed: 1.0ms pre-process, 101.6ms inference, 1.5ms postprocess per image at shape (1, 3, 640, 640)\n",
      "\n"
     ]
    },
    {
     "name": "stdout",
     "output_type": "stream",
     "text": [
      "Tracking objects\n",
      "{0: (1004, 620, 'f5'), 3: (549, 583, 'f1'), 5: (671, 544, 'f2'), 6: (1219, 675, 'Danger!'), 7: (922, 522, 'f5'), 12: (766, 546, 'f3'), 61: (614, 496, 'f1'), 83: (880, 461, 'f5'), 84: (825, 492, 'f4'), 104: (1246, 918, 'f5'), 106: (702, 426, 'f2'), 107: (1026, 923, 'f4'), 108: (1026, 923, 'f4'), 109: (751, 447, 'f3'), 110: (656, 425, 'f1'), 111: (1878, 617, 'Danger!'), 112: (1409, 498, 'Danger!')}\n",
      "CUR FRAME LEFT PTS\n",
      "[(1878, 617, 'Danger!'), (1409, 498, 'Danger!')]\n"
     ]
    },
    {
     "name": "stderr",
     "output_type": "stream",
     "text": [
      "0: 384x640 17 cars, 129.3ms\n",
      "Speed: 1.0ms pre-process, 129.3ms inference, 2.3ms postprocess per image at shape (1, 3, 640, 640)\n",
      "\n",
      "0: 384x640 16 cars, 1 truck, 112.9ms\n",
      "Speed: 1.0ms pre-process, 112.9ms inference, 1.0ms postprocess per image at shape (1, 3, 640, 640)\n"
     ]
    },
    {
     "name": "stdout",
     "output_type": "stream",
     "text": [
      "Tracking objects\n",
      "{0: (1006, 621, 'f5'), 3: (549, 586, 'f1'), 5: (668, 545, 'f2'), 6: (1230, 687, 'Danger!'), 7: (924, 523, 'f5'), 12: (767, 548, 'f3'), 61: (612, 499, 'f1'), 83: (881, 460, 'f5'), 84: (828, 493, 'f4'), 104: (1252, 929, 'f5'), 106: (700, 426, 'f2'), 107: (1029, 933, 'f4'), 108: (1029, 933, 'f4'), 109: (752, 448, 'f3'), 110: (654, 427, 'f1'), 111: (1864, 606, 'Danger!'), 112: (1423, 494, 'Danger!')}\n",
      "CUR FRAME LEFT PTS\n",
      "[]\n",
      "Tracking objects\n",
      "{0: (1011, 625, 'f5'), 3: (546, 594, 'f1'), 5: (669, 550, 'f2'), 7: (926, 524, 'f5'), 12: (768, 552, 'f3'), 61: (610, 502, 'f1'), 83: (882, 462, 'f5'), 84: (828, 494, 'f4'), 106: (700, 427, 'f2'), 109: (752, 453, 'f3'), 110: (656, 425, 'f1'), 113: (1268, 947, 'f5'), 114: (1253, 703, 'Danger!'), 115: (1822, 592, 'Danger!'), 116: (1042, 959, 'f4'), 117: (1396, 489, 'Danger!'), 118: (1042, 958, 'f4')}\n",
      "CUR FRAME LEFT PTS\n",
      "[(1268, 947, 'Danger!'), (1253, 703, 'Danger!'), (1822, 592, 'Danger!'), (1042, 959, 'Danger!'), (1396, 489, 'Danger!'), (1042, 958, 'Danger!')]\n"
     ]
    },
    {
     "name": "stderr",
     "output_type": "stream",
     "text": [
      "\n",
      "0: 384x640 16 cars, 1 truck, 109.3ms\n",
      "Speed: 1.0ms pre-process, 109.3ms inference, 1.0ms postprocess per image at shape (1, 3, 640, 640)\n",
      "\n"
     ]
    },
    {
     "name": "stdout",
     "output_type": "stream",
     "text": [
      "Tracking objects\n",
      "{0: (1013, 629, 'f5'), 3: (542, 597, 'f1'), 5: (668, 553, 'f2'), 7: (926, 525, 'f5'), 12: (768, 554, 'f3'), 61: (610, 503, 'f1'), 83: (883, 462, 'f5'), 84: (827, 498, 'f4'), 106: (700, 428, 'f2'), 109: (751, 454, 'f3'), 110: (656, 425, 'f1'), 113: (1275, 954, 'f5'), 114: (1268, 716, 'Danger!'), 115: (1806, 587, 'Danger!'), 116: (1051, 965, 'f4'), 118: (1051, 965, 'f4'), 119: (1376, 482, 'Danger!')}\n",
      "CUR FRAME LEFT PTS\n",
      "[(1376, 482, 'Danger!')]\n"
     ]
    },
    {
     "name": "stderr",
     "output_type": "stream",
     "text": [
      "0: 384x640 17 cars, 121.6ms\n",
      "Speed: 1.0ms pre-process, 121.6ms inference, 2.1ms postprocess per image at shape (1, 3, 640, 640)\n",
      "\n",
      "0: 384x640 17 cars, 133.8ms\n"
     ]
    },
    {
     "name": "stdout",
     "output_type": "stream",
     "text": [
      "Tracking objects\n",
      "{0: (1015, 630, 'f5'), 3: (543, 599, 'f1'), 5: (667, 557, 'f2'), 7: (929, 526, 'f5'), 12: (768, 556, 'f3'), 61: (610, 503, 'f1'), 83: (883, 463, 'f5'), 84: (828, 500, 'f4'), 106: (700, 429, 'f2'), 109: (752, 456, 'f3'), 110: (656, 427, 'f1'), 113: (1283, 966, 'f5'), 114: (1281, 727, 'Danger!'), 116: (1057, 971, 'f4'), 118: (1057, 971, 'f4'), 119: (1364, 481, 'Danger!'), 120: (1775, 576, 'Danger!')}\n",
      "CUR FRAME LEFT PTS\n",
      "[(1775, 576, 'Danger!')]\n"
     ]
    },
    {
     "name": "stderr",
     "output_type": "stream",
     "text": [
      "Speed: 1.0ms pre-process, 133.8ms inference, 2.0ms postprocess per image at shape (1, 3, 640, 640)\n",
      "\n",
      "0: 384x640 19 cars, 108.9ms\n",
      "Speed: 1.0ms pre-process, 108.9ms inference, 1.0ms postprocess per image at shape (1, 3, 640, 640)\n"
     ]
    },
    {
     "name": "stdout",
     "output_type": "stream",
     "text": [
      "Tracking objects\n",
      "{0: (1017, 633, 'f5'), 3: (539, 603, 'f1'), 5: (667, 559, 'f2'), 7: (927, 528, 'f5'), 12: (769, 558, 'f3'), 61: (609, 506, 'f1'), 83: (885, 464, 'f5'), 84: (829, 502, 'f4'), 106: (699, 428, 'f2'), 109: (752, 457, 'f3'), 113: (1292, 973, 'f5'), 114: (1297, 738, 'Danger!'), 116: (1057, 976, 'f4'), 118: (1057, 976, 'f4'), 119: (1356, 478, 'Danger!'), 120: (1759, 574, 'Danger!'), 121: (1277, 429, 'Danger!')}\n",
      "CUR FRAME LEFT PTS\n",
      "[(1277, 429, 'Danger!')]\n",
      "Tracking objects\n",
      "{0: (1021, 635, 'f5'), 3: (533, 611, 'f1'), 5: (664, 565, 'f2'), 7: (928, 527, 'f5'), 12: (770, 562, 'f3'), 61: (609, 507, 'f1'), 83: (887, 464, 'f5'), 84: (831, 503, 'f4'), 106: (700, 431, 'f2'), 109: (752, 458, 'f3'), 116: (1069, 991, 'f4'), 118: (1069, 991, 'f4'), 119: (1351, 471, 'Danger!'), 121: (1275, 428, 'Danger!'), 122: (1312, 982, 'f5'), 123: (1328, 764, 'Danger!'), 124: (1723, 563, 'Danger!'), 125: (655, 429, 'f1'), 126: (1252, 427, 'Danger!'), 127: (1338, 469, 'Danger!')}\n",
      "CUR FRAME LEFT PTS\n",
      "[(1312, 982, 'Danger!'), (1328, 764, 'Danger!'), (1723, 563, 'Danger!'), (655, 429, 'Danger!'), (1252, 427, 'Danger!'), (1338, 469, 'Danger!')]\n"
     ]
    },
    {
     "name": "stderr",
     "output_type": "stream",
     "text": [
      "\n",
      "0: 384x640 19 cars, 109.4ms\n",
      "Speed: 1.2ms pre-process, 109.4ms inference, 0.0ms postprocess per image at shape (1, 3, 640, 640)\n",
      "\n"
     ]
    },
    {
     "name": "stdout",
     "output_type": "stream",
     "text": [
      "Tracking objects\n",
      "{0: (1023, 640, 'f5'), 3: (534, 613, 'f1'), 5: (663, 568, 'f2'), 7: (931, 529, 'f5'), 12: (771, 564, 'f3'), 61: (609, 507, 'f1'), 83: (887, 465, 'f5'), 84: (831, 505, 'f4'), 106: (701, 433, 'f2'), 109: (753, 458, 'f3'), 116: (1078, 998, 'f4'), 118: (1078, 998, 'f4'), 122: (1314, 987, 'f5'), 125: (656, 431, 'f1'), 126: (1241, 425, 'Danger!'), 127: (1331, 467, 'Danger!'), 128: (1346, 779, 'Danger!'), 129: (1697, 557, 'Danger!'), 130: (1743, 565, 'Danger!'), 131: (1226, 425, 'Danger!')}\n",
      "CUR FRAME LEFT PTS\n",
      "[(1346, 779, 'Danger!'), (1697, 557, 'Danger!'), (1743, 565, 'Danger!'), (1226, 425, 'Danger!')]\n"
     ]
    },
    {
     "name": "stderr",
     "output_type": "stream",
     "text": [
      "0: 384x640 17 cars, 106.6ms\n",
      "Speed: 1.0ms pre-process, 106.6ms inference, 2.0ms postprocess per image at shape (1, 3, 640, 640)\n",
      "\n",
      "0: 384x640 17 cars, 97.5ms\n",
      "Speed: 1.0ms pre-process, 97.5ms inference, 1.2ms postprocess per image at shape (1, 3, 640, 640)\n"
     ]
    },
    {
     "name": "stdout",
     "output_type": "stream",
     "text": [
      "Tracking objects\n",
      "{0: (1025, 641, 'f5'), 3: (532, 617, 'f1'), 5: (662, 572, 'f2'), 7: (929, 530, 'f5'), 12: (771, 568, 'f3'), 61: (608, 509, 'f1'), 83: (887, 465, 'f5'), 84: (831, 505, 'f4'), 106: (700, 433, 'f2'), 109: (752, 460, 'f3'), 116: (1078, 1006, 'f4'), 118: (1078, 1006, 'f4'), 122: (1319, 989, 'f5'), 125: (658, 432, 'f1'), 126: (1255, 424, 'Danger!'), 129: (1681, 554, 'Danger!'), 131: (1214, 425, 'Danger!'), 132: (1363, 793, 'Danger!')}\n",
      "CUR FRAME LEFT PTS\n",
      "[(1363, 793, 'Danger!')]\n",
      "Tracking objects\n",
      "{0: (1027, 644, 'f5'), 3: (530, 622, 'f1'), 5: (661, 576, 'f2'), 7: (932, 529, 'f5'), 12: (769, 570, 'f3'), 61: (607, 511, 'f1'), 83: (887, 466, 'f5'), 84: (832, 507, 'f4'), 106: (701, 433, 'f2'), 109: (752, 461, 'f3'), 116: (1085, 1015, 'f4'), 118: (1085, 1015, 'f4'), 122: (1328, 994, 'f5'), 129: (1667, 548, 'Danger!'), 131: (1223, 423, 'Danger!'), 133: (1384, 808, 'Danger!'), 134: (1324, 466, 'Danger!'), 135: (1705, 553, 'Danger!')}\n",
      "CUR FRAME LEFT PTS\n",
      "[(1384, 808, 'Danger!'), (1324, 466, 'Danger!'), (1705, 553, 'Danger!')]\n"
     ]
    },
    {
     "name": "stderr",
     "output_type": "stream",
     "text": [
      "\n",
      "0: 384x640 15 cars, 97.1ms\n",
      "Speed: 0.9ms pre-process, 97.1ms inference, 1.0ms postprocess per image at shape (1, 3, 640, 640)\n",
      "\n",
      "0: 384x640 17 cars, 92.2ms\n"
     ]
    },
    {
     "name": "stdout",
     "output_type": "stream",
     "text": [
      "Tracking objects\n",
      "{0: (1030, 650, 'f5'), 3: (526, 627, 'f1'), 5: (660, 580, 'f2'), 7: (933, 533, 'f5'), 12: (770, 573, 'f3'), 61: (605, 515, 'f1'), 83: (889, 469, 'f5'), 84: (835, 510, 'f4'), 106: (700, 437, 'f2'), 109: (753, 459, 'f3'), 122: (1334, 1000, 'f5'), 136: (1424, 843, 'Danger!'), 137: (1097, 1032, 'f4'), 138: (1639, 540, 'Danger!'), 139: (655, 433, 'f1')}\n",
      "CUR FRAME LEFT PTS\n",
      "[(1424, 843, 'Danger!'), (1097, 1032, 'Danger!'), (1639, 540, 'Danger!'), (655, 433, 'Danger!')]\n"
     ]
    },
    {
     "name": "stderr",
     "output_type": "stream",
     "text": [
      "Speed: 0.4ms pre-process, 92.2ms inference, 2.0ms postprocess per image at shape (1, 3, 640, 640)\n",
      "\n",
      "0: 384x640 16 cars, 109.3ms\n"
     ]
    },
    {
     "name": "stdout",
     "output_type": "stream",
     "text": [
      "Tracking objects\n",
      "{0: (1033, 651, 'f5'), 3: (526, 631, 'f1'), 5: (660, 581, 'f2'), 7: (935, 534, 'f5'), 12: (771, 578, 'f3'), 61: (604, 513, 'f1'), 83: (889, 468, 'f5'), 84: (835, 511, 'f4'), 106: (700, 437, 'f2'), 109: (754, 462, 'f3'), 122: (1344, 1006, 'f5'), 137: (1102, 1042, 'f4'), 138: (1652, 539, 'Danger!'), 139: (656, 433, 'f1'), 140: (1449, 861, 'Danger!'), 141: (1615, 535, 'Danger!')}\n",
      "CUR FRAME LEFT PTS\n",
      "[(1449, 861, 'Danger!'), (1615, 535, 'Danger!')]\n"
     ]
    },
    {
     "name": "stderr",
     "output_type": "stream",
     "text": [
      "Speed: 1.0ms pre-process, 109.3ms inference, 1.0ms postprocess per image at shape (1, 3, 640, 640)\n",
      "\n"
     ]
    },
    {
     "name": "stdout",
     "output_type": "stream",
     "text": [
      "Tracking objects\n",
      "{0: (1036, 654, 'f5'), 3: (521, 638, 'f1'), 5: (661, 585, 'f2'), 7: (936, 534, 'f5'), 12: (771, 582, 'f3'), 61: (603, 518, 'f1'), 83: (889, 469, 'f5'), 84: (835, 514, 'f4'), 106: (700, 437, 'f2'), 109: (755, 463, 'f3'), 122: (1354, 1013, 'Danger!'), 137: (1104, 1050, 'f4'), 138: (1636, 534, 'Danger!'), 139: (657, 434, 'f1'), 141: (1599, 529, 'Danger!'), 142: (1473, 881, 'Danger!')}\n",
      "CUR FRAME LEFT PTS\n",
      "[(1473, 881, 'Danger!')]\n"
     ]
    },
    {
     "name": "stderr",
     "output_type": "stream",
     "text": [
      "0: 384x640 15 cars, 103.9ms\n",
      "Speed: 0.0ms pre-process, 103.9ms inference, 1.0ms postprocess per image at shape (1, 3, 640, 640)\n",
      "\n",
      "0: 384x640 15 cars, 1 truck, 93.2ms\n"
     ]
    },
    {
     "name": "stdout",
     "output_type": "stream",
     "text": [
      "Tracking objects\n",
      "{0: (1039, 659, 'f5'), 3: (519, 638, 'f1'), 5: (657, 588, 'f2'), 7: (937, 536, 'f5'), 12: (771, 583, 'f3'), 61: (602, 520, 'f1'), 83: (892, 473, 'f5'), 84: (837, 516, 'f4'), 106: (700, 438, 'f2'), 109: (753, 461, 'f3'), 122: (1366, 1017, 'Danger!'), 139: (653, 437, 'f1'), 141: (1602, 529, 'Danger!'), 143: (1502, 904, 'Danger!')}\n",
      "CUR FRAME LEFT PTS\n",
      "[(1502, 904, 'Danger!')]\n"
     ]
    },
    {
     "name": "stderr",
     "output_type": "stream",
     "text": [
      "Speed: 1.0ms pre-process, 93.2ms inference, 1.0ms postprocess per image at shape (1, 3, 640, 640)\n",
      "\n",
      "0: 384x640 14 cars, 86.2ms\n",
      "Speed: 1.0ms pre-process, 86.2ms inference, 1.5ms postprocess per image at shape (1, 3, 640, 640)\n"
     ]
    },
    {
     "name": "stdout",
     "output_type": "stream",
     "text": [
      "Tracking objects\n",
      "{0: (1044, 661, 'f5'), 3: (513, 647, 'f1'), 5: (656, 594, 'f2'), 7: (937, 537, 'f5'), 12: (773, 586, 'f3'), 61: (599, 523, 'f1'), 83: (893, 473, 'f5'), 84: (837, 521, 'f4'), 106: (699, 440, 'f2'), 109: (753, 465, 'f3'), 122: (1383, 1025, 'Danger!'), 141: (1592, 522, 'Danger!'), 144: (1564, 955, 'Danger!'), 145: (1566, 519, 'Danger!'), 146: (1272, 451, 'Danger!'), 147: (1565, 519, 'Danger!')}\n",
      "CUR FRAME LEFT PTS\n",
      "[(1564, 955, 'Danger!'), (1566, 519, 'Danger!'), (1272, 451, 'Danger!'), (1565, 519, 'Danger!')]\n",
      "Tracking objects\n",
      "{0: (1046, 665, 'f5'), 3: (510, 656, 'f1'), 5: (656, 598, 'f2'), 7: (939, 538, 'f5'), 12: (774, 589, 'f3'), 61: (598, 526, 'f1'), 83: (894, 474, 'f5'), 84: (841, 523, 'f4'), 106: (699, 441, 'f2'), 122: (1392, 1030, 'Danger!'), 145: (1553, 517, 'Danger!'), 146: (1256, 449, 'Danger!'), 147: (1553, 517, 'Danger!'), 148: (1604, 976, 'Danger!'), 149: (642, 450, 'f1')}\n",
      "CUR FRAME LEFT PTS\n",
      "[(1604, 976, 'Danger!'), (642, 450, 'Danger!')]\n"
     ]
    },
    {
     "name": "stderr",
     "output_type": "stream",
     "text": [
      "\n",
      "0: 384x640 14 cars, 114.8ms\n",
      "Speed: 1.0ms pre-process, 114.8ms inference, 1.3ms postprocess per image at shape (1, 3, 640, 640)\n",
      "\n",
      "0: 384x640 16 cars, 88.9ms\n",
      "Speed: 0.0ms pre-process, 88.9ms inference, 1.0ms postprocess per image at shape (1, 3, 640, 640)\n"
     ]
    },
    {
     "name": "stdout",
     "output_type": "stream",
     "text": [
      "Tracking objects\n",
      "{0: (1047, 669, 'f5'), 3: (509, 657, 'f1'), 5: (655, 601, 'f2'), 7: (939, 539, 'f5'), 12: (774, 592, 'f3'), 61: (599, 527, 'f1'), 83: (894, 476, 'f5'), 84: (840, 525, 'f4'), 106: (699, 442, 'f2'), 122: (1398, 1036, 'Danger!'), 145: (1541, 515, 'Danger!'), 147: (1541, 515, 'Danger!'), 149: (641, 451, 'f1'), 150: (1630, 986, 'Danger!'), 151: (658, 436, 'f1')}\n",
      "CUR FRAME LEFT PTS\n",
      "[(1630, 986, 'Danger!'), (658, 436, 'Danger!')]\n",
      "Tracking objects\n",
      "{0: (1050, 671, 'f5'), 3: (507, 661, 'f1'), 5: (654, 604, 'f2'), 7: (939, 539, 'f5'), 12: (773, 594, 'f3'), 61: (598, 528, 'f1'), 83: (894, 476, 'f5'), 84: (841, 526, 'f4'), 106: (699, 443, 'f2'), 122: (1390, 1043, 'Danger!'), 145: (1535, 510, 'Danger!'), 147: (1535, 510, 'Danger!'), 149: (641, 451, 'f1'), 152: (1655, 999, 'Danger!'), 153: (1518, 508, 'Danger!'), 154: (1250, 443, 'Danger!'), 155: (806, 438, 'f4')}\n",
      "CUR FRAME LEFT PTS\n",
      "[(1655, 999, 'Danger!'), (1518, 508, 'Danger!'), (1250, 443, 'Danger!'), (806, 438, 'Danger!')]\n"
     ]
    },
    {
     "name": "stderr",
     "output_type": "stream",
     "text": [
      "\n",
      "0: 384x640 15 cars, 96.0ms\n",
      "Speed: 0.0ms pre-process, 96.0ms inference, 1.0ms postprocess per image at shape (1, 3, 640, 640)\n",
      "\n",
      "0: 384x640 13 cars, 86.7ms\n"
     ]
    },
    {
     "name": "stdout",
     "output_type": "stream",
     "text": [
      "Tracking objects\n",
      "{0: (1058, 679, 'f5'), 3: (502, 669, 'f1'), 5: (651, 613, 'f2'), 7: (940, 540, 'f5'), 12: (775, 600, 'f3'), 61: (597, 529, 'f1'), 83: (896, 479, 'f5'), 84: (843, 529, 'f4'), 106: (699, 444, 'f2'), 149: (639, 451, 'f1'), 153: (1504, 504, 'Danger!'), 156: (757, 467, 'f3'), 157: (651, 625, 'f2'), 158: (1494, 502, 'Danger!'), 159: (659, 436, 'f1')}\n",
      "CUR FRAME LEFT PTS\n",
      "[(757, 467, 'Danger!'), (651, 625, 'Danger!'), (1494, 502, 'Danger!'), (659, 436, 'Danger!')]\n"
     ]
    },
    {
     "name": "stderr",
     "output_type": "stream",
     "text": [
      "Speed: 0.5ms pre-process, 86.7ms inference, 1.0ms postprocess per image at shape (1, 3, 640, 640)\n",
      "\n",
      "0: 384x640 13 cars, 1 truck, 103.2ms\n"
     ]
    },
    {
     "name": "stdout",
     "output_type": "stream",
     "text": [
      "Tracking objects\n",
      "{0: (1060, 682, 'f5'), 3: (501, 674, 'f1'), 5: (649, 619, 'f2'), 7: (941, 541, 'f5'), 12: (776, 604, 'f3'), 61: (595, 533, 'f1'), 83: (897, 478, 'f5'), 84: (843, 530, 'f4'), 106: (700, 445, 'f2'), 149: (639, 452, 'f1'), 153: (1486, 500, 'Danger!'), 156: (757, 468, 'f3'), 157: (649, 619, 'f2'), 158: (1486, 500, 'Danger!'), 159: (659, 437, 'f1')}\n",
      "CUR FRAME LEFT PTS\n",
      "[]\n"
     ]
    },
    {
     "name": "stderr",
     "output_type": "stream",
     "text": [
      "Speed: 1.0ms pre-process, 103.2ms inference, 1.5ms postprocess per image at shape (1, 3, 640, 640)\n",
      "\n",
      "0: 384x640 12 cars, 86.6ms\n",
      "Speed: 1.0ms pre-process, 86.6ms inference, 1.0ms postprocess per image at shape (1, 3, 640, 640)\n"
     ]
    },
    {
     "name": "stdout",
     "output_type": "stream",
     "text": [
      "Tracking objects\n",
      "{0: (1061, 684, 'f5'), 3: (497, 678, 'f1'), 5: (647, 623, 'f2'), 7: (942, 542, 'f5'), 12: (775, 606, 'f3'), 61: (595, 535, 'f1'), 83: (896, 478, 'f5'), 84: (844, 530, 'f4'), 106: (701, 446, 'f2'), 149: (637, 452, 'f1'), 153: (1479, 495, 'Danger!'), 156: (757, 469, 'f3'), 157: (647, 623, 'f2'), 158: (1479, 495, 'Danger!'), 159: (662, 436, 'f1')}\n",
      "CUR FRAME LEFT PTS\n",
      "[]\n",
      "Tracking objects\n",
      "{0: (1063, 688, 'f5'), 3: (495, 684, 'f1'), 5: (646, 626, 'f2'), 7: (943, 546, 'f5'), 12: (777, 610, 'f3'), 61: (594, 537, 'f1'), 83: (898, 480, 'f5'), 84: (845, 533, 'f4'), 106: (699, 447, 'f2'), 149: (638, 452, 'f1'), 153: (1464, 491, 'Danger!'), 156: (757, 472, 'f3'), 157: (646, 626, 'f2'), 158: (1464, 491, 'Danger!')}\n",
      "CUR FRAME LEFT PTS\n",
      "[]\n"
     ]
    },
    {
     "name": "stderr",
     "output_type": "stream",
     "text": [
      "\n",
      "0: 384x640 13 cars, 108.3ms\n",
      "Speed: 0.0ms pre-process, 108.3ms inference, 1.0ms postprocess per image at shape (1, 3, 640, 640)\n",
      "\n",
      "0: 384x640 13 cars, 100.5ms\n"
     ]
    },
    {
     "name": "stdout",
     "output_type": "stream",
     "text": [
      "Tracking objects\n",
      "{0: (1070, 692, 'f5'), 3: (489, 694, 'f1'), 5: (647, 635, 'f2'), 7: (947, 550, 'f5'), 12: (778, 616, 'f3'), 61: (592, 542, 'f1'), 83: (899, 479, 'f5'), 84: (848, 537, 'f4'), 106: (700, 448, 'f2'), 149: (635, 453, 'f1'), 156: (757, 471, 'f3'), 157: (647, 635, 'f2'), 160: (661, 436, 'f1'), 161: (810, 444, 'f4')}\n",
      "CUR FRAME LEFT PTS\n",
      "[(661, 436, 'Danger!'), (810, 444, 'Danger!')]\n"
     ]
    },
    {
     "name": "stderr",
     "output_type": "stream",
     "text": [
      "Speed: 1.1ms pre-process, 100.5ms inference, 0.0ms postprocess per image at shape (1, 3, 640, 640)\n",
      "\n",
      "0: 384x640 13 cars, 92.3ms\n"
     ]
    },
    {
     "name": "stdout",
     "output_type": "stream",
     "text": [
      "Tracking objects\n",
      "{0: (1074, 697, 'f5'), 3: (485, 696, 'f1'), 5: (646, 639, 'f2'), 7: (947, 549, 'f5'), 12: (779, 619, 'f3'), 61: (590, 543, 'f1'), 83: (899, 480, 'f5'), 84: (848, 539, 'f4'), 106: (699, 449, 'f2'), 149: (636, 454, 'f1'), 156: (758, 474, 'f3'), 157: (646, 639, 'f2'), 161: (809, 444, 'f4'), 162: (1437, 483, 'Danger!')}\n",
      "CUR FRAME LEFT PTS\n",
      "[(1437, 483, 'Danger!')]\n"
     ]
    },
    {
     "name": "stderr",
     "output_type": "stream",
     "text": [
      "Speed: 0.0ms pre-process, 92.3ms inference, 1.0ms postprocess per image at shape (1, 3, 640, 640)\n",
      "\n",
      "0: 384x640 14 cars, 96.3ms\n"
     ]
    },
    {
     "name": "stdout",
     "output_type": "stream",
     "text": [
      "Tracking objects\n",
      "{0: (1077, 702, 'f5'), 3: (479, 705, 'f1'), 5: (645, 646, 'f2'), 7: (948, 551, 'f5'), 12: (778, 622, 'f3'), 61: (590, 545, 'f1'), 83: (900, 482, 'f5'), 84: (851, 542, 'f4'), 106: (700, 451, 'f2'), 149: (635, 454, 'f1'), 156: (758, 475, 'f3'), 157: (645, 646, 'f2'), 161: (811, 444, 'f4'), 162: (1437, 481, 'Danger!')}\n",
      "CUR FRAME LEFT PTS\n",
      "[]\n"
     ]
    },
    {
     "name": "stderr",
     "output_type": "stream",
     "text": [
      "Speed: 0.0ms pre-process, 96.3ms inference, 1.3ms postprocess per image at shape (1, 3, 640, 640)\n",
      "\n"
     ]
    },
    {
     "name": "stdout",
     "output_type": "stream",
     "text": [
      "Tracking objects\n",
      "{0: (1084, 708, 'f5'), 3: (477, 709, 'f1'), 5: (644, 645, 'f2'), 7: (949, 552, 'f5'), 12: (780, 629, 'f3'), 61: (589, 548, 'f1'), 83: (901, 483, 'f5'), 84: (852, 544, 'f4'), 106: (701, 451, 'f2'), 149: (634, 453, 'f1'), 156: (756, 478, 'f3'), 157: (644, 645, 'f2'), 161: (811, 446, 'f4'), 162: (1421, 480, 'Danger!'), 163: (1897, 705, 'Danger!')}\n",
      "CUR FRAME LEFT PTS\n",
      "[(1897, 705, 'Danger!')]\n"
     ]
    },
    {
     "name": "stderr",
     "output_type": "stream",
     "text": [
      "0: 384x640 13 cars, 118.8ms\n",
      "Speed: 0.0ms pre-process, 118.8ms inference, 1.6ms postprocess per image at shape (1, 3, 640, 640)\n",
      "\n",
      "0: 384x640 15 cars, 117.3ms\n",
      "Speed: 1.0ms pre-process, 117.3ms inference, 1.5ms postprocess per image at shape (1, 3, 640, 640)\n"
     ]
    },
    {
     "name": "stdout",
     "output_type": "stream",
     "text": [
      "Tracking objects\n",
      "{0: (1087, 715, 'f5'), 3: (470, 721, 'f1'), 7: (950, 553, 'f5'), 12: (780, 633, 'f3'), 61: (585, 554, 'f1'), 83: (902, 484, 'f5'), 84: (853, 549, 'f4'), 106: (700, 452, 'f2'), 149: (633, 458, 'f1'), 156: (759, 480, 'f3'), 161: (808, 447, 'f4'), 162: (1418, 475, 'Danger!'), 164: (641, 666, 'f2')}\n",
      "CUR FRAME LEFT PTS\n",
      "[(641, 666, 'Danger!')]\n",
      "Tracking objects\n",
      "{0: (1089, 716, 'f5'), 3: (467, 728, 'f1'), 7: (951, 555, 'f5'), 12: (782, 635, 'f3'), 61: (584, 553, 'f1'), 83: (902, 483, 'f5'), 84: (854, 551, 'f4'), 106: (700, 453, 'f2'), 149: (635, 457, 'f1'), 156: (757, 483, 'f3'), 161: (812, 449, 'f4'), 164: (639, 663, 'f2'), 165: (1825, 572, 'Danger!'), 166: (1845, 683, 'Danger!'), 167: (1397, 474, 'Danger!')}\n",
      "CUR FRAME LEFT PTS\n",
      "[(1825, 572, 'Danger!'), (1845, 683, 'Danger!'), (1397, 474, 'Danger!')]\n"
     ]
    },
    {
     "name": "stderr",
     "output_type": "stream",
     "text": [
      "\n",
      "0: 384x640 15 cars, 105.1ms\n",
      "Speed: 1.0ms pre-process, 105.1ms inference, 0.2ms postprocess per image at shape (1, 3, 640, 640)\n",
      "\n",
      "0: 384x640 15 cars, 118.9ms\n",
      "Speed: 1.0ms pre-process, 118.9ms inference, 2.0ms postprocess per image at shape (1, 3, 640, 640)\n"
     ]
    },
    {
     "name": "stdout",
     "output_type": "stream",
     "text": [
      "Tracking objects\n",
      "{0: (1093, 719, 'f5'), 3: (465, 732, 'f1'), 7: (954, 557, 'f5'), 12: (783, 642, 'f3'), 61: (582, 554, 'f1'), 83: (904, 486, 'f5'), 84: (855, 552, 'f4'), 106: (699, 453, 'f2'), 149: (633, 460, 'f1'), 156: (760, 483, 'f3'), 161: (813, 451, 'f4'), 164: (638, 666, 'f2'), 165: (1807, 568, 'Danger!'), 166: (1830, 673, 'Danger!'), 168: (870, 454, 'f5')}\n",
      "CUR FRAME LEFT PTS\n",
      "[(870, 454, 'Danger!')]\n",
      "Tracking objects\n",
      "{0: (1095, 721, 'f5'), 3: (461, 739, 'f1'), 7: (954, 557, 'f5'), 12: (783, 643, 'f3'), 61: (583, 557, 'f1'), 83: (905, 486, 'f5'), 84: (856, 554, 'f4'), 106: (700, 455, 'f2'), 149: (633, 459, 'f1'), 156: (761, 484, 'f3'), 161: (812, 449, 'f4'), 164: (635, 680, 'f2'), 165: (1790, 563, 'Danger!'), 168: (871, 455, 'f5'), 169: (1812, 657, 'Danger!')}\n",
      "CUR FRAME LEFT PTS\n",
      "[(1812, 657, 'Danger!')]\n"
     ]
    },
    {
     "name": "stderr",
     "output_type": "stream",
     "text": [
      "\n",
      "0: 384x640 16 cars, 1 truck, 103.1ms\n",
      "Speed: 1.0ms pre-process, 103.1ms inference, 1.0ms postprocess per image at shape (1, 3, 640, 640)\n",
      "\n",
      "0: 384x640 17 cars, 82.0ms\n",
      "Speed: 1.0ms pre-process, 82.0ms inference, 1.0ms postprocess per image at shape (1, 3, 640, 640)\n"
     ]
    },
    {
     "name": "stdout",
     "output_type": "stream",
     "text": [
      "Tracking objects\n",
      "{0: (1102, 734, 'f5'), 3: (451, 753, 'f1'), 7: (955, 559, 'f5'), 12: (784, 636, 'f3'), 61: (579, 561, 'f1'), 83: (905, 485, 'f5'), 84: (858, 559, 'f4'), 106: (699, 458, 'f2'), 149: (634, 462, 'f1'), 156: (760, 485, 'f3'), 161: (813, 451, 'f4'), 164: (632, 687, 'f2'), 170: (1756, 554, 'Danger!'), 171: (1166, 410, 'Danger!'), 172: (1748, 638, 'Danger!')}\n",
      "CUR FRAME LEFT PTS\n",
      "[(1756, 554, 'Danger!'), (1166, 410, 'Danger!'), (1748, 638, 'Danger!')]\n",
      "Tracking objects\n",
      "{0: (1105, 737, 'f5'), 3: (447, 758, 'f1'), 7: (957, 561, 'f5'), 61: (579, 564, 'f1'), 83: (906, 486, 'f5'), 84: (859, 560, 'f4'), 106: (698, 458, 'f2'), 149: (633, 463, 'f1'), 156: (760, 485, 'f3'), 161: (814, 452, 'f4'), 164: (630, 698, 'f2'), 170: (1745, 551, 'Danger!'), 171: (1164, 409, 'Danger!'), 173: (785, 656, 'f3'), 174: (1718, 629, 'Danger!'), 175: (1355, 462, 'Danger!'), 176: (874, 455, 'f5')}\n",
      "CUR FRAME LEFT PTS\n",
      "[(785, 656, 'Danger!'), (1718, 629, 'Danger!'), (1355, 462, 'Danger!'), (874, 455, 'Danger!')]\n"
     ]
    },
    {
     "name": "stderr",
     "output_type": "stream",
     "text": [
      "\n",
      "0: 384x640 18 cars, 1 truck, 97.4ms\n",
      "Speed: 0.0ms pre-process, 97.4ms inference, 1.0ms postprocess per image at shape (1, 3, 640, 640)\n",
      "\n",
      "0: 384x640 16 cars, 1 truck, 90.1ms\n"
     ]
    },
    {
     "name": "stdout",
     "output_type": "stream",
     "text": [
      "Tracking objects\n",
      "{0: (1109, 741, 'f5'), 3: (442, 768, 'f1'), 7: (956, 562, 'f5'), 61: (578, 567, 'f1'), 83: (909, 488, 'f5'), 84: (860, 563, 'f4'), 106: (699, 459, 'f2'), 149: (629, 467, 'f1'), 156: (758, 486, 'f3'), 161: (814, 453, 'f4'), 164: (629, 702, 'f2'), 170: (1728, 545, 'Danger!'), 171: (1160, 410, 'Danger!'), 173: (785, 659, 'f3'), 176: (875, 455, 'f5'), 177: (1674, 617, 'Danger!'), 178: (925, 358, 'Danger!')}\n",
      "CUR FRAME LEFT PTS\n",
      "[(1674, 617, 'Danger!'), (925, 358, 'Danger!')]\n"
     ]
    },
    {
     "name": "stderr",
     "output_type": "stream",
     "text": [
      "Speed: 1.0ms pre-process, 90.1ms inference, 2.0ms postprocess per image at shape (1, 3, 640, 640)\n",
      "\n",
      "0: 384x640 19 cars, 1 truck, 96.1ms\n"
     ]
    },
    {
     "name": "stdout",
     "output_type": "stream",
     "text": [
      "Tracking objects\n",
      "{0: (1115, 745, 'f5'), 3: (436, 775, 'f1'), 7: (954, 562, 'f5'), 61: (576, 572, 'f1'), 83: (910, 488, 'f5'), 84: (861, 566, 'f4'), 106: (699, 461, 'f2'), 149: (631, 465, 'f1'), 156: (760, 487, 'f3'), 161: (814, 453, 'f4'), 164: (629, 702, 'f2'), 170: (1712, 542, 'Danger!'), 171: (1158, 411, 'Danger!'), 173: (786, 663, 'f3'), 176: (877, 456, 'f5'), 177: (1664, 611, 'Danger!')}\n",
      "CUR FRAME LEFT PTS\n",
      "[]\n"
     ]
    },
    {
     "name": "stderr",
     "output_type": "stream",
     "text": [
      "Speed: 1.1ms pre-process, 96.1ms inference, 1.8ms postprocess per image at shape (1, 3, 640, 640)\n",
      "\n",
      "0: 384x640 16 cars, 1 truck, 83.5ms\n"
     ]
    },
    {
     "name": "stdout",
     "output_type": "stream",
     "text": [
      "Tracking objects\n",
      "{0: (1119, 753, 'f5'), 3: (427, 789, 'f1'), 7: (959, 562, 'f5'), 61: (574, 575, 'f1'), 83: (909, 491, 'f5'), 84: (864, 570, 'f4'), 106: (698, 463, 'f2'), 149: (628, 469, 'f1'), 156: (759, 491, 'f3'), 161: (816, 457, 'f4'), 173: (786, 673, 'f3'), 176: (875, 456, 'f5'), 177: (1648, 602, 'Danger!'), 179: (1685, 536, 'Danger!'), 180: (624, 726, 'f2'), 181: (1616, 594, 'Danger!'), 182: (423, 793, 'f1'), 183: (1330, 456, 'Danger!'), 184: (1634, 596, 'Danger!'), 185: (925, 358, 'Danger!')}\n",
      "CUR FRAME LEFT PTS\n",
      "[(1685, 536, 'Danger!'), (624, 726, 'Danger!'), (1616, 594, 'Danger!'), (423, 793, 'Danger!'), (1330, 456, 'Danger!'), (1634, 596, 'Danger!'), (925, 358, 'Danger!')]\n"
     ]
    },
    {
     "name": "stderr",
     "output_type": "stream",
     "text": [
      "Speed: 1.0ms pre-process, 83.5ms inference, 0.0ms postprocess per image at shape (1, 3, 640, 640)\n",
      "\n"
     ]
    },
    {
     "name": "stdout",
     "output_type": "stream",
     "text": [
      "Tracking objects\n",
      "{0: (1125, 759, 'f5'), 3: (422, 798, 'f1'), 7: (958, 564, 'f5'), 61: (574, 577, 'f1'), 83: (910, 490, 'f5'), 84: (863, 572, 'f4'), 106: (697, 464, 'f2'), 149: (626, 469, 'f1'), 156: (760, 491, 'f3'), 161: (815, 457, 'f4'), 173: (787, 674, 'f3'), 176: (875, 456, 'f5'), 179: (1670, 532, 'Danger!'), 180: (624, 721, 'f2'), 182: (422, 798, 'f1'), 183: (1326, 455, 'Danger!'), 186: (1595, 589, 'Danger!')}\n",
      "CUR FRAME LEFT PTS\n",
      "[(1595, 589, 'Danger!')]\n"
     ]
    },
    {
     "name": "stderr",
     "output_type": "stream",
     "text": [
      "0: 384x640 17 cars, 100.6ms\n",
      "Speed: 0.0ms pre-process, 100.6ms inference, 1.5ms postprocess per image at shape (1, 3, 640, 640)\n",
      "\n"
     ]
    },
    {
     "name": "stdout",
     "output_type": "stream",
     "text": [
      "Tracking objects\n",
      "{0: (1132, 766, 'f5'), 3: (418, 805, 'f1'), 7: (960, 565, 'f5'), 61: (570, 580, 'f1'), 83: (911, 491, 'f5'), 84: (865, 574, 'f4'), 106: (697, 464, 'f2'), 149: (626, 470, 'f1'), 156: (760, 491, 'f3'), 161: (817, 459, 'f4'), 173: (786, 680, 'f3'), 176: (876, 457, 'f5'), 179: (1657, 528, 'Danger!'), 180: (622, 727, 'f2'), 182: (418, 805, 'f1'), 183: (1319, 452, 'Danger!'), 187: (1574, 580, 'Danger!'), 188: (621, 745, 'f2')}\n",
      "CUR FRAME LEFT PTS\n",
      "[(1574, 580, 'Danger!'), (621, 745, 'Danger!')]\n"
     ]
    },
    {
     "name": "stderr",
     "output_type": "stream",
     "text": [
      "0: 384x640 18 cars, 128.7ms\n",
      "Speed: 1.0ms pre-process, 128.7ms inference, 2.0ms postprocess per image at shape (1, 3, 640, 640)\n",
      "\n",
      "0: 384x640 16 cars, 1 truck, 123.8ms\n",
      "Speed: 2.1ms pre-process, 123.8ms inference, 1.2ms postprocess per image at shape (1, 3, 640, 640)\n"
     ]
    },
    {
     "name": "stdout",
     "output_type": "stream",
     "text": [
      "Tracking objects\n",
      "{0: (1135, 773, 'f5'), 3: (412, 815, 'f1'), 7: (963, 567, 'f5'), 61: (572, 581, 'f1'), 83: (911, 492, 'f5'), 84: (867, 577, 'f4'), 106: (698, 465, 'f2'), 149: (628, 466, 'f1'), 156: (759, 494, 'f3'), 161: (819, 460, 'f4'), 173: (788, 687, 'f3'), 176: (877, 457, 'f5'), 179: (1648, 524, 'Danger!'), 180: (620, 742, 'f2'), 182: (412, 815, 'f1'), 187: (1582, 581, 'Danger!'), 188: (620, 742, 'f2'), 189: (1550, 572, 'Danger!'), 190: (1149, 783, 'f5')}\n",
      "CUR FRAME LEFT PTS\n",
      "[(1550, 572, 'Danger!'), (1149, 783, 'Danger!')]\n"
     ]
    },
    {
     "name": "stderr",
     "output_type": "stream",
     "text": [
      "\n",
      "0: 384x640 19 cars, 133.1ms\n"
     ]
    },
    {
     "name": "stdout",
     "output_type": "stream",
     "text": [
      "Tracking objects\n",
      "{0: (1141, 779, 'f5'), 3: (401, 831, 'f1'), 7: (962, 568, 'f5'), 61: (569, 586, 'f1'), 83: (913, 494, 'f5'), 84: (868, 581, 'f4'), 106: (697, 467, 'f2'), 149: (625, 473, 'f1'), 156: (760, 491, 'f3'), 161: (818, 460, 'f4'), 173: (790, 694, 'f3'), 176: (878, 459, 'f5'), 182: (401, 831, 'f1'), 190: (1141, 779, 'f5'), 191: (1622, 519, 'Danger!'), 192: (613, 767, 'f2'), 193: (1515, 561, 'Danger!'), 194: (1299, 447, 'Danger!')}\n",
      "CUR FRAME LEFT PTS\n",
      "[(1622, 519, 'Danger!'), (613, 767, 'Danger!'), (1515, 561, 'Danger!'), (1299, 447, 'Danger!')]\n"
     ]
    },
    {
     "name": "stderr",
     "output_type": "stream",
     "text": [
      "Speed: 1.0ms pre-process, 133.1ms inference, 2.0ms postprocess per image at shape (1, 3, 640, 640)\n",
      "\n"
     ]
    },
    {
     "name": "stdout",
     "output_type": "stream",
     "text": [
      "Tracking objects\n",
      "{0: (1146, 785, 'f5'), 3: (396, 843, 'f1'), 7: (965, 569, 'f5'), 61: (567, 589, 'f1'), 83: (914, 495, 'f5'), 84: (870, 585, 'f4'), 106: (698, 468, 'f2'), 149: (625, 476, 'f1'), 156: (761, 488, 'f3'), 161: (817, 460, 'f4'), 173: (790, 700, 'f3'), 176: (877, 459, 'f5'), 182: (396, 843, 'f1'), 190: (1146, 785, 'f5'), 191: (1611, 517, 'Danger!'), 192: (613, 770, 'f2'), 193: (1524, 562, 'Danger!'), 195: (1476, 550, 'Danger!'), 196: (1496, 553, 'Danger!')}\n",
      "CUR FRAME LEFT PTS\n",
      "[(1476, 550, 'Danger!'), (1496, 553, 'Danger!')]\n"
     ]
    },
    {
     "name": "stderr",
     "output_type": "stream",
     "text": [
      "0: 384x640 14 cars, 1 truck, 126.4ms\n",
      "Speed: 1.0ms pre-process, 126.4ms inference, 1.0ms postprocess per image at shape (1, 3, 640, 640)\n",
      "\n",
      "0: 384x640 17 cars, 114.1ms\n",
      "Speed: 0.9ms pre-process, 114.1ms inference, 1.9ms postprocess per image at shape (1, 3, 640, 640)\n"
     ]
    },
    {
     "name": "stdout",
     "output_type": "stream",
     "text": [
      "Tracking objects\n",
      "{0: (1149, 790, 'f5'), 3: (389, 851, 'f1'), 7: (968, 571, 'f5'), 61: (568, 591, 'f1'), 83: (915, 497, 'f5'), 84: (871, 588, 'f4'), 106: (695, 469, 'f2'), 149: (625, 477, 'f1'), 156: (760, 495, 'f3'), 161: (818, 462, 'f4'), 173: (791, 704, 'f3'), 176: (879, 459, 'f5'), 182: (389, 851, 'f1'), 190: (1149, 790, 'f5'), 191: (1601, 514, 'Danger!'), 192: (611, 783, 'f2'), 195: (1483, 549, 'Danger!'), 196: (1483, 549, 'Danger!')}\n",
      "CUR FRAME LEFT PTS\n",
      "[]\n"
     ]
    },
    {
     "name": "stderr",
     "output_type": "stream",
     "text": [
      "\n",
      "0: 384x640 17 cars, 1 truck, 108.6ms\n"
     ]
    },
    {
     "name": "stdout",
     "output_type": "stream",
     "text": [
      "Tracking objects\n",
      "{0: (1155, 796, 'f5'), 3: (380, 861, 'f1'), 7: (968, 572, 'f5'), 61: (564, 594, 'f1'), 83: (915, 499, 'f5'), 84: (872, 590, 'f4'), 106: (695, 472, 'f2'), 149: (623, 479, 'f1'), 156: (759, 498, 'f3'), 161: (819, 461, 'f4'), 173: (792, 711, 'f3'), 176: (880, 459, 'f5'), 182: (380, 861, 'f1'), 190: (1155, 796, 'f5'), 191: (1589, 512, 'Danger!'), 192: (608, 782, 'f2'), 195: (1490, 548, 'Danger!'), 196: (1490, 548, 'Danger!'), 197: (1464, 542, 'Danger!'), 198: (1120, 399, 'Danger!')}\n",
      "CUR FRAME LEFT PTS\n",
      "[(1464, 542, 'Danger!'), (1120, 399, 'Danger!')]\n"
     ]
    },
    {
     "name": "stderr",
     "output_type": "stream",
     "text": [
      "Speed: 1.0ms pre-process, 108.6ms inference, 1.0ms postprocess per image at shape (1, 3, 640, 640)\n",
      "\n",
      "0: 384x640 18 cars, 84.9ms\n",
      "Speed: 1.0ms pre-process, 84.9ms inference, 0.0ms postprocess per image at shape (1, 3, 640, 640)\n"
     ]
    },
    {
     "name": "stdout",
     "output_type": "stream",
     "text": [
      "Tracking objects\n",
      "{0: (1165, 807, 'f5'), 7: (970, 575, 'f5'), 61: (559, 600, 'f1'), 83: (917, 500, 'f5'), 84: (874, 595, 'f4'), 106: (695, 474, 'f2'), 149: (623, 481, 'f1'), 156: (760, 500, 'f3'), 161: (822, 462, 'f4'), 173: (792, 720, 'f3'), 176: (880, 461, 'f5'), 190: (1165, 807, 'f5'), 199: (1567, 506, 'Danger!'), 200: (601, 814, 'f2'), 201: (1444, 537, 'Danger!'), 202: (368, 882, 'f1'), 203: (1432, 532, 'Danger!'), 204: (368, 882, 'f1'), 205: (756, 437, 'f3')}\n",
      "CUR FRAME LEFT PTS\n",
      "[(1567, 506, 'Danger!'), (601, 814, 'Danger!'), (1444, 537, 'Danger!'), (368, 882, 'Danger!'), (1432, 532, 'Danger!'), (368, 882, 'Danger!'), (756, 437, 'Danger!')]\n",
      "Tracking objects\n",
      "{0: (1167, 815, 'f5'), 7: (971, 577, 'f5'), 61: (558, 603, 'f1'), 83: (918, 500, 'f5'), 84: (874, 599, 'f4'), 106: (694, 475, 'f2'), 149: (621, 483, 'f1'), 156: (763, 505, 'f3'), 161: (823, 463, 'f4'), 173: (794, 729, 'f3'), 176: (879, 461, 'f5'), 190: (1167, 815, 'f5'), 199: (1557, 503, 'Danger!'), 200: (602, 801, 'f2'), 202: (361, 893, 'f1'), 203: (1422, 529, 'Danger!'), 204: (361, 893, 'f1'), 205: (755, 437, 'f3'), 206: (1398, 527, 'Danger!'), 207: (1260, 439, 'Danger!')}\n",
      "CUR FRAME LEFT PTS\n",
      "[(1398, 527, 'Danger!'), (1260, 439, 'Danger!')]\n"
     ]
    },
    {
     "name": "stderr",
     "output_type": "stream",
     "text": [
      "\n",
      "0: 384x640 16 cars, 137.6ms\n",
      "Speed: 1.0ms pre-process, 137.6ms inference, 1.0ms postprocess per image at shape (1, 3, 640, 640)\n",
      "\n",
      "0: 384x640 17 cars, 1 truck, 101.0ms\n",
      "Speed: 1.0ms pre-process, 101.0ms inference, 1.0ms postprocess per image at shape (1, 3, 640, 640)\n"
     ]
    },
    {
     "name": "stdout",
     "output_type": "stream",
     "text": [
      "Tracking objects\n",
      "{0: (1175, 821, 'f5'), 7: (972, 578, 'f5'), 61: (557, 606, 'f1'), 83: (917, 500, 'f5'), 84: (876, 603, 'f4'), 106: (695, 476, 'f2'), 149: (621, 483, 'f1'), 156: (762, 502, 'f3'), 161: (822, 466, 'f4'), 173: (794, 737, 'f3'), 190: (1175, 821, 'f5'), 199: (1547, 500, 'Danger!'), 200: (598, 814, 'f2'), 202: (353, 907, 'f1'), 203: (1416, 528, 'Danger!'), 204: (353, 907, 'f1'), 206: (1416, 528, 'Danger!'), 208: (596, 833, 'f2')}\n",
      "CUR FRAME LEFT PTS\n",
      "[(596, 833, 'Danger!')]\n",
      "Tracking objects\n",
      "{0: (1178, 826, 'f5'), 7: (974, 579, 'f5'), 61: (556, 609, 'f1'), 83: (918, 500, 'f5'), 84: (877, 606, 'f4'), 106: (695, 477, 'f2'), 149: (619, 485, 'f1'), 156: (763, 508, 'f3'), 161: (822, 464, 'f4'), 173: (795, 739, 'f3'), 190: (1178, 826, 'f5'), 199: (1540, 497, 'Danger!'), 200: (596, 822, 'f2'), 202: (344, 918, 'f1'), 203: (1397, 522, 'Danger!'), 204: (344, 918, 'f1'), 206: (1397, 522, 'Danger!'), 208: (596, 822, 'f2'), 209: (1256, 436, 'Danger!'), 210: (881, 461, 'f5')}\n",
      "CUR FRAME LEFT PTS\n",
      "[(1256, 436, 'Danger!'), (881, 461, 'Danger!')]\n"
     ]
    },
    {
     "name": "stderr",
     "output_type": "stream",
     "text": [
      "\n",
      "0: 384x640 17 cars, 2 trucks, 101.0ms\n",
      "Speed: 1.6ms pre-process, 101.0ms inference, 1.1ms postprocess per image at shape (1, 3, 640, 640)\n",
      "\n"
     ]
    },
    {
     "name": "stdout",
     "output_type": "stream",
     "text": [
      "Tracking objects\n",
      "{0: (1191, 839, 'f5'), 7: (975, 582, 'f5'), 61: (553, 614, 'f1'), 83: (921, 503, 'f5'), 84: (881, 611, 'f4'), 106: (696, 479, 'f2'), 149: (620, 487, 'f1'), 156: (764, 508, 'f3'), 161: (824, 469, 'f4'), 173: (798, 751, 'f3'), 190: (1191, 839, 'f5'), 210: (884, 464, 'f5'), 211: (1519, 493, 'Danger!'), 212: (1369, 514, 'Danger!'), 213: (330, 944, 'f1'), 214: (330, 944, 'f1'), 215: (593, 844, 'f2'), 216: (590, 844, 'f2'), 217: (1351, 511, 'Danger!'), 218: (757, 439, 'f3')}\n",
      "CUR FRAME LEFT PTS\n",
      "[(1519, 493, 'Danger!'), (1369, 514, 'Danger!'), (330, 944, 'Danger!'), (330, 944, 'Danger!'), (593, 844, 'Danger!'), (590, 844, 'Danger!'), (1351, 511, 'Danger!'), (757, 439, 'Danger!')]\n"
     ]
    },
    {
     "name": "stderr",
     "output_type": "stream",
     "text": [
      "0: 384x640 17 cars, 103.8ms\n",
      "Speed: 0.4ms pre-process, 103.8ms inference, 1.0ms postprocess per image at shape (1, 3, 640, 640)\n",
      "\n"
     ]
    },
    {
     "name": "stdout",
     "output_type": "stream",
     "text": [
      "Tracking objects\n",
      "{0: (1196, 847, 'f5'), 7: (974, 582, 'f5'), 61: (551, 618, 'f1'), 83: (922, 504, 'f5'), 84: (882, 614, 'f4'), 106: (694, 479, 'f2'), 149: (620, 491, 'f1'), 156: (764, 508, 'f3'), 161: (824, 469, 'f4'), 173: (797, 757, 'f3'), 190: (1196, 847, 'f5'), 211: (1508, 490, 'Danger!'), 212: (1363, 510, 'Danger!'), 213: (325, 957, 'f1'), 214: (325, 957, 'f1'), 217: (1363, 510, 'Danger!'), 218: (756, 438, 'f3'), 219: (584, 879, 'f2'), 220: (645, 452, 'f1')}\n",
      "CUR FRAME LEFT PTS\n",
      "[(584, 879, 'Danger!'), (645, 452, 'Danger!')]\n"
     ]
    },
    {
     "name": "stderr",
     "output_type": "stream",
     "text": [
      "0: 384x640 16 cars, 3 trucks, 103.6ms\n",
      "Speed: 0.0ms pre-process, 103.6ms inference, 0.0ms postprocess per image at shape (1, 3, 640, 640)\n",
      "\n"
     ]
    },
    {
     "name": "stdout",
     "output_type": "stream",
     "text": [
      "Tracking objects\n",
      "{0: (1201, 855, 'f5'), 7: (977, 583, 'f5'), 61: (550, 622, 'f1'), 83: (923, 505, 'f5'), 84: (884, 619, 'f4'), 106: (694, 480, 'f2'), 149: (617, 493, 'f1'), 156: (764, 507, 'f3'), 161: (824, 471, 'f4'), 173: (799, 764, 'f3'), 190: (1201, 855, 'f5'), 211: (1502, 489, 'Danger!'), 212: (1352, 506, 'Danger!'), 213: (311, 970, 'f1'), 214: (311, 970, 'f1'), 217: (1352, 506, 'Danger!'), 218: (756, 438, 'f3'), 219: (581, 888, 'f2'), 220: (644, 452, 'f1'), 221: (309, 970, 'f1')}\n",
      "CUR FRAME LEFT PTS\n",
      "[(309, 970, 'Danger!')]\n"
     ]
    },
    {
     "name": "stderr",
     "output_type": "stream",
     "text": [
      "0: 384x640 16 cars, 95.0ms\n",
      "Speed: 1.0ms pre-process, 95.0ms inference, 1.0ms postprocess per image at shape (1, 3, 640, 640)\n",
      "\n"
     ]
    },
    {
     "name": "stdout",
     "output_type": "stream",
     "text": [
      "Tracking objects\n",
      "{0: (1208, 860, 'f5'), 7: (979, 586, 'f5'), 61: (548, 623, 'f1'), 83: (923, 505, 'f5'), 84: (887, 623, 'f4'), 106: (693, 482, 'f2'), 149: (615, 494, 'f1'), 156: (763, 509, 'f3'), 161: (825, 470, 'f4'), 173: (800, 770, 'f3'), 190: (1208, 860, 'f5'), 211: (1494, 487, 'Danger!'), 212: (1340, 502, 'Danger!'), 213: (297, 975, 'f1'), 214: (297, 975, 'f1'), 217: (1340, 502, 'Danger!'), 219: (579, 905, 'f2'), 220: (641, 453, 'f1'), 221: (297, 975, 'f1'), 222: (939, 453, 'Danger!')}\n",
      "CUR FRAME LEFT PTS\n",
      "[(939, 453, 'Danger!')]\n"
     ]
    },
    {
     "name": "stderr",
     "output_type": "stream",
     "text": [
      "0: 384x640 16 cars, 1 truck, 122.9ms\n",
      "Speed: 0.0ms pre-process, 122.9ms inference, 2.3ms postprocess per image at shape (1, 3, 640, 640)\n",
      "\n",
      "0: 384x640 14 cars, 1 truck, 115.4ms\n"
     ]
    },
    {
     "name": "stdout",
     "output_type": "stream",
     "text": [
      "Tracking objects\n",
      "{0: (1219, 876, 'f5'), 7: (982, 589, 'f5'), 61: (544, 632, 'f1'), 83: (925, 506, 'f5'), 84: (888, 631, 'f4'), 106: (693, 483, 'f2'), 149: (614, 496, 'f1'), 156: (765, 511, 'f3'), 161: (827, 472, 'f4'), 173: (802, 787, 'f3'), 190: (1219, 876, 'f5'), 211: (1478, 482, 'Danger!'), 213: (283, 986, 'f1'), 214: (283, 986, 'f1'), 219: (574, 905, 'f2'), 220: (642, 453, 'f1'), 221: (283, 986, 'f1'), 223: (1316, 493, 'Danger!'), 224: (756, 445, 'f3')}\n",
      "CUR FRAME LEFT PTS\n",
      "[(1316, 493, 'Danger!'), (756, 445, 'Danger!')]\n"
     ]
    },
    {
     "name": "stderr",
     "output_type": "stream",
     "text": [
      "Speed: 1.1ms pre-process, 115.4ms inference, 1.1ms postprocess per image at shape (1, 3, 640, 640)\n",
      "\n",
      "0: 384x640 14 cars, 1 truck, 89.7ms\n",
      "Speed: 0.9ms pre-process, 89.7ms inference, 1.0ms postprocess per image at shape (1, 3, 640, 640)\n"
     ]
    },
    {
     "name": "stdout",
     "output_type": "stream",
     "text": [
      "Tracking objects\n",
      "{0: (1225, 882, 'f5'), 7: (982, 590, 'f5'), 61: (543, 635, 'f1'), 83: (925, 506, 'f5'), 84: (889, 634, 'f4'), 106: (693, 485, 'f2'), 149: (613, 498, 'f1'), 156: (765, 512, 'f3'), 161: (827, 471, 'f4'), 173: (804, 795, 'f3'), 190: (1225, 882, 'f5'), 211: (1470, 480, 'Danger!'), 213: (278, 993, 'f1'), 214: (278, 993, 'f1'), 219: (569, 917, 'f2'), 221: (278, 993, 'f1'), 223: (1306, 490, 'Danger!')}\n",
      "CUR FRAME LEFT PTS\n",
      "[]\n",
      "Tracking objects\n",
      "{0: (1229, 891, 'f5'), 7: (983, 591, 'f5'), 61: (542, 639, 'f1'), 83: (926, 507, 'f5'), 84: (893, 640, 'f4'), 106: (694, 486, 'f2'), 149: (611, 499, 'f1'), 156: (765, 513, 'f3'), 161: (826, 473, 'f4'), 173: (803, 802, 'f3'), 190: (1229, 891, 'f5'), 211: (1461, 480, 'Danger!'), 213: (275, 999, 'f1'), 214: (275, 999, 'f1'), 219: (567, 934, 'f2'), 221: (275, 999, 'f1'), 223: (1297, 486, 'Danger!'), 225: (637, 460, 'f1')}\n",
      "CUR FRAME LEFT PTS\n",
      "[(637, 460, 'Danger!')]\n"
     ]
    },
    {
     "name": "stderr",
     "output_type": "stream",
     "text": [
      "\n",
      "0: 384x640 15 cars, 1 truck, 125.7ms\n",
      "Speed: 1.0ms pre-process, 125.7ms inference, 2.0ms postprocess per image at shape (1, 3, 640, 640)\n",
      "\n",
      "0: 384x640 15 cars, 103.4ms\n"
     ]
    },
    {
     "name": "stdout",
     "output_type": "stream",
     "text": [
      "Tracking objects\n",
      "{0: (1238, 897, 'f5'), 7: (985, 592, 'f5'), 61: (540, 644, 'Danger!'), 83: (927, 507, 'f5'), 84: (893, 643, 'f4'), 106: (693, 488, 'f2'), 149: (610, 502, 'f1'), 156: (765, 516, 'f3'), 161: (827, 475, 'f4'), 173: (807, 809, 'f3'), 190: (1238, 897, 'f5'), 211: (1456, 478, 'Danger!'), 213: (268, 1007, 'f1'), 214: (268, 1007, 'f1'), 219: (563, 949, 'f2'), 221: (268, 1007, 'f1'), 223: (1288, 483, 'Danger!'), 225: (638, 459, 'f1'), 226: (757, 447, 'f3')}\n",
      "CUR FRAME LEFT PTS\n",
      "[(757, 447, 'Danger!')]\n"
     ]
    },
    {
     "name": "stderr",
     "output_type": "stream",
     "text": [
      "Speed: 1.0ms pre-process, 103.4ms inference, 1.0ms postprocess per image at shape (1, 3, 640, 640)\n",
      "\n",
      "0: 384x640 15 cars, 96.0ms\n",
      "Speed: 1.0ms pre-process, 96.0ms inference, 1.0ms postprocess per image at shape (1, 3, 640, 640)\n"
     ]
    },
    {
     "name": "stdout",
     "output_type": "stream",
     "text": [
      "Tracking objects\n",
      "{7: (985, 594, 'f5'), 61: (534, 651, 'f1'), 83: (929, 511, 'f5'), 84: (900, 651, 'f4'), 106: (693, 493, 'f2'), 149: (610, 503, 'f1'), 156: (766, 518, 'f3'), 161: (828, 479, 'f4'), 173: (807, 826, 'f3'), 211: (1439, 471, 'Danger!'), 213: (259, 1021, 'f1'), 214: (259, 1021, 'f1'), 221: (259, 1021, 'f1'), 223: (1277, 481, 'Danger!'), 225: (636, 461, 'f1'), 227: (1252, 913, 'f5'), 228: (891, 472, 'f5')}\n",
      "CUR FRAME LEFT PTS\n",
      "[(1252, 913, 'Danger!'), (891, 472, 'Danger!')]\n",
      "Tracking objects\n",
      "{7: (990, 596, 'f5'), 61: (532, 655, 'f1'), 83: (930, 513, 'f5'), 84: (900, 654, 'f4'), 106: (692, 493, 'f2'), 149: (608, 507, 'f1'), 156: (766, 520, 'f3'), 161: (829, 480, 'f4'), 173: (808, 834, 'f3'), 211: (1434, 469, 'Danger!'), 213: (251, 1029, 'f1'), 214: (251, 1029, 'f1'), 221: (251, 1029, 'f1'), 223: (1262, 474, 'Danger!'), 225: (635, 461, 'f1'), 227: (1259, 925, 'f5'), 228: (891, 473, 'f5')}\n",
      "CUR FRAME LEFT PTS\n",
      "[]\n"
     ]
    },
    {
     "name": "stderr",
     "output_type": "stream",
     "text": [
      "\n",
      "0: 384x640 14 cars, 1 bus, 1 truck, 99.4ms\n",
      "Speed: 0.0ms pre-process, 99.4ms inference, 1.0ms postprocess per image at shape (1, 3, 640, 640)\n",
      "\n"
     ]
    },
    {
     "name": "stdout",
     "output_type": "stream",
     "text": [
      "Tracking objects\n",
      "{7: (991, 600, 'f5'), 61: (532, 658, 'Danger!'), 83: (930, 513, 'f5'), 84: (902, 661, 'f4'), 106: (692, 494, 'f2'), 149: (608, 506, 'f1'), 156: (766, 522, 'f3'), 161: (828, 481, 'f4'), 173: (809, 844, 'f3'), 213: (245, 1036, 'f1'), 214: (245, 1036, 'f1'), 221: (245, 1036, 'f1'), 223: (1251, 473, 'Danger!'), 225: (636, 462, 'f1'), 227: (1266, 934, 'f5'), 228: (893, 474, 'f5'), 229: (902, 674, 'f4'), 230: (556, 963, 'f2')}\n",
      "CUR FRAME LEFT PTS\n",
      "[(902, 674, 'Danger!'), (556, 963, 'Danger!')]\n"
     ]
    },
    {
     "name": "stderr",
     "output_type": "stream",
     "text": [
      "0: 384x640 16 cars, 1 bus, 96.5ms\n",
      "Speed: 1.0ms pre-process, 96.5ms inference, 1.0ms postprocess per image at shape (1, 3, 640, 640)\n",
      "\n",
      "0: 384x640 16 cars, 76.8ms\n",
      "Speed: 1.0ms pre-process, 76.8ms inference, 1.0ms postprocess per image at shape (1, 3, 640, 640)\n"
     ]
    },
    {
     "name": "stdout",
     "output_type": "stream",
     "text": [
      "Tracking objects\n",
      "{7: (992, 602, 'f5'), 61: (529, 664, 'Danger!'), 83: (929, 512, 'f5'), 84: (905, 665, 'f4'), 106: (692, 496, 'f2'), 149: (608, 509, 'f1'), 156: (768, 525, 'f3'), 161: (830, 482, 'f4'), 213: (241, 1045, 'f1'), 214: (241, 1045, 'f1'), 221: (241, 1045, 'f1'), 223: (1245, 468, 'Danger!'), 227: (1275, 943, 'f5'), 228: (893, 473, 'f5'), 229: (905, 665, 'f4'), 230: (554, 981, 'f2'), 231: (962, 470, 'Danger!'), 232: (757, 452, 'f3'), 233: (811, 882, 'f3'), 234: (804, 817, 'f3')}\n",
      "CUR FRAME LEFT PTS\n",
      "[(962, 470, 'Danger!'), (757, 452, 'Danger!'), (811, 882, 'Danger!'), (804, 817, 'Danger!')]\n",
      "Tracking objects\n",
      "{7: (995, 605, 'f5'), 61: (524, 671, 'Danger!'), 83: (932, 515, 'f5'), 84: (908, 674, 'f4'), 106: (691, 499, 'f2'), 149: (604, 512, 'f1'), 156: (768, 528, 'f3'), 161: (830, 482, 'f4'), 223: (1230, 462, 'Danger!'), 228: (893, 475, 'f5'), 229: (908, 674, 'f4'), 231: (965, 473, 'Danger!'), 232: (757, 453, 'f3'), 233: (813, 873, 'Danger!'), 235: (1290, 964, 'f5'), 236: (1890, 742, 'Danger!'), 237: (633, 464, 'f1')}\n",
      "CUR FRAME LEFT PTS\n",
      "[(1290, 964, 'Danger!'), (1890, 742, 'Danger!'), (633, 464, 'Danger!')]\n"
     ]
    },
    {
     "name": "stderr",
     "output_type": "stream",
     "text": [
      "\n",
      "0: 384x640 16 cars, 1 truck, 91.7ms\n",
      "Speed: 0.1ms pre-process, 91.7ms inference, 1.0ms postprocess per image at shape (1, 3, 640, 640)\n",
      "\n",
      "0: 384x640 16 cars, 103.1ms\n"
     ]
    },
    {
     "name": "stdout",
     "output_type": "stream",
     "text": [
      "Tracking objects\n",
      "{7: (996, 606, 'f5'), 61: (524, 675, 'Danger!'), 83: (933, 517, 'f5'), 84: (909, 679, 'f4'), 106: (690, 501, 'f2'), 149: (603, 515, 'f1'), 156: (767, 531, 'f3'), 161: (832, 484, 'f4'), 223: (1223, 463, 'Danger!'), 228: (893, 475, 'f5'), 229: (909, 679, 'f4'), 231: (967, 475, 'Danger!'), 232: (758, 454, 'f3'), 233: (816, 883, 'Danger!'), 235: (1300, 970, 'f5'), 236: (1872, 736, 'Danger!'), 237: (633, 466, 'f1')}\n",
      "CUR FRAME LEFT PTS\n",
      "[]\n"
     ]
    },
    {
     "name": "stderr",
     "output_type": "stream",
     "text": [
      "Speed: 1.0ms pre-process, 103.1ms inference, 1.0ms postprocess per image at shape (1, 3, 640, 640)\n",
      "\n",
      "0: 384x640 17 cars, 1 truck, 87.4ms\n"
     ]
    },
    {
     "name": "stdout",
     "output_type": "stream",
     "text": [
      "Tracking objects\n",
      "{7: (996, 607, 'f5'), 61: (517, 682, 'Danger!'), 83: (933, 520, 'f5'), 84: (912, 683, 'f4'), 106: (691, 502, 'f2'), 149: (604, 515, 'f1'), 156: (766, 531, 'f3'), 161: (833, 489, 'f4'), 223: (1217, 460, 'Danger!'), 228: (895, 475, 'f5'), 229: (912, 683, 'f4'), 231: (967, 475, 'Danger!'), 232: (758, 458, 'f3'), 233: (816, 895, 'Danger!'), 235: (1308, 972, 'f5'), 237: (633, 467, 'f1'), 238: (1392, 461, 'Danger!')}\n",
      "CUR FRAME LEFT PTS\n",
      "[(1392, 461, 'Danger!')]\n"
     ]
    },
    {
     "name": "stderr",
     "output_type": "stream",
     "text": [
      "Speed: 1.0ms pre-process, 87.4ms inference, 1.0ms postprocess per image at shape (1, 3, 640, 640)\n",
      "\n",
      "0: 384x640 16 cars, 103.5ms\n",
      "Speed: 1.0ms pre-process, 103.5ms inference, 1.0ms postprocess per image at shape (1, 3, 640, 640)\n"
     ]
    },
    {
     "name": "stdout",
     "output_type": "stream",
     "text": [
      "Tracking objects\n",
      "{7: (997, 608, 'f5'), 61: (515, 685, 'Danger!'), 83: (934, 520, 'f5'), 84: (915, 688, 'f4'), 106: (690, 504, 'f2'), 149: (602, 518, 'f1'), 156: (767, 532, 'f3'), 161: (834, 489, 'f4'), 223: (1210, 457, 'Danger!'), 228: (895, 476, 'f5'), 229: (915, 688, 'f4'), 231: (970, 479, 'Danger!'), 232: (758, 457, 'f3'), 233: (816, 905, 'Danger!'), 235: (1316, 977, 'f5'), 237: (632, 467, 'f1'), 239: (807, 865, 'f3'), 240: (1839, 724, 'Danger!'), 241: (538, 1028, 'f2')}\n",
      "CUR FRAME LEFT PTS\n",
      "[(807, 865, 'Danger!'), (1839, 724, 'Danger!'), (538, 1028, 'Danger!')]\n",
      "Tracking objects\n",
      "{7: (1000, 612, 'f5'), 61: (511, 693, 'Danger!'), 83: (935, 521, 'f5'), 84: (919, 697, 'f4'), 106: (691, 508, 'f2'), 149: (601, 523, 'f1'), 156: (768, 533, 'f3'), 161: (834, 491, 'f4'), 223: (1201, 455, 'Danger!'), 228: (896, 476, 'f5'), 229: (919, 697, 'f4'), 231: (974, 484, 'Danger!'), 232: (761, 460, 'f3'), 235: (1331, 986, 'Danger!'), 237: (630, 468, 'f1'), 242: (1803, 694, 'Danger!'), 243: (820, 929, 'Danger!')}\n",
      "CUR FRAME LEFT PTS\n",
      "[(1803, 694, 'Danger!'), (820, 929, 'Danger!')]\n"
     ]
    },
    {
     "name": "stderr",
     "output_type": "stream",
     "text": [
      "\n",
      "0: 384x640 17 cars, 114.2ms\n",
      "Speed: 2.0ms pre-process, 114.2ms inference, 1.0ms postprocess per image at shape (1, 3, 640, 640)\n",
      "\n",
      "0: 384x640 17 cars, 109.8ms\n",
      "Speed: 1.0ms pre-process, 109.8ms inference, 2.1ms postprocess per image at shape (1, 3, 640, 640)\n",
      "\n"
     ]
    },
    {
     "name": "stdout",
     "output_type": "stream",
     "text": [
      "Tracking objects\n",
      "{7: (1001, 614, 'f5'), 61: (509, 699, 'Danger!'), 83: (936, 521, 'f5'), 84: (920, 702, 'f4'), 106: (691, 508, 'f2'), 149: (599, 523, 'f1'), 156: (769, 535, 'f3'), 161: (835, 493, 'f4'), 223: (1192, 452, 'Danger!'), 228: (895, 477, 'f5'), 229: (920, 702, 'f4'), 231: (981, 487, 'Danger!'), 232: (759, 459, 'f3'), 235: (1335, 990, 'Danger!'), 237: (629, 469, 'f1'), 243: (821, 942, 'Danger!'), 244: (1772, 679, 'Danger!'), 245: (1368, 454, 'Danger!')}\n",
      "CUR FRAME LEFT PTS\n",
      "[(1772, 679, 'Danger!'), (1368, 454, 'Danger!')]\n",
      "Tracking objects\n",
      "{7: (1001, 615, 'f5'), 61: (505, 706, 'Danger!'), 83: (937, 520, 'f5'), 84: (923, 707, 'f4'), 106: (690, 512, 'f2'), 149: (596, 525, 'f1'), 156: (770, 536, 'f3'), 161: (837, 495, 'f4'), 223: (1185, 448, 'Danger!'), 228: (895, 477, 'f5'), 229: (923, 707, 'f4'), 231: (983, 489, 'Danger!'), 232: (760, 459, 'f3'), 235: (1342, 996, 'Danger!'), 237: (630, 469, 'f1'), 243: (822, 955, 'Danger!'), 246: (1741, 669, 'Danger!'), 247: (1716, 670, 'Danger!')}\n",
      "CUR FRAME LEFT PTS\n",
      "[(1741, 669, 'Danger!'), (1716, 670, 'Danger!')]\n"
     ]
    },
    {
     "name": "stderr",
     "output_type": "stream",
     "text": [
      "0: 384x640 16 cars, 1 truck, 107.0ms\n",
      "Speed: 1.0ms pre-process, 107.0ms inference, 2.1ms postprocess per image at shape (1, 3, 640, 640)\n",
      "\n",
      "0: 384x640 16 cars, 108.9ms\n",
      "Speed: 1.9ms pre-process, 108.9ms inference, 1.1ms postprocess per image at shape (1, 3, 640, 640)\n",
      "\n"
     ]
    },
    {
     "name": "stdout",
     "output_type": "stream",
     "text": [
      "Tracking objects\n",
      "{7: (1008, 619, 'f5'), 61: (502, 710, 'Danger!'), 83: (937, 520, 'f5'), 84: (924, 714, 'f4'), 106: (689, 512, 'f2'), 149: (595, 527, 'f1'), 156: (769, 538, 'f3'), 161: (836, 494, 'f4'), 223: (1183, 446, 'Danger!'), 228: (895, 477, 'f5'), 229: (924, 714, 'f4'), 231: (985, 490, 'Danger!'), 232: (762, 459, 'f3'), 235: (1348, 1000, 'Danger!'), 237: (630, 469, 'f1'), 243: (824, 966, 'Danger!'), 247: (1712, 657, 'Danger!')}\n",
      "CUR FRAME LEFT PTS\n",
      "[]\n",
      "Tracking objects\n",
      "{7: (1013, 624, 'f5'), 61: (495, 721, 'Danger!'), 83: (940, 521, 'f5'), 84: (930, 726, 'f4'), 106: (687, 516, 'f2'), 149: (594, 530, 'f1'), 156: (770, 542, 'f3'), 161: (838, 497, 'f4'), 223: (1167, 441, 'Danger!'), 228: (896, 478, 'f5'), 229: (930, 726, 'f4'), 231: (990, 494, 'Danger!'), 232: (761, 462, 'f3'), 235: (1364, 1011, 'Danger!'), 237: (628, 477, 'f1'), 243: (825, 977, 'Danger!'), 248: (1661, 639, 'Danger!')}\n",
      "CUR FRAME LEFT PTS\n",
      "[(1661, 639, 'Danger!')]\n"
     ]
    },
    {
     "name": "stderr",
     "output_type": "stream",
     "text": [
      "0: 384x640 17 cars, 122.3ms\n",
      "Speed: 1.0ms pre-process, 122.3ms inference, 1.2ms postprocess per image at shape (1, 3, 640, 640)\n",
      "\n",
      "0: 384x640 16 cars, 104.5ms\n",
      "Speed: 1.0ms pre-process, 104.5ms inference, 1.1ms postprocess per image at shape (1, 3, 640, 640)\n",
      "\n"
     ]
    },
    {
     "name": "stdout",
     "output_type": "stream",
     "text": [
      "Tracking objects\n",
      "{7: (1009, 624, 'f5'), 61: (494, 727, 'Danger!'), 83: (941, 525, 'f5'), 84: (932, 731, 'f4'), 106: (688, 518, 'f2'), 149: (593, 533, 'f1'), 156: (771, 546, 'f3'), 161: (839, 498, 'f4'), 223: (1163, 442, 'Danger!'), 228: (897, 479, 'f5'), 229: (932, 731, 'f4'), 231: (992, 496, 'Danger!'), 232: (762, 462, 'f3'), 235: (1367, 1015, 'Danger!'), 237: (627, 477, 'f1'), 243: (825, 961, 'Danger!'), 249: (1637, 630, 'Danger!'), 250: (1343, 446, 'Danger!')}\n",
      "CUR FRAME LEFT PTS\n",
      "[(1637, 630, 'Danger!'), (1343, 446, 'Danger!')]\n",
      "Tracking objects\n",
      "{7: (1013, 626, 'f5'), 61: (491, 732, 'Danger!'), 83: (942, 528, 'f5'), 84: (934, 738, 'f4'), 106: (688, 519, 'f2'), 149: (592, 535, 'f1'), 156: (772, 547, 'f3'), 161: (839, 501, 'f4'), 223: (1158, 441, 'Danger!'), 228: (897, 479, 'f5'), 229: (934, 738, 'f4'), 231: (995, 497, 'Danger!'), 232: (762, 463, 'f3'), 235: (1377, 1020, 'Danger!'), 237: (627, 478, 'f1'), 243: (823, 977, 'Danger!'), 251: (1615, 622, 'Danger!')}\n",
      "CUR FRAME LEFT PTS\n",
      "[(1615, 622, 'Danger!')]\n"
     ]
    },
    {
     "name": "stderr",
     "output_type": "stream",
     "text": [
      "0: 384x640 16 cars, 93.8ms\n",
      "Speed: 0.9ms pre-process, 93.8ms inference, 1.7ms postprocess per image at shape (1, 3, 640, 640)\n",
      "\n",
      "0: 384x640 15 cars, 1 truck, 96.0ms\n",
      "Speed: 0.5ms pre-process, 96.0ms inference, 1.0ms postprocess per image at shape (1, 3, 640, 640)\n",
      "\n"
     ]
    },
    {
     "name": "stdout",
     "output_type": "stream",
     "text": [
      "Tracking objects\n",
      "{7: (1015, 627, 'f5'), 61: (487, 740, 'Danger!'), 83: (942, 529, 'f5'), 84: (938, 745, 'f4'), 106: (687, 521, 'f2'), 149: (591, 536, 'f1'), 156: (771, 549, 'f3'), 161: (840, 501, 'f4'), 223: (1154, 440, 'Danger!'), 228: (897, 478, 'f5'), 229: (938, 745, 'f4'), 231: (999, 502, 'Danger!'), 232: (762, 464, 'f3'), 237: (626, 482, 'f1'), 243: (824, 990, 'Danger!'), 252: (1592, 613, 'Danger!'), 253: (1399, 1026, 'Danger!')}\n",
      "CUR FRAME LEFT PTS\n",
      "[(1592, 613, 'Danger!'), (1399, 1026, 'Danger!')]\n",
      "Tracking objects\n",
      "{7: (1017, 631, 'f5'), 61: (480, 750, 'Danger!'), 83: (944, 529, 'f5'), 106: (686, 523, 'f2'), 149: (588, 542, 'f1'), 156: (772, 550, 'f3'), 161: (841, 505, 'f4'), 223: (1140, 436, 'Danger!'), 228: (898, 480, 'f5'), 231: (1005, 509, 'Danger!'), 232: (762, 465, 'f3'), 237: (627, 482, 'f1'), 243: (830, 1007, 'Danger!'), 254: (1553, 597, 'Danger!'), 255: (948, 763, 'f4')}\n",
      "CUR FRAME LEFT PTS\n",
      "[(1553, 597, 'Danger!'), (948, 763, 'Danger!')]\n"
     ]
    },
    {
     "name": "stderr",
     "output_type": "stream",
     "text": [
      "0: 384x640 15 cars, 1 truck, 92.1ms\n",
      "Speed: 0.2ms pre-process, 92.1ms inference, 1.0ms postprocess per image at shape (1, 3, 640, 640)\n",
      "\n",
      "0: 384x640 15 cars, 1 truck, 96.4ms\n",
      "Speed: 1.4ms pre-process, 96.4ms inference, 1.0ms postprocess per image at shape (1, 3, 640, 640)\n",
      "\n"
     ]
    },
    {
     "name": "stdout",
     "output_type": "stream",
     "text": [
      "Tracking objects\n",
      "{7: (1017, 632, 'f5'), 61: (475, 756, 'Danger!'), 83: (945, 530, 'f5'), 106: (686, 527, 'f2'), 149: (589, 543, 'f1'), 156: (772, 552, 'f3'), 161: (843, 508, 'f4'), 223: (1138, 435, 'Danger!'), 228: (900, 480, 'f5'), 231: (1007, 510, 'Danger!'), 232: (762, 469, 'f3'), 237: (625, 485, 'f1'), 243: (834, 1014, 'Danger!'), 255: (952, 772, 'f4'), 256: (1533, 589, 'Danger!')}\n",
      "CUR FRAME LEFT PTS\n",
      "[(1533, 589, 'Danger!')]\n",
      "Tracking objects\n",
      "{7: (1019, 634, 'f5'), 61: (473, 760, 'Danger!'), 83: (945, 532, 'f5'), 106: (686, 527, 'f2'), 149: (586, 547, 'f1'), 156: (771, 552, 'f3'), 161: (842, 507, 'f4'), 223: (1134, 432, 'Danger!'), 228: (901, 480, 'f5'), 231: (1012, 511, 'Danger!'), 232: (762, 470, 'f3'), 237: (625, 485, 'f1'), 243: (828, 1021, 'Danger!'), 255: (953, 772, 'f4'), 257: (1514, 582, 'Danger!')}\n",
      "CUR FRAME LEFT PTS\n",
      "[(1514, 582, 'Danger!')]\n"
     ]
    },
    {
     "name": "stderr",
     "output_type": "stream",
     "text": [
      "0: 384x640 15 cars, 93.1ms\n",
      "Speed: 1.4ms pre-process, 93.1ms inference, 1.3ms postprocess per image at shape (1, 3, 640, 640)\n",
      "\n",
      "0: 384x640 14 cars, 1 truck, 122.1ms\n",
      "Speed: 1.0ms pre-process, 122.1ms inference, 1.6ms postprocess per image at shape (1, 3, 640, 640)\n",
      "\n"
     ]
    },
    {
     "name": "stdout",
     "output_type": "stream",
     "text": [
      "Tracking objects\n",
      "{7: (1019, 635, 'f5'), 61: (468, 767, 'Danger!'), 83: (948, 532, 'f5'), 106: (686, 531, 'f2'), 149: (585, 549, 'f1'), 156: (773, 554, 'f3'), 161: (843, 507, 'f4'), 223: (1131, 430, 'Danger!'), 228: (902, 481, 'f5'), 231: (1015, 516, 'Danger!'), 232: (762, 468, 'f3'), 237: (624, 488, 'f1'), 243: (832, 1029, 'Danger!'), 255: (955, 779, 'f4'), 257: (1498, 576, 'Danger!')}\n",
      "CUR FRAME LEFT PTS\n",
      "[]\n",
      "Tracking objects\n",
      "{7: (1024, 641, 'f5'), 61: (460, 784, 'Danger!'), 83: (949, 533, 'f5'), 106: (686, 534, 'f2'), 149: (582, 553, 'f1'), 156: (774, 558, 'f3'), 161: (844, 510, 'f4'), 223: (1119, 428, 'Danger!'), 228: (902, 481, 'f5'), 231: (1024, 520, 'Danger!'), 232: (762, 472, 'f3'), 237: (622, 489, 'f1'), 255: (960, 796, 'f4'), 258: (1465, 565, 'Danger!')}\n",
      "CUR FRAME LEFT PTS\n",
      "[(1465, 565, 'Danger!')]\n"
     ]
    },
    {
     "name": "stderr",
     "output_type": "stream",
     "text": [
      "0: 384x640 14 cars, 123.4ms\n",
      "Speed: 1.3ms pre-process, 123.4ms inference, 1.0ms postprocess per image at shape (1, 3, 640, 640)\n",
      "\n",
      "0: 384x640 14 cars, 105.5ms\n",
      "Speed: 1.0ms pre-process, 105.5ms inference, 1.0ms postprocess per image at shape (1, 3, 640, 640)\n",
      "\n"
     ]
    },
    {
     "name": "stdout",
     "output_type": "stream",
     "text": [
      "Tracking objects\n",
      "{7: (1027, 641, 'f5'), 61: (457, 789, 'Danger!'), 83: (951, 534, 'f5'), 106: (685, 536, 'f2'), 149: (581, 557, 'f1'), 156: (774, 561, 'f3'), 161: (845, 511, 'f4'), 223: (1113, 426, 'Danger!'), 228: (901, 482, 'f5'), 231: (1027, 522, 'Danger!'), 232: (762, 474, 'f3'), 237: (622, 491, 'f1'), 255: (968, 807, 'f4'), 258: (1451, 558, 'Danger!')}\n",
      "CUR FRAME LEFT PTS\n",
      "[]\n",
      "Tracking objects\n",
      "{7: (1027, 645, 'f5'), 61: (453, 797, 'Danger!'), 83: (951, 533, 'f5'), 106: (684, 539, 'f2'), 149: (580, 558, 'f1'), 156: (774, 564, 'f3'), 161: (845, 513, 'f4'), 223: (1110, 424, 'Danger!'), 228: (902, 482, 'f5'), 231: (1031, 528, 'Danger!'), 232: (762, 476, 'f3'), 237: (620, 491, 'f1'), 255: (971, 813, 'f4'), 258: (1435, 555, 'Danger!')}\n",
      "CUR FRAME LEFT PTS\n",
      "[]\n"
     ]
    },
    {
     "name": "stderr",
     "output_type": "stream",
     "text": [
      "0: 384x640 15 cars, 98.9ms\n",
      "Speed: 1.1ms pre-process, 98.9ms inference, 1.0ms postprocess per image at shape (1, 3, 640, 640)\n",
      "\n",
      "0: 384x640 13 cars, 1 truck, 98.3ms\n",
      "Speed: 1.0ms pre-process, 98.3ms inference, 1.1ms postprocess per image at shape (1, 3, 640, 640)\n",
      "\n"
     ]
    },
    {
     "name": "stdout",
     "output_type": "stream",
     "text": [
      "Tracking objects\n",
      "{7: (1036, 661, 'f5'), 61: (447, 806, 'Danger!'), 83: (952, 534, 'f5'), 106: (684, 542, 'f2'), 149: (579, 560, 'f1'), 156: (774, 564, 'f3'), 161: (847, 512, 'f4'), 223: (1107, 421, 'Danger!'), 228: (903, 484, 'f5'), 231: (1033, 528, 'Danger!'), 232: (762, 475, 'f3'), 237: (619, 494, 'f1'), 255: (967, 822, 'f4'), 258: (1423, 548, 'Danger!')}\n",
      "CUR FRAME LEFT PTS\n",
      "[]\n",
      "Tracking objects\n",
      "{7: (1035, 653, 'f5'), 61: (439, 821, 'Danger!'), 83: (952, 538, 'f5'), 106: (684, 545, 'f2'), 149: (576, 564, 'f1'), 156: (776, 568, 'f3'), 161: (848, 517, 'f4'), 228: (903, 485, 'f5'), 231: (1041, 537, 'Danger!'), 232: (763, 477, 'f3'), 237: (617, 496, 'f1'), 259: (1396, 540, 'Danger!'), 260: (976, 841, 'f4'), 261: (977, 841, 'f4')}\n",
      "CUR FRAME LEFT PTS\n",
      "[(1396, 540, 'Danger!'), (976, 841, 'Danger!'), (977, 841, 'Danger!')]\n"
     ]
    },
    {
     "name": "stderr",
     "output_type": "stream",
     "text": [
      "0: 384x640 12 cars, 1 truck, 92.3ms\n",
      "Speed: 1.0ms pre-process, 92.3ms inference, 1.0ms postprocess per image at shape (1, 3, 640, 640)\n",
      "\n",
      "0: 384x640 13 cars, 1 truck, 103.8ms\n",
      "Speed: 0.9ms pre-process, 103.8ms inference, 1.1ms postprocess per image at shape (1, 3, 640, 640)\n",
      "\n"
     ]
    },
    {
     "name": "stdout",
     "output_type": "stream",
     "text": [
      "Tracking objects\n",
      "{7: (1036, 654, 'f5'), 61: (434, 829, 'Danger!'), 83: (954, 538, 'f5'), 106: (683, 547, 'f2'), 149: (574, 567, 'f1'), 156: (776, 571, 'f3'), 161: (848, 519, 'f4'), 228: (903, 485, 'f5'), 231: (1046, 540, 'Danger!'), 232: (763, 478, 'f3'), 237: (618, 497, 'f1'), 259: (1381, 533, 'Danger!'), 260: (984, 850, 'f4'), 261: (984, 850, 'f4')}\n",
      "CUR FRAME LEFT PTS\n",
      "[]\n",
      "Tracking objects\n",
      "{7: (1036, 657, 'f5'), 61: (429, 838, 'Danger!'), 83: (956, 540, 'f5'), 106: (681, 548, 'f2'), 149: (574, 570, 'f1'), 156: (775, 571, 'f3'), 161: (850, 522, 'f4'), 228: (904, 485, 'f5'), 231: (1049, 541, 'Danger!'), 232: (764, 479, 'f3'), 237: (616, 498, 'f1'), 259: (1373, 529, 'Danger!'), 260: (988, 861, 'f4'), 261: (988, 861, 'f4')}\n",
      "CUR FRAME LEFT PTS\n",
      "[]\n"
     ]
    },
    {
     "name": "stderr",
     "output_type": "stream",
     "text": [
      "0: 384x640 14 cars, 2 trucks, 105.9ms\n",
      "Speed: 1.0ms pre-process, 105.9ms inference, 1.1ms postprocess per image at shape (1, 3, 640, 640)\n",
      "\n",
      "0: 384x640 15 cars, 106.7ms\n",
      "Speed: 0.0ms pre-process, 106.7ms inference, 1.3ms postprocess per image at shape (1, 3, 640, 640)\n",
      "\n"
     ]
    },
    {
     "name": "stdout",
     "output_type": "stream",
     "text": [
      "Tracking objects\n",
      "{7: (1041, 661, 'f5'), 61: (424, 847, 'Danger!'), 83: (955, 541, 'f5'), 106: (682, 554, 'f2'), 149: (572, 574, 'f1'), 156: (775, 574, 'f3'), 161: (849, 523, 'f4'), 231: (1054, 546, 'Danger!'), 232: (763, 479, 'f3'), 237: (615, 499, 'f1'), 259: (1362, 526, 'Danger!'), 260: (993, 872, 'f4'), 261: (993, 872, 'f4'), 262: (1886, 613, 'Danger!'), 263: (1092, 412, 'Danger!')}\n",
      "CUR FRAME LEFT PTS\n",
      "[(1886, 613, 'Danger!'), (1092, 412, 'Danger!')]\n",
      "Tracking objects\n",
      "{7: (1045, 666, 'f5'), 83: (958, 543, 'f5'), 106: (682, 559, 'f2'), 149: (570, 576, 'f1'), 156: (778, 575, 'f3'), 161: (851, 524, 'f4'), 231: (1063, 554, 'Danger!'), 232: (763, 481, 'f3'), 237: (612, 503, 'f1'), 262: (1868, 609, 'Danger!'), 263: (1087, 411, 'Danger!'), 264: (413, 866, 'Danger!'), 265: (1340, 519, 'Danger!'), 266: (1003, 893, 'f4'), 267: (904, 487, 'f5')}\n",
      "CUR FRAME LEFT PTS\n",
      "[(413, 866, 'Danger!'), (1340, 519, 'Danger!'), (1003, 893, 'Danger!'), (904, 487, 'Danger!')]\n"
     ]
    },
    {
     "name": "stderr",
     "output_type": "stream",
     "text": [
      "0: 384x640 14 cars, 108.2ms\n",
      "Speed: 1.0ms pre-process, 108.2ms inference, 2.0ms postprocess per image at shape (1, 3, 640, 640)\n",
      "\n",
      "0: 384x640 16 cars, 92.6ms\n",
      "Speed: 0.0ms pre-process, 92.6ms inference, 1.0ms postprocess per image at shape (1, 3, 640, 640)\n",
      "\n"
     ]
    },
    {
     "name": "stdout",
     "output_type": "stream",
     "text": [
      "Tracking objects\n",
      "{7: (1048, 668, 'f5'), 83: (958, 544, 'f5'), 106: (681, 561, 'f2'), 149: (568, 580, 'f1'), 156: (779, 578, 'f3'), 161: (852, 528, 'f4'), 231: (1069, 558, 'Danger!'), 232: (764, 485, 'f3'), 237: (612, 506, 'f1'), 264: (407, 877, 'Danger!'), 265: (1328, 516, 'Danger!'), 266: (1009, 908, 'f4'), 267: (903, 488, 'f5'), 268: (826, 477, 'f4')}\n",
      "CUR FRAME LEFT PTS\n",
      "[(826, 477, 'Danger!')]\n",
      "Tracking objects\n",
      "{7: (1051, 671, 'f5'), 83: (959, 546, 'f5'), 106: (680, 562, 'f2'), 149: (568, 582, 'f1'), 156: (778, 579, 'f3'), 161: (852, 528, 'f4'), 231: (1072, 562, 'Danger!'), 232: (763, 485, 'f3'), 237: (611, 505, 'f1'), 264: (402, 886, 'Danger!'), 265: (1319, 510, 'Danger!'), 266: (1014, 920, 'f4'), 267: (904, 489, 'f5'), 268: (824, 477, 'f4'), 269: (1308, 509, 'Danger!'), 270: (1851, 603, 'Danger!')}\n",
      "CUR FRAME LEFT PTS\n",
      "[(1308, 509, 'Danger!'), (1851, 603, 'Danger!')]\n"
     ]
    },
    {
     "name": "stderr",
     "output_type": "stream",
     "text": [
      "0: 384x640 15 cars, 1 truck, 127.1ms\n",
      "Speed: 1.0ms pre-process, 127.1ms inference, 1.0ms postprocess per image at shape (1, 3, 640, 640)\n",
      "\n",
      "0: 384x640 13 cars, 1 bus, 2 trucks, 110.8ms\n",
      "Speed: 1.4ms pre-process, 110.8ms inference, 2.1ms postprocess per image at shape (1, 3, 640, 640)\n",
      "\n"
     ]
    },
    {
     "name": "stdout",
     "output_type": "stream",
     "text": [
      "Tracking objects\n",
      "{7: (1052, 672, 'f5'), 83: (960, 548, 'f5'), 106: (680, 564, 'f2'), 149: (566, 585, 'f1'), 156: (778, 582, 'f3'), 161: (854, 530, 'f4'), 231: (1077, 565, 'Danger!'), 232: (764, 485, 'f3'), 237: (610, 507, 'f1'), 264: (396, 897, 'Danger!'), 265: (1309, 507, 'Danger!'), 266: (1018, 932, 'f4'), 267: (905, 489, 'f5'), 268: (825, 477, 'f4'), 269: (1309, 507, 'Danger!'), 270: (1840, 596, 'Danger!')}\n",
      "CUR FRAME LEFT PTS\n",
      "[]\n",
      "Tracking objects\n",
      "{7: (1056, 678, 'f5'), 83: (962, 546, 'f5'), 106: (680, 571, 'f2'), 149: (563, 591, 'f1'), 156: (779, 586, 'f3'), 161: (856, 537, 'f4'), 231: (1087, 575, 'Danger!'), 232: (764, 484, 'f3'), 237: (609, 510, 'f1'), 265: (1291, 500, 'Danger!'), 267: (906, 489, 'f5'), 268: (827, 481, 'f4'), 269: (1291, 500, 'Danger!'), 271: (384, 918, 'Danger!'), 272: (1031, 963, 'f4'), 273: (384, 917, 'Danger!'), 274: (1031, 962, 'f4')}\n",
      "CUR FRAME LEFT PTS\n",
      "[(384, 918, 'Danger!'), (1031, 963, 'Danger!'), (384, 917, 'Danger!'), (1031, 962, 'Danger!')]\n"
     ]
    },
    {
     "name": "stderr",
     "output_type": "stream",
     "text": [
      "0: 384x640 15 cars, 1 bus, 2 trucks, 104.2ms\n",
      "Speed: 0.9ms pre-process, 104.2ms inference, 1.4ms postprocess per image at shape (1, 3, 640, 640)\n",
      "\n",
      "0: 384x640 15 cars, 1 truck, 108.3ms\n",
      "Speed: 1.0ms pre-process, 108.3ms inference, 2.1ms postprocess per image at shape (1, 3, 640, 640)\n",
      "\n"
     ]
    },
    {
     "name": "stdout",
     "output_type": "stream",
     "text": [
      "Tracking objects\n",
      "{7: (1059, 681, 'f5'), 83: (965, 549, 'f5'), 106: (679, 574, 'f2'), 149: (562, 593, 'f1'), 156: (779, 586, 'f3'), 161: (857, 537, 'f4'), 231: (1093, 582, 'Danger!'), 232: (764, 487, 'f3'), 237: (610, 511, 'f1'), 265: (1283, 497, 'Danger!'), 267: (906, 489, 'f5'), 268: (829, 482, 'f4'), 269: (1283, 497, 'Danger!'), 271: (376, 930, 'Danger!'), 272: (1039, 972, 'f4'), 273: (376, 930, 'Danger!'), 274: (1039, 972, 'f4'), 275: (1064, 409, 'Danger!'), 276: (1784, 582, 'Danger!')}\n",
      "CUR FRAME LEFT PTS\n",
      "[(1064, 409, 'Danger!'), (1784, 582, 'Danger!')]\n",
      "Tracking objects\n",
      "{7: (1061, 683, 'f5'), 83: (966, 551, 'f5'), 106: (677, 577, 'f2'), 149: (561, 595, 'f1'), 156: (779, 589, 'f3'), 161: (857, 538, 'f4'), 231: (1097, 585, 'Danger!'), 232: (766, 487, 'f3'), 237: (608, 513, 'f1'), 265: (1275, 493, 'Danger!'), 267: (906, 490, 'f5'), 268: (830, 482, 'f4'), 269: (1275, 493, 'Danger!'), 271: (370, 943, 'Danger!'), 272: (1045, 980, 'f4'), 273: (370, 943, 'Danger!'), 274: (1045, 980, 'f4'), 275: (1060, 406, 'Danger!'), 277: (346, 971, 'Danger!')}\n",
      "CUR FRAME LEFT PTS\n",
      "[(346, 971, 'Danger!')]\n"
     ]
    },
    {
     "name": "stderr",
     "output_type": "stream",
     "text": [
      "0: 384x640 16 cars, 1 bus, 102.8ms\n",
      "Speed: 1.0ms pre-process, 102.8ms inference, 2.0ms postprocess per image at shape (1, 3, 640, 640)\n",
      "\n",
      "0: 384x640 15 cars, 86.9ms\n",
      "Speed: 1.9ms pre-process, 86.9ms inference, 1.0ms postprocess per image at shape (1, 3, 640, 640)\n",
      "\n"
     ]
    },
    {
     "name": "stdout",
     "output_type": "stream",
     "text": [
      "Tracking objects\n",
      "{7: (1067, 689, 'f5'), 83: (968, 553, 'f5'), 106: (675, 581, 'f2'), 149: (558, 600, 'f1'), 156: (779, 593, 'f3'), 161: (858, 538, 'f4'), 231: (1103, 590, 'Danger!'), 232: (765, 493, 'f3'), 237: (607, 514, 'f1'), 265: (1267, 491, 'Danger!'), 267: (909, 492, 'f5'), 268: (829, 481, 'f4'), 269: (1267, 491, 'Danger!'), 271: (363, 954, 'Danger!'), 272: (1043, 988, 'f4'), 273: (363, 954, 'Danger!'), 274: (1043, 988, 'f4'), 275: (1061, 404, 'Danger!'), 278: (1811, 578, 'Danger!'), 279: (1749, 571, 'Danger!')}\n",
      "CUR FRAME LEFT PTS\n",
      "[(1811, 578, 'Danger!'), (1749, 571, 'Danger!')]\n",
      "Tracking objects\n",
      "{7: (1071, 692, 'f5'), 83: (969, 554, 'f5'), 106: (674, 585, 'f2'), 149: (555, 604, 'f1'), 156: (779, 603, 'f3'), 161: (859, 543, 'f4'), 231: (1120, 600, 'Danger!'), 232: (768, 492, 'f3'), 237: (606, 518, 'f1'), 265: (1251, 484, 'Danger!'), 267: (910, 493, 'f5'), 268: (830, 483, 'f4'), 269: (1251, 484, 'Danger!'), 272: (1052, 990, 'f4'), 274: (1052, 990, 'f4'), 279: (1733, 562, 'Danger!'), 280: (348, 976, 'Danger!')}\n",
      "CUR FRAME LEFT PTS\n",
      "[(348, 976, 'Danger!')]\n"
     ]
    },
    {
     "name": "stderr",
     "output_type": "stream",
     "text": [
      "0: 384x640 13 cars, 106.8ms\n",
      "Speed: 1.0ms pre-process, 106.8ms inference, 2.0ms postprocess per image at shape (1, 3, 640, 640)\n",
      "\n",
      "0: 384x640 14 cars, 96.2ms\n",
      "Speed: 0.9ms pre-process, 96.2ms inference, 1.0ms postprocess per image at shape (1, 3, 640, 640)\n",
      "\n"
     ]
    },
    {
     "name": "stdout",
     "output_type": "stream",
     "text": [
      "Tracking objects\n",
      "{7: (1074, 694, 'f5'), 83: (970, 553, 'f5'), 106: (671, 588, 'f2'), 149: (553, 607, 'f1'), 156: (780, 602, 'f3'), 161: (860, 545, 'f4'), 231: (1127, 608, 'Danger!'), 232: (767, 494, 'f3'), 237: (604, 521, 'f1'), 265: (1244, 482, 'Danger!'), 267: (913, 495, 'f5'), 269: (1244, 482, 'Danger!'), 272: (1059, 1005, 'f4'), 274: (1059, 1005, 'f4'), 280: (341, 982, 'Danger!')}\n",
      "CUR FRAME LEFT PTS\n",
      "[]\n",
      "Tracking objects\n",
      "{7: (1076, 698, 'f5'), 83: (970, 553, 'f5'), 106: (671, 590, 'f2'), 149: (551, 611, 'f1'), 156: (780, 601, 'f3'), 161: (861, 547, 'f4'), 231: (1135, 615, 'Danger!'), 232: (768, 496, 'f3'), 237: (603, 522, 'f1'), 265: (1239, 481, 'Danger!'), 267: (913, 494, 'f5'), 269: (1239, 481, 'Danger!'), 272: (1069, 1013, 'f4'), 274: (1069, 1013, 'f4'), 280: (333, 987, 'Danger!'), 281: (1704, 554, 'Danger!')}\n",
      "CUR FRAME LEFT PTS\n",
      "[(1704, 554, 'Danger!')]\n"
     ]
    },
    {
     "name": "stderr",
     "output_type": "stream",
     "text": [
      "0: 384x640 14 cars, 95.7ms\n",
      "Speed: 1.0ms pre-process, 95.7ms inference, 0.6ms postprocess per image at shape (1, 3, 640, 640)\n",
      "\n",
      "0: 384x640 15 cars, 96.0ms\n",
      "Speed: 1.0ms pre-process, 96.0ms inference, 1.0ms postprocess per image at shape (1, 3, 640, 640)\n",
      "\n"
     ]
    },
    {
     "name": "stdout",
     "output_type": "stream",
     "text": [
      "Tracking objects\n",
      "{7: (1078, 701, 'f5'), 83: (972, 557, 'f5'), 106: (671, 593, 'f2'), 149: (550, 614, 'f1'), 156: (781, 604, 'f3'), 161: (863, 548, 'f4'), 231: (1142, 619, 'Danger!'), 232: (767, 495, 'f3'), 237: (603, 523, 'f1'), 265: (1231, 477, 'Danger!'), 267: (914, 494, 'f5'), 269: (1231, 477, 'Danger!'), 272: (1072, 1023, 'f4'), 274: (1072, 1023, 'f4'), 280: (329, 994, 'Danger!'), 281: (1689, 549, 'Danger!')}\n",
      "CUR FRAME LEFT PTS\n",
      "[]\n",
      "Tracking objects\n",
      "{7: (1084, 709, 'f5'), 83: (973, 556, 'f5'), 106: (670, 602, 'f2'), 149: (548, 621, 'f1'), 156: (782, 608, 'f3'), 161: (864, 551, 'f4'), 232: (767, 499, 'f3'), 237: (601, 527, 'f1'), 265: (1229, 471, 'Danger!'), 267: (914, 495, 'f5'), 269: (1229, 471, 'Danger!'), 282: (1663, 543, 'Danger!'), 283: (1157, 633, 'Danger!'), 284: (307, 1005, 'Danger!'), 285: (1121, 627, 'Danger!')}\n",
      "CUR FRAME LEFT PTS\n",
      "[(1663, 543, 'Danger!'), (1157, 633, 'Danger!'), (307, 1005, 'Danger!'), (1121, 627, 'Danger!')]\n"
     ]
    },
    {
     "name": "stderr",
     "output_type": "stream",
     "text": [
      "0: 384x640 16 cars, 103.3ms\n",
      "Speed: 0.9ms pre-process, 103.3ms inference, 1.0ms postprocess per image at shape (1, 3, 640, 640)\n",
      "\n",
      "0: 384x640 14 cars, 96.4ms\n",
      "Speed: 1.0ms pre-process, 96.4ms inference, 0.0ms postprocess per image at shape (1, 3, 640, 640)\n",
      "\n"
     ]
    },
    {
     "name": "stdout",
     "output_type": "stream",
     "text": [
      "Tracking objects\n",
      "{7: (1089, 715, 'f5'), 83: (973, 558, 'f5'), 106: (670, 593, 'f2'), 149: (547, 626, 'f1'), 156: (781, 608, 'f3'), 161: (866, 554, 'f4'), 232: (767, 499, 'f3'), 237: (600, 527, 'f1'), 265: (1222, 470, 'Danger!'), 267: (915, 497, 'f5'), 269: (1222, 470, 'Danger!'), 282: (1649, 539, 'Danger!'), 283: (1163, 637, 'Danger!'), 284: (308, 1012, 'Danger!'), 286: (916, 425, 'Danger!')}\n",
      "CUR FRAME LEFT PTS\n",
      "[(916, 425, 'Danger!')]\n",
      "Tracking objects\n",
      "{7: (1095, 719, 'f5'), 83: (975, 561, 'f5'), 106: (669, 608, 'f2'), 149: (545, 628, 'f1'), 156: (782, 611, 'f3'), 161: (866, 556, 'f4'), 232: (767, 500, 'f3'), 237: (599, 528, 'f1'), 265: (1208, 468, 'Danger!'), 267: (916, 498, 'f5'), 269: (1208, 468, 'Danger!'), 282: (1636, 534, 'Danger!'), 283: (1171, 645, 'Danger!'), 286: (917, 426, 'Danger!'), 287: (1183, 648, 'Danger!')}\n",
      "CUR FRAME LEFT PTS\n",
      "[(1183, 648, 'Danger!')]\n"
     ]
    },
    {
     "name": "stderr",
     "output_type": "stream",
     "text": [
      "0: 384x640 13 cars, 118.1ms\n",
      "Speed: 1.1ms pre-process, 118.1ms inference, 1.0ms postprocess per image at shape (1, 3, 640, 640)\n",
      "\n",
      "0: 384x640 14 cars, 1 truck, 112.7ms\n",
      "Speed: 0.0ms pre-process, 112.7ms inference, 1.1ms postprocess per image at shape (1, 3, 640, 640)\n",
      "\n"
     ]
    },
    {
     "name": "stdout",
     "output_type": "stream",
     "text": [
      "Tracking objects\n",
      "{7: (1095, 721, 'f5'), 106: (669, 614, 'f2'), 149: (542, 631, 'f1'), 156: (782, 615, 'f3'), 161: (867, 557, 'f4'), 232: (769, 503, 'f3'), 237: (598, 530, 'f1'), 265: (1199, 466, 'Danger!'), 267: (915, 498, 'f5'), 269: (1199, 466, 'Danger!'), 282: (1623, 531, 'Danger!'), 283: (1182, 653, 'Danger!'), 286: (918, 426, 'Danger!'), 287: (1182, 653, 'Danger!'), 288: (294, 1026, 'Danger!')}\n",
      "CUR FRAME LEFT PTS\n",
      "[(294, 1026, 'Danger!')]\n",
      "Tracking objects\n",
      "{7: (1099, 728, 'f5'), 106: (667, 619, 'f2'), 149: (538, 637, 'f1'), 156: (783, 625, 'f3'), 161: (868, 562, 'f4'), 232: (769, 506, 'f3'), 237: (595, 534, 'f1'), 265: (1187, 460, 'Danger!'), 267: (916, 501, 'f5'), 269: (1187, 460, 'Danger!'), 286: (919, 428, 'Danger!'), 289: (1196, 670, 'Danger!'), 290: (1600, 524, 'Danger!'), 291: (835, 493, 'f4'), 292: (978, 565, 'f5')}\n",
      "CUR FRAME LEFT PTS\n",
      "[(1196, 670, 'Danger!'), (1600, 524, 'Danger!'), (835, 493, 'Danger!'), (978, 565, 'Danger!')]\n"
     ]
    },
    {
     "name": "stderr",
     "output_type": "stream",
     "text": [
      "0: 384x640 15 cars, 100.2ms\n",
      "Speed: 1.1ms pre-process, 100.2ms inference, 1.1ms postprocess per image at shape (1, 3, 640, 640)\n",
      "\n",
      "0: 384x640 15 cars, 95.6ms\n",
      "Speed: 0.9ms pre-process, 95.6ms inference, 1.0ms postprocess per image at shape (1, 3, 640, 640)\n",
      "\n"
     ]
    },
    {
     "name": "stdout",
     "output_type": "stream",
     "text": [
      "Tracking objects\n",
      "{7: (1103, 734, 'f5'), 106: (665, 624, 'f2'), 149: (535, 641, 'f1'), 156: (783, 627, 'f3'), 161: (869, 565, 'f4'), 232: (770, 507, 'f3'), 237: (594, 536, 'f1'), 265: (1182, 457, 'Danger!'), 267: (917, 501, 'f5'), 269: (1182, 457, 'Danger!'), 286: (921, 428, 'Danger!'), 289: (1208, 678, 'Danger!'), 290: (1587, 522, 'Danger!'), 291: (835, 494, 'f4'), 292: (978, 562, 'f5'), 293: (1121, 738, 'f5')}\n",
      "CUR FRAME LEFT PTS\n",
      "[(1121, 738, 'Danger!')]\n",
      "Tracking objects\n",
      "{7: (1106, 737, 'f5'), 106: (668, 627, 'f2'), 149: (534, 646, 'f1'), 156: (784, 627, 'f3'), 161: (869, 566, 'f4'), 232: (769, 507, 'f3'), 237: (594, 538, 'f1'), 265: (1181, 455, 'Danger!'), 267: (917, 502, 'f5'), 269: (1181, 455, 'Danger!'), 286: (921, 430, 'Danger!'), 289: (1219, 686, 'Danger!'), 290: (1578, 519, 'Danger!'), 291: (835, 495, 'f4'), 292: (980, 569, 'f5'), 293: (1122, 741, 'f5')}\n",
      "CUR FRAME LEFT PTS\n",
      "[]\n"
     ]
    },
    {
     "name": "stderr",
     "output_type": "stream",
     "text": [
      "0: 384x640 14 cars, 84.8ms\n",
      "Speed: 1.4ms pre-process, 84.8ms inference, 1.0ms postprocess per image at shape (1, 3, 640, 640)\n",
      "\n",
      "0: 384x640 14 cars, 126.2ms\n",
      "Speed: 1.0ms pre-process, 126.2ms inference, 1.4ms postprocess per image at shape (1, 3, 640, 640)\n",
      "\n"
     ]
    },
    {
     "name": "stdout",
     "output_type": "stream",
     "text": [
      "Tracking objects\n",
      "{7: (1112, 740, 'f5'), 106: (664, 630, 'f2'), 149: (530, 652, 'f1'), 156: (785, 628, 'f3'), 161: (871, 567, 'f4'), 232: (768, 508, 'f3'), 237: (592, 540, 'f1'), 265: (1169, 453, 'Danger!'), 267: (918, 501, 'f5'), 269: (1169, 453, 'Danger!'), 286: (922, 430, 'Danger!'), 289: (1230, 694, 'Danger!'), 290: (1565, 515, 'Danger!'), 291: (836, 496, 'f4'), 292: (980, 567, 'f5'), 293: (1112, 740, 'f5')}\n",
      "CUR FRAME LEFT PTS\n",
      "[]\n",
      "Tracking objects\n",
      "{7: (1124, 752, 'f5'), 106: (661, 638, 'f2'), 149: (526, 659, 'f1'), 156: (785, 630, 'f3'), 161: (874, 573, 'f4'), 232: (769, 510, 'f3'), 237: (591, 544, 'f1'), 265: (1162, 449, 'Danger!'), 267: (918, 503, 'f5'), 269: (1162, 449, 'Danger!'), 286: (927, 433, 'Danger!'), 292: (986, 571, 'f5'), 293: (1124, 752, 'f5'), 294: (1254, 717, 'Danger!'), 295: (1545, 509, 'Danger!'), 296: (656, 452, 'f1')}\n",
      "CUR FRAME LEFT PTS\n",
      "[(1254, 717, 'Danger!'), (1545, 509, 'Danger!'), (656, 452, 'Danger!')]\n"
     ]
    },
    {
     "name": "stderr",
     "output_type": "stream",
     "text": [
      "0: 384x640 14 cars, 124.8ms\n",
      "Speed: 1.0ms pre-process, 124.8ms inference, 1.4ms postprocess per image at shape (1, 3, 640, 640)\n",
      "\n",
      "0: 384x640 16 cars, 119.2ms\n",
      "Speed: 1.0ms pre-process, 119.2ms inference, 2.0ms postprocess per image at shape (1, 3, 640, 640)\n",
      "\n"
     ]
    },
    {
     "name": "stdout",
     "output_type": "stream",
     "text": [
      "Tracking objects\n",
      "{7: (1125, 757, 'f5'), 106: (661, 641, 'f2'), 149: (524, 662, 'f1'), 156: (786, 634, 'f3'), 161: (874, 574, 'f4'), 232: (768, 512, 'f3'), 237: (590, 545, 'f1'), 265: (1157, 447, 'Danger!'), 267: (918, 505, 'f5'), 269: (1157, 447, 'Danger!'), 292: (983, 574, 'f5'), 293: (1125, 757, 'f5'), 294: (1268, 727, 'Danger!'), 295: (1559, 507, 'Danger!'), 296: (655, 451, 'f1')}\n",
      "CUR FRAME LEFT PTS\n",
      "[]\n",
      "Tracking objects\n",
      "{7: (1140, 765, 'f5'), 106: (659, 642, 'f2'), 149: (522, 664, 'f1'), 156: (786, 637, 'f3'), 161: (876, 576, 'f4'), 232: (769, 511, 'f3'), 237: (588, 548, 'f1'), 265: (1154, 445, 'Danger!'), 267: (918, 504, 'f5'), 269: (1154, 445, 'Danger!'), 292: (984, 573, 'f5'), 293: (1140, 765, 'f5'), 294: (1281, 738, 'Danger!'), 296: (654, 453, 'f1'), 297: (1525, 503, 'Danger!'), 298: (839, 503, 'f4'), 299: (929, 434, 'Danger!'), 300: (1877, 741, 'Danger!')}\n",
      "CUR FRAME LEFT PTS\n",
      "[(1525, 503, 'Danger!'), (839, 503, 'Danger!'), (929, 434, 'Danger!'), (1877, 741, 'Danger!')]\n"
     ]
    },
    {
     "name": "stderr",
     "output_type": "stream",
     "text": [
      "0: 384x640 17 cars, 97.2ms\n",
      "Speed: 1.0ms pre-process, 97.2ms inference, 1.0ms postprocess per image at shape (1, 3, 640, 640)\n",
      "\n",
      "0: 384x640 15 cars, 122.2ms\n",
      "Speed: 1.0ms pre-process, 122.2ms inference, 1.0ms postprocess per image at shape (1, 3, 640, 640)\n",
      "\n"
     ]
    },
    {
     "name": "stdout",
     "output_type": "stream",
     "text": [
      "Tracking objects\n",
      "{7: (1130, 764, 'f5'), 106: (657, 644, 'f2'), 149: (522, 666, 'f1'), 156: (786, 642, 'f3'), 161: (877, 580, 'f4'), 232: (769, 513, 'f3'), 237: (586, 549, 'f1'), 265: (1149, 445, 'Danger!'), 267: (919, 504, 'f5'), 269: (1149, 445, 'Danger!'), 292: (988, 575, 'f5'), 293: (1130, 764, 'f5'), 294: (1294, 750, 'Danger!'), 296: (655, 454, 'f1'), 297: (1515, 501, 'Danger!'), 298: (839, 504, 'f4'), 299: (929, 434, 'Danger!'), 301: (1493, 499, 'Danger!'), 302: (658, 674, 'f2')}\n",
      "CUR FRAME LEFT PTS\n",
      "[(1493, 499, 'Danger!'), (658, 674, 'Danger!')]\n",
      "Tracking objects\n",
      "{7: (1139, 776, 'f5'), 149: (515, 677, 'f1'), 156: (786, 648, 'f3'), 161: (878, 584, 'f4'), 232: (769, 517, 'f3'), 237: (583, 554, 'f1'), 265: (1138, 442, 'Danger!'), 267: (920, 505, 'f5'), 269: (1138, 442, 'Danger!'), 292: (987, 579, 'f5'), 293: (1139, 776, 'f5'), 296: (652, 455, 'f1'), 297: (1497, 494, 'Danger!'), 298: (843, 506, 'f4'), 301: (1497, 494, 'Danger!'), 302: (654, 666, 'f2'), 303: (1824, 709, 'Danger!'), 304: (1323, 777, 'Danger!')}\n",
      "CUR FRAME LEFT PTS\n",
      "[(1824, 709, 'Danger!'), (1323, 777, 'Danger!')]\n"
     ]
    },
    {
     "name": "stderr",
     "output_type": "stream",
     "text": [
      "0: 384x640 15 cars, 101.3ms\n",
      "Speed: 1.0ms pre-process, 101.3ms inference, 1.0ms postprocess per image at shape (1, 3, 640, 640)\n",
      "\n",
      "0: 384x640 16 cars, 114.0ms\n",
      "Speed: 1.1ms pre-process, 114.0ms inference, 1.1ms postprocess per image at shape (1, 3, 640, 640)\n",
      "\n"
     ]
    },
    {
     "name": "stdout",
     "output_type": "stream",
     "text": [
      "Tracking objects\n",
      "{7: (1143, 778, 'f5'), 149: (512, 681, 'f1'), 156: (787, 654, 'f3'), 161: (879, 587, 'f4'), 232: (770, 520, 'f3'), 237: (582, 555, 'f1'), 265: (1136, 441, 'Danger!'), 267: (921, 506, 'f5'), 269: (1136, 441, 'Danger!'), 292: (991, 580, 'f5'), 293: (1143, 778, 'f5'), 296: (653, 459, 'f1'), 297: (1489, 492, 'Danger!'), 298: (843, 508, 'f4'), 301: (1489, 492, 'Danger!'), 302: (655, 667, 'f2'), 305: (1794, 693, 'Danger!'), 306: (1343, 790, 'Danger!')}\n",
      "CUR FRAME LEFT PTS\n",
      "[(1794, 693, 'Danger!'), (1343, 790, 'Danger!')]\n",
      "Tracking objects\n",
      "{7: (1148, 782, 'f5'), 149: (512, 685, 'f1'), 156: (787, 654, 'f3'), 161: (880, 589, 'f4'), 232: (769, 518, 'f3'), 237: (581, 556, 'f1'), 265: (1133, 440, 'Danger!'), 267: (922, 506, 'f5'), 269: (1133, 440, 'Danger!'), 292: (990, 579, 'f5'), 293: (1148, 782, 'f5'), 296: (653, 459, 'f1'), 297: (1480, 490, 'Danger!'), 298: (843, 508, 'f4'), 301: (1480, 490, 'Danger!'), 302: (656, 668, 'f2'), 307: (1762, 684, 'Danger!'), 308: (1360, 804, 'Danger!'), 309: (726, 406, 'f3')}\n",
      "CUR FRAME LEFT PTS\n",
      "[(1762, 684, 'Danger!'), (1360, 804, 'Danger!'), (726, 406, 'Danger!')]\n"
     ]
    },
    {
     "name": "stderr",
     "output_type": "stream",
     "text": [
      "0: 384x640 17 cars, 112.7ms\n",
      "Speed: 1.0ms pre-process, 112.7ms inference, 2.0ms postprocess per image at shape (1, 3, 640, 640)\n",
      "\n",
      "0: 384x640 16 cars, 1 truck, 110.4ms\n",
      "Speed: 1.3ms pre-process, 110.4ms inference, 2.3ms postprocess per image at shape (1, 3, 640, 640)\n",
      "\n"
     ]
    },
    {
     "name": "stdout",
     "output_type": "stream",
     "text": [
      "Tracking objects\n",
      "{7: (1150, 787, 'f5'), 149: (506, 690, 'f1'), 156: (788, 658, 'f3'), 161: (882, 593, 'f4'), 232: (770, 524, 'f3'), 237: (580, 560, 'f1'), 265: (1127, 437, 'Danger!'), 267: (922, 506, 'f5'), 269: (1127, 437, 'Danger!'), 292: (991, 580, 'f5'), 293: (1150, 787, 'f5'), 296: (652, 460, 'f1'), 297: (1471, 488, 'Danger!'), 298: (844, 510, 'f4'), 301: (1471, 488, 'Danger!'), 302: (655, 673, 'f2'), 309: (726, 408, 'f3'), 310: (1380, 822, 'Danger!'), 311: (1734, 671, 'Danger!'), 312: (888, 457, 'f5')}\n",
      "CUR FRAME LEFT PTS\n",
      "[(1380, 822, 'Danger!'), (1734, 671, 'Danger!'), (888, 457, 'Danger!')]\n",
      "Tracking objects\n",
      "{7: (1159, 795, 'f5'), 149: (503, 699, 'f1'), 156: (788, 665, 'f3'), 161: (884, 597, 'f4'), 232: (771, 527, 'f3'), 237: (578, 563, 'f1'), 265: (1118, 433, 'Danger!'), 267: (924, 505, 'f5'), 269: (1118, 433, 'Danger!'), 292: (994, 582, 'f5'), 293: (1159, 795, 'f5'), 296: (650, 465, 'f1'), 297: (1454, 484, 'Danger!'), 298: (845, 512, 'f4'), 301: (1454, 484, 'Danger!'), 302: (647, 689, 'f2'), 312: (890, 458, 'f5'), 313: (1421, 856, 'Danger!'), 314: (1681, 649, 'Danger!')}\n",
      "CUR FRAME LEFT PTS\n",
      "[(1421, 856, 'Danger!'), (1681, 649, 'Danger!')]\n"
     ]
    },
    {
     "name": "stderr",
     "output_type": "stream",
     "text": [
      "0: 384x640 16 cars, 1 truck, 115.5ms\n",
      "Speed: 0.9ms pre-process, 115.5ms inference, 0.2ms postprocess per image at shape (1, 3, 640, 640)\n",
      "\n",
      "0: 384x640 16 cars, 1 truck, 100.5ms\n",
      "Speed: 0.0ms pre-process, 100.5ms inference, 1.0ms postprocess per image at shape (1, 3, 640, 640)\n",
      "\n"
     ]
    },
    {
     "name": "stdout",
     "output_type": "stream",
     "text": [
      "Tracking objects\n",
      "{7: (1164, 801, 'f5'), 149: (499, 706, 'f1'), 156: (790, 667, 'f3'), 161: (885, 598, 'f4'), 232: (770, 527, 'f3'), 237: (576, 566, 'f1'), 267: (924, 506, 'f5'), 292: (997, 585, 'f5'), 293: (1164, 801, 'f5'), 296: (650, 465, 'f1'), 297: (1448, 482, 'Danger!'), 298: (845, 513, 'f4'), 301: (1448, 482, 'Danger!'), 302: (648, 690, 'f2'), 312: (890, 459, 'f5'), 315: (1657, 642, 'Danger!'), 316: (1445, 875, 'Danger!'), 317: (947, 448, 'Danger!')}\n",
      "CUR FRAME LEFT PTS\n",
      "[(1657, 642, 'Danger!'), (1445, 875, 'Danger!'), (947, 448, 'Danger!')]\n",
      "Tracking objects\n",
      "{7: (1168, 810, 'f5'), 149: (496, 709, 'f1'), 156: (789, 671, 'f3'), 161: (886, 602, 'f4'), 232: (770, 526, 'f3'), 237: (576, 568, 'f1'), 267: (924, 507, 'f5'), 292: (997, 586, 'f5'), 293: (1168, 810, 'f5'), 296: (650, 464, 'f1'), 297: (1438, 480, 'Danger!'), 298: (844, 515, 'f4'), 301: (1438, 480, 'Danger!'), 302: (646, 697, 'f2'), 312: (890, 459, 'f5'), 317: (950, 450, 'Danger!'), 318: (1472, 897, 'Danger!'), 319: (1634, 631, 'Danger!'), 320: (995, 382, 'Danger!')}\n",
      "CUR FRAME LEFT PTS\n",
      "[(1472, 897, 'Danger!'), (1634, 631, 'Danger!'), (995, 382, 'Danger!')]\n"
     ]
    },
    {
     "name": "stderr",
     "output_type": "stream",
     "text": [
      "0: 384x640 14 cars, 1 truck, 84.3ms\n",
      "Speed: 1.0ms pre-process, 84.3ms inference, 1.0ms postprocess per image at shape (1, 3, 640, 640)\n",
      "\n",
      "0: 384x640 16 cars, 95.1ms\n",
      "Speed: 1.0ms pre-process, 95.1ms inference, 1.3ms postprocess per image at shape (1, 3, 640, 640)\n",
      "\n",
      "0: 384x640 16 cars, 1 truck, 85.7ms\n"
     ]
    },
    {
     "name": "stdout",
     "output_type": "stream",
     "text": [
      "Tracking objects\n",
      "{7: (1180, 823, 'f5'), 149: (495, 716, 'Danger!'), 156: (789, 675, 'f3'), 161: (886, 603, 'f4'), 232: (770, 528, 'f3'), 237: (574, 569, 'f1'), 267: (925, 508, 'f5'), 292: (1001, 588, 'f5'), 293: (1180, 823, 'f5'), 296: (650, 465, 'f1'), 297: (1433, 476, 'Danger!'), 298: (846, 517, 'f4'), 301: (1433, 476, 'Danger!'), 302: (643, 701, 'f2'), 312: (891, 460, 'f5'), 321: (1611, 623, 'Danger!'), 322: (1499, 920, 'Danger!')}\n",
      "CUR FRAME LEFT PTS\n",
      "[(1611, 623, 'Danger!'), (1499, 920, 'Danger!')]\n",
      "Tracking objects\n",
      "{7: (1189, 831, 'f5'), 149: (487, 727, 'Danger!'), 156: (791, 680, 'f3'), 161: (891, 608, 'f4'), 232: (771, 530, 'f3'), 237: (571, 575, 'f1'), 267: (925, 508, 'f5'), 292: (1003, 588, 'f5'), 293: (1189, 831, 'f5'), 296: (649, 466, 'f1'), 297: (1418, 474, 'Danger!'), 298: (848, 521, 'f4'), 301: (1418, 474, 'Danger!'), 302: (641, 713, 'f2'), 323: (1558, 968, 'Danger!'), 324: (1570, 607, 'Danger!'), 325: (768, 457, 'f3'), 326: (958, 456, 'Danger!')}\n",
      "CUR FRAME LEFT PTS\n",
      "[(1558, 968, 'Danger!'), (1570, 607, 'Danger!'), (768, 457, 'Danger!'), (958, 456, 'Danger!')]\n"
     ]
    },
    {
     "name": "stderr",
     "output_type": "stream",
     "text": [
      "Speed: 0.9ms pre-process, 85.7ms inference, 0.0ms postprocess per image at shape (1, 3, 640, 640)\n",
      "\n",
      "0: 384x640 17 cars, 109.9ms\n",
      "Speed: 1.1ms pre-process, 109.9ms inference, 1.3ms postprocess per image at shape (1, 3, 640, 640)\n",
      "\n"
     ]
    },
    {
     "name": "stdout",
     "output_type": "stream",
     "text": [
      "Tracking objects\n",
      "{7: (1191, 835, 'f5'), 149: (484, 729, 'f1'), 156: (792, 685, 'f3'), 161: (892, 610, 'f4'), 232: (771, 531, 'f3'), 237: (570, 576, 'f1'), 267: (927, 511, 'f5'), 292: (1004, 590, 'f5'), 293: (1191, 835, 'f5'), 296: (648, 467, 'f1'), 297: (1411, 472, 'Danger!'), 298: (848, 521, 'f4'), 301: (1411, 472, 'Danger!'), 302: (640, 717, 'f2'), 325: (769, 457, 'f3'), 326: (960, 458, 'Danger!'), 327: (1608, 979, 'Danger!'), 328: (1551, 599, 'Danger!')}\n",
      "CUR FRAME LEFT PTS\n",
      "[(1608, 979, 'Danger!'), (1551, 599, 'Danger!')]\n",
      "Tracking objects\n",
      "{7: (1200, 847, 'f5'), 149: (480, 739, 'Danger!'), 156: (793, 689, 'f3'), 161: (895, 620, 'f4'), 232: (771, 533, 'f3'), 237: (568, 580, 'f1'), 267: (927, 511, 'f5'), 292: (1005, 589, 'f5'), 293: (1200, 847, 'f5'), 296: (648, 467, 'f1'), 297: (1403, 469, 'Danger!'), 298: (849, 523, 'f4'), 301: (1403, 469, 'Danger!'), 302: (637, 726, 'f2'), 325: (769, 458, 'f3'), 326: (961, 459, 'Danger!'), 328: (1532, 593, 'Danger!'), 329: (1628, 992, 'Danger!'), 330: (870, 430, 'f5')}\n",
      "CUR FRAME LEFT PTS\n",
      "[(1628, 992, 'Danger!'), (870, 430, 'Danger!')]\n"
     ]
    },
    {
     "name": "stderr",
     "output_type": "stream",
     "text": [
      "0: 384x640 17 cars, 1 truck, 133.8ms\n",
      "Speed: 0.9ms pre-process, 133.8ms inference, 1.2ms postprocess per image at shape (1, 3, 640, 640)\n",
      "\n",
      "0: 384x640 17 cars, 2 trucks, 111.6ms\n",
      "Speed: 1.1ms pre-process, 111.6ms inference, 1.0ms postprocess per image at shape (1, 3, 640, 640)\n",
      "\n"
     ]
    },
    {
     "name": "stdout",
     "output_type": "stream",
     "text": [
      "Tracking objects\n",
      "{7: (1204, 845, 'f5'), 149: (477, 742, 'Danger!'), 156: (793, 691, 'f3'), 161: (895, 623, 'f4'), 232: (771, 535, 'f3'), 237: (567, 581, 'f1'), 267: (928, 511, 'f5'), 292: (1006, 591, 'f5'), 293: (1204, 845, 'f5'), 296: (645, 468, 'f1'), 297: (1395, 468, 'Danger!'), 298: (849, 525, 'f4'), 301: (1395, 468, 'Danger!'), 302: (638, 741, 'f2'), 326: (964, 462, 'Danger!'), 328: (1515, 584, 'Danger!'), 330: (870, 431, 'f5'), 331: (1646, 1004, 'Danger!'), 332: (1826, 657, 'Danger!'), 333: (893, 463, 'f5')}\n",
      "CUR FRAME LEFT PTS\n",
      "[(1646, 1004, 'Danger!'), (1826, 657, 'Danger!'), (893, 463, 'Danger!')]\n",
      "Tracking objects\n",
      "{149: (470, 756, 'Danger!'), 156: (793, 698, 'f3'), 161: (900, 628, 'f4'), 232: (774, 538, 'f3'), 237: (566, 585, 'f1'), 267: (934, 517, 'f5'), 292: (1007, 595, 'f5'), 296: (643, 471, 'f1'), 297: (1385, 465, 'Danger!'), 298: (851, 528, 'f4'), 301: (1385, 465, 'Danger!'), 302: (635, 745, 'f2'), 326: (970, 463, 'Danger!'), 333: (893, 464, 'f5'), 334: (1482, 572, 'Danger!'), 335: (1769, 639, 'Danger!'), 336: (1217, 863, 'f5'), 337: (1697, 1033, 'Danger!'), 338: (768, 459, 'f3')}\n",
      "CUR FRAME LEFT PTS\n",
      "[(1482, 572, 'Danger!'), (1769, 639, 'Danger!'), (1217, 863, 'Danger!'), (1697, 1033, 'Danger!'), (768, 459, 'Danger!')]\n"
     ]
    },
    {
     "name": "stderr",
     "output_type": "stream",
     "text": [
      "0: 384x640 18 cars, 2 trucks, 107.4ms\n",
      "Speed: 1.0ms pre-process, 107.4ms inference, 1.2ms postprocess per image at shape (1, 3, 640, 640)\n",
      "\n",
      "0: 384x640 18 cars, 2 trucks, 96.1ms\n",
      "Speed: 0.9ms pre-process, 96.1ms inference, 1.0ms postprocess per image at shape (1, 3, 640, 640)\n",
      "\n"
     ]
    },
    {
     "name": "stdout",
     "output_type": "stream",
     "text": [
      "Tracking objects\n",
      "{149: (465, 760, 'Danger!'), 156: (796, 704, 'f3'), 161: (901, 633, 'f4'), 232: (773, 539, 'f3'), 237: (564, 588, 'f1'), 267: (931, 515, 'f5'), 292: (1011, 599, 'f5'), 296: (643, 472, 'f1'), 297: (1379, 462, 'Danger!'), 298: (851, 528, 'f4'), 301: (1379, 462, 'Danger!'), 302: (632, 750, 'f2'), 326: (970, 464, 'Danger!'), 333: (894, 464, 'f5'), 334: (1467, 568, 'Danger!'), 336: (1223, 870, 'f5'), 338: (768, 461, 'f3'), 339: (1742, 629, 'Danger!'), 340: (1714, 1046, 'Danger!'), 341: (709, 450, 'f2')}\n",
      "CUR FRAME LEFT PTS\n",
      "[(1742, 629, 'Danger!'), (1714, 1046, 'Danger!'), (709, 450, 'Danger!')]\n",
      "Tracking objects\n",
      "{149: (458, 769, 'Danger!'), 156: (796, 713, 'f3'), 161: (903, 635, 'f4'), 232: (772, 539, 'f3'), 237: (563, 590, 'f1'), 267: (931, 517, 'f5'), 292: (1012, 601, 'f5'), 296: (642, 473, 'f1'), 297: (1373, 461, 'Danger!'), 298: (851, 531, 'f4'), 301: (1373, 461, 'Danger!'), 302: (630, 758, 'f2'), 326: (971, 466, 'Danger!'), 333: (893, 464, 'f5'), 334: (1453, 562, 'Danger!'), 336: (1229, 876, 'f5'), 338: (771, 467, 'f3'), 339: (1740, 622, 'Danger!'), 342: (1719, 621, 'Danger!'), 343: (829, 470, 'f4')}\n",
      "CUR FRAME LEFT PTS\n",
      "[(1719, 621, 'Danger!'), (829, 470, 'Danger!')]\n"
     ]
    },
    {
     "name": "stderr",
     "output_type": "stream",
     "text": [
      "0: 384x640 17 cars, 2 trucks, 94.3ms\n",
      "Speed: 0.0ms pre-process, 94.3ms inference, 1.0ms postprocess per image at shape (1, 3, 640, 640)\n",
      "\n",
      "0: 384x640 17 cars, 2 trucks, 102.6ms\n",
      "Speed: 1.0ms pre-process, 102.6ms inference, 1.0ms postprocess per image at shape (1, 3, 640, 640)\n",
      "\n"
     ]
    },
    {
     "name": "stdout",
     "output_type": "stream",
     "text": [
      "Tracking objects\n",
      "{149: (459, 774, 'Danger!'), 156: (796, 714, 'f3'), 161: (905, 639, 'f4'), 232: (774, 541, 'f3'), 237: (562, 593, 'f1'), 267: (930, 515, 'f5'), 292: (1015, 604, 'f5'), 296: (641, 474, 'f1'), 298: (853, 530, 'f4'), 302: (628, 768, 'f2'), 326: (974, 470, 'Danger!'), 333: (895, 466, 'f5'), 334: (1440, 557, 'Danger!'), 336: (1235, 882, 'f5'), 339: (1730, 617, 'Danger!'), 342: (1730, 617, 'Danger!'), 343: (829, 470, 'f4'), 344: (708, 451, 'f2')}\n",
      "CUR FRAME LEFT PTS\n",
      "[(708, 451, 'Danger!')]\n",
      "Tracking objects\n",
      "{149: (451, 790, 'Danger!'), 156: (797, 722, 'f3'), 161: (909, 645, 'f4'), 232: (775, 545, 'f3'), 237: (556, 598, 'f1'), 267: (932, 518, 'f5'), 296: (639, 476, 'f1'), 298: (855, 536, 'f4'), 302: (624, 785, 'f2'), 326: (983, 472, 'Danger!'), 333: (897, 466, 'f5'), 343: (831, 471, 'f4'), 344: (709, 454, 'f2'), 345: (1414, 546, 'Danger!'), 346: (1651, 595, 'Danger!'), 347: (1251, 902, 'f5'), 348: (770, 467, 'f3'), 349: (797, 741, 'f3')}\n",
      "CUR FRAME LEFT PTS\n",
      "[(1414, 546, 'Danger!'), (1651, 595, 'Danger!'), (1251, 902, 'Danger!'), (770, 467, 'Danger!'), (797, 741, 'Danger!')]\n"
     ]
    },
    {
     "name": "stderr",
     "output_type": "stream",
     "text": [
      "0: 384x640 16 cars, 2 trucks, 86.5ms\n",
      "Speed: 1.3ms pre-process, 86.5ms inference, 0.7ms postprocess per image at shape (1, 3, 640, 640)\n",
      "\n",
      "0: 384x640 21 cars, 3 trucks, 95.6ms\n",
      "Speed: 1.0ms pre-process, 95.6ms inference, 1.0ms postprocess per image at shape (1, 3, 640, 640)\n",
      "\n"
     ]
    },
    {
     "name": "stdout",
     "output_type": "stream",
     "text": [
      "Tracking objects\n",
      "{149: (447, 796, 'Danger!'), 156: (797, 724, 'f3'), 161: (912, 651, 'f4'), 232: (774, 547, 'f3'), 237: (555, 602, 'f1'), 267: (936, 521, 'f5'), 296: (640, 477, 'f1'), 298: (855, 539, 'f4'), 302: (622, 790, 'f2'), 326: (984, 475, 'Danger!'), 333: (898, 467, 'f5'), 343: (832, 472, 'f4'), 344: (710, 457, 'f2'), 345: (1400, 541, 'Danger!'), 347: (1257, 910, 'f5'), 348: (771, 468, 'f3'), 349: (797, 724, 'f3'), 350: (1630, 589, 'Danger!'), 351: (1020, 609, 'f5')}\n",
      "CUR FRAME LEFT PTS\n",
      "[(1630, 589, 'Danger!'), (1020, 609, 'Danger!')]\n",
      "Tracking objects\n",
      "{149: (441, 803, 'Danger!'), 156: (799, 729, 'f3'), 161: (912, 657, 'f4'), 232: (774, 550, 'f3'), 237: (553, 603, 'f1'), 267: (938, 522, 'f5'), 296: (641, 477, 'f1'), 298: (856, 542, 'f4'), 302: (621, 798, 'f2'), 326: (988, 478, 'Danger!'), 333: (898, 467, 'f5'), 343: (832, 473, 'f4'), 344: (709, 456, 'f2'), 345: (1388, 537, 'Danger!'), 347: (1267, 919, 'f5'), 348: (769, 464, 'f3'), 349: (799, 729, 'f3'), 350: (1612, 584, 'Danger!'), 351: (1023, 608, 'f5'), 352: (1587, 580, 'Danger!'), 353: (1341, 452, 'Danger!'), 354: (916, 671, 'f4'), 355: (872, 436, 'f5')}\n",
      "CUR FRAME LEFT PTS\n",
      "[(1587, 580, 'Danger!'), (1341, 452, 'Danger!'), (916, 671, 'Danger!'), (872, 436, 'Danger!')]\n"
     ]
    },
    {
     "name": "stderr",
     "output_type": "stream",
     "text": [
      "0: 384x640 18 cars, 2 trucks, 111.4ms\n",
      "Speed: 1.1ms pre-process, 111.4ms inference, 1.0ms postprocess per image at shape (1, 3, 640, 640)\n",
      "\n",
      "0: 384x640 23 cars, 1 truck, 103.2ms\n",
      "Speed: 2.1ms pre-process, 103.2ms inference, 1.0ms postprocess per image at shape (1, 3, 640, 640)\n",
      "\n"
     ]
    },
    {
     "name": "stdout",
     "output_type": "stream",
     "text": [
      "Tracking objects\n",
      "{149: (436, 810, 'Danger!'), 156: (800, 733, 'f3'), 161: (918, 659, 'f4'), 232: (775, 550, 'f3'), 237: (552, 607, 'f1'), 267: (938, 522, 'f5'), 296: (640, 478, 'f1'), 298: (856, 543, 'f4'), 302: (618, 809, 'f2'), 326: (991, 482, 'Danger!'), 333: (898, 466, 'f5'), 343: (832, 476, 'f4'), 344: (709, 457, 'f2'), 345: (1377, 532, 'Danger!'), 347: (1275, 931, 'f5'), 348: (771, 465, 'f3'), 349: (800, 733, 'f3'), 351: (1025, 615, 'f5'), 352: (1592, 575, 'Danger!'), 353: (1352, 451, 'Danger!'), 354: (918, 659, 'f4')}\n",
      "CUR FRAME LEFT PTS\n",
      "[]\n",
      "Tracking objects\n",
      "{149: (429, 827, 'Danger!'), 156: (801, 745, 'f3'), 161: (919, 661, 'f4'), 232: (776, 555, 'f3'), 237: (549, 613, 'f1'), 267: (939, 523, 'f5'), 296: (637, 482, 'f1'), 298: (860, 546, 'f4'), 326: (995, 486, 'Danger!'), 333: (901, 466, 'f5'), 343: (833, 478, 'f4'), 348: (772, 467, 'f3'), 349: (801, 745, 'f3'), 351: (1028, 615, 'f5'), 352: (1577, 567, 'Danger!'), 354: (919, 661, 'f4'), 356: (1355, 523, 'Danger!'), 357: (612, 849, 'f2'), 358: (1560, 565, 'Danger!'), 359: (1880, 834, 'Danger!'), 360: (1329, 449, 'Danger!'), 361: (923, 686, 'f4'), 362: (630, 774, 'f2'), 363: (1293, 955, 'f5')}\n",
      "CUR FRAME LEFT PTS\n",
      "[(1355, 523, 'Danger!'), (612, 849, 'Danger!'), (1560, 565, 'Danger!'), (1880, 834, 'Danger!'), (1329, 449, 'Danger!'), (923, 686, 'Danger!'), (630, 774, 'Danger!'), (1293, 955, 'Danger!')]\n"
     ]
    },
    {
     "name": "stderr",
     "output_type": "stream",
     "text": [
      "0: 384x640 21 cars, 128.4ms\n",
      "Speed: 1.0ms pre-process, 128.4ms inference, 1.2ms postprocess per image at shape (1, 3, 640, 640)\n",
      "\n",
      "0: 384x640 20 cars, 127.9ms\n",
      "Speed: 0.6ms pre-process, 127.9ms inference, 0.9ms postprocess per image at shape (1, 3, 640, 640)\n",
      "\n"
     ]
    },
    {
     "name": "stdout",
     "output_type": "stream",
     "text": [
      "Tracking objects\n",
      "{149: (424, 835, 'Danger!'), 156: (802, 749, 'f3'), 161: (921, 668, 'f4'), 232: (778, 555, 'f3'), 237: (548, 614, 'f1'), 267: (940, 523, 'f5'), 296: (637, 483, 'f1'), 298: (862, 548, 'f4'), 326: (997, 485, 'Danger!'), 333: (901, 466, 'f5'), 343: (835, 479, 'f4'), 348: (771, 469, 'f3'), 349: (802, 749, 'f3'), 351: (1030, 618, 'f5'), 354: (921, 668, 'f4'), 356: (1345, 520, 'Danger!'), 357: (608, 857, 'f2'), 358: (1541, 559, 'Danger!'), 360: (1324, 446, 'Danger!'), 361: (924, 683, 'f4'), 363: (1299, 962, 'f5'), 364: (802, 768, 'f3'), 365: (710, 460, 'f2')}\n",
      "CUR FRAME LEFT PTS\n",
      "[(802, 768, 'Danger!'), (710, 460, 'Danger!')]\n",
      "Tracking objects\n",
      "{149: (419, 842, 'Danger!'), 156: (802, 762, 'f3'), 161: (922, 671, 'f4'), 232: (778, 555, 'f3'), 237: (546, 617, 'f1'), 267: (941, 524, 'f5'), 296: (636, 484, 'f1'), 298: (863, 550, 'f4'), 326: (1000, 488, 'Danger!'), 333: (901, 467, 'f5'), 343: (836, 480, 'f4'), 349: (802, 762, 'f3'), 351: (1034, 620, 'f5'), 354: (922, 671, 'f4'), 356: (1340, 516, 'Danger!'), 357: (607, 855, 'f2'), 358: (1525, 554, 'Danger!'), 360: (1316, 443, 'Danger!'), 361: (922, 671, 'f4'), 363: (1311, 969, 'f5'), 364: (802, 762, 'f3'), 365: (711, 461, 'f2'), 366: (1839, 810, 'Danger!'), 367: (624, 789, 'f2')}\n",
      "CUR FRAME LEFT PTS\n",
      "[(1839, 810, 'Danger!'), (624, 789, 'Danger!')]\n"
     ]
    },
    {
     "name": "stderr",
     "output_type": "stream",
     "text": [
      "0: 384x640 17 cars, 2 trucks, 100.1ms\n",
      "Speed: 1.0ms pre-process, 100.1ms inference, 1.0ms postprocess per image at shape (1, 3, 640, 640)\n",
      "\n",
      "0: 384x640 18 cars, 1 truck, 97.0ms\n",
      "Speed: 1.0ms pre-process, 97.0ms inference, 1.0ms postprocess per image at shape (1, 3, 640, 640)\n",
      "\n"
     ]
    },
    {
     "name": "stdout",
     "output_type": "stream",
     "text": [
      "Tracking objects\n",
      "{149: (415, 854, 'Danger!'), 156: (803, 772, 'f3'), 161: (924, 676, 'f4'), 232: (776, 559, 'f3'), 237: (545, 621, 'f1'), 267: (941, 525, 'f5'), 296: (637, 485, 'f1'), 298: (864, 552, 'f4'), 326: (1005, 491, 'Danger!'), 343: (836, 481, 'f4'), 349: (803, 772, 'f3'), 351: (1034, 625, 'f5'), 354: (924, 676, 'f4'), 356: (1324, 513, 'Danger!'), 357: (601, 855, 'f2'), 358: (1513, 550, 'Danger!'), 360: (1314, 444, 'Danger!'), 361: (924, 676, 'f4'), 363: (1323, 973, 'Danger!'), 364: (803, 772, 'f3'), 368: (1814, 790, 'Danger!')}\n",
      "CUR FRAME LEFT PTS\n",
      "[(1814, 790, 'Danger!')]\n",
      "Tracking objects\n",
      "{156: (805, 771, 'Danger!'), 161: (929, 684, 'f4'), 232: (779, 562, 'f3'), 237: (544, 628, 'f1'), 267: (942, 527, 'f5'), 296: (634, 487, 'f1'), 298: (867, 555, 'f4'), 326: (1011, 495, 'Danger!'), 343: (837, 482, 'f4'), 349: (805, 771, 'Danger!'), 351: (1037, 624, 'f5'), 354: (929, 684, 'f4'), 356: (1308, 505, 'Danger!'), 361: (929, 684, 'f4'), 363: (1341, 981, 'Danger!'), 364: (805, 771, 'Danger!'), 369: (1737, 752, 'Danger!'), 370: (403, 873, 'Danger!'), 371: (1482, 539, 'Danger!'), 372: (773, 472, 'f3'), 373: (598, 876, 'f2'), 374: (599, 878, 'f2'), 375: (710, 464, 'f2')}\n",
      "CUR FRAME LEFT PTS\n",
      "[(1737, 752, 'Danger!'), (403, 873, 'Danger!'), (1482, 539, 'Danger!'), (773, 472, 'Danger!'), (598, 876, 'Danger!'), (599, 878, 'Danger!'), (710, 464, 'Danger!')]\n"
     ]
    },
    {
     "name": "stderr",
     "output_type": "stream",
     "text": [
      "0: 384x640 17 cars, 1 truck, 90.3ms\n",
      "Speed: 1.0ms pre-process, 90.3ms inference, 1.0ms postprocess per image at shape (1, 3, 640, 640)\n",
      "\n",
      "0: 384x640 20 cars, 1 truck, 114.8ms\n",
      "Speed: 0.9ms pre-process, 114.8ms inference, 1.0ms postprocess per image at shape (1, 3, 640, 640)\n",
      "\n"
     ]
    },
    {
     "name": "stdout",
     "output_type": "stream",
     "text": [
      "Tracking objects\n",
      "{156: (806, 777, 'Danger!'), 161: (929, 688, 'f4'), 232: (778, 563, 'f3'), 237: (544, 631, 'f1'), 267: (943, 528, 'f5'), 296: (634, 489, 'f1'), 298: (867, 558, 'f4'), 326: (1014, 496, 'Danger!'), 343: (838, 483, 'f4'), 349: (806, 777, 'Danger!'), 351: (1039, 630, 'f5'), 354: (929, 688, 'f4'), 356: (1298, 502, 'Danger!'), 361: (929, 688, 'f4'), 363: (1332, 975, 'Danger!'), 364: (806, 777, 'Danger!'), 370: (399, 882, 'Danger!'), 371: (1471, 536, 'Danger!'), 372: (773, 473, 'f3'), 373: (594, 895, 'f2'), 374: (594, 895, 'f2'), 376: (1701, 735, 'Danger!')}\n",
      "CUR FRAME LEFT PTS\n",
      "[(1701, 735, 'Danger!')]\n",
      "Tracking objects\n",
      "{156: (806, 782, 'Danger!'), 161: (931, 692, 'f4'), 232: (778, 567, 'f3'), 237: (540, 633, 'f1'), 267: (944, 528, 'f5'), 296: (634, 489, 'f1'), 298: (869, 559, 'f4'), 326: (1018, 499, 'Danger!'), 343: (838, 482, 'f4'), 349: (806, 782, 'Danger!'), 351: (1043, 631, 'f5'), 354: (931, 692, 'f4'), 356: (1291, 498, 'Danger!'), 361: (931, 692, 'f4'), 364: (806, 782, 'Danger!'), 370: (393, 892, 'Danger!'), 371: (1456, 531, 'Danger!'), 372: (773, 473, 'f3'), 373: (592, 900, 'f2'), 374: (592, 900, 'f2'), 377: (1669, 719, 'Danger!'), 378: (1348, 991, 'Danger!'), 379: (663, 449, 'f1'), 380: (708, 464, 'f2'), 381: (1291, 439, 'Danger!')}\n",
      "CUR FRAME LEFT PTS\n",
      "[(1669, 719, 'Danger!'), (1348, 991, 'Danger!'), (663, 449, 'Danger!'), (708, 464, 'Danger!'), (1291, 439, 'Danger!')]\n"
     ]
    },
    {
     "name": "stderr",
     "output_type": "stream",
     "text": [
      "0: 384x640 18 cars, 1 truck, 87.6ms\n",
      "Speed: 1.0ms pre-process, 87.6ms inference, 0.9ms postprocess per image at shape (1, 3, 640, 640)\n",
      "\n",
      "0: 384x640 20 cars, 1 truck, 96.8ms\n",
      "Speed: 1.0ms pre-process, 96.8ms inference, 1.0ms postprocess per image at shape (1, 3, 640, 640)\n",
      "\n"
     ]
    },
    {
     "name": "stdout",
     "output_type": "stream",
     "text": [
      "Tracking objects\n",
      "{161: (933, 696, 'f4'), 232: (778, 567, 'f3'), 237: (536, 635, 'f1'), 267: (944, 528, 'f5'), 296: (633, 492, 'f1'), 298: (869, 562, 'f4'), 326: (1021, 501, 'Danger!'), 343: (839, 484, 'f4'), 351: (1044, 634, 'f5'), 354: (933, 696, 'f4'), 356: (1292, 495, 'Danger!'), 361: (933, 696, 'f4'), 370: (385, 903, 'Danger!'), 371: (1447, 528, 'Danger!'), 373: (591, 914, 'f2'), 374: (591, 914, 'f2'), 378: (1355, 995, 'Danger!'), 379: (664, 449, 'f2'), 381: (1289, 437, 'Danger!'), 382: (1638, 705, 'Danger!')}\n",
      "CUR FRAME LEFT PTS\n",
      "[(1638, 705, 'Danger!')]\n",
      "Tracking objects\n",
      "{161: (940, 708, 'f4'), 232: (781, 572, 'f3'), 237: (533, 644, 'f1'), 267: (945, 529, 'f5'), 296: (633, 494, 'f1'), 298: (872, 568, 'f4'), 326: (1029, 508, 'Danger!'), 343: (839, 486, 'f4'), 351: (1047, 637, 'f5'), 354: (940, 708, 'f4'), 361: (940, 708, 'f4'), 379: (664, 448, 'f2'), 381: (1280, 437, 'Danger!'), 383: (1580, 680, 'Danger!'), 384: (1373, 1006, 'Danger!'), 385: (372, 926, 'Danger!'), 386: (1422, 518, 'Danger!'), 387: (1270, 491, 'Danger!'), 388: (812, 800, 'Danger!'), 389: (706, 467, 'f2'), 390: (584, 941, 'f2'), 391: (586, 940, 'f2'), 392: (774, 480, 'f3')}\n",
      "CUR FRAME LEFT PTS\n",
      "[(1580, 680, 'Danger!'), (1373, 1006, 'Danger!'), (372, 926, 'Danger!'), (1422, 518, 'Danger!'), (1270, 491, 'Danger!'), (812, 800, 'Danger!'), (706, 467, 'Danger!'), (584, 941, 'Danger!'), (586, 940, 'Danger!'), (774, 480, 'Danger!')]\n"
     ]
    },
    {
     "name": "stderr",
     "output_type": "stream",
     "text": [
      "0: 384x640 19 cars, 1 bus, 1 truck, 91.9ms\n",
      "Speed: 1.0ms pre-process, 91.9ms inference, 1.0ms postprocess per image at shape (1, 3, 640, 640)\n",
      "\n",
      "0: 384x640 17 cars, 1 truck, 113.9ms\n",
      "Speed: 1.0ms pre-process, 113.9ms inference, 1.6ms postprocess per image at shape (1, 3, 640, 640)\n",
      "\n"
     ]
    },
    {
     "name": "stdout",
     "output_type": "stream",
     "text": [
      "Tracking objects\n",
      "{161: (946, 723, 'f4'), 232: (781, 577, 'f3'), 237: (532, 646, 'f1'), 267: (946, 530, 'f5'), 296: (631, 497, 'f1'), 298: (873, 570, 'f4'), 326: (1034, 511, 'Danger!'), 343: (840, 487, 'f4'), 351: (1050, 640, 'f5'), 354: (946, 723, 'f4'), 361: (946, 723, 'f4'), 379: (663, 451, 'f2'), 381: (1276, 435, 'Danger!'), 384: (1382, 1012, 'Danger!'), 385: (366, 938, 'Danger!'), 386: (1409, 515, 'Danger!'), 387: (1259, 487, 'Danger!'), 388: (812, 808, 'Danger!'), 389: (707, 468, 'f2'), 390: (583, 948, 'f2'), 391: (583, 948, 'f2'), 392: (773, 480, 'f3'), 393: (1557, 667, 'Danger!')}\n",
      "CUR FRAME LEFT PTS\n",
      "[(1557, 667, 'Danger!')]\n",
      "Tracking objects\n",
      "{161: (945, 719, 'f4'), 232: (779, 574, 'f3'), 237: (529, 650, 'f1'), 267: (946, 530, 'f5'), 296: (632, 496, 'f1'), 298: (876, 572, 'f4'), 326: (1037, 516, 'Danger!'), 343: (842, 487, 'f4'), 351: (1055, 646, 'f5'), 354: (945, 719, 'f4'), 361: (945, 719, 'f4'), 379: (662, 450, 'f1'), 381: (1274, 435, 'Danger!'), 385: (361, 949, 'Danger!'), 386: (1404, 510, 'Danger!'), 387: (1252, 485, 'Danger!'), 388: (813, 813, 'Danger!'), 389: (706, 468, 'f2'), 390: (581, 952, 'f2'), 391: (581, 952, 'f2'), 394: (1532, 655, 'Danger!')}\n",
      "CUR FRAME LEFT PTS\n",
      "[(1532, 655, 'Danger!')]\n"
     ]
    },
    {
     "name": "stderr",
     "output_type": "stream",
     "text": [
      "0: 384x640 18 cars, 1 truck, 118.2ms\n",
      "Speed: 1.0ms pre-process, 118.2ms inference, 2.1ms postprocess per image at shape (1, 3, 640, 640)\n",
      "\n",
      "0: 384x640 21 cars, 3 trucks, 124.1ms\n",
      "Speed: 1.0ms pre-process, 124.1ms inference, 1.5ms postprocess per image at shape (1, 3, 640, 640)\n",
      "\n"
     ]
    },
    {
     "name": "stdout",
     "output_type": "stream",
     "text": [
      "Tracking objects\n",
      "{161: (949, 723, 'f4'), 232: (781, 578, 'f3'), 237: (529, 654, 'f1'), 267: (947, 533, 'f5'), 296: (630, 499, 'f1'), 298: (875, 574, 'f4'), 326: (1040, 517, 'Danger!'), 343: (841, 491, 'f4'), 351: (1067, 658, 'f5'), 354: (949, 723, 'f4'), 361: (949, 723, 'f4'), 379: (661, 451, 'f1'), 381: (1266, 432, 'Danger!'), 385: (355, 962, 'Danger!'), 386: (1388, 507, 'Danger!'), 387: (1245, 482, 'Danger!'), 389: (706, 469, 'f2'), 395: (1510, 644, 'Danger!'), 396: (774, 480, 'f3'), 397: (569, 969, 'f2')}\n",
      "CUR FRAME LEFT PTS\n",
      "[(1510, 644, 'Danger!'), (774, 480, 'Danger!'), (569, 969, 'Danger!')]\n",
      "Tracking objects\n",
      "{161: (952, 731, 'f4'), 232: (782, 581, 'f3'), 237: (526, 661, 'f1'), 267: (948, 533, 'f5'), 296: (629, 503, 'f1'), 298: (878, 579, 'f4'), 326: (1052, 525, 'Danger!'), 343: (842, 493, 'f4'), 351: (1067, 658, 'f5'), 354: (952, 731, 'f4'), 361: (952, 731, 'f4'), 379: (661, 452, 'f1'), 381: (1260, 430, 'Danger!'), 386: (1384, 502, 'Danger!'), 387: (1234, 476, 'Danger!'), 389: (705, 469, 'f2'), 396: (774, 477, 'f3'), 398: (342, 982, 'Danger!'), 399: (1467, 627, 'Danger!'), 400: (578, 951, 'f2'), 401: (817, 836, 'Danger!'), 402: (1890, 649, 'Danger!'), 403: (965, 772, 'f4'), 404: (911, 478, 'f5'), 405: (816, 837, 'Danger!')}\n",
      "CUR FRAME LEFT PTS\n",
      "[(342, 982, 'Danger!'), (1467, 627, 'Danger!'), (578, 951, 'Danger!'), (817, 836, 'Danger!'), (1890, 649, 'Danger!'), (965, 772, 'Danger!'), (911, 478, 'Danger!'), (816, 837, 'Danger!')]\n"
     ]
    },
    {
     "name": "stderr",
     "output_type": "stream",
     "text": [
      "0: 384x640 18 cars, 1 bus, 3 trucks, 1 traffic light, 98.0ms\n",
      "Speed: 0.1ms pre-process, 98.0ms inference, 1.2ms postprocess per image at shape (1, 3, 640, 640)\n",
      "\n",
      "0: 384x640 18 cars, 2 trucks, 101.2ms\n",
      "Speed: 0.0ms pre-process, 101.2ms inference, 1.0ms postprocess per image at shape (1, 3, 640, 640)\n",
      "\n"
     ]
    },
    {
     "name": "stdout",
     "output_type": "stream",
     "text": [
      "Tracking objects\n",
      "{161: (956, 737, 'f4'), 232: (783, 583, 'f3'), 237: (521, 665, 'f1'), 267: (950, 534, 'f5'), 296: (627, 505, 'f1'), 298: (880, 581, 'f4'), 326: (1054, 528, 'Danger!'), 343: (841, 495, 'f4'), 351: (1066, 653, 'Danger!'), 354: (956, 737, 'f4'), 361: (956, 737, 'f4'), 379: (660, 453, 'f1'), 381: (1254, 430, 'Danger!'), 386: (1372, 497, 'Danger!'), 387: (1226, 472, 'Danger!'), 389: (704, 470, 'f2'), 396: (775, 482, 'f3'), 398: (332, 988, 'Danger!'), 400: (574, 969, 'f2'), 404: (912, 478, 'f5'), 406: (1449, 617, 'Danger!'), 407: (1361, 496, 'Danger!'), 408: (1022, 398, 'Danger!')}\n",
      "CUR FRAME LEFT PTS\n",
      "[(1449, 617, 'Danger!'), (1361, 496, 'Danger!'), (1022, 398, 'Danger!')]\n",
      "Tracking objects\n",
      "{161: (958, 742, 'f4'), 232: (784, 583, 'f3'), 237: (521, 666, 'f1'), 267: (950, 535, 'f5'), 296: (627, 508, 'f1'), 298: (879, 583, 'f4'), 326: (1058, 530, 'Danger!'), 343: (842, 494, 'f4'), 351: (1067, 653, 'Danger!'), 354: (958, 742, 'f4'), 361: (958, 742, 'f4'), 379: (661, 456, 'f1'), 381: (1253, 428, 'Danger!'), 387: (1221, 470, 'Danger!'), 389: (704, 472, 'f2'), 396: (775, 484, 'f3'), 398: (329, 993, 'Danger!'), 400: (572, 983, 'f2'), 404: (914, 478, 'f5'), 407: (1351, 494, 'Danger!'), 409: (1429, 607, 'Danger!'), 410: (1867, 642, 'Danger!')}\n",
      "CUR FRAME LEFT PTS\n",
      "[(1429, 607, 'Danger!'), (1867, 642, 'Danger!')]\n"
     ]
    },
    {
     "name": "stderr",
     "output_type": "stream",
     "text": [
      "0: 384x640 19 cars, 2 trucks, 97.7ms\n",
      "Speed: 1.0ms pre-process, 97.7ms inference, 1.0ms postprocess per image at shape (1, 3, 640, 640)\n",
      "\n",
      "0: 384x640 18 cars, 3 trucks, 122.1ms\n",
      "Speed: 1.0ms pre-process, 122.1ms inference, 2.0ms postprocess per image at shape (1, 3, 640, 640)\n",
      "\n"
     ]
    },
    {
     "name": "stdout",
     "output_type": "stream",
     "text": [
      "Tracking objects\n",
      "{161: (960, 748, 'f4'), 232: (785, 585, 'f3'), 237: (517, 673, 'f1'), 267: (951, 536, 'f5'), 296: (627, 509, 'f1'), 298: (882, 587, 'f4'), 326: (1062, 535, 'Danger!'), 343: (843, 496, 'f4'), 351: (1069, 655, 'Danger!'), 354: (960, 748, 'f4'), 361: (960, 748, 'f4'), 379: (659, 455, 'f1'), 381: (1252, 426, 'Danger!'), 387: (1216, 467, 'Danger!'), 389: (704, 474, 'f2'), 396: (774, 484, 'f3'), 398: (324, 999, 'Danger!'), 400: (571, 989, 'f2'), 404: (914, 478, 'f5'), 407: (1342, 490, 'Danger!'), 409: (1415, 599, 'Danger!'), 410: (1851, 634, 'Danger!'), 411: (821, 885, 'Danger!')}\n",
      "CUR FRAME LEFT PTS\n",
      "[(821, 885, 'Danger!')]\n",
      "Tracking objects\n",
      "{161: (970, 765, 'f4'), 232: (785, 592, 'f3'), 237: (512, 681, 'f1'), 267: (955, 540, 'f5'), 296: (625, 511, 'f1'), 298: (885, 592, 'f4'), 326: (1070, 542, 'Danger!'), 343: (846, 498, 'f4'), 354: (970, 765, 'f4'), 361: (970, 765, 'f4'), 379: (657, 459, 'f1'), 387: (1201, 466, 'Danger!'), 389: (704, 477, 'f2'), 396: (775, 488, 'f3'), 400: (567, 1003, 'f2'), 404: (913, 479, 'f5'), 407: (1325, 486, 'Danger!'), 411: (825, 874, 'Danger!'), 412: (1381, 583, 'Danger!'), 413: (1819, 618, 'Danger!'), 414: (304, 1012, 'Danger!'), 415: (972, 769, 'f4')}\n",
      "CUR FRAME LEFT PTS\n",
      "[(1381, 583, 'Danger!'), (1819, 618, 'Danger!'), (304, 1012, 'Danger!'), (972, 769, 'Danger!')]\n"
     ]
    },
    {
     "name": "stderr",
     "output_type": "stream",
     "text": [
      "0: 384x640 20 cars, 2 trucks, 106.8ms\n",
      "Speed: 1.0ms pre-process, 106.8ms inference, 1.0ms postprocess per image at shape (1, 3, 640, 640)\n",
      "\n",
      "0: 384x640 18 cars, 2 trucks, 108.3ms\n",
      "Speed: 1.3ms pre-process, 108.3ms inference, 1.0ms postprocess per image at shape (1, 3, 640, 640)\n",
      "\n"
     ]
    },
    {
     "name": "stdout",
     "output_type": "stream",
     "text": [
      "Tracking objects\n",
      "{161: (973, 776, 'f4'), 232: (786, 593, 'f3'), 237: (511, 685, 'f1'), 267: (956, 540, 'f5'), 296: (625, 510, 'f1'), 298: (886, 596, 'f4'), 326: (1075, 544, 'Danger!'), 343: (846, 499, 'f4'), 354: (973, 776, 'f4'), 361: (973, 776, 'f4'), 379: (657, 458, 'f1'), 387: (1195, 465, 'Danger!'), 389: (706, 479, 'f2'), 396: (775, 488, 'f3'), 400: (567, 1010, 'f2'), 404: (915, 480, 'f5'), 407: (1319, 483, 'Danger!'), 411: (825, 881, 'Danger!'), 412: (1366, 576, 'Danger!'), 413: (1834, 616, 'Danger!'), 414: (299, 1018, 'Danger!'), 415: (973, 776, 'f4'), 416: (1794, 609, 'Danger!'), 417: (1077, 670, 'f5')}\n",
      "CUR FRAME LEFT PTS\n",
      "[(1794, 609, 'Danger!'), (1077, 670, 'Danger!')]\n",
      "Tracking objects\n",
      "{161: (975, 779, 'f4'), 232: (786, 598, 'f3'), 237: (509, 688, 'f1'), 267: (957, 541, 'f5'), 296: (623, 513, 'f1'), 298: (887, 597, 'f4'), 326: (1079, 546, 'Danger!'), 343: (848, 500, 'f4'), 354: (975, 779, 'f4'), 361: (975, 779, 'f4'), 379: (657, 460, 'f1'), 387: (1192, 461, 'Danger!'), 389: (704, 481, 'f2'), 396: (776, 487, 'f3'), 400: (568, 1017, 'f2'), 404: (915, 481, 'f5'), 407: (1307, 479, 'Danger!'), 412: (1354, 572, 'Danger!'), 414: (293, 1025, 'Danger!'), 415: (975, 779, 'f4'), 417: (1079, 669, 'Danger!'), 418: (1770, 603, 'Danger!')}\n",
      "CUR FRAME LEFT PTS\n",
      "[(1770, 603, 'Danger!')]\n"
     ]
    },
    {
     "name": "stderr",
     "output_type": "stream",
     "text": [
      "0: 384x640 21 cars, 2 trucks, 123.3ms\n",
      "Speed: 1.0ms pre-process, 123.3ms inference, 2.1ms postprocess per image at shape (1, 3, 640, 640)\n",
      "\n",
      "0: 384x640 18 cars, 2 trucks, 112.8ms\n",
      "Speed: 1.4ms pre-process, 112.8ms inference, 2.0ms postprocess per image at shape (1, 3, 640, 640)\n",
      "\n"
     ]
    },
    {
     "name": "stdout",
     "output_type": "stream",
     "text": [
      "Tracking objects\n",
      "{161: (978, 784, 'f4'), 232: (786, 596, 'f3'), 237: (506, 695, 'f1'), 267: (960, 543, 'f5'), 296: (622, 517, 'f1'), 298: (888, 600, 'f4'), 326: (1088, 553, 'Danger!'), 343: (850, 503, 'f4'), 354: (978, 784, 'f4'), 361: (978, 784, 'f4'), 379: (658, 461, 'f1'), 387: (1185, 458, 'Danger!'), 389: (704, 482, 'f2'), 396: (776, 492, 'f3'), 400: (563, 1026, 'f2'), 404: (915, 482, 'f5'), 407: (1305, 478, 'Danger!'), 412: (1340, 565, 'Danger!'), 414: (290, 1032, 'Danger!'), 415: (978, 784, 'f4'), 417: (1080, 671, 'Danger!'), 418: (1786, 602, 'Danger!'), 419: (1744, 594, 'Danger!'), 420: (828, 902, 'Danger!'), 421: (723, 437, 'f3')}\n",
      "CUR FRAME LEFT PTS\n",
      "[(1744, 594, 'Danger!'), (828, 902, 'Danger!'), (723, 437, 'Danger!')]\n",
      "Tracking objects\n",
      "{161: (986, 799, 'f4'), 232: (788, 605, 'f3'), 237: (502, 699, 'f1'), 267: (958, 542, 'f5'), 296: (620, 519, 'f1'), 298: (890, 606, 'f4'), 326: (1097, 560, 'Danger!'), 343: (850, 505, 'f4'), 354: (986, 799, 'f4'), 361: (986, 799, 'f4'), 379: (654, 463, 'f1'), 387: (1178, 454, 'Danger!'), 389: (705, 484, 'f2'), 396: (776, 493, 'f3'), 404: (916, 482, 'f5'), 407: (1287, 473, 'Danger!'), 415: (986, 799, 'f4'), 417: (1087, 679, 'Danger!'), 419: (1746, 586, 'Danger!'), 422: (1313, 553, 'Danger!'), 423: (1708, 582, 'Danger!'), 424: (988, 805, 'f4')}\n",
      "CUR FRAME LEFT PTS\n",
      "[(1313, 553, 'Danger!'), (1708, 582, 'Danger!'), (988, 805, 'Danger!')]\n"
     ]
    },
    {
     "name": "stderr",
     "output_type": "stream",
     "text": [
      "0: 384x640 22 cars, 3 trucks, 109.8ms\n",
      "Speed: 1.0ms pre-process, 109.8ms inference, 1.4ms postprocess per image at shape (1, 3, 640, 640)\n",
      "\n",
      "0: 384x640 23 cars, 2 trucks, 121.7ms\n",
      "Speed: 1.0ms pre-process, 121.7ms inference, 1.0ms postprocess per image at shape (1, 3, 640, 640)\n",
      "\n"
     ]
    },
    {
     "name": "stdout",
     "output_type": "stream",
     "text": [
      "Tracking objects\n",
      "{161: (991, 810, 'f4'), 232: (789, 608, 'f3'), 237: (500, 705, 'Danger!'), 267: (960, 543, 'f5'), 296: (619, 520, 'f1'), 298: (891, 610, 'f4'), 326: (1103, 565, 'Danger!'), 343: (850, 506, 'f4'), 354: (991, 810, 'f4'), 361: (991, 810, 'f4'), 379: (656, 463, 'f1'), 387: (1171, 453, 'Danger!'), 389: (703, 486, 'f2'), 396: (777, 488, 'f3'), 404: (918, 484, 'f5'), 407: (1278, 470, 'Danger!'), 415: (991, 810, 'f4'), 417: (1091, 683, 'Danger!'), 422: (1304, 549, 'Danger!'), 423: (1720, 582, 'Danger!'), 424: (991, 810, 'f4'), 425: (1674, 574, 'Danger!'), 426: (1889, 830, 'Danger!'), 427: (833, 930, 'Danger!'), 428: (834, 930, 'Danger!'), 429: (723, 439, 'f3')}\n",
      "CUR FRAME LEFT PTS\n",
      "[(1674, 574, 'Danger!'), (1889, 830, 'Danger!'), (833, 930, 'Danger!'), (834, 930, 'Danger!'), (723, 439, 'Danger!')]\n",
      "Tracking objects\n",
      "{161: (995, 815, 'f4'), 232: (790, 611, 'f3'), 237: (498, 710, 'Danger!'), 267: (960, 544, 'f5'), 296: (619, 520, 'f1'), 298: (891, 612, 'f4'), 326: (1114, 572, 'Danger!'), 343: (851, 507, 'f4'), 354: (995, 815, 'f4'), 361: (995, 815, 'f4'), 379: (654, 465, 'f1'), 387: (1166, 450, 'Danger!'), 389: (703, 488, 'f2'), 396: (776, 487, 'f3'), 404: (918, 484, 'f5'), 407: (1273, 467, 'Danger!'), 415: (995, 815, 'f4'), 417: (1094, 685, 'Danger!'), 422: (1291, 543, 'Danger!'), 424: (995, 815, 'f4'), 425: (1669, 568, 'Danger!'), 427: (833, 940, 'Danger!'), 428: (833, 940, 'Danger!'), 429: (723, 441, 'f3'), 430: (1871, 616, 'Danger!'), 431: (1866, 818, 'Danger!'), 432: (1699, 578, 'Danger!'), 433: (1867, 610, 'Danger!')}\n",
      "CUR FRAME LEFT PTS\n",
      "[(1871, 616, 'Danger!'), (1866, 818, 'Danger!'), (1699, 578, 'Danger!'), (1867, 610, 'Danger!')]\n"
     ]
    },
    {
     "name": "stderr",
     "output_type": "stream",
     "text": [
      "0: 384x640 22 cars, 3 trucks, 102.0ms\n",
      "Speed: 2.0ms pre-process, 102.0ms inference, 0.5ms postprocess per image at shape (1, 3, 640, 640)\n",
      "\n",
      "0: 384x640 18 cars, 1 bus, 4 trucks, 118.0ms\n",
      "Speed: 0.9ms pre-process, 118.0ms inference, 2.2ms postprocess per image at shape (1, 3, 640, 640)\n",
      "\n"
     ]
    },
    {
     "name": "stdout",
     "output_type": "stream",
     "text": [
      "Tracking objects\n",
      "{161: (1001, 823, 'f4'), 232: (790, 613, 'f3'), 237: (494, 715, 'Danger!'), 267: (961, 545, 'f5'), 296: (618, 524, 'f1'), 298: (894, 616, 'f4'), 326: (1116, 575, 'Danger!'), 343: (851, 508, 'f4'), 354: (1001, 823, 'f4'), 361: (1001, 823, 'f4'), 379: (655, 466, 'f1'), 387: (1163, 447, 'Danger!'), 389: (705, 489, 'f2'), 396: (778, 488, 'f3'), 404: (918, 483, 'f5'), 407: (1266, 465, 'Danger!'), 415: (1001, 823, 'f4'), 417: (1096, 688, 'Danger!'), 422: (1282, 538, 'Danger!'), 424: (1001, 823, 'f4'), 425: (1685, 570, 'Danger!'), 427: (838, 953, 'Danger!'), 428: (838, 953, 'Danger!'), 430: (1861, 607, 'Danger!'), 432: (1685, 570, 'Danger!'), 433: (1861, 607, 'Danger!')}\n",
      "CUR FRAME LEFT PTS\n",
      "[]\n",
      "Tracking objects\n",
      "{232: (791, 618, 'Danger!'), 237: (489, 726, 'Danger!'), 267: (963, 551, 'f5'), 296: (614, 528, 'f1'), 298: (897, 623, 'f4'), 326: (1129, 586, 'Danger!'), 343: (852, 509, 'f4'), 379: (654, 468, 'f1'), 389: (703, 490, 'f2'), 396: (777, 487, 'f3'), 404: (920, 485, 'f5'), 407: (1254, 460, 'Danger!'), 417: (1104, 694, 'Danger!'), 427: (842, 965, 'Danger!'), 428: (842, 965, 'Danger!'), 434: (1260, 528, 'Danger!'), 435: (1831, 594, 'Danger!'), 436: (1619, 551, 'Danger!'), 437: (984, 796, 'f4'), 438: (1011, 843, 'f4'), 439: (1808, 781, 'Danger!'), 440: (721, 445, 'f3')}\n",
      "CUR FRAME LEFT PTS\n",
      "[(1260, 528, 'Danger!'), (1831, 594, 'Danger!'), (1619, 551, 'Danger!'), (984, 796, 'Danger!'), (1011, 843, 'Danger!'), (1808, 781, 'Danger!'), (721, 445, 'Danger!')]\n"
     ]
    },
    {
     "name": "stderr",
     "output_type": "stream",
     "text": [
      "0: 384x640 23 cars, 3 trucks, 121.4ms\n",
      "Speed: 1.0ms pre-process, 121.4ms inference, 2.1ms postprocess per image at shape (1, 3, 640, 640)\n",
      "\n",
      "0: 384x640 22 cars, 2 trucks, 102.5ms\n",
      "Speed: 0.9ms pre-process, 102.5ms inference, 1.0ms postprocess per image at shape (1, 3, 640, 640)\n",
      "\n"
     ]
    },
    {
     "name": "stdout",
     "output_type": "stream",
     "text": [
      "Tracking objects\n",
      "{232: (791, 620, 'Danger!'), 237: (487, 729, 'Danger!'), 267: (964, 551, 'f5'), 296: (614, 528, 'f1'), 298: (900, 625, 'f4'), 326: (1137, 592, 'Danger!'), 343: (852, 510, 'f4'), 379: (653, 469, 'f1'), 389: (703, 490, 'f2'), 396: (778, 506, 'f3'), 404: (921, 486, 'f5'), 407: (1249, 459, 'Danger!'), 417: (1107, 703, 'Danger!'), 427: (843, 971, 'Danger!'), 428: (843, 971, 'Danger!'), 434: (1254, 526, 'Danger!'), 435: (1818, 591, 'Danger!'), 436: (1631, 554, 'Danger!'), 437: (991, 803, 'f4'), 440: (723, 444, 'f3'), 441: (1789, 759, 'Danger!'), 442: (1111, 718, 'f5'), 443: (1018, 875, 'f4'), 444: (1799, 586, 'Danger!')}\n",
      "CUR FRAME LEFT PTS\n",
      "[(1789, 759, 'Danger!'), (1111, 718, 'Danger!'), (1018, 875, 'Danger!'), (1799, 586, 'Danger!')]\n",
      "Tracking objects\n",
      "{232: (792, 624, 'Danger!'), 237: (483, 735, 'Danger!'), 267: (964, 551, 'f5'), 296: (614, 530, 'f1'), 298: (900, 630, 'f4'), 326: (1144, 597, 'Danger!'), 343: (853, 513, 'f4'), 379: (652, 470, 'f1'), 389: (703, 491, 'f2'), 396: (777, 489, 'f3'), 404: (921, 487, 'f5'), 407: (1239, 455, 'Danger!'), 417: (1112, 706, 'Danger!'), 434: (1243, 519, 'Danger!'), 435: (1799, 585, 'Danger!'), 440: (723, 444, 'f3'), 442: (1112, 706, 'Danger!'), 443: (1016, 860, 'f4'), 444: (1799, 585, 'Danger!'), 445: (1751, 743, 'Danger!'), 446: (841, 949, 'Danger!'), 447: (1588, 541, 'Danger!'), 448: (1154, 603, 'Danger!'), 449: (1566, 539, 'Danger!')}\n",
      "CUR FRAME LEFT PTS\n",
      "[(1751, 743, 'Danger!'), (841, 949, 'Danger!'), (1588, 541, 'Danger!'), (1154, 603, 'Danger!'), (1566, 539, 'Danger!')]\n"
     ]
    },
    {
     "name": "stderr",
     "output_type": "stream",
     "text": [
      "0: 384x640 22 cars, 2 trucks, 106.6ms\n",
      "Speed: 0.9ms pre-process, 106.6ms inference, 1.2ms postprocess per image at shape (1, 3, 640, 640)\n",
      "\n",
      "0: 384x640 24 cars, 1 truck, 102.0ms\n",
      "Speed: 1.0ms pre-process, 102.0ms inference, 1.3ms postprocess per image at shape (1, 3, 640, 640)\n",
      "\n"
     ]
    },
    {
     "name": "stdout",
     "output_type": "stream",
     "text": [
      "Tracking objects\n",
      "{237: (479, 739, 'Danger!'), 267: (965, 552, 'f5'), 296: (611, 532, 'f1'), 298: (901, 631, 'f4'), 326: (1153, 605, 'Danger!'), 343: (854, 515, 'f4'), 379: (652, 470, 'f1'), 389: (703, 492, 'f2'), 396: (777, 490, 'f3'), 404: (922, 488, 'f5'), 417: (1113, 704, 'Danger!'), 434: (1234, 516, 'Danger!'), 435: (1781, 582, 'Danger!'), 440: (722, 445, 'f3'), 442: (1113, 704, 'Danger!'), 443: (1020, 870, 'f4'), 444: (1781, 582, 'Danger!'), 446: (841, 961, 'Danger!'), 447: (1599, 542, 'Danger!'), 448: (1153, 605, 'Danger!'), 449: (1571, 538, 'Danger!'), 450: (1715, 726, 'Danger!'), 451: (1138, 441, 'Danger!'), 452: (892, 457, 'f5')}\n",
      "CUR FRAME LEFT PTS\n",
      "[(1715, 726, 'Danger!'), (1138, 441, 'Danger!'), (892, 457, 'Danger!')]\n",
      "Tracking objects\n",
      "{237: (474, 752, 'Danger!'), 267: (966, 552, 'f5'), 296: (610, 538, 'Danger!'), 298: (904, 638, 'f4'), 326: (1167, 615, 'Danger!'), 343: (854, 519, 'f4'), 379: (651, 473, 'f1'), 389: (703, 494, 'f2'), 396: (779, 508, 'f3'), 404: (923, 489, 'f5'), 417: (1118, 711, 'Danger!'), 435: (1781, 575, 'Danger!'), 440: (722, 446, 'f3'), 442: (1118, 711, 'Danger!'), 444: (1781, 575, 'Danger!'), 448: (1167, 615, 'Danger!'), 449: (1567, 534, 'Danger!'), 451: (1134, 438, 'Danger!'), 452: (891, 454, 'f5'), 453: (1749, 571, 'Danger!'), 454: (1216, 507, 'Danger!'), 455: (1649, 696, 'Danger!'), 456: (848, 986, 'Danger!'), 457: (1540, 529, 'Danger!'), 458: (1034, 902, 'f4'), 459: (1010, 841, 'f4'), 460: (792, 631, 'Danger!'), 461: (1121, 727, 'f5')}\n",
      "CUR FRAME LEFT PTS\n",
      "[(1749, 571, 'Danger!'), (1216, 507, 'Danger!'), (1649, 696, 'Danger!'), (848, 986, 'Danger!'), (1540, 529, 'Danger!'), (1034, 902, 'Danger!'), (1010, 841, 'Danger!'), (792, 631, 'Danger!'), (1121, 727, 'Danger!')]\n"
     ]
    },
    {
     "name": "stderr",
     "output_type": "stream",
     "text": [
      "0: 384x640 23 cars, 2 trucks, 106.5ms\n",
      "Speed: 1.0ms pre-process, 106.5ms inference, 2.0ms postprocess per image at shape (1, 3, 640, 640)\n",
      "\n",
      "0: 384x640 21 cars, 2 trucks, 117.4ms\n",
      "Speed: 0.7ms pre-process, 117.4ms inference, 2.0ms postprocess per image at shape (1, 3, 640, 640)\n",
      "\n"
     ]
    },
    {
     "name": "stdout",
     "output_type": "stream",
     "text": [
      "Tracking objects\n",
      "{237: (468, 756, 'Danger!'), 267: (967, 554, 'f5'), 296: (610, 538, 'Danger!'), 298: (906, 641, 'f4'), 326: (1177, 624, 'Danger!'), 343: (855, 519, 'f4'), 379: (652, 472, 'f1'), 389: (702, 495, 'f2'), 396: (780, 510, 'f3'), 404: (924, 488, 'f5'), 417: (1125, 716, 'Danger!'), 440: (721, 448, 'f3'), 442: (1125, 716, 'Danger!'), 448: (1177, 624, 'Danger!'), 449: (1557, 530, 'Danger!'), 452: (892, 454, 'f5'), 453: (1757, 570, 'Danger!'), 454: (1209, 503, 'Danger!'), 456: (847, 994, 'Danger!'), 457: (1534, 526, 'Danger!'), 458: (1037, 902, 'f4'), 460: (793, 635, 'Danger!'), 461: (1125, 716, 'Danger!'), 462: (1620, 684, 'Danger!'), 463: (1513, 527, 'Danger!')}\n",
      "CUR FRAME LEFT PTS\n",
      "[(1620, 684, 'Danger!'), (1513, 527, 'Danger!')]\n",
      "Tracking objects\n",
      "{237: (466, 760, 'Danger!'), 267: (967, 553, 'f5'), 296: (608, 543, 'Danger!'), 298: (908, 647, 'f4'), 326: (1184, 631, 'Danger!'), 343: (857, 521, 'f4'), 379: (651, 475, 'Danger!'), 389: (702, 499, 'f2'), 396: (779, 511, 'f3'), 404: (925, 488, 'f5'), 417: (1127, 720, 'Danger!'), 440: (722, 449, 'f3'), 442: (1127, 720, 'Danger!'), 448: (1184, 631, 'Danger!'), 449: (1542, 528, 'Danger!'), 452: (893, 456, 'f5'), 453: (1740, 564, 'Danger!'), 454: (1203, 500, 'Danger!'), 457: (1515, 522, 'Danger!'), 458: (1045, 913, 'f4'), 460: (794, 650, 'Danger!'), 461: (1127, 720, 'Danger!'), 463: (1515, 522, 'Danger!'), 464: (1723, 563, 'Danger!'), 465: (1594, 670, 'Danger!')}\n",
      "CUR FRAME LEFT PTS\n",
      "[(1723, 563, 'Danger!'), (1594, 670, 'Danger!')]\n"
     ]
    },
    {
     "name": "stderr",
     "output_type": "stream",
     "text": [
      "0: 384x640 19 cars, 1 truck, 114.6ms\n",
      "Speed: 1.0ms pre-process, 114.6ms inference, 2.0ms postprocess per image at shape (1, 3, 640, 640)\n",
      "\n",
      "0: 384x640 19 cars, 1 truck, 120.5ms\n",
      "Speed: 0.9ms pre-process, 120.5ms inference, 2.3ms postprocess per image at shape (1, 3, 640, 640)\n",
      "\n"
     ]
    },
    {
     "name": "stdout",
     "output_type": "stream",
     "text": [
      "Tracking objects\n",
      "{237: (463, 768, 'Danger!'), 267: (969, 554, 'f5'), 296: (608, 541, 'Danger!'), 298: (911, 649, 'f4'), 326: (1194, 636, 'Danger!'), 343: (858, 522, 'f4'), 379: (650, 477, 'Danger!'), 389: (702, 499, 'f2'), 396: (779, 510, 'f3'), 404: (925, 490, 'f5'), 417: (1132, 724, 'Danger!'), 440: (721, 450, 'f3'), 442: (1132, 724, 'Danger!'), 448: (1194, 636, 'Danger!'), 452: (893, 456, 'f5'), 453: (1734, 563, 'Danger!'), 454: (1196, 498, 'Danger!'), 457: (1509, 519, 'Danger!'), 458: (1047, 927, 'f4'), 461: (1132, 724, 'Danger!'), 463: (1509, 519, 'Danger!'), 464: (1718, 562, 'Danger!'), 466: (1568, 661, 'Danger!'), 467: (1701, 560, 'Danger!')}\n",
      "CUR FRAME LEFT PTS\n",
      "[(1568, 661, 'Danger!'), (1701, 560, 'Danger!')]\n",
      "Tracking objects\n",
      "{237: (456, 783, 'Danger!'), 267: (970, 555, 'f5'), 296: (605, 548, 'Danger!'), 298: (915, 655, 'f4'), 343: (860, 526, 'f4'), 379: (648, 478, 'f1'), 389: (701, 503, 'f2'), 396: (781, 513, 'f3'), 404: (926, 491, 'f5'), 417: (1139, 730, 'Danger!'), 440: (721, 451, 'f3'), 442: (1139, 730, 'Danger!'), 452: (893, 457, 'f5'), 454: (1181, 493, 'Danger!'), 461: (1139, 730, 'Danger!'), 467: (1691, 553, 'Danger!'), 468: (1214, 653, 'Danger!'), 469: (1522, 640, 'Danger!'), 470: (795, 649, 'Danger!'), 471: (1059, 951, 'f4'), 472: (1669, 552, 'Danger!'), 473: (1484, 513, 'Danger!')}\n",
      "CUR FRAME LEFT PTS\n",
      "[(1214, 653, 'Danger!'), (1522, 640, 'Danger!'), (795, 649, 'Danger!'), (1059, 951, 'Danger!'), (1669, 552, 'Danger!'), (1484, 513, 'Danger!')]\n"
     ]
    },
    {
     "name": "stderr",
     "output_type": "stream",
     "text": [
      "0: 384x640 19 cars, 2 trucks, 116.3ms\n",
      "Speed: 1.0ms pre-process, 116.3ms inference, 2.1ms postprocess per image at shape (1, 3, 640, 640)\n",
      "\n",
      "0: 384x640 16 cars, 3 trucks, 119.0ms\n",
      "Speed: 1.0ms pre-process, 119.0ms inference, 1.8ms postprocess per image at shape (1, 3, 640, 640)\n",
      "\n"
     ]
    },
    {
     "name": "stdout",
     "output_type": "stream",
     "text": [
      "Tracking objects\n",
      "{237: (454, 787, 'Danger!'), 267: (972, 555, 'f5'), 296: (603, 550, 'Danger!'), 298: (916, 659, 'f4'), 343: (861, 527, 'f4'), 379: (648, 480, 'Danger!'), 389: (701, 504, 'f2'), 396: (781, 515, 'f3'), 404: (927, 492, 'f5'), 417: (1144, 737, 'Danger!'), 440: (722, 451, 'f3'), 442: (1144, 737, 'Danger!'), 452: (894, 458, 'f5'), 454: (1173, 490, 'Danger!'), 461: (1144, 737, 'Danger!'), 467: (1687, 551, 'Danger!'), 468: (1226, 660, 'Danger!'), 470: (795, 655, 'Danger!'), 471: (1068, 958, 'f4'), 472: (1662, 549, 'Danger!'), 473: (1473, 507, 'Danger!'), 474: (1499, 629, 'Danger!')}\n",
      "CUR FRAME LEFT PTS\n",
      "[(1499, 629, 'Danger!')]\n",
      "Tracking objects\n",
      "{237: (449, 792, 'Danger!'), 267: (975, 561, 'f5'), 296: (601, 551, 'Danger!'), 298: (917, 664, 'f4'), 343: (861, 529, 'f4'), 379: (649, 481, 'Danger!'), 389: (701, 507, 'f2'), 396: (781, 519, 'f3'), 404: (927, 492, 'f5'), 417: (1148, 743, 'Danger!'), 440: (722, 452, 'f3'), 442: (1148, 743, 'Danger!'), 452: (895, 459, 'f5'), 454: (1167, 485, 'Danger!'), 461: (1148, 743, 'Danger!'), 468: (1234, 670, 'Danger!'), 470: (797, 653, 'Danger!'), 471: (1074, 964, 'f4'), 472: (1649, 543, 'Danger!'), 473: (1464, 504, 'Danger!'), 475: (1478, 619, 'Danger!')}\n",
      "CUR FRAME LEFT PTS\n",
      "[(1478, 619, 'Danger!')]\n"
     ]
    },
    {
     "name": "stderr",
     "output_type": "stream",
     "text": [
      "0: 384x640 19 cars, 2 trucks, 112.5ms\n",
      "Speed: 1.1ms pre-process, 112.5ms inference, 0.5ms postprocess per image at shape (1, 3, 640, 640)\n",
      "\n",
      "0: 384x640 17 cars, 2 trucks, 97.6ms\n",
      "Speed: 0.0ms pre-process, 97.6ms inference, 1.0ms postprocess per image at shape (1, 3, 640, 640)\n",
      "\n",
      "0: 384x640 18 cars, 4 trucks, 82.9ms\n"
     ]
    },
    {
     "name": "stdout",
     "output_type": "stream",
     "text": [
      "Tracking objects\n",
      "{237: (444, 797, 'Danger!'), 267: (977, 562, 'f5'), 296: (600, 555, 'Danger!'), 298: (919, 667, 'f4'), 343: (862, 529, 'f4'), 379: (648, 483, 'Danger!'), 389: (700, 510, 'f2'), 396: (780, 520, 'f3'), 404: (926, 493, 'f5'), 417: (1153, 752, 'Danger!'), 440: (722, 454, 'f3'), 442: (1153, 752, 'Danger!'), 452: (894, 458, 'f5'), 454: (1161, 482, 'Danger!'), 461: (1153, 752, 'Danger!'), 468: (1246, 681, 'Danger!'), 470: (797, 656, 'Danger!'), 471: (1077, 970, 'f4'), 472: (1637, 540, 'Danger!'), 473: (1454, 501, 'Danger!'), 476: (1460, 610, 'Danger!'), 477: (682, 430, 'f2')}\n",
      "CUR FRAME LEFT PTS\n",
      "[(1460, 610, 'Danger!'), (682, 430, 'Danger!')]\n",
      "Tracking objects\n",
      "{267: (980, 565, 'f5'), 296: (599, 555, 'Danger!'), 298: (922, 676, 'f4'), 343: (864, 531, 'f4'), 379: (646, 483, 'Danger!'), 389: (700, 513, 'f2'), 396: (781, 525, 'f3'), 417: (1159, 757, 'Danger!'), 440: (722, 457, 'f3'), 442: (1159, 757, 'Danger!'), 452: (897, 460, 'f5'), 454: (1151, 478, 'Danger!'), 461: (1159, 757, 'Danger!'), 470: (798, 666, 'Danger!'), 471: (1082, 978, 'f4'), 477: (678, 431, 'f2'), 478: (1424, 595, 'Danger!'), 479: (1272, 697, 'Danger!'), 480: (435, 815, 'Danger!'), 481: (1611, 537, 'Danger!'), 482: (1434, 495, 'Danger!')}\n",
      "CUR FRAME LEFT PTS\n",
      "[(1424, 595, 'Danger!'), (1272, 697, 'Danger!'), (435, 815, 'Danger!'), (1611, 537, 'Danger!'), (1434, 495, 'Danger!')]\n"
     ]
    },
    {
     "name": "stderr",
     "output_type": "stream",
     "text": [
      "Speed: 1.0ms pre-process, 82.9ms inference, 1.0ms postprocess per image at shape (1, 3, 640, 640)\n",
      "\n",
      "0: 384x640 17 cars, 5 trucks, 91.6ms\n",
      "Speed: 0.9ms pre-process, 91.6ms inference, 1.0ms postprocess per image at shape (1, 3, 640, 640)\n",
      "\n",
      "0: 384x640 14 cars, 1 bus, 4 trucks, 88.1ms\n"
     ]
    },
    {
     "name": "stdout",
     "output_type": "stream",
     "text": [
      "Tracking objects\n",
      "{267: (979, 564, 'f5'), 296: (599, 563, 'Danger!'), 298: (924, 680, 'f4'), 343: (865, 533, 'f4'), 379: (646, 486, 'Danger!'), 389: (700, 513, 'f2'), 417: (1164, 761, 'Danger!'), 440: (723, 455, 'f3'), 442: (1164, 761, 'Danger!'), 452: (897, 462, 'f5'), 454: (1143, 475, 'Danger!'), 461: (1164, 761, 'Danger!'), 470: (798, 665, 'Danger!'), 471: (1091, 983, 'Danger!'), 477: (678, 432, 'f2'), 478: (1406, 587, 'Danger!'), 479: (1284, 710, 'Danger!'), 480: (432, 821, 'Danger!'), 481: (1599, 531, 'Danger!'), 482: (1439, 494, 'Danger!'), 483: (930, 496, 'f5'), 484: (1406, 493, 'Danger!')}\n",
      "CUR FRAME LEFT PTS\n",
      "[(930, 496, 'Danger!'), (1406, 493, 'Danger!')]\n",
      "Tracking objects\n",
      "{267: (979, 563, 'f5'), 296: (596, 564, 'Danger!'), 298: (927, 683, 'f4'), 343: (865, 534, 'f4'), 379: (645, 486, 'Danger!'), 389: (700, 515, 'f2'), 417: (1173, 766, 'Danger!'), 440: (722, 456, 'f3'), 442: (1173, 766, 'Danger!'), 452: (896, 461, 'f5'), 454: (1140, 472, 'Danger!'), 461: (1173, 766, 'Danger!'), 470: (799, 667, 'Danger!'), 471: (1093, 988, 'Danger!'), 477: (678, 433, 'f2'), 478: (1391, 579, 'Danger!'), 479: (1300, 719, 'Danger!'), 480: (427, 829, 'Danger!'), 481: (1591, 530, 'Danger!'), 482: (1432, 491, 'Danger!'), 483: (929, 496, 'f5'), 484: (1414, 489, 'Danger!'), 485: (782, 528, 'f3')}\n",
      "CUR FRAME LEFT PTS\n",
      "[(782, 528, 'Danger!')]\n"
     ]
    },
    {
     "name": "stderr",
     "output_type": "stream",
     "text": [
      "Speed: 0.9ms pre-process, 88.1ms inference, 1.3ms postprocess per image at shape (1, 3, 640, 640)\n",
      "\n",
      "0: 384x640 18 cars, 2 trucks, 121.2ms\n",
      "Speed: 0.0ms pre-process, 121.2ms inference, 1.1ms postprocess per image at shape (1, 3, 640, 640)\n",
      "\n"
     ]
    },
    {
     "name": "stdout",
     "output_type": "stream",
     "text": [
      "Tracking objects\n",
      "{267: (981, 565, 'f5'), 296: (594, 566, 'Danger!'), 298: (928, 689, 'f4'), 343: (867, 536, 'f4'), 379: (643, 493, 'Danger!'), 389: (699, 514, 'f2'), 417: (1178, 783, 'Danger!'), 440: (721, 457, 'f3'), 442: (1178, 783, 'Danger!'), 452: (896, 461, 'f5'), 454: (1134, 470, 'Danger!'), 461: (1178, 783, 'Danger!'), 470: (801, 671, 'Danger!'), 471: (1105, 995, 'Danger!'), 478: (1377, 574, 'Danger!'), 479: (1314, 732, 'Danger!'), 480: (425, 834, 'Danger!'), 481: (1581, 527, 'Danger!'), 483: (930, 496, 'f5'), 484: (1412, 489, 'Danger!')}\n",
      "CUR FRAME LEFT PTS\n",
      "[]\n",
      "Tracking objects\n",
      "{267: (981, 565, 'f5'), 296: (591, 571, 'Danger!'), 298: (930, 696, 'f4'), 343: (868, 539, 'f4'), 379: (642, 496, 'Danger!'), 389: (698, 520, 'f2'), 417: (1185, 784, 'Danger!'), 440: (721, 460, 'f3'), 442: (1185, 784, 'Danger!'), 452: (896, 460, 'f5'), 461: (1185, 784, 'Danger!'), 471: (1109, 1008, 'Danger!'), 483: (934, 499, 'f5'), 486: (1349, 562, 'Danger!'), 487: (1343, 756, 'Danger!'), 488: (1389, 483, 'Danger!'), 489: (414, 852, 'Danger!'), 490: (784, 530, 'Danger!'), 491: (1559, 518, 'Danger!'), 492: (679, 436, 'f2'), 493: (840, 472, 'f4')}\n",
      "CUR FRAME LEFT PTS\n",
      "[(1349, 562, 'Danger!'), (1343, 756, 'Danger!'), (1389, 483, 'Danger!'), (414, 852, 'Danger!'), (784, 530, 'Danger!'), (1559, 518, 'Danger!'), (679, 436, 'Danger!'), (840, 472, 'Danger!')]\n"
     ]
    },
    {
     "name": "stderr",
     "output_type": "stream",
     "text": [
      "0: 384x640 20 cars, 3 trucks, 123.8ms\n",
      "Speed: 1.4ms pre-process, 123.8ms inference, 1.3ms postprocess per image at shape (1, 3, 640, 640)\n",
      "\n",
      "0: 384x640 20 cars, 2 trucks, 107.3ms\n",
      "Speed: 1.1ms pre-process, 107.3ms inference, 1.0ms postprocess per image at shape (1, 3, 640, 640)\n",
      "\n"
     ]
    },
    {
     "name": "stdout",
     "output_type": "stream",
     "text": [
      "Tracking objects\n",
      "{267: (982, 567, 'f5'), 296: (589, 573, 'Danger!'), 298: (931, 704, 'f4'), 343: (869, 543, 'f4'), 379: (642, 495, 'Danger!'), 389: (698, 521, 'f2'), 417: (1191, 790, 'Danger!'), 440: (721, 461, 'f3'), 442: (1191, 790, 'Danger!'), 461: (1191, 790, 'Danger!'), 471: (1114, 1016, 'Danger!'), 483: (937, 501, 'f5'), 486: (1337, 556, 'Danger!'), 488: (1380, 481, 'Danger!'), 489: (406, 860, 'Danger!'), 490: (783, 531, 'f3'), 491: (1546, 515, 'Danger!'), 492: (676, 437, 'f2'), 493: (841, 472, 'f4'), 494: (1361, 770, 'Danger!'), 495: (1115, 461, 'Danger!'), 496: (1361, 769, 'Danger!')}\n",
      "CUR FRAME LEFT PTS\n",
      "[(1361, 770, 'Danger!'), (1115, 461, 'Danger!'), (1361, 769, 'Danger!')]\n",
      "Tracking objects\n",
      "{267: (983, 567, 'f5'), 296: (588, 574, 'Danger!'), 298: (933, 707, 'f4'), 343: (871, 543, 'f4'), 379: (640, 498, 'Danger!'), 389: (699, 523, 'f2'), 417: (1197, 798, 'Danger!'), 440: (720, 461, 'f3'), 442: (1197, 798, 'Danger!'), 461: (1197, 798, 'Danger!'), 471: (1116, 1022, 'Danger!'), 483: (937, 502, 'f5'), 486: (1323, 549, 'Danger!'), 488: (1374, 480, 'Danger!'), 489: (402, 869, 'Danger!'), 490: (785, 535, 'Danger!'), 491: (1555, 516, 'Danger!'), 492: (675, 439, 'f2'), 493: (842, 472, 'f5'), 495: (1113, 460, 'Danger!'), 497: (1381, 785, 'Danger!'), 498: (803, 705, 'Danger!')}\n",
      "CUR FRAME LEFT PTS\n",
      "[(1381, 785, 'Danger!'), (803, 705, 'Danger!')]\n"
     ]
    },
    {
     "name": "stderr",
     "output_type": "stream",
     "text": [
      "0: 384x640 18 cars, 5 trucks, 98.2ms\n",
      "Speed: 1.0ms pre-process, 98.2ms inference, 1.0ms postprocess per image at shape (1, 3, 640, 640)\n",
      "\n",
      "0: 384x640 19 cars, 2 trucks, 109.9ms\n",
      "Speed: 1.0ms pre-process, 109.9ms inference, 2.0ms postprocess per image at shape (1, 3, 640, 640)\n",
      "\n"
     ]
    },
    {
     "name": "stdout",
     "output_type": "stream",
     "text": [
      "Tracking objects\n",
      "{267: (983, 569, 'f5'), 296: (587, 577, 'Danger!'), 298: (935, 712, 'f4'), 343: (872, 546, 'f4'), 379: (639, 499, 'Danger!'), 389: (697, 525, 'f2'), 417: (1204, 798, 'Danger!'), 440: (721, 460, 'f3'), 442: (1204, 798, 'Danger!'), 461: (1204, 798, 'Danger!'), 471: (1120, 1031, 'Danger!'), 483: (938, 502, 'f5'), 486: (1312, 544, 'Danger!'), 488: (1365, 475, 'Danger!'), 489: (397, 878, 'Danger!'), 490: (785, 535, 'Danger!'), 492: (675, 439, 'f2'), 493: (841, 475, 'f4'), 495: (1108, 456, 'Danger!'), 498: (806, 690, 'Danger!'), 499: (1527, 509, 'Danger!'), 500: (1400, 797, 'Danger!'), 501: (1400, 797, 'Danger!')}\n",
      "CUR FRAME LEFT PTS\n",
      "[(1527, 509, 'Danger!'), (1400, 797, 'Danger!'), (1400, 797, 'Danger!')]\n",
      "Tracking objects\n",
      "{267: (987, 572, 'f5'), 296: (586, 582, 'Danger!'), 298: (940, 722, 'f4'), 343: (874, 550, 'f4'), 379: (638, 501, 'Danger!'), 389: (696, 526, 'f2'), 417: (1212, 814, 'Danger!'), 440: (720, 463, 'f3'), 442: (1212, 814, 'Danger!'), 461: (1212, 814, 'Danger!'), 471: (1129, 1045, 'Danger!'), 483: (938, 502, 'f5'), 488: (1360, 472, 'Danger!'), 490: (786, 538, 'Danger!'), 492: (675, 440, 'f2'), 493: (842, 475, 'f4'), 495: (1100, 454, 'Danger!'), 502: (1288, 534, 'Danger!'), 503: (1504, 505, 'Danger!'), 504: (386, 895, 'Danger!'), 505: (1446, 836, 'Danger!'), 506: (1445, 837, 'Danger!'), 507: (902, 464, 'f5')}\n",
      "CUR FRAME LEFT PTS\n",
      "[(1288, 534, 'Danger!'), (1504, 505, 'Danger!'), (386, 895, 'Danger!'), (1446, 836, 'Danger!'), (1445, 837, 'Danger!'), (902, 464, 'Danger!')]\n"
     ]
    },
    {
     "name": "stderr",
     "output_type": "stream",
     "text": [
      "0: 384x640 17 cars, 3 trucks, 105.0ms\n",
      "Speed: 1.1ms pre-process, 105.0ms inference, 1.1ms postprocess per image at shape (1, 3, 640, 640)\n",
      "\n",
      "0: 384x640 17 cars, 3 trucks, 110.2ms\n",
      "Speed: 1.1ms pre-process, 110.2ms inference, 2.0ms postprocess per image at shape (1, 3, 640, 640)\n",
      "\n"
     ]
    },
    {
     "name": "stdout",
     "output_type": "stream",
     "text": [
      "Tracking objects\n",
      "{267: (988, 573, 'f5'), 296: (584, 584, 'Danger!'), 298: (943, 726, 'f4'), 343: (874, 550, 'f4'), 379: (635, 503, 'Danger!'), 389: (697, 527, 'f2'), 440: (719, 466, 'f3'), 471: (1131, 1053, 'Danger!'), 483: (939, 503, 'f5'), 488: (1348, 470, 'Danger!'), 490: (787, 541, 'Danger!'), 493: (843, 477, 'f4'), 495: (1094, 452, 'Danger!'), 502: (1279, 530, 'Danger!'), 503: (1500, 503, 'Danger!'), 504: (378, 907, 'Danger!'), 508: (1226, 850, 'Danger!'), 509: (1469, 855, 'Danger!'), 510: (1469, 853, 'Danger!'), 511: (806, 702, 'Danger!')}\n",
      "CUR FRAME LEFT PTS\n",
      "[(1226, 850, 'Danger!'), (1469, 855, 'Danger!'), (1469, 853, 'Danger!'), (806, 702, 'Danger!')]\n",
      "Tracking objects\n",
      "{267: (989, 574, 'f5'), 296: (582, 588, 'Danger!'), 298: (945, 731, 'f4'), 343: (877, 552, 'f4'), 379: (634, 506, 'Danger!'), 389: (696, 529, 'f2'), 440: (720, 468, 'f3'), 483: (939, 504, 'f5'), 488: (1340, 468, 'Danger!'), 490: (786, 540, 'Danger!'), 493: (842, 478, 'f4'), 495: (1090, 450, 'Danger!'), 502: (1268, 525, 'Danger!'), 503: (1491, 501, 'Danger!'), 504: (374, 915, 'Danger!'), 508: (1230, 849, 'Danger!'), 511: (808, 706, 'Danger!'), 512: (1496, 875, 'Danger!'), 513: (1494, 876, 'Danger!'), 514: (674, 443, 'f2')}\n",
      "CUR FRAME LEFT PTS\n",
      "[(1496, 875, 'Danger!'), (1494, 876, 'Danger!'), (674, 443, 'Danger!')]\n"
     ]
    },
    {
     "name": "stderr",
     "output_type": "stream",
     "text": [
      "0: 384x640 16 cars, 3 trucks, 128.5ms\n",
      "Speed: 1.6ms pre-process, 128.5ms inference, 1.0ms postprocess per image at shape (1, 3, 640, 640)\n",
      "\n",
      "0: 384x640 16 cars, 1 truck, 120.1ms\n",
      "Speed: 0.9ms pre-process, 120.1ms inference, 1.6ms postprocess per image at shape (1, 3, 640, 640)\n",
      "\n"
     ]
    },
    {
     "name": "stdout",
     "output_type": "stream",
     "text": [
      "Tracking objects\n",
      "{267: (989, 574, 'f5'), 296: (581, 590, 'Danger!'), 298: (947, 737, 'f4'), 343: (876, 553, 'f4'), 379: (634, 505, 'Danger!'), 389: (694, 533, 'f2'), 440: (718, 468, 'f3'), 483: (941, 504, 'f5'), 490: (787, 542, 'Danger!'), 493: (844, 478, 'f4'), 495: (1088, 448, 'Danger!'), 502: (1258, 521, 'Danger!'), 503: (1490, 497, 'Danger!'), 504: (367, 924, 'Danger!'), 508: (1232, 835, 'Danger!'), 511: (807, 712, 'Danger!'), 514: (675, 444, 'f2'), 515: (1536, 899, 'Danger!'), 516: (1530, 898, 'Danger!')}\n",
      "CUR FRAME LEFT PTS\n",
      "[(1536, 899, 'Danger!'), (1530, 898, 'Danger!')]\n",
      "Tracking objects\n",
      "{267: (992, 578, 'f5'), 296: (577, 597, 'Danger!'), 298: (950, 748, 'f4'), 343: (880, 559, 'f4'), 379: (633, 507, 'Danger!'), 389: (693, 539, 'f2'), 440: (719, 471, 'f3'), 483: (942, 507, 'f5'), 490: (788, 546, 'Danger!'), 493: (845, 482, 'f4'), 502: (1240, 514, 'Danger!'), 517: (354, 946, 'Danger!'), 518: (1248, 847, 'Danger!'), 519: (1588, 945, 'Danger!'), 520: (1319, 461, 'Danger!'), 521: (1467, 492, 'Danger!'), 522: (911, 471, 'f5')}\n",
      "CUR FRAME LEFT PTS\n",
      "[(354, 946, 'Danger!'), (1248, 847, 'Danger!'), (1588, 945, 'Danger!'), (1319, 461, 'Danger!'), (1467, 492, 'Danger!'), (911, 471, 'Danger!')]\n"
     ]
    },
    {
     "name": "stderr",
     "output_type": "stream",
     "text": [
      "0: 384x640 18 cars, 1 truck, 115.3ms\n",
      "Speed: 1.0ms pre-process, 115.3ms inference, 1.5ms postprocess per image at shape (1, 3, 640, 640)\n",
      "\n",
      "0: 384x640 15 cars, 3 trucks, 101.5ms\n",
      "Speed: 0.5ms pre-process, 101.5ms inference, 1.0ms postprocess per image at shape (1, 3, 640, 640)\n",
      "\n"
     ]
    },
    {
     "name": "stdout",
     "output_type": "stream",
     "text": [
      "Tracking objects\n",
      "{267: (992, 577, 'f5'), 296: (576, 599, 'Danger!'), 298: (954, 756, 'f4'), 343: (882, 563, 'f4'), 379: (632, 509, 'Danger!'), 389: (693, 540, 'f2'), 440: (720, 473, 'f3'), 483: (942, 506, 'f5'), 490: (787, 547, 'Danger!'), 493: (844, 483, 'f4'), 502: (1230, 509, 'Danger!'), 517: (348, 955, 'Danger!'), 518: (1252, 857, 'Danger!'), 520: (1315, 460, 'Danger!'), 521: (1467, 492, 'Danger!'), 522: (910, 470, 'f5'), 523: (1651, 976, 'Danger!'), 524: (1525, 909, 'Danger!'), 525: (809, 767, 'Danger!')}\n",
      "CUR FRAME LEFT PTS\n",
      "[(1651, 976, 'Danger!'), (1525, 909, 'Danger!'), (809, 767, 'Danger!')]\n",
      "Tracking objects\n",
      "{267: (993, 579, 'f5'), 296: (574, 603, 'Danger!'), 298: (957, 763, 'f4'), 343: (882, 563, 'f4'), 379: (632, 511, 'Danger!'), 389: (693, 541, 'f2'), 440: (719, 474, 'f3'), 483: (942, 507, 'f5'), 490: (788, 550, 'Danger!'), 493: (845, 483, 'f4'), 502: (1224, 505, 'Danger!'), 517: (341, 966, 'Danger!'), 518: (1260, 867, 'Danger!'), 520: (1305, 456, 'Danger!'), 521: (1449, 487, 'Danger!'), 522: (911, 473, 'f5'), 523: (1660, 977, 'Danger!'), 526: (809, 729, 'Danger!')}\n",
      "CUR FRAME LEFT PTS\n",
      "[(809, 729, 'Danger!')]\n"
     ]
    },
    {
     "name": "stderr",
     "output_type": "stream",
     "text": [
      "0: 384x640 15 cars, 2 trucks, 104.8ms\n",
      "Speed: 1.0ms pre-process, 104.8ms inference, 2.0ms postprocess per image at shape (1, 3, 640, 640)\n",
      "\n",
      "0: 384x640 17 cars, 1 truck, 127.5ms\n",
      "Speed: 1.0ms pre-process, 127.5ms inference, 1.0ms postprocess per image at shape (1, 3, 640, 640)\n",
      "\n"
     ]
    },
    {
     "name": "stdout",
     "output_type": "stream",
     "text": [
      "Tracking objects\n",
      "{267: (995, 579, 'f5'), 296: (573, 605, 'Danger!'), 298: (959, 768, 'f4'), 343: (883, 565, 'f4'), 379: (631, 512, 'Danger!'), 389: (693, 544, 'f2'), 440: (720, 476, 'f3'), 483: (944, 511, 'f5'), 490: (788, 551, 'Danger!'), 493: (845, 483, 'f4'), 502: (1215, 501, 'Danger!'), 517: (331, 973, 'Danger!'), 518: (1268, 876, 'Danger!'), 521: (1442, 485, 'Danger!'), 522: (915, 476, 'f5'), 527: (1693, 989, 'Danger!'), 528: (810, 759, 'Danger!')}\n",
      "CUR FRAME LEFT PTS\n",
      "[(1693, 989, 'Danger!'), (810, 759, 'Danger!')]\n",
      "Tracking objects\n",
      "{267: (996, 584, 'f5'), 296: (569, 611, 'Danger!'), 298: (964, 781, 'f4'), 343: (883, 571, 'f4'), 379: (627, 518, 'Danger!'), 389: (694, 549, 'f2'), 440: (719, 476, 'f3'), 483: (945, 512, 'f5'), 490: (789, 555, 'Danger!'), 493: (847, 486, 'f4'), 502: (1200, 496, 'Danger!'), 517: (320, 984, 'Danger!'), 521: (1428, 483, 'Danger!'), 522: (915, 476, 'f5'), 529: (1752, 1018, 'Danger!'), 530: (812, 786, 'Danger!'), 531: (1284, 901, 'Danger!'), 532: (671, 451, 'f2')}\n",
      "CUR FRAME LEFT PTS\n",
      "[(1752, 1018, 'Danger!'), (812, 786, 'Danger!'), (1284, 901, 'Danger!'), (671, 451, 'Danger!')]\n"
     ]
    },
    {
     "name": "stderr",
     "output_type": "stream",
     "text": [
      "0: 384x640 21 cars, 1 truck, 101.0ms\n",
      "Speed: 1.1ms pre-process, 101.0ms inference, 1.1ms postprocess per image at shape (1, 3, 640, 640)\n",
      "\n",
      "0: 384x640 17 cars, 2 trucks, 108.9ms\n",
      "Speed: 1.0ms pre-process, 108.9ms inference, 1.2ms postprocess per image at shape (1, 3, 640, 640)\n",
      "\n"
     ]
    },
    {
     "name": "stdout",
     "output_type": "stream",
     "text": [
      "Tracking objects\n",
      "{267: (999, 586, 'f5'), 296: (567, 615, 'Danger!'), 298: (967, 785, 'f4'), 343: (884, 573, 'f4'), 379: (627, 519, 'Danger!'), 389: (693, 553, 'f2'), 440: (718, 478, 'Danger!'), 483: (946, 512, 'f5'), 490: (788, 556, 'Danger!'), 493: (848, 487, 'f4'), 502: (1194, 492, 'Danger!'), 517: (314, 987, 'f1'), 521: (1422, 482, 'Danger!'), 522: (915, 476, 'f5'), 530: (813, 770, 'Danger!'), 531: (1290, 905, 'Danger!'), 532: (672, 452, 'f2'), 533: (1769, 1033, 'Danger!'), 534: (780, 495, 'Danger!'), 535: (1878, 614, 'Danger!'), 536: (1059, 433, 'Danger!'), 537: (1287, 450, 'Danger!')}\n",
      "CUR FRAME LEFT PTS\n",
      "[(1769, 1033, 'Danger!'), (780, 495, 'Danger!'), (1878, 614, 'Danger!'), (1059, 433, 'Danger!'), (1287, 450, 'Danger!')]\n",
      "Tracking objects\n",
      "{267: (1000, 587, 'f5'), 296: (566, 618, 'Danger!'), 298: (971, 794, 'f4'), 343: (886, 573, 'f4'), 379: (626, 521, 'Danger!'), 389: (692, 552, 'f2'), 440: (717, 478, 'f2'), 483: (947, 514, 'f5'), 490: (790, 559, 'Danger!'), 493: (848, 487, 'f4'), 502: (1190, 489, 'Danger!'), 517: (312, 992, 'Danger!'), 521: (1420, 478, 'Danger!'), 522: (915, 477, 'f5'), 530: (814, 756, 'Danger!'), 531: (1300, 914, 'Danger!'), 532: (670, 453, 'f2'), 536: (1057, 431, 'Danger!'), 537: (1282, 447, 'Danger!')}\n",
      "CUR FRAME LEFT PTS\n",
      "[]\n"
     ]
    },
    {
     "name": "stderr",
     "output_type": "stream",
     "text": [
      "0: 384x640 20 cars, 1 truck, 107.1ms\n",
      "Speed: 1.0ms pre-process, 107.1ms inference, 1.0ms postprocess per image at shape (1, 3, 640, 640)\n",
      "\n",
      "0: 384x640 19 cars, 1 truck, 121.6ms\n",
      "Speed: 1.7ms pre-process, 121.6ms inference, 0.7ms postprocess per image at shape (1, 3, 640, 640)\n",
      "\n"
     ]
    },
    {
     "name": "stdout",
     "output_type": "stream",
     "text": [
      "Tracking objects\n",
      "{267: (999, 587, 'f5'), 296: (563, 623, 'Danger!'), 298: (972, 799, 'f4'), 343: (887, 576, 'f4'), 379: (625, 523, 'Danger!'), 389: (692, 554, 'f2'), 440: (717, 479, 'f2'), 483: (948, 515, 'f5'), 490: (789, 562, 'Danger!'), 493: (848, 487, 'f4'), 502: (1179, 487, 'Danger!'), 517: (306, 995, 'f1'), 521: (1410, 476, 'Danger!'), 522: (916, 478, 'f5'), 531: (1308, 926, 'Danger!'), 532: (669, 454, 'f2'), 537: (1278, 446, 'Danger!'), 538: (1859, 606, 'Danger!'), 539: (815, 804, 'Danger!'), 540: (779, 495, 'f3')}\n",
      "CUR FRAME LEFT PTS\n",
      "[(1859, 606, 'Danger!'), (815, 804, 'Danger!'), (779, 495, 'Danger!')]\n",
      "Tracking objects\n",
      "{267: (1001, 591, 'f5'), 296: (560, 629, 'Danger!'), 298: (980, 815, 'f4'), 343: (890, 580, 'f4'), 379: (623, 526, 'Danger!'), 389: (691, 561, 'f2'), 440: (716, 479, 'f2'), 483: (950, 516, 'f5'), 490: (790, 564, 'Danger!'), 493: (851, 491, 'f4'), 502: (1164, 481, 'Danger!'), 517: (295, 1007, 'f1'), 521: (1394, 472, 'Danger!'), 522: (916, 477, 'f5'), 532: (667, 455, 'f2'), 539: (817, 819, 'Danger!'), 541: (1898, 731, 'Danger!'), 542: (1829, 593, 'Danger!'), 543: (1328, 941, 'Danger!'), 544: (1880, 599, 'Danger!')}\n",
      "CUR FRAME LEFT PTS\n",
      "[(1898, 731, 'Danger!'), (1829, 593, 'Danger!'), (1328, 941, 'Danger!'), (1880, 599, 'Danger!')]\n"
     ]
    },
    {
     "name": "stderr",
     "output_type": "stream",
     "text": [
      "0: 384x640 19 cars, 1 bus, 1 truck, 103.6ms\n",
      "Speed: 1.0ms pre-process, 103.6ms inference, 1.8ms postprocess per image at shape (1, 3, 640, 640)\n",
      "\n",
      "0: 384x640 18 cars, 1 bus, 2 trucks, 123.9ms\n",
      "Speed: 1.0ms pre-process, 123.9ms inference, 1.0ms postprocess per image at shape (1, 3, 640, 640)\n",
      "\n"
     ]
    },
    {
     "name": "stdout",
     "output_type": "stream",
     "text": [
      "Tracking objects\n",
      "{267: (1004, 590, 'f5'), 296: (558, 633, 'Danger!'), 298: (983, 824, 'f4'), 343: (891, 583, 'f4'), 379: (622, 530, 'Danger!'), 389: (690, 563, 'f2'), 440: (716, 479, 'f2'), 483: (950, 517, 'f5'), 490: (789, 566, 'Danger!'), 493: (850, 492, 'f4'), 502: (1160, 477, 'Danger!'), 517: (292, 1013, 'f1'), 521: (1393, 473, 'Danger!'), 522: (916, 479, 'f5'), 532: (668, 456, 'f2'), 539: (818, 826, 'Danger!'), 541: (1882, 721, 'Danger!'), 542: (1817, 589, 'Danger!'), 543: (1337, 944, 'Danger!'), 545: (816, 776, 'Danger!')}\n",
      "CUR FRAME LEFT PTS\n",
      "[(816, 776, 'Danger!')]\n",
      "Tracking objects\n",
      "{267: (1005, 591, 'f5'), 296: (555, 636, 'Danger!'), 298: (983, 832, 'f4'), 343: (891, 585, 'f4'), 379: (623, 528, 'Danger!'), 389: (689, 565, 'f2'), 440: (716, 481, 'f2'), 483: (950, 518, 'f5'), 490: (790, 567, 'Danger!'), 493: (850, 493, 'f4'), 502: (1155, 473, 'Danger!'), 517: (286, 1020, 'f1'), 522: (916, 480, 'f5'), 532: (667, 456, 'f2'), 539: (818, 831, 'Danger!'), 543: (1344, 951, 'Danger!'), 545: (815, 781, 'Danger!'), 546: (1255, 443, 'Danger!'), 547: (1797, 584, 'Danger!')}\n",
      "CUR FRAME LEFT PTS\n",
      "[(1255, 443, 'Danger!'), (1797, 584, 'Danger!')]\n"
     ]
    },
    {
     "name": "stderr",
     "output_type": "stream",
     "text": [
      "0: 384x640 19 cars, 1 truck, 111.4ms\n",
      "Speed: 0.0ms pre-process, 111.4ms inference, 1.0ms postprocess per image at shape (1, 3, 640, 640)\n",
      "\n",
      "0: 384x640 20 cars, 134.1ms\n",
      "Speed: 0.0ms pre-process, 134.1ms inference, 0.0ms postprocess per image at shape (1, 3, 640, 640)\n",
      "\n"
     ]
    },
    {
     "name": "stdout",
     "output_type": "stream",
     "text": [
      "Tracking objects\n",
      "{267: (1004, 594, 'f5'), 296: (553, 641, 'Danger!'), 298: (986, 840, 'f4'), 343: (893, 588, 'f4'), 379: (621, 530, 'Danger!'), 389: (689, 568, 'f2'), 440: (716, 482, 'f2'), 483: (951, 519, 'f5'), 490: (790, 568, 'Danger!'), 493: (852, 495, 'f4'), 502: (1149, 472, 'Danger!'), 517: (282, 1025, 'f1'), 522: (917, 480, 'f5'), 532: (666, 457, 'f2'), 539: (819, 839, 'Danger!'), 543: (1346, 951, 'Danger!'), 546: (1250, 440, 'Danger!'), 548: (1849, 708, 'Danger!'), 549: (1774, 578, 'Danger!'), 550: (1822, 585, 'Danger!')}\n",
      "CUR FRAME LEFT PTS\n",
      "[(1849, 708, 'Danger!'), (1774, 578, 'Danger!'), (1822, 585, 'Danger!')]\n",
      "Tracking objects\n",
      "{267: (1009, 596, 'f5'), 296: (549, 649, 'Danger!'), 298: (995, 854, 'f4'), 343: (897, 593, 'f4'), 379: (619, 535, 'Danger!'), 389: (685, 570, 'f2'), 440: (715, 483, 'f2'), 483: (954, 523, 'f5'), 490: (791, 573, 'Danger!'), 493: (853, 496, 'f4'), 502: (1138, 468, 'Danger!'), 517: (273, 1036, 'f1'), 522: (919, 481, 'f5'), 532: (665, 458, 'f2'), 539: (820, 853, 'Danger!'), 549: (1784, 573, 'Danger!'), 551: (1809, 685, 'Danger!'), 552: (1742, 569, 'Danger!'), 553: (1752, 570, 'Danger!'), 554: (1365, 961, 'Danger!')}\n",
      "CUR FRAME LEFT PTS\n",
      "[(1809, 685, 'Danger!'), (1742, 569, 'Danger!'), (1752, 570, 'Danger!'), (1365, 961, 'Danger!')]\n"
     ]
    },
    {
     "name": "stderr",
     "output_type": "stream",
     "text": [
      "0: 384x640 21 cars, 1 bus, 1 truck, 117.1ms\n",
      "Speed: 0.0ms pre-process, 117.1ms inference, 0.0ms postprocess per image at shape (1, 3, 640, 640)\n",
      "\n",
      "0: 384x640 19 cars, 1 bus, 1 truck, 111.3ms\n",
      "Speed: 1.0ms pre-process, 111.3ms inference, 1.3ms postprocess per image at shape (1, 3, 640, 640)\n",
      "\n"
     ]
    },
    {
     "name": "stdout",
     "output_type": "stream",
     "text": [
      "Tracking objects\n",
      "{267: (1009, 598, 'f5'), 296: (548, 652, 'Danger!'), 298: (998, 864, 'f4'), 343: (897, 595, 'f4'), 379: (617, 537, 'Danger!'), 389: (684, 573, 'f2'), 440: (716, 486, 'Danger!'), 483: (954, 524, 'f5'), 490: (791, 576, 'Danger!'), 493: (853, 497, 'f4'), 502: (1132, 464, 'Danger!'), 517: (269, 1043, 'f1'), 522: (919, 484, 'f5'), 532: (664, 458, 'f2'), 549: (1769, 570, 'Danger!'), 552: (1736, 566, 'Danger!'), 553: (1736, 566, 'Danger!'), 554: (1376, 968, 'Danger!'), 555: (1779, 670, 'Danger!'), 556: (818, 809, 'Danger!'), 557: (1356, 463, 'Danger!')}\n",
      "CUR FRAME LEFT PTS\n",
      "[(1779, 670, 'Danger!'), (818, 809, 'Danger!'), (1356, 463, 'Danger!')]\n",
      "Tracking objects\n",
      "{267: (1010, 599, 'f5'), 296: (546, 655, 'Danger!'), 298: (1002, 875, 'f4'), 343: (898, 599, 'f4'), 379: (617, 539, 'Danger!'), 389: (684, 577, 'f2'), 440: (715, 490, 'Danger!'), 483: (956, 524, 'f5'), 490: (792, 577, 'Danger!'), 493: (853, 500, 'f4'), 502: (1128, 462, 'Danger!'), 522: (921, 484, 'f5'), 532: (664, 459, 'f2'), 549: (1752, 563, 'Danger!'), 552: (1752, 563, 'Danger!'), 553: (1752, 563, 'Danger!'), 554: (1392, 973, 'Danger!'), 556: (819, 816, 'Danger!'), 557: (1353, 462, 'Danger!'), 558: (1749, 663, 'Danger!'), 559: (1699, 561, 'Danger!'), 560: (1714, 562, 'Danger!')}\n",
      "CUR FRAME LEFT PTS\n",
      "[(1749, 663, 'Danger!'), (1699, 561, 'Danger!'), (1714, 562, 'Danger!')]\n"
     ]
    },
    {
     "name": "stderr",
     "output_type": "stream",
     "text": [
      "0: 384x640 20 cars, 1 bus, 81.8ms\n",
      "Speed: 1.0ms pre-process, 81.8ms inference, 0.0ms postprocess per image at shape (1, 3, 640, 640)\n",
      "\n",
      "0: 384x640 19 cars, 1 bus, 1 truck, 106.9ms\n",
      "Speed: 1.0ms pre-process, 106.9ms inference, 0.0ms postprocess per image at shape (1, 3, 640, 640)\n",
      "\n"
     ]
    },
    {
     "name": "stdout",
     "output_type": "stream",
     "text": [
      "Tracking objects\n",
      "{267: (1012, 600, 'f5'), 296: (543, 659, 'Danger!'), 298: (1004, 887, 'f4'), 343: (899, 603, 'f4'), 379: (615, 543, 'Danger!'), 389: (684, 580, 'f2'), 440: (714, 491, 'f2'), 483: (957, 524, 'f5'), 490: (791, 579, 'Danger!'), 493: (854, 501, 'f4'), 502: (1124, 460, 'Danger!'), 522: (921, 485, 'f5'), 532: (663, 460, 'f2'), 549: (1736, 561, 'Danger!'), 552: (1736, 561, 'Danger!'), 553: (1736, 561, 'Danger!'), 554: (1400, 974, 'Danger!'), 556: (824, 826, 'Danger!'), 557: (1349, 461, 'Danger!'), 559: (1693, 557, 'Danger!'), 561: (1725, 653, 'Danger!'), 562: (1228, 430, 'Danger!')}\n",
      "CUR FRAME LEFT PTS\n",
      "[(1725, 653, 'Danger!'), (1228, 430, 'Danger!')]\n",
      "Tracking objects\n",
      "{267: (1012, 604, 'f5'), 296: (536, 668, 'Danger!'), 298: (1012, 904, 'f4'), 343: (902, 607, 'f4'), 379: (613, 548, 'Danger!'), 389: (686, 583, 'f2'), 440: (714, 493, 'Danger!'), 483: (956, 525, 'f5'), 490: (792, 582, 'Danger!'), 493: (855, 503, 'f4'), 502: (1114, 456, 'Danger!'), 522: (922, 487, 'f5'), 532: (662, 461, 'f2'), 554: (1411, 986, 'Danger!'), 556: (825, 838, 'Danger!'), 557: (1337, 458, 'Danger!'), 559: (1710, 554, 'Danger!'), 563: (1675, 633, 'Danger!'), 564: (1880, 678, 'Danger!'), 565: (1665, 550, 'Danger!')}\n",
      "CUR FRAME LEFT PTS\n",
      "[(1675, 633, 'Danger!'), (1880, 678, 'Danger!'), (1665, 550, 'Danger!')]\n"
     ]
    },
    {
     "name": "stderr",
     "output_type": "stream",
     "text": [
      "0: 384x640 18 cars, 1 bus, 100.0ms\n",
      "Speed: 1.0ms pre-process, 100.0ms inference, 0.0ms postprocess per image at shape (1, 3, 640, 640)\n",
      "\n",
      "0: 384x640 19 cars, 1 bus, 112.4ms\n",
      "Speed: 0.0ms pre-process, 112.4ms inference, 2.5ms postprocess per image at shape (1, 3, 640, 640)\n",
      "\n"
     ]
    },
    {
     "name": "stdout",
     "output_type": "stream",
     "text": [
      "Tracking objects\n",
      "{267: (1015, 605, 'f5'), 296: (534, 673, 'Danger!'), 298: (1015, 914, 'f4'), 343: (903, 610, 'f4'), 379: (613, 549, 'Danger!'), 389: (686, 587, 'f2'), 440: (712, 497, 'f2'), 483: (959, 525, 'f5'), 490: (792, 584, 'Danger!'), 493: (857, 505, 'f4'), 502: (1110, 453, 'Danger!'), 522: (923, 488, 'f5'), 532: (662, 462, 'f2'), 556: (824, 847, 'Danger!'), 559: (1698, 549, 'Danger!'), 564: (1867, 671, 'Danger!'), 565: (1665, 548, 'Danger!'), 566: (1654, 624, 'Danger!'), 567: (782, 508, 'Danger!')}\n",
      "CUR FRAME LEFT PTS\n",
      "[(1654, 624, 'Danger!'), (782, 508, 'Danger!')]\n",
      "Tracking objects\n",
      "{267: (1013, 608, 'f5'), 296: (532, 679, 'Danger!'), 298: (1019, 925, 'f4'), 343: (905, 612, 'f4'), 379: (610, 551, 'Danger!'), 389: (685, 591, 'f2'), 440: (713, 495, 'f2'), 483: (960, 527, 'f5'), 490: (792, 588, 'Danger!'), 493: (856, 506, 'f4'), 502: (1105, 451, 'Danger!'), 522: (923, 488, 'f5'), 532: (659, 462, 'Danger!'), 556: (825, 854, 'Danger!'), 564: (1853, 667, 'Danger!'), 567: (782, 508, 'Danger!'), 568: (1632, 617, 'Danger!'), 569: (1427, 1000, 'Danger!'), 570: (1330, 453, 'Danger!'), 571: (826, 910, 'Danger!')}\n",
      "CUR FRAME LEFT PTS\n",
      "[(1632, 617, 'Danger!'), (1427, 1000, 'Danger!'), (1330, 453, 'Danger!'), (826, 910, 'Danger!')]\n"
     ]
    },
    {
     "name": "stderr",
     "output_type": "stream",
     "text": [
      "0: 384x640 20 cars, 1 bus, 109.0ms\n",
      "Speed: 1.1ms pre-process, 109.0ms inference, 0.0ms postprocess per image at shape (1, 3, 640, 640)\n",
      "\n",
      "0: 384x640 21 cars, 1 truck, 118.0ms\n",
      "Speed: 0.0ms pre-process, 118.0ms inference, 7.5ms postprocess per image at shape (1, 3, 640, 640)\n",
      "\n"
     ]
    },
    {
     "name": "stdout",
     "output_type": "stream",
     "text": [
      "Tracking objects\n",
      "{267: (1017, 607, 'f5'), 296: (531, 683, 'Danger!'), 298: (1025, 938, 'f4'), 343: (906, 615, 'f4'), 379: (608, 556, 'Danger!'), 389: (684, 593, 'f2'), 440: (712, 500, 'Danger!'), 483: (960, 528, 'f5'), 490: (793, 591, 'Danger!'), 493: (858, 507, 'f4'), 502: (1103, 449, 'Danger!'), 522: (923, 488, 'f5'), 532: (660, 466, 'f2'), 556: (827, 862, 'Danger!'), 569: (1434, 1004, 'Danger!'), 570: (1323, 454, 'Danger!'), 571: (827, 918, 'Danger!'), 572: (1610, 610, 'Danger!'), 573: (1884, 665, 'Danger!'), 574: (1832, 653, 'Danger!'), 575: (895, 453, 'f5')}\n",
      "CUR FRAME LEFT PTS\n",
      "[(1610, 610, 'Danger!'), (1884, 665, 'Danger!'), (1832, 653, 'Danger!'), (895, 453, 'Danger!')]\n",
      "Tracking objects\n",
      "{267: (1018, 614, 'f5'), 296: (526, 691, 'Danger!'), 343: (909, 621, 'f4'), 379: (604, 556, 'Danger!'), 389: (682, 598, 'f2'), 440: (711, 501, 'f2'), 483: (962, 530, 'f5'), 490: (793, 594, 'Danger!'), 493: (857, 508, 'f4'), 502: (1093, 446, 'Danger!'), 522: (925, 490, 'f5'), 532: (659, 468, 'f2'), 556: (830, 880, 'Danger!'), 570: (1309, 451, 'Danger!'), 575: (896, 451, 'f5'), 576: (1034, 964, 'f4'), 577: (1573, 596, 'Danger!'), 578: (831, 938, 'Danger!'), 579: (1788, 638, 'Danger!'), 580: (1454, 1012, 'Danger!'), 581: (783, 512, 'Danger!'), 582: (1643, 536, 'Danger!')}\n",
      "CUR FRAME LEFT PTS\n",
      "[(1034, 964, 'Danger!'), (1573, 596, 'Danger!'), (831, 938, 'Danger!'), (1788, 638, 'Danger!'), (1454, 1012, 'Danger!'), (783, 512, 'Danger!'), (1643, 536, 'Danger!')]\n"
     ]
    },
    {
     "name": "stderr",
     "output_type": "stream",
     "text": [
      "0: 384x640 20 cars, 1 truck, 112.7ms\n",
      "Speed: 0.0ms pre-process, 112.7ms inference, 1.7ms postprocess per image at shape (1, 3, 640, 640)\n",
      "\n",
      "0: 384x640 21 cars, 1 truck, 96.3ms\n",
      "Speed: 0.0ms pre-process, 96.3ms inference, 0.0ms postprocess per image at shape (1, 3, 640, 640)\n",
      "\n"
     ]
    },
    {
     "name": "stdout",
     "output_type": "stream",
     "text": [
      "Tracking objects\n",
      "{267: (1020, 615, 'f5'), 296: (523, 696, 'Danger!'), 343: (910, 624, 'f4'), 379: (604, 558, 'Danger!'), 389: (681, 601, 'f2'), 440: (712, 503, 'Danger!'), 483: (963, 531, 'f5'), 490: (794, 596, 'Danger!'), 493: (859, 507, 'f4'), 502: (1088, 444, 'Danger!'), 522: (926, 491, 'f5'), 532: (659, 468, 'f2'), 556: (833, 888, 'Danger!'), 570: (1307, 448, 'Danger!'), 575: (896, 453, 'f5'), 576: (1041, 976, 'f4'), 577: (1554, 590, 'Danger!'), 579: (1804, 637, 'Danger!'), 581: (784, 513, 'Danger!'), 582: (1635, 531, 'Danger!')}\n",
      "CUR FRAME LEFT PTS\n",
      "[]\n",
      "Tracking objects\n",
      "{267: (1021, 615, 'f5'), 296: (520, 701, 'Danger!'), 343: (912, 628, 'f4'), 379: (602, 562, 'Danger!'), 389: (680, 606, 'f2'), 440: (711, 502, 'f2'), 483: (963, 532, 'f5'), 490: (794, 598, 'Danger!'), 493: (859, 510, 'f4'), 502: (1084, 444, 'Danger!'), 522: (926, 491, 'f5'), 532: (658, 469, 'f2'), 570: (1303, 449, 'Danger!'), 575: (896, 453, 'f5'), 576: (1044, 980, 'f4'), 581: (785, 513, 'Danger!'), 582: (1619, 529, 'Danger!'), 583: (1536, 581, 'Danger!'), 584: (1779, 630, 'Danger!'), 585: (832, 959, 'Danger!'), 586: (1594, 530, 'Danger!')}\n",
      "CUR FRAME LEFT PTS\n",
      "[(1536, 581, 'Danger!'), (1779, 630, 'Danger!'), (832, 959, 'Danger!'), (1594, 530, 'Danger!')]\n"
     ]
    },
    {
     "name": "stderr",
     "output_type": "stream",
     "text": [
      "0: 384x640 18 cars, 1 bus, 1 truck, 101.1ms\n",
      "Speed: 0.0ms pre-process, 101.1ms inference, 0.0ms postprocess per image at shape (1, 3, 640, 640)\n",
      "\n",
      "0: 384x640 18 cars, 1 truck, 108.4ms\n",
      "Speed: 1.1ms pre-process, 108.4ms inference, 0.0ms postprocess per image at shape (1, 3, 640, 640)\n",
      "\n"
     ]
    },
    {
     "name": "stdout",
     "output_type": "stream",
     "text": [
      "Tracking objects\n",
      "{267: (1021, 616, 'f5'), 296: (515, 707, 'Danger!'), 343: (914, 631, 'f4'), 379: (601, 563, 'Danger!'), 389: (679, 609, 'f2'), 440: (710, 504, 'f2'), 483: (963, 532, 'f5'), 490: (793, 600, 'Danger!'), 493: (859, 512, 'f4'), 502: (1081, 442, 'Danger!'), 522: (927, 492, 'f5'), 532: (656, 472, 'Danger!'), 575: (896, 453, 'f5'), 581: (783, 514, 'Danger!'), 583: (1521, 577, 'Danger!'), 586: (1584, 524, 'Danger!'), 587: (832, 907, 'Danger!'), 588: (833, 906, 'Danger!'), 589: (1039, 955, 'f4'), 590: (1709, 613, 'Danger!')}\n",
      "CUR FRAME LEFT PTS\n",
      "[(832, 907, 'Danger!'), (833, 906, 'Danger!'), (1039, 955, 'Danger!'), (1709, 613, 'Danger!')]\n",
      "Tracking objects\n",
      "{267: (1022, 618, 'f5'), 296: (509, 718, 'Danger!'), 343: (915, 638, 'f4'), 379: (598, 569, 'Danger!'), 389: (679, 614, 'f2'), 440: (708, 506, 'f2'), 483: (965, 533, 'f5'), 490: (793, 604, 'Danger!'), 493: (861, 517, 'f4'), 522: (928, 494, 'f5'), 532: (656, 472, 'Danger!'), 581: (783, 520, 'Danger!'), 590: (1709, 607, 'Danger!'), 591: (1488, 566, 'Danger!'), 592: (1049, 983, 'f4'), 593: (1674, 599, 'Danger!'), 594: (836, 993, 'Danger!'), 595: (1859, 810, 'Danger!'), 596: (832, 927, 'Danger!')}\n",
      "CUR FRAME LEFT PTS\n",
      "[(1488, 566, 'Danger!'), (1049, 983, 'Danger!'), (1674, 599, 'Danger!'), (836, 993, 'Danger!'), (1859, 810, 'Danger!'), (832, 927, 'Danger!')]\n"
     ]
    },
    {
     "name": "stderr",
     "output_type": "stream",
     "text": [
      "0: 384x640 20 cars, 1 truck, 115.2ms\n",
      "Speed: 0.0ms pre-process, 115.2ms inference, 0.0ms postprocess per image at shape (1, 3, 640, 640)\n",
      "\n",
      "0: 384x640 21 cars, 1 bus, 1 truck, 115.0ms\n",
      "Speed: 0.0ms pre-process, 115.0ms inference, 0.0ms postprocess per image at shape (1, 3, 640, 640)\n",
      "\n"
     ]
    },
    {
     "name": "stdout",
     "output_type": "stream",
     "text": [
      "Tracking objects\n",
      "{267: (1028, 622, 'f5'), 296: (506, 722, 'Danger!'), 343: (917, 640, 'f4'), 379: (596, 572, 'Danger!'), 389: (677, 618, 'f2'), 440: (709, 510, 'f2'), 483: (966, 534, 'f5'), 490: (794, 608, 'Danger!'), 493: (861, 517, 'f4'), 522: (929, 495, 'f5'), 532: (657, 473, 'f2'), 581: (784, 521, 'Danger!'), 591: (1473, 559, 'Danger!'), 592: (1059, 1000, 'f4'), 593: (1687, 599, 'Danger!'), 596: (834, 939, 'Danger!'), 597: (1839, 800, 'Danger!'), 598: (1651, 589, 'Danger!'), 599: (1552, 514, 'Danger!'), 600: (1070, 435, 'Danger!')}\n",
      "CUR FRAME LEFT PTS\n",
      "[(1839, 800, 'Danger!'), (1651, 589, 'Danger!'), (1552, 514, 'Danger!'), (1070, 435, 'Danger!')]\n",
      "Tracking objects\n",
      "{267: (1025, 624, 'f5'), 296: (504, 730, 'Danger!'), 343: (917, 645, 'f4'), 379: (596, 574, 'Danger!'), 389: (675, 622, 'f2'), 440: (708, 509, 'f2'), 483: (966, 535, 'f5'), 490: (794, 609, 'Danger!'), 493: (861, 519, 'f4'), 522: (929, 494, 'f5'), 532: (655, 475, 'Danger!'), 581: (785, 522, 'Danger!'), 591: (1459, 552, 'Danger!'), 592: (1059, 1012, 'f4'), 596: (834, 943, 'Danger!'), 598: (1633, 585, 'Danger!'), 599: (1560, 515, 'Danger!'), 600: (1068, 433, 'Danger!'), 601: (1821, 781, 'Danger!'), 602: (897, 453, 'f5'), 603: (835, 1013, 'Danger!')}\n",
      "CUR FRAME LEFT PTS\n",
      "[(1821, 781, 'Danger!'), (897, 453, 'Danger!'), (835, 1013, 'Danger!')]\n"
     ]
    },
    {
     "name": "stderr",
     "output_type": "stream",
     "text": [
      "0: 384x640 19 cars, 1 truck, 112.5ms\n",
      "Speed: 1.0ms pre-process, 112.5ms inference, 2.0ms postprocess per image at shape (1, 3, 640, 640)\n",
      "\n",
      "0: 384x640 20 cars, 117.5ms\n",
      "Speed: 1.5ms pre-process, 117.5ms inference, 1.2ms postprocess per image at shape (1, 3, 640, 640)\n",
      "\n"
     ]
    },
    {
     "name": "stdout",
     "output_type": "stream",
     "text": [
      "Tracking objects\n",
      "{267: (1026, 625, 'f5'), 296: (501, 734, 'Danger!'), 343: (922, 648, 'f4'), 379: (593, 576, 'Danger!'), 389: (674, 625, 'f2'), 440: (707, 511, 'f2'), 483: (967, 536, 'f5'), 490: (794, 611, 'Danger!'), 493: (864, 520, 'f4'), 522: (931, 494, 'f5'), 532: (655, 476, 'Danger!'), 581: (784, 524, 'Danger!'), 591: (1447, 548, 'Danger!'), 592: (1067, 1020, 'f4'), 596: (835, 944, 'Danger!'), 598: (1646, 583, 'Danger!'), 599: (1551, 511, 'Danger!'), 602: (897, 454, 'f5'), 604: (1792, 766, 'Danger!'), 605: (1766, 762, 'Danger!')}\n",
      "CUR FRAME LEFT PTS\n",
      "[(1792, 766, 'Danger!'), (1766, 762, 'Danger!')]\n",
      "Tracking objects\n",
      "{267: (1030, 627, 'f5'), 296: (494, 744, 'Danger!'), 343: (925, 655, 'f4'), 379: (591, 580, 'Danger!'), 389: (672, 632, 'f2'), 440: (707, 525, 'Danger!'), 483: (970, 538, 'f5'), 490: (794, 614, 'Danger!'), 493: (866, 523, 'f4'), 522: (933, 496, 'f5'), 532: (655, 480, 'f2'), 581: (786, 528, 'Danger!'), 592: (1073, 1034, 'f4'), 599: (1534, 505, 'Danger!'), 602: (897, 456, 'f5'), 606: (1422, 540, 'Danger!'), 607: (1719, 732, 'Danger!'), 608: (1514, 504, 'Danger!'), 609: (1580, 565, 'Danger!')}\n",
      "CUR FRAME LEFT PTS\n",
      "[(1422, 540, 'Danger!'), (1719, 732, 'Danger!'), (1514, 504, 'Danger!'), (1580, 565, 'Danger!')]\n"
     ]
    },
    {
     "name": "stderr",
     "output_type": "stream",
     "text": [
      "0: 384x640 18 cars, 1 truck, 101.4ms\n",
      "Speed: 0.0ms pre-process, 101.4ms inference, 2.7ms postprocess per image at shape (1, 3, 640, 640)\n",
      "\n",
      "0: 384x640 19 cars, 1 truck, 114.9ms\n",
      "Speed: 0.0ms pre-process, 114.9ms inference, 0.0ms postprocess per image at shape (1, 3, 640, 640)\n",
      "\n"
     ]
    },
    {
     "name": "stdout",
     "output_type": "stream",
     "text": [
      "Tracking objects\n",
      "{267: (1031, 629, 'f5'), 296: (491, 750, 'Danger!'), 343: (927, 658, 'f4'), 379: (590, 583, 'Danger!'), 389: (671, 637, 'f2'), 440: (707, 518, 'Danger!'), 483: (971, 540, 'f5'), 490: (794, 618, 'Danger!'), 493: (866, 523, 'f4'), 522: (934, 496, 'f5'), 532: (654, 480, 'Danger!'), 581: (786, 528, 'Danger!'), 602: (897, 456, 'f5'), 606: (1410, 533, 'Danger!'), 609: (1595, 568, 'Danger!'), 610: (1664, 713, 'Danger!'), 611: (1686, 716, 'Danger!'), 612: (1847, 722, 'Danger!'), 613: (829, 928, 'Danger!')}\n",
      "CUR FRAME LEFT PTS\n",
      "[(1664, 713, 'Danger!'), (1686, 716, 'Danger!'), (1847, 722, 'Danger!'), (829, 928, 'Danger!')]\n",
      "Tracking objects\n",
      "{267: (1035, 632, 'f5'), 296: (485, 757, 'Danger!'), 343: (928, 661, 'f4'), 379: (590, 585, 'Danger!'), 389: (671, 640, 'f2'), 440: (706, 519, 'f2'), 483: (971, 540, 'f5'), 490: (795, 622, 'Danger!'), 493: (866, 527, 'f4'), 522: (934, 497, 'f5'), 532: (653, 481, 'Danger!'), 581: (788, 529, 'Danger!'), 602: (897, 456, 'f5'), 606: (1399, 528, 'Danger!'), 610: (1657, 701, 'Danger!'), 612: (1834, 708, 'Danger!'), 613: (830, 940, 'Danger!'), 614: (1633, 698, 'Danger!'), 615: (1258, 435, 'Danger!'), 616: (1574, 561, 'Danger!')}\n",
      "CUR FRAME LEFT PTS\n",
      "[(1633, 698, 'Danger!'), (1258, 435, 'Danger!'), (1574, 561, 'Danger!')]\n"
     ]
    },
    {
     "name": "stderr",
     "output_type": "stream",
     "text": [
      "0: 384x640 20 cars, 111.5ms\n",
      "Speed: 0.0ms pre-process, 111.5ms inference, 1.4ms postprocess per image at shape (1, 3, 640, 640)\n",
      "\n",
      "0: 384x640 19 cars, 109.6ms\n",
      "Speed: 0.0ms pre-process, 109.6ms inference, 0.0ms postprocess per image at shape (1, 3, 640, 640)\n",
      "\n"
     ]
    },
    {
     "name": "stdout",
     "output_type": "stream",
     "text": [
      "Tracking objects\n",
      "{267: (1035, 633, 'f5'), 296: (482, 763, 'Danger!'), 343: (928, 666, 'f4'), 379: (588, 588, 'Danger!'), 389: (670, 642, 'f2'), 440: (705, 526, 'Danger!'), 483: (972, 541, 'f5'), 490: (795, 623, 'Danger!'), 493: (868, 527, 'f4'), 522: (934, 497, 'f5'), 532: (652, 482, 'Danger!'), 581: (784, 528, 'Danger!'), 602: (898, 457, 'f5'), 606: (1385, 525, 'Danger!'), 612: (1821, 695, 'Danger!'), 614: (1629, 689, 'Danger!'), 616: (1558, 554, 'Danger!'), 617: (1490, 496, 'Danger!'), 618: (1539, 554, 'Danger!'), 619: (1609, 689, 'Danger!')}\n",
      "CUR FRAME LEFT PTS\n",
      "[(1490, 496, 'Danger!'), (1539, 554, 'Danger!'), (1609, 689, 'Danger!')]\n",
      "Tracking objects\n",
      "{267: (1038, 635, 'f5'), 296: (475, 774, 'Danger!'), 343: (934, 675, 'f4'), 379: (583, 597, 'Danger!'), 389: (669, 651, 'f2'), 440: (704, 529, 'f2'), 483: (974, 543, 'f5'), 490: (796, 629, 'Danger!'), 493: (869, 530, 'f4'), 522: (935, 499, 'f5'), 532: (651, 486, 'Danger!'), 581: (784, 532, 'Danger!'), 602: (898, 456, 'f5'), 618: (1533, 546, 'Danger!'), 620: (1365, 517, 'Danger!'), 621: (1555, 662, 'Danger!'), 622: (1575, 664, 'Danger!'), 623: (1760, 671, 'Danger!'), 624: (1248, 432, 'Danger!')}\n",
      "CUR FRAME LEFT PTS\n",
      "[(1365, 517, 'Danger!'), (1555, 662, 'Danger!'), (1575, 664, 'Danger!'), (1760, 671, 'Danger!'), (1248, 432, 'Danger!')]\n"
     ]
    },
    {
     "name": "stderr",
     "output_type": "stream",
     "text": [
      "0: 384x640 19 cars, 80.9ms\n",
      "Speed: 1.1ms pre-process, 80.9ms inference, 0.0ms postprocess per image at shape (1, 3, 640, 640)\n",
      "\n",
      "0: 384x640 18 cars, 114.3ms\n",
      "Speed: 1.0ms pre-process, 114.3ms inference, 7.3ms postprocess per image at shape (1, 3, 640, 640)\n",
      "\n"
     ]
    },
    {
     "name": "stdout",
     "output_type": "stream",
     "text": [
      "Tracking objects\n",
      "{267: (1040, 638, 'f5'), 296: (471, 781, 'Danger!'), 343: (936, 678, 'f4'), 379: (583, 597, 'Danger!'), 389: (668, 653, 'f2'), 440: (703, 529, 'f2'), 483: (975, 544, 'f5'), 490: (796, 630, 'Danger!'), 493: (868, 529, 'f4'), 522: (936, 501, 'f5'), 532: (650, 486, 'Danger!'), 581: (787, 533, 'Danger!'), 602: (898, 458, 'f5'), 618: (1517, 543, 'Danger!'), 620: (1356, 514, 'Danger!'), 621: (1554, 655, 'Danger!'), 623: (1777, 667, 'Danger!'), 625: (1732, 663, 'Danger!'), 626: (1505, 540, 'Danger!')}\n",
      "CUR FRAME LEFT PTS\n",
      "[(1732, 663, 'Danger!'), (1505, 540, 'Danger!')]\n",
      "Tracking objects\n",
      "{267: (1040, 640, 'f5'), 296: (468, 788, 'Danger!'), 343: (935, 680, 'f4'), 379: (579, 600, 'Danger!'), 389: (667, 664, 'f2'), 440: (705, 532, 'Danger!'), 483: (976, 546, 'f5'), 490: (796, 632, 'Danger!'), 493: (871, 531, 'f4'), 522: (937, 502, 'f5'), 532: (647, 486, 'Danger!'), 581: (787, 534, 'Danger!'), 602: (898, 458, 'f5'), 620: (1344, 510, 'Danger!'), 627: (1530, 643, 'Danger!'), 628: (1512, 642, 'Danger!'), 629: (1708, 651, 'Danger!'), 630: (1888, 612, 'Danger!')}\n",
      "CUR FRAME LEFT PTS\n",
      "[(1530, 643, 'Danger!'), (1512, 642, 'Danger!'), (1708, 651, 'Danger!'), (1888, 612, 'Danger!')]\n"
     ]
    },
    {
     "name": "stderr",
     "output_type": "stream",
     "text": [
      "0: 384x640 21 cars, 104.3ms\n",
      "Speed: 1.1ms pre-process, 104.3ms inference, 0.0ms postprocess per image at shape (1, 3, 640, 640)\n",
      "\n",
      "0: 384x640 21 cars, 98.2ms\n",
      "Speed: 0.0ms pre-process, 98.2ms inference, 0.0ms postprocess per image at shape (1, 3, 640, 640)\n",
      "\n"
     ]
    },
    {
     "name": "stdout",
     "output_type": "stream",
     "text": [
      "Tracking objects\n",
      "{267: (1042, 644, 'f5'), 296: (464, 793, 'Danger!'), 343: (938, 683, 'f4'), 379: (579, 605, 'Danger!'), 389: (666, 667, 'f2'), 440: (704, 533, 'Danger!'), 483: (977, 545, 'f5'), 490: (796, 635, 'Danger!'), 493: (870, 532, 'f4'), 522: (938, 502, 'f5'), 532: (648, 490, 'Danger!'), 581: (786, 535, 'Danger!'), 602: (899, 458, 'f5'), 620: (1335, 507, 'Danger!'), 628: (1512, 634, 'Danger!'), 629: (1708, 649, 'Danger!'), 630: (1879, 613, 'Danger!'), 631: (1684, 642, 'Danger!'), 632: (1490, 534, 'Danger!'), 633: (1490, 633, 'Danger!')}\n",
      "CUR FRAME LEFT PTS\n",
      "[(1684, 642, 'Danger!'), (1490, 534, 'Danger!'), (1490, 633, 'Danger!')]\n",
      "Tracking objects\n",
      "{267: (1045, 646, 'f5'), 343: (944, 693, 'f4'), 379: (575, 611, 'Danger!'), 389: (665, 675, 'f2'), 440: (704, 535, 'Danger!'), 483: (978, 547, 'f5'), 490: (797, 641, 'Danger!'), 493: (871, 534, 'f4'), 522: (939, 504, 'f5'), 532: (645, 495, 'Danger!'), 581: (787, 538, 'Danger!'), 602: (901, 460, 'f5'), 630: (1895, 610, 'Danger!'), 631: (1672, 630, 'Danger!'), 633: (1493, 620, 'Danger!'), 634: (454, 811, 'Danger!'), 635: (1317, 498, 'Danger!'), 636: (1472, 618, 'Danger!'), 637: (1451, 614, 'Danger!'), 638: (1638, 623, 'Danger!'), 639: (840, 485, 'f4')}\n",
      "CUR FRAME LEFT PTS\n",
      "[(454, 811, 'Danger!'), (1317, 498, 'Danger!'), (1472, 618, 'Danger!'), (1451, 614, 'Danger!'), (1638, 623, 'Danger!'), (840, 485, 'Danger!')]\n"
     ]
    },
    {
     "name": "stderr",
     "output_type": "stream",
     "text": [
      "0: 384x640 21 cars, 101.4ms\n",
      "Speed: 0.0ms pre-process, 101.4ms inference, 0.0ms postprocess per image at shape (1, 3, 640, 640)\n",
      "\n",
      "0: 384x640 20 cars, 93.6ms\n",
      "Speed: 0.0ms pre-process, 93.6ms inference, 15.6ms postprocess per image at shape (1, 3, 640, 640)\n",
      "\n"
     ]
    },
    {
     "name": "stdout",
     "output_type": "stream",
     "text": [
      "Tracking objects\n",
      "{267: (1045, 647, 'f5'), 343: (945, 699, 'f4'), 379: (573, 612, 'Danger!'), 389: (662, 678, 'f2'), 440: (704, 537, 'Danger!'), 483: (980, 548, 'Danger!'), 490: (797, 644, 'Danger!'), 493: (872, 535, 'f4'), 522: (940, 505, 'f5'), 532: (645, 496, 'Danger!'), 581: (787, 540, 'Danger!'), 602: (901, 460, 'f5'), 630: (1888, 606, 'Danger!'), 631: (1657, 620, 'Danger!'), 634: (449, 819, 'Danger!'), 635: (1308, 496, 'Danger!'), 637: (1447, 606, 'Danger!'), 638: (1657, 620, 'Danger!'), 640: (1617, 617, 'Danger!'), 641: (1847, 598, 'Danger!'), 642: (1598, 617, 'Danger!'), 643: (1429, 605, 'Danger!')}\n",
      "CUR FRAME LEFT PTS\n",
      "[(1617, 617, 'Danger!'), (1847, 598, 'Danger!'), (1598, 617, 'Danger!'), (1429, 605, 'Danger!')]\n",
      "Tracking objects\n",
      "{267: (1049, 650, 'f5'), 343: (946, 701, 'f4'), 379: (570, 616, 'Danger!'), 389: (660, 681, 'f2'), 440: (703, 550, 'Danger!'), 483: (979, 549, 'f5'), 490: (797, 645, 'Danger!'), 493: (872, 536, 'f4'), 522: (941, 507, 'f5'), 532: (644, 497, 'Danger!'), 581: (787, 543, 'Danger!'), 630: (1871, 602, 'Danger!'), 634: (444, 826, 'Danger!'), 635: (1302, 494, 'Danger!'), 637: (1456, 604, 'Danger!'), 641: (1835, 594, 'Danger!'), 642: (1597, 609, 'Danger!'), 643: (1429, 598, 'Danger!'), 644: (685, 429, 'f2')}\n",
      "CUR FRAME LEFT PTS\n",
      "[(685, 429, 'Danger!')]\n"
     ]
    },
    {
     "name": "stderr",
     "output_type": "stream",
     "text": [
      "0: 384x640 20 cars, 117.3ms\n",
      "Speed: 1.0ms pre-process, 117.3ms inference, 2.5ms postprocess per image at shape (1, 3, 640, 640)\n",
      "\n",
      "0: 384x640 21 cars, 97.4ms\n",
      "Speed: 0.0ms pre-process, 97.4ms inference, 15.6ms postprocess per image at shape (1, 3, 640, 640)\n",
      "\n"
     ]
    },
    {
     "name": "stdout",
     "output_type": "stream",
     "text": [
      "Tracking objects\n",
      "{267: (1050, 654, 'f5'), 343: (948, 708, 'f4'), 379: (566, 619, 'Danger!'), 389: (659, 689, 'f2'), 440: (700, 540, 'f2'), 483: (980, 550, 'f5'), 490: (798, 646, 'Danger!'), 493: (873, 538, 'f4'), 522: (941, 508, 'f5'), 532: (644, 499, 'Danger!'), 581: (788, 543, 'Danger!'), 634: (439, 833, 'Danger!'), 635: (1291, 491, 'Danger!'), 637: (1444, 596, 'Danger!'), 642: (1611, 607, 'Danger!'), 643: (1444, 596, 'Danger!'), 644: (686, 428, 'f2'), 645: (1814, 589, 'Danger!'), 646: (1401, 589, 'Danger!'), 647: (1573, 600, 'Danger!')}\n",
      "CUR FRAME LEFT PTS\n",
      "[(1814, 589, 'Danger!'), (1401, 589, 'Danger!'), (1573, 600, 'Danger!')]\n",
      "Tracking objects\n",
      "{267: (1053, 658, 'f5'), 343: (953, 715, 'f4'), 379: (563, 625, 'Danger!'), 389: (656, 699, 'f2'), 440: (701, 543, 'Danger!'), 483: (983, 555, 'f5'), 490: (798, 652, 'Danger!'), 493: (876, 544, 'f4'), 522: (943, 508, 'f5'), 532: (639, 502, 'Danger!'), 581: (787, 548, 'Danger!'), 634: (430, 847, 'Danger!'), 635: (1277, 485, 'Danger!'), 645: (1810, 585, 'Danger!'), 646: (1389, 578, 'Danger!'), 648: (1377, 576, 'Danger!'), 649: (1542, 588, 'Danger!'), 650: (1778, 578, 'Danger!'), 651: (903, 462, 'f5'), 652: (721, 483, 'f3')}\n",
      "CUR FRAME LEFT PTS\n",
      "[(1377, 576, 'Danger!'), (1542, 588, 'Danger!'), (1778, 578, 'Danger!'), (903, 462, 'Danger!'), (721, 483, 'Danger!')]\n"
     ]
    },
    {
     "name": "stderr",
     "output_type": "stream",
     "text": [
      "0: 384x640 23 cars, 102.5ms\n",
      "Speed: 1.4ms pre-process, 102.5ms inference, 1.0ms postprocess per image at shape (1, 3, 640, 640)\n",
      "\n",
      "0: 384x640 23 cars, 96.0ms\n",
      "Speed: 1.0ms pre-process, 96.0ms inference, 0.0ms postprocess per image at shape (1, 3, 640, 640)\n",
      "\n"
     ]
    },
    {
     "name": "stdout",
     "output_type": "stream",
     "text": [
      "Tracking objects\n",
      "{267: (1055, 659, 'f5'), 343: (954, 721, 'f4'), 379: (562, 630, 'Danger!'), 389: (654, 703, 'f2'), 440: (698, 545, 'f2'), 483: (983, 556, 'f5'), 490: (798, 656, 'Danger!'), 493: (876, 547, 'f4'), 522: (943, 509, 'f5'), 532: (638, 503, 'Danger!'), 581: (788, 549, 'Danger!'), 634: (423, 857, 'Danger!'), 635: (1267, 482, 'Danger!'), 645: (1798, 580, 'Danger!'), 646: (1379, 573, 'Danger!'), 648: (1379, 573, 'Danger!'), 649: (1526, 582, 'Danger!'), 650: (1766, 572, 'Danger!'), 651: (903, 462, 'f5'), 652: (721, 485, 'f3'), 653: (844, 495, 'f4')}\n",
      "CUR FRAME LEFT PTS\n",
      "[(844, 495, 'Danger!')]\n",
      "Tracking objects\n",
      "{267: (1057, 662, 'f5'), 343: (957, 727, 'f4'), 379: (559, 633, 'Danger!'), 389: (653, 710, 'f2'), 440: (696, 553, 'f2'), 483: (983, 557, 'f5'), 490: (799, 657, 'Danger!'), 493: (876, 548, 'f4'), 522: (943, 511, 'f5'), 532: (638, 504, 'Danger!'), 581: (788, 550, 'Danger!'), 634: (419, 868, 'Danger!'), 635: (1262, 480, 'Danger!'), 645: (1780, 575, 'Danger!'), 646: (1377, 570, 'Danger!'), 648: (1377, 570, 'Danger!'), 649: (1509, 575, 'Danger!'), 650: (1780, 575, 'Danger!'), 651: (904, 461, 'f5'), 654: (1498, 572, 'Danger!'), 655: (1016, 407, 'Danger!'), 656: (1347, 563, 'Danger!')}\n",
      "CUR FRAME LEFT PTS\n",
      "[(1498, 572, 'Danger!'), (1016, 407, 'Danger!'), (1347, 563, 'Danger!')]\n"
     ]
    },
    {
     "name": "stderr",
     "output_type": "stream",
     "text": [
      "0: 384x640 20 cars, 119.6ms\n",
      "Speed: 0.0ms pre-process, 119.6ms inference, 4.6ms postprocess per image at shape (1, 3, 640, 640)\n",
      "\n",
      "0: 384x640 23 cars, 106.9ms\n",
      "Speed: 3.4ms pre-process, 106.9ms inference, 0.0ms postprocess per image at shape (1, 3, 640, 640)\n",
      "\n"
     ]
    },
    {
     "name": "stdout",
     "output_type": "stream",
     "text": [
      "Tracking objects\n",
      "{267: (1060, 666, 'f5'), 343: (957, 732, 'f4'), 379: (557, 637, 'Danger!'), 389: (650, 715, 'f2'), 440: (697, 555, 'f2'), 490: (798, 659, 'Danger!'), 493: (877, 550, 'f4'), 522: (943, 511, 'f5'), 532: (635, 504, 'Danger!'), 581: (787, 551, 'Danger!'), 634: (414, 876, 'Danger!'), 635: (1257, 477, 'Danger!'), 646: (1361, 563, 'Danger!'), 648: (1361, 563, 'Danger!'), 649: (1495, 569, 'Danger!'), 651: (904, 460, 'f5'), 654: (1495, 569, 'Danger!'), 655: (1011, 407, 'Danger!'), 656: (1350, 559, 'Danger!'), 657: (1734, 566, 'Danger!'), 658: (721, 484, 'f3')}\n",
      "CUR FRAME LEFT PTS\n",
      "[(1734, 566, 'Danger!'), (721, 484, 'Danger!')]\n",
      "Tracking objects\n",
      "{267: (1066, 668, 'f5'), 343: (963, 743, 'f4'), 379: (553, 644, 'Danger!'), 389: (649, 728, 'f2'), 440: (694, 558, 'f2'), 490: (796, 667, 'Danger!'), 493: (877, 551, 'f4'), 522: (945, 512, 'f5'), 532: (635, 507, 'Danger!'), 581: (787, 553, 'Danger!'), 635: (1249, 471, 'Danger!'), 649: (1488, 561, 'Danger!'), 651: (905, 461, 'f5'), 654: (1488, 561, 'Danger!'), 656: (1343, 552, 'Danger!'), 657: (1727, 560, 'Danger!'), 659: (403, 894, 'Danger!'), 660: (1472, 560, 'Danger!'), 661: (1704, 556, 'Danger!'), 662: (988, 559, 'f5'), 663: (1326, 548, 'Danger!'), 664: (845, 496, 'f4'), 665: (1446, 557, 'Danger!')}\n",
      "CUR FRAME LEFT PTS\n",
      "[(403, 894, 'Danger!'), (1472, 560, 'Danger!'), (1704, 556, 'Danger!'), (988, 559, 'Danger!'), (1326, 548, 'Danger!'), (845, 496, 'Danger!'), (1446, 557, 'Danger!')]\n"
     ]
    },
    {
     "name": "stderr",
     "output_type": "stream",
     "text": [
      "0: 384x640 21 cars, 1 bus, 132.5ms\n",
      "Speed: 0.0ms pre-process, 132.5ms inference, 0.0ms postprocess per image at shape (1, 3, 640, 640)\n",
      "\n",
      "0: 384x640 25 cars, 103.8ms\n",
      "Speed: 1.1ms pre-process, 103.8ms inference, 1.9ms postprocess per image at shape (1, 3, 640, 640)\n",
      "\n"
     ]
    },
    {
     "name": "stdout",
     "output_type": "stream",
     "text": [
      "Tracking objects\n",
      "{267: (1067, 671, 'f5'), 343: (966, 746, 'f4'), 379: (550, 649, 'Danger!'), 389: (647, 735, 'f2'), 440: (694, 560, 'f2'), 490: (798, 671, 'Danger!'), 493: (880, 551, 'f4'), 522: (946, 513, 'f5'), 532: (633, 510, 'Danger!'), 581: (789, 555, 'Danger!'), 635: (1236, 469, 'Danger!'), 649: (1471, 556, 'Danger!'), 651: (905, 462, 'f5'), 654: (1471, 556, 'Danger!'), 656: (1331, 547, 'Danger!'), 657: (1719, 559, 'Danger!'), 659: (395, 905, 'Danger!'), 660: (1471, 556, 'Danger!'), 661: (1719, 559, 'Danger!'), 662: (988, 561, 'f5'), 663: (1320, 545, 'Danger!'), 664: (846, 501, 'f4'), 666: (683, 432, 'f2'), 667: (1855, 732, 'Danger!')}\n",
      "CUR FRAME LEFT PTS\n",
      "[(683, 432, 'Danger!'), (1855, 732, 'Danger!')]\n",
      "Tracking objects\n",
      "{267: (1068, 673, 'f5'), 343: (968, 754, 'f4'), 379: (549, 651, 'Danger!'), 389: (644, 740, 'f2'), 440: (694, 561, 'f2'), 490: (797, 672, 'Danger!'), 493: (880, 554, 'f4'), 522: (946, 513, 'f5'), 532: (632, 512, 'Danger!'), 581: (789, 556, 'Danger!'), 635: (1231, 467, 'Danger!'), 649: (1458, 552, 'Danger!'), 651: (905, 462, 'f5'), 654: (1458, 552, 'Danger!'), 656: (1321, 542, 'Danger!'), 657: (1707, 556, 'Danger!'), 659: (390, 915, 'Danger!'), 660: (1458, 552, 'Danger!'), 661: (1707, 556, 'Danger!'), 662: (991, 560, 'Danger!'), 663: (1310, 539, 'Danger!'), 664: (847, 502, 'f4'), 666: (683, 433, 'f2'), 668: (1865, 576, 'Danger!'), 669: (1838, 719, 'Danger!'), 670: (718, 492, 'Danger!'), 671: (1663, 551, 'Danger!'), 672: (1420, 549, 'Danger!')}\n",
      "CUR FRAME LEFT PTS\n",
      "[(1865, 576, 'Danger!'), (1838, 719, 'Danger!'), (718, 492, 'Danger!'), (1663, 551, 'Danger!'), (1420, 549, 'Danger!')]\n"
     ]
    },
    {
     "name": "stderr",
     "output_type": "stream",
     "text": [
      "0: 384x640 23 cars, 84.7ms\n",
      "Speed: 2.1ms pre-process, 84.7ms inference, 0.0ms postprocess per image at shape (1, 3, 640, 640)\n",
      "\n",
      "0: 384x640 23 cars, 113.4ms\n",
      "Speed: 1.0ms pre-process, 113.4ms inference, 0.0ms postprocess per image at shape (1, 3, 640, 640)\n",
      "\n"
     ]
    },
    {
     "name": "stdout",
     "output_type": "stream",
     "text": [
      "Tracking objects\n",
      "{267: (1068, 675, 'f5'), 343: (970, 757, 'f4'), 379: (544, 655, 'Danger!'), 389: (643, 748, 'f2'), 440: (693, 563, 'f2'), 490: (797, 675, 'Danger!'), 493: (881, 555, 'f4'), 522: (946, 514, 'f5'), 532: (631, 514, 'Danger!'), 581: (790, 557, 'Danger!'), 649: (1446, 545, 'Danger!'), 651: (905, 462, 'f5'), 654: (1446, 545, 'Danger!'), 656: (1307, 537, 'Danger!'), 657: (1691, 550, 'Danger!'), 659: (382, 927, 'Danger!'), 660: (1446, 545, 'Danger!'), 661: (1691, 550, 'Danger!'), 663: (1307, 537, 'Danger!'), 664: (848, 503, 'f4'), 666: (682, 437, 'f2'), 668: (1858, 573, 'Danger!'), 669: (1827, 706, 'Danger!'), 670: (719, 494, 'Danger!'), 671: (1667, 546, 'Danger!'), 672: (1427, 543, 'Danger!'), 673: (1896, 576, 'Danger!')}\n",
      "CUR FRAME LEFT PTS\n",
      "[(1896, 576, 'Danger!')]\n",
      "Tracking objects\n",
      "{267: (1069, 678, 'f5'), 343: (973, 773, 'f4'), 379: (539, 663, 'Danger!'), 389: (639, 762, 'f2'), 440: (692, 569, 'f2'), 490: (799, 681, 'Danger!'), 493: (882, 561, 'f4'), 522: (947, 515, 'f5'), 532: (630, 516, 'Danger!'), 581: (790, 563, 'Danger!'), 651: (904, 462, 'f5'), 664: (850, 504, 'f4'), 666: (681, 436, 'f2'), 670: (718, 498, 'Danger!'), 671: (1667, 543, 'Danger!'), 672: (1416, 536, 'Danger!'), 674: (370, 947, 'Danger!'), 675: (1286, 528, 'Danger!'), 676: (1766, 682, 'Danger!'), 677: (993, 563, 'Danger!'), 678: (1642, 541, 'Danger!'), 679: (1212, 461, 'Danger!'), 680: (1401, 533, 'Danger!')}\n",
      "CUR FRAME LEFT PTS\n",
      "[(370, 947, 'Danger!'), (1286, 528, 'Danger!'), (1766, 682, 'Danger!'), (993, 563, 'Danger!'), (1642, 541, 'Danger!'), (1212, 461, 'Danger!'), (1401, 533, 'Danger!')]\n"
     ]
    },
    {
     "name": "stderr",
     "output_type": "stream",
     "text": [
      "0: 384x640 24 cars, 114.9ms\n",
      "Speed: 0.0ms pre-process, 114.9ms inference, 2.0ms postprocess per image at shape (1, 3, 640, 640)\n",
      "\n",
      "0: 384x640 25 cars, 99.8ms\n",
      "Speed: 13.0ms pre-process, 99.8ms inference, 0.0ms postprocess per image at shape (1, 3, 640, 640)\n",
      "\n"
     ]
    },
    {
     "name": "stdout",
     "output_type": "stream",
     "text": [
      "Tracking objects\n",
      "{267: (1072, 682, 'f5'), 343: (979, 777, 'f4'), 379: (536, 667, 'Danger!'), 389: (637, 769, 'f2'), 440: (691, 572, 'f2'), 490: (798, 683, 'Danger!'), 493: (884, 562, 'f4'), 522: (948, 516, 'f5'), 532: (629, 517, 'Danger!'), 581: (790, 562, 'Danger!'), 651: (906, 462, 'f5'), 664: (849, 506, 'f4'), 666: (682, 434, 'f2'), 670: (717, 499, 'Danger!'), 672: (1404, 531, 'Danger!'), 674: (362, 960, 'Danger!'), 675: (1279, 523, 'Danger!'), 677: (994, 564, 'Danger!'), 680: (1391, 529, 'Danger!'), 681: (1733, 669, 'Danger!'), 682: (1266, 521, 'Danger!'), 683: (1793, 556, 'Danger!'), 684: (1847, 565, 'Danger!'), 685: (1346, 459, 'Danger!')}\n",
      "CUR FRAME LEFT PTS\n",
      "[(1733, 669, 'Danger!'), (1266, 521, 'Danger!'), (1793, 556, 'Danger!'), (1847, 565, 'Danger!'), (1346, 459, 'Danger!')]\n",
      "Tracking objects\n",
      "{267: (1075, 684, 'f5'), 343: (982, 784, 'f4'), 379: (532, 672, 'Danger!'), 389: (636, 777, 'f2'), 440: (693, 573, 'Danger!'), 490: (798, 685, 'Danger!'), 493: (883, 563, 'f4'), 522: (949, 517, 'f5'), 532: (628, 522, 'Danger!'), 581: (790, 563, 'Danger!'), 651: (906, 462, 'f5'), 664: (849, 506, 'f4'), 666: (683, 435, 'f2'), 670: (717, 497, 'Danger!'), 672: (1391, 527, 'Danger!'), 674: (356, 971, 'Danger!'), 675: (1264, 519, 'Danger!'), 677: (996, 565, 'Danger!'), 680: (1391, 527, 'Danger!'), 682: (1264, 519, 'Danger!'), 683: (1785, 552, 'Danger!'), 686: (1710, 660, 'Danger!'), 687: (1636, 537, 'Danger!'), 688: (1827, 556, 'Danger!'), 689: (1612, 530, 'Danger!'), 690: (1623, 535, 'Danger!')}\n",
      "CUR FRAME LEFT PTS\n",
      "[(1710, 660, 'Danger!'), (1636, 537, 'Danger!'), (1827, 556, 'Danger!'), (1612, 530, 'Danger!'), (1623, 535, 'Danger!')]\n"
     ]
    },
    {
     "name": "stderr",
     "output_type": "stream",
     "text": [
      "0: 384x640 26 cars, 110.7ms\n",
      "Speed: 1.1ms pre-process, 110.7ms inference, 0.0ms postprocess per image at shape (1, 3, 640, 640)\n",
      "\n",
      "0: 384x640 23 cars, 81.8ms\n",
      "Speed: 1.5ms pre-process, 81.8ms inference, 14.6ms postprocess per image at shape (1, 3, 640, 640)\n",
      "\n"
     ]
    },
    {
     "name": "stdout",
     "output_type": "stream",
     "text": [
      "Tracking objects\n",
      "{267: (1077, 687, 'f5'), 343: (985, 792, 'f4'), 379: (531, 676, 'Danger!'), 389: (633, 784, 'f2'), 440: (691, 575, 'f2'), 490: (799, 686, 'Danger!'), 493: (885, 565, 'f4'), 522: (950, 516, 'f5'), 532: (625, 524, 'Danger!'), 581: (790, 567, 'Danger!'), 651: (906, 462, 'f5'), 664: (851, 508, 'f4'), 666: (681, 439, 'f2'), 670: (718, 500, 'Danger!'), 674: (346, 981, 'Danger!'), 675: (1257, 514, 'Danger!'), 677: (995, 566, 'Danger!'), 682: (1257, 514, 'Danger!'), 683: (1773, 551, 'Danger!'), 687: (1629, 534, 'Danger!'), 688: (1808, 553, 'Danger!'), 689: (1607, 530, 'Danger!'), 690: (1607, 530, 'Danger!'), 691: (1369, 523, 'Danger!'), 692: (1689, 650, 'Danger!'), 693: (1580, 528, 'Danger!'), 694: (727, 453, 'f3'), 695: (1194, 455, 'Danger!')}\n",
      "CUR FRAME LEFT PTS\n",
      "[(1369, 523, 'Danger!'), (1689, 650, 'Danger!'), (1580, 528, 'Danger!'), (727, 453, 'Danger!'), (1194, 455, 'Danger!')]\n",
      "Tracking objects\n",
      "{267: (1081, 692, 'f5'), 343: (989, 804, 'f4'), 379: (527, 685, 'Danger!'), 389: (626, 801, 'f2'), 440: (690, 578, 'f2'), 490: (799, 693, 'Danger!'), 493: (888, 569, 'f4'), 522: (950, 520, 'f5'), 532: (624, 526, 'Danger!'), 581: (791, 569, 'Danger!'), 651: (907, 463, 'f5'), 664: (851, 509, 'f4'), 666: (678, 441, 'f2'), 670: (717, 505, 'Danger!'), 677: (999, 574, 'f5'), 683: (1782, 546, 'Danger!'), 689: (1606, 527, 'Danger!'), 690: (1606, 527, 'Danger!'), 691: (1355, 515, 'Danger!'), 693: (1586, 525, 'Danger!'), 696: (331, 995, 'Danger!'), 697: (1673, 636, 'Danger!'), 698: (1233, 504, 'Danger!'), 699: (1629, 631, 'Danger!')}\n",
      "CUR FRAME LEFT PTS\n",
      "[(331, 995, 'Danger!'), (1673, 636, 'Danger!'), (1233, 504, 'Danger!'), (1629, 631, 'Danger!')]\n"
     ]
    },
    {
     "name": "stderr",
     "output_type": "stream",
     "text": [
      "0: 384x640 23 cars, 99.7ms\n",
      "Speed: 0.0ms pre-process, 99.7ms inference, 0.0ms postprocess per image at shape (1, 3, 640, 640)\n",
      "\n",
      "0: 384x640 24 cars, 109.9ms\n",
      "Speed: 0.0ms pre-process, 109.9ms inference, 0.0ms postprocess per image at shape (1, 3, 640, 640)\n",
      "\n"
     ]
    },
    {
     "name": "stdout",
     "output_type": "stream",
     "text": [
      "Tracking objects\n",
      "{267: (1083, 695, 'f5'), 343: (993, 812, 'f4'), 379: (523, 690, 'Danger!'), 389: (626, 810, 'f2'), 440: (689, 582, 'f2'), 490: (799, 697, 'Danger!'), 493: (887, 571, 'f4'), 522: (953, 521, 'f5'), 532: (623, 527, 'Danger!'), 581: (790, 571, 'Danger!'), 651: (907, 463, 'f5'), 664: (851, 509, 'f4'), 666: (680, 440, 'f2'), 670: (716, 507, 'Danger!'), 677: (1000, 574, 'f5'), 689: (1596, 522, 'Danger!'), 690: (1596, 522, 'Danger!'), 691: (1343, 510, 'Danger!'), 693: (1596, 522, 'Danger!'), 696: (323, 1001, 'Danger!'), 698: (1230, 502, 'Danger!'), 699: (1620, 623, 'Danger!'), 700: (1650, 626, 'Danger!')}\n",
      "CUR FRAME LEFT PTS\n",
      "[(1650, 626, 'Danger!')]\n",
      "Tracking objects\n",
      "{267: (1085, 696, 'f5'), 343: (997, 820, 'f4'), 379: (521, 694, 'Danger!'), 389: (623, 819, 'f2'), 440: (688, 585, 'f2'), 490: (799, 699, 'Danger!'), 493: (887, 573, 'f4'), 522: (954, 522, 'f5'), 532: (621, 528, 'Danger!'), 581: (790, 573, 'Danger!'), 651: (907, 464, 'f5'), 664: (850, 509, 'f4'), 666: (681, 440, 'f2'), 670: (716, 508, 'Danger!'), 677: (1000, 575, 'f5'), 689: (1587, 519, 'Danger!'), 690: (1587, 519, 'Danger!'), 691: (1343, 508, 'Danger!'), 693: (1587, 519, 'Danger!'), 696: (309, 1007, 'Danger!'), 698: (1218, 499, 'Danger!'), 701: (1598, 615, 'Danger!'), 702: (1566, 517, 'Danger!'), 703: (1582, 612, 'Danger!'), 704: (1728, 538, 'Danger!')}\n",
      "CUR FRAME LEFT PTS\n",
      "[(1598, 615, 'Danger!'), (1566, 517, 'Danger!'), (1582, 612, 'Danger!'), (1728, 538, 'Danger!')]\n"
     ]
    },
    {
     "name": "stderr",
     "output_type": "stream",
     "text": [
      "0: 384x640 26 cars, 114.7ms\n",
      "Speed: 0.0ms pre-process, 114.7ms inference, 0.0ms postprocess per image at shape (1, 3, 640, 640)\n",
      "\n",
      "0: 384x640 22 cars, 117.5ms\n",
      "Speed: 0.0ms pre-process, 117.5ms inference, 0.0ms postprocess per image at shape (1, 3, 640, 640)\n",
      "\n"
     ]
    },
    {
     "name": "stdout",
     "output_type": "stream",
     "text": [
      "Tracking objects\n",
      "{267: (1088, 702, 'f5'), 343: (1000, 829, 'f4'), 379: (518, 699, 'Danger!'), 389: (620, 827, 'f2'), 440: (685, 586, 'f2'), 490: (800, 702, 'Danger!'), 493: (889, 574, 'f4'), 522: (954, 522, 'f5'), 532: (621, 529, 'Danger!'), 581: (789, 574, 'Danger!'), 651: (911, 466, 'f5'), 664: (852, 510, 'f4'), 666: (681, 440, 'f2'), 670: (717, 506, 'Danger!'), 677: (1001, 574, 'Danger!'), 689: (1574, 517, 'Danger!'), 690: (1574, 517, 'Danger!'), 691: (1334, 505, 'Danger!'), 693: (1574, 517, 'Danger!'), 696: (297, 1013, 'f1'), 698: (1213, 495, 'Danger!'), 701: (1585, 609, 'Danger!'), 702: (1554, 514, 'Danger!'), 703: (1585, 609, 'Danger!'), 704: (1711, 533, 'Danger!'), 705: (1559, 606, 'Danger!'), 706: (1551, 603, 'Danger!')}\n",
      "CUR FRAME LEFT PTS\n",
      "[(1559, 606, 'Danger!'), (1551, 603, 'Danger!')]\n",
      "Tracking objects\n",
      "{267: (1095, 707, 'f5'), 343: (1007, 845, 'f4'), 379: (513, 708, 'Danger!'), 440: (684, 594, 'f2'), 490: (802, 711, 'Danger!'), 493: (892, 580, 'f4'), 522: (955, 526, 'f5'), 532: (619, 534, 'Danger!'), 581: (790, 576, 'Danger!'), 651: (911, 465, 'f5'), 664: (853, 513, 'f4'), 666: (674, 447, 'f2'), 670: (715, 509, 'Danger!'), 677: (1004, 578, 'Danger!'), 691: (1319, 497, 'Danger!'), 696: (294, 1026, 'Danger!'), 698: (1196, 488, 'Danger!'), 702: (1539, 508, 'Danger!'), 705: (1568, 596, 'Danger!'), 706: (1568, 596, 'Danger!'), 707: (617, 848, 'f2'), 708: (1688, 527, 'Danger!')}\n",
      "CUR FRAME LEFT PTS\n",
      "[(617, 848, 'Danger!'), (1688, 527, 'Danger!')]\n"
     ]
    },
    {
     "name": "stderr",
     "output_type": "stream",
     "text": [
      "0: 384x640 23 cars, 122.0ms\n",
      "Speed: 0.0ms pre-process, 122.0ms inference, 0.0ms postprocess per image at shape (1, 3, 640, 640)\n",
      "\n",
      "0: 384x640 26 cars, 110.3ms\n",
      "Speed: 0.0ms pre-process, 110.3ms inference, 0.0ms postprocess per image at shape (1, 3, 640, 640)\n",
      "\n"
     ]
    },
    {
     "name": "stdout",
     "output_type": "stream",
     "text": [
      "Tracking objects\n",
      "{267: (1095, 708, 'f5'), 343: (1011, 853, 'f4'), 379: (506, 714, 'Danger!'), 440: (683, 596, 'f2'), 490: (802, 713, 'Danger!'), 493: (893, 581, 'f4'), 522: (955, 526, 'f5'), 532: (617, 538, 'Danger!'), 581: (790, 579, 'Danger!'), 651: (911, 466, 'f5'), 664: (855, 514, 'f4'), 666: (674, 446, 'f2'), 670: (714, 509, 'Danger!'), 691: (1304, 493, 'Danger!'), 696: (287, 1033, 'Danger!'), 698: (1187, 483, 'Danger!'), 702: (1527, 505, 'Danger!'), 705: (1550, 589, 'Danger!'), 706: (1550, 589, 'Danger!'), 707: (613, 858, 'f2'), 708: (1674, 523, 'Danger!'), 709: (1525, 588, 'Danger!')}\n",
      "CUR FRAME LEFT PTS\n",
      "[(1525, 588, 'Danger!')]\n",
      "Tracking objects\n",
      "{267: (1098, 712, 'f5'), 343: (1013, 862, 'f4'), 379: (503, 720, 'Danger!'), 440: (682, 598, 'f2'), 490: (803, 717, 'Danger!'), 493: (893, 582, 'f4'), 522: (956, 528, 'f5'), 532: (616, 538, 'Danger!'), 581: (791, 582, 'Danger!'), 651: (911, 466, 'f5'), 664: (856, 516, 'f4'), 666: (673, 447, 'f2'), 670: (714, 512, 'Danger!'), 691: (1301, 493, 'Danger!'), 696: (282, 1039, 'Danger!'), 698: (1184, 481, 'Danger!'), 702: (1533, 505, 'Danger!'), 705: (1533, 582, 'Danger!'), 706: (1533, 582, 'Danger!'), 707: (609, 870, 'f2'), 708: (1688, 523, 'Danger!'), 709: (1533, 582, 'Danger!'), 710: (1499, 578, 'Danger!'), 711: (1006, 579, 'Danger!'), 712: (1897, 742, 'Danger!'), 713: (726, 456, 'f3')}\n",
      "CUR FRAME LEFT PTS\n",
      "[(1499, 578, 'Danger!'), (1006, 579, 'Danger!'), (1897, 742, 'Danger!'), (726, 456, 'Danger!')]\n"
     ]
    },
    {
     "name": "stderr",
     "output_type": "stream",
     "text": [
      "0: 384x640 23 cars, 1 truck, 95.4ms\n",
      "Speed: 1.0ms pre-process, 95.4ms inference, 0.0ms postprocess per image at shape (1, 3, 640, 640)\n",
      "\n",
      "0: 384x640 25 cars, 98.5ms\n",
      "Speed: 0.0ms pre-process, 98.5ms inference, 15.7ms postprocess per image at shape (1, 3, 640, 640)\n",
      "\n"
     ]
    },
    {
     "name": "stdout",
     "output_type": "stream",
     "text": [
      "Tracking objects\n",
      "{267: (1102, 717, 'f5'), 343: (1017, 869, 'f4'), 379: (501, 724, 'Danger!'), 440: (679, 602, 'f2'), 490: (802, 721, 'Danger!'), 493: (894, 585, 'f4'), 522: (959, 529, 'f5'), 532: (614, 541, 'Danger!'), 581: (790, 583, 'Danger!'), 651: (911, 467, 'f5'), 664: (856, 518, 'f4'), 666: (672, 449, 'f2'), 670: (712, 514, 'Danger!'), 696: (279, 1046, 'Danger!'), 698: (1179, 480, 'Danger!'), 705: (1514, 576, 'Danger!'), 706: (1514, 576, 'Danger!'), 707: (606, 880, 'f2'), 709: (1514, 576, 'Danger!'), 710: (1492, 572, 'Danger!'), 711: (1009, 580, 'Danger!'), 713: (726, 456, 'f3'), 714: (1507, 503, 'Danger!'), 715: (1650, 517, 'Danger!'), 716: (1475, 572, 'Danger!'), 717: (1650, 517, 'Danger!')}\n",
      "CUR FRAME LEFT PTS\n",
      "[(1507, 503, 'Danger!'), (1650, 517, 'Danger!'), (1475, 572, 'Danger!'), (1650, 517, 'Danger!')]\n",
      "Tracking objects\n",
      "{267: (1106, 721, 'f5'), 379: (495, 736, 'Danger!'), 440: (679, 611, 'f2'), 490: (803, 726, 'Danger!'), 493: (896, 589, 'f4'), 522: (958, 528, 'f5'), 532: (611, 545, 'Danger!'), 581: (791, 588, 'Danger!'), 651: (913, 468, 'f5'), 664: (857, 521, 'f4'), 666: (672, 452, 'f2'), 670: (711, 518, 'Danger!'), 698: (1163, 474, 'Danger!'), 710: (1489, 564, 'Danger!'), 711: (1010, 584, 'Danger!'), 714: (1494, 496, 'Danger!'), 716: (1465, 564, 'Danger!'), 718: (1026, 889, 'f4'), 719: (601, 906, 'f2'), 720: (1860, 597, 'Danger!'), 721: (1847, 718, 'Danger!'), 722: (1271, 483, 'Danger!'), 723: (1630, 514, 'Danger!'), 724: (1897, 606, 'Danger!')}\n",
      "CUR FRAME LEFT PTS\n",
      "[(1026, 889, 'Danger!'), (601, 906, 'Danger!'), (1860, 597, 'Danger!'), (1847, 718, 'Danger!'), (1271, 483, 'Danger!'), (1630, 514, 'Danger!'), (1897, 606, 'Danger!')]\n"
     ]
    },
    {
     "name": "stderr",
     "output_type": "stream",
     "text": [
      "0: 384x640 24 cars, 90.5ms\n",
      "Speed: 0.0ms pre-process, 90.5ms inference, 2.0ms postprocess per image at shape (1, 3, 640, 640)\n",
      "\n",
      "0: 384x640 28 cars, 109.4ms\n",
      "Speed: 1.0ms pre-process, 109.4ms inference, 0.0ms postprocess per image at shape (1, 3, 640, 640)\n",
      "\n"
     ]
    },
    {
     "name": "stdout",
     "output_type": "stream",
     "text": [
      "Tracking objects\n",
      "{267: (1110, 728, 'f5'), 379: (490, 741, 'Danger!'), 440: (676, 616, 'f2'), 490: (804, 730, 'Danger!'), 493: (899, 592, 'f4'), 522: (959, 528, 'f5'), 532: (609, 548, 'Danger!'), 581: (791, 592, 'Danger!'), 651: (913, 469, 'f5'), 664: (858, 521, 'f4'), 666: (671, 452, 'f2'), 670: (710, 519, 'Danger!'), 698: (1159, 471, 'Danger!'), 711: (1012, 585, 'Danger!'), 714: (1488, 495, 'Danger!'), 716: (1468, 558, 'Danger!'), 718: (1028, 898, 'f4'), 719: (596, 917, 'f2'), 720: (1845, 593, 'Danger!'), 721: (1833, 705, 'Danger!'), 722: (1262, 480, 'Danger!'), 723: (1619, 510, 'Danger!'), 725: (726, 461, 'f3')}\n",
      "CUR FRAME LEFT PTS\n",
      "[(726, 461, 'Danger!')]\n",
      "Tracking objects\n",
      "{267: (1113, 730, 'f5'), 379: (486, 748, 'Danger!'), 440: (676, 617, 'f2'), 490: (804, 733, 'Danger!'), 493: (898, 593, 'f4'), 522: (960, 528, 'f5'), 532: (607, 551, 'Danger!'), 581: (792, 593, 'Danger!'), 651: (914, 469, 'f5'), 664: (858, 523, 'f4'), 666: (670, 455, 'f2'), 670: (710, 521, 'Danger!'), 698: (1156, 469, 'Danger!'), 711: (1013, 587, 'Danger!'), 714: (1485, 492, 'Danger!'), 716: (1457, 553, 'Danger!'), 718: (1034, 909, 'f4'), 719: (590, 935, 'f2'), 720: (1831, 587, 'Danger!'), 721: (1846, 694, 'Danger!'), 722: (1261, 478, 'Danger!'), 723: (1618, 507, 'Danger!'), 725: (727, 461, 'f3'), 726: (1812, 693, 'Danger!'), 727: (610, 879, 'f2'), 728: (1412, 551, 'Danger!'), 729: (783, 460, 'f4')}\n",
      "CUR FRAME LEFT PTS\n",
      "[(1812, 693, 'Danger!'), (610, 879, 'Danger!'), (1412, 551, 'Danger!'), (783, 460, 'Danger!')]\n"
     ]
    },
    {
     "name": "stderr",
     "output_type": "stream",
     "text": [
      "0: 384x640 26 cars, 114.6ms\n",
      "Speed: 0.0ms pre-process, 114.6ms inference, 0.0ms postprocess per image at shape (1, 3, 640, 640)\n",
      "\n",
      "0: 384x640 25 cars, 99.3ms\n",
      "Speed: 0.0ms pre-process, 99.3ms inference, 0.0ms postprocess per image at shape (1, 3, 640, 640)\n",
      "\n"
     ]
    },
    {
     "name": "stdout",
     "output_type": "stream",
     "text": [
      "Tracking objects\n",
      "{267: (1113, 733, 'f5'), 379: (482, 755, 'Danger!'), 440: (676, 620, 'f2'), 490: (805, 737, 'Danger!'), 493: (898, 595, 'f4'), 522: (961, 530, 'f5'), 532: (605, 552, 'Danger!'), 581: (791, 595, 'Danger!'), 651: (914, 469, 'f5'), 664: (858, 525, 'f4'), 666: (671, 454, 'f2'), 670: (709, 520, 'Danger!'), 711: (1012, 589, 'f5'), 716: (1445, 549, 'Danger!'), 718: (1039, 921, 'f4'), 719: (586, 944, 'f2'), 720: (1843, 584, 'Danger!'), 722: (1246, 476, 'Danger!'), 723: (1614, 505, 'Danger!'), 728: (1426, 546, 'Danger!'), 730: (1781, 683, 'Danger!'), 731: (1592, 505, 'Danger!'), 732: (1899, 695, 'Danger!'), 733: (1851, 592, 'Danger!')}\n",
      "CUR FRAME LEFT PTS\n",
      "[(1781, 683, 'Danger!'), (1592, 505, 'Danger!'), (1899, 695, 'Danger!'), (1851, 592, 'Danger!')]\n",
      "Tracking objects\n",
      "{267: (1120, 738, 'f5'), 379: (476, 767, 'Danger!'), 440: (675, 625, 'f2'), 490: (805, 746, 'Danger!'), 493: (899, 601, 'f4'), 522: (962, 530, 'f5'), 532: (602, 557, 'Danger!'), 581: (791, 599, 'Danger!'), 651: (917, 471, 'f5'), 664: (859, 527, 'f4'), 666: (670, 455, 'f2'), 670: (708, 520, 'Danger!'), 711: (1015, 594, 'f5'), 722: (1233, 469, 'Danger!'), 728: (1411, 539, 'Danger!'), 731: (1576, 498, 'Danger!'), 734: (1725, 658, 'Danger!'), 735: (581, 972, 'f2'), 736: (1051, 943, 'f4'), 737: (1774, 572, 'Danger!'), 738: (1453, 486, 'Danger!'), 739: (1138, 463, 'Danger!'), 740: (1399, 539, 'Danger!'), 741: (1814, 580, 'Danger!')}\n",
      "CUR FRAME LEFT PTS\n",
      "[(1725, 658, 'Danger!'), (581, 972, 'Danger!'), (1051, 943, 'Danger!'), (1774, 572, 'Danger!'), (1453, 486, 'Danger!'), (1138, 463, 'Danger!'), (1399, 539, 'Danger!'), (1814, 580, 'Danger!')]\n"
     ]
    },
    {
     "name": "stderr",
     "output_type": "stream",
     "text": [
      "0: 384x640 26 cars, 100.8ms\n",
      "Speed: 0.0ms pre-process, 100.8ms inference, 0.0ms postprocess per image at shape (1, 3, 640, 640)\n",
      "\n",
      "0: 384x640 24 cars, 111.2ms\n",
      "Speed: 0.0ms pre-process, 111.2ms inference, 15.6ms postprocess per image at shape (1, 3, 640, 640)\n",
      "\n"
     ]
    },
    {
     "name": "stdout",
     "output_type": "stream",
     "text": [
      "Tracking objects\n",
      "{267: (1123, 744, 'f5'), 379: (470, 772, 'Danger!'), 440: (673, 631, 'f2'), 490: (804, 749, 'Danger!'), 493: (901, 604, 'f4'), 522: (963, 531, 'f5'), 532: (603, 557, 'Danger!'), 581: (792, 601, 'Danger!'), 651: (918, 472, 'f5'), 664: (861, 529, 'f4'), 666: (669, 456, 'f2'), 670: (708, 526, 'Danger!'), 711: (1017, 594, 'Danger!'), 722: (1233, 468, 'Danger!'), 728: (1398, 533, 'Danger!'), 731: (1569, 494, 'Danger!'), 735: (576, 980, 'f2'), 736: (1055, 955, 'f4'), 737: (1761, 568, 'Danger!'), 738: (1446, 483, 'Danger!'), 739: (1134, 460, 'Danger!'), 740: (1386, 532, 'Danger!'), 741: (1803, 577, 'Danger!'), 742: (1853, 672, 'Danger!'), 743: (1698, 649, 'Danger!')}\n",
      "CUR FRAME LEFT PTS\n",
      "[(1853, 672, 'Danger!'), (1698, 649, 'Danger!')]\n",
      "Tracking objects\n",
      "{267: (1126, 748, 'f5'), 379: (466, 777, 'Danger!'), 440: (673, 635, 'f2'), 490: (804, 753, 'Danger!'), 493: (902, 604, 'f4'), 522: (964, 532, 'f5'), 532: (601, 561, 'Danger!'), 581: (792, 604, 'Danger!'), 651: (919, 473, 'f5'), 664: (861, 531, 'f4'), 666: (671, 452, 'f2'), 670: (707, 524, 'Danger!'), 722: (1228, 468, 'Danger!'), 728: (1388, 528, 'Danger!'), 731: (1564, 494, 'Danger!'), 735: (576, 986, 'f2'), 736: (1059, 969, 'f4'), 738: (1439, 481, 'Danger!'), 739: (1133, 458, 'Danger!'), 740: (1376, 527, 'Danger!'), 744: (1674, 641, 'Danger!'), 745: (1833, 662, 'Danger!'), 746: (1783, 570, 'Danger!')}\n",
      "CUR FRAME LEFT PTS\n",
      "[(1674, 641, 'Danger!'), (1833, 662, 'Danger!'), (1783, 570, 'Danger!')]\n"
     ]
    },
    {
     "name": "stderr",
     "output_type": "stream",
     "text": [
      "0: 384x640 28 cars, 119.6ms\n",
      "Speed: 1.2ms pre-process, 119.6ms inference, 0.0ms postprocess per image at shape (1, 3, 640, 640)\n",
      "\n",
      "0: 384x640 27 cars, 1 bus, 1 truck, 98.3ms\n",
      "Speed: 0.0ms pre-process, 98.3ms inference, 0.0ms postprocess per image at shape (1, 3, 640, 640)\n",
      "\n"
     ]
    },
    {
     "name": "stdout",
     "output_type": "stream",
     "text": [
      "Tracking objects\n",
      "{267: (1130, 750, 'f5'), 379: (461, 785, 'Danger!'), 440: (671, 637, 'f2'), 490: (804, 756, 'Danger!'), 493: (903, 606, 'f4'), 522: (964, 533, 'f5'), 532: (598, 563, 'Danger!'), 581: (792, 604, 'Danger!'), 651: (920, 473, 'Danger!'), 664: (861, 532, 'f4'), 666: (668, 456, 'f2'), 670: (707, 528, 'Danger!'), 722: (1214, 465, 'Danger!'), 728: (1379, 526, 'Danger!'), 731: (1562, 493, 'Danger!'), 735: (573, 974, 'f2'), 736: (1067, 974, 'f4'), 738: (1434, 481, 'Danger!'), 739: (1127, 457, 'Danger!'), 740: (1379, 526, 'Danger!'), 744: (1683, 633, 'Danger!'), 745: (1819, 652, 'Danger!'), 746: (1767, 565, 'Danger!'), 747: (1642, 630, 'Danger!'), 748: (1736, 560, 'Danger!'), 749: (1019, 595, 'Danger!'), 750: (1804, 649, 'Danger!'), 751: (1724, 558, 'Danger!')}\n",
      "CUR FRAME LEFT PTS\n",
      "[(1642, 630, 'Danger!'), (1736, 560, 'Danger!'), (1019, 595, 'Danger!'), (1804, 649, 'Danger!'), (1724, 558, 'Danger!')]\n",
      "Tracking objects\n",
      "{267: (1138, 760, 'f5'), 379: (455, 799, 'Danger!'), 440: (668, 648, 'f2'), 490: (804, 764, 'Danger!'), 493: (907, 612, 'f4'), 522: (967, 537, 'f5'), 532: (595, 569, 'Danger!'), 581: (792, 609, 'Danger!'), 651: (919, 474, 'f5'), 664: (863, 533, 'f4'), 666: (668, 458, 'f2'), 670: (706, 528, 'Danger!'), 722: (1207, 461, 'Danger!'), 736: (1075, 984, 'f4'), 738: (1428, 476, 'Danger!'), 747: (1633, 616, 'Danger!'), 748: (1738, 558, 'Danger!'), 749: (1023, 596, 'Danger!'), 751: (1738, 558, 'Danger!'), 752: (565, 1005, 'f2'), 753: (1608, 613, 'Danger!'), 754: (1532, 486, 'Danger!'), 755: (1585, 613, 'Danger!'), 756: (1358, 518, 'Danger!'), 757: (1753, 634, 'Danger!'), 758: (723, 471, 'f3'), 759: (1348, 517, 'Danger!'), 760: (785, 468, 'f4')}\n",
      "CUR FRAME LEFT PTS\n",
      "[(565, 1005, 'Danger!'), (1608, 613, 'Danger!'), (1532, 486, 'Danger!'), (1585, 613, 'Danger!'), (1358, 518, 'Danger!'), (1753, 634, 'Danger!'), (723, 471, 'Danger!'), (1348, 517, 'Danger!'), (785, 468, 'Danger!')]\n"
     ]
    },
    {
     "name": "stderr",
     "output_type": "stream",
     "text": [
      "0: 384x640 30 cars, 1 truck, 115.3ms\n",
      "Speed: 0.0ms pre-process, 115.3ms inference, 1.0ms postprocess per image at shape (1, 3, 640, 640)\n",
      "\n",
      "0: 384x640 28 cars, 99.6ms\n",
      "Speed: 1.0ms pre-process, 99.6ms inference, 0.0ms postprocess per image at shape (1, 3, 640, 640)\n",
      "\n"
     ]
    },
    {
     "name": "stdout",
     "output_type": "stream",
     "text": [
      "Tracking objects\n",
      "{267: (1142, 763, 'f5'), 379: (446, 806, 'Danger!'), 440: (667, 653, 'f2'), 490: (804, 770, 'Danger!'), 493: (907, 614, 'f4'), 522: (966, 537, 'f5'), 532: (594, 571, 'Danger!'), 581: (793, 612, 'Danger!'), 651: (919, 475, 'f5'), 664: (863, 535, 'f4'), 666: (665, 457, 'f2'), 670: (706, 530, 'Danger!'), 722: (1202, 461, 'Danger!'), 736: (1078, 989, 'f4'), 738: (1422, 474, 'Danger!'), 747: (1617, 609, 'Danger!'), 749: (1024, 596, 'Danger!'), 752: (559, 1013, 'f2'), 753: (1617, 609, 'Danger!'), 754: (1525, 484, 'Danger!'), 755: (1603, 607, 'Danger!'), 756: (1349, 513, 'Danger!'), 758: (722, 471, 'f3'), 759: (1335, 512, 'Danger!'), 760: (785, 470, 'f4'), 761: (1685, 550, 'Danger!'), 762: (1110, 450, 'Danger!'), 763: (1714, 624, 'Danger!'), 764: (1776, 633, 'Danger!'), 765: (1729, 624, 'Danger!')}\n",
      "CUR FRAME LEFT PTS\n",
      "[(1685, 550, 'Danger!'), (1110, 450, 'Danger!'), (1714, 624, 'Danger!'), (1776, 633, 'Danger!'), (1729, 624, 'Danger!')]\n",
      "Tracking objects\n",
      "{267: (1143, 768, 'f5'), 379: (441, 815, 'Danger!'), 440: (666, 656, 'f2'), 490: (805, 773, 'Danger!'), 493: (907, 617, 'f4'), 522: (967, 538, 'f5'), 532: (593, 574, 'Danger!'), 581: (793, 616, 'Danger!'), 651: (919, 474, 'f5'), 664: (863, 536, 'f4'), 666: (664, 459, 'f2'), 670: (705, 531, 'Danger!'), 722: (1199, 456, 'Danger!'), 736: (1079, 994, 'f4'), 738: (1404, 473, 'Danger!'), 747: (1598, 603, 'Danger!'), 752: (559, 1020, 'f2'), 753: (1598, 603, 'Danger!'), 754: (1521, 484, 'Danger!'), 755: (1598, 603, 'Danger!'), 756: (1331, 510, 'Danger!'), 758: (722, 471, 'f3'), 759: (1331, 510, 'Danger!'), 760: (784, 463, 'f4'), 762: (1106, 447, 'Danger!'), 763: (1706, 616, 'Danger!'), 766: (1571, 601, 'Danger!'), 767: (1555, 598, 'Danger!'), 768: (1693, 615, 'Danger!'), 769: (1662, 546, 'Danger!')}\n",
      "CUR FRAME LEFT PTS\n",
      "[(1571, 601, 'Danger!'), (1555, 598, 'Danger!'), (1693, 615, 'Danger!'), (1662, 546, 'Danger!')]\n"
     ]
    },
    {
     "name": "stderr",
     "output_type": "stream",
     "text": [
      "0: 384x640 24 cars, 120.1ms\n",
      "Speed: 0.0ms pre-process, 120.1ms inference, 0.0ms postprocess per image at shape (1, 3, 640, 640)\n",
      "\n",
      "0: 384x640 21 cars, 131.6ms\n",
      "Speed: 0.0ms pre-process, 131.6ms inference, 0.0ms postprocess per image at shape (1, 3, 640, 640)\n",
      "\n"
     ]
    },
    {
     "name": "stdout",
     "output_type": "stream",
     "text": [
      "Tracking objects\n",
      "{267: (1145, 772, 'f5'), 379: (439, 821, 'Danger!'), 440: (666, 659, 'f2'), 490: (806, 776, 'Danger!'), 493: (908, 620, 'f4'), 522: (969, 539, 'f5'), 532: (591, 577, 'Danger!'), 581: (794, 617, 'Danger!'), 651: (919, 476, 'f5'), 664: (865, 538, 'f4'), 666: (664, 461, 'f2'), 670: (704, 532, 'Danger!'), 722: (1192, 455, 'Danger!'), 736: (1086, 1000, 'f4'), 738: (1400, 470, 'Danger!'), 752: (558, 1030, 'f2'), 754: (1514, 483, 'Danger!'), 756: (1316, 505, 'Danger!'), 758: (722, 471, 'f3'), 759: (1316, 505, 'Danger!'), 760: (786, 472, 'f4'), 763: (1723, 613, 'Danger!'), 766: (1568, 592, 'Danger!'), 767: (1568, 592, 'Danger!')}\n",
      "CUR FRAME LEFT PTS\n",
      "[]\n",
      "Tracking objects\n",
      "{267: (1156, 782, 'f5'), 379: (428, 837, 'Danger!'), 440: (660, 670, 'f2'), 490: (807, 786, 'Danger!'), 493: (911, 625, 'f4'), 522: (969, 541, 'f5'), 532: (587, 582, 'Danger!'), 581: (793, 623, 'Danger!'), 651: (921, 477, 'f5'), 664: (867, 541, 'f4'), 666: (663, 462, 'f2'), 670: (702, 536, 'f2'), 722: (1183, 451, 'Danger!'), 736: (1098, 1014, 'f4'), 752: (551, 1045, 'f2'), 756: (1307, 501, 'Danger!'), 758: (721, 473, 'f3'), 759: (1307, 501, 'Danger!'), 760: (787, 477, 'f4'), 770: (1493, 478, 'Danger!'), 771: (1519, 579, 'Danger!'), 772: (1634, 594, 'Danger!')}\n",
      "CUR FRAME LEFT PTS\n",
      "[(1493, 478, 'Danger!'), (1519, 579, 'Danger!'), (1634, 594, 'Danger!')]\n"
     ]
    },
    {
     "name": "stderr",
     "output_type": "stream",
     "text": [
      "0: 384x640 24 cars, 103.5ms\n",
      "Speed: 15.7ms pre-process, 103.5ms inference, 0.0ms postprocess per image at shape (1, 3, 640, 640)\n",
      "\n",
      "0: 384x640 23 cars, 1 truck, 133.6ms\n",
      "Speed: 0.0ms pre-process, 133.6ms inference, 0.0ms postprocess per image at shape (1, 3, 640, 640)\n",
      "\n"
     ]
    },
    {
     "name": "stdout",
     "output_type": "stream",
     "text": [
      "Tracking objects\n",
      "{267: (1158, 787, 'f5'), 379: (425, 845, 'Danger!'), 440: (659, 677, 'f2'), 490: (807, 790, 'Danger!'), 493: (910, 627, 'f4'), 522: (971, 542, 'f5'), 532: (584, 586, 'Danger!'), 581: (793, 625, 'Danger!'), 651: (922, 478, 'f5'), 664: (866, 541, 'f4'), 666: (663, 463, 'f2'), 670: (702, 542, 'Danger!'), 736: (1097, 1020, 'f4'), 752: (548, 1055, 'f2'), 756: (1304, 497, 'Danger!'), 758: (722, 474, 'f3'), 759: (1304, 497, 'Danger!'), 760: (785, 467, 'f4'), 770: (1494, 476, 'Danger!'), 771: (1522, 574, 'Danger!'), 772: (1629, 587, 'Danger!'), 773: (1500, 572, 'Danger!'), 774: (848, 484, 'f4'), 775: (1654, 537, 'Danger!')}\n",
      "CUR FRAME LEFT PTS\n",
      "[(1500, 572, 'Danger!'), (848, 484, 'Danger!'), (1654, 537, 'Danger!')]\n",
      "Tracking objects\n",
      "{267: (1162, 792, 'f5'), 379: (420, 854, 'Danger!'), 440: (656, 682, 'f2'), 490: (809, 798, 'Danger!'), 493: (913, 631, 'f4'), 522: (973, 544, 'f5'), 532: (583, 588, 'Danger!'), 581: (793, 626, 'Danger!'), 651: (922, 479, 'f5'), 664: (868, 544, 'f4'), 666: (662, 465, 'f2'), 670: (700, 540, 'f2'), 736: (1100, 1028, 'f4'), 756: (1287, 493, 'Danger!'), 758: (721, 477, 'f3'), 759: (1287, 493, 'Danger!'), 760: (787, 476, 'f4'), 770: (1480, 474, 'Danger!'), 773: (1486, 567, 'Danger!'), 776: (1605, 580, 'Danger!'), 777: (1872, 633, 'Danger!'), 778: (1086, 431, 'Danger!')}\n",
      "CUR FRAME LEFT PTS\n",
      "[(1605, 580, 'Danger!'), (1872, 633, 'Danger!'), (1086, 431, 'Danger!')]\n"
     ]
    },
    {
     "name": "stderr",
     "output_type": "stream",
     "text": [
      "0: 384x640 24 cars, 1 truck, 101.5ms\n",
      "Speed: 0.0ms pre-process, 101.5ms inference, 0.0ms postprocess per image at shape (1, 3, 640, 640)\n",
      "\n",
      "0: 384x640 24 cars, 2 trucks, 96.0ms\n",
      "Speed: 0.0ms pre-process, 96.0ms inference, 0.0ms postprocess per image at shape (1, 3, 640, 640)\n",
      "\n"
     ]
    },
    {
     "name": "stdout",
     "output_type": "stream",
     "text": [
      "Tracking objects\n",
      "{267: (1165, 797, 'f5'), 379: (413, 863, 'Danger!'), 440: (657, 685, 'f2'), 490: (809, 799, 'Danger!'), 493: (914, 633, 'f4'), 522: (973, 544, 'f5'), 532: (581, 590, 'Danger!'), 581: (793, 629, 'Danger!'), 651: (922, 480, 'f5'), 664: (868, 546, 'f4'), 666: (661, 465, 'f2'), 670: (700, 544, 'f2'), 736: (1106, 1034, 'f4'), 756: (1282, 493, 'Danger!'), 758: (722, 477, 'f3'), 759: (1282, 493, 'Danger!'), 770: (1473, 472, 'Danger!'), 773: (1469, 562, 'Danger!'), 776: (1603, 577, 'Danger!'), 777: (1863, 630, 'Danger!'), 779: (1034, 613, 'Danger!'), 780: (1457, 558, 'Danger!'), 781: (1625, 530, 'Danger!'), 782: (1371, 462, 'Danger!')}\n",
      "CUR FRAME LEFT PTS\n",
      "[(1034, 613, 'Danger!'), (1457, 558, 'Danger!'), (1625, 530, 'Danger!'), (1371, 462, 'Danger!')]\n",
      "Tracking objects\n",
      "{267: (1173, 808, 'f5'), 440: (653, 699, 'f2'), 490: (808, 817, 'Danger!'), 493: (916, 637, 'f4'), 522: (975, 547, 'f5'), 532: (577, 599, 'Danger!'), 581: (793, 632, 'Danger!'), 651: (924, 479, 'f5'), 664: (870, 548, 'f4'), 666: (661, 469, 'f2'), 670: (699, 546, 'f2'), 736: (1108, 1050, 'f4'), 758: (722, 481, 'f3'), 770: (1461, 469, 'Danger!'), 779: (1037, 614, 'Danger!'), 780: (1443, 550, 'Danger!'), 782: (1358, 461, 'Danger!'), 783: (401, 881, 'Danger!'), 784: (1262, 484, 'Danger!'), 785: (1843, 617, 'Danger!'), 786: (1557, 565, 'Danger!'), 787: (850, 486, 'f4'), 788: (1595, 521, 'Danger!'), 789: (786, 476, 'f4')}\n",
      "CUR FRAME LEFT PTS\n",
      "[(401, 881, 'Danger!'), (1262, 484, 'Danger!'), (1843, 617, 'Danger!'), (1557, 565, 'Danger!'), (850, 486, 'Danger!'), (1595, 521, 'Danger!'), (786, 476, 'Danger!')]\n"
     ]
    },
    {
     "name": "stderr",
     "output_type": "stream",
     "text": [
      "0: 384x640 22 cars, 1 truck, 117.9ms\n",
      "Speed: 0.0ms pre-process, 117.9ms inference, 1.5ms postprocess per image at shape (1, 3, 640, 640)\n",
      "\n",
      "0: 384x640 23 cars, 1 bus, 1 truck, 99.7ms\n",
      "Speed: 0.0ms pre-process, 99.7ms inference, 16.4ms postprocess per image at shape (1, 3, 640, 640)\n",
      "\n"
     ]
    },
    {
     "name": "stdout",
     "output_type": "stream",
     "text": [
      "Tracking objects\n",
      "{267: (1179, 814, 'f5'), 440: (651, 703, 'f2'), 490: (808, 816, 'Danger!'), 493: (919, 643, 'f4'), 522: (976, 547, 'f5'), 532: (576, 601, 'Danger!'), 581: (794, 636, 'Danger!'), 651: (924, 480, 'f5'), 664: (871, 550, 'f4'), 666: (659, 470, 'f2'), 670: (699, 550, 'Danger!'), 736: (1110, 1058, 'f4'), 758: (722, 481, 'f3'), 770: (1449, 468, 'Danger!'), 779: (1037, 618, 'Danger!'), 780: (1430, 546, 'Danger!'), 783: (395, 890, 'Danger!'), 784: (1259, 483, 'Danger!'), 785: (1830, 612, 'Danger!'), 786: (1543, 559, 'Danger!'), 787: (851, 486, 'f4'), 788: (1591, 521, 'Danger!')}\n",
      "CUR FRAME LEFT PTS\n",
      "[]\n",
      "Tracking objects\n",
      "{267: (1183, 819, 'f5'), 440: (647, 710, 'f2'), 490: (808, 824, 'f3'), 493: (921, 646, 'f4'), 522: (976, 547, 'f5'), 532: (574, 601, 'Danger!'), 581: (795, 641, 'Danger!'), 651: (924, 481, 'f5'), 664: (871, 551, 'f4'), 666: (659, 469, 'f2'), 670: (698, 549, 'f2'), 758: (722, 483, 'f3'), 770: (1444, 468, 'Danger!'), 779: (1038, 621, 'f5'), 780: (1419, 542, 'Danger!'), 783: (388, 901, 'Danger!'), 784: (1250, 481, 'Danger!'), 785: (1813, 606, 'Danger!'), 786: (1528, 553, 'Danger!'), 788: (1591, 518, 'Danger!'), 790: (1348, 458, 'Danger!')}\n",
      "CUR FRAME LEFT PTS\n",
      "[(1348, 458, 'Danger!')]\n"
     ]
    },
    {
     "name": "stderr",
     "output_type": "stream",
     "text": [
      "0: 384x640 25 cars, 2 trucks, 108.9ms\n",
      "Speed: 1.0ms pre-process, 108.9ms inference, 0.0ms postprocess per image at shape (1, 3, 640, 640)\n",
      "\n",
      "0: 384x640 22 cars, 1 truck, 114.1ms\n",
      "Speed: 0.0ms pre-process, 114.1ms inference, 0.0ms postprocess per image at shape (1, 3, 640, 640)\n",
      "\n"
     ]
    },
    {
     "name": "stdout",
     "output_type": "stream",
     "text": [
      "Tracking objects\n",
      "{267: (1188, 826, 'f5'), 440: (647, 717, 'f2'), 490: (809, 825, 'Danger!'), 493: (921, 649, 'f4'), 522: (977, 549, 'f5'), 532: (572, 606, 'Danger!'), 581: (794, 644, 'Danger!'), 651: (925, 481, 'f5'), 664: (871, 552, 'f4'), 666: (658, 470, 'f2'), 670: (698, 553, 'Danger!'), 758: (719, 483, 'f3'), 779: (1041, 623, 'Danger!'), 780: (1407, 537, 'Danger!'), 783: (385, 913, 'Danger!'), 784: (1243, 478, 'Danger!'), 785: (1794, 602, 'Danger!'), 786: (1512, 548, 'Danger!'), 788: (1574, 514, 'Danger!'), 790: (1346, 455, 'Danger!'), 791: (789, 488, 'Danger!'), 792: (829, 433, 'f5'), 793: (1143, 433, 'Danger!')}\n",
      "CUR FRAME LEFT PTS\n",
      "[(789, 488, 'Danger!'), (829, 433, 'Danger!'), (1143, 433, 'Danger!')]\n",
      "Tracking objects\n",
      "{267: (1198, 839, 'f5'), 440: (644, 730, 'f2'), 490: (809, 836, 'f3'), 493: (924, 655, 'f4'), 522: (978, 551, 'f5'), 532: (567, 613, 'Danger!'), 581: (794, 650, 'Danger!'), 651: (926, 482, 'f5'), 664: (873, 556, 'f4'), 666: (658, 472, 'f2'), 670: (695, 557, 'f2'), 758: (718, 486, 'Danger!'), 779: (1045, 627, 'Danger!'), 784: (1233, 472, 'Danger!'), 792: (831, 434, 'f5'), 793: (1137, 430, 'Danger!'), 794: (368, 934, 'Danger!'), 795: (1384, 528, 'Danger!'), 796: (1546, 510, 'Danger!'), 797: (1484, 538, 'Danger!'), 798: (1749, 592, 'Danger!'), 799: (1425, 461, 'Danger!')}\n",
      "CUR FRAME LEFT PTS\n",
      "[(368, 934, 'Danger!'), (1384, 528, 'Danger!'), (1546, 510, 'Danger!'), (1484, 538, 'Danger!'), (1749, 592, 'Danger!'), (1425, 461, 'Danger!')]\n"
     ]
    },
    {
     "name": "stderr",
     "output_type": "stream",
     "text": [
      "0: 384x640 21 cars, 1 truck, 98.4ms\n",
      "Speed: 0.0ms pre-process, 98.4ms inference, 0.0ms postprocess per image at shape (1, 3, 640, 640)\n",
      "\n",
      "0: 384x640 19 cars, 1 truck, 121.8ms\n",
      "Speed: 0.0ms pre-process, 121.8ms inference, 1.1ms postprocess per image at shape (1, 3, 640, 640)\n",
      "\n"
     ]
    },
    {
     "name": "stdout",
     "output_type": "stream",
     "text": [
      "Tracking objects\n",
      "{267: (1203, 843, 'f5'), 440: (643, 738, 'f2'), 490: (810, 842, 'f3'), 493: (926, 657, 'f4'), 522: (980, 551, 'f5'), 532: (566, 617, 'Danger!'), 581: (795, 652, 'Danger!'), 651: (927, 482, 'Danger!'), 664: (874, 556, 'f4'), 666: (655, 474, 'Danger!'), 670: (696, 558, 'f2'), 758: (718, 488, 'Danger!'), 779: (1049, 629, 'Danger!'), 784: (1229, 470, 'Danger!'), 793: (1137, 431, 'Danger!'), 794: (363, 945, 'Danger!'), 795: (1373, 524, 'Danger!'), 796: (1540, 506, 'Danger!'), 797: (1472, 536, 'Danger!'), 798: (1748, 587, 'Danger!'), 800: (789, 484, 'f4')}\n",
      "CUR FRAME LEFT PTS\n",
      "[(789, 484, 'Danger!')]\n",
      "Tracking objects\n",
      "{267: (1208, 852, 'f5'), 440: (641, 746, 'f2'), 490: (809, 850, 'f3'), 493: (928, 661, 'f4'), 522: (982, 553, 'f5'), 532: (562, 620, 'Danger!'), 581: (796, 653, 'Danger!'), 651: (927, 482, 'Danger!'), 664: (876, 561, 'f4'), 666: (655, 474, 'Danger!'), 670: (695, 561, 'f2'), 758: (718, 488, 'Danger!'), 779: (1049, 630, 'Danger!'), 793: (1133, 429, 'Danger!'), 794: (357, 957, 'Danger!'), 795: (1364, 521, 'Danger!'), 796: (1535, 504, 'Danger!'), 797: (1463, 533, 'Danger!'), 800: (790, 496, 'Danger!'), 801: (1418, 458, 'Danger!')}\n",
      "CUR FRAME LEFT PTS\n",
      "[(1418, 458, 'Danger!')]\n"
     ]
    },
    {
     "name": "stderr",
     "output_type": "stream",
     "text": [
      "0: 384x640 21 cars, 1 truck, 101.3ms\n",
      "Speed: 1.0ms pre-process, 101.3ms inference, 0.0ms postprocess per image at shape (1, 3, 640, 640)\n",
      "\n",
      "0: 384x640 22 cars, 2 trucks, 94.3ms\n",
      "Speed: 0.0ms pre-process, 94.3ms inference, 0.0ms postprocess per image at shape (1, 3, 640, 640)\n",
      "\n"
     ]
    },
    {
     "name": "stdout",
     "output_type": "stream",
     "text": [
      "Tracking objects\n",
      "{267: (1213, 861, 'f5'), 440: (638, 754, 'f2'), 490: (809, 860, 'f3'), 493: (929, 665, 'f4'), 522: (981, 553, 'f5'), 532: (561, 625, 'Danger!'), 581: (797, 658, 'Danger!'), 651: (927, 483, 'f5'), 664: (876, 564, 'f4'), 666: (653, 478, 'Danger!'), 670: (695, 563, 'f2'), 758: (718, 491, 'Danger!'), 779: (1052, 633, 'Danger!'), 793: (1128, 427, 'Danger!'), 794: (351, 968, 'Danger!'), 795: (1353, 519, 'Danger!'), 796: (1535, 503, 'Danger!'), 797: (1448, 528, 'Danger!'), 800: (789, 490, 'Danger!'), 802: (1211, 465, 'Danger!')}\n",
      "CUR FRAME LEFT PTS\n",
      "[(1211, 465, 'Danger!')]\n",
      "Tracking objects\n",
      "{267: (1223, 874, 'f5'), 440: (632, 771, 'f2'), 490: (810, 870, 'f3'), 493: (930, 673, 'f4'), 522: (984, 556, 'f5'), 532: (555, 634, 'Danger!'), 581: (796, 666, 'Danger!'), 651: (930, 484, 'Danger!'), 664: (878, 567, 'f4'), 666: (653, 480, 'Danger!'), 670: (691, 570, 'f2'), 758: (718, 493, 'Danger!'), 779: (1054, 639, 'Danger!'), 793: (1117, 424, 'Danger!'), 800: (789, 500, 'Danger!'), 802: (1204, 463, 'Danger!'), 803: (333, 980, 'Danger!'), 804: (1332, 511, 'Danger!'), 805: (1666, 566, 'Danger!'), 806: (1509, 497, 'Danger!'), 807: (1425, 518, 'Danger!'), 808: (830, 435, 'f5'), 809: (855, 494, 'f4')}\n",
      "CUR FRAME LEFT PTS\n",
      "[(333, 980, 'Danger!'), (1332, 511, 'Danger!'), (1666, 566, 'Danger!'), (1509, 497, 'Danger!'), (1425, 518, 'Danger!'), (830, 435, 'Danger!'), (855, 494, 'Danger!')]\n"
     ]
    },
    {
     "name": "stderr",
     "output_type": "stream",
     "text": [
      "0: 384x640 19 cars, 2 trucks, 99.4ms\n",
      "Speed: 0.0ms pre-process, 99.4ms inference, 15.7ms postprocess per image at shape (1, 3, 640, 640)\n",
      "\n",
      "0: 384x640 17 cars, 1 bus, 2 trucks, 102.4ms\n",
      "Speed: 1.1ms pre-process, 102.4ms inference, 2.0ms postprocess per image at shape (1, 3, 640, 640)\n",
      "\n"
     ]
    },
    {
     "name": "stdout",
     "output_type": "stream",
     "text": [
      "Tracking objects\n",
      "{267: (1231, 882, 'f5'), 440: (630, 778, 'f2'), 490: (809, 889, 'f3'), 493: (933, 678, 'f4'), 522: (984, 557, 'f5'), 532: (553, 639, 'Danger!'), 581: (796, 668, 'Danger!'), 651: (930, 485, 'Danger!'), 664: (879, 569, 'f4'), 666: (653, 483, 'Danger!'), 670: (690, 573, 'f2'), 758: (718, 494, 'Danger!'), 779: (1056, 641, 'Danger!'), 800: (788, 503, 'Danger!'), 802: (1196, 462, 'Danger!'), 803: (328, 984, 'Danger!'), 804: (1324, 508, 'Danger!'), 806: (1497, 494, 'Danger!'), 808: (829, 435, 'f5'), 809: (855, 495, 'f4')}\n",
      "CUR FRAME LEFT PTS\n",
      "[]\n",
      "Tracking objects\n",
      "{267: (1237, 889, 'f5'), 440: (625, 786, 'f2'), 490: (811, 887, 'f3'), 493: (932, 680, 'f4'), 522: (985, 559, 'f5'), 532: (552, 641, 'Danger!'), 581: (795, 672, 'f3'), 651: (930, 486, 'f5'), 664: (879, 571, 'f4'), 666: (652, 481, 'Danger!'), 670: (690, 573, 'f2'), 758: (717, 495, 'Danger!'), 779: (1058, 643, 'Danger!'), 800: (790, 504, 'Danger!'), 802: (1190, 458, 'Danger!'), 803: (320, 990, 'Danger!'), 804: (1315, 505, 'Danger!'), 809: (855, 496, 'f4'), 810: (1403, 512, 'Danger!')}\n",
      "CUR FRAME LEFT PTS\n",
      "[(1403, 512, 'Danger!')]\n"
     ]
    },
    {
     "name": "stderr",
     "output_type": "stream",
     "text": [
      "0: 384x640 20 cars, 2 buss, 2 trucks, 98.4ms\n",
      "Speed: 9.3ms pre-process, 98.4ms inference, 1.2ms postprocess per image at shape (1, 3, 640, 640)\n",
      "\n",
      "0: 384x640 19 cars, 1 bus, 2 trucks, 129.9ms\n",
      "Speed: 0.0ms pre-process, 129.9ms inference, 2.2ms postprocess per image at shape (1, 3, 640, 640)\n",
      "\n"
     ]
    },
    {
     "name": "stdout",
     "output_type": "stream",
     "text": [
      "Tracking objects\n",
      "{267: (1241, 901, 'f5'), 440: (626, 796, 'f2'), 490: (812, 897, 'f3'), 493: (936, 685, 'f4'), 522: (988, 560, 'f5'), 532: (548, 645, 'Danger!'), 581: (796, 675, 'Danger!'), 651: (930, 486, 'f5'), 664: (881, 573, 'f4'), 666: (651, 485, 'Danger!'), 670: (690, 576, 'f2'), 758: (718, 497, 'Danger!'), 779: (1060, 645, 'Danger!'), 800: (789, 506, 'Danger!'), 802: (1189, 457, 'Danger!'), 803: (311, 996, 'Danger!'), 804: (1319, 503, 'Danger!'), 809: (856, 496, 'f4'), 810: (1395, 508, 'Danger!'), 811: (1895, 610, 'Danger!'), 812: (1642, 542, 'Danger!')}\n",
      "CUR FRAME LEFT PTS\n",
      "[(1895, 610, 'Danger!'), (1642, 542, 'Danger!')]\n",
      "Tracking objects\n",
      "{267: (1253, 913, 'f5'), 440: (621, 815, 'f2'), 490: (813, 908, 'f3'), 493: (939, 694, 'f4'), 522: (987, 563, 'f5'), 532: (544, 651, 'Danger!'), 581: (797, 682, 'Danger!'), 651: (933, 487, 'Danger!'), 664: (882, 576, 'f4'), 666: (650, 487, 'Danger!'), 670: (689, 583, 'f2'), 758: (717, 500, 'Danger!'), 779: (1065, 653, 'Danger!'), 800: (789, 507, 'Danger!'), 802: (1178, 454, 'Danger!'), 803: (305, 1007, 'Danger!'), 809: (855, 500, 'f4'), 810: (1377, 502, 'Danger!'), 813: (1291, 495, 'Danger!'), 814: (1298, 496, 'Danger!')}\n",
      "CUR FRAME LEFT PTS\n",
      "[(1291, 495, 'Danger!'), (1298, 496, 'Danger!')]\n"
     ]
    },
    {
     "name": "stderr",
     "output_type": "stream",
     "text": [
      "0: 384x640 1 person, 18 cars, 1 bus, 2 trucks, 116.3ms\n",
      "Speed: 0.0ms pre-process, 116.3ms inference, 0.0ms postprocess per image at shape (1, 3, 640, 640)\n",
      "\n",
      "0: 384x640 18 cars, 1 bus, 1 truck, 130.3ms\n",
      "Speed: 0.0ms pre-process, 130.3ms inference, 3.0ms postprocess per image at shape (1, 3, 640, 640)\n",
      "\n"
     ]
    },
    {
     "name": "stdout",
     "output_type": "stream",
     "text": [
      "Tracking objects\n",
      "{267: (1260, 924, 'f5'), 440: (617, 826, 'f2'), 490: (814, 918, 'f3'), 493: (942, 699, 'f4'), 522: (989, 565, 'f5'), 532: (541, 656, 'Danger!'), 581: (797, 684, 'Danger!'), 651: (934, 490, 'Danger!'), 664: (883, 579, 'f4'), 666: (649, 487, 'Danger!'), 670: (688, 587, 'f2'), 758: (717, 501, 'Danger!'), 779: (1068, 655, 'Danger!'), 800: (789, 506, 'Danger!'), 802: (1174, 453, 'Danger!'), 803: (300, 1014, 'Danger!'), 809: (856, 500, 'f4'), 810: (1370, 499, 'Danger!'), 813: (1291, 494, 'Danger!'), 814: (1291, 494, 'Danger!'), 815: (1162, 609, 'Danger!'), 816: (1467, 486, 'Danger!'), 817: (1588, 547, 'Danger!')}\n",
      "CUR FRAME LEFT PTS\n",
      "[(1162, 609, 'Danger!'), (1467, 486, 'Danger!'), (1588, 547, 'Danger!')]\n",
      "Tracking objects\n",
      "{267: (1269, 934, 'f5'), 440: (613, 836, 'f2'), 490: (815, 918, 'f3'), 493: (944, 702, 'f4'), 522: (990, 566, 'f5'), 532: (538, 663, 'Danger!'), 581: (798, 687, 'Danger!'), 651: (934, 489, 'Danger!'), 664: (883, 582, 'f4'), 666: (649, 488, 'Danger!'), 670: (689, 588, 'Danger!'), 758: (718, 504, 'Danger!'), 779: (1071, 656, 'Danger!'), 800: (789, 493, 'Danger!'), 803: (299, 1020, 'Danger!'), 809: (855, 501, 'f4'), 810: (1368, 498, 'Danger!'), 813: (1285, 493, 'Danger!'), 814: (1285, 493, 'Danger!'), 818: (1349, 498, 'Danger!')}\n",
      "CUR FRAME LEFT PTS\n",
      "[(1349, 498, 'Danger!')]\n"
     ]
    },
    {
     "name": "stderr",
     "output_type": "stream",
     "text": [
      "0: 384x640 19 cars, 1 bus, 1 truck, 118.2ms\n",
      "Speed: 13.0ms pre-process, 118.2ms inference, 0.0ms postprocess per image at shape (1, 3, 640, 640)\n",
      "\n",
      "0: 384x640 20 cars, 2 buss, 2 trucks, 120.9ms\n",
      "Speed: 0.0ms pre-process, 120.9ms inference, 0.0ms postprocess per image at shape (1, 3, 640, 640)\n",
      "\n"
     ]
    },
    {
     "name": "stdout",
     "output_type": "stream",
     "text": [
      "Tracking objects\n",
      "{267: (1276, 943, 'f5'), 440: (611, 848, 'f2'), 490: (815, 925, 'f3'), 493: (946, 709, 'f4'), 522: (991, 568, 'f5'), 532: (535, 669, 'Danger!'), 581: (798, 691, 'Danger!'), 651: (934, 491, 'f5'), 664: (884, 584, 'f4'), 666: (648, 491, 'Danger!'), 670: (687, 591, 'f2'), 758: (717, 505, 'Danger!'), 779: (1073, 661, 'Danger!'), 800: (790, 510, 'Danger!'), 803: (299, 1026, 'Danger!'), 809: (859, 503, 'f4'), 810: (1353, 494, 'Danger!'), 813: (1273, 491, 'Danger!'), 814: (1273, 491, 'Danger!'), 818: (1353, 494, 'Danger!'), 819: (1446, 483, 'Danger!'), 820: (1161, 449, 'Danger!')}\n",
      "CUR FRAME LEFT PTS\n",
      "[(1446, 483, 'Danger!'), (1161, 449, 'Danger!')]\n",
      "Tracking objects\n",
      "{493: (949, 718, 'f4'), 522: (994, 571, 'f5'), 532: (528, 679, 'Danger!'), 581: (800, 700, 'Danger!'), 651: (936, 491, 'Danger!'), 664: (886, 591, 'f4'), 666: (646, 495, 'Danger!'), 670: (686, 598, 'Danger!'), 758: (716, 507, 'Danger!'), 779: (1076, 666, 'Danger!'), 800: (791, 514, 'Danger!'), 803: (287, 1041, 'Danger!'), 809: (860, 505, 'f4'), 819: (1440, 481, 'Danger!'), 820: (1155, 447, 'Danger!'), 821: (1564, 523, 'Danger!'), 822: (1289, 964, 'f5'), 823: (1254, 483, 'Danger!'), 824: (601, 873, 'f2'), 825: (1819, 583, 'Danger!'), 826: (1085, 413, 'Danger!'), 827: (601, 873, 'f2'), 828: (1332, 491, 'Danger!')}\n",
      "CUR FRAME LEFT PTS\n",
      "[(1564, 523, 'Danger!'), (1289, 964, 'Danger!'), (1254, 483, 'Danger!'), (601, 873, 'Danger!'), (1819, 583, 'Danger!'), (1085, 413, 'Danger!'), (601, 873, 'Danger!'), (1332, 491, 'Danger!')]\n"
     ]
    },
    {
     "name": "stderr",
     "output_type": "stream",
     "text": [
      "0: 384x640 19 cars, 1 bus, 3 trucks, 133.3ms\n",
      "Speed: 0.0ms pre-process, 133.3ms inference, 5.0ms postprocess per image at shape (1, 3, 640, 640)\n",
      "\n",
      "0: 384x640 18 cars, 2 buss, 1 truck, 112.5ms\n",
      "Speed: 1.0ms pre-process, 112.5ms inference, 0.0ms postprocess per image at shape (1, 3, 640, 640)\n",
      "\n"
     ]
    },
    {
     "name": "stdout",
     "output_type": "stream",
     "text": [
      "Tracking objects\n",
      "{493: (951, 721, 'f4'), 522: (996, 572, 'f5'), 532: (526, 683, 'Danger!'), 581: (800, 706, 'Danger!'), 651: (938, 496, 'f5'), 664: (888, 593, 'f4'), 666: (646, 498, 'Danger!'), 670: (685, 601, 'f2'), 758: (716, 512, 'Danger!'), 779: (1078, 668, 'Danger!'), 800: (791, 516, 'Danger!'), 803: (284, 1048, 'Danger!'), 809: (859, 505, 'f4'), 819: (1425, 478, 'Danger!'), 822: (1298, 976, 'f5'), 823: (1246, 482, 'Danger!'), 824: (596, 887, 'f2'), 825: (1804, 579, 'Danger!'), 827: (596, 887, 'f2'), 828: (1328, 488, 'Danger!'), 829: (816, 957, 'f3'), 830: (673, 448, 'f2'), 831: (832, 441, 'f5')}\n",
      "CUR FRAME LEFT PTS\n",
      "[(816, 957, 'Danger!'), (673, 448, 'Danger!'), (832, 441, 'Danger!')]\n",
      "Tracking objects\n",
      "{493: (953, 728, 'f4'), 522: (995, 573, 'f5'), 532: (526, 688, 'Danger!'), 581: (800, 709, 'Danger!'), 651: (938, 493, 'Danger!'), 664: (888, 595, 'f4'), 666: (644, 497, 'Danger!'), 670: (685, 608, 'Danger!'), 758: (716, 513, 'Danger!'), 800: (791, 517, 'Danger!'), 803: (282, 1055, 'Danger!'), 809: (860, 507, 'f4'), 819: (1430, 478, 'Danger!'), 822: (1305, 980, 'f5'), 823: (1243, 480, 'Danger!'), 824: (596, 900, 'f2'), 827: (596, 900, 'f2'), 828: (1322, 485, 'Danger!'), 829: (818, 965, 'f3'), 832: (1021, 404, 'Danger!')}\n",
      "CUR FRAME LEFT PTS\n",
      "[(1021, 404, 'Danger!')]\n"
     ]
    },
    {
     "name": "stderr",
     "output_type": "stream",
     "text": [
      "0: 384x640 1 person, 18 cars, 3 buss, 99.6ms\n",
      "Speed: 0.0ms pre-process, 99.6ms inference, 1.0ms postprocess per image at shape (1, 3, 640, 640)\n",
      "\n",
      "0: 384x640 1 person, 17 cars, 2 buss, 1 truck, 85.1ms\n",
      "Speed: 1.0ms pre-process, 85.1ms inference, 0.0ms postprocess per image at shape (1, 3, 640, 640)\n",
      "\n"
     ]
    },
    {
     "name": "stdout",
     "output_type": "stream",
     "text": [
      "Tracking objects\n",
      "{493: (954, 734, 'f4'), 522: (998, 579, 'f5'), 532: (522, 694, 'Danger!'), 581: (801, 714, 'Danger!'), 651: (939, 495, 'Danger!'), 664: (890, 597, 'f4'), 666: (645, 501, 'Danger!'), 670: (684, 609, 'Danger!'), 758: (716, 515, 'Danger!'), 800: (791, 518, 'Danger!'), 809: (861, 510, 'f4'), 819: (1416, 476, 'Danger!'), 822: (1316, 987, 'f5'), 823: (1234, 476, 'Danger!'), 824: (593, 913, 'f2'), 827: (593, 913, 'f2'), 828: (1310, 483, 'Danger!'), 829: (818, 968, 'f3'), 832: (1019, 401, 'Danger!'), 833: (1083, 677, 'Danger!'), 834: (1236, 672, 'Danger!'), 835: (837, 444, 'f5'), 836: (673, 450, 'f2')}\n",
      "CUR FRAME LEFT PTS\n",
      "[(1083, 677, 'Danger!'), (1236, 672, 'Danger!'), (837, 444, 'Danger!'), (673, 450, 'Danger!')]\n",
      "Tracking objects\n",
      "{493: (959, 745, 'f4'), 522: (999, 580, 'f5'), 532: (518, 705, 'Danger!'), 581: (802, 722, 'Danger!'), 651: (940, 501, 'f5'), 664: (893, 604, 'f4'), 666: (643, 504, 'Danger!'), 670: (681, 619, 'Danger!'), 758: (715, 519, 'Danger!'), 800: (793, 513, 'Danger!'), 819: (1406, 474, 'Danger!'), 822: (1317, 995, 'f5'), 823: (1230, 473, 'Danger!'), 828: (1291, 479, 'Danger!'), 833: (1087, 685, 'f5'), 837: (591, 936, 'f2'), 838: (1263, 695, 'Danger!'), 839: (1516, 512, 'Danger!'), 840: (1888, 592, 'Danger!')}\n",
      "CUR FRAME LEFT PTS\n",
      "[(591, 936, 'Danger!'), (1263, 695, 'Danger!'), (1516, 512, 'Danger!'), (1888, 592, 'Danger!')]\n"
     ]
    },
    {
     "name": "stderr",
     "output_type": "stream",
     "text": [
      "0: 384x640 1 person, 18 cars, 2 buss, 3 trucks, 69.2ms\n",
      "Speed: 0.0ms pre-process, 69.2ms inference, 13.8ms postprocess per image at shape (1, 3, 640, 640)\n",
      "\n",
      "0: 384x640 17 cars, 2 buss, 2 trucks, 114.8ms\n",
      "Speed: 0.0ms pre-process, 114.8ms inference, 5.7ms postprocess per image at shape (1, 3, 640, 640)\n",
      "\n"
     ]
    },
    {
     "name": "stdout",
     "output_type": "stream",
     "text": [
      "Tracking objects\n",
      "{493: (964, 751, 'f4'), 522: (1000, 582, 'f5'), 532: (515, 712, 'Danger!'), 581: (803, 727, 'Danger!'), 651: (941, 501, 'f5'), 664: (894, 605, 'f4'), 666: (643, 503, 'Danger!'), 670: (681, 620, 'Danger!'), 758: (715, 521, 'Danger!'), 800: (792, 514, 'Danger!'), 819: (1400, 473, 'Danger!'), 822: (1328, 998, 'f5'), 823: (1220, 470, 'Danger!'), 828: (1288, 476, 'Danger!'), 833: (1092, 689, 'f5'), 837: (586, 944, 'f2'), 839: (1498, 519, 'Danger!'), 840: (1879, 591, 'Danger!'), 841: (864, 515, 'f4'), 842: (1724, 562, 'Danger!'), 843: (673, 454, 'f2'), 844: (1280, 711, 'Danger!')}\n",
      "CUR FRAME LEFT PTS\n",
      "[(864, 515, 'Danger!'), (1724, 562, 'Danger!'), (673, 454, 'Danger!'), (1280, 711, 'Danger!')]\n",
      "Tracking objects\n",
      "{493: (966, 758, 'f4'), 522: (1002, 586, 'f5'), 532: (512, 716, 'Danger!'), 581: (805, 732, 'Danger!'), 651: (941, 504, 'f5'), 664: (896, 608, 'f4'), 666: (641, 506, 'Danger!'), 670: (681, 623, 'Danger!'), 758: (715, 523, 'Danger!'), 800: (794, 528, 'Danger!'), 819: (1403, 472, 'Danger!'), 822: (1331, 1007, 'f5'), 823: (1216, 469, 'Danger!'), 828: (1283, 475, 'Danger!'), 833: (1092, 694, 'f5'), 837: (582, 948, 'f2'), 839: (1490, 516, 'Danger!'), 840: (1871, 588, 'Danger!'), 842: (1711, 557, 'Danger!'), 843: (672, 454, 'f2')}\n",
      "CUR FRAME LEFT PTS\n",
      "[]\n"
     ]
    },
    {
     "name": "stderr",
     "output_type": "stream",
     "text": [
      "0: 384x640 1 person, 17 cars, 3 buss, 2 trucks, 105.3ms\n",
      "Speed: 0.0ms pre-process, 105.3ms inference, 1.5ms postprocess per image at shape (1, 3, 640, 640)\n",
      "\n",
      "0: 384x640 1 person, 18 cars, 2 buss, 2 trucks, 107.6ms\n",
      "Speed: 0.0ms pre-process, 107.6ms inference, 0.0ms postprocess per image at shape (1, 3, 640, 640)\n",
      "\n"
     ]
    },
    {
     "name": "stdout",
     "output_type": "stream",
     "text": [
      "Tracking objects\n",
      "{522: (1004, 588, 'f5'), 532: (506, 728, 'Danger!'), 581: (805, 736, 'Danger!'), 651: (942, 503, 'f5'), 664: (897, 613, 'f4'), 666: (640, 509, 'Danger!'), 670: (682, 628, 'Danger!'), 758: (715, 526, 'Danger!'), 800: (793, 529, 'Danger!'), 819: (1389, 470, 'Danger!'), 822: (1343, 1012, 'f5'), 823: (1210, 468, 'Danger!'), 828: (1279, 471, 'Danger!'), 833: (1095, 697, 'f5'), 837: (580, 954, 'f2'), 840: (1886, 583, 'Danger!'), 842: (1699, 555, 'Danger!'), 843: (673, 456, 'f2'), 845: (819, 972, 'f3'), 846: (866, 519, 'f4'), 847: (1310, 734, 'Danger!')}\n",
      "CUR FRAME LEFT PTS\n",
      "[(819, 972, 'Danger!'), (866, 519, 'Danger!'), (1310, 734, 'Danger!')]\n",
      "Tracking objects\n",
      "{522: (1008, 591, 'f5'), 532: (502, 736, 'Danger!'), 581: (806, 747, 'Danger!'), 651: (943, 504, 'f5'), 664: (899, 619, 'f4'), 666: (640, 513, 'Danger!'), 670: (679, 639, 'Danger!'), 758: (716, 529, 'Danger!'), 819: (1382, 469, 'Danger!'), 822: (1353, 1025, 'f5'), 823: (1199, 467, 'Danger!'), 833: (1103, 707, 'f5'), 837: (579, 970, 'f2'), 843: (673, 461, 'f2'), 846: (867, 520, 'f4'), 848: (1832, 574, 'Danger!'), 849: (975, 777, 'f4'), 850: (1675, 550, 'Danger!'), 851: (1348, 771, 'Danger!'), 852: (1461, 511, 'Danger!'), 853: (1674, 552, 'Danger!'), 854: (1350, 774, 'Danger!')}\n",
      "CUR FRAME LEFT PTS\n",
      "[(1832, 574, 'Danger!'), (975, 777, 'Danger!'), (1675, 550, 'Danger!'), (1348, 771, 'Danger!'), (1461, 511, 'Danger!'), (1674, 552, 'Danger!'), (1350, 774, 'Danger!')]\n"
     ]
    },
    {
     "name": "stderr",
     "output_type": "stream",
     "text": [
      "0: 384x640 19 cars, 2 buss, 1 truck, 106.7ms\n",
      "Speed: 0.0ms pre-process, 106.7ms inference, 1.0ms postprocess per image at shape (1, 3, 640, 640)\n",
      "\n",
      "0: 384x640 20 cars, 2 buss, 3 trucks, 90.5ms\n",
      "Speed: 1.1ms pre-process, 90.5ms inference, 0.0ms postprocess per image at shape (1, 3, 640, 640)\n",
      "\n"
     ]
    },
    {
     "name": "stdout",
     "output_type": "stream",
     "text": [
      "Tracking objects\n",
      "{522: (1008, 593, 'f5'), 532: (498, 744, 'Danger!'), 581: (808, 752, 'Danger!'), 651: (945, 508, 'f5'), 664: (901, 623, 'f4'), 666: (637, 519, 'Danger!'), 670: (681, 645, 'Danger!'), 758: (716, 532, 'Danger!'), 819: (1371, 469, 'Danger!'), 822: (1361, 1031, 'f5'), 833: (1107, 712, 'f5'), 837: (576, 977, 'f2'), 843: (672, 462, 'f2'), 846: (869, 525, 'f4'), 848: (1817, 573, 'Danger!'), 849: (977, 784, 'f4'), 852: (1467, 511, 'Danger!'), 855: (794, 510, 'Danger!'), 856: (1112, 435, 'Danger!'), 857: (839, 451, 'f5'), 858: (825, 1006, 'Danger!')}\n",
      "CUR FRAME LEFT PTS\n",
      "[(794, 510, 'Danger!'), (1112, 435, 'Danger!'), (839, 451, 'Danger!'), (825, 1006, 'Danger!')]\n",
      "Tracking objects\n",
      "{522: (1012, 596, 'f5'), 532: (497, 753, 'Danger!'), 581: (809, 757, 'Danger!'), 651: (947, 509, 'f5'), 664: (903, 628, 'f4'), 666: (638, 522, 'Danger!'), 670: (680, 647, 'Danger!'), 758: (716, 533, 'Danger!'), 833: (1111, 717, 'f5'), 837: (572, 985, 'f2'), 843: (673, 465, 'f2'), 846: (869, 526, 'f4'), 848: (1802, 570, 'Danger!'), 849: (982, 793, 'f4'), 855: (792, 491, 'f4'), 856: (1111, 435, 'Danger!'), 857: (839, 454, 'f5'), 858: (829, 1012, 'Danger!'), 859: (1403, 1038, 'Danger!'), 860: (1190, 464, 'Danger!'), 861: (1652, 546, 'Danger!'), 862: (1439, 509, 'Danger!'), 863: (731, 472, 'f3')}\n",
      "CUR FRAME LEFT PTS\n",
      "[(1403, 1038, 'Danger!'), (1190, 464, 'Danger!'), (1652, 546, 'Danger!'), (1439, 509, 'Danger!'), (731, 472, 'Danger!')]\n"
     ]
    },
    {
     "name": "stderr",
     "output_type": "stream",
     "text": [
      "0: 384x640 18 cars, 1 bus, 2 trucks, 138.7ms\n",
      "Speed: 0.0ms pre-process, 138.7ms inference, 0.0ms postprocess per image at shape (1, 3, 640, 640)\n",
      "\n",
      "0: 384x640 15 cars, 1 bus, 3 trucks, 107.2ms\n",
      "Speed: 0.0ms pre-process, 107.2ms inference, 0.0ms postprocess per image at shape (1, 3, 640, 640)\n",
      "\n"
     ]
    },
    {
     "name": "stdout",
     "output_type": "stream",
     "text": [
      "Tracking objects\n",
      "{522: (1015, 600, 'f5'), 532: (496, 759, 'Danger!'), 581: (811, 763, 'Danger!'), 651: (949, 511, 'f5'), 664: (905, 631, 'f4'), 666: (638, 524, 'Danger!'), 670: (681, 653, 'Danger!'), 758: (717, 539, 'Danger!'), 833: (1113, 721, 'f5'), 837: (569, 994, 'f2'), 843: (674, 465, 'f2'), 846: (872, 528, 'f4'), 848: (1789, 566, 'Danger!'), 849: (982, 800, 'f4'), 856: (1110, 433, 'Danger!'), 858: (829, 1017, 'Danger!'), 859: (1406, 1044, 'Danger!'), 860: (1186, 464, 'Danger!'), 863: (731, 471, 'f3'), 864: (1369, 1046, 'f5'), 865: (1368, 469, 'Danger!')}\n",
      "CUR FRAME LEFT PTS\n",
      "[(1369, 1046, 'Danger!'), (1368, 469, 'Danger!')]\n",
      "Tracking objects\n",
      "{522: (1018, 606, 'f5'), 532: (490, 777, 'Danger!'), 581: (815, 775, 'Danger!'), 651: (952, 515, 'f5'), 664: (909, 639, 'f4'), 666: (638, 527, 'Danger!'), 670: (680, 664, 'Danger!'), 758: (718, 543, 'Danger!'), 833: (1122, 734, 'f5'), 837: (567, 1011, 'f2'), 843: (674, 467, 'f2'), 846: (874, 531, 'f4'), 860: (1182, 462, 'Danger!'), 863: (735, 474, 'f3'), 866: (802, 548, 'Danger!'), 867: (1762, 562, 'Danger!'), 868: (994, 818, 'f4')}\n",
      "CUR FRAME LEFT PTS\n",
      "[(802, 548, 'Danger!'), (1762, 562, 'Danger!'), (994, 818, 'Danger!')]\n"
     ]
    },
    {
     "name": "stderr",
     "output_type": "stream",
     "text": [
      "0: 384x640 17 cars, 1 bus, 3 trucks, 115.5ms\n",
      "Speed: 0.0ms pre-process, 115.5ms inference, 0.0ms postprocess per image at shape (1, 3, 640, 640)\n",
      "\n",
      "0: 384x640 20 cars, 2 trucks, 113.3ms\n",
      "Speed: 0.0ms pre-process, 113.3ms inference, 0.0ms postprocess per image at shape (1, 3, 640, 640)\n",
      "\n"
     ]
    },
    {
     "name": "stdout",
     "output_type": "stream",
     "text": [
      "Tracking objects\n",
      "{522: (1020, 608, 'f5'), 532: (488, 784, 'Danger!'), 581: (816, 779, 'Danger!'), 651: (954, 515, 'Danger!'), 664: (911, 642, 'f4'), 666: (640, 529, 'Danger!'), 670: (680, 667, 'Danger!'), 758: (718, 547, 'Danger!'), 833: (1127, 740, 'f5'), 837: (569, 1021, 'f2'), 843: (675, 470, 'f2'), 846: (875, 533, 'f4'), 863: (736, 477, 'f3'), 866: (804, 551, 'Danger!'), 867: (1753, 560, 'Danger!'), 868: (997, 824, 'f4'), 869: (1106, 431, 'Danger!'), 870: (1236, 462, 'Danger!'), 871: (1411, 502, 'Danger!')}\n",
      "CUR FRAME LEFT PTS\n",
      "[(1106, 431, 'Danger!'), (1236, 462, 'Danger!'), (1411, 502, 'Danger!')]\n",
      "Tracking objects\n",
      "{522: (1022, 610, 'f5'), 532: (488, 793, 'Danger!'), 581: (817, 787, 'Danger!'), 651: (956, 518, 'Danger!'), 664: (914, 647, 'f4'), 666: (641, 532, 'Danger!'), 670: (682, 673, 'Danger!'), 758: (721, 549, 'Danger!'), 833: (1131, 743, 'f5'), 837: (568, 1031, 'f2'), 843: (676, 471, 'f2'), 846: (877, 536, 'f4'), 863: (738, 479, 'f3'), 866: (805, 553, 'Danger!'), 867: (1736, 556, 'Danger!'), 868: (1001, 832, 'f4'), 870: (1235, 461, 'Danger!'), 871: (1419, 502, 'Danger!'), 872: (1175, 459, 'Danger!'), 873: (1611, 536, 'Danger!')}\n",
      "CUR FRAME LEFT PTS\n",
      "[(1175, 459, 'Danger!'), (1611, 536, 'Danger!')]\n"
     ]
    },
    {
     "name": "stderr",
     "output_type": "stream",
     "text": [
      "0: 384x640 17 cars, 2 trucks, 112.6ms\n",
      "Speed: 0.0ms pre-process, 112.6ms inference, 0.0ms postprocess per image at shape (1, 3, 640, 640)\n",
      "\n",
      "0: 384x640 20 cars, 1 bus, 1 truck, 114.4ms\n",
      "Speed: 0.0ms pre-process, 114.4ms inference, 0.0ms postprocess per image at shape (1, 3, 640, 640)\n",
      "\n"
     ]
    },
    {
     "name": "stdout",
     "output_type": "stream",
     "text": [
      "Tracking objects\n",
      "{522: (1024, 613, 'f5'), 532: (486, 799, 'Danger!'), 581: (820, 794, 'Danger!'), 651: (958, 522, 'f5'), 664: (918, 653, 'f4'), 666: (641, 536, 'f2'), 670: (682, 680, 'Danger!'), 758: (722, 553, 'Danger!'), 833: (1136, 755, 'f5'), 837: (571, 1043, 'Danger!'), 843: (677, 472, 'f2'), 846: (878, 538, 'f4'), 863: (738, 481, 'f3'), 867: (1731, 553, 'Danger!'), 868: (1007, 844, 'f4'), 871: (1413, 501, 'Danger!'), 872: (1173, 457, 'Danger!')}\n",
      "CUR FRAME LEFT PTS\n",
      "[]\n",
      "Tracking objects\n",
      "{522: (1032, 620, 'f5'), 581: (826, 808, 'Danger!'), 651: (963, 525, 'Danger!'), 664: (925, 661, 'f4'), 666: (643, 544, 'f2'), 670: (684, 693, 'Danger!'), 758: (726, 558, 'f3'), 833: (1146, 770, 'f5'), 843: (680, 474, 'f2'), 846: (884, 544, 'Danger!'), 863: (742, 485, 'f3'), 871: (1422, 501, 'Danger!'), 872: (1166, 456, 'Danger!'), 874: (1706, 550, 'Danger!'), 875: (482, 820, 'Danger!'), 876: (812, 563, 'Danger!'), 877: (1225, 460, 'Danger!'), 878: (482, 822, 'Danger!'), 879: (1021, 863, 'f4'), 880: (1592, 532, 'Danger!'), 881: (858, 468, 'f5'), 882: (919, 475, 'f5')}\n",
      "CUR FRAME LEFT PTS\n",
      "[(1706, 550, 'Danger!'), (482, 820, 'Danger!'), (812, 563, 'Danger!'), (1225, 460, 'Danger!'), (482, 822, 'Danger!'), (1021, 863, 'Danger!'), (1592, 532, 'Danger!'), (858, 468, 'Danger!'), (919, 475, 'Danger!')]\n"
     ]
    },
    {
     "name": "stderr",
     "output_type": "stream",
     "text": [
      "0: 384x640 18 cars, 1 bus, 2 trucks, 128.7ms\n",
      "Speed: 0.0ms pre-process, 128.7ms inference, 0.0ms postprocess per image at shape (1, 3, 640, 640)\n",
      "\n",
      "0: 384x640 19 cars, 2 trucks, 134.6ms\n",
      "Speed: 0.0ms pre-process, 134.6ms inference, 0.0ms postprocess per image at shape (1, 3, 640, 640)\n",
      "\n"
     ]
    },
    {
     "name": "stdout",
     "output_type": "stream",
     "text": [
      "Tracking objects\n",
      "{522: (1035, 624, 'f5'), 581: (829, 815, 'Danger!'), 651: (966, 528, 'Danger!'), 664: (927, 666, 'f4'), 666: (645, 547, 'f2'), 670: (686, 699, 'Danger!'), 758: (728, 560, 'f3'), 833: (1153, 773, 'f5'), 843: (681, 477, 'f2'), 846: (888, 546, 'Danger!'), 863: (744, 484, 'f3'), 871: (1406, 496, 'Danger!'), 872: (1164, 455, 'Danger!'), 874: (1696, 547, 'Danger!'), 875: (481, 831, 'Danger!'), 876: (813, 566, 'Danger!'), 878: (481, 831, 'Danger!'), 879: (1023, 873, 'f4'), 882: (922, 476, 'f5')}\n",
      "CUR FRAME LEFT PTS\n",
      "[]\n",
      "Tracking objects\n",
      "{522: (1040, 629, 'f5'), 581: (832, 826, 'Danger!'), 651: (970, 529, 'Danger!'), 664: (931, 671, 'f4'), 666: (646, 550, 'f2'), 670: (687, 708, 'Danger!'), 758: (730, 563, 'f3'), 833: (1159, 780, 'f5'), 843: (682, 481, 'f2'), 846: (890, 548, 'Danger!'), 863: (746, 488, 'f3'), 871: (1402, 493, 'Danger!'), 872: (1163, 454, 'Danger!'), 874: (1687, 547, 'Danger!'), 875: (480, 841, 'Danger!'), 876: (816, 567, 'Danger!'), 878: (480, 841, 'Danger!'), 879: (1024, 884, 'f4'), 882: (925, 478, 'Danger!')}\n",
      "CUR FRAME LEFT PTS\n",
      "[]\n"
     ]
    },
    {
     "name": "stderr",
     "output_type": "stream",
     "text": [
      "0: 384x640 19 cars, 1 bus, 1 truck, 112.6ms\n",
      "Speed: 1.0ms pre-process, 112.6ms inference, 14.9ms postprocess per image at shape (1, 3, 640, 640)\n"
     ]
    },
    {
     "name": "stdout",
     "output_type": "stream",
     "text": [
      "Tracking objects\n",
      "{522: (1042, 632, 'f5'), 581: (836, 837, 'Danger!'), 651: (972, 529, 'Danger!'), 664: (935, 675, 'f4'), 666: (646, 551, 'f2'), 670: (687, 714, 'Danger!'), 758: (732, 570, 'f3'), 833: (1166, 790, 'f5'), 843: (687, 480, 'f2'), 846: (893, 551, 'Danger!'), 863: (747, 490, 'f3'), 871: (1391, 493, 'Danger!'), 872: (1162, 454, 'Danger!'), 874: (1678, 543, 'Danger!'), 875: (479, 852, 'Danger!'), 876: (821, 571, 'Danger!'), 878: (479, 852, 'Danger!'), 879: (1031, 894, 'f4'), 882: (928, 478, 'Danger!'), 883: (812, 508, 'f4')}\n",
      "CUR FRAME LEFT PTS\n",
      "[(812, 508, 'Danger!')]\n"
     ]
    }
   ],
   "source": [
    "# from ultralytics import YOLO\n",
    "# from IPython.display import display, Image\n",
    "# import cv2\n",
    "# import numpy as np\n",
    "# # from object_detection import ObjectDetection\n",
    "# import math\n",
    "# from sort import *\n",
    "\n",
    "def dist(P, A, B):\n",
    "    area = abs ( (A[0] - P[0]) * (B[1] - P[1]) - (A[1] - P[1]) * (B[0] - P[0]) )\n",
    "    AB = ( (A[0] - B[0]) ** 2 + (A[1] - B[1]) ** 2 ) ** 0.5\n",
    "    return ( area / AB )\n",
    "\n",
    "f1_A=(388,821)\n",
    "f1_B=(661,404) #distance 40\n",
    "\n",
    "f2_A=(582, 876) #id 194\n",
    "f2_B=(703, 415) #id 91 distance 30\n",
    "\n",
    "f3_A=(782, 865) #id 60\n",
    "f3_B=(743, 417) #id 30  distance 30\n",
    "\n",
    "f4_A=(999, 866) #id 105\n",
    "f4_B=(789, 417)  #id 85  distacne 30\n",
    "\n",
    "f5_A=(1183, 850) #id 4\n",
    "f5_B=(846, 429) #id 29 distance 30\n",
    "\n",
    "# Initialize Object Detection\n",
    "# od = ObjectDetection()\n",
    "model = YOLO('yolov8n.pt')\n",
    "cap = cv2.VideoCapture(\"los_angeles.mp4\")\n",
    "\n",
    "frameWidth = int(cap.get(cv2.CAP_PROP_FRAME_WIDTH))\t# 영상의 넓이(가로) 프레임\n",
    "frameHeight = int(cap.get(cv2.CAP_PROP_FRAME_HEIGHT))\t# 영상의 높이(세로) 프레임\n",
    "frame_size = (frameWidth, frameHeight)\n",
    "\n",
    "print(frame_size)\n",
    "# Initialize count\n",
    "count = 0\n",
    "center_points_prev_frame = []\n",
    "\n",
    "danger_car_id=[]\n",
    "\n",
    "tracking_objects = {}\n",
    "track_id = 0\n",
    "\n",
    "tracker = Sort(max_age=20, min_hits=3, iou_threshold=0.3)\n",
    "\n",
    "while True:\n",
    "    retval, frame = cap.read()\n",
    "    count += 1\n",
    "    if not(retval):\n",
    "        break\n",
    "\n",
    "    # Point current frame\n",
    "    center_points_cur_frame = []\n",
    "\n",
    "    # Detect objects on frame\n",
    "    results = model(frame,stream=True)\n",
    "    for r in results:\n",
    "        boxes = r.boxes\n",
    "        for box in boxes:\n",
    "            x1, y1, x2, y2 = box.xyxy[0]\n",
    "            x1, y1, x2, y2 = int(x1), int(y1), int(x2), int(y2)\n",
    "            cx = int((x1+x2) / 2)\n",
    "            cy = int((y1+y2) / 2)\n",
    "            center_points_cur_frame.append((cx, cy, 'Danger!'))\n",
    "            #print(\"FRAME N°\", count, \" \", x, y, w, h)\n",
    "\n",
    "            # cv2.circle(frame, (cx, cy), 5, (0, 0, 255), -1)\n",
    "            cv2.rectangle(frame, (x1, y1), (x2,y2), (0, 255, 0), 2)\n",
    "\n",
    "    # Only at the beginning we compare previous and current frame\n",
    "    if count <= 2:\n",
    "        for pt in center_points_cur_frame:\n",
    "            for pt2 in center_points_prev_frame:\n",
    "                distance = math.hypot(pt2[0] - pt[0], pt2[1] - pt[1])\n",
    "\n",
    "                if distance < 20:\n",
    "                    tracking_objects[track_id] = pt\n",
    "                    track_id += 1\n",
    "    else:\n",
    "\n",
    "        tracking_objects_copy = tracking_objects.copy()\n",
    "        center_points_cur_frame_copy = center_points_cur_frame.copy()\n",
    "\n",
    "        for object_id, pt2 in tracking_objects_copy.items():\n",
    "            object_exists = False\n",
    "            \n",
    "            for pt in center_points_cur_frame_copy:\n",
    "                distance = math.hypot(pt2[0] - pt[0], pt2[1] - pt[1])\n",
    "\n",
    "                # Update IDs position\n",
    "                if distance < 20:\n",
    "                    tracking_objects[object_id] = pt\n",
    "                    object_exists = True\n",
    "                    if pt in center_points_cur_frame:\n",
    "                        center_points_cur_frame.remove(pt)\n",
    "                    continue\n",
    "\n",
    "            # Remove IDs lost\n",
    "            if not object_exists:\n",
    "                tracking_objects.pop(object_id)\n",
    "\n",
    "        # Add new IDs found\n",
    "        for pt in center_points_cur_frame:\n",
    "            tracking_objects[track_id] = pt\n",
    "            track_id += 1\n",
    "\n",
    "                \n",
    "    for object_id, pt in tracking_objects.items():\n",
    "        if dist((pt[0],pt[1]), f1_A, f1_B) < 30:\n",
    "            tracking_objects[object_id]=(pt[0],pt[1],'f1')\n",
    "        \n",
    "        if dist((pt[0],pt[1]), f2_A, f2_B) < 30:\n",
    "            tracking_objects[object_id]=(pt[0],pt[1],'f2')\n",
    "            \n",
    "        if dist((pt[0],pt[1]), f3_A, f3_B) < 30:\n",
    "            tracking_objects[object_id]=(pt[0],pt[1],'f3')\n",
    "        \n",
    "        if dist((pt[0],pt[1]), f4_A, f4_B) < 30:\n",
    "            tracking_objects[object_id]=(pt[0],pt[1],'f4')\n",
    "        \n",
    "        if dist((pt[0],pt[1]), f5_A, f5_B) < 30:\n",
    "            tracking_objects[object_id]=(pt[0],pt[1],'f5')\n",
    "            \n",
    "            \n",
    "    for object_id, pt in tracking_objects.items():\n",
    "        tmp= pt[2]+'['+str(object_id)+']'\n",
    "        cv2.circle(frame, (pt[0],pt[1]), 5, (0, 0, 255), -1)\n",
    "        cv2.putText(frame, tmp, (pt[0], pt[1] - 7), 0, 0.8, (0, 0, 255), 2)\n",
    "        \n",
    "        if (pt[2]=='Danger!'):\n",
    "            danger_car_id.append(object_id)\n",
    "            \n",
    "                \n",
    "    \n",
    "    \n",
    "\n",
    "    print(\"Tracking objects\")\n",
    "    print(tracking_objects)\n",
    "\n",
    "\n",
    "    print(\"CUR FRAME LEFT PTS\")\n",
    "    print(center_points_cur_frame)\n",
    "\n",
    "#     cv2.circle(frame, (1,1), 5, (0, 0, 255), -1)\n",
    "\n",
    "    cv2.imshow(\"Frame\", frame)\n",
    "\n",
    "    # Make a copy of the points\n",
    "    center_points_prev_frame = center_points_cur_frame.copy()\n",
    "\n",
    "    key = cv2.waitKey(0)\n",
    "    if key == 27:\n",
    "        break\n",
    "\n",
    "cap.release()\n",
    "cv2.destroyAllWindows()\n"
   ]
  },
  {
   "cell_type": "code",
   "execution_count": 2,
   "id": "5c09c5a3",
   "metadata": {},
   "outputs": [],
   "source": [
    "from ultralytics import YOLO\n",
    "from ultralytics import YOLO\n",
    "from IPython.display import display, Image\n",
    "import cv2\n",
    "import numpy as np\n",
    "# from object_detection import ObjectDetection\n",
    "import math\n",
    "# from sort import *"
   ]
  },
  {
   "cell_type": "code",
   "execution_count": 3,
   "id": "c81e0af4",
   "metadata": {},
   "outputs": [],
   "source": [
    "from sort import *\n",
    " "
   ]
  },
  {
   "cell_type": "code",
   "execution_count": 8,
   "id": "c7fabc6b",
   "metadata": {},
   "outputs": [
    {
     "name": "stdout",
     "output_type": "stream",
     "text": [
      "(1920, 1080)\n"
     ]
    },
    {
     "name": "stderr",
     "output_type": "stream",
     "text": [
      "Ultralytics YOLOv8.0.26  Python-3.10.9 torch-1.11.0+cpu CPU\n",
      "YOLOv8n summary (fused): 168 layers, 3151904 parameters, 0 gradients, 8.7 GFLOPs\n",
      "\n",
      "0: 384x640 16 cars, 392.4ms\n",
      "Speed: 9.2ms pre-process, 392.4ms inference, 4.0ms postprocess per image at shape (1, 3, 640, 640)\n"
     ]
    },
    {
     "name": "stdout",
     "output_type": "stream",
     "text": [
      "Tracking objects\n",
      "{}\n",
      "CUR FRAME LEFT PTS\n",
      "[(931, 536, 'Danger!'), (1021, 651, 'Danger!'), (763, 650, 'Danger!'), (1336, 979, 'Danger!'), (613, 477, 'Danger!'), (688, 454, 'Danger!'), (1271, 435, 'Danger!'), (440, 741, 'Danger!'), (569, 892, 'Danger!'), (882, 476, 'Danger!'), (943, 461, 'Danger!'), (859, 566, 'Danger!'), (754, 462, 'Danger!'), (1761, 636, 'Danger!'), (1116, 432, 'Danger!'), (844, 423, 'Danger!')]\n"
     ]
    },
    {
     "name": "stderr",
     "output_type": "stream",
     "text": [
      "\n",
      "0: 384x640 17 cars, 174.7ms\n",
      "Speed: 5.0ms pre-process, 174.7ms inference, 10.2ms postprocess per image at shape (1, 3, 640, 640)\n",
      "\n",
      "0: 384x640 16 cars, 108.5ms\n",
      "Speed: 0.0ms pre-process, 108.5ms inference, 0.0ms postprocess per image at shape (1, 3, 640, 640)\n"
     ]
    },
    {
     "name": "stdout",
     "output_type": "stream",
     "text": [
      "Tracking objects\n",
      "{}\n",
      "CUR FRAME LEFT PTS\n",
      "[(932, 537, 'Danger!'), (763, 654, 'Danger!'), (1021, 654, 'Danger!'), (612, 478, 'Danger!'), (1345, 983, 'Danger!'), (687, 455, 'Danger!'), (944, 460, 'Danger!'), (884, 475, 'Danger!'), (435, 749, 'Danger!'), (860, 568, 'Danger!'), (567, 906, 'Danger!'), (1265, 434, 'Danger!'), (755, 463, 'Danger!'), (1770, 631, 'Danger!'), (1730, 625, 'Danger!'), (1113, 432, 'Danger!'), (845, 424, 'Danger!')]\n",
      "Tracking objects\n",
      "{}\n",
      "CUR FRAME LEFT PTS\n",
      "[(932, 538, 'Danger!'), (687, 457, 'Danger!'), (946, 463, 'Danger!'), (764, 660, 'Danger!'), (612, 479, 'Danger!'), (563, 920, 'Danger!'), (1027, 656, 'Danger!'), (1354, 988, 'Danger!'), (1261, 433, 'Danger!'), (431, 756, 'Danger!'), (885, 476, 'Danger!'), (862, 572, 'Danger!'), (1110, 431, 'Danger!'), (1741, 623, 'Danger!'), (755, 467, 'Danger!'), (1413, 463, 'Danger!')]\n"
     ]
    },
    {
     "name": "stderr",
     "output_type": "stream",
     "text": [
      "\n",
      "0: 384x640 18 cars, 1 truck, 135.1ms\n",
      "Speed: 4.6ms pre-process, 135.1ms inference, 0.0ms postprocess per image at shape (1, 3, 640, 640)\n",
      "\n",
      "0: 384x640 16 cars, 115.3ms\n",
      "Speed: 5.0ms pre-process, 115.3ms inference, 7.5ms postprocess per image at shape (1, 3, 640, 640)\n",
      "\n"
     ]
    },
    {
     "name": "stdout",
     "output_type": "stream",
     "text": [
      "Tracking objects\n",
      "{}\n",
      "CUR FRAME LEFT PTS\n",
      "[(610, 479, 'Danger!'), (933, 539, 'Danger!'), (687, 457, 'Danger!'), (763, 665, 'Danger!'), (1027, 657, 'Danger!'), (558, 936, 'Danger!'), (426, 764, 'Danger!'), (1256, 433, 'Danger!'), (862, 575, 'Danger!'), (948, 463, 'Danger!'), (886, 477, 'Danger!'), (755, 468, 'Danger!'), (1364, 993, 'Danger!'), (1847, 577, 'Danger!'), (1107, 428, 'Danger!'), (1680, 609, 'Danger!'), (1405, 459, 'Danger!'), (1693, 613, 'Danger!'), (1846, 576, 'Danger!')]\n",
      "Tracking objects\n",
      "{}\n",
      "CUR FRAME LEFT PTS\n",
      "[(610, 482, 'Danger!'), (935, 542, 'Danger!'), (549, 964, 'Danger!'), (765, 676, 'Danger!'), (688, 460, 'Danger!'), (755, 470, 'Danger!'), (1250, 432, 'Danger!'), (1893, 616, 'Danger!'), (414, 779, 'Danger!'), (1377, 1002, 'Danger!'), (867, 581, 'Danger!'), (886, 477, 'Danger!'), (1669, 602, 'Danger!'), (1034, 663, 'Danger!'), (953, 466, 'Danger!'), (1389, 457, 'Danger!')]\n"
     ]
    },
    {
     "name": "stderr",
     "output_type": "stream",
     "text": [
      "0: 384x640 19 cars, 1 bus, 115.1ms\n",
      "Speed: 1.0ms pre-process, 115.1ms inference, 8.1ms postprocess per image at shape (1, 3, 640, 640)\n",
      "\n",
      "0: 384x640 17 cars, 1 truck, 100.8ms\n",
      "Speed: 2.0ms pre-process, 100.8ms inference, 0.0ms postprocess per image at shape (1, 3, 640, 640)\n",
      "\n"
     ]
    },
    {
     "name": "stdout",
     "output_type": "stream",
     "text": [
      "Tracking objects\n",
      "{}\n",
      "CUR FRAME LEFT PTS\n",
      "[(608, 483, 'Danger!'), (935, 542, 'Danger!'), (766, 683, 'Danger!'), (755, 471, 'Danger!'), (686, 460, 'Danger!'), (547, 973, 'Danger!'), (868, 585, 'Danger!'), (1247, 430, 'Danger!'), (889, 479, 'Danger!'), (1037, 668, 'Danger!'), (411, 789, 'Danger!'), (960, 470, 'Danger!'), (1386, 1007, 'Danger!'), (1648, 591, 'Danger!'), (547, 972, 'Danger!'), (1383, 456, 'Danger!'), (955, 467, 'Danger!'), (1879, 611, 'Danger!'), (1398, 457, 'Danger!'), (1091, 423, 'Danger!')]\n",
      "Tracking objects\n",
      "{}\n",
      "CUR FRAME LEFT PTS\n",
      "[(607, 485, 'Danger!'), (765, 688, 'Danger!'), (687, 462, 'Danger!'), (543, 979, 'Danger!'), (868, 587, 'Danger!'), (936, 544, 'Danger!'), (756, 472, 'Danger!'), (959, 472, 'Danger!'), (1038, 671, 'Danger!'), (404, 796, 'Danger!'), (890, 481, 'Danger!'), (1620, 582, 'Danger!'), (848, 427, 'Danger!'), (1240, 428, 'Danger!'), (1399, 1013, 'Danger!'), (1593, 577, 'Danger!'), (1379, 455, 'Danger!'), (1772, 556, 'Danger!')]\n"
     ]
    },
    {
     "name": "stderr",
     "output_type": "stream",
     "text": [
      "0: 384x640 17 cars, 1 truck, 93.9ms\n",
      "Speed: 0.0ms pre-process, 93.9ms inference, 0.0ms postprocess per image at shape (1, 3, 640, 640)\n",
      "\n",
      "0: 384x640 19 cars, 1 truck, 115.6ms\n"
     ]
    },
    {
     "name": "stdout",
     "output_type": "stream",
     "text": [
      "Tracking objects\n",
      "{}\n",
      "CUR FRAME LEFT PTS\n",
      "[(608, 485, 'Danger!'), (964, 475, 'Danger!'), (937, 547, 'Danger!'), (871, 592, 'Danger!'), (889, 480, 'Danger!'), (688, 463, 'Danger!'), (768, 693, 'Danger!'), (757, 474, 'Danger!'), (1040, 673, 'Danger!'), (1606, 581, 'Danger!'), (402, 804, 'Danger!'), (543, 970, 'Danger!'), (1236, 427, 'Danger!'), (850, 429, 'Danger!'), (1755, 549, 'Danger!'), (1406, 1019, 'Danger!'), (1561, 569, 'Danger!'), (1376, 452, 'Danger!')]\n"
     ]
    },
    {
     "name": "stderr",
     "output_type": "stream",
     "text": [
      "Speed: 0.0ms pre-process, 115.6ms inference, 0.0ms postprocess per image at shape (1, 3, 640, 640)\n",
      "\n",
      "0: 384x640 17 cars, 1 truck, 129.9ms\n",
      "Speed: 0.0ms pre-process, 129.9ms inference, 0.0ms postprocess per image at shape (1, 3, 640, 640)\n",
      "\n"
     ]
    },
    {
     "name": "stdout",
     "output_type": "stream",
     "text": [
      "Tracking objects\n",
      "{}\n",
      "CUR FRAME LEFT PTS\n",
      "[(607, 488, 'Danger!'), (966, 478, 'Danger!'), (1043, 679, 'Danger!'), (891, 482, 'Danger!'), (688, 464, 'Danger!'), (538, 996, 'Danger!'), (756, 476, 'Danger!'), (942, 550, 'Danger!'), (873, 597, 'Danger!'), (769, 710, 'Danger!'), (387, 822, 'Danger!'), (1229, 425, 'Danger!'), (1889, 603, 'Danger!'), (387, 823, 'Danger!'), (1419, 1029, 'Danger!'), (850, 431, 'Danger!'), (1571, 568, 'Danger!'), (1700, 540, 'Danger!'), (1362, 446, 'Danger!'), (1811, 590, 'Danger!')]\n",
      "Tracking objects\n",
      "{}\n",
      "CUR FRAME LEFT PTS\n",
      "[(970, 479, 'Danger!'), (606, 489, 'Danger!'), (1049, 681, 'Danger!'), (757, 477, 'Danger!'), (942, 553, 'Danger!'), (770, 714, 'Danger!'), (891, 483, 'Danger!'), (876, 602, 'Danger!'), (688, 465, 'Danger!'), (534, 1007, 'Danger!'), (1546, 559, 'Danger!'), (1850, 599, 'Danger!'), (383, 832, 'Danger!'), (849, 431, 'Danger!'), (1524, 556, 'Danger!'), (1225, 423, 'Danger!'), (1356, 446, 'Danger!'), (1424, 1037, 'Danger!')]\n"
     ]
    },
    {
     "name": "stderr",
     "output_type": "stream",
     "text": [
      "0: 384x640 15 cars, 1 truck, 140.3ms\n",
      "Speed: 0.0ms pre-process, 140.3ms inference, 0.0ms postprocess per image at shape (1, 3, 640, 640)\n",
      "\n",
      "0: 384x640 18 cars, 1 truck, 86.6ms\n",
      "Speed: 8.1ms pre-process, 86.6ms inference, 1.6ms postprocess per image at shape (1, 3, 640, 640)\n",
      "\n"
     ]
    },
    {
     "name": "stdout",
     "output_type": "stream",
     "text": [
      "Tracking objects\n",
      "{}\n",
      "CUR FRAME LEFT PTS\n",
      "[(605, 491, 'Danger!'), (973, 484, 'Danger!'), (943, 552, 'Danger!'), (1049, 688, 'Danger!'), (757, 478, 'Danger!'), (890, 483, 'Danger!'), (1535, 556, 'Danger!'), (771, 725, 'Danger!'), (533, 1014, 'Danger!'), (878, 606, 'Danger!'), (687, 465, 'Danger!'), (378, 841, 'Danger!'), (851, 431, 'Danger!'), (1830, 592, 'Danger!'), (1221, 422, 'Danger!'), (1430, 1043, 'Danger!')]\n",
      "Tracking objects\n",
      "{}\n",
      "CUR FRAME LEFT PTS\n",
      "[(604, 492, 'Danger!'), (758, 479, 'Danger!'), (532, 1021, 'Danger!'), (945, 554, 'Danger!'), (975, 485, 'Danger!'), (891, 484, 'Danger!'), (771, 731, 'Danger!'), (1051, 690, 'Danger!'), (686, 469, 'Danger!'), (879, 607, 'Danger!'), (1804, 583, 'Danger!'), (371, 852, 'Danger!'), (851, 432, 'Danger!'), (1522, 548, 'Danger!'), (1214, 421, 'Danger!'), (1488, 545, 'Danger!'), (801, 448, 'Danger!'), (369, 852, 'Danger!'), (1792, 583, 'Danger!')]\n"
     ]
    },
    {
     "name": "stderr",
     "output_type": "stream",
     "text": [
      "0: 384x640 18 cars, 1 truck, 99.7ms\n",
      "Speed: 0.0ms pre-process, 99.7ms inference, 0.1ms postprocess per image at shape (1, 3, 640, 640)\n",
      "\n",
      "0: 384x640 19 cars, 84.8ms\n",
      "Speed: 0.0ms pre-process, 84.8ms inference, 3.6ms postprocess per image at shape (1, 3, 640, 640)\n"
     ]
    },
    {
     "name": "stdout",
     "output_type": "stream",
     "text": [
      "Tracking objects\n",
      "{}\n",
      "CUR FRAME LEFT PTS\n",
      "[(603, 495, 'Danger!'), (757, 481, 'Danger!'), (892, 484, 'Danger!'), (946, 555, 'Danger!'), (773, 748, 'Danger!'), (527, 1040, 'Danger!'), (355, 873, 'Danger!'), (1062, 698, 'Danger!'), (687, 466, 'Danger!'), (882, 616, 'Danger!'), (1490, 540, 'Danger!'), (1065, 412, 'Danger!'), (981, 485, 'Danger!'), (353, 874, 'Danger!'), (852, 434, 'Danger!'), (1636, 518, 'Danger!'), (986, 491, 'Danger!'), (636, 448, 'Danger!'), (1208, 420, 'Danger!')]\n",
      "Tracking objects\n",
      "{}\n",
      "CUR FRAME LEFT PTS\n",
      "[(601, 496, 'Danger!'), (947, 554, 'Danger!'), (756, 483, 'Danger!'), (773, 752, 'Danger!'), (892, 485, 'Danger!'), (1067, 700, 'Danger!'), (348, 884, 'Danger!'), (988, 492, 'Danger!'), (684, 469, 'Danger!'), (884, 618, 'Danger!'), (526, 1047, 'Danger!'), (1449, 530, 'Danger!'), (1471, 533, 'Danger!'), (1062, 412, 'Danger!'), (801, 449, 'Danger!'), (984, 488, 'Danger!'), (1206, 418, 'Danger!'), (853, 436, 'Danger!'), (1737, 566, 'Danger!')]\n"
     ]
    },
    {
     "name": "stderr",
     "output_type": "stream",
     "text": [
      "\n",
      "0: 384x640 17 cars, 1 truck, 107.7ms\n",
      "Speed: 1.8ms pre-process, 107.7ms inference, 1.0ms postprocess per image at shape (1, 3, 640, 640)\n",
      "\n",
      "0: 384x640 17 cars, 99.9ms\n",
      "Speed: 0.0ms pre-process, 99.9ms inference, 7.9ms postprocess per image at shape (1, 3, 640, 640)\n"
     ]
    },
    {
     "name": "stdout",
     "output_type": "stream",
     "text": [
      "Tracking objects\n",
      "{}\n",
      "CUR FRAME LEFT PTS\n",
      "[(950, 556, 'Danger!'), (602, 497, 'Danger!'), (773, 761, 'Danger!'), (1065, 703, 'Danger!'), (893, 486, 'Danger!'), (757, 485, 'Danger!'), (990, 494, 'Danger!'), (341, 895, 'Danger!'), (524, 1059, 'Danger!'), (683, 471, 'Danger!'), (802, 451, 'Danger!'), (885, 620, 'Danger!'), (1461, 529, 'Danger!'), (341, 896, 'Danger!'), (1440, 529, 'Danger!'), (853, 434, 'Danger!'), (632, 449, 'Danger!'), (1203, 418, 'Danger!')]\n",
      "Tracking objects\n",
      "{}\n",
      "CUR FRAME LEFT PTS\n",
      "[(949, 559, 'Danger!'), (599, 499, 'Danger!'), (776, 772, 'Danger!'), (684, 472, 'Danger!'), (992, 497, 'Danger!'), (893, 487, 'Danger!'), (757, 484, 'Danger!'), (333, 907, 'Danger!'), (1448, 527, 'Danger!'), (1069, 706, 'Danger!'), (854, 436, 'Danger!'), (803, 451, 'Danger!'), (887, 628, 'Danger!'), (1199, 416, 'Danger!'), (1690, 555, 'Danger!'), (1699, 555, 'Danger!'), (633, 450, 'Danger!')]\n"
     ]
    },
    {
     "name": "stderr",
     "output_type": "stream",
     "text": [
      "\n",
      "0: 384x640 14 cars, 125.4ms\n",
      "Speed: 0.0ms pre-process, 125.4ms inference, 2.5ms postprocess per image at shape (1, 3, 640, 640)\n",
      "\n",
      "0: 384x640 15 cars, 131.8ms\n",
      "Speed: 0.0ms pre-process, 131.8ms inference, 0.0ms postprocess per image at shape (1, 3, 640, 640)\n"
     ]
    },
    {
     "name": "stdout",
     "output_type": "stream",
     "text": [
      "Tracking objects\n",
      "{}\n",
      "CUR FRAME LEFT PTS\n",
      "[(599, 503, 'Danger!'), (952, 561, 'Danger!'), (683, 476, 'Danger!'), (1073, 713, 'Danger!'), (893, 635, 'Danger!'), (894, 488, 'Danger!'), (314, 935, 'Danger!'), (776, 787, 'Danger!'), (998, 502, 'Danger!'), (1404, 516, 'Danger!'), (758, 487, 'Danger!'), (804, 455, 'Danger!'), (1424, 518, 'Danger!'), (856, 437, 'Danger!')]\n",
      "Tracking objects\n",
      "{}\n",
      "CUR FRAME LEFT PTS\n",
      "[(953, 563, 'Danger!'), (684, 478, 'Danger!'), (597, 504, 'Danger!'), (894, 637, 'Danger!'), (1076, 719, 'Danger!'), (306, 946, 'Danger!'), (895, 490, 'Danger!'), (1002, 503, 'Danger!'), (758, 487, 'Danger!'), (778, 799, 'Danger!'), (1187, 414, 'Danger!'), (1397, 512, 'Danger!'), (804, 455, 'Danger!'), (632, 454, 'Danger!'), (1044, 399, 'Danger!')]\n"
     ]
    },
    {
     "name": "stderr",
     "output_type": "stream",
     "text": [
      "\n",
      "0: 384x640 16 cars, 1 truck, 121.6ms\n",
      "Speed: 2.0ms pre-process, 121.6ms inference, 0.0ms postprocess per image at shape (1, 3, 640, 640)\n",
      "\n"
     ]
    },
    {
     "name": "stdout",
     "output_type": "stream",
     "text": [
      "Tracking objects\n",
      "{}\n",
      "CUR FRAME LEFT PTS\n",
      "[(954, 564, 'Danger!'), (683, 479, 'Danger!'), (595, 504, 'Danger!'), (895, 490, 'Danger!'), (1078, 721, 'Danger!'), (896, 640, 'Danger!'), (299, 961, 'Danger!'), (1005, 507, 'Danger!'), (759, 488, 'Danger!'), (1388, 509, 'Danger!'), (777, 809, 'Danger!'), (1184, 414, 'Danger!'), (632, 454, 'Danger!'), (1043, 400, 'Danger!'), (1380, 506, 'Danger!'), (857, 439, 'Danger!'), (300, 960, 'Danger!')]\n"
     ]
    },
    {
     "name": "stderr",
     "output_type": "stream",
     "text": [
      "0: 384x640 16 cars, 119.9ms\n",
      "Speed: 9.6ms pre-process, 119.9ms inference, 6.9ms postprocess per image at shape (1, 3, 640, 640)\n",
      "\n",
      "0: 384x640 14 cars, 1 truck, 124.4ms\n"
     ]
    },
    {
     "name": "stdout",
     "output_type": "stream",
     "text": [
      "Tracking objects\n",
      "{}\n",
      "CUR FRAME LEFT PTS\n",
      "[(683, 480, 'Danger!'), (955, 565, 'Danger!'), (594, 507, 'Danger!'), (897, 491, 'Danger!'), (1008, 509, 'Danger!'), (779, 819, 'Danger!'), (897, 644, 'Danger!'), (285, 970, 'Danger!'), (759, 489, 'Danger!'), (1375, 504, 'Danger!'), (1082, 725, 'Danger!'), (630, 457, 'Danger!'), (1184, 413, 'Danger!'), (1040, 400, 'Danger!'), (858, 438, 'Danger!'), (805, 458, 'Danger!')]\n"
     ]
    },
    {
     "name": "stderr",
     "output_type": "stream",
     "text": [
      "Speed: 0.0ms pre-process, 124.4ms inference, 0.0ms postprocess per image at shape (1, 3, 640, 640)\n",
      "\n",
      "0: 384x640 16 cars, 1 truck, 112.0ms\n",
      "Speed: 5.3ms pre-process, 112.0ms inference, 0.0ms postprocess per image at shape (1, 3, 640, 640)\n"
     ]
    },
    {
     "name": "stdout",
     "output_type": "stream",
     "text": [
      "Tracking objects\n",
      "{}\n",
      "CUR FRAME LEFT PTS\n",
      "[(682, 482, 'Danger!'), (269, 983, 'Danger!'), (956, 568, 'Danger!'), (593, 510, 'Danger!'), (1014, 515, 'Danger!'), (1091, 733, 'Danger!'), (898, 495, 'Danger!'), (759, 494, 'Danger!'), (900, 658, 'Danger!'), (630, 459, 'Danger!'), (782, 842, 'Danger!'), (1178, 412, 'Danger!'), (1365, 499, 'Danger!'), (781, 841, 'Danger!'), (1542, 504, 'Danger!')]\n",
      "Tracking objects\n",
      "{}\n",
      "CUR FRAME LEFT PTS\n",
      "[(681, 486, 'Danger!'), (261, 987, 'Danger!'), (592, 512, 'Danger!'), (957, 570, 'Danger!'), (1019, 518, 'Danger!'), (899, 495, 'Danger!'), (759, 494, 'Danger!'), (1091, 738, 'Danger!'), (629, 461, 'Danger!'), (903, 662, 'Danger!'), (783, 862, 'Danger!'), (1356, 494, 'Danger!'), (1528, 501, 'Danger!'), (782, 854, 'Danger!'), (808, 459, 'Danger!'), (1173, 411, 'Danger!'), (859, 441, 'Danger!')]\n"
     ]
    },
    {
     "name": "stderr",
     "output_type": "stream",
     "text": [
      "\n",
      "0: 384x640 16 cars, 143.3ms\n",
      "Speed: 0.0ms pre-process, 143.3ms inference, 2.5ms postprocess per image at shape (1, 3, 640, 640)\n",
      "\n",
      "0: 384x640 16 cars, 1 truck, 108.9ms\n",
      "Speed: 2.8ms pre-process, 108.9ms inference, 0.0ms postprocess per image at shape (1, 3, 640, 640)\n"
     ]
    },
    {
     "name": "stdout",
     "output_type": "stream",
     "text": [
      "Tracking objects\n",
      "{}\n",
      "CUR FRAME LEFT PTS\n",
      "[(681, 486, 'Danger!'), (256, 994, 'Danger!'), (591, 514, 'Danger!'), (960, 570, 'Danger!'), (760, 496, 'Danger!'), (900, 496, 'Danger!'), (1024, 519, 'Danger!'), (1095, 741, 'Danger!'), (1347, 492, 'Danger!'), (907, 667, 'Danger!'), (629, 461, 'Danger!'), (783, 875, 'Danger!'), (1339, 492, 'Danger!'), (1517, 499, 'Danger!'), (860, 441, 'Danger!'), (1521, 491, 'Danger!')]\n",
      "Tracking objects\n",
      "{}\n",
      "CUR FRAME LEFT PTS\n",
      "[(681, 489, 'Danger!'), (248, 1002, 'Danger!'), (900, 496, 'Danger!'), (759, 497, 'Danger!'), (629, 462, 'Danger!'), (590, 515, 'Danger!'), (1027, 522, 'Danger!'), (963, 572, 'Danger!'), (1099, 747, 'Danger!'), (1506, 493, 'Danger!'), (908, 672, 'Danger!'), (784, 881, 'Danger!'), (783, 883, 'Danger!'), (861, 441, 'Danger!'), (1330, 488, 'Danger!'), (809, 462, 'Danger!'), (1167, 409, 'Danger!')]\n"
     ]
    },
    {
     "name": "stderr",
     "output_type": "stream",
     "text": [
      "\n",
      "0: 384x640 15 cars, 1 truck, 128.2ms\n",
      "Speed: 4.6ms pre-process, 128.2ms inference, 0.0ms postprocess per image at shape (1, 3, 640, 640)\n",
      "\n",
      "0: 384x640 15 cars, 1 truck, 120.3ms\n"
     ]
    },
    {
     "name": "stdout",
     "output_type": "stream",
     "text": [
      "Tracking objects\n",
      "{}\n",
      "CUR FRAME LEFT PTS\n",
      "[(680, 490, 'Danger!'), (1036, 530, 'Danger!'), (759, 501, 'Danger!'), (965, 575, 'Danger!'), (628, 464, 'Danger!'), (900, 497, 'Danger!'), (1106, 756, 'Danger!'), (585, 525, 'Danger!'), (912, 681, 'Danger!'), (236, 1018, 'Danger!'), (787, 909, 'Danger!'), (1165, 405, 'Danger!'), (787, 909, 'Danger!'), (861, 441, 'Danger!'), (1489, 488, 'Danger!'), (1309, 481, 'Danger!')]\n"
     ]
    },
    {
     "name": "stderr",
     "output_type": "stream",
     "text": [
      "Speed: 1.2ms pre-process, 120.3ms inference, 0.0ms postprocess per image at shape (1, 3, 640, 640)\n",
      "\n",
      "0: 384x640 18 cars, 1 truck, 93.4ms\n",
      "Speed: 0.0ms pre-process, 93.4ms inference, 0.0ms postprocess per image at shape (1, 3, 640, 640)\n"
     ]
    },
    {
     "name": "stdout",
     "output_type": "stream",
     "text": [
      "Tracking objects\n",
      "{}\n",
      "CUR FRAME LEFT PTS\n",
      "[(679, 491, 'Danger!'), (966, 577, 'Danger!'), (1041, 535, 'Danger!'), (760, 503, 'Danger!'), (1474, 486, 'Danger!'), (902, 498, 'Danger!'), (629, 465, 'Danger!'), (1161, 405, 'Danger!'), (586, 523, 'Danger!'), (788, 924, 'Danger!'), (1112, 761, 'Danger!'), (228, 1025, 'Danger!'), (917, 689, 'Danger!'), (863, 442, 'Danger!'), (788, 925, 'Danger!'), (1305, 479, 'Danger!')]\n",
      "Tracking objects\n",
      "{}\n",
      "CUR FRAME LEFT PTS\n",
      "[(680, 493, 'Danger!'), (967, 577, 'Danger!'), (760, 503, 'Danger!'), (627, 465, 'Danger!'), (1047, 539, 'Danger!'), (903, 499, 'Danger!'), (584, 527, 'Danger!'), (1116, 767, 'Danger!'), (1160, 404, 'Danger!'), (1306, 477, 'Danger!'), (790, 941, 'Danger!'), (919, 692, 'Danger!'), (219, 1034, 'Danger!'), (864, 445, 'Danger!'), (790, 942, 'Danger!'), (1463, 484, 'Danger!'), (1290, 476, 'Danger!'), (923, 711, 'Danger!'), (703, 408, 'Danger!')]\n"
     ]
    },
    {
     "name": "stderr",
     "output_type": "stream",
     "text": [
      "\n",
      "0: 384x640 16 cars, 2 trucks, 142.5ms\n",
      "Speed: 0.0ms pre-process, 142.5ms inference, 0.0ms postprocess per image at shape (1, 3, 640, 640)\n",
      "\n",
      "0: 384x640 14 cars, 1 truck, 120.7ms\n",
      "Speed: 0.0ms pre-process, 120.7ms inference, 0.0ms postprocess per image at shape (1, 3, 640, 640)\n"
     ]
    },
    {
     "name": "stdout",
     "output_type": "stream",
     "text": [
      "Tracking objects\n",
      "{}\n",
      "CUR FRAME LEFT PTS\n",
      "[(971, 579, 'Danger!'), (680, 495, 'Danger!'), (1050, 542, 'Danger!'), (760, 504, 'Danger!'), (583, 527, 'Danger!'), (925, 702, 'Danger!'), (904, 499, 'Danger!'), (627, 466, 'Danger!'), (793, 956, 'Danger!'), (1120, 771, 'Danger!'), (865, 446, 'Danger!'), (1836, 629, 'Danger!'), (1283, 475, 'Danger!'), (792, 955, 'Danger!'), (703, 410, 'Danger!'), (1161, 404, 'Danger!'), (1120, 770, 'Danger!'), (1451, 482, 'Danger!')]\n",
      "Tracking objects\n",
      "{}\n",
      "CUR FRAME LEFT PTS\n",
      "[(580, 531, 'Danger!'), (972, 581, 'Danger!'), (762, 508, 'Danger!'), (679, 500, 'Danger!'), (1059, 547, 'Danger!'), (906, 502, 'Danger!'), (627, 468, 'Danger!'), (1128, 780, 'Danger!'), (793, 982, 'Danger!'), (929, 711, 'Danger!'), (1277, 470, 'Danger!'), (705, 411, 'Danger!'), (1438, 478, 'Danger!'), (1152, 403, 'Danger!'), (1792, 616, 'Danger!')]\n"
     ]
    },
    {
     "name": "stderr",
     "output_type": "stream",
     "text": [
      "\n",
      "0: 384x640 15 cars, 1 truck, 108.7ms\n",
      "Speed: 0.0ms pre-process, 108.7ms inference, 0.0ms postprocess per image at shape (1, 3, 640, 640)\n",
      "\n",
      "0: 384x640 15 cars, 2 trucks, 89.7ms\n",
      "Speed: 0.0ms pre-process, 89.7ms inference, 0.0ms postprocess per image at shape (1, 3, 640, 640)\n"
     ]
    },
    {
     "name": "stdout",
     "output_type": "stream",
     "text": [
      "Tracking objects\n",
      "{}\n",
      "CUR FRAME LEFT PTS\n",
      "[(578, 532, 'Danger!'), (973, 583, 'Danger!'), (762, 508, 'Danger!'), (679, 502, 'Danger!'), (1133, 784, 'Danger!'), (907, 503, 'Danger!'), (1065, 551, 'Danger!'), (931, 717, 'Danger!'), (1427, 476, 'Danger!'), (627, 468, 'Danger!'), (866, 444, 'Danger!'), (793, 964, 'Danger!'), (793, 965, 'Danger!'), (702, 410, 'Danger!'), (812, 469, 'Danger!'), (1769, 605, 'Danger!')]\n",
      "Tracking objects\n",
      "{}\n",
      "CUR FRAME LEFT PTS\n",
      "[(578, 533, 'Danger!'), (973, 585, 'Danger!'), (763, 512, 'Danger!'), (679, 504, 'Danger!'), (1068, 556, 'Danger!'), (1138, 789, 'Danger!'), (907, 504, 'Danger!'), (868, 447, 'Danger!'), (814, 471, 'Danger!'), (627, 469, 'Danger!'), (934, 725, 'Danger!'), (704, 412, 'Danger!'), (1732, 599, 'Danger!'), (934, 726, 'Danger!'), (1255, 465, 'Danger!'), (793, 982, 'Danger!'), (1415, 472, 'Danger!')]\n"
     ]
    },
    {
     "name": "stderr",
     "output_type": "stream",
     "text": [
      "\n",
      "0: 384x640 16 cars, 2 trucks, 95.2ms\n",
      "Speed: 0.0ms pre-process, 95.2ms inference, 0.0ms postprocess per image at shape (1, 3, 640, 640)\n",
      "\n"
     ]
    },
    {
     "name": "stdout",
     "output_type": "stream",
     "text": [
      "Tracking objects\n",
      "{}\n",
      "CUR FRAME LEFT PTS\n",
      "[(578, 535, 'Danger!'), (679, 505, 'Danger!'), (977, 587, 'Danger!'), (764, 512, 'Danger!'), (908, 504, 'Danger!'), (1076, 561, 'Danger!'), (626, 471, 'Danger!'), (1249, 463, 'Danger!'), (867, 448, 'Danger!'), (1139, 795, 'Danger!'), (936, 732, 'Danger!'), (1717, 592, 'Danger!'), (795, 1001, 'Danger!'), (937, 732, 'Danger!'), (705, 413, 'Danger!'), (1408, 469, 'Danger!'), (814, 471, 'Danger!'), (1397, 471, 'Danger!')]\n"
     ]
    },
    {
     "name": "stderr",
     "output_type": "stream",
     "text": [
      "0: 384x640 13 cars, 1 truck, 111.6ms\n",
      "Speed: 0.0ms pre-process, 111.6ms inference, 0.0ms postprocess per image at shape (1, 3, 640, 640)\n",
      "\n",
      "0: 384x640 14 cars, 1 truck, 97.7ms\n",
      "Speed: 1.0ms pre-process, 97.7ms inference, 12.3ms postprocess per image at shape (1, 3, 640, 640)\n"
     ]
    },
    {
     "name": "stdout",
     "output_type": "stream",
     "text": [
      "Tracking objects\n",
      "{}\n",
      "CUR FRAME LEFT PTS\n",
      "[(678, 509, 'Danger!'), (976, 589, 'Danger!'), (574, 545, 'Danger!'), (763, 516, 'Danger!'), (913, 507, 'Danger!'), (1080, 567, 'Danger!'), (871, 449, 'Danger!'), (1150, 806, 'Danger!'), (1394, 466, 'Danger!'), (624, 474, 'Danger!'), (817, 474, 'Danger!'), (1674, 576, 'Danger!'), (944, 745, 'Danger!'), (943, 749, 'Danger!')]\n",
      "Tracking objects\n",
      "{}\n",
      "CUR FRAME LEFT PTS\n",
      "[(677, 509, 'Danger!'), (573, 543, 'Danger!'), (978, 591, 'Danger!'), (762, 516, 'Danger!'), (913, 507, 'Danger!'), (624, 474, 'Danger!'), (870, 450, 'Danger!'), (1091, 572, 'Danger!'), (1642, 569, 'Danger!'), (1153, 812, 'Danger!'), (815, 475, 'Danger!'), (953, 766, 'Danger!'), (1383, 464, 'Danger!'), (1234, 455, 'Danger!'), (948, 753, 'Danger!')]\n"
     ]
    },
    {
     "name": "stderr",
     "output_type": "stream",
     "text": [
      "\n",
      "0: 384x640 15 cars, 1 truck, 114.1ms\n",
      "Speed: 1.0ms pre-process, 114.1ms inference, 0.0ms postprocess per image at shape (1, 3, 640, 640)\n",
      "\n",
      "0: 384x640 13 cars, 1 truck, 103.7ms\n"
     ]
    },
    {
     "name": "stdout",
     "output_type": "stream",
     "text": [
      "Tracking objects\n",
      "{}\n",
      "CUR FRAME LEFT PTS\n",
      "[(677, 510, 'Danger!'), (571, 548, 'Danger!'), (763, 518, 'Danger!'), (979, 593, 'Danger!'), (1094, 577, 'Danger!'), (870, 450, 'Danger!'), (913, 507, 'Danger!'), (624, 477, 'Danger!'), (817, 476, 'Danger!'), (1157, 818, 'Danger!'), (1629, 563, 'Danger!'), (949, 761, 'Danger!'), (1378, 463, 'Danger!'), (1231, 454, 'Danger!'), (951, 760, 'Danger!'), (1222, 452, 'Danger!')]\n"
     ]
    },
    {
     "name": "stderr",
     "output_type": "stream",
     "text": [
      "Speed: 0.0ms pre-process, 103.7ms inference, 11.9ms postprocess per image at shape (1, 3, 640, 640)\n",
      "\n",
      "0: 384x640 12 cars, 1 truck, 96.2ms\n",
      "Speed: 0.0ms pre-process, 96.2ms inference, 1.0ms postprocess per image at shape (1, 3, 640, 640)\n"
     ]
    },
    {
     "name": "stdout",
     "output_type": "stream",
     "text": [
      "Tracking objects\n",
      "{}\n",
      "CUR FRAME LEFT PTS\n",
      "[(676, 514, 'Danger!'), (571, 548, 'Danger!'), (1100, 582, 'Danger!'), (623, 480, 'Danger!'), (764, 519, 'Danger!'), (1162, 823, 'Danger!'), (914, 509, 'Danger!'), (984, 595, 'Danger!'), (818, 478, 'Danger!'), (871, 451, 'Danger!'), (954, 769, 'Danger!'), (1362, 462, 'Danger!'), (953, 767, 'Danger!'), (708, 415, 'Danger!')]\n",
      "Tracking objects\n",
      "{}\n",
      "CUR FRAME LEFT PTS\n",
      "[(985, 597, 'Danger!'), (567, 551, 'Danger!'), (675, 516, 'Danger!'), (622, 482, 'Danger!'), (1115, 594, 'Danger!'), (915, 510, 'Danger!'), (872, 453, 'Danger!'), (1172, 837, 'Danger!'), (764, 523, 'Danger!'), (1581, 546, 'Danger!'), (819, 480, 'Danger!'), (961, 786, 'Danger!'), (960, 788, 'Danger!')]\n"
     ]
    },
    {
     "name": "stderr",
     "output_type": "stream",
     "text": [
      "\n",
      "0: 384x640 13 cars, 1 truck, 137.1ms\n",
      "Speed: 1.0ms pre-process, 137.1ms inference, 6.5ms postprocess per image at shape (1, 3, 640, 640)\n",
      "\n",
      "0: 384x640 13 cars, 1 truck, 148.5ms\n",
      "Speed: 0.0ms pre-process, 148.5ms inference, 0.8ms postprocess per image at shape (1, 3, 640, 640)\n",
      "\n"
     ]
    },
    {
     "name": "stdout",
     "output_type": "stream",
     "text": [
      "Tracking objects\n",
      "{}\n",
      "CUR FRAME LEFT PTS\n",
      "[(676, 518, 'Danger!'), (1121, 597, 'Danger!'), (567, 556, 'Danger!'), (871, 455, 'Danger!'), (986, 599, 'Danger!'), (915, 511, 'Danger!'), (619, 482, 'Danger!'), (765, 525, 'Danger!'), (1178, 842, 'Danger!'), (820, 482, 'Danger!'), (1565, 542, 'Danger!'), (1371, 456, 'Danger!'), (967, 794, 'Danger!'), (966, 796, 'Danger!')]\n",
      "Tracking objects\n",
      "{}\n",
      "CUR FRAME LEFT PTS\n",
      "[(674, 521, 'Danger!'), (567, 558, 'Danger!'), (1125, 601, 'Danger!'), (988, 601, 'Danger!'), (916, 513, 'Danger!'), (1183, 846, 'Danger!'), (619, 485, 'Danger!'), (872, 455, 'Danger!'), (765, 528, 'Danger!'), (819, 481, 'Danger!'), (1542, 538, 'Danger!'), (970, 804, 'Danger!'), (969, 804, 'Danger!'), (1371, 453, 'Danger!')]\n"
     ]
    },
    {
     "name": "stderr",
     "output_type": "stream",
     "text": [
      "0: 384x640 14 cars, 127.9ms\n",
      "Speed: 0.0ms pre-process, 127.9ms inference, 15.5ms postprocess per image at shape (1, 3, 640, 640)\n"
     ]
    },
    {
     "name": "stdout",
     "output_type": "stream",
     "text": [
      "Tracking objects\n",
      "{}\n",
      "CUR FRAME LEFT PTS\n",
      "[(764, 530, 'Danger!'), (565, 560, 'Danger!'), (674, 521, 'Danger!'), (1137, 613, 'Danger!'), (990, 603, 'Danger!'), (619, 485, 'Danger!'), (917, 514, 'Danger!'), (874, 456, 'Danger!'), (1190, 854, 'Danger!'), (821, 482, 'Danger!'), (974, 814, 'Danger!'), (1357, 452, 'Danger!'), (1544, 535, 'Danger!'), (1530, 533, 'Danger!')]\n"
     ]
    }
   ],
   "source": [
    "# from ultralytics import YOLO\n",
    "# from IPython.display import display, Image\n",
    "# import cv2\n",
    "# import numpy as np\n",
    "# # from object_detection import ObjectDetection\n",
    "# import math\n",
    "# from sort import *\n",
    "\n",
    "def dist(P, A, B):\n",
    "    area = abs ( (A[0] - P[0]) * (B[1] - P[1]) - (A[1] - P[1]) * (B[0] - P[0]) )\n",
    "    AB = ( (A[0] - B[0]) ** 2 + (A[1] - B[1]) ** 2 ) ** 0.5\n",
    "    return ( area / AB )\n",
    "\n",
    "f1_A=(388,821)\n",
    "f1_B=(661,404) #distance 40\n",
    "\n",
    "f2_A=(582, 876) #id 194\n",
    "f2_B=(703, 415) #id 91 distance 30\n",
    "\n",
    "f3_A=(782, 865) #id 60\n",
    "f3_B=(743, 417) #id 30  distance 30\n",
    "\n",
    "f4_A=(999, 866) #id 105\n",
    "f4_B=(789, 417)  #id 85  distacne 30\n",
    "\n",
    "f5_A=(1183, 850) #id 4\n",
    "f5_B=(846, 429) #id 29 distance 30\n",
    "\n",
    "# Initialize Object Detection\n",
    "# od = ObjectDetection()\n",
    "model = YOLO('yolov8n.pt')\n",
    "cap = cv2.VideoCapture(\"los_angeles.mp4\")\n",
    "\n",
    "frameWidth = int(cap.get(cv2.CAP_PROP_FRAME_WIDTH))\t# 영상의 넓이(가로) 프레임\n",
    "frameHeight = int(cap.get(cv2.CAP_PROP_FRAME_HEIGHT))\t# 영상의 높이(세로) 프레임\n",
    "frame_size = (frameWidth, frameHeight)\n",
    "\n",
    "print(frame_size)\n",
    "# Initialize count\n",
    "count = 0\n",
    "center_points_prev_frame = []\n",
    "\n",
    "danger_car_id=[]\n",
    "\n",
    "tracking_objects = {}\n",
    "track_id = 0\n",
    "\n",
    "tracker = Sort(max_age=20, min_hits=3, iou_threshold=0.3)\n",
    "\n",
    "while True:\n",
    "    retval, frame = cap.read()\n",
    "    count += 1\n",
    "    if not(retval):\n",
    "        break\n",
    "\n",
    "    # Point current frame\n",
    "    center_points_cur_frame = []\n",
    "\n",
    "    # Detect objects on frame\n",
    "    results = model(frame,stream=True)\n",
    "    for r in results:\n",
    "        boxes = r.boxes\n",
    "        for box in boxes:\n",
    "            x1, y1, x2, y2 = box.xyxy[0]\n",
    "            x1, y1, x2, y2 = int(x1), int(y1), int(x2), int(y2)\n",
    "            cx = int((x1+x2) / 2)\n",
    "            cy = int((y1+y2) / 2)\n",
    "            center_points_cur_frame.append((cx, cy, 'Danger!'))\n",
    "            #print(\"FRAME N°\", count, \" \", x, y, w, h)\n",
    "\n",
    "            # cv2.circle(frame, (cx, cy), 5, (0, 0, 255), -1)\n",
    "            cv2.rectangle(frame, (x1, y1), (x2,y2), (0, 255, 0), 2)\n",
    "\n",
    "    # Only at the beginning we compare previous and current frame\n",
    "   \n",
    "\n",
    "                \n",
    "    for object_id, pt in tracking_objects.items():\n",
    "        if dist((pt[0],pt[1]), f1_A, f1_B) < 30:\n",
    "            tracking_objects[object_id]=(pt[0],pt[1],'f1')\n",
    "        \n",
    "        if dist((pt[0],pt[1]), f2_A, f2_B) < 30:\n",
    "            tracking_objects[object_id]=(pt[0],pt[1],'f2')\n",
    "            \n",
    "        if dist((pt[0],pt[1]), f3_A, f3_B) < 30:\n",
    "            tracking_objects[object_id]=(pt[0],pt[1],'f3')\n",
    "        \n",
    "        if dist((pt[0],pt[1]), f4_A, f4_B) < 30:\n",
    "            tracking_objects[object_id]=(pt[0],pt[1],'f4')\n",
    "        \n",
    "        if dist((pt[0],pt[1]), f5_A, f5_B) < 30:\n",
    "            tracking_objects[object_id]=(pt[0],pt[1],'f5')\n",
    "            \n",
    "            \n",
    "    for object_id, pt in tracking_objects.items():\n",
    "        tmp= pt[2]+'['+str(object_id)+']'\n",
    "        cv2.circle(frame, (pt[0],pt[1]), 5, (0, 0, 255), -1)\n",
    "        cv2.putText(frame, tmp, (pt[0], pt[1] - 7), 0, 0.8, (0, 0, 255), 2)\n",
    "        \n",
    "        if (pt[2]=='Danger!'):\n",
    "            danger_car_id.append(object_id)\n",
    "            \n",
    "                \n",
    "    \n",
    "    \n",
    "\n",
    "    print(\"Tracking objects\")\n",
    "    print(tracking_objects)\n",
    "\n",
    "\n",
    "    print(\"CUR FRAME LEFT PTS\")\n",
    "    print(center_points_cur_frame)\n",
    "\n",
    "#     cv2.circle(frame, (1,1), 5, (0, 0, 255), -1)\n",
    "\n",
    "    cv2.imshow(\"Frame\", frame)\n",
    "\n",
    "    # Make a copy of the points\n",
    "    center_points_prev_frame = center_points_cur_frame.copy()\n",
    "\n",
    "    key = cv2.waitKey(0)\n",
    "    if key == 27:\n",
    "        break\n",
    "\n",
    "cap.release()\n",
    "cv2.destroyAllWindows()\n"
   ]
  },
  {
   "cell_type": "code",
   "execution_count": 1,
   "id": "872b0de8",
   "metadata": {},
   "outputs": [
    {
     "name": "stdout",
     "output_type": "stream",
     "text": [
      "Loading Object Detection\n",
      "Running opencv dnn with YOLOv4\n",
      "Tracking objects\n",
      "{}\n",
      "CUR FRAME LEFT PTS\n",
      "[(571, 891), (437, 742), (1750, 635), (761, 648), (1018, 647), (928, 533), (856, 565), (612, 473), (881, 473), (1336, 980), (753, 463), (1118, 436), (942, 458), (1877, 605), (642, 435), (688, 450), (1268, 433), (1424, 466)]\n"
     ]
    }
   ],
   "source": [
    "import cv2\n",
    "import numpy as np\n",
    "from object_detection import ObjectDetection\n",
    "import math\n",
    "\n",
    "# Initialize Object Detection\n",
    "od = ObjectDetection()\n",
    "\n",
    "cap = cv2.VideoCapture(\"los_angeles.mp4\")\n",
    "\n",
    "frameWidth = int(cap.get(cv2.CAP_PROP_FRAME_WIDTH))\t# 영상의 넓이(가로) 프레임\n",
    "frameHeight = int(cap.get(cv2.CAP_PROP_FRAME_HEIGHT))\t# 영상의 높이(세로) 프레임\n",
    "frame_size = (frameWidth, frameHeight)\n",
    "\n",
    "# Initialize count\n",
    "count = 0\n",
    "center_points_prev_frame = []\n",
    "\n",
    "tracking_objects = {}\n",
    "track_id = 0\n",
    "\n",
    "while True:\n",
    "    retval, frame = cap.read()\n",
    "    count += 1\n",
    "    if not(retval):\n",
    "        break\n",
    "\n",
    "    # Point current frame\n",
    "    center_points_cur_frame = []\n",
    "\n",
    "    # Detect objects on frame\n",
    "    (class_ids, scores, boxes) = od.detect(frame)\n",
    "    for box in boxes:\n",
    "        (x, y, w, h) = box\n",
    "        cx = int((x + x + w) / 2)\n",
    "        cy = int((y + y + h) / 2)\n",
    "        center_points_cur_frame.append((cx, cy))\n",
    "        #print(\"FRAME N°\", count, \" \", x, y, w, h)\n",
    "\n",
    "        # cv2.circle(frame, (cx, cy), 5, (0, 0, 255), -1)\n",
    "        cv2.rectangle(frame, (x, y), (x + w, y + h), (0, 255, 0), 2)\n",
    "\n",
    "    # Only at the beginning we compare previous and current frame\n",
    "    if count <= 2:\n",
    "        for pt in center_points_cur_frame:\n",
    "            for pt2 in center_points_prev_frame:\n",
    "                distance = math.hypot(pt2[0] - pt[0], pt2[1] - pt[1])\n",
    "\n",
    "                if distance < 20:\n",
    "                    tracking_objects[track_id] = pt\n",
    "                    track_id += 1\n",
    "    else:\n",
    "\n",
    "        tracking_objects_copy = tracking_objects.copy()\n",
    "        center_points_cur_frame_copy = center_points_cur_frame.copy()\n",
    "\n",
    "        for object_id, pt2 in tracking_objects_copy.items():\n",
    "            object_exists = False\n",
    "            for pt in center_points_cur_frame_copy:\n",
    "                distance = math.hypot(pt2[0] - pt[0], pt2[1] - pt[1])\n",
    "\n",
    "                # Update IDs position\n",
    "                if distance < 20:\n",
    "                    tracking_objects[object_id] = pt\n",
    "                    object_exists = True\n",
    "                    if pt in center_points_cur_frame:\n",
    "                        center_points_cur_frame.remove(pt)\n",
    "                    continue\n",
    "\n",
    "            # Remove IDs lost\n",
    "            if not object_exists:\n",
    "                tracking_objects.pop(object_id)\n",
    "\n",
    "        # Add new IDs found\n",
    "        for pt in center_points_cur_frame:\n",
    "            tracking_objects[track_id] = pt\n",
    "            track_id += 1\n",
    "\n",
    "    for object_id, pt in tracking_objects.items():\n",
    "        cv2.circle(frame, pt, 5, (0, 0, 255), -1)\n",
    "        cv2.putText(frame, str(object_id), (pt[0], pt[1] - 7), 0, 1, (0, 0, 255), 2)\n",
    "\n",
    "    print(\"Tracking objects\")\n",
    "    print(tracking_objects)\n",
    "\n",
    "\n",
    "    print(\"CUR FRAME LEFT PTS\")\n",
    "    print(center_points_cur_frame)\n",
    "\n",
    "\n",
    "    cv2.imshow(\"Frame\", frame)\n",
    "\n",
    "    # Make a copy of the points\n",
    "    center_points_prev_frame = center_points_cur_frame.copy()\n",
    "\n",
    "    key = cv2.waitKey(0)\n",
    "    if key == 27:\n",
    "        break\n",
    "\n",
    "cap.release()\n",
    "cv2.destroyAllWindows()\n"
   ]
  },
  {
   "cell_type": "code",
   "execution_count": 10,
   "id": "08c61e13",
   "metadata": {},
   "outputs": [
    {
     "ename": "ModuleNotFoundError",
     "evalue": "No module named 'tensorflow'",
     "output_type": "error",
     "traceback": [
      "\u001b[1;31m---------------------------------------------------------------------------\u001b[0m",
      "\u001b[1;31mModuleNotFoundError\u001b[0m                       Traceback (most recent call last)",
      "\u001b[1;32mc:\\Users\\User\\car_tracking.ipynb Cell 6\u001b[0m line \u001b[0;36m1\n\u001b[1;32m----> <a href='vscode-notebook-cell:/c%3A/Users/User/car_tracking.ipynb#W6sZmlsZQ%3D%3D?line=0'>1</a>\u001b[0m \u001b[39mimport\u001b[39;00m \u001b[39mtensorflow\u001b[39;00m \u001b[39mas\u001b[39;00m \u001b[39mtf\u001b[39;00m\n\u001b[0;32m      <a href='vscode-notebook-cell:/c%3A/Users/User/car_tracking.ipynb#W6sZmlsZQ%3D%3D?line=1'>2</a>\u001b[0m \u001b[39mimport\u001b[39;00m \u001b[39mos\u001b[39;00m\n\u001b[0;32m      <a href='vscode-notebook-cell:/c%3A/Users/User/car_tracking.ipynb#W6sZmlsZQ%3D%3D?line=3'>4</a>\u001b[0m \u001b[39mdef\u001b[39;00m \u001b[39mget_mkl_enabled_flag\u001b[39m():\n",
      "\u001b[1;31mModuleNotFoundError\u001b[0m: No module named 'tensorflow'"
     ]
    }
   ],
   "source": [
    "import tensorflow as tf\n",
    "import os\n",
    "\n",
    "def get_mkl_enabled_flag():\n",
    "\n",
    "    mkl_enabled = False\n",
    "    major_version = int(tf.__version__.split(\".\")[0])\n",
    "    minor_version = int(tf.__version__.split(\".\")[1])\n",
    "    if major_version >= 2:\n",
    "        if minor_version < 5:\n",
    "            from tensorflow.python import _pywrap_util_port\n",
    "        else:\n",
    "            from tensorflow.python.util import _pywrap_util_port\n",
    "            onednn_enabled = int(os.environ.get('TF_ENABLE_ONEDNN_OPTS', '0'))\n",
    "        mkl_enabled = _pywrap_util_port.IsMklEnabled() or (onednn_enabled == 1)\n",
    "    else:\n",
    "        mkl_enabled = tf.pywrap_tensorflow.IsMklEnabled()\n",
    "    return mkl_enabled\n",
    "\n",
    "print (\"We are using Tensorflow version\", tf.__version__)\n",
    "print(\"MKL enabled :\", get_mkl_enabled_flag())\n",
    "\n",
    "\n",
    "\n",
    "# Check available physical devices (GPUs)\n",
    "physical_devices = tf.config.list_physical_devices('GPU')\n",
    "\n",
    "if len(physical_devices) == 0:\n",
    "    print(\"No GPU devices found.\")\n",
    "else:\n",
    "    for device in physical_devices:\n",
    "        print(\"GPU:\", device)\n",
    "\n",
    "# Check if Intel GPU is being used\n",
    "intel_gpu_in_use = False\n",
    "for device in physical_devices:\n",
    "    if 'Intel' in tf.config.experimental.get_device_name(device):\n",
    "        intel_gpu_in_use = True\n",
    "\n",
    "print(\"Is Intel GPU being used?\", intel_gpu_in_use)"
   ]
  },
  {
   "cell_type": "code",
   "execution_count": 12,
   "id": "da6839c7",
   "metadata": {},
   "outputs": [
    {
     "ename": "ModuleNotFoundError",
     "evalue": "No module named 'tensorflow'",
     "output_type": "error",
     "traceback": [
      "\u001b[1;31m---------------------------------------------------------------------------\u001b[0m",
      "\u001b[1;31mModuleNotFoundError\u001b[0m                       Traceback (most recent call last)",
      "\u001b[1;32mc:\\Users\\User\\car_tracking.ipynb Cell 7\u001b[0m line \u001b[0;36m1\n\u001b[1;32m----> <a href='vscode-notebook-cell:/c%3A/Users/User/car_tracking.ipynb#X10sZmlsZQ%3D%3D?line=0'>1</a>\u001b[0m \u001b[39mimport\u001b[39;00m \u001b[39mtensorflow\u001b[39;00m\n",
      "\u001b[1;31mModuleNotFoundError\u001b[0m: No module named 'tensorflow'"
     ]
    }
   ],
   "source": [
    "import tensorflow"
   ]
  }
 ],
 "metadata": {
  "kernelspec": {
   "display_name": "Python 3 (ipykernel)",
   "language": "python",
   "name": "python3"
  },
  "language_info": {
   "codemirror_mode": {
    "name": "ipython",
    "version": 3
   },
   "file_extension": ".py",
   "mimetype": "text/x-python",
   "name": "python",
   "nbconvert_exporter": "python",
   "pygments_lexer": "ipython3",
   "version": "3.10.9"
  }
 },
 "nbformat": 4,
 "nbformat_minor": 5
}
