{
 "cells": [
  {
   "cell_type": "code",
   "execution_count": 3,
   "metadata": {},
   "outputs": [
    {
     "name": "stdout",
     "output_type": "stream",
     "text": [
      "(1920, 1080)\n"
     ]
    },
    {
     "name": "stderr",
     "output_type": "stream",
     "text": [
      "Ultralytics YOLOv8.0.26  Python-3.10.9 torch-1.11.0+cpu CPU\n",
      "YOLOv8n summary (fused): 168 layers, 3151904 parameters, 0 gradients, 8.7 GFLOPs\n",
      "\n",
      "0: 384x640 3 cars, 119.8ms\n",
      "Speed: 0.0ms pre-process, 119.8ms inference, 2.0ms postprocess per image at shape (1, 3, 640, 640)\n",
      "\n",
      "0: 384x640 3 cars, 101.8ms\n",
      "Speed: 1.5ms pre-process, 101.8ms inference, 2.0ms postprocess per image at shape (1, 3, 640, 640)\n",
      "\n"
     ]
    },
    {
     "name": "stdout",
     "output_type": "stream",
     "text": [
      "978 460 f1 3\n",
      "1037 490 f1 2\n",
      "876 381 f1 1\n",
      "977 460 f1 3\n"
     ]
    },
    {
     "name": "stderr",
     "output_type": "stream",
     "text": [
      "0: 384x640 3 cars, 126.2ms\n",
      "Speed: 1.0ms pre-process, 126.2ms inference, 0.9ms postprocess per image at shape (1, 3, 640, 640)\n",
      "\n",
      "0: 384x640 3 cars, 88.9ms\n",
      "Speed: 1.0ms pre-process, 88.9ms inference, 1.0ms postprocess per image at shape (1, 3, 640, 640)\n",
      "\n"
     ]
    },
    {
     "name": "stdout",
     "output_type": "stream",
     "text": [
      "1036 490 f1 2\n",
      "877 381 f1 1\n",
      "977 460 f1 3\n"
     ]
    },
    {
     "name": "stderr",
     "output_type": "stream",
     "text": [
      "0: 384x640 3 cars, 1 train, 91.6ms\n",
      "Speed: 0.0ms pre-process, 91.6ms inference, 2.0ms postprocess per image at shape (1, 3, 640, 640)\n",
      "\n",
      "0: 384x640 3 cars, 1 train, 88.7ms\n",
      "Speed: 1.5ms pre-process, 88.7ms inference, 1.0ms postprocess per image at shape (1, 3, 640, 640)\n",
      "\n"
     ]
    },
    {
     "name": "stdout",
     "output_type": "stream",
     "text": [
      "1036 490 f1 2\n",
      "877 381 f1 1\n",
      "976 460 f1 3\n",
      "876 380 f1 1\n"
     ]
    },
    {
     "name": "stderr",
     "output_type": "stream",
     "text": [
      "0: 384x640 3 cars, 1 train, 90.0ms\n",
      "Speed: 1.0ms pre-process, 90.0ms inference, 1.0ms postprocess per image at shape (1, 3, 640, 640)\n",
      "\n",
      "0: 384x640 3 cars, 88.9ms\n",
      "Speed: 1.0ms pre-process, 88.9ms inference, 0.5ms postprocess per image at shape (1, 3, 640, 640)\n",
      "\n"
     ]
    },
    {
     "name": "stdout",
     "output_type": "stream",
     "text": [
      "1036 490 f1 2\n",
      "976 460 f1 3\n",
      "876 380 f1 1\n"
     ]
    },
    {
     "name": "stderr",
     "output_type": "stream",
     "text": [
      "0: 384x640 3 cars, 1 train, 140.0ms\n",
      "Speed: 1.5ms pre-process, 140.0ms inference, 2.0ms postprocess per image at shape (1, 3, 640, 640)\n",
      "\n",
      "0: 384x640 4 cars, 97.7ms\n",
      "Speed: 2.0ms pre-process, 97.7ms inference, 1.3ms postprocess per image at shape (1, 3, 640, 640)\n",
      "\n"
     ]
    },
    {
     "name": "stdout",
     "output_type": "stream",
     "text": [
      "1036 491 f1 2\n",
      "977 459 f1 3\n",
      "1037 491 f1 2\n",
      "876 380 f1 1\n"
     ]
    },
    {
     "name": "stderr",
     "output_type": "stream",
     "text": [
      "0: 384x640 4 cars, 103.5ms\n",
      "Speed: 0.0ms pre-process, 103.5ms inference, 1.0ms postprocess per image at shape (1, 3, 640, 640)\n",
      "\n",
      "0: 384x640 4 cars, 102.2ms\n",
      "Speed: 1.0ms pre-process, 102.2ms inference, 1.0ms postprocess per image at shape (1, 3, 640, 640)\n",
      "\n",
      "0: 384x640 4 cars, 100.7ms\n",
      "Speed: 1.0ms pre-process, 100.7ms inference, 1.0ms postprocess per image at shape (1, 3, 640, 640)\n",
      "\n"
     ]
    },
    {
     "name": "stdout",
     "output_type": "stream",
     "text": [
      "977 460 f1 3\n",
      "1038 490 f1 2\n",
      "876 380 f1 1\n",
      "887 464 f1 4\n"
     ]
    },
    {
     "name": "stderr",
     "output_type": "stream",
     "text": [
      "0: 384x640 4 cars, 85.0ms\n",
      "Speed: 1.0ms pre-process, 85.0ms inference, 1.0ms postprocess per image at shape (1, 3, 640, 640)\n",
      "\n",
      "0: 384x640 4 cars, 92.2ms\n",
      "Speed: 1.0ms pre-process, 92.2ms inference, 1.0ms postprocess per image at shape (1, 3, 640, 640)\n",
      "\n"
     ]
    },
    {
     "name": "stdout",
     "output_type": "stream",
     "text": [
      "886 464 f1 4\n",
      "977 459 f1 3\n",
      "1038 490 f1 2\n",
      "876 380 f1 1\n"
     ]
    },
    {
     "name": "stderr",
     "output_type": "stream",
     "text": [
      "0: 384x640 4 cars, 85.2ms\n",
      "Speed: 1.0ms pre-process, 85.2ms inference, 1.0ms postprocess per image at shape (1, 3, 640, 640)\n",
      "\n",
      "0: 384x640 3 cars, 105.7ms\n",
      "Speed: 0.0ms pre-process, 105.7ms inference, 1.0ms postprocess per image at shape (1, 3, 640, 640)\n",
      "\n"
     ]
    },
    {
     "name": "stdout",
     "output_type": "stream",
     "text": [
      "880 463 f1 4\n",
      "977 459 f1 3\n",
      "1037 490 f1 2\n",
      "876 380 f1 1\n"
     ]
    },
    {
     "name": "stderr",
     "output_type": "stream",
     "text": [
      "0: 384x640 3 cars, 127.8ms\n",
      "Speed: 1.0ms pre-process, 127.8ms inference, 1.0ms postprocess per image at shape (1, 3, 640, 640)\n",
      "\n",
      "0: 384x640 4 cars, 1 truck, 122.0ms\n",
      "Speed: 1.0ms pre-process, 122.0ms inference, 1.3ms postprocess per image at shape (1, 3, 640, 640)\n",
      "\n"
     ]
    },
    {
     "name": "stdout",
     "output_type": "stream",
     "text": [
      "977 459 f1 3\n",
      "1037 490 f1 2\n",
      "876 380 f1 1\n"
     ]
    },
    {
     "name": "stderr",
     "output_type": "stream",
     "text": [
      "0: 384x640 4 cars, 132.8ms\n",
      "Speed: 1.0ms pre-process, 132.8ms inference, 2.0ms postprocess per image at shape (1, 3, 640, 640)\n",
      "\n",
      "0: 384x640 4 cars, 1 truck, 112.7ms\n",
      "Speed: 1.0ms pre-process, 112.7ms inference, 2.0ms postprocess per image at shape (1, 3, 640, 640)\n",
      "\n"
     ]
    },
    {
     "name": "stdout",
     "output_type": "stream",
     "text": [
      "976 459 f1 3\n",
      "1037 490 f1 2\n",
      "876 380 f1 1\n",
      "870 461 f1 4\n",
      "976 460 f1 3\n"
     ]
    },
    {
     "name": "stderr",
     "output_type": "stream",
     "text": [
      "0: 384x640 4 cars, 1 truck, 123.5ms\n",
      "Speed: 1.0ms pre-process, 123.5ms inference, 2.0ms postprocess per image at shape (1, 3, 640, 640)\n",
      "\n",
      "0: 384x640 4 cars, 1 truck, 118.0ms\n",
      "Speed: 1.0ms pre-process, 118.0ms inference, 2.0ms postprocess per image at shape (1, 3, 640, 640)\n",
      "\n"
     ]
    },
    {
     "name": "stdout",
     "output_type": "stream",
     "text": [
      "869 461 f1 4\n",
      "1037 490 f1 2\n",
      "876 380 f1 1\n",
      "869 460 f1 4\n",
      "976 460 f1 3\n"
     ]
    },
    {
     "name": "stderr",
     "output_type": "stream",
     "text": [
      "0: 384x640 4 cars, 1 truck, 127.7ms\n",
      "Speed: 0.0ms pre-process, 127.7ms inference, 2.0ms postprocess per image at shape (1, 3, 640, 640)\n",
      "\n",
      "0: 384x640 3 cars, 1 truck, 132.4ms\n",
      "Speed: 1.0ms pre-process, 132.4ms inference, 2.0ms postprocess per image at shape (1, 3, 640, 640)\n",
      "\n"
     ]
    },
    {
     "name": "stdout",
     "output_type": "stream",
     "text": [
      "868 459 f1 4\n",
      "1037 490 f1 2\n",
      "876 380 f1 1\n",
      "976 460 f1 3\n"
     ]
    },
    {
     "name": "stderr",
     "output_type": "stream",
     "text": [
      "0: 384x640 3 cars, 1 truck, 142.6ms\n",
      "Speed: 1.0ms pre-process, 142.6ms inference, 2.0ms postprocess per image at shape (1, 3, 640, 640)\n",
      "\n",
      "0: 384x640 3 cars, 1 truck, 116.3ms\n",
      "Speed: 1.5ms pre-process, 116.3ms inference, 2.5ms postprocess per image at shape (1, 3, 640, 640)\n",
      "\n"
     ]
    },
    {
     "name": "stdout",
     "output_type": "stream",
     "text": [
      "1037 490 f1 2\n",
      "876 380 f1 1\n",
      "977 460 f1 3\n",
      "1036 491 f1 2\n",
      "875 380 f1 1\n"
     ]
    },
    {
     "name": "stderr",
     "output_type": "stream",
     "text": [
      "0: 384x640 3 cars, 1 truck, 118.2ms\n",
      "Speed: 1.0ms pre-process, 118.2ms inference, 1.0ms postprocess per image at shape (1, 3, 640, 640)\n",
      "\n",
      "0: 384x640 3 cars, 1 truck, 111.5ms\n",
      "Speed: 1.0ms pre-process, 111.5ms inference, 1.0ms postprocess per image at shape (1, 3, 640, 640)\n",
      "\n"
     ]
    },
    {
     "name": "stdout",
     "output_type": "stream",
     "text": [
      "875 379 f1 1\n",
      "977 460 f1 3\n",
      "1036 491 f1 2\n"
     ]
    },
    {
     "name": "stderr",
     "output_type": "stream",
     "text": [
      "0: 384x640 3 cars, 1 truck, 116.3ms\n",
      "Speed: 1.0ms pre-process, 116.3ms inference, 1.3ms postprocess per image at shape (1, 3, 640, 640)\n",
      "\n",
      "0: 384x640 3 cars, 1 truck, 113.8ms\n",
      "Speed: 1.0ms pre-process, 113.8ms inference, 2.0ms postprocess per image at shape (1, 3, 640, 640)\n",
      "\n"
     ]
    },
    {
     "name": "stdout",
     "output_type": "stream",
     "text": [
      "874 379 f1 1\n",
      "978 460 f1 3\n",
      "1036 491 f1 2\n"
     ]
    },
    {
     "name": "stderr",
     "output_type": "stream",
     "text": [
      "0: 384x640 3 cars, 1 truck, 138.4ms\n",
      "Speed: 1.0ms pre-process, 138.4ms inference, 2.0ms postprocess per image at shape (1, 3, 640, 640)\n",
      "\n",
      "0: 384x640 3 cars, 1 truck, 117.9ms\n",
      "Speed: 1.0ms pre-process, 117.9ms inference, 1.0ms postprocess per image at shape (1, 3, 640, 640)\n",
      "\n"
     ]
    },
    {
     "name": "stdout",
     "output_type": "stream",
     "text": [
      "874 379 f1 1\n",
      "978 460 f1 3\n",
      "1036 491 f1 2\n"
     ]
    },
    {
     "name": "stderr",
     "output_type": "stream",
     "text": [
      "0: 384x640 3 cars, 1 truck, 116.1ms\n",
      "Speed: 1.0ms pre-process, 116.1ms inference, 2.0ms postprocess per image at shape (1, 3, 640, 640)\n",
      "\n",
      "0: 384x640 3 cars, 111.1ms\n",
      "Speed: 1.0ms pre-process, 111.1ms inference, 1.0ms postprocess per image at shape (1, 3, 640, 640)\n",
      "\n"
     ]
    },
    {
     "name": "stdout",
     "output_type": "stream",
     "text": [
      "874 379 f1 1\n",
      "982 461 f1 3\n",
      "1036 492 f1 2\n",
      "875 380 f1 1\n"
     ]
    },
    {
     "name": "stderr",
     "output_type": "stream",
     "text": [
      "0: 384x640 3 cars, 111.5ms\n",
      "Speed: 1.0ms pre-process, 111.5ms inference, 1.0ms postprocess per image at shape (1, 3, 640, 640)\n",
      "\n",
      "0: 384x640 2 cars, 110.4ms\n",
      "Speed: 1.0ms pre-process, 110.4ms inference, 1.0ms postprocess per image at shape (1, 3, 640, 640)\n",
      "\n"
     ]
    },
    {
     "name": "stdout",
     "output_type": "stream",
     "text": [
      "983 462 f1 3\n",
      "875 381 f1 1\n"
     ]
    },
    {
     "name": "stderr",
     "output_type": "stream",
     "text": [
      "0: 384x640 1 car, 135.0ms\n",
      "Speed: 1.0ms pre-process, 135.0ms inference, 1.0ms postprocess per image at shape (1, 3, 640, 640)\n",
      "\n",
      "0: 384x640 1 car, 116.4ms\n",
      "Speed: 1.0ms pre-process, 116.4ms inference, 1.2ms postprocess per image at shape (1, 3, 640, 640)\n",
      "\n"
     ]
    },
    {
     "name": "stdout",
     "output_type": "stream",
     "text": [
      "875 381 f1 1\n"
     ]
    },
    {
     "name": "stderr",
     "output_type": "stream",
     "text": [
      "0: 384x640 1 car, 113.0ms\n",
      "Speed: 1.0ms pre-process, 113.0ms inference, 1.3ms postprocess per image at shape (1, 3, 640, 640)\n",
      "\n",
      "0: 384x640 1 car, 111.4ms\n",
      "Speed: 0.0ms pre-process, 111.4ms inference, 1.0ms postprocess per image at shape (1, 3, 640, 640)\n",
      "\n"
     ]
    },
    {
     "name": "stdout",
     "output_type": "stream",
     "text": [
      "875 380 f1 1\n"
     ]
    },
    {
     "name": "stderr",
     "output_type": "stream",
     "text": [
      "0: 384x640 1 car, 112.0ms\n",
      "Speed: 1.0ms pre-process, 112.0ms inference, 1.0ms postprocess per image at shape (1, 3, 640, 640)\n",
      "\n",
      "0: 384x640 1 car, 142.6ms\n",
      "Speed: 1.0ms pre-process, 142.6ms inference, 1.1ms postprocess per image at shape (1, 3, 640, 640)\n",
      "\n"
     ]
    },
    {
     "name": "stdout",
     "output_type": "stream",
     "text": [
      "875 380 f1 1\n"
     ]
    },
    {
     "name": "stderr",
     "output_type": "stream",
     "text": [
      "0: 384x640 1 car, 137.8ms\n",
      "Speed: 0.0ms pre-process, 137.8ms inference, 1.0ms postprocess per image at shape (1, 3, 640, 640)\n",
      "\n",
      "0: 384x640 1 car, 118.8ms\n",
      "Speed: 1.0ms pre-process, 118.8ms inference, 1.2ms postprocess per image at shape (1, 3, 640, 640)\n",
      "\n"
     ]
    },
    {
     "name": "stdout",
     "output_type": "stream",
     "text": [
      "875 380 f1 1\n"
     ]
    },
    {
     "name": "stderr",
     "output_type": "stream",
     "text": [
      "0: 384x640 1 car, 110.1ms\n",
      "Speed: 1.0ms pre-process, 110.1ms inference, 1.0ms postprocess per image at shape (1, 3, 640, 640)\n",
      "\n",
      "0: 384x640 1 car, 111.1ms\n",
      "Speed: 1.0ms pre-process, 111.1ms inference, 2.0ms postprocess per image at shape (1, 3, 640, 640)\n",
      "\n"
     ]
    },
    {
     "name": "stdout",
     "output_type": "stream",
     "text": [
      "875 380 f1 1\n"
     ]
    },
    {
     "name": "stderr",
     "output_type": "stream",
     "text": [
      "0: 384x640 1 car, 133.6ms\n",
      "Speed: 0.0ms pre-process, 133.6ms inference, 2.0ms postprocess per image at shape (1, 3, 640, 640)\n",
      "\n",
      "0: 384x640 1 car, 115.2ms\n",
      "Speed: 1.0ms pre-process, 115.2ms inference, 1.0ms postprocess per image at shape (1, 3, 640, 640)\n",
      "\n"
     ]
    },
    {
     "name": "stdout",
     "output_type": "stream",
     "text": [
      "875 380 f1 1\n",
      "875 381 f1 1\n"
     ]
    },
    {
     "name": "stderr",
     "output_type": "stream",
     "text": [
      "0: 384x640 1 car, 125.3ms\n",
      "Speed: 1.0ms pre-process, 125.3ms inference, 2.0ms postprocess per image at shape (1, 3, 640, 640)\n",
      "\n",
      "0: 384x640 4 cars, 123.7ms\n",
      "Speed: 1.0ms pre-process, 123.7ms inference, 1.5ms postprocess per image at shape (1, 3, 640, 640)\n",
      "\n",
      "0: 384x640 3 cars, 114.1ms\n",
      "Speed: 1.0ms pre-process, 114.1ms inference, 1.4ms postprocess per image at shape (1, 3, 640, 640)\n",
      "\n"
     ]
    },
    {
     "name": "stdout",
     "output_type": "stream",
     "text": [
      "875 381 f1 1\n"
     ]
    },
    {
     "name": "stderr",
     "output_type": "stream",
     "text": [
      "0: 384x640 3 cars, 111.9ms\n",
      "Speed: 0.0ms pre-process, 111.9ms inference, 1.2ms postprocess per image at shape (1, 3, 640, 640)\n",
      "\n",
      "0: 384x640 4 cars, 138.5ms\n",
      "Speed: 1.0ms pre-process, 138.5ms inference, 1.0ms postprocess per image at shape (1, 3, 640, 640)\n",
      "\n"
     ]
    },
    {
     "name": "stdout",
     "output_type": "stream",
     "text": [
      "817 429 f1 4\n",
      "984 461 f1 3\n",
      "875 381 f1 1\n",
      "815 429 f1 4\n",
      "983 461 f1 3\n"
     ]
    },
    {
     "name": "stderr",
     "output_type": "stream",
     "text": [
      "0: 384x640 3 cars, 132.2ms\n",
      "Speed: 1.0ms pre-process, 132.2ms inference, 2.2ms postprocess per image at shape (1, 3, 640, 640)\n",
      "\n",
      "0: 384x640 6 cars, 111.1ms\n",
      "Speed: 1.0ms pre-process, 111.1ms inference, 1.0ms postprocess per image at shape (1, 3, 640, 640)\n",
      "\n"
     ]
    },
    {
     "name": "stdout",
     "output_type": "stream",
     "text": [
      "815 427 f1 4\n",
      "984 461 f1 3\n",
      "875 382 f1 1\n",
      "821 426 f1 4\n",
      "875 381 f1 1\n"
     ]
    },
    {
     "name": "stderr",
     "output_type": "stream",
     "text": [
      "0: 384x640 6 cars, 108.3ms\n",
      "Speed: 0.0ms pre-process, 108.3ms inference, 1.5ms postprocess per image at shape (1, 3, 640, 640)\n",
      "\n",
      "0: 384x640 5 cars, 111.1ms\n",
      "Speed: 1.0ms pre-process, 111.1ms inference, 1.0ms postprocess per image at shape (1, 3, 640, 640)\n",
      "\n"
     ]
    },
    {
     "name": "stdout",
     "output_type": "stream",
     "text": [
      "823 425 f1 4\n",
      "984 461 f1 3\n",
      "935 419 f1 6\n",
      "973 458 f1 5\n",
      "826 426 f1 4\n",
      "1034 490 f1 2\n",
      "875 381 f1 1\n"
     ]
    },
    {
     "name": "stderr",
     "output_type": "stream",
     "text": [
      "0: 384x640 5 cars, 112.4ms\n",
      "Speed: 1.3ms pre-process, 112.4ms inference, 1.0ms postprocess per image at shape (1, 3, 640, 640)\n",
      "\n",
      "0: 384x640 5 cars, 127.6ms\n",
      "Speed: 0.5ms pre-process, 127.6ms inference, 2.0ms postprocess per image at shape (1, 3, 640, 640)\n",
      "\n"
     ]
    },
    {
     "name": "stdout",
     "output_type": "stream",
     "text": [
      "973 457 f1 5\n",
      "825 426 f1 4\n",
      "1033 490 f1 2\n",
      "936 419 f1 6\n",
      "875 381 f1 1\n"
     ]
    },
    {
     "name": "stderr",
     "output_type": "stream",
     "text": [
      "0: 384x640 5 cars, 119.9ms\n",
      "Speed: 1.0ms pre-process, 119.9ms inference, 2.0ms postprocess per image at shape (1, 3, 640, 640)\n",
      "\n",
      "0: 384x640 5 cars, 117.1ms\n",
      "Speed: 1.0ms pre-process, 117.1ms inference, 1.0ms postprocess per image at shape (1, 3, 640, 640)\n",
      "\n"
     ]
    },
    {
     "name": "stdout",
     "output_type": "stream",
     "text": [
      "974 457 f1 5\n",
      "821 425 f1 4\n",
      "1033 490 f1 2\n",
      "877 382 f1 1\n",
      "936 419 f1 6\n",
      "821 424 f1 4\n",
      "878 383 f1 1\n"
     ]
    },
    {
     "name": "stderr",
     "output_type": "stream",
     "text": [
      "0: 384x640 5 cars, 109.1ms\n",
      "Speed: 1.0ms pre-process, 109.1ms inference, 2.0ms postprocess per image at shape (1, 3, 640, 640)\n",
      "\n",
      "0: 384x640 5 cars, 104.6ms\n",
      "Speed: 1.0ms pre-process, 104.6ms inference, 1.2ms postprocess per image at shape (1, 3, 640, 640)\n",
      "\n"
     ]
    },
    {
     "name": "stdout",
     "output_type": "stream",
     "text": [
      "976 457 f1 5\n",
      "827 424 f1 4\n",
      "1032 491 f1 2\n",
      "936 419 f1 6\n",
      "829 425 f1 4\n",
      "878 384 f1 1\n"
     ]
    },
    {
     "name": "stderr",
     "output_type": "stream",
     "text": [
      "0: 384x640 5 cars, 107.2ms\n",
      "Speed: 1.0ms pre-process, 107.2ms inference, 1.0ms postprocess per image at shape (1, 3, 640, 640)\n",
      "\n",
      "0: 384x640 5 cars, 129.2ms\n",
      "Speed: 1.0ms pre-process, 129.2ms inference, 1.0ms postprocess per image at shape (1, 3, 640, 640)\n",
      "\n"
     ]
    },
    {
     "name": "stdout",
     "output_type": "stream",
     "text": [
      "977 457 f1 5\n",
      "826 425 f1 4\n",
      "1033 491 f1 2\n",
      "877 384 f1 1\n",
      "936 420 f1 6\n",
      "825 424 f1 4\n",
      "1034 491 f1 2\n"
     ]
    },
    {
     "name": "stderr",
     "output_type": "stream",
     "text": [
      "0: 384x640 6 cars, 117.7ms\n",
      "Speed: 1.0ms pre-process, 117.7ms inference, 1.5ms postprocess per image at shape (1, 3, 640, 640)\n",
      "\n",
      "0: 384x640 5 cars, 109.6ms\n",
      "Speed: 1.2ms pre-process, 109.6ms inference, 1.0ms postprocess per image at shape (1, 3, 640, 640)\n",
      "\n"
     ]
    },
    {
     "name": "stdout",
     "output_type": "stream",
     "text": [
      "978 457 f1 5\n",
      "826 424 f1 4\n",
      "877 384 f1 1\n",
      "936 420 f1 6\n",
      "1034 491 f1 2\n",
      "878 383 f1 1\n"
     ]
    },
    {
     "name": "stderr",
     "output_type": "stream",
     "text": [
      "0: 384x640 5 cars, 111.6ms\n",
      "Speed: 0.0ms pre-process, 111.6ms inference, 2.0ms postprocess per image at shape (1, 3, 640, 640)\n",
      "\n",
      "0: 384x640 5 cars, 109.0ms\n",
      "Speed: 1.0ms pre-process, 109.0ms inference, 2.2ms postprocess per image at shape (1, 3, 640, 640)\n",
      "\n"
     ]
    },
    {
     "name": "stdout",
     "output_type": "stream",
     "text": [
      "978 457 f1 5\n",
      "878 382 f1 1\n",
      "810 422 f1 7\n",
      "935 420 f1 6\n",
      "978 458 f1 5\n",
      "1036 491 f1 2\n",
      "878 383 f1 1\n"
     ]
    },
    {
     "name": "stderr",
     "output_type": "stream",
     "text": [
      "0: 384x640 5 cars, 129.7ms\n",
      "Speed: 1.0ms pre-process, 129.7ms inference, 2.0ms postprocess per image at shape (1, 3, 640, 640)\n",
      "\n",
      "0: 384x640 5 cars, 114.2ms\n",
      "Speed: 1.0ms pre-process, 114.2ms inference, 1.0ms postprocess per image at shape (1, 3, 640, 640)\n",
      "\n"
     ]
    },
    {
     "name": "stdout",
     "output_type": "stream",
     "text": [
      "935 421 f1 6\n",
      "978 459 f1 5\n",
      "878 384 f1 1\n",
      "810 422 f1 7\n",
      "1036 492 f1 2\n"
     ]
    },
    {
     "name": "stderr",
     "output_type": "stream",
     "text": [
      "0: 384x640 5 cars, 112.5ms\n",
      "Speed: 1.0ms pre-process, 112.5ms inference, 2.5ms postprocess per image at shape (1, 3, 640, 640)\n",
      "\n",
      "0: 384x640 5 cars, 110.8ms\n",
      "Speed: 1.0ms pre-process, 110.8ms inference, 1.0ms postprocess per image at shape (1, 3, 640, 640)\n",
      "\n"
     ]
    },
    {
     "name": "stdout",
     "output_type": "stream",
     "text": [
      "935 421 f1 6\n",
      "978 459 f1 5\n",
      "1037 492 f1 2\n",
      "878 384 f1 1\n",
      "809 422 f1 7\n",
      "1036 491 f1 2\n",
      "878 385 f1 1\n"
     ]
    },
    {
     "name": "stderr",
     "output_type": "stream",
     "text": [
      "0: 384x640 5 cars, 110.6ms\n",
      "Speed: 1.0ms pre-process, 110.6ms inference, 1.0ms postprocess per image at shape (1, 3, 640, 640)\n",
      "\n",
      "0: 384x640 5 cars, 111.7ms\n",
      "Speed: 1.0ms pre-process, 111.7ms inference, 1.6ms postprocess per image at shape (1, 3, 640, 640)\n",
      "\n"
     ]
    },
    {
     "name": "stdout",
     "output_type": "stream",
     "text": [
      "935 421 f1 6\n",
      "978 458 f1 5\n",
      "808 418 f1 7\n",
      "934 421 f1 6\n",
      "978 457 f1 5\n",
      "1034 491 f1 2\n",
      "877 383 f1 1\n"
     ]
    },
    {
     "name": "stderr",
     "output_type": "stream",
     "text": [
      "0: 384x640 5 cars, 126.8ms\n",
      "Speed: 1.0ms pre-process, 126.8ms inference, 1.5ms postprocess per image at shape (1, 3, 640, 640)\n",
      "\n",
      "0: 384x640 5 cars, 113.4ms\n",
      "Speed: 1.0ms pre-process, 113.4ms inference, 1.4ms postprocess per image at shape (1, 3, 640, 640)\n",
      "\n"
     ]
    },
    {
     "name": "stdout",
     "output_type": "stream",
     "text": [
      "808 417 f1 7\n",
      "877 382 f1 1\n",
      "808 416 f1 7\n",
      "934 421 f1 6\n",
      "978 456 f1 5\n",
      "1034 491 f1 2\n"
     ]
    },
    {
     "name": "stderr",
     "output_type": "stream",
     "text": [
      "0: 384x640 6 cars, 115.7ms\n",
      "Speed: 0.0ms pre-process, 115.7ms inference, 1.0ms postprocess per image at shape (1, 3, 640, 640)\n",
      "\n",
      "0: 384x640 6 cars, 109.1ms\n",
      "Speed: 1.6ms pre-process, 109.1ms inference, 1.0ms postprocess per image at shape (1, 3, 640, 640)\n",
      "\n"
     ]
    },
    {
     "name": "stdout",
     "output_type": "stream",
     "text": [
      "805 414 f1 7\n",
      "978 457 f1 5\n",
      "1034 492 f1 2\n",
      "878 381 f1 1\n",
      "803 413 f1 7\n",
      "933 421 f1 6\n",
      "978 458 f1 5\n"
     ]
    },
    {
     "name": "stderr",
     "output_type": "stream",
     "text": [
      "0: 384x640 5 cars, 109.8ms\n",
      "Speed: 1.0ms pre-process, 109.8ms inference, 2.1ms postprocess per image at shape (1, 3, 640, 640)\n",
      "\n",
      "0: 384x640 6 cars, 109.8ms\n",
      "Speed: 1.0ms pre-process, 109.8ms inference, 1.2ms postprocess per image at shape (1, 3, 640, 640)\n",
      "\n"
     ]
    },
    {
     "name": "stdout",
     "output_type": "stream",
     "text": [
      "1034 492 f1 2\n",
      "878 381 f1 1\n",
      "802 413 f1 7\n",
      "933 421 f1 6\n",
      "977 458 f1 5\n",
      "1033 491 f1 2\n"
     ]
    },
    {
     "name": "stderr",
     "output_type": "stream",
     "text": [
      "0: 384x640 6 cars, 117.6ms\n",
      "Speed: 1.0ms pre-process, 117.6ms inference, 2.0ms postprocess per image at shape (1, 3, 640, 640)\n",
      "\n",
      "0: 384x640 5 cars, 120.0ms\n",
      "Speed: 1.0ms pre-process, 120.0ms inference, 2.0ms postprocess per image at shape (1, 3, 640, 640)\n",
      "\n"
     ]
    },
    {
     "name": "stdout",
     "output_type": "stream",
     "text": [
      "878 380 f1 1\n",
      "803 413 f1 7\n",
      "933 421 f1 6\n",
      "977 459 f1 5\n",
      "1034 491 f1 2\n",
      "877 381 f1 1\n"
     ]
    },
    {
     "name": "stderr",
     "output_type": "stream",
     "text": [
      "0: 384x640 5 cars, 115.7ms\n",
      "Speed: 1.0ms pre-process, 115.7ms inference, 1.0ms postprocess per image at shape (1, 3, 640, 640)\n",
      "\n",
      "0: 384x640 5 cars, 114.2ms\n",
      "Speed: 1.0ms pre-process, 114.2ms inference, 1.0ms postprocess per image at shape (1, 3, 640, 640)\n",
      "\n"
     ]
    },
    {
     "name": "stdout",
     "output_type": "stream",
     "text": [
      "802 412 f1 7\n",
      "932 421 f1 6\n",
      "976 459 f1 5\n",
      "1033 491 f1 2\n",
      "877 380 f1 1\n"
     ]
    },
    {
     "name": "stderr",
     "output_type": "stream",
     "text": [
      "0: 384x640 5 cars, 111.4ms\n",
      "Speed: 1.0ms pre-process, 111.4ms inference, 1.0ms postprocess per image at shape (1, 3, 640, 640)\n",
      "\n",
      "0: 384x640 5 cars, 112.7ms\n",
      "Speed: 1.0ms pre-process, 112.7ms inference, 1.6ms postprocess per image at shape (1, 3, 640, 640)\n",
      "\n"
     ]
    },
    {
     "name": "stdout",
     "output_type": "stream",
     "text": [
      "801 412 f1 7\n",
      "932 420 f1 6\n",
      "976 459 f1 5\n",
      "1032 491 f1 2\n",
      "876 380 f1 1\n",
      "799 411 f1 7\n",
      "932 419 f1 6\n",
      "977 460 f1 5\n",
      "1034 491 f1 2\n"
     ]
    },
    {
     "name": "stderr",
     "output_type": "stream",
     "text": [
      "0: 384x640 5 cars, 135.9ms\n",
      "Speed: 0.0ms pre-process, 135.9ms inference, 2.0ms postprocess per image at shape (1, 3, 640, 640)\n",
      "\n",
      "0: 384x640 5 cars, 117.1ms\n",
      "Speed: 1.0ms pre-process, 117.1ms inference, 1.1ms postprocess per image at shape (1, 3, 640, 640)\n",
      "\n"
     ]
    },
    {
     "name": "stdout",
     "output_type": "stream",
     "text": [
      "978 461 f1 5\n",
      "876 380 f1 1\n",
      "798 411 f1 7\n",
      "932 419 f1 6\n",
      "1034 491 f1 2\n"
     ]
    },
    {
     "name": "stderr",
     "output_type": "stream",
     "text": [
      "0: 384x640 5 cars, 119.4ms\n",
      "Speed: 1.0ms pre-process, 119.4ms inference, 1.0ms postprocess per image at shape (1, 3, 640, 640)\n",
      "\n",
      "0: 384x640 5 cars, 126.0ms\n",
      "Speed: 1.0ms pre-process, 126.0ms inference, 1.0ms postprocess per image at shape (1, 3, 640, 640)\n",
      "\n"
     ]
    },
    {
     "name": "stdout",
     "output_type": "stream",
     "text": [
      "933 419 f1 6\n",
      "978 461 f1 5\n",
      "1030 491 f1 2\n",
      "877 380 f1 1\n",
      "798 411 f1 7\n",
      "1034 491 f1 2\n"
     ]
    },
    {
     "name": "stderr",
     "output_type": "stream",
     "text": [
      "0: 384x640 5 cars, 114.4ms\n",
      "Speed: 1.0ms pre-process, 114.4ms inference, 3.0ms postprocess per image at shape (1, 3, 640, 640)\n",
      "\n",
      "0: 384x640 5 cars, 110.5ms\n",
      "Speed: 1.0ms pre-process, 110.5ms inference, 1.0ms postprocess per image at shape (1, 3, 640, 640)\n",
      "\n"
     ]
    },
    {
     "name": "stdout",
     "output_type": "stream",
     "text": [
      "933 419 f1 6\n",
      "978 461 f1 5\n",
      "1036 491 f1 2\n",
      "877 380 f1 1\n",
      "798 411 f1 7\n",
      "977 460 f1 5\n",
      "1036 492 f1 2\n"
     ]
    },
    {
     "name": "stderr",
     "output_type": "stream",
     "text": [
      "0: 384x640 5 cars, 135.3ms\n",
      "Speed: 1.0ms pre-process, 135.3ms inference, 1.5ms postprocess per image at shape (1, 3, 640, 640)\n",
      "\n",
      "0: 384x640 5 cars, 121.5ms\n",
      "Speed: 0.0ms pre-process, 121.5ms inference, 1.3ms postprocess per image at shape (1, 3, 640, 640)\n",
      "\n"
     ]
    },
    {
     "name": "stdout",
     "output_type": "stream",
     "text": [
      "933 419 f1 6\n",
      "877 380 f1 1\n",
      "799 411 f1 7\n",
      "977 460 f1 5\n",
      "1037 492 f1 2\n"
     ]
    },
    {
     "name": "stderr",
     "output_type": "stream",
     "text": [
      "0: 384x640 3 cars, 115.4ms\n",
      "Speed: 1.0ms pre-process, 115.4ms inference, 0.0ms postprocess per image at shape (1, 3, 640, 640)\n",
      "\n",
      "0: 384x640 3 cars, 114.4ms\n",
      "Speed: 1.0ms pre-process, 114.4ms inference, 1.0ms postprocess per image at shape (1, 3, 640, 640)\n",
      "\n"
     ]
    },
    {
     "name": "stdout",
     "output_type": "stream",
     "text": [
      "976 461 f1 5\n",
      "1038 491 f1 2\n",
      "877 381 f1 1\n",
      "1039 491 f1 2\n"
     ]
    },
    {
     "name": "stderr",
     "output_type": "stream",
     "text": [
      "0: 384x640 3 cars, 115.5ms\n",
      "Speed: 1.0ms pre-process, 115.5ms inference, 1.1ms postprocess per image at shape (1, 3, 640, 640)\n",
      "\n",
      "0: 384x640 3 cars, 111.2ms\n",
      "Speed: 1.0ms pre-process, 111.2ms inference, 1.3ms postprocess per image at shape (1, 3, 640, 640)\n",
      "\n"
     ]
    },
    {
     "name": "stdout",
     "output_type": "stream",
     "text": [
      "976 461 f1 5\n",
      "1038 491 f1 2\n",
      "876 381 f1 1\n",
      "1037 492 f1 2\n",
      "876 382 f1 1\n"
     ]
    },
    {
     "name": "stderr",
     "output_type": "stream",
     "text": [
      "0: 384x640 3 cars, 131.5ms\n",
      "Speed: 0.0ms pre-process, 131.5ms inference, 1.0ms postprocess per image at shape (1, 3, 640, 640)\n",
      "\n",
      "0: 384x640 3 cars, 118.5ms\n",
      "Speed: 1.0ms pre-process, 118.5ms inference, 2.0ms postprocess per image at shape (1, 3, 640, 640)\n",
      "\n"
     ]
    },
    {
     "name": "stdout",
     "output_type": "stream",
     "text": [
      "976 461 f1 5\n",
      "977 461 f1 5\n",
      "1036 492 f1 2\n",
      "876 382 f1 1\n"
     ]
    },
    {
     "name": "stderr",
     "output_type": "stream",
     "text": [
      "0: 384x640 2 cars, 117.4ms\n",
      "Speed: 1.0ms pre-process, 117.4ms inference, 2.0ms postprocess per image at shape (1, 3, 640, 640)\n",
      "\n",
      "0: 384x640 2 cars, 112.7ms\n",
      "Speed: 1.0ms pre-process, 112.7ms inference, 1.5ms postprocess per image at shape (1, 3, 640, 640)\n",
      "\n",
      "0: 384x640 2 cars, 111.0ms\n",
      "Speed: 1.3ms pre-process, 111.0ms inference, 1.4ms postprocess per image at shape (1, 3, 640, 640)\n",
      "\n"
     ]
    },
    {
     "name": "stdout",
     "output_type": "stream",
     "text": [
      "978 461 f1 5\n",
      "1036 492 f1 2\n",
      "1035 492 f1 2\n"
     ]
    },
    {
     "name": "stderr",
     "output_type": "stream",
     "text": [
      "0: 384x640 2 cars, 112.6ms\n",
      "Speed: 1.0ms pre-process, 112.6ms inference, 2.0ms postprocess per image at shape (1, 3, 640, 640)\n",
      "\n",
      "0: 384x640 2 cars, 133.8ms\n",
      "Speed: 0.5ms pre-process, 133.8ms inference, 2.0ms postprocess per image at shape (1, 3, 640, 640)\n",
      "\n"
     ]
    },
    {
     "name": "stdout",
     "output_type": "stream",
     "text": [
      "978 461 f1 5\n",
      "1037 492 f1 2\n"
     ]
    },
    {
     "name": "stderr",
     "output_type": "stream",
     "text": [
      "0: 384x640 2 cars, 118.8ms\n",
      "Speed: 1.0ms pre-process, 118.8ms inference, 1.3ms postprocess per image at shape (1, 3, 640, 640)\n",
      "\n",
      "0: 384x640 3 cars, 110.8ms\n",
      "Speed: 1.0ms pre-process, 110.8ms inference, 1.0ms postprocess per image at shape (1, 3, 640, 640)\n",
      "\n"
     ]
    },
    {
     "name": "stdout",
     "output_type": "stream",
     "text": [
      "978 461 f1 5\n",
      "977 460 f1 5\n",
      "1038 493 f1 2\n"
     ]
    },
    {
     "name": "stderr",
     "output_type": "stream",
     "text": [
      "0: 384x640 3 cars, 112.4ms\n",
      "Speed: 1.0ms pre-process, 112.4ms inference, 1.3ms postprocess per image at shape (1, 3, 640, 640)\n",
      "\n",
      "0: 384x640 4 cars, 117.0ms\n",
      "Speed: 1.0ms pre-process, 117.0ms inference, 2.0ms postprocess per image at shape (1, 3, 640, 640)\n",
      "\n"
     ]
    },
    {
     "name": "stdout",
     "output_type": "stream",
     "text": [
      "976 460 f1 5\n",
      "1038 493 f1 2\n",
      "877 385 f1 1\n"
     ]
    },
    {
     "name": "stderr",
     "output_type": "stream",
     "text": [
      "0: 384x640 3 cars, 115.7ms\n",
      "Speed: 1.0ms pre-process, 115.7ms inference, 1.0ms postprocess per image at shape (1, 3, 640, 640)\n",
      "\n",
      "0: 384x640 3 cars, 130.2ms\n",
      "Speed: 1.4ms pre-process, 130.2ms inference, 1.0ms postprocess per image at shape (1, 3, 640, 640)\n",
      "\n"
     ]
    },
    {
     "name": "stdout",
     "output_type": "stream",
     "text": [
      "976 460 f1 5\n",
      "1038 491 f1 2\n",
      "878 385 f1 1\n",
      "1039 491 f1 2\n",
      "878 384 f1 1\n"
     ]
    },
    {
     "name": "stderr",
     "output_type": "stream",
     "text": [
      "0: 384x640 3 cars, 117.2ms\n",
      "Speed: 0.0ms pre-process, 117.2ms inference, 1.4ms postprocess per image at shape (1, 3, 640, 640)\n",
      "\n",
      "0: 384x640 3 cars, 124.4ms\n",
      "Speed: 1.0ms pre-process, 124.4ms inference, 3.0ms postprocess per image at shape (1, 3, 640, 640)\n",
      "\n"
     ]
    },
    {
     "name": "stdout",
     "output_type": "stream",
     "text": [
      "976 459 f1 5\n",
      "878 383 f1 1\n",
      "1039 490 f1 2\n",
      "878 382 f1 1\n"
     ]
    },
    {
     "name": "stderr",
     "output_type": "stream",
     "text": [
      "0: 384x640 4 cars, 119.9ms\n",
      "Speed: 1.0ms pre-process, 119.9ms inference, 1.1ms postprocess per image at shape (1, 3, 640, 640)\n",
      "\n",
      "0: 384x640 4 cars, 112.4ms\n",
      "Speed: 1.0ms pre-process, 112.4ms inference, 2.0ms postprocess per image at shape (1, 3, 640, 640)\n",
      "\n"
     ]
    },
    {
     "name": "stdout",
     "output_type": "stream",
     "text": [
      "976 459 f1 5\n",
      "1039 490 f1 2\n",
      "878 382 f1 1\n"
     ]
    },
    {
     "name": "stderr",
     "output_type": "stream",
     "text": [
      "0: 384x640 4 cars, 114.8ms\n",
      "Speed: 1.0ms pre-process, 114.8ms inference, 2.0ms postprocess per image at shape (1, 3, 640, 640)\n",
      "\n",
      "0: 384x640 4 cars, 124.1ms\n",
      "Speed: 1.0ms pre-process, 124.1ms inference, 1.3ms postprocess per image at shape (1, 3, 640, 640)\n",
      "\n"
     ]
    },
    {
     "name": "stdout",
     "output_type": "stream",
     "text": [
      "772 379 f1 9\n",
      "976 459 f1 5\n",
      "771 381 f1 9\n",
      "1039 490 f1 2\n",
      "877 382 f1 1\n"
     ]
    },
    {
     "name": "stderr",
     "output_type": "stream",
     "text": [
      "0: 384x640 4 cars, 116.1ms\n",
      "Speed: 1.0ms pre-process, 116.1ms inference, 1.0ms postprocess per image at shape (1, 3, 640, 640)\n",
      "\n",
      "0: 384x640 4 cars, 112.2ms\n",
      "Speed: 1.0ms pre-process, 112.2ms inference, 2.2ms postprocess per image at shape (1, 3, 640, 640)\n",
      "\n"
     ]
    },
    {
     "name": "stdout",
     "output_type": "stream",
     "text": [
      "771 382 f1 9\n",
      "976 459 f1 5\n",
      "771 385 f1 9\n",
      "975 459 f1 5\n",
      "1039 490 f1 2\n",
      "877 382 f1 1\n"
     ]
    },
    {
     "name": "stderr",
     "output_type": "stream",
     "text": [
      "0: 384x640 4 cars, 113.3ms\n",
      "Speed: 1.0ms pre-process, 113.3ms inference, 2.0ms postprocess per image at shape (1, 3, 640, 640)\n",
      "\n",
      "0: 384x640 3 cars, 113.8ms\n",
      "Speed: 0.0ms pre-process, 113.8ms inference, 2.0ms postprocess per image at shape (1, 3, 640, 640)\n",
      "\n"
     ]
    },
    {
     "name": "stdout",
     "output_type": "stream",
     "text": [
      "770 387 f1 9\n",
      "877 383 f1 1\n",
      "975 459 f1 5\n",
      "1039 490 f1 2\n",
      "877 382 f1 1\n"
     ]
    },
    {
     "name": "stderr",
     "output_type": "stream",
     "text": [
      "0: 384x640 3 cars, 127.3ms\n",
      "Speed: 1.0ms pre-process, 127.3ms inference, 2.3ms postprocess per image at shape (1, 3, 640, 640)\n",
      "\n",
      "0: 384x640 3 cars, 118.6ms\n",
      "Speed: 0.0ms pre-process, 118.6ms inference, 2.0ms postprocess per image at shape (1, 3, 640, 640)\n",
      "\n",
      "0: 384x640 3 cars, 112.6ms\n",
      "Speed: 1.0ms pre-process, 112.6ms inference, 1.0ms postprocess per image at shape (1, 3, 640, 640)\n",
      "\n"
     ]
    },
    {
     "name": "stdout",
     "output_type": "stream",
     "text": [
      "976 459 f1 5\n",
      "1039 490 f1 2\n",
      "877 382 f1 1\n",
      "977 459 f1 5\n"
     ]
    },
    {
     "name": "stderr",
     "output_type": "stream",
     "text": [
      "0: 384x640 3 cars, 116.3ms\n",
      "Speed: 1.0ms pre-process, 116.3ms inference, 1.2ms postprocess per image at shape (1, 3, 640, 640)\n",
      "\n",
      "0: 384x640 3 cars, 110.7ms\n",
      "Speed: 1.2ms pre-process, 110.7ms inference, 1.0ms postprocess per image at shape (1, 3, 640, 640)\n",
      "\n"
     ]
    },
    {
     "name": "stdout",
     "output_type": "stream",
     "text": [
      "1039 490 f1 2\n",
      "877 382 f1 1\n",
      "977 459 f1 5\n"
     ]
    },
    {
     "name": "stderr",
     "output_type": "stream",
     "text": [
      "0: 384x640 3 cars, 116.2ms\n",
      "Speed: 1.0ms pre-process, 116.2ms inference, 1.5ms postprocess per image at shape (1, 3, 640, 640)\n",
      "\n",
      "0: 384x640 3 cars, 112.6ms\n",
      "Speed: 0.0ms pre-process, 112.6ms inference, 2.0ms postprocess per image at shape (1, 3, 640, 640)\n",
      "\n"
     ]
    },
    {
     "name": "stdout",
     "output_type": "stream",
     "text": [
      "1039 490 f1 2\n",
      "877 382 f1 1\n",
      "977 459 f1 5\n"
     ]
    },
    {
     "name": "stderr",
     "output_type": "stream",
     "text": [
      "0: 384x640 3 cars, 136.0ms\n",
      "Speed: 1.0ms pre-process, 136.0ms inference, 1.0ms postprocess per image at shape (1, 3, 640, 640)\n",
      "\n",
      "0: 384x640 3 cars, 121.2ms\n",
      "Speed: 1.0ms pre-process, 121.2ms inference, 2.2ms postprocess per image at shape (1, 3, 640, 640)\n",
      "\n"
     ]
    },
    {
     "name": "stdout",
     "output_type": "stream",
     "text": [
      "1039 490 f1 2\n",
      "877 382 f1 1\n",
      "977 459 f1 5\n"
     ]
    },
    {
     "name": "stderr",
     "output_type": "stream",
     "text": [
      "0: 384x640 3 cars, 115.1ms\n",
      "Speed: 1.0ms pre-process, 115.1ms inference, 2.0ms postprocess per image at shape (1, 3, 640, 640)\n",
      "\n",
      "0: 384x640 3 cars, 114.8ms\n",
      "Speed: 1.0ms pre-process, 114.8ms inference, 1.0ms postprocess per image at shape (1, 3, 640, 640)\n",
      "\n"
     ]
    },
    {
     "name": "stdout",
     "output_type": "stream",
     "text": [
      "1039 490 f1 2\n",
      "877 382 f1 1\n",
      "977 459 f1 5\n"
     ]
    },
    {
     "name": "stderr",
     "output_type": "stream",
     "text": [
      "0: 384x640 3 cars, 115.2ms\n",
      "Speed: 1.0ms pre-process, 115.2ms inference, 1.5ms postprocess per image at shape (1, 3, 640, 640)\n",
      "\n",
      "0: 384x640 3 cars, 135.0ms\n",
      "Speed: 1.0ms pre-process, 135.0ms inference, 1.0ms postprocess per image at shape (1, 3, 640, 640)\n",
      "\n"
     ]
    },
    {
     "name": "stdout",
     "output_type": "stream",
     "text": [
      "976 459 f1 5\n",
      "1039 490 f1 2\n",
      "877 382 f1 1\n",
      "877 381 f1 1\n"
     ]
    },
    {
     "name": "stderr",
     "output_type": "stream",
     "text": [
      "0: 384x640 3 cars, 124.9ms\n",
      "Speed: 0.0ms pre-process, 124.9ms inference, 2.1ms postprocess per image at shape (1, 3, 640, 640)\n",
      "\n",
      "0: 384x640 3 cars, 116.1ms\n",
      "Speed: 1.0ms pre-process, 116.1ms inference, 1.2ms postprocess per image at shape (1, 3, 640, 640)\n",
      "\n"
     ]
    },
    {
     "name": "stdout",
     "output_type": "stream",
     "text": [
      "976 459 f1 5\n",
      "1040 490 f1 2\n",
      "877 381 f1 1\n"
     ]
    },
    {
     "name": "stderr",
     "output_type": "stream",
     "text": [
      "0: 384x640 3 cars, 115.4ms\n",
      "Speed: 1.0ms pre-process, 115.4ms inference, 1.0ms postprocess per image at shape (1, 3, 640, 640)\n",
      "\n",
      "0: 384x640 4 cars, 115.0ms\n",
      "Speed: 0.0ms pre-process, 115.0ms inference, 2.0ms postprocess per image at shape (1, 3, 640, 640)\n",
      "\n"
     ]
    },
    {
     "name": "stdout",
     "output_type": "stream",
     "text": [
      "976 459 f1 5\n",
      "1040 490 f1 2\n",
      "875 381 f1 1\n"
     ]
    },
    {
     "name": "stderr",
     "output_type": "stream",
     "text": [
      "0: 384x640 4 cars, 126.8ms\n",
      "Speed: 1.0ms pre-process, 126.8ms inference, 3.0ms postprocess per image at shape (1, 3, 640, 640)\n",
      "\n",
      "0: 384x640 4 cars, 118.0ms\n",
      "Speed: 1.0ms pre-process, 118.0ms inference, 1.0ms postprocess per image at shape (1, 3, 640, 640)\n",
      "\n"
     ]
    },
    {
     "name": "stdout",
     "output_type": "stream",
     "text": [
      "976 459 f1 5\n",
      "1040 490 f1 2\n",
      "977 460 f1 5\n",
      "876 380 f1 1\n"
     ]
    },
    {
     "name": "stderr",
     "output_type": "stream",
     "text": [
      "0: 384x640 4 cars, 117.4ms\n",
      "Speed: 1.5ms pre-process, 117.4ms inference, 1.0ms postprocess per image at shape (1, 3, 640, 640)\n",
      "\n",
      "0: 384x640 4 cars, 112.9ms\n",
      "Speed: 1.0ms pre-process, 112.9ms inference, 1.0ms postprocess per image at shape (1, 3, 640, 640)\n",
      "\n"
     ]
    },
    {
     "name": "stdout",
     "output_type": "stream",
     "text": [
      "748 369 f1 10\n",
      "1039 490 f1 2\n",
      "747 368 f1 10\n",
      "978 460 f1 5\n",
      "876 380 illegal parking! 1\n"
     ]
    },
    {
     "name": "stderr",
     "output_type": "stream",
     "text": [
      "0: 384x640 4 cars, 113.5ms\n",
      "Speed: 1.0ms pre-process, 113.5ms inference, 1.0ms postprocess per image at shape (1, 3, 640, 640)\n",
      "\n",
      "0: 384x640 4 cars, 133.4ms\n",
      "Speed: 1.0ms pre-process, 133.4ms inference, 1.0ms postprocess per image at shape (1, 3, 640, 640)\n",
      "\n"
     ]
    },
    {
     "name": "stdout",
     "output_type": "stream",
     "text": [
      "1039 490 f1 2\n",
      "747 368 f1 10\n",
      "978 460 f1 5\n",
      "876 380 illegal parking! 1\n"
     ]
    },
    {
     "name": "stderr",
     "output_type": "stream",
     "text": [
      "0: 384x640 4 cars, 116.5ms\n",
      "Speed: 1.0ms pre-process, 116.5ms inference, 2.0ms postprocess per image at shape (1, 3, 640, 640)\n",
      "\n",
      "0: 384x640 4 cars, 113.6ms\n",
      "Speed: 1.0ms pre-process, 113.6ms inference, 1.0ms postprocess per image at shape (1, 3, 640, 640)\n",
      "\n"
     ]
    },
    {
     "name": "stdout",
     "output_type": "stream",
     "text": [
      "1039 490 f1 2\n",
      "745 368 f1 10\n",
      "978 460 f1 5\n",
      "876 380 illegal parking! 1\n"
     ]
    },
    {
     "name": "stderr",
     "output_type": "stream",
     "text": [
      "0: 384x640 4 cars, 115.5ms\n",
      "Speed: 1.0ms pre-process, 115.5ms inference, 1.2ms postprocess per image at shape (1, 3, 640, 640)\n",
      "\n",
      "0: 384x640 4 cars, 109.7ms\n",
      "Speed: 1.0ms pre-process, 109.7ms inference, 1.0ms postprocess per image at shape (1, 3, 640, 640)\n",
      "\n"
     ]
    },
    {
     "name": "stdout",
     "output_type": "stream",
     "text": [
      "743 368 f1 10\n",
      "1039 490 f1 2\n",
      "875 380 illegal parking! 1\n",
      "742 368 f1 10\n",
      "978 460 f1 5\n"
     ]
    },
    {
     "name": "stderr",
     "output_type": "stream",
     "text": [
      "0: 384x640 4 cars, 135.1ms\n",
      "Speed: 1.0ms pre-process, 135.1ms inference, 1.0ms postprocess per image at shape (1, 3, 640, 640)\n",
      "\n",
      "0: 384x640 4 cars, 116.8ms\n",
      "Speed: 1.6ms pre-process, 116.8ms inference, 1.0ms postprocess per image at shape (1, 3, 640, 640)\n",
      "\n"
     ]
    },
    {
     "name": "stdout",
     "output_type": "stream",
     "text": [
      "740 369 f1 10\n",
      "1038 490 f1 2\n",
      "875 380 illegal parking! 1\n",
      "978 460 f1 5\n"
     ]
    },
    {
     "name": "stderr",
     "output_type": "stream",
     "text": [
      "0: 384x640 4 cars, 119.3ms\n",
      "Speed: 1.0ms pre-process, 119.3ms inference, 2.0ms postprocess per image at shape (1, 3, 640, 640)\n",
      "\n",
      "0: 384x640 4 cars, 109.4ms\n",
      "Speed: 1.0ms pre-process, 109.4ms inference, 1.0ms postprocess per image at shape (1, 3, 640, 640)\n",
      "\n"
     ]
    },
    {
     "name": "stdout",
     "output_type": "stream",
     "text": [
      "740 369 f1 10\n",
      "1038 490 f1 2\n",
      "875 380 illegal parking! 1\n",
      "978 460 f1 5\n"
     ]
    },
    {
     "name": "stderr",
     "output_type": "stream",
     "text": [
      "0: 384x640 4 cars, 115.4ms\n",
      "Speed: 0.0ms pre-process, 115.4ms inference, 1.0ms postprocess per image at shape (1, 3, 640, 640)\n",
      "\n",
      "0: 384x640 5 cars, 133.5ms\n",
      "Speed: 1.0ms pre-process, 133.5ms inference, 1.0ms postprocess per image at shape (1, 3, 640, 640)\n",
      "\n"
     ]
    },
    {
     "name": "stdout",
     "output_type": "stream",
     "text": [
      "740 369 f1 10\n",
      "1038 490 f1 2\n",
      "875 380 illegal parking! 1\n",
      "737 368 f1 10\n",
      "980 461 f1 5\n",
      "1033 490 f1 2\n",
      "876 378 illegal parking! 1\n"
     ]
    },
    {
     "name": "stderr",
     "output_type": "stream",
     "text": [
      "0: 384x640 5 cars, 125.8ms\n",
      "Speed: 1.0ms pre-process, 125.8ms inference, 2.0ms postprocess per image at shape (1, 3, 640, 640)\n",
      "\n",
      "0: 384x640 5 cars, 118.5ms\n",
      "Speed: 1.0ms pre-process, 118.5ms inference, 1.0ms postprocess per image at shape (1, 3, 640, 640)\n",
      "\n"
     ]
    },
    {
     "name": "stdout",
     "output_type": "stream",
     "text": [
      "736 367 f1 10\n",
      "981 461 f1 5\n",
      "1031 490 f1 2\n",
      "877 378 illegal parking! 1\n",
      "735 367 f1 10\n",
      "1030 490 f1 2\n"
     ]
    },
    {
     "name": "stderr",
     "output_type": "stream",
     "text": [
      "0: 384x640 4 cars, 116.1ms\n",
      "Speed: 1.0ms pre-process, 116.1ms inference, 0.0ms postprocess per image at shape (1, 3, 640, 640)\n",
      "\n",
      "0: 384x640 5 cars, 110.1ms\n",
      "Speed: 1.5ms pre-process, 110.1ms inference, 1.2ms postprocess per image at shape (1, 3, 640, 640)\n",
      "\n"
     ]
    },
    {
     "name": "stdout",
     "output_type": "stream",
     "text": [
      "1004 467 f1 11\n",
      "733 366 f1 10\n",
      "980 461 f1 5\n",
      "1032 491 illegal parking! 2\n",
      "732 366 f1 10\n"
     ]
    },
    {
     "name": "stderr",
     "output_type": "stream",
     "text": [
      "0: 384x640 5 cars, 135.8ms\n",
      "Speed: 0.0ms pre-process, 135.8ms inference, 1.0ms postprocess per image at shape (1, 3, 640, 640)\n",
      "\n",
      "0: 384x640 6 cars, 125.1ms\n",
      "Speed: 1.0ms pre-process, 125.1ms inference, 2.5ms postprocess per image at shape (1, 3, 640, 640)\n",
      "\n"
     ]
    },
    {
     "name": "stdout",
     "output_type": "stream",
     "text": [
      "1003 466 f1 11\n",
      "731 366 f1 10\n",
      "980 461 f1 5\n",
      "1033 491 illegal parking! 2\n",
      "1003 467 f1 11\n",
      "731 362 f1 10\n",
      "1032 491 illegal parking! 2\n",
      "875 379 illegal parking! 1\n"
     ]
    },
    {
     "name": "stderr",
     "output_type": "stream",
     "text": [
      "0: 384x640 6 cars, 123.6ms\n",
      "Speed: 1.5ms pre-process, 123.6ms inference, 2.0ms postprocess per image at shape (1, 3, 640, 640)\n",
      "\n",
      "0: 384x640 6 cars, 116.4ms\n",
      "Speed: 1.0ms pre-process, 116.4ms inference, 1.0ms postprocess per image at shape (1, 3, 640, 640)\n",
      "\n"
     ]
    },
    {
     "name": "stdout",
     "output_type": "stream",
     "text": [
      "731 361 f1 10\n",
      "980 461 f1 5\n",
      "874 379 illegal parking! 1\n",
      "1003 467 f1 11\n",
      "731 360 f1 10\n",
      "1032 491 illegal parking! 2\n"
     ]
    },
    {
     "name": "stderr",
     "output_type": "stream",
     "text": [
      "0: 384x640 6 cars, 121.2ms\n",
      "Speed: 1.0ms pre-process, 121.2ms inference, 1.0ms postprocess per image at shape (1, 3, 640, 640)\n",
      "\n",
      "0: 384x640 5 cars, 113.9ms\n",
      "Speed: 1.0ms pre-process, 113.9ms inference, 1.0ms postprocess per image at shape (1, 3, 640, 640)\n",
      "\n"
     ]
    },
    {
     "name": "stdout",
     "output_type": "stream",
     "text": [
      "1011 479 f1 12\n",
      "1003 468 f1 11\n",
      "730 354 f1 10\n",
      "980 462 f1 5\n",
      "874 379 illegal parking! 1\n",
      "1003 469 f1 11\n",
      "730 352 f1 10\n",
      "981 462 f1 5\n",
      "1029 490 illegal parking! 2\n",
      "874 380 illegal parking! 1\n"
     ]
    },
    {
     "name": "stderr",
     "output_type": "stream",
     "text": [
      "0: 384x640 5 cars, 145.3ms\n",
      "Speed: 1.0ms pre-process, 145.3ms inference, 1.0ms postprocess per image at shape (1, 3, 640, 640)\n",
      "\n",
      "0: 384x640 6 cars, 122.8ms\n",
      "Speed: 1.0ms pre-process, 122.8ms inference, 2.1ms postprocess per image at shape (1, 3, 640, 640)\n",
      "\n"
     ]
    },
    {
     "name": "stdout",
     "output_type": "stream",
     "text": [
      "729 348 f1 10\n",
      "980 462 f1 5\n",
      "1031 490 illegal parking! 2\n",
      "1003 469 f1 11\n",
      "728 346 f1 10\n",
      "1031 491 illegal parking! 2\n",
      "874 380 illegal parking! 1\n"
     ]
    },
    {
     "name": "stderr",
     "output_type": "stream",
     "text": [
      "0: 384x640 6 cars, 115.0ms\n",
      "Speed: 1.0ms pre-process, 115.0ms inference, 1.0ms postprocess per image at shape (1, 3, 640, 640)\n",
      "\n",
      "0: 384x640 5 cars, 109.1ms\n",
      "Speed: 1.0ms pre-process, 109.1ms inference, 2.0ms postprocess per image at shape (1, 3, 640, 640)\n",
      "\n"
     ]
    },
    {
     "name": "stdout",
     "output_type": "stream",
     "text": [
      "1003 467 f1 11\n",
      "727 347 f1 10\n",
      "979 462 f1 5\n",
      "1031 490 illegal parking! 2\n",
      "1002 466 f1 11\n",
      "727 348 f1 10\n",
      "1032 490 illegal parking! 2\n",
      "874 380 illegal parking! 1\n"
     ]
    },
    {
     "name": "stderr",
     "output_type": "stream",
     "text": [
      "0: 384x640 4 cars, 110.9ms\n",
      "Speed: 1.0ms pre-process, 110.9ms inference, 2.0ms postprocess per image at shape (1, 3, 640, 640)\n",
      "\n",
      "0: 384x640 4 cars, 108.2ms\n",
      "Speed: 1.0ms pre-process, 108.2ms inference, 1.0ms postprocess per image at shape (1, 3, 640, 640)\n",
      "\n"
     ]
    },
    {
     "name": "stdout",
     "output_type": "stream",
     "text": [
      "1001 464 f1 11\n",
      "979 461 f1 5\n",
      "1033 491 illegal parking! 2\n",
      "874 381 illegal parking! 1\n",
      "978 461 f1 5\n",
      "1034 491 illegal parking! 2\n"
     ]
    },
    {
     "name": "stderr",
     "output_type": "stream",
     "text": [
      "0: 384x640 5 cars, 130.4ms\n",
      "Speed: 1.0ms pre-process, 130.4ms inference, 2.0ms postprocess per image at shape (1, 3, 640, 640)\n",
      "\n",
      "0: 384x640 6 cars, 120.5ms\n",
      "Speed: 1.0ms pre-process, 120.5ms inference, 2.0ms postprocess per image at shape (1, 3, 640, 640)\n",
      "\n"
     ]
    },
    {
     "name": "stdout",
     "output_type": "stream",
     "text": [
      "1000 463 f1 11\n",
      "1035 491 illegal parking! 2\n",
      "874 381 illegal parking! 1\n",
      "978 461 f1 5\n"
     ]
    },
    {
     "name": "stderr",
     "output_type": "stream",
     "text": [
      "0: 384x640 5 cars, 129.9ms\n",
      "Speed: 1.5ms pre-process, 129.9ms inference, 1.5ms postprocess per image at shape (1, 3, 640, 640)\n",
      "\n",
      "0: 384x640 4 cars, 128.0ms\n",
      "Speed: 1.0ms pre-process, 128.0ms inference, 2.0ms postprocess per image at shape (1, 3, 640, 640)\n",
      "\n"
     ]
    },
    {
     "name": "stdout",
     "output_type": "stream",
     "text": [
      "1000 463 f1 11\n",
      "978 460 f1 5\n",
      "1035 491 illegal parking! 2\n",
      "874 381 illegal parking! 1\n",
      "1001 464 f1 11\n",
      "724 347 f1 10\n",
      "978 461 f1 5\n",
      "1034 491 illegal parking! 2\n"
     ]
    },
    {
     "name": "stderr",
     "output_type": "stream",
     "text": [
      "0: 384x640 5 cars, 112.1ms\n",
      "Speed: 1.0ms pre-process, 112.1ms inference, 1.0ms postprocess per image at shape (1, 3, 640, 640)\n",
      "\n",
      "0: 384x640 3 cars, 133.2ms\n",
      "Speed: 1.5ms pre-process, 133.2ms inference, 2.0ms postprocess per image at shape (1, 3, 640, 640)\n",
      "\n"
     ]
    },
    {
     "name": "stdout",
     "output_type": "stream",
     "text": [
      "1002 465 f1 11\n",
      "723 347 f1 10\n",
      "979 461 f1 5\n",
      "1001 464 f1 11\n",
      "722 345 f1 10\n",
      "978 460 f1 5\n"
     ]
    },
    {
     "name": "stderr",
     "output_type": "stream",
     "text": [
      "0: 384x640 3 cars, 117.6ms\n",
      "Speed: 1.0ms pre-process, 117.6ms inference, 2.0ms postprocess per image at shape (1, 3, 640, 640)\n",
      "\n",
      "0: 384x640 3 cars, 115.1ms\n",
      "Speed: 1.0ms pre-process, 115.1ms inference, 1.0ms postprocess per image at shape (1, 3, 640, 640)\n",
      "\n"
     ]
    },
    {
     "name": "stdout",
     "output_type": "stream",
     "text": [
      "722 346 f1 10\n",
      "1001 464 f1 11\n",
      "978 460 f1 5\n"
     ]
    },
    {
     "name": "stderr",
     "output_type": "stream",
     "text": [
      "0: 384x640 2 cars, 118.2ms\n",
      "Speed: 1.0ms pre-process, 118.2ms inference, 2.0ms postprocess per image at shape (1, 3, 640, 640)\n",
      "\n",
      "0: 384x640 2 cars, 114.6ms\n",
      "Speed: 1.0ms pre-process, 114.6ms inference, 2.0ms postprocess per image at shape (1, 3, 640, 640)\n",
      "\n"
     ]
    },
    {
     "name": "stdout",
     "output_type": "stream",
     "text": [
      "722 345 f1 10\n",
      "722 344 f1 10\n",
      "978 460 f1 5\n"
     ]
    },
    {
     "name": "stderr",
     "output_type": "stream",
     "text": [
      "0: 384x640 1 car, 120.9ms\n",
      "Speed: 0.1ms pre-process, 120.9ms inference, 3.0ms postprocess per image at shape (1, 3, 640, 640)\n",
      "\n",
      "0: 384x640 1 car, 124.4ms\n",
      "Speed: 1.0ms pre-process, 124.4ms inference, 2.0ms postprocess per image at shape (1, 3, 640, 640)\n",
      "\n",
      "0: 384x640 1 car, 117.3ms\n",
      "Speed: 0.0ms pre-process, 117.3ms inference, 2.0ms postprocess per image at shape (1, 3, 640, 640)\n",
      "\n"
     ]
    },
    {
     "name": "stdout",
     "output_type": "stream",
     "text": [
      "978 460 f1 5\n"
     ]
    },
    {
     "name": "stderr",
     "output_type": "stream",
     "text": [
      "0: 384x640 1 car, 116.1ms\n",
      "Speed: 1.0ms pre-process, 116.1ms inference, 1.2ms postprocess per image at shape (1, 3, 640, 640)\n",
      "\n",
      "0: 384x640 1 car, 114.9ms\n",
      "Speed: 1.0ms pre-process, 114.9ms inference, 2.0ms postprocess per image at shape (1, 3, 640, 640)\n",
      "\n"
     ]
    },
    {
     "name": "stdout",
     "output_type": "stream",
     "text": [
      "978 460 f1 5\n"
     ]
    },
    {
     "name": "stderr",
     "output_type": "stream",
     "text": [
      "0: 384x640 1 car, 116.4ms\n",
      "Speed: 1.0ms pre-process, 116.4ms inference, 2.0ms postprocess per image at shape (1, 3, 640, 640)\n",
      "\n",
      "0: 384x640 4 cars, 116.4ms\n",
      "Speed: 1.0ms pre-process, 116.4ms inference, 1.0ms postprocess per image at shape (1, 3, 640, 640)\n",
      "\n"
     ]
    },
    {
     "name": "stdout",
     "output_type": "stream",
     "text": [
      "978 460 f1 5\n"
     ]
    },
    {
     "name": "stderr",
     "output_type": "stream",
     "text": [
      "0: 384x640 3 cars, 136.2ms\n",
      "Speed: 1.5ms pre-process, 136.2ms inference, 1.0ms postprocess per image at shape (1, 3, 640, 640)\n",
      "\n",
      "0: 384x640 4 cars, 119.4ms\n",
      "Speed: 1.0ms pre-process, 119.4ms inference, 2.0ms postprocess per image at shape (1, 3, 640, 640)\n",
      "\n"
     ]
    },
    {
     "name": "stdout",
     "output_type": "stream",
     "text": [
      "978 460 f1 5\n",
      "936 418 f1 13\n",
      "712 339 f1 10\n"
     ]
    },
    {
     "name": "stderr",
     "output_type": "stream",
     "text": [
      "0: 384x640 3 cars, 116.7ms\n",
      "Speed: 1.0ms pre-process, 116.7ms inference, 1.0ms postprocess per image at shape (1, 3, 640, 640)\n",
      "\n",
      "0: 384x640 5 cars, 1 traffic light, 114.1ms\n",
      "Speed: 1.0ms pre-process, 114.1ms inference, 2.0ms postprocess per image at shape (1, 3, 640, 640)\n",
      "\n"
     ]
    },
    {
     "name": "stdout",
     "output_type": "stream",
     "text": [
      "978 460 f1 5\n",
      "936 418 f1 13\n",
      "711 337 f1 10\n"
     ]
    },
    {
     "name": "stderr",
     "output_type": "stream",
     "text": [
      "0: 384x640 4 cars, 116.3ms\n",
      "Speed: 1.0ms pre-process, 116.3ms inference, 1.0ms postprocess per image at shape (1, 3, 640, 640)\n",
      "\n",
      "0: 384x640 4 cars, 134.8ms\n",
      "Speed: 0.0ms pre-process, 134.8ms inference, 2.5ms postprocess per image at shape (1, 3, 640, 640)\n",
      "\n"
     ]
    },
    {
     "name": "stdout",
     "output_type": "stream",
     "text": [
      "936 417 f1 13\n",
      "978 460 illegal parking! 5\n",
      "936 418 f1 13\n",
      "709 336 f1 10\n",
      "875 381 illegal parking! 1\n"
     ]
    },
    {
     "name": "stderr",
     "output_type": "stream",
     "text": [
      "0: 384x640 4 cars, 123.8ms\n",
      "Speed: 1.0ms pre-process, 123.8ms inference, 1.0ms postprocess per image at shape (1, 3, 640, 640)\n",
      "\n",
      "0: 384x640 4 cars, 117.8ms\n",
      "Speed: 2.0ms pre-process, 117.8ms inference, 1.0ms postprocess per image at shape (1, 3, 640, 640)\n",
      "\n"
     ]
    },
    {
     "name": "stdout",
     "output_type": "stream",
     "text": [
      "978 460 illegal parking! 5\n",
      "875 380 illegal parking! 1\n",
      "708 336 f1 10\n"
     ]
    },
    {
     "name": "stderr",
     "output_type": "stream",
     "text": [
      "0: 384x640 5 cars, 116.5ms\n",
      "Speed: 0.0ms pre-process, 116.5ms inference, 1.0ms postprocess per image at shape (1, 3, 640, 640)\n",
      "\n",
      "0: 384x640 4 cars, 111.7ms\n",
      "Speed: 1.0ms pre-process, 111.7ms inference, 2.0ms postprocess per image at shape (1, 3, 640, 640)\n",
      "\n"
     ]
    },
    {
     "name": "stdout",
     "output_type": "stream",
     "text": [
      "978 460 illegal parking! 5\n",
      "875 380 illegal parking! 1\n",
      "708 336 f1 10\n",
      "977 460 illegal parking! 5\n",
      "1036 491 illegal parking! 2\n"
     ]
    },
    {
     "name": "stderr",
     "output_type": "stream",
     "text": [
      "0: 384x640 4 cars, 113.9ms\n",
      "Speed: 1.0ms pre-process, 113.9ms inference, 2.0ms postprocess per image at shape (1, 3, 640, 640)\n",
      "\n",
      "0: 384x640 3 cars, 136.8ms\n",
      "Speed: 1.0ms pre-process, 136.8ms inference, 1.0ms postprocess per image at shape (1, 3, 640, 640)\n",
      "\n"
     ]
    },
    {
     "name": "stdout",
     "output_type": "stream",
     "text": [
      "707 336 f1 10\n",
      "978 460 illegal parking! 5\n",
      "708 336 f1 10\n"
     ]
    },
    {
     "name": "stderr",
     "output_type": "stream",
     "text": [
      "0: 384x640 3 cars, 116.8ms\n",
      "Speed: 1.0ms pre-process, 116.8ms inference, 2.0ms postprocess per image at shape (1, 3, 640, 640)\n",
      "\n",
      "0: 384x640 3 cars, 114.0ms\n",
      "Speed: 1.0ms pre-process, 114.0ms inference, 1.0ms postprocess per image at shape (1, 3, 640, 640)\n",
      "\n"
     ]
    },
    {
     "name": "stdout",
     "output_type": "stream",
     "text": [
      "936 418 f1 13\n",
      "708 335 f1 10\n",
      "978 460 illegal parking! 5\n",
      "704 335 f1 10\n"
     ]
    },
    {
     "name": "stderr",
     "output_type": "stream",
     "text": [
      "0: 384x640 4 cars, 114.2ms\n",
      "Speed: 1.5ms pre-process, 114.2ms inference, 2.0ms postprocess per image at shape (1, 3, 640, 640)\n",
      "\n",
      "0: 384x640 3 cars, 110.5ms\n",
      "Speed: 1.0ms pre-process, 110.5ms inference, 2.5ms postprocess per image at shape (1, 3, 640, 640)\n",
      "\n"
     ]
    },
    {
     "name": "stdout",
     "output_type": "stream",
     "text": [
      "936 418 f1 13\n",
      "703 334 f1 10\n",
      "978 460 illegal parking! 5\n",
      "700 334 f1 10\n",
      "977 460 illegal parking! 5\n"
     ]
    },
    {
     "name": "stderr",
     "output_type": "stream",
     "text": [
      "0: 384x640 3 cars, 128.7ms\n",
      "Speed: 1.0ms pre-process, 128.7ms inference, 2.0ms postprocess per image at shape (1, 3, 640, 640)\n",
      "\n",
      "0: 384x640 2 cars, 121.3ms\n",
      "Speed: 1.0ms pre-process, 121.3ms inference, 1.0ms postprocess per image at shape (1, 3, 640, 640)\n",
      "\n"
     ]
    },
    {
     "name": "stdout",
     "output_type": "stream",
     "text": [
      "696 331 f1 10\n",
      "1036 491 illegal parking! 2\n",
      "696 330 f1 10\n",
      "977 460 illegal parking! 5\n"
     ]
    },
    {
     "name": "stderr",
     "output_type": "stream",
     "text": [
      "0: 384x640 3 cars, 117.6ms\n",
      "Speed: 1.0ms pre-process, 117.6ms inference, 1.0ms postprocess per image at shape (1, 3, 640, 640)\n",
      "\n",
      "0: 384x640 2 cars, 128.2ms\n",
      "Speed: 1.0ms pre-process, 128.2ms inference, 1.0ms postprocess per image at shape (1, 3, 640, 640)\n",
      "\n"
     ]
    },
    {
     "name": "stdout",
     "output_type": "stream",
     "text": [
      "695 330 f1 10\n",
      "695 329 f1 10\n",
      "977 460 illegal parking! 5\n"
     ]
    },
    {
     "name": "stderr",
     "output_type": "stream",
     "text": [
      "0: 384x640 2 cars, 116.2ms\n",
      "Speed: 1.0ms pre-process, 116.2ms inference, 1.0ms postprocess per image at shape (1, 3, 640, 640)\n",
      "\n",
      "0: 384x640 2 cars, 139.3ms\n",
      "Speed: 1.0ms pre-process, 139.3ms inference, 2.0ms postprocess per image at shape (1, 3, 640, 640)\n",
      "\n",
      "0: 384x640 2 cars, 123.6ms\n",
      "Speed: 1.0ms pre-process, 123.6ms inference, 2.0ms postprocess per image at shape (1, 3, 640, 640)\n",
      "\n"
     ]
    },
    {
     "name": "stdout",
     "output_type": "stream",
     "text": [
      "696 329 f1 10\n",
      "977 460 illegal parking! 5\n",
      "696 328 f1 10\n"
     ]
    },
    {
     "name": "stderr",
     "output_type": "stream",
     "text": [
      "0: 384x640 3 cars, 115.8ms\n",
      "Speed: 1.0ms pre-process, 115.8ms inference, 1.0ms postprocess per image at shape (1, 3, 640, 640)\n",
      "\n",
      "0: 384x640 3 cars, 108.0ms\n",
      "Speed: 1.0ms pre-process, 108.0ms inference, 2.0ms postprocess per image at shape (1, 3, 640, 640)\n",
      "\n"
     ]
    },
    {
     "name": "stdout",
     "output_type": "stream",
     "text": [
      "697 328 f1 10\n",
      "977 460 illegal parking! 5\n"
     ]
    },
    {
     "name": "stderr",
     "output_type": "stream",
     "text": [
      "0: 384x640 3 cars, 113.7ms\n",
      "Speed: 1.0ms pre-process, 113.7ms inference, 1.0ms postprocess per image at shape (1, 3, 640, 640)\n",
      "\n",
      "0: 384x640 4 cars, 113.4ms\n",
      "Speed: 1.0ms pre-process, 113.4ms inference, 2.0ms postprocess per image at shape (1, 3, 640, 640)\n",
      "\n"
     ]
    },
    {
     "name": "stdout",
     "output_type": "stream",
     "text": [
      "696 328 f1 10\n",
      "977 460 illegal parking! 5\n",
      "1035 491 illegal parking! 2\n",
      "693 322 f1 10\n",
      "977 461 illegal parking! 5\n",
      "1036 491 illegal parking! 2\n"
     ]
    },
    {
     "name": "stderr",
     "output_type": "stream",
     "text": [
      "0: 384x640 4 cars, 129.0ms\n",
      "Speed: 1.0ms pre-process, 129.0ms inference, 1.0ms postprocess per image at shape (1, 3, 640, 640)\n",
      "\n",
      "0: 384x640 5 cars, 134.0ms\n",
      "Speed: 1.5ms pre-process, 134.0ms inference, 1.0ms postprocess per image at shape (1, 3, 640, 640)\n",
      "\n"
     ]
    },
    {
     "name": "stdout",
     "output_type": "stream",
     "text": [
      "692 321 f1 10\n",
      "1037 491 illegal parking! 2\n",
      "935 421 f1 13\n",
      "691 322 f1 10\n",
      "977 461 illegal parking! 5\n"
     ]
    },
    {
     "name": "stderr",
     "output_type": "stream",
     "text": [
      "0: 384x640 5 cars, 130.3ms\n",
      "Speed: 1.1ms pre-process, 130.3ms inference, 2.0ms postprocess per image at shape (1, 3, 640, 640)\n",
      "\n",
      "0: 384x640 5 cars, 116.0ms\n",
      "Speed: 1.0ms pre-process, 116.0ms inference, 2.0ms postprocess per image at shape (1, 3, 640, 640)\n",
      "\n"
     ]
    },
    {
     "name": "stdout",
     "output_type": "stream",
     "text": [
      "691 323 f1 10\n",
      "1037 490 illegal parking! 2\n",
      "936 420 f1 13\n",
      "977 461 illegal parking! 5\n",
      "876 381 illegal parking! 1\n"
     ]
    },
    {
     "name": "stderr",
     "output_type": "stream",
     "text": [
      "0: 384x640 4 cars, 126.4ms\n",
      "Speed: 1.0ms pre-process, 126.4ms inference, 1.0ms postprocess per image at shape (1, 3, 640, 640)\n",
      "\n",
      "0: 384x640 4 cars, 114.1ms\n",
      "Speed: 1.0ms pre-process, 114.1ms inference, 2.1ms postprocess per image at shape (1, 3, 640, 640)\n",
      "\n"
     ]
    },
    {
     "name": "stdout",
     "output_type": "stream",
     "text": [
      "691 324 f1 10\n",
      "1037 490 illegal parking! 2\n",
      "690 323 f1 10\n",
      "977 461 illegal parking! 5\n",
      "876 381 illegal parking! 1\n"
     ]
    },
    {
     "name": "stderr",
     "output_type": "stream",
     "text": [
      "0: 384x640 4 cars, 137.6ms\n",
      "Speed: 0.0ms pre-process, 137.6ms inference, 1.2ms postprocess per image at shape (1, 3, 640, 640)\n",
      "\n",
      "0: 384x640 4 cars, 119.3ms\n",
      "Speed: 1.0ms pre-process, 119.3ms inference, 1.0ms postprocess per image at shape (1, 3, 640, 640)\n",
      "\n"
     ]
    },
    {
     "name": "stdout",
     "output_type": "stream",
     "text": [
      "690 322 f1 10\n",
      "1037 490 illegal parking! 2\n",
      "977 461 illegal parking! 5\n",
      "876 381 illegal parking! 1\n"
     ]
    },
    {
     "name": "stderr",
     "output_type": "stream",
     "text": [
      "0: 384x640 4 cars, 118.2ms\n",
      "Speed: 1.0ms pre-process, 118.2ms inference, 1.0ms postprocess per image at shape (1, 3, 640, 640)\n",
      "\n",
      "0: 384x640 4 cars, 113.8ms\n",
      "Speed: 1.0ms pre-process, 113.8ms inference, 3.5ms postprocess per image at shape (1, 3, 640, 640)\n",
      "\n"
     ]
    },
    {
     "name": "stdout",
     "output_type": "stream",
     "text": [
      "688 324 f1 10\n",
      "1037 490 illegal parking! 2\n",
      "875 381 illegal parking! 1\n",
      "687 324 f1 10\n",
      "977 461 illegal parking! 5\n",
      "1036 490 illegal parking! 2\n",
      "875 382 illegal parking! 1\n"
     ]
    },
    {
     "name": "stderr",
     "output_type": "stream",
     "text": [
      "0: 384x640 4 cars, 116.2ms\n",
      "Speed: 1.0ms pre-process, 116.2ms inference, 1.5ms postprocess per image at shape (1, 3, 640, 640)\n",
      "\n",
      "0: 384x640 4 cars, 137.5ms\n",
      "Speed: 1.0ms pre-process, 137.5ms inference, 1.0ms postprocess per image at shape (1, 3, 640, 640)\n",
      "\n"
     ]
    },
    {
     "name": "stdout",
     "output_type": "stream",
     "text": [
      "976 461 illegal parking! 5\n",
      "876 382 illegal parking! 1\n",
      "684 324 f1 10\n",
      "1036 490 illegal parking! 2\n",
      "875 382 illegal parking! 1\n"
     ]
    },
    {
     "name": "stderr",
     "output_type": "stream",
     "text": [
      "0: 384x640 4 cars, 117.6ms\n",
      "Speed: 1.0ms pre-process, 117.6ms inference, 1.0ms postprocess per image at shape (1, 3, 640, 640)\n",
      "\n",
      "0: 384x640 4 cars, 116.0ms\n",
      "Speed: 0.0ms pre-process, 116.0ms inference, 2.0ms postprocess per image at shape (1, 3, 640, 640)\n",
      "\n"
     ]
    },
    {
     "name": "stdout",
     "output_type": "stream",
     "text": [
      "683 324 f1 10\n",
      "976 461 illegal parking! 5\n",
      "875 381 illegal parking! 1\n",
      "682 324 f1 10\n",
      "1036 490 illegal parking! 2\n"
     ]
    },
    {
     "name": "stderr",
     "output_type": "stream",
     "text": [
      "0: 384x640 4 cars, 115.0ms\n",
      "Speed: 1.0ms pre-process, 115.0ms inference, 2.0ms postprocess per image at shape (1, 3, 640, 640)\n",
      "\n",
      "0: 384x640 4 cars, 115.1ms\n",
      "Speed: 0.9ms pre-process, 115.1ms inference, 1.0ms postprocess per image at shape (1, 3, 640, 640)\n",
      "\n"
     ]
    },
    {
     "name": "stdout",
     "output_type": "stream",
     "text": [
      "683 323 f1 10\n",
      "977 461 illegal parking! 5\n",
      "875 381 illegal parking! 1\n",
      "1036 490 illegal parking! 2\n"
     ]
    },
    {
     "name": "stderr",
     "output_type": "stream",
     "text": [
      "0: 384x640 4 cars, 127.5ms\n",
      "Speed: 0.0ms pre-process, 127.5ms inference, 3.0ms postprocess per image at shape (1, 3, 640, 640)\n",
      "\n",
      "0: 384x640 4 cars, 118.4ms\n",
      "Speed: 1.5ms pre-process, 118.4ms inference, 2.0ms postprocess per image at shape (1, 3, 640, 640)\n",
      "\n"
     ]
    },
    {
     "name": "stdout",
     "output_type": "stream",
     "text": [
      "681 322 f1 10\n",
      "977 460 illegal parking! 5\n",
      "875 381 illegal parking! 1\n",
      "680 322 f1 10\n",
      "976 460 illegal parking! 5\n",
      "1036 490 illegal parking! 2\n"
     ]
    },
    {
     "name": "stderr",
     "output_type": "stream",
     "text": [
      "0: 384x640 4 cars, 117.6ms\n",
      "Speed: 1.0ms pre-process, 117.6ms inference, 1.0ms postprocess per image at shape (1, 3, 640, 640)\n",
      "\n",
      "0: 384x640 3 cars, 117.0ms\n",
      "Speed: 1.0ms pre-process, 117.0ms inference, 2.0ms postprocess per image at shape (1, 3, 640, 640)\n",
      "\n"
     ]
    },
    {
     "name": "stdout",
     "output_type": "stream",
     "text": [
      "875 381 illegal parking! 1\n",
      "976 460 illegal parking! 5\n",
      "1036 490 illegal parking! 2\n"
     ]
    },
    {
     "name": "stderr",
     "output_type": "stream",
     "text": [
      "0: 384x640 4 cars, 120.8ms\n",
      "Speed: 1.0ms pre-process, 120.8ms inference, 1.5ms postprocess per image at shape (1, 3, 640, 640)\n",
      "\n",
      "0: 384x640 4 cars, 116.2ms\n",
      "Speed: 1.0ms pre-process, 116.2ms inference, 2.0ms postprocess per image at shape (1, 3, 640, 640)\n",
      "\n"
     ]
    },
    {
     "name": "stdout",
     "output_type": "stream",
     "text": [
      "977 461 illegal parking! 5\n",
      "875 381 illegal parking! 1\n",
      "1036 490 illegal parking! 2\n"
     ]
    },
    {
     "name": "stderr",
     "output_type": "stream",
     "text": [
      "0: 384x640 4 cars, 136.3ms\n",
      "Speed: 1.0ms pre-process, 136.3ms inference, 2.5ms postprocess per image at shape (1, 3, 640, 640)\n",
      "\n",
      "0: 384x640 4 cars, 133.5ms\n",
      "Speed: 1.0ms pre-process, 133.5ms inference, 1.0ms postprocess per image at shape (1, 3, 640, 640)\n",
      "\n"
     ]
    },
    {
     "name": "stdout",
     "output_type": "stream",
     "text": [
      "679 314 f1 10\n",
      "977 461 illegal parking! 5\n",
      "875 381 illegal parking! 1\n",
      "1035 490 illegal parking! 2\n",
      "875 380 illegal parking! 1\n"
     ]
    },
    {
     "name": "stderr",
     "output_type": "stream",
     "text": [
      "0: 384x640 4 cars, 121.8ms\n",
      "Speed: 0.5ms pre-process, 121.8ms inference, 2.0ms postprocess per image at shape (1, 3, 640, 640)\n",
      "\n",
      "0: 384x640 4 cars, 114.0ms\n",
      "Speed: 1.0ms pre-process, 114.0ms inference, 2.0ms postprocess per image at shape (1, 3, 640, 640)\n",
      "\n"
     ]
    },
    {
     "name": "stdout",
     "output_type": "stream",
     "text": [
      "679 313 f1 10\n",
      "977 461 illegal parking! 5\n",
      "1036 490 illegal parking! 2\n",
      "875 380 illegal parking! 1\n"
     ]
    },
    {
     "name": "stderr",
     "output_type": "stream",
     "text": [
      "0: 384x640 4 cars, 117.8ms\n",
      "Speed: 1.0ms pre-process, 117.8ms inference, 1.0ms postprocess per image at shape (1, 3, 640, 640)\n",
      "\n",
      "0: 384x640 4 cars, 132.2ms\n",
      "Speed: 1.0ms pre-process, 132.2ms inference, 1.0ms postprocess per image at shape (1, 3, 640, 640)\n",
      "\n"
     ]
    },
    {
     "name": "stdout",
     "output_type": "stream",
     "text": [
      "680 314 f1 10\n",
      "977 460 illegal parking! 5\n",
      "1037 489 illegal parking! 2\n",
      "681 314 f1 10\n",
      "976 460 illegal parking! 5\n",
      "875 380 illegal parking! 1\n"
     ]
    },
    {
     "name": "stderr",
     "output_type": "stream",
     "text": [
      "0: 384x640 4 cars, 122.2ms\n",
      "Speed: 1.0ms pre-process, 122.2ms inference, 2.3ms postprocess per image at shape (1, 3, 640, 640)\n",
      "\n",
      "0: 384x640 4 cars, 113.8ms\n",
      "Speed: 1.0ms pre-process, 113.8ms inference, 2.0ms postprocess per image at shape (1, 3, 640, 640)\n",
      "\n"
     ]
    },
    {
     "name": "stdout",
     "output_type": "stream",
     "text": [
      "1037 489 illegal parking! 2\n",
      "875 381 illegal parking! 1\n",
      "683 314 f1 10\n",
      "976 460 illegal parking! 5\n",
      "1038 489 illegal parking! 2\n"
     ]
    },
    {
     "name": "stderr",
     "output_type": "stream",
     "text": [
      "0: 384x640 4 cars, 117.7ms\n",
      "Speed: 1.0ms pre-process, 117.7ms inference, 2.0ms postprocess per image at shape (1, 3, 640, 640)\n",
      "\n",
      "0: 384x640 4 cars, 112.7ms\n",
      "Speed: 0.0ms pre-process, 112.7ms inference, 1.3ms postprocess per image at shape (1, 3, 640, 640)\n",
      "\n"
     ]
    },
    {
     "name": "stdout",
     "output_type": "stream",
     "text": [
      "683 315 f1 10\n",
      "1037 490 illegal parking! 2\n",
      "875 381 illegal parking! 1\n",
      "976 460 illegal parking! 5\n"
     ]
    },
    {
     "name": "stderr",
     "output_type": "stream",
     "text": [
      "0: 384x640 3 cars, 130.8ms\n",
      "Speed: 0.0ms pre-process, 130.8ms inference, 3.1ms postprocess per image at shape (1, 3, 640, 640)\n",
      "\n",
      "0: 384x640 3 cars, 134.4ms\n",
      "Speed: 1.0ms pre-process, 134.4ms inference, 1.5ms postprocess per image at shape (1, 3, 640, 640)\n",
      "\n"
     ]
    },
    {
     "name": "stdout",
     "output_type": "stream",
     "text": [
      "977 460 illegal parking! 5\n",
      "1038 490 illegal parking! 2\n",
      "875 381 illegal parking! 1\n",
      "876 381 illegal parking! 1\n"
     ]
    },
    {
     "name": "stderr",
     "output_type": "stream",
     "text": [
      "0: 384x640 4 cars, 125.0ms\n",
      "Speed: 1.6ms pre-process, 125.0ms inference, 1.0ms postprocess per image at shape (1, 3, 640, 640)\n",
      "\n",
      "0: 384x640 4 cars, 110.7ms\n",
      "Speed: 1.0ms pre-process, 110.7ms inference, 2.0ms postprocess per image at shape (1, 3, 640, 640)\n",
      "\n"
     ]
    },
    {
     "name": "stdout",
     "output_type": "stream",
     "text": [
      "976 460 illegal parking! 5\n",
      "1037 490 illegal parking! 2\n",
      "875 381 illegal parking! 1\n"
     ]
    },
    {
     "name": "stderr",
     "output_type": "stream",
     "text": [
      "0: 384x640 2 cars, 115.1ms\n",
      "Speed: 1.0ms pre-process, 115.1ms inference, 2.0ms postprocess per image at shape (1, 3, 640, 640)\n",
      "\n",
      "0: 384x640 2 cars, 115.9ms\n",
      "Speed: 1.0ms pre-process, 115.9ms inference, 1.0ms postprocess per image at shape (1, 3, 640, 640)\n",
      "\n"
     ]
    },
    {
     "name": "stdout",
     "output_type": "stream",
     "text": [
      "976 460 illegal parking! 5\n",
      "875 381 illegal parking! 1\n"
     ]
    },
    {
     "name": "stderr",
     "output_type": "stream",
     "text": [
      "0: 384x640 3 cars, 142.8ms\n",
      "Speed: 0.0ms pre-process, 142.8ms inference, 1.0ms postprocess per image at shape (1, 3, 640, 640)\n",
      "\n",
      "0: 384x640 3 cars, 123.4ms\n",
      "Speed: 1.0ms pre-process, 123.4ms inference, 2.0ms postprocess per image at shape (1, 3, 640, 640)\n",
      "\n"
     ]
    },
    {
     "name": "stdout",
     "output_type": "stream",
     "text": [
      "976 460 illegal parking! 5\n",
      "874 381 illegal parking! 1\n"
     ]
    },
    {
     "name": "stderr",
     "output_type": "stream",
     "text": [
      "0: 384x640 3 cars, 131.8ms\n",
      "Speed: 1.0ms pre-process, 131.8ms inference, 1.0ms postprocess per image at shape (1, 3, 640, 640)\n",
      "\n",
      "0: 384x640 3 cars, 123.2ms\n",
      "Speed: 1.0ms pre-process, 123.2ms inference, 1.0ms postprocess per image at shape (1, 3, 640, 640)\n",
      "\n"
     ]
    },
    {
     "name": "stdout",
     "output_type": "stream",
     "text": [
      "976 459 illegal parking! 5\n",
      "1037 489 illegal parking! 2\n",
      "873 381 illegal parking! 1\n",
      "872 381 illegal parking! 1\n"
     ]
    },
    {
     "name": "stderr",
     "output_type": "stream",
     "text": [
      "0: 384x640 3 cars, 1 train, 118.5ms\n",
      "Speed: 1.0ms pre-process, 118.5ms inference, 2.0ms postprocess per image at shape (1, 3, 640, 640)\n",
      "\n",
      "0: 384x640 4 cars, 1 train, 133.6ms\n",
      "Speed: 1.5ms pre-process, 133.6ms inference, 2.0ms postprocess per image at shape (1, 3, 640, 640)\n",
      "\n"
     ]
    },
    {
     "name": "stdout",
     "output_type": "stream",
     "text": [
      "976 459 illegal parking! 5\n",
      "1038 489 illegal parking! 2\n",
      "872 380 illegal parking! 1\n"
     ]
    },
    {
     "name": "stderr",
     "output_type": "stream",
     "text": [
      "0: 384x640 4 cars, 1 train, 120.5ms\n",
      "Speed: 1.0ms pre-process, 120.5ms inference, 2.9ms postprocess per image at shape (1, 3, 640, 640)\n",
      "\n",
      "0: 384x640 4 cars, 1 train, 118.4ms\n",
      "Speed: 1.0ms pre-process, 118.4ms inference, 2.1ms postprocess per image at shape (1, 3, 640, 640)\n",
      "\n"
     ]
    },
    {
     "name": "stdout",
     "output_type": "stream",
     "text": [
      "976 460 illegal parking! 5\n",
      "1039 489 illegal parking! 2\n",
      "873 381 illegal parking! 1\n",
      "936 419 f1 13\n"
     ]
    },
    {
     "name": "stderr",
     "output_type": "stream",
     "text": [
      "0: 384x640 4 cars, 118.0ms\n",
      "Speed: 1.0ms pre-process, 118.0ms inference, 2.1ms postprocess per image at shape (1, 3, 640, 640)\n",
      "\n",
      "0: 384x640 4 cars, 115.5ms\n",
      "Speed: 1.0ms pre-process, 115.5ms inference, 0.9ms postprocess per image at shape (1, 3, 640, 640)\n",
      "\n"
     ]
    },
    {
     "name": "stdout",
     "output_type": "stream",
     "text": [
      "936 418 f1 13\n",
      "976 460 illegal parking! 5\n",
      "1039 489 illegal parking! 2\n",
      "873 381 illegal parking! 1\n",
      "872 381 illegal parking! 1\n"
     ]
    },
    {
     "name": "stderr",
     "output_type": "stream",
     "text": [
      "0: 384x640 4 cars, 132.1ms\n",
      "Speed: 1.0ms pre-process, 132.1ms inference, 1.0ms postprocess per image at shape (1, 3, 640, 640)\n",
      "\n",
      "0: 384x640 4 cars, 135.5ms\n",
      "Speed: 1.0ms pre-process, 135.5ms inference, 1.0ms postprocess per image at shape (1, 3, 640, 640)\n",
      "\n"
     ]
    },
    {
     "name": "stdout",
     "output_type": "stream",
     "text": [
      "936 418 f1 13\n",
      "976 460 illegal parking! 5\n",
      "1039 489 illegal parking! 2\n",
      "872 381 illegal parking! 1\n"
     ]
    },
    {
     "name": "stderr",
     "output_type": "stream",
     "text": [
      "0: 384x640 4 cars, 120.9ms\n",
      "Speed: 1.0ms pre-process, 120.9ms inference, 1.3ms postprocess per image at shape (1, 3, 640, 640)\n",
      "\n",
      "0: 384x640 4 cars, 124.3ms\n",
      "Speed: 1.0ms pre-process, 124.3ms inference, 2.6ms postprocess per image at shape (1, 3, 640, 640)\n",
      "\n"
     ]
    },
    {
     "name": "stdout",
     "output_type": "stream",
     "text": [
      "936 418 f1 13\n",
      "976 460 illegal parking! 5\n",
      "1038 489 illegal parking! 2\n",
      "873 380 illegal parking! 1\n"
     ]
    },
    {
     "name": "stderr",
     "output_type": "stream",
     "text": [
      "0: 384x640 4 cars, 125.1ms\n",
      "Speed: 1.0ms pre-process, 125.1ms inference, 1.0ms postprocess per image at shape (1, 3, 640, 640)\n",
      "\n",
      "0: 384x640 4 cars, 116.1ms\n",
      "Speed: 1.0ms pre-process, 116.1ms inference, 1.2ms postprocess per image at shape (1, 3, 640, 640)\n",
      "\n"
     ]
    },
    {
     "name": "stdout",
     "output_type": "stream",
     "text": [
      "935 418 f1 13\n",
      "976 460 illegal parking! 5\n",
      "1038 489 illegal parking! 2\n",
      "873 381 illegal parking! 1\n"
     ]
    },
    {
     "name": "stderr",
     "output_type": "stream",
     "text": [
      "0: 384x640 3 cars, 139.0ms\n",
      "Speed: 1.0ms pre-process, 139.0ms inference, 1.0ms postprocess per image at shape (1, 3, 640, 640)\n",
      "\n",
      "0: 384x640 3 cars, 118.6ms\n",
      "Speed: 1.0ms pre-process, 118.6ms inference, 1.0ms postprocess per image at shape (1, 3, 640, 640)\n",
      "\n"
     ]
    },
    {
     "name": "stdout",
     "output_type": "stream",
     "text": [
      "936 418 f1 13\n",
      "976 460 illegal parking! 5\n",
      "874 381 illegal parking! 1\n"
     ]
    },
    {
     "name": "stderr",
     "output_type": "stream",
     "text": [
      "0: 384x640 3 cars, 116.7ms\n",
      "Speed: 1.0ms pre-process, 116.7ms inference, 1.0ms postprocess per image at shape (1, 3, 640, 640)\n",
      "\n",
      "0: 384x640 3 cars, 121.7ms\n",
      "Speed: 0.0ms pre-process, 121.7ms inference, 1.0ms postprocess per image at shape (1, 3, 640, 640)\n",
      "\n"
     ]
    },
    {
     "name": "stdout",
     "output_type": "stream",
     "text": [
      "936 418 f1 13\n",
      "976 460 illegal parking! 5\n",
      "874 382 illegal parking! 1\n"
     ]
    },
    {
     "name": "stderr",
     "output_type": "stream",
     "text": [
      "0: 384x640 4 cars, 121.6ms\n",
      "Speed: 1.0ms pre-process, 121.6ms inference, 1.0ms postprocess per image at shape (1, 3, 640, 640)\n",
      "\n",
      "0: 384x640 4 cars, 135.6ms\n",
      "Speed: 1.0ms pre-process, 135.6ms inference, 1.0ms postprocess per image at shape (1, 3, 640, 640)\n",
      "\n"
     ]
    },
    {
     "name": "stdout",
     "output_type": "stream",
     "text": [
      "936 420 f1 13\n",
      "977 460 illegal parking! 5\n",
      "874 381 illegal parking! 1\n"
     ]
    },
    {
     "name": "stderr",
     "output_type": "stream",
     "text": [
      "0: 384x640 4 cars, 136.1ms\n",
      "Speed: 2.0ms pre-process, 136.1ms inference, 2.1ms postprocess per image at shape (1, 3, 640, 640)\n",
      "\n",
      "0: 384x640 3 cars, 117.6ms\n",
      "Speed: 1.0ms pre-process, 117.6ms inference, 1.4ms postprocess per image at shape (1, 3, 640, 640)\n",
      "\n"
     ]
    },
    {
     "name": "stdout",
     "output_type": "stream",
     "text": [
      "937 420 f1 13\n",
      "977 460 illegal parking! 5\n",
      "1039 488 illegal parking! 2\n",
      "874 381 illegal parking! 1\n",
      "937 421 f1 13\n",
      "978 461 illegal parking! 5\n"
     ]
    },
    {
     "name": "stderr",
     "output_type": "stream",
     "text": [
      "0: 384x640 3 cars, 115.1ms\n",
      "Speed: 1.0ms pre-process, 115.1ms inference, 1.0ms postprocess per image at shape (1, 3, 640, 640)\n",
      "\n",
      "0: 384x640 3 cars, 109.3ms\n",
      "Speed: 1.0ms pre-process, 109.3ms inference, 1.2ms postprocess per image at shape (1, 3, 640, 640)\n",
      "\n"
     ]
    },
    {
     "name": "stdout",
     "output_type": "stream",
     "text": [
      "874 381 illegal parking! 1\n",
      "937 420 f1 13\n",
      "978 461 illegal parking! 5\n"
     ]
    },
    {
     "name": "stderr",
     "output_type": "stream",
     "text": [
      "0: 384x640 3 cars, 115.9ms\n",
      "Speed: 1.0ms pre-process, 115.9ms inference, 2.0ms postprocess per image at shape (1, 3, 640, 640)\n",
      "\n",
      "0: 384x640 3 cars, 122.0ms\n",
      "Speed: 1.0ms pre-process, 122.0ms inference, 1.0ms postprocess per image at shape (1, 3, 640, 640)\n",
      "\n"
     ]
    },
    {
     "name": "stdout",
     "output_type": "stream",
     "text": [
      "874 382 illegal parking! 1\n",
      "937 420 f1 13\n",
      "978 461 illegal parking! 5\n"
     ]
    },
    {
     "name": "stderr",
     "output_type": "stream",
     "text": [
      "0: 384x640 3 cars, 119.7ms\n",
      "Speed: 1.0ms pre-process, 119.7ms inference, 2.0ms postprocess per image at shape (1, 3, 640, 640)\n",
      "\n",
      "0: 384x640 3 cars, 127.1ms\n",
      "Speed: 1.0ms pre-process, 127.1ms inference, 2.0ms postprocess per image at shape (1, 3, 640, 640)\n",
      "\n"
     ]
    },
    {
     "name": "stdout",
     "output_type": "stream",
     "text": [
      "874 382 illegal parking! 1\n",
      "937 420 f1 13\n",
      "978 461 illegal parking! 5\n"
     ]
    },
    {
     "name": "stderr",
     "output_type": "stream",
     "text": [
      "0: 384x640 3 cars, 119.2ms\n",
      "Speed: 0.0ms pre-process, 119.2ms inference, 2.5ms postprocess per image at shape (1, 3, 640, 640)\n",
      "\n",
      "0: 384x640 3 cars, 111.5ms\n",
      "Speed: 1.0ms pre-process, 111.5ms inference, 2.0ms postprocess per image at shape (1, 3, 640, 640)\n",
      "\n"
     ]
    },
    {
     "name": "stdout",
     "output_type": "stream",
     "text": [
      "936 420 f1 13\n",
      "875 382 illegal parking! 1\n",
      "978 461 illegal parking! 5\n"
     ]
    },
    {
     "name": "stderr",
     "output_type": "stream",
     "text": [
      "0: 384x640 3 cars, 129.2ms\n",
      "Speed: 1.0ms pre-process, 129.2ms inference, 1.5ms postprocess per image at shape (1, 3, 640, 640)\n",
      "\n",
      "0: 384x640 3 cars, 119.0ms\n",
      "Speed: 1.0ms pre-process, 119.0ms inference, 1.0ms postprocess per image at shape (1, 3, 640, 640)\n",
      "\n"
     ]
    },
    {
     "name": "stdout",
     "output_type": "stream",
     "text": [
      "936 421 f1 13\n",
      "876 382 illegal parking! 1\n",
      "936 420 f1 13\n",
      "978 461 illegal parking! 5\n"
     ]
    },
    {
     "name": "stderr",
     "output_type": "stream",
     "text": [
      "0: 384x640 4 cars, 115.7ms\n",
      "Speed: 1.0ms pre-process, 115.7ms inference, 1.0ms postprocess per image at shape (1, 3, 640, 640)\n",
      "\n",
      "0: 384x640 3 cars, 125.7ms\n",
      "Speed: 0.1ms pre-process, 125.7ms inference, 2.0ms postprocess per image at shape (1, 3, 640, 640)\n",
      "\n"
     ]
    },
    {
     "name": "stdout",
     "output_type": "stream",
     "text": [
      "876 382 illegal parking! 1\n",
      "936 420 f1 13\n",
      "978 461 illegal parking! 5\n"
     ]
    },
    {
     "name": "stderr",
     "output_type": "stream",
     "text": [
      "0: 384x640 3 cars, 123.1ms\n",
      "Speed: 1.0ms pre-process, 123.1ms inference, 1.0ms postprocess per image at shape (1, 3, 640, 640)\n",
      "\n",
      "0: 384x640 3 cars, 116.3ms\n",
      "Speed: 1.0ms pre-process, 116.3ms inference, 2.0ms postprocess per image at shape (1, 3, 640, 640)\n",
      "\n"
     ]
    },
    {
     "name": "stdout",
     "output_type": "stream",
     "text": [
      "876 382 illegal parking! 1\n",
      "936 420 f1 13\n",
      "978 461 illegal parking! 5\n"
     ]
    },
    {
     "name": "stderr",
     "output_type": "stream",
     "text": [
      "0: 384x640 4 cars, 128.3ms\n",
      "Speed: 1.0ms pre-process, 128.3ms inference, 2.0ms postprocess per image at shape (1, 3, 640, 640)\n",
      "\n",
      "0: 384x640 4 cars, 129.5ms\n",
      "Speed: 1.0ms pre-process, 129.5ms inference, 1.0ms postprocess per image at shape (1, 3, 640, 640)\n",
      "\n"
     ]
    },
    {
     "name": "stdout",
     "output_type": "stream",
     "text": [
      "875 382 illegal parking! 1\n",
      "936 420 f1 13\n",
      "978 461 illegal parking! 5\n"
     ]
    },
    {
     "name": "stderr",
     "output_type": "stream",
     "text": [
      "0: 384x640 3 cars, 119.1ms\n",
      "Speed: 1.0ms pre-process, 119.1ms inference, 2.1ms postprocess per image at shape (1, 3, 640, 640)\n",
      "\n",
      "0: 384x640 3 cars, 116.6ms\n",
      "Speed: 1.0ms pre-process, 116.6ms inference, 2.0ms postprocess per image at shape (1, 3, 640, 640)\n",
      "\n"
     ]
    },
    {
     "name": "stdout",
     "output_type": "stream",
     "text": [
      "935 420 f1 13\n",
      "875 382 illegal parking! 1\n",
      "978 461 illegal parking! 5\n"
     ]
    },
    {
     "name": "stderr",
     "output_type": "stream",
     "text": [
      "0: 384x640 3 cars, 117.3ms\n",
      "Speed: 1.0ms pre-process, 117.3ms inference, 1.0ms postprocess per image at shape (1, 3, 640, 640)\n",
      "\n",
      "0: 384x640 3 cars, 117.8ms\n",
      "Speed: 1.0ms pre-process, 117.8ms inference, 2.0ms postprocess per image at shape (1, 3, 640, 640)\n",
      "\n"
     ]
    },
    {
     "name": "stdout",
     "output_type": "stream",
     "text": [
      "935 420 f1 13\n",
      "875 382 illegal parking! 1\n",
      "979 461 illegal parking! 5\n"
     ]
    },
    {
     "name": "stderr",
     "output_type": "stream",
     "text": [
      "0: 384x640 3 cars, 139.0ms\n",
      "Speed: 0.0ms pre-process, 139.0ms inference, 1.0ms postprocess per image at shape (1, 3, 640, 640)\n",
      "\n",
      "0: 384x640 3 cars, 131.1ms\n",
      "Speed: 1.0ms pre-process, 131.1ms inference, 1.6ms postprocess per image at shape (1, 3, 640, 640)\n",
      "\n"
     ]
    },
    {
     "name": "stdout",
     "output_type": "stream",
     "text": [
      "935 420 f1 13\n",
      "979 460 illegal parking! 5\n",
      "875 382 illegal parking! 1\n"
     ]
    },
    {
     "name": "stderr",
     "output_type": "stream",
     "text": [
      "0: 384x640 3 cars, 117.0ms\n",
      "Speed: 1.0ms pre-process, 117.0ms inference, 2.0ms postprocess per image at shape (1, 3, 640, 640)\n",
      "\n",
      "0: 384x640 3 cars, 115.0ms\n",
      "Speed: 1.0ms pre-process, 115.0ms inference, 1.0ms postprocess per image at shape (1, 3, 640, 640)\n",
      "\n"
     ]
    },
    {
     "name": "stdout",
     "output_type": "stream",
     "text": [
      "935 420 f1 13\n",
      "979 460 illegal parking! 5\n",
      "875 382 illegal parking! 1\n",
      "935 421 f1 13\n",
      "978 460 illegal parking! 5\n"
     ]
    },
    {
     "name": "stderr",
     "output_type": "stream",
     "text": [
      "0: 384x640 3 cars, 113.2ms\n",
      "Speed: 1.0ms pre-process, 113.2ms inference, 1.0ms postprocess per image at shape (1, 3, 640, 640)\n",
      "\n",
      "0: 384x640 3 cars, 134.7ms\n",
      "Speed: 1.0ms pre-process, 134.7ms inference, 1.5ms postprocess per image at shape (1, 3, 640, 640)\n",
      "\n"
     ]
    },
    {
     "name": "stdout",
     "output_type": "stream",
     "text": [
      "978 461 illegal parking! 5\n",
      "875 382 illegal parking! 1\n",
      "935 421 f1 13\n"
     ]
    },
    {
     "name": "stderr",
     "output_type": "stream",
     "text": [
      "0: 384x640 3 cars, 121.9ms\n",
      "Speed: 1.5ms pre-process, 121.9ms inference, 2.0ms postprocess per image at shape (1, 3, 640, 640)\n",
      "\n",
      "0: 384x640 3 cars, 120.2ms\n",
      "Speed: 0.0ms pre-process, 120.2ms inference, 1.0ms postprocess per image at shape (1, 3, 640, 640)\n",
      "\n"
     ]
    },
    {
     "name": "stdout",
     "output_type": "stream",
     "text": [
      "979 461 illegal parking! 5\n",
      "875 382 illegal parking! 1\n",
      "935 421 f1 13\n"
     ]
    },
    {
     "name": "stderr",
     "output_type": "stream",
     "text": [
      "0: 384x640 3 cars, 122.0ms\n",
      "Speed: 1.0ms pre-process, 122.0ms inference, 1.0ms postprocess per image at shape (1, 3, 640, 640)\n",
      "\n",
      "0: 384x640 3 cars, 110.1ms\n",
      "Speed: 1.0ms pre-process, 110.1ms inference, 2.0ms postprocess per image at shape (1, 3, 640, 640)\n",
      "\n"
     ]
    },
    {
     "name": "stdout",
     "output_type": "stream",
     "text": [
      "979 461 illegal parking! 5\n",
      "876 382 illegal parking! 1\n",
      "935 421 f1 13\n"
     ]
    },
    {
     "name": "stderr",
     "output_type": "stream",
     "text": [
      "0: 384x640 3 cars, 105.2ms\n",
      "Speed: 1.0ms pre-process, 105.2ms inference, 1.0ms postprocess per image at shape (1, 3, 640, 640)\n",
      "\n",
      "0: 384x640 3 cars, 136.0ms\n",
      "Speed: 1.0ms pre-process, 136.0ms inference, 1.0ms postprocess per image at shape (1, 3, 640, 640)\n",
      "\n"
     ]
    },
    {
     "name": "stdout",
     "output_type": "stream",
     "text": [
      "979 462 illegal parking! 5\n",
      "876 382 illegal parking! 1\n",
      "935 421 f1 13\n"
     ]
    },
    {
     "name": "stderr",
     "output_type": "stream",
     "text": [
      "0: 384x640 4 cars, 115.0ms\n",
      "Speed: 1.0ms pre-process, 115.0ms inference, 1.0ms postprocess per image at shape (1, 3, 640, 640)\n",
      "\n",
      "0: 384x640 4 cars, 113.8ms\n",
      "Speed: 1.0ms pre-process, 113.8ms inference, 2.4ms postprocess per image at shape (1, 3, 640, 640)\n",
      "\n"
     ]
    },
    {
     "name": "stdout",
     "output_type": "stream",
     "text": [
      "979 462 illegal parking! 5\n",
      "875 382 illegal parking! 1\n",
      "935 421 f1 13\n"
     ]
    },
    {
     "name": "stderr",
     "output_type": "stream",
     "text": [
      "0: 384x640 5 cars, 109.3ms\n",
      "Speed: 1.0ms pre-process, 109.3ms inference, 2.0ms postprocess per image at shape (1, 3, 640, 640)\n",
      "\n",
      "0: 384x640 4 cars, 109.4ms\n",
      "Speed: 1.0ms pre-process, 109.4ms inference, 1.0ms postprocess per image at shape (1, 3, 640, 640)\n",
      "\n"
     ]
    },
    {
     "name": "stdout",
     "output_type": "stream",
     "text": [
      "935 422 f1 13\n",
      "979 462 illegal parking! 5\n",
      "875 382 illegal parking! 1\n",
      "992 469 f1 15\n",
      "979 461 illegal parking! 5\n"
     ]
    },
    {
     "name": "stderr",
     "output_type": "stream",
     "text": [
      "0: 384x640 4 cars, 127.9ms\n",
      "Speed: 1.0ms pre-process, 127.9ms inference, 1.0ms postprocess per image at shape (1, 3, 640, 640)\n",
      "\n",
      "0: 384x640 4 cars, 121.3ms\n",
      "Speed: 1.0ms pre-process, 121.3ms inference, 1.3ms postprocess per image at shape (1, 3, 640, 640)\n",
      "\n"
     ]
    },
    {
     "name": "stdout",
     "output_type": "stream",
     "text": [
      "994 469 f1 15\n",
      "935 422 f1 13\n",
      "875 382 illegal parking! 1\n",
      "993 469 f1 15\n",
      "935 421 f1 13\n",
      "979 461 illegal parking! 5\n"
     ]
    },
    {
     "name": "stderr",
     "output_type": "stream",
     "text": [
      "0: 384x640 4 cars, 122.9ms\n",
      "Speed: 1.1ms pre-process, 122.9ms inference, 2.0ms postprocess per image at shape (1, 3, 640, 640)\n",
      "\n",
      "0: 384x640 4 cars, 119.0ms\n",
      "Speed: 1.0ms pre-process, 119.0ms inference, 1.0ms postprocess per image at shape (1, 3, 640, 640)\n",
      "\n"
     ]
    },
    {
     "name": "stdout",
     "output_type": "stream",
     "text": [
      "875 382 illegal parking! 1\n",
      "935 422 f1 13\n",
      "979 461 illegal parking! 5\n"
     ]
    },
    {
     "name": "stderr",
     "output_type": "stream",
     "text": [
      "0: 384x640 4 cars, 111.8ms\n",
      "Speed: 2.0ms pre-process, 111.8ms inference, 2.0ms postprocess per image at shape (1, 3, 640, 640)\n",
      "\n",
      "0: 384x640 4 cars, 122.5ms\n",
      "Speed: 1.0ms pre-process, 122.5ms inference, 2.0ms postprocess per image at shape (1, 3, 640, 640)\n",
      "\n"
     ]
    },
    {
     "name": "stdout",
     "output_type": "stream",
     "text": [
      "875 382 illegal parking! 1\n",
      "935 422 f1 13\n",
      "979 461 illegal parking! 5\n",
      "1034 491 illegal parking! 2\n",
      "875 381 illegal parking! 1\n"
     ]
    },
    {
     "name": "stderr",
     "output_type": "stream",
     "text": [
      "0: 384x640 3 cars, 117.9ms\n",
      "Speed: 1.0ms pre-process, 117.9ms inference, 2.0ms postprocess per image at shape (1, 3, 640, 640)\n",
      "\n",
      "0: 384x640 5 cars, 112.6ms\n",
      "Speed: 1.0ms pre-process, 112.6ms inference, 2.0ms postprocess per image at shape (1, 3, 640, 640)\n",
      "\n"
     ]
    },
    {
     "name": "stdout",
     "output_type": "stream",
     "text": [
      "979 460 illegal parking! 5\n",
      "935 422 f1 13\n",
      "978 460 illegal parking! 5\n",
      "875 381 illegal parking! 1\n"
     ]
    },
    {
     "name": "stderr",
     "output_type": "stream",
     "text": [
      "0: 384x640 4 cars, 113.0ms\n",
      "Speed: 1.0ms pre-process, 113.0ms inference, 1.0ms postprocess per image at shape (1, 3, 640, 640)\n",
      "\n",
      "0: 384x640 4 cars, 110.1ms\n",
      "Speed: 1.0ms pre-process, 110.1ms inference, 1.0ms postprocess per image at shape (1, 3, 640, 640)\n",
      "\n",
      "0: 384x640 3 cars, 110.6ms\n",
      "Speed: 1.0ms pre-process, 110.6ms inference, 1.0ms postprocess per image at shape (1, 3, 640, 640)\n",
      "\n"
     ]
    },
    {
     "name": "stdout",
     "output_type": "stream",
     "text": [
      "935 421 f1 13\n",
      "978 460 illegal parking! 5\n",
      "1034 491 illegal parking! 2\n",
      "875 381 illegal parking! 1\n",
      "936 421 f1 13\n"
     ]
    },
    {
     "name": "stderr",
     "output_type": "stream",
     "text": [
      "0: 384x640 4 cars, 128.4ms\n",
      "Speed: 1.0ms pre-process, 128.4ms inference, 1.0ms postprocess per image at shape (1, 3, 640, 640)\n",
      "\n",
      "0: 384x640 4 cars, 121.8ms\n",
      "Speed: 1.0ms pre-process, 121.8ms inference, 1.5ms postprocess per image at shape (1, 3, 640, 640)\n",
      "\n"
     ]
    },
    {
     "name": "stdout",
     "output_type": "stream",
     "text": [
      "978 460 illegal parking! 5\n",
      "875 381 illegal parking! 1\n",
      "936 421 f1 13\n"
     ]
    },
    {
     "name": "stderr",
     "output_type": "stream",
     "text": [
      "0: 384x640 4 cars, 129.9ms\n",
      "Speed: 1.0ms pre-process, 129.9ms inference, 1.5ms postprocess per image at shape (1, 3, 640, 640)\n",
      "\n",
      "0: 384x640 4 cars, 118.6ms\n",
      "Speed: 0.0ms pre-process, 118.6ms inference, 1.0ms postprocess per image at shape (1, 3, 640, 640)\n",
      "\n"
     ]
    },
    {
     "name": "stdout",
     "output_type": "stream",
     "text": [
      "978 460 illegal parking! 5\n",
      "1034 491 illegal parking! 2\n",
      "875 381 illegal parking! 1\n",
      "936 420 f1 13\n",
      "977 460 illegal parking! 5\n",
      "1033 491 illegal parking! 2\n"
     ]
    },
    {
     "name": "stderr",
     "output_type": "stream",
     "text": [
      "0: 384x640 4 cars, 113.3ms\n",
      "Speed: 1.0ms pre-process, 113.3ms inference, 1.0ms postprocess per image at shape (1, 3, 640, 640)\n",
      "\n",
      "0: 384x640 3 cars, 113.2ms\n",
      "Speed: 1.0ms pre-process, 113.2ms inference, 1.5ms postprocess per image at shape (1, 3, 640, 640)\n",
      "\n"
     ]
    },
    {
     "name": "stdout",
     "output_type": "stream",
     "text": [
      "936 419 f1 13\n",
      "875 381 illegal parking! 1\n",
      "977 460 illegal parking! 5\n"
     ]
    },
    {
     "name": "stderr",
     "output_type": "stream",
     "text": [
      "0: 384x640 3 cars, 130.7ms\n",
      "Speed: 1.0ms pre-process, 130.7ms inference, 3.0ms postprocess per image at shape (1, 3, 640, 640)\n",
      "\n",
      "0: 384x640 3 cars, 119.1ms\n",
      "Speed: 1.0ms pre-process, 119.1ms inference, 2.0ms postprocess per image at shape (1, 3, 640, 640)\n",
      "\n"
     ]
    },
    {
     "name": "stdout",
     "output_type": "stream",
     "text": [
      "936 419 f1 13\n",
      "875 381 illegal parking! 1\n",
      "977 460 illegal parking! 5\n"
     ]
    },
    {
     "name": "stderr",
     "output_type": "stream",
     "text": [
      "0: 384x640 3 cars, 117.6ms\n",
      "Speed: 1.0ms pre-process, 117.6ms inference, 2.0ms postprocess per image at shape (1, 3, 640, 640)\n",
      "\n",
      "0: 384x640 4 cars, 117.1ms\n",
      "Speed: 1.0ms pre-process, 117.1ms inference, 1.0ms postprocess per image at shape (1, 3, 640, 640)\n",
      "\n"
     ]
    },
    {
     "name": "stdout",
     "output_type": "stream",
     "text": [
      "936 419 f1 13\n",
      "875 381 illegal parking! 1\n",
      "936 420 f1 13\n",
      "977 460 illegal parking! 5\n"
     ]
    },
    {
     "name": "stderr",
     "output_type": "stream",
     "text": [
      "0: 384x640 4 cars, 114.7ms\n",
      "Speed: 1.0ms pre-process, 114.7ms inference, 1.0ms postprocess per image at shape (1, 3, 640, 640)\n",
      "\n",
      "0: 384x640 4 cars, 137.3ms\n",
      "Speed: 0.0ms pre-process, 137.3ms inference, 1.0ms postprocess per image at shape (1, 3, 640, 640)\n",
      "\n"
     ]
    },
    {
     "name": "stdout",
     "output_type": "stream",
     "text": [
      "936 421 f1 13\n",
      "875 380 illegal parking! 1\n",
      "977 460 illegal parking! 5\n",
      "1035 491 illegal parking! 2\n"
     ]
    },
    {
     "name": "stderr",
     "output_type": "stream",
     "text": [
      "0: 384x640 4 cars, 119.4ms\n",
      "Speed: 1.0ms pre-process, 119.4ms inference, 2.0ms postprocess per image at shape (1, 3, 640, 640)\n",
      "\n",
      "0: 384x640 3 cars, 116.9ms\n",
      "Speed: 1.0ms pre-process, 116.9ms inference, 2.0ms postprocess per image at shape (1, 3, 640, 640)\n",
      "\n"
     ]
    },
    {
     "name": "stdout",
     "output_type": "stream",
     "text": [
      "936 421 f1 13\n",
      "874 380 illegal parking! 1\n",
      "977 460 illegal parking! 5\n"
     ]
    },
    {
     "name": "stderr",
     "output_type": "stream",
     "text": [
      "0: 384x640 4 cars, 115.3ms\n",
      "Speed: 1.0ms pre-process, 115.3ms inference, 2.0ms postprocess per image at shape (1, 3, 640, 640)\n",
      "\n",
      "0: 384x640 4 cars, 115.9ms\n",
      "Speed: 1.0ms pre-process, 115.9ms inference, 1.0ms postprocess per image at shape (1, 3, 640, 640)\n",
      "\n"
     ]
    },
    {
     "name": "stdout",
     "output_type": "stream",
     "text": [
      "936 421 f1 13\n",
      "875 380 illegal parking! 1\n",
      "977 460 illegal parking! 5\n"
     ]
    },
    {
     "name": "stderr",
     "output_type": "stream",
     "text": [
      "0: 384x640 3 cars, 140.5ms\n",
      "Speed: 1.5ms pre-process, 140.5ms inference, 2.1ms postprocess per image at shape (1, 3, 640, 640)\n",
      "\n",
      "0: 384x640 3 cars, 128.2ms\n",
      "Speed: 1.0ms pre-process, 128.2ms inference, 2.0ms postprocess per image at shape (1, 3, 640, 640)\n",
      "\n"
     ]
    },
    {
     "name": "stdout",
     "output_type": "stream",
     "text": [
      "936 421 f1 13\n",
      "875 380 illegal parking! 1\n",
      "977 460 illegal parking! 5\n",
      "876 380 illegal parking! 1\n"
     ]
    },
    {
     "name": "stderr",
     "output_type": "stream",
     "text": [
      "0: 384x640 3 cars, 119.3ms\n",
      "Speed: 1.0ms pre-process, 119.3ms inference, 2.0ms postprocess per image at shape (1, 3, 640, 640)\n",
      "\n",
      "0: 384x640 3 cars, 116.7ms\n",
      "Speed: 3.0ms pre-process, 116.7ms inference, 1.0ms postprocess per image at shape (1, 3, 640, 640)\n",
      "\n"
     ]
    },
    {
     "name": "stdout",
     "output_type": "stream",
     "text": [
      "936 421 f1 13\n",
      "875 380 illegal parking! 1\n",
      "977 460 illegal parking! 5\n"
     ]
    },
    {
     "name": "stderr",
     "output_type": "stream",
     "text": [
      "0: 384x640 3 cars, 117.8ms\n",
      "Speed: 1.5ms pre-process, 117.8ms inference, 1.0ms postprocess per image at shape (1, 3, 640, 640)\n",
      "\n",
      "0: 384x640 3 cars, 117.7ms\n",
      "Speed: 1.0ms pre-process, 117.7ms inference, 2.5ms postprocess per image at shape (1, 3, 640, 640)\n",
      "\n"
     ]
    },
    {
     "name": "stdout",
     "output_type": "stream",
     "text": [
      "936 421 f1 13\n",
      "875 380 illegal parking! 1\n",
      "977 460 illegal parking! 5\n"
     ]
    },
    {
     "name": "stderr",
     "output_type": "stream",
     "text": [
      "0: 384x640 3 cars, 134.4ms\n",
      "Speed: 1.0ms pre-process, 134.4ms inference, 1.0ms postprocess per image at shape (1, 3, 640, 640)\n",
      "\n",
      "0: 384x640 3 cars, 123.1ms\n",
      "Speed: 1.0ms pre-process, 123.1ms inference, 2.1ms postprocess per image at shape (1, 3, 640, 640)\n",
      "\n"
     ]
    },
    {
     "name": "stdout",
     "output_type": "stream",
     "text": [
      "936 420 f1 13\n",
      "976 460 illegal parking! 5\n",
      "875 380 illegal parking! 1\n",
      "976 459 illegal parking! 5\n"
     ]
    },
    {
     "name": "stderr",
     "output_type": "stream",
     "text": [
      "0: 384x640 3 cars, 114.2ms\n",
      "Speed: 1.0ms pre-process, 114.2ms inference, 2.0ms postprocess per image at shape (1, 3, 640, 640)\n",
      "\n",
      "0: 384x640 3 cars, 114.3ms\n",
      "Speed: 1.0ms pre-process, 114.3ms inference, 2.0ms postprocess per image at shape (1, 3, 640, 640)\n",
      "\n"
     ]
    },
    {
     "name": "stdout",
     "output_type": "stream",
     "text": [
      "936 420 f1 13\n",
      "875 380 illegal parking! 1\n",
      "976 460 illegal parking! 5\n"
     ]
    },
    {
     "name": "stderr",
     "output_type": "stream",
     "text": [
      "0: 384x640 3 cars, 114.7ms\n",
      "Speed: 1.0ms pre-process, 114.7ms inference, 2.0ms postprocess per image at shape (1, 3, 640, 640)\n",
      "\n",
      "0: 384x640 2 cars, 132.7ms\n",
      "Speed: 1.5ms pre-process, 132.7ms inference, 2.0ms postprocess per image at shape (1, 3, 640, 640)\n",
      "\n"
     ]
    },
    {
     "name": "stdout",
     "output_type": "stream",
     "text": [
      "936 420 f1 13\n",
      "875 380 illegal parking! 1\n",
      "976 459 illegal parking! 5\n"
     ]
    },
    {
     "name": "stderr",
     "output_type": "stream",
     "text": [
      "0: 384x640 3 cars, 1 train, 118.9ms\n",
      "Speed: 1.0ms pre-process, 118.9ms inference, 1.0ms postprocess per image at shape (1, 3, 640, 640)\n",
      "\n",
      "0: 384x640 3 cars, 1 train, 116.5ms\n",
      "Speed: 1.5ms pre-process, 116.5ms inference, 2.0ms postprocess per image at shape (1, 3, 640, 640)\n",
      "\n"
     ]
    },
    {
     "name": "stdout",
     "output_type": "stream",
     "text": [
      "976 460 illegal parking! 5\n",
      "875 380 illegal parking! 1\n"
     ]
    },
    {
     "name": "stderr",
     "output_type": "stream",
     "text": [
      "0: 384x640 3 cars, 1 train, 118.3ms\n",
      "Speed: 1.0ms pre-process, 118.3ms inference, 2.0ms postprocess per image at shape (1, 3, 640, 640)\n",
      "\n",
      "0: 384x640 3 cars, 115.7ms\n",
      "Speed: 1.0ms pre-process, 115.7ms inference, 2.0ms postprocess per image at shape (1, 3, 640, 640)\n",
      "\n"
     ]
    },
    {
     "name": "stdout",
     "output_type": "stream",
     "text": [
      "936 420 f1 13\n",
      "976 460 illegal parking! 5\n",
      "875 380 illegal parking! 1\n",
      "976 459 illegal parking! 5\n"
     ]
    },
    {
     "name": "stderr",
     "output_type": "stream",
     "text": [
      "0: 384x640 3 cars, 120.0ms\n",
      "Speed: 1.0ms pre-process, 120.0ms inference, 2.0ms postprocess per image at shape (1, 3, 640, 640)\n",
      "\n",
      "0: 384x640 3 cars, 127.0ms\n",
      "Speed: 2.0ms pre-process, 127.0ms inference, 1.0ms postprocess per image at shape (1, 3, 640, 640)\n",
      "\n"
     ]
    },
    {
     "name": "stdout",
     "output_type": "stream",
     "text": [
      "935 421 f1 13\n",
      "977 459 illegal parking! 5\n",
      "876 380 illegal parking! 1\n"
     ]
    },
    {
     "name": "stderr",
     "output_type": "stream",
     "text": [
      "0: 384x640 3 cars, 121.3ms\n",
      "Speed: 1.0ms pre-process, 121.3ms inference, 1.0ms postprocess per image at shape (1, 3, 640, 640)\n",
      "\n",
      "0: 384x640 3 cars, 116.2ms\n",
      "Speed: 1.0ms pre-process, 116.2ms inference, 1.0ms postprocess per image at shape (1, 3, 640, 640)\n",
      "\n"
     ]
    },
    {
     "name": "stdout",
     "output_type": "stream",
     "text": [
      "934 421 f1 13\n",
      "977 459 illegal parking! 5\n",
      "876 380 illegal parking! 1\n"
     ]
    },
    {
     "name": "stderr",
     "output_type": "stream",
     "text": [
      "0: 384x640 3 cars, 115.3ms\n",
      "Speed: 1.5ms pre-process, 115.3ms inference, 1.0ms postprocess per image at shape (1, 3, 640, 640)\n",
      "\n",
      "0: 384x640 3 cars, 122.7ms\n",
      "Speed: 0.0ms pre-process, 122.7ms inference, 1.0ms postprocess per image at shape (1, 3, 640, 640)\n",
      "\n"
     ]
    },
    {
     "name": "stdout",
     "output_type": "stream",
     "text": [
      "935 421 f1 13\n",
      "977 459 illegal parking! 5\n",
      "876 380 illegal parking! 1\n",
      "935 422 f1 13\n"
     ]
    },
    {
     "name": "stderr",
     "output_type": "stream",
     "text": [
      "0: 384x640 3 cars, 1 traffic light, 132.5ms\n",
      "Speed: 1.0ms pre-process, 132.5ms inference, 2.0ms postprocess per image at shape (1, 3, 640, 640)\n",
      "\n",
      "0: 384x640 3 cars, 124.2ms\n",
      "Speed: 1.0ms pre-process, 124.2ms inference, 1.0ms postprocess per image at shape (1, 3, 640, 640)\n",
      "\n"
     ]
    },
    {
     "name": "stdout",
     "output_type": "stream",
     "text": [
      "977 459 illegal parking! 5\n",
      "876 380 illegal parking! 1\n",
      "935 422 f1 13\n"
     ]
    },
    {
     "name": "stderr",
     "output_type": "stream",
     "text": [
      "0: 384x640 3 cars, 116.6ms\n",
      "Speed: 1.0ms pre-process, 116.6ms inference, 1.1ms postprocess per image at shape (1, 3, 640, 640)\n",
      "\n",
      "0: 384x640 3 cars, 117.2ms\n",
      "Speed: 1.0ms pre-process, 117.2ms inference, 1.0ms postprocess per image at shape (1, 3, 640, 640)\n",
      "\n"
     ]
    },
    {
     "name": "stdout",
     "output_type": "stream",
     "text": [
      "977 459 illegal parking! 5\n",
      "876 380 illegal parking! 1\n",
      "935 422 f1 13\n",
      "876 379 illegal parking! 1\n"
     ]
    },
    {
     "name": "stderr",
     "output_type": "stream",
     "text": [
      "0: 384x640 3 cars, 115.4ms\n",
      "Speed: 1.0ms pre-process, 115.4ms inference, 1.0ms postprocess per image at shape (1, 3, 640, 640)\n",
      "\n",
      "0: 384x640 3 cars, 129.1ms\n",
      "Speed: 1.0ms pre-process, 129.1ms inference, 2.0ms postprocess per image at shape (1, 3, 640, 640)\n",
      "\n"
     ]
    },
    {
     "name": "stdout",
     "output_type": "stream",
     "text": [
      "977 459 illegal parking! 5\n",
      "935 422 f1 13\n",
      "976 459 illegal parking! 5\n",
      "876 379 illegal parking! 1\n"
     ]
    },
    {
     "name": "stderr",
     "output_type": "stream",
     "text": [
      "0: 384x640 3 cars, 125.1ms\n",
      "Speed: 1.0ms pre-process, 125.1ms inference, 1.0ms postprocess per image at shape (1, 3, 640, 640)\n",
      "\n",
      "0: 384x640 4 cars, 117.4ms\n",
      "Speed: 1.0ms pre-process, 117.4ms inference, 2.0ms postprocess per image at shape (1, 3, 640, 640)\n",
      "\n",
      "0: 384x640 4 cars, 110.6ms\n",
      "Speed: 1.0ms pre-process, 110.6ms inference, 1.0ms postprocess per image at shape (1, 3, 640, 640)\n",
      "\n"
     ]
    },
    {
     "name": "stdout",
     "output_type": "stream",
     "text": [
      "935 422 f1 13\n",
      "976 459 illegal parking! 5\n",
      "875 379 illegal parking! 1\n",
      "977 459 illegal parking! 5\n",
      "875 380 illegal parking! 1\n"
     ]
    },
    {
     "name": "stderr",
     "output_type": "stream",
     "text": [
      "0: 384x640 4 cars, 114.3ms\n",
      "Speed: 1.0ms pre-process, 114.3ms inference, 1.0ms postprocess per image at shape (1, 3, 640, 640)\n",
      "\n",
      "0: 384x640 4 cars, 115.9ms\n",
      "Speed: 0.0ms pre-process, 115.9ms inference, 1.0ms postprocess per image at shape (1, 3, 640, 640)\n",
      "\n"
     ]
    },
    {
     "name": "stdout",
     "output_type": "stream",
     "text": [
      "935 422 f1 13\n",
      "1035 492 illegal parking! 2\n",
      "876 380 illegal parking! 1\n",
      "977 459 illegal parking! 5\n",
      "1035 491 illegal parking! 2\n"
     ]
    },
    {
     "name": "stderr",
     "output_type": "stream",
     "text": [
      "0: 384x640 4 cars, 124.9ms\n",
      "Speed: 1.0ms pre-process, 124.9ms inference, 2.5ms postprocess per image at shape (1, 3, 640, 640)\n",
      "\n",
      "0: 384x640 4 cars, 124.0ms\n",
      "Speed: 2.0ms pre-process, 124.0ms inference, 1.2ms postprocess per image at shape (1, 3, 640, 640)\n",
      "\n"
     ]
    },
    {
     "name": "stdout",
     "output_type": "stream",
     "text": [
      "935 422 f1 13\n",
      "1037 491 illegal parking! 2\n",
      "876 380 illegal parking! 1\n",
      "977 459 illegal parking! 5\n",
      "1036 492 illegal parking! 2\n"
     ]
    },
    {
     "name": "stderr",
     "output_type": "stream",
     "text": [
      "0: 384x640 4 cars, 118.6ms\n",
      "Speed: 1.5ms pre-process, 118.6ms inference, 1.0ms postprocess per image at shape (1, 3, 640, 640)\n",
      "\n",
      "0: 384x640 4 cars, 117.6ms\n",
      "Speed: 1.0ms pre-process, 117.6ms inference, 1.0ms postprocess per image at shape (1, 3, 640, 640)\n",
      "\n"
     ]
    },
    {
     "name": "stdout",
     "output_type": "stream",
     "text": [
      "935 422 f1 13\n",
      "1035 492 illegal parking! 2\n",
      "876 380 illegal parking! 1\n",
      "934 422 f1 13\n",
      "977 459 illegal parking! 5\n",
      "1036 492 illegal parking! 2\n",
      "876 379 illegal parking! 1\n"
     ]
    },
    {
     "name": "stderr",
     "output_type": "stream",
     "text": [
      "0: 384x640 4 cars, 118.6ms\n",
      "Speed: 1.0ms pre-process, 118.6ms inference, 2.0ms postprocess per image at shape (1, 3, 640, 640)\n",
      "\n",
      "0: 384x640 4 cars, 114.1ms\n",
      "Speed: 1.1ms pre-process, 114.1ms inference, 2.0ms postprocess per image at shape (1, 3, 640, 640)\n",
      "\n"
     ]
    },
    {
     "name": "stdout",
     "output_type": "stream",
     "text": [
      "1037 492 illegal parking! 2\n",
      "934 421 f1 13\n",
      "977 459 illegal parking! 5\n",
      "1036 492 illegal parking! 2\n",
      "876 379 illegal parking! 1\n"
     ]
    },
    {
     "name": "stderr",
     "output_type": "stream",
     "text": [
      "0: 384x640 4 cars, 134.0ms\n",
      "Speed: 1.0ms pre-process, 134.0ms inference, 1.0ms postprocess per image at shape (1, 3, 640, 640)\n",
      "\n",
      "0: 384x640 4 cars, 119.9ms\n",
      "Speed: 1.0ms pre-process, 119.9ms inference, 1.0ms postprocess per image at shape (1, 3, 640, 640)\n",
      "\n"
     ]
    },
    {
     "name": "stdout",
     "output_type": "stream",
     "text": [
      "1037 493 illegal parking! 2\n",
      "876 380 illegal parking! 1\n",
      "934 421 f1 13\n",
      "977 460 illegal parking! 5\n",
      "1037 492 illegal parking! 2\n"
     ]
    },
    {
     "name": "stderr",
     "output_type": "stream",
     "text": [
      "0: 384x640 4 cars, 113.3ms\n",
      "Speed: 1.0ms pre-process, 113.3ms inference, 2.0ms postprocess per image at shape (1, 3, 640, 640)\n",
      "\n",
      "0: 384x640 4 cars, 118.1ms\n",
      "Speed: 1.0ms pre-process, 118.1ms inference, 1.0ms postprocess per image at shape (1, 3, 640, 640)\n",
      "\n"
     ]
    },
    {
     "name": "stdout",
     "output_type": "stream",
     "text": [
      "1038 492 illegal parking! 2\n",
      "876 380 illegal parking! 1\n",
      "935 421 f1 13\n",
      "977 460 illegal parking! 5\n"
     ]
    },
    {
     "name": "stderr",
     "output_type": "stream",
     "text": [
      "0: 384x640 4 cars, 117.9ms\n",
      "Speed: 1.0ms pre-process, 117.9ms inference, 2.0ms postprocess per image at shape (1, 3, 640, 640)\n",
      "\n",
      "0: 384x640 4 cars, 138.0ms\n",
      "Speed: 1.0ms pre-process, 138.0ms inference, 1.0ms postprocess per image at shape (1, 3, 640, 640)\n",
      "\n"
     ]
    },
    {
     "name": "stdout",
     "output_type": "stream",
     "text": [
      "1038 492 illegal parking! 2\n",
      "876 380 illegal parking! 1\n",
      "935 421 f1 13\n",
      "977 460 illegal parking! 5\n",
      "1037 492 illegal parking! 2\n"
     ]
    },
    {
     "name": "stderr",
     "output_type": "stream",
     "text": [
      "0: 384x640 4 cars, 118.9ms\n",
      "Speed: 1.0ms pre-process, 118.9ms inference, 2.0ms postprocess per image at shape (1, 3, 640, 640)\n",
      "\n",
      "0: 384x640 4 cars, 116.4ms\n",
      "Speed: 1.0ms pre-process, 116.4ms inference, 2.5ms postprocess per image at shape (1, 3, 640, 640)\n",
      "\n"
     ]
    },
    {
     "name": "stdout",
     "output_type": "stream",
     "text": [
      "935 420 f1 13\n",
      "1038 492 illegal parking! 2\n",
      "876 380 illegal parking! 1\n",
      "934 420 f1 13\n",
      "977 460 illegal parking! 5\n",
      "1037 492 illegal parking! 2\n"
     ]
    },
    {
     "name": "stderr",
     "output_type": "stream",
     "text": [
      "0: 384x640 4 cars, 113.6ms\n",
      "Speed: 1.0ms pre-process, 113.6ms inference, 1.0ms postprocess per image at shape (1, 3, 640, 640)\n",
      "\n",
      "0: 384x640 4 cars, 115.4ms\n",
      "Speed: 0.9ms pre-process, 115.4ms inference, 2.0ms postprocess per image at shape (1, 3, 640, 640)\n",
      "\n"
     ]
    },
    {
     "name": "stdout",
     "output_type": "stream",
     "text": [
      "1038 493 illegal parking! 2\n",
      "876 380 illegal parking! 1\n",
      "934 420 f1 13\n",
      "977 460 illegal parking! 5\n",
      "1037 493 illegal parking! 2\n"
     ]
    },
    {
     "name": "stderr",
     "output_type": "stream",
     "text": [
      "0: 384x640 4 cars, 118.3ms\n",
      "Speed: 1.0ms pre-process, 118.3ms inference, 3.5ms postprocess per image at shape (1, 3, 640, 640)\n",
      "\n",
      "0: 384x640 4 cars, 123.5ms\n",
      "Speed: 1.0ms pre-process, 123.5ms inference, 2.0ms postprocess per image at shape (1, 3, 640, 640)\n",
      "\n"
     ]
    },
    {
     "name": "stdout",
     "output_type": "stream",
     "text": [
      "934 421 f1 13\n",
      "976 460 illegal parking! 5\n",
      "1038 492 illegal parking! 2\n",
      "876 380 illegal parking! 1\n"
     ]
    },
    {
     "name": "stderr",
     "output_type": "stream",
     "text": [
      "0: 384x640 4 cars, 125.8ms\n",
      "Speed: 1.0ms pre-process, 125.8ms inference, 2.0ms postprocess per image at shape (1, 3, 640, 640)\n",
      "\n",
      "0: 384x640 4 cars, 115.6ms\n",
      "Speed: 1.0ms pre-process, 115.6ms inference, 2.4ms postprocess per image at shape (1, 3, 640, 640)\n",
      "\n"
     ]
    },
    {
     "name": "stdout",
     "output_type": "stream",
     "text": [
      "934 421 illegal parking! 13\n",
      "976 460 illegal parking! 5\n",
      "1038 492 illegal parking! 2\n",
      "876 380 illegal parking! 1\n"
     ]
    },
    {
     "name": "stderr",
     "output_type": "stream",
     "text": [
      "0: 384x640 4 cars, 114.7ms\n",
      "Speed: 1.0ms pre-process, 114.7ms inference, 1.0ms postprocess per image at shape (1, 3, 640, 640)\n",
      "\n",
      "0: 384x640 4 cars, 120.7ms\n",
      "Speed: 1.0ms pre-process, 120.7ms inference, 2.0ms postprocess per image at shape (1, 3, 640, 640)\n",
      "\n"
     ]
    },
    {
     "name": "stdout",
     "output_type": "stream",
     "text": [
      "934 420 illegal parking! 13\n",
      "976 460 illegal parking! 5\n",
      "1038 491 illegal parking! 2\n",
      "876 381 illegal parking! 1\n"
     ]
    },
    {
     "name": "stderr",
     "output_type": "stream",
     "text": [
      "0: 384x640 4 cars, 1 train, 135.8ms\n",
      "Speed: 1.0ms pre-process, 135.8ms inference, 1.0ms postprocess per image at shape (1, 3, 640, 640)\n",
      "\n",
      "0: 384x640 4 cars, 115.6ms\n",
      "Speed: 1.0ms pre-process, 115.6ms inference, 2.0ms postprocess per image at shape (1, 3, 640, 640)\n",
      "\n"
     ]
    },
    {
     "name": "stdout",
     "output_type": "stream",
     "text": [
      "934 420 illegal parking! 13\n",
      "976 460 illegal parking! 5\n",
      "1038 492 illegal parking! 2\n",
      "876 381 illegal parking! 1\n",
      "875 381 illegal parking! 1\n"
     ]
    },
    {
     "name": "stderr",
     "output_type": "stream",
     "text": [
      "0: 384x640 4 cars, 112.6ms\n",
      "Speed: 1.0ms pre-process, 112.6ms inference, 1.4ms postprocess per image at shape (1, 3, 640, 640)\n",
      "\n",
      "0: 384x640 3 cars, 116.1ms\n",
      "Speed: 1.0ms pre-process, 116.1ms inference, 1.0ms postprocess per image at shape (1, 3, 640, 640)\n",
      "\n"
     ]
    },
    {
     "name": "stdout",
     "output_type": "stream",
     "text": [
      "934 420 illegal parking! 13\n",
      "976 460 illegal parking! 5\n",
      "1038 492 illegal parking! 2\n",
      "935 420 illegal parking! 13\n",
      "875 381 illegal parking! 1\n"
     ]
    },
    {
     "name": "stderr",
     "output_type": "stream",
     "text": [
      "0: 384x640 3 cars, 115.1ms\n",
      "Speed: 1.0ms pre-process, 115.1ms inference, 1.0ms postprocess per image at shape (1, 3, 640, 640)\n",
      "\n",
      "0: 384x640 3 cars, 1 train, 135.8ms\n",
      "Speed: 1.0ms pre-process, 135.8ms inference, 2.0ms postprocess per image at shape (1, 3, 640, 640)\n",
      "\n"
     ]
    },
    {
     "name": "stdout",
     "output_type": "stream",
     "text": [
      "976 460 illegal parking! 5\n",
      "936 419 illegal parking! 13\n",
      "875 381 illegal parking! 1\n"
     ]
    },
    {
     "name": "stderr",
     "output_type": "stream",
     "text": [
      "0: 384x640 3 cars, 1 train, 119.2ms\n",
      "Speed: 1.0ms pre-process, 119.2ms inference, 2.0ms postprocess per image at shape (1, 3, 640, 640)\n",
      "\n",
      "0: 384x640 3 cars, 112.2ms\n",
      "Speed: 0.0ms pre-process, 112.2ms inference, 1.0ms postprocess per image at shape (1, 3, 640, 640)\n",
      "\n"
     ]
    },
    {
     "name": "stdout",
     "output_type": "stream",
     "text": [
      "976 460 illegal parking! 5\n",
      "936 419 illegal parking! 13\n",
      "874 381 illegal parking! 1\n"
     ]
    },
    {
     "name": "stderr",
     "output_type": "stream",
     "text": [
      "0: 384x640 3 cars, 110.4ms\n",
      "Speed: 1.0ms pre-process, 110.4ms inference, 1.3ms postprocess per image at shape (1, 3, 640, 640)\n",
      "\n",
      "0: 384x640 3 cars, 108.3ms\n",
      "Speed: 1.0ms pre-process, 108.3ms inference, 1.0ms postprocess per image at shape (1, 3, 640, 640)\n",
      "\n"
     ]
    },
    {
     "name": "stdout",
     "output_type": "stream",
     "text": [
      "976 460 illegal parking! 5\n",
      "936 419 illegal parking! 13\n",
      "976 459 illegal parking! 5\n",
      "874 381 illegal parking! 1\n"
     ]
    },
    {
     "name": "stderr",
     "output_type": "stream",
     "text": [
      "0: 384x640 3 cars, 124.3ms\n",
      "Speed: 1.0ms pre-process, 124.3ms inference, 2.5ms postprocess per image at shape (1, 3, 640, 640)\n",
      "\n",
      "0: 384x640 3 cars, 133.9ms\n",
      "Speed: 1.0ms pre-process, 133.9ms inference, 1.0ms postprocess per image at shape (1, 3, 640, 640)\n",
      "\n",
      "0: 384x640 3 cars, 110.1ms\n",
      "Speed: 2.0ms pre-process, 110.1ms inference, 2.0ms postprocess per image at shape (1, 3, 640, 640)\n",
      "\n"
     ]
    },
    {
     "name": "stdout",
     "output_type": "stream",
     "text": [
      "936 419 illegal parking! 13\n",
      "976 459 illegal parking! 5\n",
      "874 381 illegal parking! 1\n",
      "874 380 illegal parking! 1\n"
     ]
    },
    {
     "name": "stderr",
     "output_type": "stream",
     "text": [
      "0: 384x640 3 cars, 112.2ms\n",
      "Speed: 1.0ms pre-process, 112.2ms inference, 2.0ms postprocess per image at shape (1, 3, 640, 640)\n"
     ]
    },
    {
     "name": "stdout",
     "output_type": "stream",
     "text": [
      "936 419 illegal parking! 13\n",
      "976 459 illegal parking! 5\n"
     ]
    }
   ],
   "source": [
    "# from ultralytics import YOLO\n",
    "# from IPython.display import display, Image\n",
    "# import cv2\n",
    "# import numpy as np\n",
    "# # from object_detection import ObjectDetection\n",
    "# import math\n",
    "# from sort import *\n",
    "\n",
    "classNames = [\"person\", \"bicycle\", \"car\", \"motorbike\", \"aeroplane\", \"bus\", \"train\", \"truck\", \"boat\",\n",
    "              \"traffic light\", \"fire hydrant\", \"stop sign\"\n",
    "              \n",
    "              ]\n",
    "\n",
    "def dist(P, A, B):\n",
    "    area = abs ( (A[0] - P[0]) * (B[1] - P[1]) - (A[1] - P[1]) * (B[0] - P[0]) )\n",
    "    AB = ( (A[0] - B[0]) ** 2 + (A[1] - B[1]) ** 2 ) ** 0.5\n",
    "    return ( area / AB )\n",
    "\n",
    "f1_A=(650, 270)\n",
    "f1_B=(1100, 580) #distance 40\n",
    "# (650, 270), 5, (0, 0, 255), -1)\n",
    "    # cv2.circle(frame, (1100, 580)\n",
    "f2_A=(723, 523) #id 194\n",
    "f2_B=(925, 800) #id 91 distance 30\n",
    "\n",
    "f3_A=(1,2) #id 60\n",
    "f3_B=(10, 10) #id 30  distance 30\n",
    "\n",
    "f4_A=(1,2) #id 105\n",
    "f4_B=(13, 121)  #id 85  distacne 30\n",
    "\n",
    "f5_A=(13, 15) #id 4\n",
    "f5_B=(112, 113) #id 29 distance 30\n",
    "\n",
    "# Initialize Object Detection\n",
    "# od = ObjectDetection()\n",
    "model = YOLO('yolov8n.pt')\n",
    "cap = cv2.VideoCapture(\"stopcar1.mp4\")\n",
    "\n",
    "frameWidth = int(cap.get(cv2.CAP_PROP_FRAME_WIDTH))\t# 영상의 넓이(가로) 프레임\n",
    "frameHeight = int(cap.get(cv2.CAP_PROP_FRAME_HEIGHT))\t# 영상의 높이(세로) 프레임\n",
    "frame_size = (frameWidth, frameHeight)\n",
    "\n",
    "print(frame_size)\n",
    "# Initialize count\n",
    "count = 0\n",
    "center_points_prev_frame = []\n",
    "class Msg:\n",
    "    msg_to=None\n",
    "    x:int=None\n",
    "    y:int=None\n",
    "    car_id=None\n",
    "\n",
    "danger_car_pt={}\n",
    "f1_car_pt={}\n",
    "danger_car_id=[]\n",
    "tracking_objects = {}\n",
    "track_id = 0\n",
    "tracker = Sort(max_age=50, min_hits=3, iou_threshold=0.3)\n",
    "mask = cv2.imread(\"carstop_mask.png\")\n",
    "# mask = cv2.imread(\"bus_mask.png\")\n",
    "\n",
    "while True:\n",
    "    tracking_objects = {}\n",
    "    retval, frame = cap.read()\n",
    "    imgRegion = cv2.bitwise_and(frame,mask)\n",
    "    count += 1\n",
    "    if not(retval):\n",
    "        break\n",
    "    #그리드 그리기\n",
    "    # rows,cols, _ = frame.shape\n",
    "    # cell_size =50\n",
    "    \n",
    "    # for i in range(0,rows,cell_size):\n",
    "    #     cv2.line(frame,(0,i),(cols,i),(255,0,0),1)\n",
    "    # for j in range(0,cols,cell_size):\n",
    "    #     cv2.line(frame,(j,0),(j,rows),(255,0,0),1)\n",
    "    # # Point current frame\n",
    "    # cv2.circle(frame, (650, 270), 5, (0, 0, 255), -1)\n",
    "    # cv2.circle(frame, (1100, 580), 5, (0, 0, 255), -1)\n",
    "    center_points_cur_frame = []\n",
    "\n",
    "    # Detect objects on frame\n",
    "    results = model(imgRegion,stream=True)\n",
    "    detections = np.empty((0,5))\n",
    "    \n",
    "    for r in results:\n",
    "        boxes = r.boxes\n",
    "        for box in boxes:\n",
    "            x1, y1, x2, y2 = box.xyxy[0]\n",
    "            x1, y1, x2, y2 = int(x1), int(y1), int(x2), int(y2)\n",
    "            cx = int((x1+x2) / 2)\n",
    "            cy = int((y1+y2) / 2)\n",
    "            conf = math.ceil((box.conf[0]*100)) / 100\n",
    "            cls = int(box.cls[0])\n",
    "            currentClass = classNames[cls]\n",
    "            #print(\"FRAME N°\", count, \" \", x, y, w, h)\n",
    "            # cv2.circle(frame, (cx, cy), 5, (0, 0, 255), -1)\n",
    "            # if currentClass == \"car\" or currentClass == \"truck\" or currentClass == \"bus\" or currentClass == \"motorbike\" and conf > 0.3  :\n",
    "            # if  currentClass == \"bus\"  and conf > 0.3  :\n",
    "            #     cv2.rectangle(frame, (x1, y1), (x2,y2), (0, 255, 0), 2)\n",
    "            #     cv2.circle(frame, (cx,cy), 5, (0, 0, 255), -1)\n",
    "            #     put_text='f3[5] Bus'\n",
    "            #     cv2.putText(frame,put_text, (cx, cy - 7), 0, 0.8, (0, 0, 255), 2) \n",
    "                # currentArray = np.array([x1,y1,x2,y2,conf])\n",
    "                # detections = np.vstack((detections,currentArray))\n",
    "            if currentClass == \"car\"  or currentClass == \"motorbike\" or currentClass == \"bus\" and conf > 0.3  :\n",
    "                cv2.rectangle(frame, (x1, y1), (x2,y2), (0, 255, 0), 2)\n",
    "                currentArray = np.array([x1,y1,x2,y2,conf])\n",
    "                detections = np.vstack((detections,currentArray))\n",
    "    # Only at the beginning we compare previous and current frame\n",
    "    \n",
    "    \n",
    "    resultsTracker=tracker.update(detections)\n",
    "    \n",
    "    for result in resultsTracker:\n",
    "        x1,y1,x2,y2,Id = result\n",
    "        cx = int((x1+x2) / 2)\n",
    "        cy = int((y1+y2) / 2)\n",
    "        Id = int(Id)\n",
    "        center_points_cur_frame.append((cx,cy,Id))\n",
    "        center_points_cur_frame_copy = center_points_cur_frame.copy()\n",
    "        for pt in center_points_cur_frame_copy:\n",
    "            for pt2 in center_points_prev_frame:\n",
    "                if pt == pt2:\n",
    "                    center_points_cur_frame.remove(pt)\n",
    "\n",
    "        \n",
    "        # print(cx,cy,Id)\n",
    "                \n",
    "    for pt in center_points_cur_frame:\n",
    "        cx=pt[0]; cy=pt[1]; Id=pt[2]; \n",
    "        # print(cx,cy,Id)\n",
    "        if dist((cx,cy), f1_A, f1_B) < 100:\n",
    "            tracking_objects[Id]=(cx,cy,'f1')\n",
    "            if Id in f1_car_pt:\n",
    "                f1_car_pt[Id]+=1\n",
    "                if f1_car_pt[Id] > 36000 and id not in danger_car_id: \n",
    "                    tracking_objects[Id]=(cx,cy,'illegal parking!')\n",
    "                    danger_car_id.append(Id)\n",
    "                    Msg.msg_to='Traffic_management'\n",
    "                    Msg.car_id=Id\n",
    "            else:\n",
    "                f1_car_pt[Id]=35920  #빠른 구현을 위해 35920로 설정\n",
    "        \n",
    "        \n",
    "        else:\n",
    "            tracking_objects[Id]=(cx,cy,'Danger!')\n",
    "            if Id in danger_car_pt:\n",
    "                danger_car_pt[Id] +=1\n",
    "                if danger_car_pt[Id] > 30 and id not in danger_car_id:\n",
    "                    danger_car_id.append(Id)\n",
    "                    \n",
    "            else:\n",
    "                danger_car_pt[Id] = 1\n",
    "                \n",
    "            \n",
    "        \n",
    "            \n",
    "            \n",
    "    for object_id, pt in tracking_objects.items():\n",
    "        print(pt[0],pt[1],pt[2],object_id)\n",
    "        tmp= pt[2]+'['+str(object_id)+']'\n",
    "        cv2.circle(frame, (pt[0],pt[1]), 5, (0, 0, 255), -1)\n",
    "        cv2.putText(frame, tmp, (pt[0], pt[1] - 7), 0, 0.8, (0, 0, 255), 2)\n",
    "        \n",
    "        \n",
    "\n",
    "    \n",
    "                \n",
    "    \n",
    "    \n",
    "\n",
    "    # print(\"Tracking objects\")\n",
    "    # # print(tracking_objects)\n",
    "\n",
    "\n",
    "    # print(\"CUR FRAME LEFT PTS\")\n",
    "    # print(center_points_cur_frame)\n",
    "    \n",
    "#     cv2.circle(frame, (1,1), 5, (0, 0, 255), -1)\n",
    "    cv2.imshow(\"Frame\", frame)\n",
    "    # cv2.imshow(\"ImageFrame\",imgRegion)\n",
    "    # Make a copy of the points\n",
    "    center_points_prev_frame = center_points_cur_frame.copy()\n",
    "    # print(danger_car_id)\n",
    "    # print(danger_car_pt)\n",
    "    key = cv2.waitKey(1)\n",
    "    if key == 27:\n",
    "        break   \n",
    "\n",
    "\n",
    "\n",
    "cap.release()\n",
    "cv2.destroyAllWindows()\n"
   ]
  },
  {
   "cell_type": "code",
   "execution_count": 2,
   "metadata": {},
   "outputs": [],
   "source": [
    "from ultralytics import YOLO\n",
    "from IPython.display import display, Image\n",
    "import cv2\n",
    "import numpy as np\n",
    "# from object_detection import ObjectDetection\n",
    "import math\n",
    "# from sort import *"
   ]
  },
  {
   "cell_type": "code",
   "execution_count": 1,
   "metadata": {},
   "outputs": [],
   "source": [
    "from sort import *\n",
    " "
   ]
  },
  {
   "cell_type": "code",
   "execution_count": 19,
   "metadata": {},
   "outputs": [
    {
     "name": "stderr",
     "output_type": "stream",
     "text": [
      "Ultralytics YOLOv8.0.26  Python-3.10.9 torch-1.11.0+cpu CPU\n"
     ]
    },
    {
     "name": "stdout",
     "output_type": "stream",
     "text": [
      "(920, 488)\n"
     ]
    },
    {
     "name": "stderr",
     "output_type": "stream",
     "text": [
      "YOLOv8n summary (fused): 168 layers, 3151904 parameters, 0 gradients, 8.7 GFLOPs\n",
      "\n",
      "0: 352x640 2 persons, 9 cars, 4 buss, 169.4ms\n",
      "Speed: 1.6ms pre-process, 169.4ms inference, 2.7ms postprocess per image at shape (1, 3, 640, 640)\n",
      "\n",
      "0: 352x640 10 cars, 4 buss, 180.7ms\n",
      "Speed: 0.0ms pre-process, 180.7ms inference, 3.0ms postprocess per image at shape (1, 3, 640, 640)\n",
      "\n",
      "0: 352x640 9 cars, 5 buss, 172.7ms\n",
      "Speed: 1.0ms pre-process, 172.7ms inference, 2.6ms postprocess per image at shape (1, 3, 640, 640)\n",
      "\n",
      "0: 352x640 9 cars, 7 buss, 163.7ms\n",
      "Speed: 1.0ms pre-process, 163.7ms inference, 2.0ms postprocess per image at shape (1, 3, 640, 640)\n",
      "\n",
      "0: 352x640 9 cars, 7 buss, 159.7ms\n",
      "Speed: 1.0ms pre-process, 159.7ms inference, 1.9ms postprocess per image at shape (1, 3, 640, 640)\n",
      "\n",
      "0: 352x640 1 person, 10 cars, 7 buss, 1 truck, 161.7ms\n",
      "Speed: 1.0ms pre-process, 161.7ms inference, 0.9ms postprocess per image at shape (1, 3, 640, 640)\n",
      "\n",
      "0: 352x640 1 person, 10 cars, 6 buss, 156.5ms\n",
      "Speed: 0.9ms pre-process, 156.5ms inference, 2.1ms postprocess per image at shape (1, 3, 640, 640)\n",
      "\n",
      "0: 352x640 1 person, 10 cars, 6 buss, 141.7ms\n",
      "Speed: 0.9ms pre-process, 141.7ms inference, 2.0ms postprocess per image at shape (1, 3, 640, 640)\n",
      "\n",
      "0: 352x640 1 person, 10 cars, 6 buss, 156.5ms\n",
      "Speed: 1.0ms pre-process, 156.5ms inference, 2.0ms postprocess per image at shape (1, 3, 640, 640)\n",
      "\n",
      "0: 352x640 1 person, 8 cars, 5 buss, 140.8ms\n",
      "Speed: 1.0ms pre-process, 140.8ms inference, 2.1ms postprocess per image at shape (1, 3, 640, 640)\n",
      "\n",
      "0: 352x640 9 cars, 6 buss, 159.1ms\n",
      "Speed: 1.0ms pre-process, 159.1ms inference, 2.0ms postprocess per image at shape (1, 3, 640, 640)\n",
      "\n",
      "0: 352x640 8 cars, 5 buss, 148.7ms\n",
      "Speed: 0.9ms pre-process, 148.7ms inference, 2.1ms postprocess per image at shape (1, 3, 640, 640)\n",
      "\n",
      "0: 352x640 5 cars, 6 buss, 150.9ms\n",
      "Speed: 0.0ms pre-process, 150.9ms inference, 2.0ms postprocess per image at shape (1, 3, 640, 640)\n",
      "\n",
      "0: 352x640 6 cars, 5 buss, 145.7ms\n",
      "Speed: 0.9ms pre-process, 145.7ms inference, 1.0ms postprocess per image at shape (1, 3, 640, 640)\n",
      "\n",
      "0: 352x640 6 cars, 4 buss, 165.4ms\n",
      "Speed: 0.9ms pre-process, 165.4ms inference, 2.1ms postprocess per image at shape (1, 3, 640, 640)\n",
      "\n",
      "0: 352x640 6 cars, 4 buss, 156.8ms\n",
      "Speed: 1.1ms pre-process, 156.8ms inference, 3.1ms postprocess per image at shape (1, 3, 640, 640)\n",
      "\n",
      "0: 352x640 6 cars, 4 buss, 139.7ms\n",
      "Speed: 0.9ms pre-process, 139.7ms inference, 3.0ms postprocess per image at shape (1, 3, 640, 640)\n",
      "\n",
      "0: 352x640 6 cars, 4 buss, 146.1ms\n",
      "Speed: 0.9ms pre-process, 146.1ms inference, 1.0ms postprocess per image at shape (1, 3, 640, 640)\n",
      "\n",
      "0: 352x640 8 cars, 5 buss, 175.9ms\n",
      "Speed: 1.0ms pre-process, 175.9ms inference, 2.0ms postprocess per image at shape (1, 3, 640, 640)\n",
      "\n",
      "0: 352x640 7 cars, 6 buss, 166.2ms\n",
      "Speed: 2.0ms pre-process, 166.2ms inference, 2.0ms postprocess per image at shape (1, 3, 640, 640)\n",
      "\n",
      "0: 352x640 1 person, 8 cars, 5 buss, 169.9ms\n",
      "Speed: 0.9ms pre-process, 169.9ms inference, 3.0ms postprocess per image at shape (1, 3, 640, 640)\n",
      "\n",
      "0: 352x640 8 cars, 5 buss, 170.6ms\n",
      "Speed: 0.0ms pre-process, 170.6ms inference, 2.0ms postprocess per image at shape (1, 3, 640, 640)\n",
      "\n",
      "0: 352x640 1 person, 10 cars, 7 buss, 150.9ms\n",
      "Speed: 1.0ms pre-process, 150.9ms inference, 2.2ms postprocess per image at shape (1, 3, 640, 640)\n",
      "\n",
      "0: 352x640 1 person, 11 cars, 7 buss, 151.0ms\n",
      "Speed: 1.0ms pre-process, 151.0ms inference, 2.1ms postprocess per image at shape (1, 3, 640, 640)\n",
      "\n",
      "0: 352x640 1 person, 9 cars, 6 buss, 153.7ms\n",
      "Speed: 1.0ms pre-process, 153.7ms inference, 2.0ms postprocess per image at shape (1, 3, 640, 640)\n",
      "\n",
      "0: 352x640 1 person, 9 cars, 6 buss, 1 truck, 1 traffic light, 169.5ms\n",
      "Speed: 1.0ms pre-process, 169.5ms inference, 2.0ms postprocess per image at shape (1, 3, 640, 640)\n",
      "\n",
      "0: 352x640 9 cars, 6 buss, 1 truck, 1 traffic light, 208.5ms\n",
      "Speed: 1.0ms pre-process, 208.5ms inference, 2.0ms postprocess per image at shape (1, 3, 640, 640)\n",
      "\n",
      "0: 352x640 11 cars, 6 buss, 1 truck, 1 traffic light, 167.8ms\n",
      "Speed: 1.0ms pre-process, 167.8ms inference, 2.9ms postprocess per image at shape (1, 3, 640, 640)\n",
      "\n",
      "0: 352x640 14 cars, 2 buss, 1 truck, 1 traffic light, 168.1ms\n",
      "Speed: 1.1ms pre-process, 168.1ms inference, 2.5ms postprocess per image at shape (1, 3, 640, 640)\n",
      "\n",
      "0: 352x640 13 cars, 4 buss, 1 truck, 1 traffic light, 206.1ms\n",
      "Speed: 1.0ms pre-process, 206.1ms inference, 3.0ms postprocess per image at shape (1, 3, 640, 640)\n",
      "\n",
      "0: 352x640 15 cars, 4 buss, 1 traffic light, 181.3ms\n",
      "Speed: 1.1ms pre-process, 181.3ms inference, 4.0ms postprocess per image at shape (1, 3, 640, 640)\n",
      "\n",
      "0: 352x640 13 cars, 4 buss, 1 truck, 1 traffic light, 198.2ms\n",
      "Speed: 1.0ms pre-process, 198.2ms inference, 2.0ms postprocess per image at shape (1, 3, 640, 640)\n",
      "\n",
      "0: 352x640 13 cars, 2 buss, 1 truck, 1 traffic light, 195.2ms\n",
      "Speed: 2.0ms pre-process, 195.2ms inference, 3.0ms postprocess per image at shape (1, 3, 640, 640)\n",
      "\n",
      "0: 352x640 14 cars, 2 buss, 1 truck, 1 traffic light, 160.2ms\n",
      "Speed: 1.0ms pre-process, 160.2ms inference, 2.0ms postprocess per image at shape (1, 3, 640, 640)\n",
      "\n",
      "0: 352x640 13 cars, 3 buss, 1 truck, 1 traffic light, 151.3ms\n",
      "Speed: 1.0ms pre-process, 151.3ms inference, 2.0ms postprocess per image at shape (1, 3, 640, 640)\n",
      "\n",
      "0: 352x640 10 cars, 4 buss, 1 truck, 1 traffic light, 173.1ms\n",
      "Speed: 1.9ms pre-process, 173.1ms inference, 3.1ms postprocess per image at shape (1, 3, 640, 640)\n",
      "\n",
      "0: 352x640 11 cars, 5 buss, 1 truck, 183.0ms\n",
      "Speed: 1.0ms pre-process, 183.0ms inference, 0.9ms postprocess per image at shape (1, 3, 640, 640)\n",
      "\n",
      "0: 352x640 13 cars, 4 buss, 1 truck, 205.3ms\n",
      "Speed: 1.0ms pre-process, 205.3ms inference, 3.0ms postprocess per image at shape (1, 3, 640, 640)\n",
      "\n",
      "0: 352x640 14 cars, 4 buss, 1 truck, 198.5ms\n",
      "Speed: 1.0ms pre-process, 198.5ms inference, 2.0ms postprocess per image at shape (1, 3, 640, 640)\n",
      "\n",
      "0: 352x640 14 cars, 3 buss, 204.9ms\n",
      "Speed: 1.9ms pre-process, 204.9ms inference, 3.0ms postprocess per image at shape (1, 3, 640, 640)\n",
      "\n",
      "0: 352x640 1 person, 10 cars, 5 buss, 202.3ms\n",
      "Speed: 2.0ms pre-process, 202.3ms inference, 2.9ms postprocess per image at shape (1, 3, 640, 640)\n",
      "\n",
      "0: 352x640 12 cars, 6 buss, 2 trucks, 209.0ms\n",
      "Speed: 1.0ms pre-process, 209.0ms inference, 2.0ms postprocess per image at shape (1, 3, 640, 640)\n",
      "\n",
      "0: 352x640 13 cars, 5 buss, 1 truck, 195.7ms\n",
      "Speed: 1.0ms pre-process, 195.7ms inference, 2.9ms postprocess per image at shape (1, 3, 640, 640)\n",
      "\n",
      "0: 352x640 2 persons, 9 cars, 4 buss, 2 trucks, 190.9ms\n",
      "Speed: 1.9ms pre-process, 190.9ms inference, 2.2ms postprocess per image at shape (1, 3, 640, 640)\n",
      "\n",
      "0: 352x640 11 cars, 3 buss, 1 truck, 199.1ms\n",
      "Speed: 1.0ms pre-process, 199.1ms inference, 3.0ms postprocess per image at shape (1, 3, 640, 640)\n",
      "\n",
      "0: 352x640 12 cars, 3 buss, 2 trucks, 184.9ms\n",
      "Speed: 1.0ms pre-process, 184.9ms inference, 2.0ms postprocess per image at shape (1, 3, 640, 640)\n",
      "\n",
      "0: 352x640 1 person, 11 cars, 5 buss, 1 truck, 191.2ms\n",
      "Speed: 1.0ms pre-process, 191.2ms inference, 3.1ms postprocess per image at shape (1, 3, 640, 640)\n",
      "\n",
      "0: 352x640 8 cars, 5 buss, 2 trucks, 159.7ms\n",
      "Speed: 2.0ms pre-process, 159.7ms inference, 1.0ms postprocess per image at shape (1, 3, 640, 640)\n",
      "\n",
      "0: 352x640 11 cars, 6 buss, 1 truck, 161.6ms\n",
      "Speed: 1.0ms pre-process, 161.6ms inference, 2.4ms postprocess per image at shape (1, 3, 640, 640)\n",
      "\n",
      "0: 352x640 12 cars, 6 buss, 1 truck, 157.6ms\n",
      "Speed: 1.0ms pre-process, 157.6ms inference, 3.1ms postprocess per image at shape (1, 3, 640, 640)\n",
      "\n",
      "0: 352x640 12 cars, 5 buss, 1 truck, 201.4ms\n",
      "Speed: 1.0ms pre-process, 201.4ms inference, 3.3ms postprocess per image at shape (1, 3, 640, 640)\n",
      "\n",
      "0: 352x640 14 cars, 5 buss, 1 truck, 193.3ms\n",
      "Speed: 1.0ms pre-process, 193.3ms inference, 3.0ms postprocess per image at shape (1, 3, 640, 640)\n",
      "\n",
      "0: 352x640 1 person, 12 cars, 4 buss, 1 truck, 154.0ms\n",
      "Speed: 1.0ms pre-process, 154.0ms inference, 2.2ms postprocess per image at shape (1, 3, 640, 640)\n",
      "\n",
      "0: 352x640 1 person, 14 cars, 3 buss, 1 truck, 157.3ms\n",
      "Speed: 1.0ms pre-process, 157.3ms inference, 3.6ms postprocess per image at shape (1, 3, 640, 640)\n",
      "\n",
      "0: 352x640 1 person, 16 cars, 3 buss, 2 trucks, 172.4ms\n",
      "Speed: 2.1ms pre-process, 172.4ms inference, 2.1ms postprocess per image at shape (1, 3, 640, 640)\n",
      "\n",
      "0: 352x640 13 cars, 4 buss, 2 trucks, 206.1ms\n",
      "Speed: 2.0ms pre-process, 206.1ms inference, 4.0ms postprocess per image at shape (1, 3, 640, 640)\n",
      "\n",
      "0: 352x640 1 person, 14 cars, 3 buss, 1 truck, 198.3ms\n",
      "Speed: 2.0ms pre-process, 198.3ms inference, 2.4ms postprocess per image at shape (1, 3, 640, 640)\n",
      "\n",
      "0: 352x640 1 person, 11 cars, 3 buss, 1 truck, 173.5ms\n",
      "Speed: 1.0ms pre-process, 173.5ms inference, 1.7ms postprocess per image at shape (1, 3, 640, 640)\n",
      "\n",
      "0: 352x640 1 person, 11 cars, 5 buss, 1 truck, 157.7ms\n",
      "Speed: 1.0ms pre-process, 157.7ms inference, 1.1ms postprocess per image at shape (1, 3, 640, 640)\n",
      "\n",
      "0: 352x640 2 persons, 14 cars, 4 buss, 1 truck, 200.2ms\n",
      "Speed: 0.0ms pre-process, 200.2ms inference, 2.0ms postprocess per image at shape (1, 3, 640, 640)\n",
      "\n",
      "0: 352x640 2 persons, 12 cars, 5 buss, 161.8ms\n",
      "Speed: 1.0ms pre-process, 161.8ms inference, 2.1ms postprocess per image at shape (1, 3, 640, 640)\n",
      "\n",
      "0: 352x640 2 persons, 12 cars, 4 buss, 180.0ms\n",
      "Speed: 0.9ms pre-process, 180.0ms inference, 2.0ms postprocess per image at shape (1, 3, 640, 640)\n",
      "\n",
      "0: 352x640 2 persons, 15 cars, 4 buss, 145.1ms\n",
      "Speed: 1.0ms pre-process, 145.1ms inference, 2.0ms postprocess per image at shape (1, 3, 640, 640)\n",
      "\n",
      "0: 352x640 2 persons, 13 cars, 4 buss, 131.9ms\n",
      "Speed: 1.0ms pre-process, 131.9ms inference, 1.0ms postprocess per image at shape (1, 3, 640, 640)\n",
      "\n",
      "0: 352x640 2 persons, 12 cars, 3 buss, 1 truck, 151.0ms\n",
      "Speed: 1.0ms pre-process, 151.0ms inference, 1.0ms postprocess per image at shape (1, 3, 640, 640)\n",
      "\n",
      "0: 352x640 2 persons, 11 cars, 3 buss, 1 truck, 153.4ms\n",
      "Speed: 1.0ms pre-process, 153.4ms inference, 1.0ms postprocess per image at shape (1, 3, 640, 640)\n",
      "\n",
      "0: 352x640 2 persons, 12 cars, 3 buss, 1 truck, 138.4ms\n",
      "Speed: 1.1ms pre-process, 138.4ms inference, 3.0ms postprocess per image at shape (1, 3, 640, 640)\n",
      "\n",
      "0: 352x640 2 persons, 13 cars, 3 buss, 144.8ms\n",
      "Speed: 0.9ms pre-process, 144.8ms inference, 2.2ms postprocess per image at shape (1, 3, 640, 640)\n",
      "\n",
      "0: 352x640 1 person, 13 cars, 3 buss, 1 truck, 151.3ms\n",
      "Speed: 0.0ms pre-process, 151.3ms inference, 0.0ms postprocess per image at shape (1, 3, 640, 640)\n",
      "\n",
      "0: 352x640 2 persons, 12 cars, 2 buss, 1 truck, 159.6ms\n",
      "Speed: 1.0ms pre-process, 159.6ms inference, 2.0ms postprocess per image at shape (1, 3, 640, 640)\n",
      "\n",
      "0: 352x640 2 persons, 12 cars, 2 buss, 1 truck, 133.3ms\n",
      "Speed: 1.0ms pre-process, 133.3ms inference, 2.1ms postprocess per image at shape (1, 3, 640, 640)\n"
     ]
    }
   ],
   "source": [
    "# from ultralytics import YOLO\n",
    "# from IPython.display import display, Image\n",
    "# import cv2\n",
    "# import numpy as np\n",
    "# # from object_detection import ObjectDetection\n",
    "# import math\n",
    "# from sort import *\n",
    "\n",
    "classNames = [\"person\", \"bicycle\", \"car\", \"motorbike\", \"aeroplane\", \"bus\", \"train\", \"truck\", \"boat\",\n",
    "              \"traffic light\", \"fire hydrant\", \"stop sign\", \"parking meter\", \"bench\", \"bird\", \"cat\",\n",
    "              \"dog\", \"horse\", \"sheep\", \"cow\", \"elephant\", \"bear\", \"zebra\", \"giraffe\", \"backpack\", \"umbrella\",\n",
    "              \"handbag\", \"tie\", \"suitcase\", \"frisbee\", \"skis\", \"snowboard\", \"sports ball\", \"kite\", \"baseball bat\",\n",
    "              \"baseball glove\", \"skateboard\", \"surfboard\", \"tennis racket\", \"bottle\", \"wine glass\", \"cup\",\n",
    "              \"fork\", \"knife\", \"spoon\", \"bowl\", \"banana\", \"apple\", \"sandwich\", \"orange\", \"broccoli\",\n",
    "              \"carrot\", \"hot dog\", \"pizza\", \"donut\", \"cake\", \"chair\", \"sofa\", \"pottedplant\", \"bed\",\n",
    "              \"diningtable\", \"toilet\", \"tvmonitor\", \"laptop\", \"mouse\", \"remote\", \"keyboard\", \"cell phone\",\n",
    "              \"microwave\", \"oven\", \"toaster\", \"sink\", \"refrigerator\", \"book\", \"clock\", \"vase\", \"scissors\",\n",
    "              \"teddy bear\", \"hair drier\", \"toothbrush\"\n",
    "              ]\n",
    "\n",
    "def dist(P, A, B):\n",
    "    area = abs ( (A[0] - P[0]) * (B[1] - P[1]) - (A[1] - P[1]) * (B[0] - P[0]) )\n",
    "    AB = ( (A[0] - B[0]) ** 2 + (A[1] - B[1]) ** 2 ) ** 0.5\n",
    "    return ( area / AB )\n",
    "\n",
    "f1_A=(388,821)\n",
    "f1_B=(661,404) #distance 40\n",
    "\n",
    "f2_A=(582, 876) #id 194\n",
    "f2_B=(703, 415) #id 91 distance 30\n",
    "\n",
    "f3_A=(782, 865) #id 60\n",
    "f3_B=(743, 417) #id 30  distance 30\n",
    "\n",
    "f4_A=(999, 866) #id 105\n",
    "f4_B=(789, 417)  #id 85  distacne 30\n",
    "\n",
    "f5_A=(1183, 850) #id 4\n",
    "f5_B=(846, 429) #id 29 distance 30\n",
    "\n",
    "# Initialize Object Detection\n",
    "# od = ObjectDetection()\n",
    "model = YOLO('yolov8n.pt')\n",
    "cap = cv2.VideoCapture(\"2.mp4\")\n",
    "\n",
    "frameWidth = int(cap.get(cv2.CAP_PROP_FRAME_WIDTH))\t# 영상의 넓이(가로) 프레임\n",
    "frameHeight = int(cap.get(cv2.CAP_PROP_FRAME_HEIGHT))\t# 영상의 높이(세로) 프레임\n",
    "frame_size = (frameWidth, frameHeight)\n",
    "\n",
    "print(frame_size)\n",
    "# Initialize count\n",
    "count = 0\n",
    "center_points_prev_frame = []\n",
    "\n",
    "danger_car_id=[]\n",
    "\n",
    "tracking_objects = {}\n",
    "track_id = 0\n",
    "\n",
    "tracker = Sort(max_age=10, min_hits=3, iou_threshold=0.3)\n",
    "mask = cv2.imread(\"mask.png\")\n",
    "\n",
    "while True:\n",
    "    retval, frame = cap.read()\n",
    "    # imgRegion = cv2.bitwise_and(frame,mask)\n",
    "    count += 1\n",
    "    if not(retval):\n",
    "        break\n",
    "\n",
    "    # Point current frame\n",
    "    center_points_cur_frame = []\n",
    "\n",
    "    # Detect objects on frame\n",
    "    results = model(frame,stream=True)\n",
    "    detections = np.empty((0,5))\n",
    "    \n",
    "    for r in results:\n",
    "        boxes = r.boxes\n",
    "        for box in boxes:\n",
    "            x1, y1, x2, y2 = box.xyxy[0]\n",
    "            x1, y1, x2, y2 = int(x1), int(y1), int(x2), int(y2)\n",
    "            cx = int((x1+x2) / 2)\n",
    "            cy = int((y1+y2) / 2)\n",
    "            center_points_cur_frame.append((cx, cy, 'Danger!'))\n",
    "            conf = math.ceil((box.conf[0]*100)) / 100\n",
    "            cls = int(box.cls[0])\n",
    "            currentClass = classNames[cls]\n",
    "            #print(\"FRAME N°\", count, \" \", x, y, w, h)\n",
    "            # cv2.circle(frame, (cx, cy), 5, (0, 0, 255), -1)\n",
    "            if currentClass == \"car\" or currentClass == \"truck\" or currentClass == \"bus\" \\\n",
    "                    or currentClass == \"motorbike\" or currentClass == \"person\" and conf > 0.3:\n",
    "                cv2.rectangle(frame, (x1, y1), (x2,y2), (0, 255, 0), 2) \n",
    "                currentArray = np.array([x1,y1,x2,y2,conf])\n",
    "                detections = np.vstack((detections,currentArray))\n",
    "\n",
    "    # Only at the beginning we compare previous and current frame\n",
    "    \n",
    "\n",
    "    resultsTracker=tracker.update(detections)\n",
    "    \n",
    "    for result in resultsTracker:\n",
    "        x1,y1,x2,y2,Id = result\n",
    "        cx = int((x1+x2) / 2)\n",
    "        cy = int((y1+y2) / 2)\n",
    "        Id = int(Id)\n",
    "        # print(cx,cy,Id)\n",
    "                \n",
    "    # for object_id, pt in tracking_objects.items():\n",
    "        # if dist((cx,cy), f1_A, f1_B) < 30:\n",
    "        #     tracking_objects[Id]=(cx,cy,'f1')\n",
    "        \n",
    "        # elif dist((cx,cy), f2_A, f2_B) < 30:\n",
    "        #     tracking_objects[Id]=(cx,cy,'f2')\n",
    "            \n",
    "        # elif dist((cx,cy), f3_A, f3_B) < 30:\n",
    "        #     tracking_objects[Id]=(cx,cy,'f3')\n",
    "        \n",
    "        # elif dist((cx,cy), f4_A, f4_B) < 30:\n",
    "        #     tracking_objects[Id]=(cx,cy,'f4')\n",
    "        \n",
    "        # elif dist((cx,cy), f5_A, f5_B) < 30:\n",
    "        #     tracking_objects[Id]=(cx,cy,'f5')\n",
    "        \n",
    "        # else:\n",
    "        #     tracking_objects[Id]=(cx,cy,'Danger!')\n",
    "        \n",
    "            \n",
    "            \n",
    "    # for object_id, pt in tracking_objects.items():\n",
    "    #     tmp= pt[2]+'['+str(object_id)+']'\n",
    "    #     cv2.circle(frame, (pt[0],pt[1]), 5, (0, 0, 255), -1)\n",
    "    #     cv2.putText(frame, tmp, (pt[0], pt[1] - 7), 0, 0.8, (0, 0, 255), 2)\n",
    "        \n",
    "    #     if (pt[2]=='Danger!'):\n",
    "    #         danger_car_id.append(object_id)\n",
    "            \n",
    "                \n",
    "    \n",
    "    \n",
    "\n",
    "    # print(\"Tracking objects\")\n",
    "    # # print(tracking_objects)\n",
    "\n",
    "\n",
    "    # print(\"CUR FRAME LEFT PTS\")\n",
    "    # print(center_points_cur_frame)\n",
    "    \n",
    "#     cv2.circle(frame, (1,1), 5, (0, 0, 255), -1)\n",
    "    cv2.imshow(\"Frame\", frame)\n",
    "    # cv2.imshow(\"ImageFrame\",imgRegion)\n",
    "    # Make a copy of the points\n",
    "    center_points_prev_frame = center_points_cur_frame.copy()\n",
    "\n",
    "    key = cv2.waitKey(0)\n",
    "    if key == 27:\n",
    "        break\n",
    "\n",
    "\n",
    "\n",
    "cap.release()\n",
    "cv2.destroyAllWindows()\n"
   ]
  }
 ],
 "metadata": {
  "kernelspec": {
   "display_name": "base",
   "language": "python",
   "name": "python3"
  },
  "language_info": {
   "codemirror_mode": {
    "name": "ipython",
    "version": 3
   },
   "file_extension": ".py",
   "mimetype": "text/x-python",
   "name": "python",
   "nbconvert_exporter": "python",
   "pygments_lexer": "ipython3",
   "version": "3.10.9"
  }
 },
 "nbformat": 4,
 "nbformat_minor": 2
}
